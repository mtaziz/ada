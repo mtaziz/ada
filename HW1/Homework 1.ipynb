{
 "cells": [
  {
   "cell_type": "markdown",
   "metadata": {},
   "source": [
    "# Table of Contents\n",
    " <p><div class=\"lev1\"><a href=\"#Task-1.-Compiling-Ebola-Data\"><span class=\"toc-item-num\">Task 1.&nbsp;&nbsp;</span>Compiling Ebola Data</a></div>\n",
    " <div class=\"lev1\"><a href=\"#Task-2.-RNA-Sequences\"><span class=\"toc-item-num\">Task 2.&nbsp;&nbsp;</span>RNA Sequences</a></div>\n",
    " <div class=\"lev1\"><a href=\"#Task-3.-Class-War-in-Titanic\"><span class=\"toc-item-num\">Task 3.&nbsp;&nbsp;</span>Class War in Titanic</a></div></p>"
   ]
  },
  {
   "cell_type": "code",
   "execution_count": 535,
   "metadata": {
    "collapsed": true
   },
   "outputs": [],
   "source": [
    "DATA_FOLDER = 'Data' # Use the data folder provided in Tutorial 02 - Intro to Pandas."
   ]
  },
  {
   "cell_type": "code",
   "execution_count": 536,
   "metadata": {
    "collapsed": true
   },
   "outputs": [],
   "source": [
    "# Useful imports\n",
    "%matplotlib inline\n",
    "import pandas as pd\n",
    "import numpy as np\n",
    "import matplotlib.pyplot as plt\n",
    "import seaborn as sns\n",
    "import os #enable to read all files in doc automatically\n",
    "sns.set_context('notebook')"
   ]
  },
  {
   "cell_type": "markdown",
   "metadata": {},
   "source": [
    "## Task 1. Compiling Ebola Data\n",
    "\n",
    "The `DATA_FOLDER/ebola` folder contains summarized reports of Ebola cases from three countries (Guinea, Liberia and Sierra Leone) during the recent outbreak of the disease in West Africa. For each country, there are daily reports that contain various information about the outbreak in several cities in each country.\n",
    "\n",
    "Use pandas to import these data files into a single `Dataframe`.\n",
    "Using this `DataFrame`, calculate for *each country*, the *daily average per month* of *new cases* and *deaths*.\n",
    "Make sure you handle all the different expressions for *new cases* and *deaths* that are used in the reports."
   ]
  },
  {
   "cell_type": "markdown",
   "metadata": {},
   "source": [
    "# Answer Comentary:\n",
    "\n",
    "As all the csv files are structured in very different ways, and contain various types of parsing errors, we cleaned all data for each country individualy before merging it into one dataframe. <br/>\n",
    "\n",
    "General explination for all the steps:\n",
    "\n",
    "1. We import the relevant columns -that is date, the variable name descripting the numbers in the rows and total number of affected cases-  of data from each folder. \n",
    "\n",
    "2. We remove any duplicates along the 'variable/description' column (if we have two 'new death' rows in one file we just decided to drop the second one, the values aren't identical but similar enough. Alternatively we could have taken the mean of the values with the same description)\n",
    "\n",
    "3. We find the appropriate data rows in each file representing 'new cases' and 'new deaths' (we choose new deaths as we weren't 100% clear. However, it makes more sense to compare new cases with new deaths). Idealy, this would be just one row per file and type (case or death). However, in some countries total new cases/deaths aren't present. We then take the sum over the different types (suspected, probable and confirmed).\n",
    "\n",
    "4. In the Sierra Leone dataset, there is no variable directly counting the number of new deaths, which is why we took the difference between the total number of deaths between two assessment days. In theory, those two values should match up, but through tests we noticed that for our dataset this is not the case and the numbers are always slightly off (but not by a lot). The total number of deaths also decreases and has two two outlying spikes, which we remove as we assume that they are erroneous.\n",
    "\n",
    "5. We create a frame that has a column for the date, the number of deaths and the number of cases. We make sure that in the end we have one entry for deaths and cases per file, as if this not the case, we must have made a mistake in the way we treat the data.\n",
    "\n",
    "6. Plotting the data we notice that in Liberia we suddenly have a jump from ca 50 cases a day to +7000 a day-> someone must have made an error when writing the csv. We see that this value matches the total data from other days...and hence apply the same method used in 4. to get an approximation for the actual daliy values. We also note that there is no data given for 'new deaths' in the days of december. We could approximate those again by taking the differences in deaths for the month of decemeber, but this would require an extra DataFrame and extra manipulations (for data that is not that good of an approximation).\n",
    "\n",
    "7. For each country we create a column to specify the country (later to be transformed into multi-index) and set the value in the date column to the month\n",
    "\n",
    "8. We concatenate all the dataframes from all the countries and set the country as multi-index\n",
    "\n",
    "9. We group the dataframe by date (which is now equal to the month) and country, and calculate the mean.\n",
    "\n",
    "10. We now have the means daily means of new cases and deaths per country \n",
    "\n",
    "\n",
    "\n",
    "**N.B.** : For clarity, we will only comment the code for the 3 data cleaning parts once for steps that are repeated"
   ]
  },
  {
   "cell_type": "code",
   "execution_count": 537,
   "metadata": {
    "scrolled": true
   },
   "outputs": [
    {
     "name": "stdout",
     "output_type": "stream",
     "text": [
      "Getting all rows :  True\n"
     ]
    }
   ],
   "source": [
    "path = DATA_FOLDER + '/ebola/'\n",
    "\n",
    "#I procede to go through each folder, starting with Guinea\n",
    "guinea_frame = pd.DataFrame()\n",
    "\n",
    "for filename in os.listdir(path + 'guinea_data'):\n",
    "    frame = pd.read_csv(path + 'guinea_data/' + filename, parse_dates=['Date'],\n",
    "                        usecols = ['Date', 'Description', 'Totals']) #Keep only the 3 relevant colums\n",
    "    \n",
    "    #We are only interested in the New Deaths Registered or New Deaths Registered Today, the other lines are\n",
    "    #not relevant for our analysis\n",
    "    deaths = frame[[(d in 'New deaths registered') or (d in 'New deaths registered today') for d in frame.Description]\n",
    "                  ][['Date', 'Totals']]\n",
    "    deaths.columns = ['Date', 'Deaths'] #Renaming for convenience\n",
    "    \n",
    "    cases = frame[['Total new cases' in d for d in frame.Description]][['Date', 'Totals']]\n",
    "    cases.columns = ['Date', 'Cases'] #Renaming for convenience\n",
    "    \n",
    "    #Make sure that we get the same number of values per file (one row per date/csv file)\n",
    "    if(cases.shape != deaths.shape):\n",
    "        raise AssertionError \n",
    "    \n",
    "    total = pd.merge(deaths, cases, on='Date', how = 'inner')\n",
    "    guinea_frame = guinea_frame.append(total) #Aggregate all csv files\n",
    "\n",
    "guinea_frame['Country'] = 'Guinea'\n",
    "#Make sure we get some data from every document & we don't miss rows\n",
    "print('Getting all rows : ',\n",
    "      guinea_frame.Deaths.shape[0] == len(os.listdir(path + 'guinea_data')))"
   ]
  },
  {
   "cell_type": "markdown",
   "metadata": {},
   "source": [
    "The next part treats the data from Liberia. Overall, the transcription contains a lot of inconsistencies,\n",
    "which were adressed by treating cases seperately"
   ]
  },
  {
   "cell_type": "code",
   "execution_count": 538,
   "metadata": {},
   "outputs": [
    {
     "name": "stdout",
     "output_type": "stream",
     "text": [
      "Here we show the differences in mean between new deaths and total death1 - total death2 : \n",
      "         Deaths  Mean Deaths\n",
      "Date                        \n",
      "6      2.000000     5.500000\n",
      "7      4.272727     8.727273\n",
      "8     23.222222    82.222222\n",
      "9     37.608696    46.863636\n",
      "10    28.040000    26.173913\n",
      "11    15.538462  -101.615385\n",
      "12          NaN    14.777778\n",
      "Getting all rows :  True\n"
     ]
    }
   ],
   "source": [
    "liberia_frame = pd.DataFrame()\n",
    "\n",
    "tt = pd.DataFrame()\n",
    "\n",
    "for filename in os.listdir(path + 'liberia_data'):\n",
    "    frame = pd.read_csv(path + 'liberia_data/' + filename, parse_dates=['Date'],\n",
    "                       usecols=['Date', 'Variable', 'National'])\n",
    "    \n",
    "    #There is a csv containing duplicates on the variable columns\n",
    "    #As the values differ, I assumed that the first value is the correct one\n",
    "    frame = frame.drop_duplicates(subset='Variable') \n",
    "    \n",
    "    deaths = frame[[d in 'Newly reported deaths' for d in frame.Variable]][['Date', 'National']]\n",
    "    deaths.columns = ['Date', 'Deaths']\n",
    "    \n",
    "    ##to show the difference later....not using this in the actual dataframe\n",
    "    tt = tt.append(frame[['Total death/s in confirmed,' in d for d in frame.Variable]])\n",
    "    \n",
    "    #We get all 3 values of new cases (suspected, probable and confirmed) & sum them up\n",
    "    cases_int = frame[['New Case/s'.lower() in d.lower() for d in frame.Variable]][['Date', 'National']]  \n",
    "    cases_int.columns = ['Date', 'Cases']\n",
    "    cases = cases_int.groupby('Date', as_index = False)['Cases'].sum()\n",
    "    \n",
    "    if(cases.shape != deaths.shape):\n",
    "        raise AssertionError\n",
    "    \n",
    "    total = pd.merge(deaths, cases, on = 'Date', how = 'inner')  \n",
    "    liberia_frame = liberia_frame.append(total)\n",
    "    \n",
    "#In December, the total cases & new cases are exchanged and no values for the new cases are provided\n",
    "#We approximate those values by taking the difference of total values over multiple dates\n",
    "liberia_frame.loc[(liberia_frame.Cases > 1000 ),'Cases'] =\\\n",
    "    liberia_frame[[d > 1000 for d in liberia_frame.Cases]]['Cases'].diff(periods=1)\n",
    "\n",
    "liberia_frame['Country'] = 'Liberia'    \n",
    "\n",
    "\n",
    "#######calculating extra stuff####\n",
    "######just to show how dirty the data is D:\n",
    "tt['Mean Deaths'] = tt['National'].astype(float).diff(periods=1)\n",
    "\n",
    "total = pd.merge(liberia_frame, tt, on='Date')\n",
    "total[total.National < 0] = float('nan')\n",
    "total['Date'] = total['Date'].map(lambda x : x.month)\n",
    "\n",
    "print('Here we show the differences in mean between new deaths and total death1 - total death2 : ')\n",
    "print(total.groupby('Date').mean()[['Deaths', 'Mean Deaths']])\n",
    "\n",
    "print('Getting all rows : ' , \n",
    "      liberia_frame.Deaths.shape[0] == len(os.listdir(path + 'liberia_data')))"
   ]
  },
  {
   "cell_type": "markdown",
   "metadata": {},
   "source": [
    "The final part of data cleaning is dedicated to the Sierra Leone files"
   ]
  },
  {
   "cell_type": "code",
   "execution_count": 539,
   "metadata": {},
   "outputs": [
    {
     "name": "stdout",
     "output_type": "stream",
     "text": [
      "Getting all rows :  True\n"
     ]
    }
   ],
   "source": [
    "sl_frame = pd.DataFrame()\n",
    "\n",
    "for filename in os.listdir(path + 'sl_data'):\n",
    "    frame = pd.read_csv(path + 'sl_data/' + filename, parse_dates=['date'],\n",
    "                       usecols=['date', 'variable', 'National'])\n",
    "    \n",
    "    #These csv files do not count the number of new cases\n",
    "    #We find an approximate value by taking the difference between two consecutive days registered\n",
    "    deaths = frame[[d in ['death_suspected','death_probable','death_confirmed' ]\n",
    "                    for d in frame.variable]][['date', 'variable', 'National']]\n",
    "\n",
    "    deaths.National = deaths.National.astype(float) #Needed to deal well with nan values\n",
    "    deaths = deaths.groupby('date', as_index = False)['National'].sum() #Summing over 3 possible types of death\n",
    "    deaths.columns = ['Date', 'Total Deaths']\n",
    "    \n",
    "    cases = frame[[d in ['new_suspected','new_probable','new_confirmed' ]\n",
    "                    for d in frame.variable]][['date', 'variable', 'National']]\n",
    "    \n",
    "    cases.dropna(axis='rows') #Dealing with na values, needed for the next step\n",
    "    cases.National = cases.National.map(\n",
    "        lambda x: x if type(x) is float else x.replace(',', '')) #If the string contains ','; remove it\n",
    "    cases.National = cases.National.astype(float) #Needed to sum\n",
    "    cases = cases.groupby('date', as_index = False)['National'].sum()\n",
    "    cases.columns = ['Date', 'Cases']\n",
    "    \n",
    "    if(cases.shape != deaths.shape):\n",
    "        raise AssertionError\n",
    "    \n",
    "    total = pd.merge(deaths, cases, on = 'Date', how = 'inner')  \n",
    "    sl_frame = sl_frame.append(total) \n",
    "\n",
    "sl_frame.reset_index(drop = True, inplace = True)\n",
    "new_deaths = sl_frame['Total Deaths'].diff(periods=1) \n",
    "sl_frame['Deaths'] = new_deaths #Set the new deaths\n",
    "del sl_frame['Total Deaths'] #Drop the Total Deaths (not needed for our element)\n",
    "\n",
    "sl_frame.loc[((sl_frame.Deaths < 0)), 'Deaths'] = float('nan') #Clearly we can't have negative deaths\n",
    "sl_frame.loc[((sl_frame.Deaths > 200)), 'Deaths'] = float('nan')#We drop the strong outliers (2)\n",
    "\n",
    "sl_frame['Country'] = 'Sierra Leone'\n",
    "\n",
    "print('Getting all rows : ' , \n",
    "    sl_frame.Cases.shape[0] == len(os.listdir(path + 'sl_data')))"
   ]
  },
  {
   "cell_type": "markdown",
   "metadata": {},
   "source": [
    "Now that we have clean values for all three countries, we can easily put them together and calculate the means"
   ]
  },
  {
   "cell_type": "code",
   "execution_count": 540,
   "metadata": {
    "scrolled": true
   },
   "outputs": [
    {
     "data": {
      "text/html": [
       "<div>\n",
       "<style>\n",
       "    .dataframe thead tr:only-child th {\n",
       "        text-align: right;\n",
       "    }\n",
       "\n",
       "    .dataframe thead th {\n",
       "        text-align: left;\n",
       "    }\n",
       "\n",
       "    .dataframe tbody tr th {\n",
       "        vertical-align: top;\n",
       "    }\n",
       "</style>\n",
       "<table border=\"1\" class=\"dataframe\">\n",
       "  <thead>\n",
       "    <tr style=\"text-align: right;\">\n",
       "      <th></th>\n",
       "      <th></th>\n",
       "      <th>Deaths</th>\n",
       "      <th>Cases</th>\n",
       "    </tr>\n",
       "    <tr>\n",
       "      <th>Country</th>\n",
       "      <th>Date</th>\n",
       "      <th></th>\n",
       "      <th></th>\n",
       "    </tr>\n",
       "  </thead>\n",
       "  <tbody>\n",
       "    <tr>\n",
       "      <th rowspan=\"3\" valign=\"top\">Guinea</th>\n",
       "      <th>8</th>\n",
       "      <td>3.400000</td>\n",
       "      <td>25.800000</td>\n",
       "    </tr>\n",
       "    <tr>\n",
       "      <th>9</th>\n",
       "      <td>3.562500</td>\n",
       "      <td>19.625000</td>\n",
       "    </tr>\n",
       "    <tr>\n",
       "      <th>10</th>\n",
       "      <td>15.000000</td>\n",
       "      <td>34.000000</td>\n",
       "    </tr>\n",
       "    <tr>\n",
       "      <th rowspan=\"7\" valign=\"top\">Liberia</th>\n",
       "      <th>6</th>\n",
       "      <td>2.000000</td>\n",
       "      <td>5.714286</td>\n",
       "    </tr>\n",
       "    <tr>\n",
       "      <th>7</th>\n",
       "      <td>4.272727</td>\n",
       "      <td>8.545455</td>\n",
       "    </tr>\n",
       "    <tr>\n",
       "      <th>8</th>\n",
       "      <td>23.222222</td>\n",
       "      <td>37.222222</td>\n",
       "    </tr>\n",
       "    <tr>\n",
       "      <th>9</th>\n",
       "      <td>37.608696</td>\n",
       "      <td>63.833333</td>\n",
       "    </tr>\n",
       "    <tr>\n",
       "      <th>10</th>\n",
       "      <td>28.040000</td>\n",
       "      <td>45.560000</td>\n",
       "    </tr>\n",
       "    <tr>\n",
       "      <th>11</th>\n",
       "      <td>15.538462</td>\n",
       "      <td>26.466667</td>\n",
       "    </tr>\n",
       "    <tr>\n",
       "      <th>12</th>\n",
       "      <td>NaN</td>\n",
       "      <td>21.142857</td>\n",
       "    </tr>\n",
       "    <tr>\n",
       "      <th rowspan=\"5\" valign=\"top\">Sierra Leone</th>\n",
       "      <th>8</th>\n",
       "      <td>6.800000</td>\n",
       "      <td>27.944444</td>\n",
       "    </tr>\n",
       "    <tr>\n",
       "      <th>9</th>\n",
       "      <td>5.120000</td>\n",
       "      <td>43.703704</td>\n",
       "    </tr>\n",
       "    <tr>\n",
       "      <th>10</th>\n",
       "      <td>13.760000</td>\n",
       "      <td>70.928571</td>\n",
       "    </tr>\n",
       "    <tr>\n",
       "      <th>11</th>\n",
       "      <td>21.058824</td>\n",
       "      <td>83.157895</td>\n",
       "    </tr>\n",
       "    <tr>\n",
       "      <th>12</th>\n",
       "      <td>53.000000</td>\n",
       "      <td>68.333333</td>\n",
       "    </tr>\n",
       "  </tbody>\n",
       "</table>\n",
       "</div>"
      ],
      "text/plain": [
       "                      Deaths      Cases\n",
       "Country      Date                      \n",
       "Guinea       8      3.400000  25.800000\n",
       "             9      3.562500  19.625000\n",
       "             10    15.000000  34.000000\n",
       "Liberia      6      2.000000   5.714286\n",
       "             7      4.272727   8.545455\n",
       "             8     23.222222  37.222222\n",
       "             9     37.608696  63.833333\n",
       "             10    28.040000  45.560000\n",
       "             11    15.538462  26.466667\n",
       "             12          NaN  21.142857\n",
       "Sierra Leone 8      6.800000  27.944444\n",
       "             9      5.120000  43.703704\n",
       "             10    13.760000  70.928571\n",
       "             11    21.058824  83.157895\n",
       "             12    53.000000  68.333333"
      ]
     },
     "execution_count": 540,
     "metadata": {},
     "output_type": "execute_result"
    }
   ],
   "source": [
    "#MERGING ALL FRAMES\n",
    "ebola_deaths_cases = pd.concat([guinea_frame, liberia_frame, sl_frame]).reset_index(drop = True)\n",
    "ebola_deaths_cases['Date'] = ebola_deaths_cases['Date'].map(lambda x : x.month) ##change days to month\n",
    "ebola_deaths_cases.Deaths = ebola_deaths_cases.Deaths.astype(float)\n",
    "ebola_deaths_cases.Cases = ebola_deaths_cases.Cases.astype(float)\n",
    "means = ebola_deaths_cases.groupby(['Date', 'Country'], as_index = False)[['Deaths', 'Cases']].mean()\n",
    "\n",
    "#We are asked to calculate the means, we sort them for convenience\n",
    "means.sort_values(by='Country', ascending = 1).set_index(['Country', 'Date'])"
   ]
  },
  {
   "cell_type": "markdown",
   "metadata": {},
   "source": [
    "Some figures (for fun!) used to visualize our data and make sure the results are consistent. We can also see that new deaths and new cases seem correlated  ... this makes sense!"
   ]
  },
  {
   "cell_type": "code",
   "execution_count": 541,
   "metadata": {},
   "outputs": [
    {
     "data": {
      "text/plain": [
       "<matplotlib.axes._subplots.AxesSubplot at 0x135cac4a8>"
      ]
     },
     "execution_count": 541,
     "metadata": {},
     "output_type": "execute_result"
    },
    {
     "data": {
      "text/plain": [
       "<matplotlib.figure.Figure at 0x133a6a630>"
      ]
     },
     "metadata": {},
     "output_type": "display_data"
    },
    {
     "data": {
      "image/png": "[encoded data removed]",
      "text/plain": [
       "<matplotlib.figure.Figure at 0x135901390>"
      ]
     },
     "metadata": {},
     "output_type": "display_data"
    },
    {
     "data": {
      "image/png": "[encoded data removed]",
      "text/plain": [
       "<matplotlib.figure.Figure at 0x1356f9dd8>"
      ]
     },
     "metadata": {},
     "output_type": "display_data"
    },
    {
     "data": {
      "image/png": "[encoded data removed]",
      "text/plain": [
       "<matplotlib.figure.Figure at 0x135c059e8>"
      ]
     },
     "metadata": {},
     "output_type": "display_data"
    }
   ],
   "source": [
    "\n",
    "plt.figure();\n",
    "grouped_means = means.groupby('Country')\n",
    "grouped_means.get_group('Guinea').plot(x = 'Date', title = 'Guinea')\n",
    "grouped_means.get_group('Liberia').plot(x = 'Date', title = 'Liberia')\n",
    "grouped_means.get_group('Sierra Leone').plot(x = 'Date', title = 'Sierra Leone')"
   ]
  },
  {
   "cell_type": "markdown",
   "metadata": {},
   "source": [
    "BONUS answer: \n",
    "to make sure the 'cleaned' data makes sense (no negative deaths or cases etc.) I used a simple bar graphs to check at one glance"
   ]
  },
  {
   "cell_type": "code",
   "execution_count": 542,
   "metadata": {},
   "outputs": [
    {
     "data": {
      "text/plain": [
       "Country\n",
       "Guinea          Axes(0.125,0.125;0.775x0.755)\n",
       "Liberia         Axes(0.125,0.125;0.775x0.755)\n",
       "Sierra Leone    Axes(0.125,0.125;0.775x0.755)\n",
       "dtype: object"
      ]
     },
     "execution_count": 542,
     "metadata": {},
     "output_type": "execute_result"
    },
    {
     "data": {
      "image/png": "[encoded data removed]",
      "text/plain": [
       "<matplotlib.figure.Figure at 0x135668c88>"
      ]
     },
     "metadata": {},
     "output_type": "display_data"
    },
    {
     "data": {
      "image/png": "[encoded data removed]",
      "text/plain": [
       "<matplotlib.figure.Figure at 0x1360336d8>"
      ]
     },
     "metadata": {},
     "output_type": "display_data"
    },
    {
     "data": {
      "image/png": "[encoded data removed]",
      "text/plain": [
       "<matplotlib.figure.Figure at 0x1356bbeb8>"
      ]
     },
     "metadata": {},
     "output_type": "display_data"
    }
   ],
   "source": [
    "ebola_deaths_cases.groupby('Country').plot(x='Date', kind='bar')"
   ]
  },
  {
   "cell_type": "markdown",
   "metadata": {},
   "source": [
    "## Task 2. RNA Sequences\n",
    "\n",
    "In the `DATA_FOLDER/microbiome` subdirectory, there are 9 spreadsheets of microbiome data that was acquired from high-throughput RNA sequencing procedures, along with a 10<sup>th</sup> file that describes the content of each. \n",
    "\n",
    "Use pandas to import the first 9 spreadsheets into a single `DataFrame`.\n",
    "Then, add the metadata information from the 10<sup>th</sup> spreadsheet as columns in the combined `DataFrame`.\n",
    "Make sure that the final `DataFrame` has a unique index and all the `NaN` values have been replaced by the tag `unknown`."
   ]
  },
  {
   "cell_type": "markdown",
   "metadata": {},
   "source": [
    "# Answer Comentary:\n",
    "\n",
    "The idea for the first part of this exercise is to merge all the files and to name each column imported using the namefile (it will be easier to tag all columns using the barcode at the end)."
   ]
  },
  {
   "cell_type": "code",
   "execution_count": 543,
   "metadata": {},
   "outputs": [
    {
     "data": {
      "text/html": [
       "<div>\n",
       "<style>\n",
       "    .dataframe thead tr:only-child th {\n",
       "        text-align: right;\n",
       "    }\n",
       "\n",
       "    .dataframe thead th {\n",
       "        text-align: left;\n",
       "    }\n",
       "\n",
       "    .dataframe tbody tr th {\n",
       "        vertical-align: top;\n",
       "    }\n",
       "</style>\n",
       "<table border=\"1\" class=\"dataframe\">\n",
       "  <thead>\n",
       "    <tr style=\"text-align: right;\">\n",
       "      <th></th>\n",
       "      <th>MID1</th>\n",
       "      <th>MID2</th>\n",
       "      <th>MID3</th>\n",
       "      <th>MID4</th>\n",
       "      <th>MID5</th>\n",
       "      <th>MID6</th>\n",
       "      <th>MID7</th>\n",
       "      <th>MID8</th>\n",
       "      <th>MID9</th>\n",
       "    </tr>\n",
       "    <tr>\n",
       "      <th>Taxon</th>\n",
       "      <th></th>\n",
       "      <th></th>\n",
       "      <th></th>\n",
       "      <th></th>\n",
       "      <th></th>\n",
       "      <th></th>\n",
       "      <th></th>\n",
       "      <th></th>\n",
       "      <th></th>\n",
       "    </tr>\n",
       "  </thead>\n",
       "  <tbody>\n",
       "    <tr>\n",
       "      <th>Archaea \"Crenarchaeota\" Thermoprotei Acidilobales Acidilobaceae Acidilobus</th>\n",
       "      <td>NaN</td>\n",
       "      <td>2.0</td>\n",
       "      <td>1.0</td>\n",
       "      <td>NaN</td>\n",
       "      <td>5.0</td>\n",
       "      <td>NaN</td>\n",
       "      <td>NaN</td>\n",
       "      <td>NaN</td>\n",
       "      <td>NaN</td>\n",
       "    </tr>\n",
       "    <tr>\n",
       "      <th>Archaea \"Crenarchaeota\" Thermoprotei Acidilobales Caldisphaeraceae Caldisphaera</th>\n",
       "      <td>NaN</td>\n",
       "      <td>14.0</td>\n",
       "      <td>15.0</td>\n",
       "      <td>NaN</td>\n",
       "      <td>26.0</td>\n",
       "      <td>NaN</td>\n",
       "      <td>1.0</td>\n",
       "      <td>NaN</td>\n",
       "      <td>1.0</td>\n",
       "    </tr>\n",
       "    <tr>\n",
       "      <th>Archaea \"Crenarchaeota\" Thermoprotei Desulfurococcales Desulfurococcaceae Ignisphaera</th>\n",
       "      <td>7.0</td>\n",
       "      <td>23.0</td>\n",
       "      <td>14.0</td>\n",
       "      <td>2.0</td>\n",
       "      <td>28.0</td>\n",
       "      <td>7.0</td>\n",
       "      <td>8.0</td>\n",
       "      <td>NaN</td>\n",
       "      <td>16.0</td>\n",
       "    </tr>\n",
       "    <tr>\n",
       "      <th>Archaea \"Crenarchaeota\" Thermoprotei Desulfurococcales Desulfurococcaceae Stetteria</th>\n",
       "      <td>NaN</td>\n",
       "      <td>NaN</td>\n",
       "      <td>NaN</td>\n",
       "      <td>NaN</td>\n",
       "      <td>1.0</td>\n",
       "      <td>NaN</td>\n",
       "      <td>NaN</td>\n",
       "      <td>NaN</td>\n",
       "      <td>NaN</td>\n",
       "    </tr>\n",
       "    <tr>\n",
       "      <th>Archaea \"Crenarchaeota\" Thermoprotei Desulfurococcales Desulfurococcaceae Sulfophobococcus</th>\n",
       "      <td>NaN</td>\n",
       "      <td>1.0</td>\n",
       "      <td>4.0</td>\n",
       "      <td>NaN</td>\n",
       "      <td>5.0</td>\n",
       "      <td>1.0</td>\n",
       "      <td>2.0</td>\n",
       "      <td>NaN</td>\n",
       "      <td>2.0</td>\n",
       "    </tr>\n",
       "  </tbody>\n",
       "</table>\n",
       "</div>"
      ],
      "text/plain": [
       "                                                    MID1  MID2  MID3  MID4  \\\n",
       "Taxon                                                                        \n",
       "Archaea \"Crenarchaeota\" Thermoprotei Acidilobal...   NaN   2.0   1.0   NaN   \n",
       "Archaea \"Crenarchaeota\" Thermoprotei Acidilobal...   NaN  14.0  15.0   NaN   \n",
       "Archaea \"Crenarchaeota\" Thermoprotei Desulfuroc...   7.0  23.0  14.0   2.0   \n",
       "Archaea \"Crenarchaeota\" Thermoprotei Desulfuroc...   NaN   NaN   NaN   NaN   \n",
       "Archaea \"Crenarchaeota\" Thermoprotei Desulfuroc...   NaN   1.0   4.0   NaN   \n",
       "\n",
       "                                                    MID5  MID6  MID7  MID8  \\\n",
       "Taxon                                                                        \n",
       "Archaea \"Crenarchaeota\" Thermoprotei Acidilobal...   5.0   NaN   NaN   NaN   \n",
       "Archaea \"Crenarchaeota\" Thermoprotei Acidilobal...  26.0   NaN   1.0   NaN   \n",
       "Archaea \"Crenarchaeota\" Thermoprotei Desulfuroc...  28.0   7.0   8.0   NaN   \n",
       "Archaea \"Crenarchaeota\" Thermoprotei Desulfuroc...   1.0   NaN   NaN   NaN   \n",
       "Archaea \"Crenarchaeota\" Thermoprotei Desulfuroc...   5.0   1.0   2.0   NaN   \n",
       "\n",
       "                                                    MID9  \n",
       "Taxon                                                     \n",
       "Archaea \"Crenarchaeota\" Thermoprotei Acidilobal...   NaN  \n",
       "Archaea \"Crenarchaeota\" Thermoprotei Acidilobal...   1.0  \n",
       "Archaea \"Crenarchaeota\" Thermoprotei Desulfuroc...  16.0  \n",
       "Archaea \"Crenarchaeota\" Thermoprotei Desulfuroc...   NaN  \n",
       "Archaea \"Crenarchaeota\" Thermoprotei Desulfuroc...   2.0  "
      ]
     },
     "execution_count": 543,
     "metadata": {},
     "output_type": "execute_result"
    }
   ],
   "source": [
    "aggregated_frame = pd.DataFrame() # Creation of the aggregate (as in the exercises)\n",
    "aggregated_frame.index.name = 'Taxon' # Tagging the index to be able to join the frames\n",
    "\n",
    "for i in range(1, 10):\n",
    "    filename = 'MID' + str(i) # Defined as a variable to be able to tag the columns\n",
    "    temp_frame = pd.read_excel(DATA_FOLDER + '/microbiome/' + filename + '.xls','Sheet 1', index_col=0, header=None)\n",
    "    temp_frame.columns = [filename]\n",
    "    temp_frame.index.name = 'Taxon'\n",
    "    aggregated_frame = aggregated_frame.join(temp_frame, how='outer') #Joining frames\n",
    "    \n",
    "aggregated_frame.head() #Show intermediate DataFrame"
   ]
  },
  {
   "cell_type": "markdown",
   "metadata": {},
   "source": [
    "In the second part, we import the Metadata (and clean it) before merging it in the third part"
   ]
  },
  {
   "cell_type": "code",
   "execution_count": 544,
   "metadata": {},
   "outputs": [
    {
     "data": {
      "text/html": [
       "<div>\n",
       "<style>\n",
       "    .dataframe thead tr:only-child th {\n",
       "        text-align: right;\n",
       "    }\n",
       "\n",
       "    .dataframe thead th {\n",
       "        text-align: left;\n",
       "    }\n",
       "\n",
       "    .dataframe tbody tr th {\n",
       "        vertical-align: top;\n",
       "    }\n",
       "</style>\n",
       "<table border=\"1\" class=\"dataframe\">\n",
       "  <thead>\n",
       "    <tr style=\"text-align: right;\">\n",
       "      <th></th>\n",
       "      <th>GROUP</th>\n",
       "      <th>SAMPLE</th>\n",
       "    </tr>\n",
       "    <tr>\n",
       "      <th>BARCODE</th>\n",
       "      <th></th>\n",
       "      <th></th>\n",
       "    </tr>\n",
       "  </thead>\n",
       "  <tbody>\n",
       "    <tr>\n",
       "      <th>MID1</th>\n",
       "      <td>EXTRACTION CONTROL</td>\n",
       "      <td>NA</td>\n",
       "    </tr>\n",
       "    <tr>\n",
       "      <th>MID2</th>\n",
       "      <td>NEC 1</td>\n",
       "      <td>tissue</td>\n",
       "    </tr>\n",
       "    <tr>\n",
       "      <th>MID3</th>\n",
       "      <td>Control 1</td>\n",
       "      <td>tissue</td>\n",
       "    </tr>\n",
       "    <tr>\n",
       "      <th>MID4</th>\n",
       "      <td>NEC 2</td>\n",
       "      <td>tissue</td>\n",
       "    </tr>\n",
       "    <tr>\n",
       "      <th>MID5</th>\n",
       "      <td>Control 2</td>\n",
       "      <td>tissue</td>\n",
       "    </tr>\n",
       "    <tr>\n",
       "      <th>MID6</th>\n",
       "      <td>NEC 1</td>\n",
       "      <td>stool</td>\n",
       "    </tr>\n",
       "    <tr>\n",
       "      <th>MID7</th>\n",
       "      <td>Control 1</td>\n",
       "      <td>stool</td>\n",
       "    </tr>\n",
       "    <tr>\n",
       "      <th>MID8</th>\n",
       "      <td>NEC 2</td>\n",
       "      <td>stool</td>\n",
       "    </tr>\n",
       "    <tr>\n",
       "      <th>MID9</th>\n",
       "      <td>Control 2</td>\n",
       "      <td>stool</td>\n",
       "    </tr>\n",
       "  </tbody>\n",
       "</table>\n",
       "</div>"
      ],
      "text/plain": [
       "                      GROUP  SAMPLE\n",
       "BARCODE                            \n",
       "MID1     EXTRACTION CONTROL      NA\n",
       "MID2                  NEC 1  tissue\n",
       "MID3              Control 1  tissue\n",
       "MID4                  NEC 2  tissue\n",
       "MID5              Control 2  tissue\n",
       "MID6                  NEC 1   stool\n",
       "MID7              Control 1   stool\n",
       "MID8                  NEC 2   stool\n",
       "MID9              Control 2   stool"
      ]
     },
     "execution_count": 544,
     "metadata": {},
     "output_type": "execute_result"
    }
   ],
   "source": [
    "metadata = pd.read_excel(DATA_FOLDER + '/microbiome/metadata.xls','Sheet1', index_col=0)\n",
    "metadata = metadata.fillna('NA') #As the 'NA' is translated to 'NaN', we decided to name 'NA' as to differentiate it\n",
    "                                    #from the unknown objects and stick with the metadata\n",
    "metadata"
   ]
  },
  {
   "cell_type": "markdown",
   "metadata": {},
   "source": [
    "In the final part, we group the elements by the values given in the metadata file and replace the NaN values"
   ]
  },
  {
   "cell_type": "code",
   "execution_count": 545,
   "metadata": {
    "scrolled": false
   },
   "outputs": [
    {
     "data": {
      "text/html": [
       "<div>\n",
       "<style>\n",
       "    .dataframe thead tr:only-child th {\n",
       "        text-align: right;\n",
       "    }\n",
       "\n",
       "    .dataframe thead th {\n",
       "        text-align: left;\n",
       "    }\n",
       "\n",
       "    .dataframe tbody tr th {\n",
       "        vertical-align: top;\n",
       "    }\n",
       "</style>\n",
       "<table border=\"1\" class=\"dataframe\">\n",
       "  <thead>\n",
       "    <tr>\n",
       "      <th>SAMPLE</th>\n",
       "      <th>NA</th>\n",
       "      <th colspan=\"4\" halign=\"left\">tissue</th>\n",
       "      <th colspan=\"4\" halign=\"left\">stool</th>\n",
       "    </tr>\n",
       "    <tr>\n",
       "      <th>GROUP</th>\n",
       "      <th>EXTRACTION CONTROL</th>\n",
       "      <th>NEC 1</th>\n",
       "      <th>Control 1</th>\n",
       "      <th>NEC 2</th>\n",
       "      <th>Control 2</th>\n",
       "      <th>NEC 1</th>\n",
       "      <th>Control 1</th>\n",
       "      <th>NEC 2</th>\n",
       "      <th>Control 2</th>\n",
       "    </tr>\n",
       "  </thead>\n",
       "  <tbody>\n",
       "    <tr>\n",
       "      <th>Archaea \"Crenarchaeota\" Thermoprotei Acidilobales Acidilobaceae Acidilobus</th>\n",
       "      <td>unknown</td>\n",
       "      <td>2</td>\n",
       "      <td>1</td>\n",
       "      <td>unknown</td>\n",
       "      <td>5</td>\n",
       "      <td>unknown</td>\n",
       "      <td>unknown</td>\n",
       "      <td>unknown</td>\n",
       "      <td>unknown</td>\n",
       "    </tr>\n",
       "    <tr>\n",
       "      <th>Archaea \"Crenarchaeota\" Thermoprotei Acidilobales Caldisphaeraceae Caldisphaera</th>\n",
       "      <td>unknown</td>\n",
       "      <td>14</td>\n",
       "      <td>15</td>\n",
       "      <td>unknown</td>\n",
       "      <td>26</td>\n",
       "      <td>unknown</td>\n",
       "      <td>1</td>\n",
       "      <td>unknown</td>\n",
       "      <td>1</td>\n",
       "    </tr>\n",
       "    <tr>\n",
       "      <th>Archaea \"Crenarchaeota\" Thermoprotei Desulfurococcales Desulfurococcaceae Ignisphaera</th>\n",
       "      <td>7</td>\n",
       "      <td>23</td>\n",
       "      <td>14</td>\n",
       "      <td>2</td>\n",
       "      <td>28</td>\n",
       "      <td>7</td>\n",
       "      <td>8</td>\n",
       "      <td>unknown</td>\n",
       "      <td>16</td>\n",
       "    </tr>\n",
       "    <tr>\n",
       "      <th>Archaea \"Crenarchaeota\" Thermoprotei Desulfurococcales Desulfurococcaceae Stetteria</th>\n",
       "      <td>unknown</td>\n",
       "      <td>unknown</td>\n",
       "      <td>unknown</td>\n",
       "      <td>unknown</td>\n",
       "      <td>1</td>\n",
       "      <td>unknown</td>\n",
       "      <td>unknown</td>\n",
       "      <td>unknown</td>\n",
       "      <td>unknown</td>\n",
       "    </tr>\n",
       "    <tr>\n",
       "      <th>Archaea \"Crenarchaeota\" Thermoprotei Desulfurococcales Desulfurococcaceae Sulfophobococcus</th>\n",
       "      <td>unknown</td>\n",
       "      <td>1</td>\n",
       "      <td>4</td>\n",
       "      <td>unknown</td>\n",
       "      <td>5</td>\n",
       "      <td>1</td>\n",
       "      <td>2</td>\n",
       "      <td>unknown</td>\n",
       "      <td>2</td>\n",
       "    </tr>\n",
       "  </tbody>\n",
       "</table>\n",
       "</div>"
      ],
      "text/plain": [
       "SAMPLE                                                             NA  \\\n",
       "GROUP                                              EXTRACTION CONTROL   \n",
       "Archaea \"Crenarchaeota\" Thermoprotei Acidilobal...            unknown   \n",
       "Archaea \"Crenarchaeota\" Thermoprotei Acidilobal...            unknown   \n",
       "Archaea \"Crenarchaeota\" Thermoprotei Desulfuroc...                  7   \n",
       "Archaea \"Crenarchaeota\" Thermoprotei Desulfuroc...            unknown   \n",
       "Archaea \"Crenarchaeota\" Thermoprotei Desulfuroc...            unknown   \n",
       "\n",
       "SAMPLE                                               tissue            \\\n",
       "GROUP                                                 NEC 1 Control 1   \n",
       "Archaea \"Crenarchaeota\" Thermoprotei Acidilobal...        2         1   \n",
       "Archaea \"Crenarchaeota\" Thermoprotei Acidilobal...       14        15   \n",
       "Archaea \"Crenarchaeota\" Thermoprotei Desulfuroc...       23        14   \n",
       "Archaea \"Crenarchaeota\" Thermoprotei Desulfuroc...  unknown   unknown   \n",
       "Archaea \"Crenarchaeota\" Thermoprotei Desulfuroc...        1         4   \n",
       "\n",
       "SAMPLE                                                                 \\\n",
       "GROUP                                                 NEC 2 Control 2   \n",
       "Archaea \"Crenarchaeota\" Thermoprotei Acidilobal...  unknown         5   \n",
       "Archaea \"Crenarchaeota\" Thermoprotei Acidilobal...  unknown        26   \n",
       "Archaea \"Crenarchaeota\" Thermoprotei Desulfuroc...        2        28   \n",
       "Archaea \"Crenarchaeota\" Thermoprotei Desulfuroc...  unknown         1   \n",
       "Archaea \"Crenarchaeota\" Thermoprotei Desulfuroc...  unknown         5   \n",
       "\n",
       "SAMPLE                                                stool            \\\n",
       "GROUP                                                 NEC 1 Control 1   \n",
       "Archaea \"Crenarchaeota\" Thermoprotei Acidilobal...  unknown   unknown   \n",
       "Archaea \"Crenarchaeota\" Thermoprotei Acidilobal...  unknown         1   \n",
       "Archaea \"Crenarchaeota\" Thermoprotei Desulfuroc...        7         8   \n",
       "Archaea \"Crenarchaeota\" Thermoprotei Desulfuroc...  unknown   unknown   \n",
       "Archaea \"Crenarchaeota\" Thermoprotei Desulfuroc...        1         2   \n",
       "\n",
       "SAMPLE                                                                 \n",
       "GROUP                                                 NEC 2 Control 2  \n",
       "Archaea \"Crenarchaeota\" Thermoprotei Acidilobal...  unknown   unknown  \n",
       "Archaea \"Crenarchaeota\" Thermoprotei Acidilobal...  unknown         1  \n",
       "Archaea \"Crenarchaeota\" Thermoprotei Desulfuroc...  unknown        16  \n",
       "Archaea \"Crenarchaeota\" Thermoprotei Desulfuroc...  unknown   unknown  \n",
       "Archaea \"Crenarchaeota\" Thermoprotei Desulfuroc...  unknown         2  "
      ]
     },
     "execution_count": 545,
     "metadata": {},
     "output_type": "execute_result"
    }
   ],
   "source": [
    "aggregated_frame = aggregated_frame.T.join(metadata) #Allows us to easily join with metadata\n",
    "final_frame = aggregated_frame.set_index(['SAMPLE', 'GROUP']).T #We group the elements and obtain the desired shape\n",
    "final_frame = final_frame.fillna('unknown') #This is the last step as required\n",
    "final_frame.head() #Display part of final frame"
   ]
  },
  {
   "cell_type": "code",
   "execution_count": 546,
   "metadata": {},
   "outputs": [
    {
     "data": {
      "text/plain": [
       "True"
      ]
     },
     "execution_count": 546,
     "metadata": {},
     "output_type": "execute_result"
    }
   ],
   "source": [
    "#as required the index is unique\n",
    "final_frame.index.is_unique"
   ]
  },
  {
   "cell_type": "markdown",
   "metadata": {},
   "source": [
    "### Notes:\n",
    "\n",
    "1. Instead of iterating on the indexes each file, we could use the barcode of the metadata to iterate over each file and give the possibility to add more files without having to change the code\n",
    "2. We did not know if we should have tagged the 'NA' value in the SAMPLE column as 'unkwown' or if we should have kept the name, so we decided to stick with the name\n",
    "3. To group the elements, we thought it best to define the SAMPLE as the supergroup as it contained more columns than the GROUP (easier visualization), but it is easy to change them and order them according to each group.\n",
    "4. If there is an error on a field in this question, please just reload the frames above before the error and try again."
   ]
  },
  {
   "cell_type": "markdown",
   "metadata": {},
   "source": [
    "## Task 3. Class War in Titanic\n",
    "\n",
    "Use pandas to import the data file `Data/titanic.xls`. It contains data on all the passengers that travelled on the Titanic."
   ]
  },
  {
   "cell_type": "code",
   "execution_count": 547,
   "metadata": {
    "scrolled": true
   },
   "outputs": [
    {
     "data": {
      "text/html": [
       "<div>\n",
       "<style>\n",
       "    .dataframe thead tr:only-child th {\n",
       "        text-align: right;\n",
       "    }\n",
       "\n",
       "    .dataframe thead th {\n",
       "        text-align: left;\n",
       "    }\n",
       "\n",
       "    .dataframe tbody tr th {\n",
       "        vertical-align: top;\n",
       "    }\n",
       "</style>\n",
       "<table border=\"1\" class=\"dataframe\">\n",
       "  <thead>\n",
       "    <tr style=\"text-align: right;\">\n",
       "      <th></th>\n",
       "      <th>pclass</th>\n",
       "      <th>survived</th>\n",
       "      <th>name</th>\n",
       "      <th>sex</th>\n",
       "      <th>age</th>\n",
       "      <th>sibsp</th>\n",
       "      <th>parch</th>\n",
       "      <th>ticket</th>\n",
       "      <th>fare</th>\n",
       "      <th>cabin</th>\n",
       "      <th>embarked</th>\n",
       "      <th>boat</th>\n",
       "      <th>body</th>\n",
       "      <th>home.dest</th>\n",
       "    </tr>\n",
       "  </thead>\n",
       "  <tbody>\n",
       "    <tr>\n",
       "      <th>0</th>\n",
       "      <td>1</td>\n",
       "      <td>1</td>\n",
       "      <td>Allen, Miss. Elisabeth Walton</td>\n",
       "      <td>female</td>\n",
       "      <td>29.0000</td>\n",
       "      <td>0</td>\n",
       "      <td>0</td>\n",
       "      <td>24160</td>\n",
       "      <td>211.3375</td>\n",
       "      <td>B5</td>\n",
       "      <td>S</td>\n",
       "      <td>2</td>\n",
       "      <td>NaN</td>\n",
       "      <td>St Louis, MO</td>\n",
       "    </tr>\n",
       "    <tr>\n",
       "      <th>1</th>\n",
       "      <td>1</td>\n",
       "      <td>1</td>\n",
       "      <td>Allison, Master. Hudson Trevor</td>\n",
       "      <td>male</td>\n",
       "      <td>0.9167</td>\n",
       "      <td>1</td>\n",
       "      <td>2</td>\n",
       "      <td>113781</td>\n",
       "      <td>151.5500</td>\n",
       "      <td>C22 C26</td>\n",
       "      <td>S</td>\n",
       "      <td>11</td>\n",
       "      <td>NaN</td>\n",
       "      <td>Montreal, PQ / Chesterville, ON</td>\n",
       "    </tr>\n",
       "    <tr>\n",
       "      <th>2</th>\n",
       "      <td>1</td>\n",
       "      <td>0</td>\n",
       "      <td>Allison, Miss. Helen Loraine</td>\n",
       "      <td>female</td>\n",
       "      <td>2.0000</td>\n",
       "      <td>1</td>\n",
       "      <td>2</td>\n",
       "      <td>113781</td>\n",
       "      <td>151.5500</td>\n",
       "      <td>C22 C26</td>\n",
       "      <td>S</td>\n",
       "      <td>NaN</td>\n",
       "      <td>NaN</td>\n",
       "      <td>Montreal, PQ / Chesterville, ON</td>\n",
       "    </tr>\n",
       "    <tr>\n",
       "      <th>3</th>\n",
       "      <td>1</td>\n",
       "      <td>0</td>\n",
       "      <td>Allison, Mr. Hudson Joshua Creighton</td>\n",
       "      <td>male</td>\n",
       "      <td>30.0000</td>\n",
       "      <td>1</td>\n",
       "      <td>2</td>\n",
       "      <td>113781</td>\n",
       "      <td>151.5500</td>\n",
       "      <td>C22 C26</td>\n",
       "      <td>S</td>\n",
       "      <td>NaN</td>\n",
       "      <td>135.0</td>\n",
       "      <td>Montreal, PQ / Chesterville, ON</td>\n",
       "    </tr>\n",
       "    <tr>\n",
       "      <th>4</th>\n",
       "      <td>1</td>\n",
       "      <td>0</td>\n",
       "      <td>Allison, Mrs. Hudson J C (Bessie Waldo Daniels)</td>\n",
       "      <td>female</td>\n",
       "      <td>25.0000</td>\n",
       "      <td>1</td>\n",
       "      <td>2</td>\n",
       "      <td>113781</td>\n",
       "      <td>151.5500</td>\n",
       "      <td>C22 C26</td>\n",
       "      <td>S</td>\n",
       "      <td>NaN</td>\n",
       "      <td>NaN</td>\n",
       "      <td>Montreal, PQ / Chesterville, ON</td>\n",
       "    </tr>\n",
       "  </tbody>\n",
       "</table>\n",
       "</div>"
      ],
      "text/plain": [
       "   pclass  survived                                             name     sex  \\\n",
       "0       1         1                    Allen, Miss. Elisabeth Walton  female   \n",
       "1       1         1                   Allison, Master. Hudson Trevor    male   \n",
       "2       1         0                     Allison, Miss. Helen Loraine  female   \n",
       "3       1         0             Allison, Mr. Hudson Joshua Creighton    male   \n",
       "4       1         0  Allison, Mrs. Hudson J C (Bessie Waldo Daniels)  female   \n",
       "\n",
       "       age  sibsp  parch  ticket      fare    cabin embarked boat   body  \\\n",
       "0  29.0000      0      0   24160  211.3375       B5        S    2    NaN   \n",
       "1   0.9167      1      2  113781  151.5500  C22 C26        S   11    NaN   \n",
       "2   2.0000      1      2  113781  151.5500  C22 C26        S  NaN    NaN   \n",
       "3  30.0000      1      2  113781  151.5500  C22 C26        S  NaN  135.0   \n",
       "4  25.0000      1      2  113781  151.5500  C22 C26        S  NaN    NaN   \n",
       "\n",
       "                         home.dest  \n",
       "0                     St Louis, MO  \n",
       "1  Montreal, PQ / Chesterville, ON  \n",
       "2  Montreal, PQ / Chesterville, ON  \n",
       "3  Montreal, PQ / Chesterville, ON  \n",
       "4  Montreal, PQ / Chesterville, ON  "
      ]
     },
     "execution_count": 547,
     "metadata": {},
     "output_type": "execute_result"
    }
   ],
   "source": [
    "from IPython.core.display import HTML\n",
    "HTML(filename=DATA_FOLDER+'/titanic.html')\n",
    "\n",
    "# Importing the xls file\n",
    "titanicXls = pd.read_excel(DATA_FOLDER+'/titanic.xls', header=0)\n",
    "# See what the data looks like\n",
    "titanicXls.head()"
   ]
  },
  {
   "cell_type": "markdown",
   "metadata": {},
   "source": [
    "For each of the following questions state clearly your assumptions and discuss your findings:\n",
    "1. Describe the *type* and the *value range* of each attribute. Indicate and transform the attributes that can be `Categorical`. \n",
    "2. Plot histograms for the *travel class*, *embarkation port*, *sex* and *age* attributes. For the latter one, use *discrete decade intervals*. \n",
    "3. Calculate the proportion of passengers by *cabin floor*. Present your results in a *pie chart*.\n",
    "4. For each *travel class*, calculate the proportion of the passengers that survived. Present your results in *pie charts*.\n",
    "5. Calculate the proportion of the passengers that survived by *travel class* and *sex*. Present your results in *a single histogram*.\n",
    "6. Create 2 equally populated *age categories* and calculate survival proportions by *age category*, *travel class* and *sex*. Present your results in a `DataFrame` with unique index."
   ]
  },
  {
   "cell_type": "markdown",
   "metadata": {},
   "source": [
    "- Describe the *type* and the *value range* of each attribute. Indicate and transform the attributes that can be `Categorical`. "
   ]
  },
  {
   "cell_type": "markdown",
   "metadata": {
    "collapsed": true
   },
   "source": [
    "## Answers\n",
    "\n",
    "**<font color=blue>For question 1:</font>**\n",
    "\n",
    "Let's go in order for each column :\n",
    "0. Pclass is the level they were on: either first, second or third class [1, 2, 3].\n",
    "1. Survived, which can take either 0 or 1 (so yes or no).\n",
    "2. Name which can take any string. Begins with a last name, then a comma, than the title (Miss, Mr. Master...) and the first name(s).\n",
    "3. Sex, which can be either male or female.\n",
    "4. Age, which can take any number (double).\n",
    "5. Sibsp is the number of siblings aboard of the titanic and can take any integer.\n",
    "6. Parch is the number of parents aboard of the titanic and can take any integer.\n",
    "7. Ticket which is the ticket number. Can take any integer, sometimes preceded with letters. Several members of a same family can share one.\n",
    "8. Fare, which is the amount paid for the ticket (double). Defacto fixied pricing, but as one person can pay for multiple tickets, there is no fixed number of categories.\n",
    "9. Cabin which contains the cabin letter and number. Can have several of them per entry.\n",
    "10. Embarked is where someone has embarked and can take the initials S, C or Q.\n",
    "11. Boat which is the escape boat they were on. Can either be an integer, a character, a mix of both or NaN (usually if survived = 0).\n",
    "12. Body which is either a number or NaN. Represent if the body was found and if it was, which number (body indentification number) it was. \n",
    "13. Home.dest is the destination there were going to. Can take any string (addresses).\n",
    "(Note that all these informations can be found in the html file).\n",
    "\n",
    "\n",
    "\n",
    "We first answer using the statistical meaning of categorical variable. \\*Pandas uses a slightly different definition than the general meaning, where categorical data can be ordered.\n",
    "\n",
    "We can determine which attributes are *Categorical* knowing that they are anything with a fixed number of categories that do not have an intrinsic ordering.\n",
    "Thus, clearly <font color='red'>pclass, survived, sex, cabin, embarked and boat</font> are all categorical.\n",
    "<font color='blue'>Cabin</font> has many distinct values, thus it may not be ideal to transform it into categorical data for so little rows.\n",
    "\n",
    "Home.dest could be considered to be categorical in certain circumstances (all people come from a certain fixed number of towns). However, it does not make much sense to transform this variable in our case, as there are so many different cities present in the dataset. \n",
    "If we only had states from the USA (as there is a fixed number of them) it would could make more sense, but it is harder to transform seeing as we have other destinations (like Canada or France).\n",
    "\n",
    "Ticket, body, name, fare are not part of categorical data, as adding a new element to the set will likely lead to a new 'category' for each of those entries, hence the number of categories isn't fixed. "
   ]
  },
  {
   "cell_type": "markdown",
   "metadata": {},
   "source": [
    "Transforming all categorical data using pandas:"
   ]
  },
  {
   "cell_type": "code",
   "execution_count": 548,
   "metadata": {},
   "outputs": [],
   "source": [
    "#we rename class and embarked to have prettier charts and more human readable rows\n",
    "titanicXls['pclass'] = titanicXls['pclass'].map({1: 'First Class', 2: 'Second Class', 3: 'Third Class'}).astype('category')\n",
    "titanicXls['survied'] = titanicXls['survived'].astype('category')\n",
    "titanicXls['sex'] = titanicXls['sex'].astype('category')\n",
    "titanicXls['cabin'] = titanicXls['cabin'].astype('category')\n",
    "titanicXls['embarked'] = titanicXls['embarked'].map({'C':'Cherbourg', 'S':'Southampton', 'Q':'Queenstown'}).astype('category')\n",
    "titanicXls['boat'] = titanicXls['boat'].astype('category')"
   ]
  },
  {
   "cell_type": "markdown",
   "metadata": {},
   "source": [
    "**Question 2**\n",
    "- Plot histograms for the *travel class*, *embarkation port*, *sex* and *age* attributes. For the latter one, use *discrete decade intervals*.\n",
    "\n",
    "we use value_counts to find the values per category"
   ]
  },
  {
   "cell_type": "code",
   "execution_count": 549,
   "metadata": {},
   "outputs": [
    {
     "data": {
      "image/png": "[encoded data removed]",
      "text/plain": [
       "<matplotlib.figure.Figure at 0x12cb72dd8>"
      ]
     },
     "metadata": {},
     "output_type": "display_data"
    },
    {
     "data": {
      "image/png": "[encoded data removed]",
      "text/plain": [
       "<matplotlib.figure.Figure at 0x12dab7b70>"
      ]
     },
     "metadata": {},
     "output_type": "display_data"
    },
    {
     "data": {
      "image/png": "[encoded data removed]",
      "text/plain": [
       "<matplotlib.figure.Figure at 0x12c4e6978>"
      ]
     },
     "metadata": {},
     "output_type": "display_data"
    },
    {
     "data": {
      "image/png": "[encoded data removed]",
      "text/plain": [
       "<matplotlib.figure.Figure at 0x12c35ccf8>"
      ]
     },
     "metadata": {},
     "output_type": "display_data"
    }
   ],
   "source": [
    "#  We can simply count all the pclass values by category and plot them\n",
    "plt.title('Passengers by travel class')\n",
    "titanicXls.pclass.value_counts().sort_index().plot(kind='bar').set_ylabel(\"Number of passengers\")\n",
    "plt.show()\n",
    "\n",
    "#for embarked and sex, we need to have bar charts, as we do not have numerical values.\n",
    "plt.title('Passengers by embarkation port')\n",
    "titanicXls.embarked.value_counts(sort=False).sort_index().plot(kind='bar').set_ylabel(\"Number of passengers\")\n",
    "plt.show()\n",
    "\n",
    "plt.title('Passengers by sex')\n",
    "titanicXls.sex.value_counts().plot(kind='bar').set_ylabel(\"Number of passengers\")\n",
    "plt.show()\n",
    "\n",
    "# Histogram does the work for us.\n",
    "#we first discretize the data\n",
    "#titanicXls.age.describe() gives that min is 0 and max is 80, hence we make bins from 0 to 80\n",
    "titaic_ages = pd.cut(titanicXls.age, np.arange(0, 90, 10))\n",
    "plt.title('Passengers by age')\n",
    "block_plot = titaic_ages.value_counts(sort=False).plot(kind='bar')\n",
    "block_plot.set_ylabel(\"Number of passengers\")\n",
    "block_plot.set_xlabel('Age bracket')\n",
    "plt.show()"
   ]
  },
  {
   "cell_type": "markdown",
   "metadata": {},
   "source": [
    "**Question 3**\n",
    "- Calculate the proportion of passengers by *cabin floor*. Present your results in a *pie chart*.\n",
    "\n",
    "I take in consideration that each floor is the first character (A to G + T) and only take into account the first character as the floor (which works for 98% of all cases). This is justified as only very few cabins listed are on different floors, as can be seen in the next small calculation. we can thus say that these few outliers will not affect the pie chart. \n",
    "<font color=blue>Note that we considered the case with both cases aswell, see down below.</font>\n",
    "\n",
    "We assume that T is an actual deck, it probably corresponds to the  the 'Tank top' see http://www.titanicandco.com/inside.html\n",
    "\n",
    "We also note that the we don't actually know where most passengers stayed, as only 295 out of 1000+ values are non-nan."
   ]
  },
  {
   "cell_type": "code",
   "execution_count": 550,
   "metadata": {},
   "outputs": [
    {
     "data": {
      "image/png": "[encoded data removed]",
      "text/plain": [
       "<matplotlib.figure.Figure at 0x1313f16d8>"
      ]
     },
     "metadata": {},
     "output_type": "display_data"
    }
   ],
   "source": [
    "# Clean the NaN\n",
    "cabins = pd.DataFrame(titanicXls.cabin.dropna())\n",
    "# Determine the floor for each row\n",
    "cabins['Floor'] = cabins['cabin'].str[:1]\n",
    "#Plot the values.\n",
    "plt.title('Passengers by Cabin Floor')\n",
    "cabins['Floor'].value_counts().plot.pie(figsize=(5, 5), autopct='%.1f')\n",
    "plt.show()"
   ]
  },
  {
   "cell_type": "markdown",
   "metadata": {},
   "source": [
    "Here is the answer where we take the different floors per person into consideration. Clearly, there is no visible difference to the human eye."
   ]
  },
  {
   "cell_type": "code",
   "execution_count": 551,
   "metadata": {},
   "outputs": [
    {
     "data": {
      "image/png": "[encoded data removed]",
      "text/plain": [
       "<matplotlib.figure.Figure at 0x130f004e0>"
      ]
     },
     "metadata": {},
     "output_type": "display_data"
    }
   ],
   "source": [
    "##small verification pertaining to the previous question\n",
    "types_of_cabin = titanicXls.cabin.dropna()\n",
    "##just get cabin number and then get cabins with distincr floors\n",
    "cabin_counts = types_of_cabin.map(lambda x: ''.join([c for c in str(x) if c.isalpha()])\n",
    "                  ).map(lambda x: ''.join(list(set(x)))).value_counts()\n",
    "# we can see that we only have 7 instances were the deck is not equal, which accounts for 2 percent\n",
    "#we have so few cases we can handel them brute force\n",
    "#we add half of the value as we assume that if they had two cabin, \n",
    "#half of the family will have used on and the the other hald the other half\n",
    "\n",
    "cabin_counts['E'] += cabin_counts['EF']/2\n",
    "cabin_counts['F'] += cabin_counts['EF']/2\n",
    "cabin_counts['G'] += cabin_counts['GF']/2\n",
    "cabin_counts['F'] += cabin_counts['GF']/2\n",
    "cabin_counts = cabin_counts.drop(['EF','GF' ])\n",
    "\n",
    "plt.title('Passengers by Cabin Floor, counting all cases')\n",
    "cabins['Floor'].value_counts().plot.pie(figsize=(5, 5), autopct='%.1f')\n",
    "plt.show()\n"
   ]
  },
  {
   "cell_type": "markdown",
   "metadata": {},
   "source": [
    "**Question 4**\n",
    "\n",
    "- For each *travel class*, calculate the <font color='red'>proportion</font> of the passengers that survived. Present your results in *pie charts*.\n",
    "\n",
    "We can use the fact that 1 stands for a yes in the column survived."
   ]
  },
  {
   "cell_type": "code",
   "execution_count": 552,
   "metadata": {},
   "outputs": [
    {
     "data": {
      "image/png": "[encoded data removed]",
      "text/plain": [
       "<matplotlib.figure.Figure at 0x12e158358>"
      ]
     },
     "metadata": {},
     "output_type": "display_data"
    },
    {
     "data": {
      "image/png": "[encoded data removed]",
      "text/plain": [
       "<matplotlib.figure.Figure at 0x12dfe0b00>"
      ]
     },
     "metadata": {},
     "output_type": "display_data"
    },
    {
     "data": {
      "text/plain": [
       "<matplotlib.axes._subplots.AxesSubplot at 0x12e144b70>"
      ]
     },
     "execution_count": 552,
     "metadata": {},
     "output_type": "execute_result"
    },
    {
     "data": {
      "image/png": "[encoded data removed]",
      "text/plain": [
       "<matplotlib.figure.Figure at 0x12b480ef0>"
      ]
     },
     "metadata": {},
     "output_type": "display_data"
    }
   ],
   "source": [
    "# Take only the interesting columns (survived & pclass)\n",
    "survivalByClass = titanicXls.iloc[:, 0:2]\n",
    "# Clean it from the NaN\n",
    "survivalByClass = pd.DataFrame(survivalByClass.dropna())\n",
    "\n",
    "##manualy label because I haven't figured out a better way :(\n",
    "survivalByClass.groupby('pclass').survived.value_counts()['First Class'].plot.pie(title='First Class', \n",
    "                            autopct='%.2f', labels=['Survived','Died'])\n",
    "plt.show()\n",
    "##manualy label because I haven't figured out a better way :(\n",
    "survivalByClass.groupby('pclass').survived.value_counts()['Second Class'].plot.pie(title='Second Class',\n",
    "                            autopct='%.2f', labels=['Died','Survived'])\n",
    "plt.show()\n",
    "survivalByClass.groupby('pclass').survived.value_counts()['Third Class'].plot.pie(title='Third Class',\n",
    "                            autopct='%.2f', labels=['Died','Survived'])"
   ]
  },
  {
   "cell_type": "markdown",
   "metadata": {},
   "source": [
    "**Question 5**\n",
    "- Calculate the <font color='red'>proportion</font> of the passengers that survived by *travel class* and *sex*. Present your results in *a single histogram*."
   ]
  },
  {
   "cell_type": "code",
   "execution_count": 553,
   "metadata": {},
   "outputs": [
    {
     "data": {
      "image/png": "[encoded data removed]",
      "text/plain": [
       "<matplotlib.figure.Figure at 0x12e4816a0>"
      ]
     },
     "metadata": {},
     "output_type": "display_data"
    }
   ],
   "source": [
    "# Take only the interesting columns = sex & class & survived\n",
    "survivalBySex = titanicXls.iloc[:, [0,1,3]]\n",
    "# Take out all NaN\n",
    "survivalBySex = pd.DataFrame(survivalBySex.dropna())\n",
    "\n",
    "# Take only those that survived\n",
    "#as survived takes 0 and 1 the proportion is equal to the mean\n",
    "survivedSex = titanicXls.groupby(['sex', 'pclass'], as_index=False)['survived'].mean()\n",
    "\n",
    "sns.barplot(x=\"sex\", y=\"survived\", hue=\"pclass\", data=survivedSex);\n"
   ]
  },
  {
   "cell_type": "markdown",
   "metadata": {},
   "source": [
    "**Question 6**\n",
    "\n",
    "- Create 2 equally populated *age categories* and calculate survival proportions by *age category*, *travel class* and *sex*. Present your results in a `DataFrame` with unique index.\n",
    "\n",
    "\n",
    "Answer commentary: we named the age categories by mean, just for clarity.\n",
    "\n",
    "To get two equaly sized categories we order the frame by age and split it along the middle.\n"
   ]
  },
  {
   "cell_type": "code",
   "execution_count": 554,
   "metadata": {},
   "outputs": [
    {
     "name": "stdout",
     "output_type": "stream",
     "text": [
      "index is unique :  True\n"
     ]
    },
    {
     "data": {
      "text/html": [
       "<div>\n",
       "<style>\n",
       "    .dataframe thead tr:only-child th {\n",
       "        text-align: right;\n",
       "    }\n",
       "\n",
       "    .dataframe thead th {\n",
       "        text-align: left;\n",
       "    }\n",
       "\n",
       "    .dataframe tbody tr th {\n",
       "        vertical-align: top;\n",
       "    }\n",
       "</style>\n",
       "<table border=\"1\" class=\"dataframe\">\n",
       "  <thead>\n",
       "    <tr style=\"text-align: right;\">\n",
       "      <th></th>\n",
       "      <th></th>\n",
       "      <th></th>\n",
       "      <th>Survival proportion by sex and travel category</th>\n",
       "    </tr>\n",
       "    <tr>\n",
       "      <th>age</th>\n",
       "      <th>sex</th>\n",
       "      <th>pclass</th>\n",
       "      <th></th>\n",
       "    </tr>\n",
       "  </thead>\n",
       "  <tbody>\n",
       "    <tr>\n",
       "      <th rowspan=\"6\" valign=\"top\">14.513398</th>\n",
       "      <th rowspan=\"3\" valign=\"top\">female</th>\n",
       "      <th>First Class</th>\n",
       "      <td>0.954545</td>\n",
       "    </tr>\n",
       "    <tr>\n",
       "      <th>Second Class</th>\n",
       "      <td>0.939394</td>\n",
       "    </tr>\n",
       "    <tr>\n",
       "      <th>Third Class</th>\n",
       "      <td>0.480000</td>\n",
       "    </tr>\n",
       "    <tr>\n",
       "      <th rowspan=\"3\" valign=\"top\">male</th>\n",
       "      <th>First Class</th>\n",
       "      <td>0.538462</td>\n",
       "    </tr>\n",
       "    <tr>\n",
       "      <th>Second Class</th>\n",
       "      <td>0.382353</td>\n",
       "    </tr>\n",
       "    <tr>\n",
       "      <th>Third Class</th>\n",
       "      <td>0.187970</td>\n",
       "    </tr>\n",
       "    <tr>\n",
       "      <th rowspan=\"6\" valign=\"top\">36.353958</th>\n",
       "      <th rowspan=\"3\" valign=\"top\">female</th>\n",
       "      <th>First Class</th>\n",
       "      <td>0.963964</td>\n",
       "    </tr>\n",
       "    <tr>\n",
       "      <th>Second Class</th>\n",
       "      <td>0.871429</td>\n",
       "    </tr>\n",
       "    <tr>\n",
       "      <th>Third Class</th>\n",
       "      <td>0.467532</td>\n",
       "    </tr>\n",
       "    <tr>\n",
       "      <th rowspan=\"3\" valign=\"top\">male</th>\n",
       "      <th>First Class</th>\n",
       "      <td>0.333333</td>\n",
       "    </tr>\n",
       "    <tr>\n",
       "      <th>Second Class</th>\n",
       "      <td>0.080645</td>\n",
       "    </tr>\n",
       "    <tr>\n",
       "      <th>Third Class</th>\n",
       "      <td>0.157407</td>\n",
       "    </tr>\n",
       "  </tbody>\n",
       "</table>\n",
       "</div>"
      ],
      "text/plain": [
       "                               Survival proportion by sex and travel category\n",
       "age       sex    pclass                                                      \n",
       "14.513398 female First Class                                         0.954545\n",
       "                 Second Class                                        0.939394\n",
       "                 Third Class                                         0.480000\n",
       "          male   First Class                                         0.538462\n",
       "                 Second Class                                        0.382353\n",
       "                 Third Class                                         0.187970\n",
       "36.353958 female First Class                                         0.963964\n",
       "                 Second Class                                        0.871429\n",
       "                 Third Class                                         0.467532\n",
       "          male   First Class                                         0.333333\n",
       "                 Second Class                                        0.080645\n",
       "                 Third Class                                         0.157407"
      ]
     },
     "execution_count": 554,
     "metadata": {},
     "output_type": "execute_result"
    }
   ],
   "source": [
    "# Take only the interesting columns\n",
    "survivalByAge = titanicXls.iloc[:, [0,1,3,4]]\n",
    "# Take out all NaN\n",
    "survivalByAge = pd.DataFrame(survivalByAge.dropna())\n",
    "# Sort by Age\n",
    "survivalByAge = survivalByAge.sort_values('age')\n",
    "\n",
    "# We have 1046 rows in this DataFrame. Thus, the 523 first rows are the first category. The 523 last are the second.\n",
    "# Lets thus replace the age of everyone by 1 for the first category and 2 for the second.\n",
    "# As category we will put the mean age of the category.\n",
    "n = len(survivalByAge)\n",
    "survivalByAge.loc[:n/2, 'age'] = survivalByAge.loc[:n/2, 'age'].mean()\n",
    "survivalByAge.loc[(n/2):, 'age'] = survivalByAge.loc[(n/2):, 'age'].mean()\n",
    "\n",
    "# This will do the mean for each group/category we want, as we have only 0 or 1.\n",
    "groupedSurvival = survivalByAge.groupby(['age', 'sex', 'pclass'])['survived'].mean()\n",
    "survivalByAgeDF = pd.DataFrame(groupedSurvival)\n",
    "\n",
    "#Checking that index is indeed unique: it is\n",
    "print('index is unique : ', survivalByAgeDF.index.is_unique)\n",
    "\n",
    "survivalByAgeDF.columns= ['Survival proportion by sex and travel category']\n",
    "survivalByAgeDF"
   ]
  }
 ],
 "metadata": {
  "anaconda-cloud": {},
  "kernelspec": {
   "display_name": "Python [default]",
   "language": "python",
   "name": "python3"
  },
  "language_info": {
   "codemirror_mode": {
    "name": "ipython",
    "version": 3
   },
   "file_extension": ".py",
   "mimetype": "text/x-python",
   "name": "python",
   "nbconvert_exporter": "python",
   "pygments_lexer": "ipython3",
   "version": "3.6.1"
  }
 },
 "nbformat": 4,
 "nbformat_minor": 2
}
