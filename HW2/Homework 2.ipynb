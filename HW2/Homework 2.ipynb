{
 "cells": [
  {
   "cell_type": "markdown",
   "metadata": {},
   "source": [
    "# Homework 2\n",
    "\n",
    "We first import the needed libraries and set the elements we need for the rest of the Homework"
   ]
  },
  {
   "cell_type": "code",
   "execution_count": null,
   "metadata": {
    "collapsed": true
   },
   "outputs": [],
   "source": [
    "# Used to look for the saved rankings\n",
    "DATA_FOLDER = 'Data/'"
   ]
  },
  {
   "cell_type": "code",
   "execution_count": null,
   "metadata": {
    "collapsed": true
   },
   "outputs": [],
   "source": [
    "# Importing libraries\n",
    "import re #for regexes\n",
    "import requests\n",
    "import numpy as np\n",
    "import unicodedata #useful for ex 3\n",
    "import pickle as pk\n",
    "import pandas as pd\n",
    "import seaborn as sns\n",
    "import os, os.path as osp\n",
    "from bs4 import BeautifulSoup\n",
    "import matplotlib.pyplot as plt"
   ]
  },
  {
   "cell_type": "code",
   "execution_count": null,
   "metadata": {
    "collapsed": true
   },
   "outputs": [],
   "source": [
    "sns.set(style=\"darkgrid\")\n",
    "sns.set_context(\"notebook\")\n",
    "sns.set_palette(\"RdPu_d\", 10)"
   ]
  },
  {
   "cell_type": "markdown",
   "metadata": {},
   "source": [
    "## Useful functions\n",
    "\n",
    "The following functions are helper functions allowing us to have a cleaner code"
   ]
  },
  {
   "cell_type": "code",
   "execution_count": null,
   "metadata": {
    "collapsed": true
   },
   "outputs": [],
   "source": [
    "#Functions allowing us to manipulate Pickle files (better running time)\n",
    "def save_pkl(obj, path):\n",
    "    \"\"\"Saves into a pickle file to given path.\"\"\"\n",
    "    with open(path, 'wb') as f:\n",
    "        pk.dump(obj, f)  \n",
    "        \n",
    "def load_pkl(path):\n",
    "    \"\"\"Loads a pickle file from a given path.\"\"\"\n",
    "    with open(path, 'rb') as f:\n",
    "        return pk.load(f)"
   ]
  },
  {
   "cell_type": "code",
   "execution_count": null,
   "metadata": {
    "collapsed": true
   },
   "outputs": [],
   "source": [
    "#Functions allowing us to clean our data\n",
    "def transform_rank(df, cname):\n",
    "    \"\"\"Function that transforms the rank from a string to an int. \n",
    "    We also use it to define a relative and an absolute ranking\"\"\"\n",
    "    \n",
    "    df.rename(columns = {cname: 'relative_rank'}, inplace = True)\n",
    "    df['absolute_rank'] = df.index + 1\n",
    "    \n",
    "    #The assert is needed to ensure that we have strings (else the code produces errors).\n",
    "    assert df['relative_rank'].dtype == np.object_, \"We do not have strings in \" + 'relative_rank'\n",
    "    df['relative_rank'] = df['relative_rank'].str.replace(r'\\D+', '').astype('int')\n",
    "    \n",
    "def remove_blank_convert_float(x):\n",
    "    \"\"\"Removes blankspace from x and parses it to float.\"\"\"\n",
    "    if(x):\n",
    "        x = x.text[1:-1].replace(\",\",\"\")\n",
    "        x_float = float(x)\n",
    "    else:\n",
    "        #Using NAN for unknown values to facilitate computation\n",
    "        x_float = float('NAN')\n",
    "    return x_float"
   ]
  },
  {
   "cell_type": "code",
   "execution_count": null,
   "metadata": {
    "collapsed": true
   },
   "outputs": [],
   "source": [
    "#As we need to compute several ratios, we decided to modularize this operation\n",
    "def ratios_calc(df, c1, c2, name):\n",
    "    \"\"\"Function that computes ratios for a given DataFrame.\n",
    "        df is the DataFrame\n",
    "        c1 is the name of the first column for the ratio,\n",
    "        c2 is the name of the second column for the ratio,\n",
    "        name is the name of the new column\n",
    "    \"\"\"\n",
    "    # Computes the ratio and puts it in a new column\n",
    "    df[name] = df[c1]/df[c2]"
   ]
  },
  {
   "cell_type": "markdown",
   "metadata": {},
   "source": [
    "## Preparatory steps"
   ]
  },
  {
   "cell_type": "markdown",
   "metadata": {},
   "source": [
    "The first step was a preliminary exploration of the website's responses and code using Postman and the Google Chrome dev tools.\n",
    "\n",
    "- For the Times, looking at the JSON response from the ranking website immediately led to the right data.\n",
    "- For TopUniversities, we searched for the occurence of some string data on Postman, leading to the source of the data.\n",
    "- To find the additional information needed in the TopUniversities set, we used the Google dev tools to quickly check which classes pointed to the div tags containing the required information."
   ]
  },
  {
   "cell_type": "code",
   "execution_count": null,
   "metadata": {
    "collapsed": true
   },
   "outputs": [],
   "source": [
    "#Base URL for websites to crawl\n",
    "FILES = '/sites/default/files/'\n",
    "TOP_UNIVERSITIES = 'https://www.topuniversities.com'\n",
    "TIMES_EDUCATION = 'https://www.timeshighereducation.com'\n",
    "\n",
    "#These are the main URLs we will be working with\n",
    "TOP_UNIVERVERSITIES_TEXT = TOP_UNIVERSITIES + FILES + 'qs-rankings-data/357051.txt'\n",
    "TIMES_EDUCATION_JSON = TIMES_EDUCATION + FILES + 'the_data_rankings/world_university_rankings_2018_limit0_369a9045a203e176392b9fb8f8c1cb2a.json'"
   ]
  },
  {
   "cell_type": "markdown",
   "metadata": {},
   "source": [
    "## Exercise 1 : TopUniversities"
   ]
  },
  {
   "cell_type": "markdown",
   "metadata": {},
   "source": [
    "### Data retrieval\n",
    "The first step is pretty step forward. We simply request the JSON and create a DataFrame containing all the needed information offered by the request."
   ]
  },
  {
   "cell_type": "code",
   "execution_count": null,
   "metadata": {
    "collapsed": true
   },
   "outputs": [],
   "source": [
    "s = requests.get(TOP_UNIVERVERSITIES_TEXT)\n",
    "topjson = s.json()"
   ]
  },
  {
   "cell_type": "code",
   "execution_count": null,
   "metadata": {
    "collapsed": false
   },
   "outputs": [],
   "source": [
    "top_frame = pd.DataFrame(topjson['data']).head(200)\n",
    "del top_frame['cc'],\\\n",
    "    top_frame['logo'],\\\n",
    "    top_frame['nid'],\\\n",
    "    top_frame['core_id'],\\\n",
    "    top_frame['stars'],\\\n",
    "    top_frame['guide'] \n",
    "\n",
    "#This step allows us to clean the (relative) rank for comparison and add an (absolute) rank for display\n",
    "transform_rank(top_frame,'rank_display')\n",
    "    \n",
    "#Allows us to have a quick look at the data.\n",
    "top_frame.head()"
   ]
  },
  {
   "cell_type": "markdown",
   "metadata": {},
   "source": [
    "The second step is a little more complicated, which is why we decided to include an example of how additional data should be retrieved in order to better understand our methodology."
   ]
  },
  {
   "cell_type": "code",
   "execution_count": null,
   "metadata": {
    "collapsed": false
   },
   "outputs": [],
   "source": [
    "r = requests.get(TOP_UNIVERSITIES + '/universities/university-cambridge')\n",
    "page_body = r.text\n",
    "soup = BeautifulSoup(page_body, 'html.parser')\n",
    "\n",
    "#In order to get the right numbers, we use [1:-1] in order to delete the leading and trailing spaces\n",
    "student_number = (soup.find('div', class_='total student')).find('div', class_='number').text[1:-1]\n",
    "int_student = (soup.find('div', class_='total inter')).find('div', class_='number').text[1:-1]\n",
    "facult_number = (soup.find('div', class_='total faculty')).find('div', class_='number').text[1:-1]\n",
    "int_faculty = (soup.find('div', class_='inter faculty')).find('div', class_='number').text[1:-1]\n",
    "\n",
    "#We create a new DataFrame to visualize the new information\n",
    "pd.DataFrame.from_dict({'students' : [student_number], \n",
    "              'international students': [int_student], \n",
    "              'faculty' : [facult_number], \n",
    "              'international faculty' : [int_faculty] })"
   ]
  },
  {
   "cell_type": "markdown",
   "metadata": {},
   "source": [
    "The following function allows us to get all the useful information. As asked, we make sure that we have the name, rank, country, region, number of faculty members (international and total) and number of students (international and total) in the final DataFrame."
   ]
  },
  {
   "cell_type": "code",
   "execution_count": null,
   "metadata": {
    "collapsed": true
   },
   "outputs": [],
   "source": [
    "def get_additional_info(url):\n",
    "    r = requests.get(TOP_UNIVERSITIES + url)\n",
    "    assert r.status_code != 404, 'Bad request: could not get data'\n",
    "    page_body = r.text\n",
    "    soup = BeautifulSoup(page_body, 'html.parser')\n",
    "    \n",
    "    #In the following steps, we make sure the values exist before fetching them\n",
    "    student_number = (soup.find('div', class_='total student')) \n",
    "    if student_number:\n",
    "        student_number = student_number.find('div', class_='number')\n",
    "        \n",
    "    int_student = (soup.find('div', class_='total inter'))\n",
    "    if int_student:\n",
    "        int_student = int_student.find('div', class_='number')\n",
    "    \n",
    "    faculty_number = (soup.find('div', class_='total faculty'))\n",
    "    if faculty_number:\n",
    "        faculty_number = faculty_number.find('div', class_='number')\n",
    "        \n",
    "    int_faculty = (soup.find('div', class_='inter faculty'))\n",
    "    if int_faculty:\n",
    "        int_faculty = int_faculty.find('div', class_='number')\n",
    "    \n",
    "    frame = pd.DataFrame.from_dict({'students' : [remove_blank_convert_float(student_number)], \n",
    "              'international students': [remove_blank_convert_float(int_student)], \n",
    "              'faculty' : [remove_blank_convert_float(faculty_number)], \n",
    "              'international faculty' : [remove_blank_convert_float(int_faculty)] })\n",
    "    return frame"
   ]
  },
  {
   "cell_type": "code",
   "execution_count": null,
   "metadata": {
    "collapsed": true
   },
   "outputs": [],
   "source": [
    "#Takes a relatively long time to run the first time\n",
    "\n",
    "#We create a folder to store all the data.\n",
    "if not osp.exists(DATA_FOLDER):\n",
    "    os.makedirs(DATA_FOLDER)\n",
    "\n",
    "#We create a file to store the TopUniversities Ranking\n",
    "top_file = DATA_FOLDER + 'top_ranking.pkl'\n",
    "if osp.exists(top_file):\n",
    "    merged_top = load_pkl(top_file)\n",
    "else:\n",
    "    missing_rows = pd.DataFrame()\n",
    "    for url in top_frame.url:\n",
    "        new_info = get_additional_info(url)\n",
    "        missing_rows = missing_rows.append(new_info, ignore_index = True)\n",
    "    #We simply concatenate all the information and sort them in order to have a better layout similar to the one below\n",
    "    merged_top = pd.concat([top_frame, missing_rows], axis=1, join_axes=[top_frame.index])\n",
    "    merged_top.rename(columns = {'title': 'name'}, inplace = True)\n",
    "    merged_top = merged_top.reindex_axis(['country', 'region', 'name', 'score', 'relative_rank',\n",
    "                                         'absolute_rank', 'international faculty', 'faculty',\n",
    "                                         'international students', 'students', 'url'], axis=1)\n",
    "    save_pkl(merged_top, top_file)"
   ]
  },
  {
   "cell_type": "markdown",
   "metadata": {},
   "source": [
    "We have undefined values in the \"merged_top\" set due to the lack of information on the website, so we simply propagate NAN values."
   ]
  },
  {
   "cell_type": "markdown",
   "metadata": {},
   "source": [
    "### Best universities by ratio :\n",
    "We first determine which universities are the best according to the faculty/student ratio (and display the top of the list). To do that, we create a new DataFrame only containing the relevant information (university, ratio and relative rank for display)."
   ]
  },
  {
   "cell_type": "code",
   "execution_count": null,
   "metadata": {
    "collapsed": false
   },
   "outputs": [],
   "source": [
    "top_fac_stud = merged_top\n",
    "ratios_calc(top_fac_stud , 'faculty', 'students', 'faculty/students')\n",
    "top_fac_stud = top_fac_stud[['name', 'faculty/students', 'relative_rank']]"
   ]
  },
  {
   "cell_type": "code",
   "execution_count": null,
   "metadata": {
    "collapsed": false
   },
   "outputs": [],
   "source": [
    "top_fac_stud = top_fac_stud.sort_values(['faculty/students', 'relative_rank'], ascending=[False, True])\n",
    "top_fac_stud = top_fac_stud.reset_index()\n",
    "top_fac_stud.head()"
   ]
  },
  {
   "cell_type": "markdown",
   "metadata": {},
   "source": [
    "The other important ratio used to determine the quality of a school is international/total students. We use a similar method as before to obtain these numbers."
   ]
  },
  {
   "cell_type": "code",
   "execution_count": null,
   "metadata": {
    "collapsed": false
   },
   "outputs": [],
   "source": [
    "top_int_stud = merged_top\n",
    "ratios_calc(top_int_stud,'international students', 'students', 'international/students')\n",
    "top_int_stud = top_int_stud[['name', 'international/students', 'relative_rank']]"
   ]
  },
  {
   "cell_type": "code",
   "execution_count": null,
   "metadata": {
    "collapsed": false
   },
   "outputs": [],
   "source": [
    "top_int_stud = top_int_stud.sort_values(['international/students', 'relative_rank'], ascending=[False, True])\n",
    "top_int_stud = top_int_stud.reset_index()\n",
    "top_int_stud.head()"
   ]
  },
  {
   "cell_type": "markdown",
   "metadata": {},
   "source": [
    "To better understand and visualize the top universities according to each ration, we plot the top 10 universities."
   ]
  },
  {
   "cell_type": "code",
   "execution_count": null,
   "metadata": {
    "collapsed": true
   },
   "outputs": [],
   "source": [
    "best_fac = top_fac_stud.head(10)\n",
    "best_int = top_int_stud.head(10)"
   ]
  },
  {
   "cell_type": "code",
   "execution_count": null,
   "metadata": {
    "collapsed": false
   },
   "outputs": [],
   "source": [
    "cmap = plt.cm.get_cmap('Blues')\n",
    "pal = sns.color_palette(\"RdPu\", n_colors=14, desat=0.6)\n",
    "\n",
    "sns.barplot(y=\"name\", x=\"faculty/students\", palette=best_fac['relative_rank'].map(lambda x: cmap(1-np.sqrt(1+(x - 200)/200))) , data=best_fac)\n",
    "plt.title(\"Best universities by faculty to students ratio\")\n",
    "plt.show()\n",
    "\n",
    "sns.barplot(y=\"name\", x=\"international/students\", palette=best_int['relative_rank'].map(lambda x: cmap(1-np.sqrt(1+(x - 200)/200))) , data=best_int)\n",
    "plt.title(\"Best universities by internatinal students to students ratio\")\n",
    "plt.show()"
   ]
  },
  {
   "cell_type": "markdown",
   "metadata": {},
   "source": [
    "### Best universities by geographic location :\n",
    "We begin by sorting the countries by their number of universities in the 200 top schools."
   ]
  },
  {
   "cell_type": "code",
   "execution_count": null,
   "metadata": {
    "collapsed": false
   },
   "outputs": [],
   "source": [
    "best_countries = pd.DataFrame(merged_top['country'].value_counts())\n",
    "best_countries = best_countries.reset_index()\n",
    "best_countries.columns = ['country', 'universities']\n",
    "best_countries.head()"
   ]
  },
  {
   "cell_type": "markdown",
   "metadata": {},
   "source": [
    "We perform the same actions for the regions we have"
   ]
  },
  {
   "cell_type": "code",
   "execution_count": null,
   "metadata": {
    "collapsed": false
   },
   "outputs": [],
   "source": [
    "best_regions = pd.DataFrame(merged_top['region'].value_counts())\n",
    "best_regions = best_regions.reset_index()\n",
    "best_regions.columns = ['region', 'universities']\n",
    "best_regions.head()"
   ]
  },
  {
   "cell_type": "markdown",
   "metadata": {},
   "source": [
    "Finally we plot the best regions and countries."
   ]
  },
  {
   "cell_type": "code",
   "execution_count": null,
   "metadata": {
    "collapsed": true
   },
   "outputs": [],
   "source": [
    "best_countries = best_countries.head(10)\n",
    "best_regions = best_regions.head() #works as there are only 5 regions"
   ]
  },
  {
   "cell_type": "code",
   "execution_count": null,
   "metadata": {
    "collapsed": false
   },
   "outputs": [],
   "source": [
    "sns.barplot(y='country', x='universities', data=best_countries)\n",
    "plt.title(\"Best countries according to number of top universities\")\n",
    "plt.show()\n",
    "\n",
    "sns.barplot(y=\"region\", x=\"universities\", data=best_regions)\n",
    "plt.title(\"Regions according to number of top universities\")\n",
    "plt.show()"
   ]
  },
  {
   "cell_type": "markdown",
   "metadata": {},
   "source": [
    "## Exercise 2 : Times Higher Education"
   ]
  },
  {
   "cell_type": "markdown",
   "metadata": {},
   "source": [
    "In the following exercise, we mostly do the same steps as for the first exercise. Thus, we will not precise each step (except for different handlings of the data)."
   ]
  },
  {
   "cell_type": "markdown",
   "metadata": {},
   "source": [
    "### Data retrieval"
   ]
  },
  {
   "cell_type": "code",
   "execution_count": null,
   "metadata": {
    "collapsed": true
   },
   "outputs": [],
   "source": [
    "r = requests.get(TIMES_EDUCATION_JSON)\n",
    "timesjson = r.json()"
   ]
  },
  {
   "cell_type": "code",
   "execution_count": null,
   "metadata": {
    "collapsed": false
   },
   "outputs": [],
   "source": [
    "times_frame = pd.DataFrame(timesjson['data']).head(200) #Keep the first 200 schools\n",
    "times_frame = times_frame[[d for d in times_frame.columns if not ('score' in d)]] #Drop useless frames\n",
    "del times_frame['member_level'],\\\n",
    "    times_frame['nid'],\\\n",
    "    times_frame['record_type'],\\\n",
    "    times_frame['subjects_offered'],\\\n",
    "    times_frame['stats_female_male_ratio'],\\\n",
    "    times_frame['rank_order'],\\\n",
    "    times_frame['aliases']\n",
    "\n",
    "transform_rank(times_frame,'rank')\n",
    "times_frame.rename(columns = {'stats_number_students': 'students', \n",
    "                    'stats_pc_intl_students': 'international/students',\n",
    "                    'stats_student_staff_ratio': 'faculty/students',\n",
    "                    'location': 'country'}, inplace = True)    \n",
    "\n",
    "times_frame.head()"
   ]
  },
  {
   "cell_type": "markdown",
   "metadata": {},
   "source": [
    "### Data cleaning :"
   ]
  },
  {
   "cell_type": "markdown",
   "metadata": {},
   "source": [
    "There is a very big difference between the TopUniversities ranking and the Times Higher Education ranking when it comes to ratios, they are already provided to us. For this reason, we need to format these elements so they can be easily used. We then display the head to ensure the results are sound."
   ]
  },
  {
   "cell_type": "code",
   "execution_count": null,
   "metadata": {
    "collapsed": false
   },
   "outputs": [],
   "source": [
    "times_frame['faculty/students'] = 1/times_frame['faculty/students'].astype('float')\n",
    "times_frame['international/students'] = (1/100) * times_frame['international/students'].str.replace('%', '').astype('int')\n",
    "times_frame.head()"
   ]
  },
  {
   "cell_type": "markdown",
   "metadata": {},
   "source": [
    "We also have that the Times Higher Education does not include the region. This way, we decide to match the countries using the regions defined by the first ranking. "
   ]
  },
  {
   "cell_type": "code",
   "execution_count": null,
   "metadata": {
    "collapsed": true
   },
   "outputs": [],
   "source": [
    "regions_by_country = dict(zip(top_frame.country, top_frame.region))"
   ]
  },
  {
   "cell_type": "code",
   "execution_count": null,
   "metadata": {
    "collapsed": false
   },
   "outputs": [],
   "source": [
    "times_frame['region'] = times_frame.country.map(regions_by_country)\n",
    "times_frame[times_frame.region.isnull()]"
   ]
  },
  {
   "cell_type": "code",
   "execution_count": null,
   "metadata": {
    "collapsed": false
   },
   "outputs": [],
   "source": [
    "#Both universities are in Europe, so we simply \"hardcode\" them\n",
    "times_frame.loc[times_frame.region.isnull(), 'region'] = 'Europe' \n",
    "times_frame.head()"
   ]
  },
  {
   "cell_type": "markdown",
   "metadata": {},
   "source": [
    "Once our data is ready, we save all the needed elements in a new file"
   ]
  },
  {
   "cell_type": "code",
   "execution_count": null,
   "metadata": {
    "collapsed": false
   },
   "outputs": [],
   "source": [
    "#We create a file to store the Times Higher Education Ranking\n",
    "times_file = DATA_FOLDER + 'times_ranking.pkl'\n",
    "if osp.exists(times_file):\n",
    "    times_frame = load_pkl(times_file)\n",
    "else:\n",
    "    times_frame = times_frame.reindex_axis(['country', 'region', 'name', 'relative_rank',\n",
    "                                         'absolute_rank', 'faculty/students', 'international/students', \n",
    "                                         'students', 'url'], axis=1)\n",
    "    save_pkl(times_frame, times_file)"
   ]
  },
  {
   "cell_type": "markdown",
   "metadata": {},
   "source": [
    "### Best universities by ratio :"
   ]
  },
  {
   "cell_type": "markdown",
   "metadata": {},
   "source": [
    "We visualize the best universities according to their ratios (after sorting them)."
   ]
  },
  {
   "cell_type": "code",
   "execution_count": null,
   "metadata": {
    "collapsed": true
   },
   "outputs": [],
   "source": [
    "best_fac = times_frame[['name', 'faculty/students', 'relative_rank']]\n",
    "best_fac = times_frame.sort_values(['faculty/students', 'relative_rank'], ascending=[False, True])\n",
    "best_fac.index = range(len(best_fac.index))\n",
    "best_fac = best_fac.head(10)"
   ]
  },
  {
   "cell_type": "code",
   "execution_count": null,
   "metadata": {
    "collapsed": true
   },
   "outputs": [],
   "source": [
    "best_int = best_int[['name', 'international/students', 'relative_rank']]\n",
    "best_int = best_int.sort_values(['international/students', 'relative_rank'], ascending=[False, True])\n",
    "best_int = best_int.reset_index()\n",
    "best_int = best_int.head(10)"
   ]
  },
  {
   "cell_type": "code",
   "execution_count": null,
   "metadata": {
    "collapsed": false
   },
   "outputs": [],
   "source": [
    "cmap = plt.cm.get_cmap('Blues')\n",
    "pal = sns.color_palette(\"RdPu\", n_colors=14, desat=0.6)\n",
    "\n",
    "sns.barplot(y=\"name\", x=\"faculty/students\", palette=best_fac['relative_rank'].map(lambda x: cmap(1-np.sqrt(1+(x - 200)/200))) , data=best_fac)\n",
    "plt.title(\"Best universities by faculty to students ratio\")\n",
    "plt.show()\n",
    "\n",
    "sns.barplot(y=\"name\", x=\"international/students\", palette=best_int['relative_rank'].map(lambda x: cmap(1-np.sqrt(1+(x - 200)/200))) , data=best_int)\n",
    "plt.title(\"Best universities by internatinal students to students ratio\")\n",
    "plt.show()"
   ]
  },
  {
   "cell_type": "markdown",
   "metadata": {},
   "source": [
    "### Best universities by geographic region :"
   ]
  },
  {
   "cell_type": "markdown",
   "metadata": {},
   "source": [
    "Unlike the TopUniversities ranking, the Times Higher Education does not include the region. This way, we decide to match the countries using the regions defined by the first ranking. "
   ]
  },
  {
   "cell_type": "markdown",
   "metadata": {},
   "source": [
    "This is the ranking by country."
   ]
  },
  {
   "cell_type": "code",
   "execution_count": null,
   "metadata": {
    "collapsed": false
   },
   "outputs": [],
   "source": [
    "best_countries = pd.DataFrame(times_frame['country'].value_counts())\n",
    "best_countries = best_countries.reset_index()\n",
    "best_countries.columns = ['country', 'universities']\n",
    "best_countries.head()"
   ]
  },
  {
   "cell_type": "markdown",
   "metadata": {},
   "source": [
    "This is the ranking by region."
   ]
  },
  {
   "cell_type": "code",
   "execution_count": null,
   "metadata": {
    "collapsed": false
   },
   "outputs": [],
   "source": [
    "best_regions = pd.DataFrame(times_frame['region'].value_counts())\n",
    "best_regions = best_regions.reset_index()\n",
    "best_regions.columns = ['region', 'universities']\n",
    "best_regions.head()"
   ]
  },
  {
   "cell_type": "markdown",
   "metadata": {},
   "source": [
    "Finally, we plot our results"
   ]
  },
  {
   "cell_type": "code",
   "execution_count": null,
   "metadata": {
    "collapsed": true
   },
   "outputs": [],
   "source": [
    "best_countries = best_countries.head(10)\n",
    "best_regions = best_regions.head()"
   ]
  },
  {
   "cell_type": "code",
   "execution_count": null,
   "metadata": {
    "collapsed": false
   },
   "outputs": [],
   "source": [
    "sns.barplot(y='country', x='universities', data=best_countries)\n",
    "plt.title(\"Best countries according to number of top universities\")\n",
    "plt.show()\n",
    "\n",
    "sns.barplot(y=\"region\", x=\"universities\", data=best_regions)\n",
    "plt.title(\"Regions according to number of top universities\")\n",
    "plt.show()"
   ]
  },
  {
   "cell_type": "markdown",
   "metadata": {},
   "source": [
    "## Exercise 3 :  Merging the two rankings"
   ]
  },
  {
   "cell_type": "markdown",
   "metadata": {},
   "source": [
    "### Naive Merge"
   ]
  },
  {
   "cell_type": "markdown",
   "metadata": {},
   "source": [
    "We tried to merge the two DataFrames in a naive manner with a simple join, and found that barely any columns matched.\n",
    "\n",
    "We also tried to use difflib, a Python library, but it gives us false positives for certain universities. If it gave us false negatives, it wouldn't be a huge problem, but the opposite is one as we don't want any errors in our mergers. \n",
    "\n",
    "Hence, we created our own method. The idea behind this is that non-alphanumeric characters in the strings make it so that the strings are not an exact match. It also happens that some university names in one DataFrame are a substring of those in the other.\n",
    "\n",
    "For some languages (french and german for example), non-unicode characters (like é and è or ö and ü) impede the matching. Thus, removing all these may increase our matching rate, without giving us any false positives."
   ]
  },
  {
   "cell_type": "code",
   "execution_count": null,
   "metadata": {
    "collapsed": false
   },
   "outputs": [],
   "source": [
    "def ascii(s):\n",
    "    s = re.sub(\"\\W+\", \"\", s)\n",
    "    s = s.replace(\"at\", '')\n",
    "    # transforms é with e for example\n",
    "    return ''.join((c for c in unicodedata.normalize('NFD', s) if unicodedata.category(c) != 'Mn'))\n",
    "\n",
    "top_frame.title = top_frame.title.map(str.lower).map(ascii)\n",
    "times_frame.name = times_frame.name.map(str.lower).map(ascii)"
   ]
  },
  {
   "cell_type": "markdown",
   "metadata": {},
   "source": [
    "We create a dictionary with the different matches, making sure to fill it from both sides (check if a is in b and if b is in a). As we sometimes have multiple matches, it is best not to do anything right now at the risk of getting false positives."
   ]
  },
  {
   "cell_type": "code",
   "execution_count": null,
   "metadata": {
    "collapsed": false
   },
   "outputs": [],
   "source": [
    "i = 0\n",
    "university_name = dict()\n",
    "\n",
    "for name in times_frame['name']:\n",
    "    if (top_frame['title'].str.contains(name).any()) \\\n",
    "    and len(top_frame.title[top_frame['title'].str.contains(name)]) == 1:\n",
    "        #way to check how many direct matches we have\n",
    "        university_name[name] = top_frame.title[top_frame['title'].str.contains(name)].item()\n",
    "        #matches_1.append(top_frame.title[top_frame['title'].str.contains(name)].item())\n",
    "        i = i+1\n",
    "        \n",
    "    #if we have multiple possibilities, take exact match if it exists\n",
    "    elif (top_frame['title'].str.contains(name).any()) \\\n",
    "    and len(top_frame.title[top_frame['title'].str.contains(name)]) != 1\\\n",
    "    and not top_frame.title[top_frame['title'] == name].empty:\n",
    "        university_name[name] = top_frame.title[top_frame['title'] == name]\n",
    "#Number of matches.\n",
    "len(university_name)"
   ]
  },
  {
   "cell_type": "code",
   "execution_count": null,
   "metadata": {
    "collapsed": false
   },
   "outputs": [],
   "source": [
    "# Mostly the same but the other way around.\n",
    "i = 0\n",
    "\n",
    "for name in top_frame['title']:\n",
    "    if times_frame['name'].str.contains(name).any()\\\n",
    "    and len(times_frame.name[times_frame['name'].str.contains(name)]) == 1:\n",
    "        university_name[times_frame.name[times_frame['name'].str.contains(name)].item()] = name\n",
    "        i = i+1\n",
    "    elif (times_frame['name'].str.contains(name).any()) \\\n",
    "    and len(times_frame.name[times_frame['name'].str.contains(name)]) != 1\\\n",
    "    and not times_frame.name[times_frame['name'] == name].empty:\n",
    "        university_name[times_frame.name[times_frame['name'] == name].item()] = name\n",
    "#Number of matches.\n",
    "len(university_name)"
   ]
  },
  {
   "cell_type": "markdown",
   "metadata": {},
   "source": [
    "As we can see, we only have 148 matches, which leaves us with (at least) 52 unmatches universities."
   ]
  },
  {
   "cell_type": "code",
   "execution_count": null,
   "metadata": {
    "collapsed": false
   },
   "outputs": [],
   "source": [
    "times_frame['join_here'] = times_frame.name.map(university_name)\n",
    "university_name"
   ]
  },
  {
   "cell_type": "markdown",
   "metadata": {},
   "source": [
    "### Specific Cases"
   ]
  },
  {
   "cell_type": "markdown",
   "metadata": {},
   "source": [
    "We decided to take a look at all the unmatched universities to see if we can do better."
   ]
  },
  {
   "cell_type": "code",
   "execution_count": null,
   "metadata": {
    "collapsed": false
   },
   "outputs": [],
   "source": [
    "still_na = times_frame[times_frame['join_here'].isnull()]\n",
    "inv_unimap = {v: k for k, v in university_name.items()} #inverse dictionary\n",
    "top_frame['join_here'] = top_frame.title.map(inv_unimap)\n",
    "top_na = top_frame[top_frame['join_here'].isnull()]"
   ]
  },
  {
   "cell_type": "markdown",
   "metadata": {},
   "source": [
    "We go through each country to check if there are any unmatched universities or if they exist in only one of the rankings. This will allow us to understand the difficulties in each one of them. We could use the aliases, but in reality, it does not match and treat them separately below."
   ]
  },
  {
   "cell_type": "code",
   "execution_count": null,
   "metadata": {
    "collapsed": false
   },
   "outputs": [],
   "source": [
    "#This set gives us the set of countries for which both frames have unmatched universities\n",
    "na_countries = set(top_na.groupby('country').size().index).intersection(set(still_na.groupby('country').size().index))\n",
    "na_countries"
   ]
  },
  {
   "cell_type": "code",
   "execution_count": null,
   "metadata": {
    "collapsed": true
   },
   "outputs": [],
   "source": [
    "def print_universities(country):\n",
    "    print(country, \"\\n\")\n",
    "    print(\"TopUniversities university names :\")\n",
    "    print(top_na[top_na.country == country].title)\n",
    "    print(\"\\nTimes Higher Education university names\")\n",
    "    print(still_na[still_na.country == country].name)"
   ]
  },
  {
   "cell_type": "markdown",
   "metadata": {},
   "source": [
    "Concerning Belgium, we have no possible matches between the 2 rankings."
   ]
  },
  {
   "cell_type": "code",
   "execution_count": null,
   "metadata": {
    "collapsed": false
   },
   "outputs": [],
   "source": [
    "print_universities(\"Belgium\"\u001d",
    ")"
   ]
  },
  {
   "cell_type": "markdown",
   "metadata": {},
   "source": [
    "In Canada, the main issue of merging is the language."
   ]
  },
  {
   "cell_type": "code",
   "execution_count": null,
   "metadata": {
    "collapsed": false
   },
   "outputs": [],
   "source": [
    "print_universities(\"Canada\"\u001d",
    ")"
   ]
  },
  {
   "cell_type": "markdown",
   "metadata": {},
   "source": [
    "Once again in France, the only possible merges are prevented because of the language."
   ]
  },
  {
   "cell_type": "code",
   "execution_count": null,
   "metadata": {
    "collapsed": false
   },
   "outputs": [],
   "source": [
    "print_universities(\"France\"\u001d",
    ")"
   ]
  },
  {
   "cell_type": "markdown",
   "metadata": {},
   "source": [
    "We see that matchings in Germany can be improved a lot because of naming conventions in Germany."
   ]
  },
  {
   "cell_type": "code",
   "execution_count": null,
   "metadata": {
    "collapsed": false
   },
   "outputs": [],
   "source": [
    "print_universities(\"Germany\"\u001d",
    ")"
   ]
  },
  {
   "cell_type": "markdown",
   "metadata": {},
   "source": [
    "This university always matches with 2 other universities (needs to be done manually)."
   ]
  },
  {
   "cell_type": "code",
   "execution_count": null,
   "metadata": {
    "collapsed": false
   },
   "outputs": [],
   "source": [
    "print_universities(\"Hong Kong\"\u001d",
    ")"
   ]
  },
  {
   "cell_type": "markdown",
   "metadata": {},
   "source": [
    "The only string that can be matched is not written in the same in both rankings."
   ]
  },
  {
   "cell_type": "code",
   "execution_count": null,
   "metadata": {
    "collapsed": false
   },
   "outputs": [],
   "source": [
    "print_universities(\"South Korea\"\u001d",
    ")"
   ]
  },
  {
   "cell_type": "markdown",
   "metadata": {},
   "source": [
    "Once again, universities in Spain cannot be merged because of translation issues."
   ]
  },
  {
   "cell_type": "code",
   "execution_count": null,
   "metadata": {
    "collapsed": false
   },
   "outputs": [],
   "source": [
    "print_universities(\"Spain\"\u001d",
    ")"
   ]
  },
  {
   "cell_type": "markdown",
   "metadata": {},
   "source": [
    "These universities are all distinct."
   ]
  },
  {
   "cell_type": "code",
   "execution_count": null,
   "metadata": {
    "collapsed": false
   },
   "outputs": [],
   "source": [
    "print_universities(\"Sweden\"\u001d",
    ")"
   ]
  },
  {
   "cell_type": "markdown",
   "metadata": {},
   "source": [
    "Finally, in the United Kingdom, we have no possible matches between the universities."
   ]
  },
  {
   "cell_type": "code",
   "execution_count": null,
   "metadata": {
    "collapsed": false
   },
   "outputs": [],
   "source": [
    "print_universities(\"United Kingdom\"\u001d",
    ")"
   ]
  },
  {
   "cell_type": "markdown",
   "metadata": {},
   "source": [
    "We tried to match the universities using their number of students. However, we were unable to use this method because the difference between the number of students between the two rankings was too big.\n",
    "\n",
    "After this, we decided to match them manually by adding them to the dictionary."
   ]
  },
  {
   "cell_type": "code",
   "execution_count": null,
   "metadata": {
    "collapsed": true
   },
   "outputs": [],
   "source": [
    "#times.name = top.title\n",
    "university_name['universityofmontreal'] = 'universitedemontreal'\n",
    "university_name['pierreandmariecurieuniversity'] = 'universitepierreetmariecurieupmc'\n",
    "university_name['lmumunich'] = 'ludwigmaximiliansuniversitatmunchen'\n",
    "university_name['humboldtuniversityofberlin'] = 'humboldtuniversitatzuberlin'\n",
    "university_name['freeuniversityofberlin'] = 'freieuniversitaetberlin'\n",
    "university_name['heidelberguniversity'] = 'ruprechtkarlsuniversitatheidelberg'\n",
    "university_name['universityoftubingen'] = 'eberhardkarlsuniversitattubingen'\n",
    "university_name['technicaluniversityofberlin'] = 'technischeuniversitatberlintuberlin'\n",
    "university_name['universityoffreiburg'] = 'albertludwigsuniversitaetfreiburg'\n",
    "university_name['universityofhongkong'] = 'theuniversityofhongkong'\n",
    "university_name['koreaadvancedinstituteofscienceandtechnologykaist'] = 'kaistkoreaadvancedinstituteofsciencetechnology'\n",
    "university_name['autonomousuniversityofbarcelona'] = 'universitautonomadebarcelona'"
   ]
  },
  {
   "cell_type": "markdown",
   "metadata": {},
   "source": [
    "### Final merging"
   ]
  },
  {
   "cell_type": "markdown",
   "metadata": {},
   "source": [
    "We start by adding a column to unable the merging of the two rankings."
   ]
  },
  {
   "cell_type": "code",
   "execution_count": null,
   "metadata": {
    "collapsed": true
   },
   "outputs": [],
   "source": [
    "times_frame['join_here'] = times_frame.name.map(university_name)"
   ]
  },
  {
   "cell_type": "code",
   "execution_count": null,
   "metadata": {
    "collapsed": false
   },
   "outputs": [],
   "source": [
    "merged_top.name = merged_top.name.map(str.lower).map(ascii)\n",
    "\n",
    "merged_frame = pd.merge(times_frame, \n",
    "                        merged_top, how='outer', left_on=['join_here'], right_on=['name'])"
   ]
  },
  {
   "cell_type": "code",
   "execution_count": null,
   "metadata": {
    "collapsed": false
   },
   "outputs": [],
   "source": [
    "merged_frame"
   ]
  },
  {
   "cell_type": "markdown",
   "metadata": {},
   "source": [
    "## Exercise 4 : Exploratory Analysis"
   ]
  },
  {
   "cell_type": "markdown",
   "metadata": {},
   "source": [
    "## Exercise 5 : Best Universities"
   ]
  }
 ],
 "metadata": {
  "anaconda-cloud": {},
  "kernelspec": {
   "display_name": "Python [default]",
   "language": "python",
   "name": "python3"
  },
  "language_info": {
   "codemirror_mode": {
    "name": "ipython",
    "version": 3
   },
   "file_extension": ".py",
   "mimetype": "text/x-python",
   "name": "python",
   "nbconvert_exporter": "python",
   "pygments_lexer": "ipython3",
   "version": "3.5.2"
  }
 },
 "nbformat": 4,
 "nbformat_minor": 1
}
