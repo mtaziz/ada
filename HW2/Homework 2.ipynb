{
 "cells": [
  {
   "cell_type": "markdown",
   "metadata": {},
   "source": [
    "# Homework 2\n",
    "\n",
    "We first import the needed libraries and set the elements we need for the rest of the Homework"
   ]
  },
  {
   "cell_type": "code",
   "execution_count": null,
   "metadata": {
    "collapsed": true
   },
   "outputs": [],
   "source": [
    "# Used to look for the saved rankings\n",
    "DATA_FOLDER = 'Data/'"
   ]
  },
  {
   "cell_type": "code",
   "execution_count": null,
   "metadata": {
    "collapsed": true
   },
   "outputs": [],
   "source": [
    "# Importing libraries\n",
    "import requests\n",
    "import numpy as np\n",
    "import pickle as pk\n",
    "import pandas as pd\n",
    "import seaborn as sns\n",
    "import os, os.path as osp\n",
    "from bs4 import BeautifulSoup\n",
    "import matplotlib.pyplot as plt"
   ]
  },
  {
   "cell_type": "code",
   "execution_count": null,
   "metadata": {
    "collapsed": true
   },
   "outputs": [],
   "source": [
    "sns.set_context(\"notebook\")\n",
    "sns.set(style=\"whitegrid\")\n",
    "sns.set_palette(\"hls\", 10)"
   ]
  },
  {
   "cell_type": "markdown",
   "metadata": {},
   "source": [
    "## Useful functions\n",
    "\n",
    "The following functions are helper functions allowing us to have a cleaner code"
   ]
  },
  {
   "cell_type": "code",
   "execution_count": null,
   "metadata": {
    "collapsed": true
   },
   "outputs": [],
   "source": [
    "#Functions allowing us to manipulate Pickle files (better running time)\n",
    "def save_pkl(obj, path):\n",
    "    \"\"\"Saves into a pickle file to given path.\"\"\"\n",
    "    with open(path, 'wb') as f:\n",
    "        pk.dump(obj, f)\n",
    "        \n",
    "        \n",
    "def load_pkl(path):\n",
    "    \"\"\"Loads a pickle file from a given path.\"\"\"\n",
    "    with open(path, 'rb') as f:\n",
    "        return pk.load(f)"
   ]
  },
  {
   "cell_type": "code",
   "execution_count": null,
   "metadata": {
    "collapsed": true
   },
   "outputs": [],
   "source": [
    "#Functions allowing us to clean our data\n",
    "def transform_rank(df, cname):\n",
    "    \"\"\"Function that transforms the rank from a string to an int. \n",
    "    The assert is needed to ensure that we have strings (else the code produces errors).\"\"\"\n",
    "    assert df[cname].dtype == np.object_, \"We do not have strings in \" + cname\n",
    "    df[cname] = df[cname].str.replace(r'\\D+', '').astype('int')\n",
    "    \n",
    "def remove_blank_convert_float(x):\n",
    "    \"\"\"Removes blankspace from x and parses it to float.\"\"\"\n",
    "    if(x):\n",
    "        x = x.text[1:-1].replace(\",\",\"\")\n",
    "        x_float = float(x)\n",
    "    else:\n",
    "        #Using NAN for unknown values to facilitate computation\n",
    "        x_float = float('NAN')\n",
    "    return x_float"
   ]
  },
  {
   "cell_type": "code",
   "execution_count": null,
   "metadata": {
    "collapsed": true
   },
   "outputs": [],
   "source": [
    "#As we need to compute several ratios, we decided to modularize this operation\n",
    "def ratios_calc(df, c1, c2, name):\n",
    "    \"\"\"Function that computes ratios for a given DataFrame.\n",
    "        df is the DataFrame\n",
    "        c1 is the name of the first column for the ratio,\n",
    "        c2 is the name of the second column for the ratio,\n",
    "        name is the name of the new column\n",
    "    \"\"\"\n",
    "    # Computes the ratio and puts it in a new column\n",
    "    df[name] = df[c1]/df[c2]"
   ]
  },
  {
   "cell_type": "markdown",
   "metadata": {},
   "source": [
    "## Preparatory steps"
   ]
  },
  {
   "cell_type": "markdown",
   "metadata": {},
   "source": [
    "The first step was a preliminary exploration of the website's responses and code using Postman and the Google Chrome dev tools.\n",
    "\n",
    "- For the Times, looking at the JSON response from the ranking website immediately led to the right data.\n",
    "- For TopUniversities, we searched for the occurence of some string data on Postman, leading to the source of the data.\n",
    "- To find the additional information needed in the TopUniversities set, we used the Google dev tools to quickly check which classes pointed to the div tags containing the required information."
   ]
  },
  {
   "cell_type": "code",
   "execution_count": null,
   "metadata": {
    "collapsed": true
   },
   "outputs": [],
   "source": [
    "#Base URL for websites to crawl\n",
    "FILES = '/sites/default/files/'\n",
    "TOP_UNIVERSITIES = 'https://www.topuniversities.com'\n",
    "TIMES_EDUCATION = 'https://www.timeshighereducation.com'\n",
    "\n",
    "#These are the main URLs we will be working with\n",
    "TOP_UNIVERVERSITIES_TEXT = TOP_UNIVERSITIES + FILES + 'qs-rankings-data/357051.txt'\n",
    "TIMES_EDUCATION_JSON = TIMES_EDUCATION + FILES + 'the_data_rankings/world_university_rankings_2018_limit0_369a9045a203e176392b9fb8f8c1cb2a.json'"
   ]
  },
  {
   "cell_type": "markdown",
   "metadata": {},
   "source": [
    "## Exercise 1 : TopUniversities"
   ]
  },
  {
   "cell_type": "markdown",
   "metadata": {},
   "source": [
    "### Data retrieval\n",
    "The first step is pretty step forward. We simply request the JSON and create a DataFrame containing all the needed information offered by the request."
   ]
  },
  {
   "cell_type": "code",
   "execution_count": null,
   "metadata": {
    "collapsed": true
   },
   "outputs": [],
   "source": [
    "s = requests.get(TOP_UNIVERVERSITIES_TEXT)\n",
    "topjson = s.json()"
   ]
  },
  {
   "cell_type": "code",
   "execution_count": null,
   "metadata": {
    "collapsed": true
   },
   "outputs": [],
   "source": [
    "top_frame = pd.DataFrame(topjson['data']).head(200)\n",
    "del top_frame['cc'],\\\n",
    "    top_frame['logo'],\\\n",
    "    top_frame['nid'],\\\n",
    "    top_frame['core_id'],\\\n",
    "    top_frame['stars'],\\\n",
    "    top_frame['guide'] \n",
    "\n",
    "#Allows us to have a quick look at the data.\n",
    "top_frame.head()"
   ]
  },
  {
   "cell_type": "code",
   "execution_count": null,
   "metadata": {
    "collapsed": true
   },
   "outputs": [],
   "source": [
    "#This step allows us to clean the (relative) rank for comparison and add an (absolute) rank for display\n",
    "transform_rank(top_frame,'rank_display')"
   ]
  },
  {
   "cell_type": "markdown",
   "metadata": {},
   "source": [
    "The second step is a little more complicated, which is why we decided to include an example of how additional data should be retrieved in order to better understand our methodology."
   ]
  },
  {
   "cell_type": "code",
   "execution_count": null,
   "metadata": {
    "collapsed": true
   },
   "outputs": [],
   "source": [
    "r = requests.get(TOP_UNIVERSITIES + '/universities/university-cambridge')\n",
    "page_body = r.text\n",
    "soup = BeautifulSoup(page_body, 'html.parser')\n",
    "\n",
    "#In order to get the right numbers, we use [1:-1] in order to delete the leading and trailing spaces\n",
    "student_number = (soup.find('div', class_='total student')).find('div', class_='number').text[1:-1]\n",
    "int_student = (soup.find('div', class_='total inter')).find('div', class_='number').text[1:-1]\n",
    "facult_number = (soup.find('div', class_='total faculty')).find('div', class_='number').text[1:-1]\n",
    "int_faculty = (soup.find('div', class_='inter faculty')).find('div', class_='number').text[1:-1]\n",
    "\n",
    "#We create a new DataFrame to visualize the new information\n",
    "pd.DataFrame.from_dict({'students' : [student_number], \n",
    "              'international students': [int_student], \n",
    "              'faculty' : [facult_number], \n",
    "              'international faculty' : [int_faculty] })"
   ]
  },
  {
   "cell_type": "markdown",
   "metadata": {},
   "source": [
    "The following function allows us to get all the useful information. As asked, we make sure that we have the name, rank, country, region, number of faculty members (international and total) and number of students (international and total) in the final DataFrame."
   ]
  },
  {
   "cell_type": "code",
   "execution_count": null,
   "metadata": {
    "collapsed": true
   },
   "outputs": [],
   "source": [
    "def get_additional_info(url):\n",
    "    r = requests.get(TOP_UNIVERSITIES + url)\n",
    "    assert r.status_code != 404, 'Bad request: could not get data'\n",
    "    page_body = r.text\n",
    "    soup = BeautifulSoup(page_body, 'html.parser')\n",
    "    \n",
    "    #In the following steps, we make sure the values exist before fetching them\n",
    "    student_number = (soup.find('div', class_='total student')) \n",
    "    if student_number:\n",
    "        student_number = student_number.find('div', class_='number')\n",
    "        \n",
    "    int_student = (soup.find('div', class_='total inter'))\n",
    "    if int_student:\n",
    "        int_student = int_student.find('div', class_='number')\n",
    "    \n",
    "    faculty_number = (soup.find('div', class_='total faculty'))\n",
    "    if faculty_number:\n",
    "        faculty_number = faculty_number.find('div', class_='number')\n",
    "        \n",
    "    int_faculty = (soup.find('div', class_='inter faculty'))\n",
    "    if int_faculty:\n",
    "        int_faculty = int_faculty.find('div', class_='number')\n",
    "    \n",
    "    frame = pd.DataFrame.from_dict({'students' : [remove_blank_convert_float(student_number)], \n",
    "              'international students': [remove_blank_convert_float(int_student)], \n",
    "              'faculty' : [remove_blank_convert_float(faculty_number)], \n",
    "              'international faculty' : [remove_blank_convert_float(int_faculty)] })\n",
    "    return frame"
   ]
  },
  {
   "cell_type": "code",
   "execution_count": null,
   "metadata": {
    "collapsed": true
   },
   "outputs": [],
   "source": [
    "#Takes a relatively long time to run the first time\n",
    "\n",
    "#We create a folder to store all the data.\n",
    "if not osp.exists(DATA_FOLDER):\n",
    "    os.makedirs(DATA_FOLDER)\n",
    "\n",
    "#We create a file to store the TopUniversities Ranking\n",
    "top_file = DATA_FOLDER + 'top_ranking.pkl'\n",
    "if osp.exists(top_file):\n",
    "    merged_top = load_pkl(top_file)\n",
    "else:\n",
    "    missing_rows = pd.DataFrame()\n",
    "    for url in top_frame.url:\n",
    "        new_info = get_additional_info(url)\n",
    "        missing_rows = missing_rows.append(new_info, ignore_index = True)\n",
    "    merged_top = pd.concat([top_frame, missing_rows], axis=1, join_axes=[top_frame.index])\n",
    "    save_pkl(merged_top, top_file)"
   ]
  },
  {
   "cell_type": "markdown",
   "metadata": {},
   "source": [
    "We have undefined values in the \"merged_top\" set due to the lack of information on the website, so we simply propagate NAN values."
   ]
  },
  {
   "cell_type": "markdown",
   "metadata": {},
   "source": [
    "### Best universities by ratio :\n",
    "We first determine which universities are the best according to the faculty/student ratio (and display the top of the list). To do that, we create a new DataFrame only containing the relevant information (university, ratio and relative rank for display)."
   ]
  },
  {
   "cell_type": "code",
   "execution_count": null,
   "metadata": {
    "collapsed": true
   },
   "outputs": [],
   "source": [
    "top_fac_stud = merged_top\n",
    "ratios_calc(top_fac_stud,'faculty', 'students', 'faculty/students')\n",
    "top_fac_stud = top_fac_stud[['title', 'faculty/students', 'rank_display']]"
   ]
  },
  {
   "cell_type": "code",
   "execution_count": null,
   "metadata": {
    "collapsed": true
   },
   "outputs": [],
   "source": [
    "top_fac_stud = top_fac_stud.sort_values(['faculty/students', 'rank_display'], ascending=[False, True])\n",
    "top_fac_stud.index = range(len(top_fac_stud.index))\n",
    "top_fac_stud.head()"
   ]
  },
  {
   "cell_type": "markdown",
   "metadata": {},
   "source": [
    "The other important ratio used to determine the quality of a school is international/total students. We use a similar method as before to obtain these numbers."
   ]
  },
  {
   "cell_type": "code",
   "execution_count": null,
   "metadata": {
    "collapsed": true
   },
   "outputs": [],
   "source": [
    "top_int_stud = merged_top\n",
    "ratios_calc(top_int_stud,'international students', 'students', 'international/students')\n",
    "top_int_stud = top_int_stud[['title', 'international/students', 'rank_display']]\n",
    "top_int_stud.head()"
   ]
  },
  {
   "cell_type": "code",
   "execution_count": null,
   "metadata": {
    "collapsed": true
   },
   "outputs": [],
   "source": [
    "top_int_stud = top_int_stud.sort_values(['international/students', 'rank_display'], ascending=[False, True])\n",
    "top_int_stud.index = range(len(top_fac_stud.index))\n",
    "top_int_stud.head()"
   ]
  },
  {
   "cell_type": "markdown",
   "metadata": {},
   "source": [
    "To better understand and visualize the top universities according to each ration, we plot the top 10 universities."
   ]
  },
  {
   "cell_type": "code",
   "execution_count": null,
   "metadata": {
    "collapsed": true
   },
   "outputs": [],
   "source": [
    "best_fac = top_fac_stud.head(10)\n",
    "best_int = top_int_stud.head(10)"
   ]
  },
  {
   "cell_type": "code",
   "execution_count": null,
   "metadata": {
    "collapsed": true
   },
   "outputs": [],
   "source": [
    "sns.barplot(y=\"title\", x=\"faculty/students\", hue=\"rank_display\", data=best_fac)\n",
    "plt.title(\"Best universities by faculty to students ratio\")\n",
    "plt.show()\n",
    "\n",
    "sns.barplot(y=\"title\", x=\"international/students\", hue=\"rank_display\", data=best_int)\n",
    "plt.title(\"Best universities by internatinal students to students ratio\")\n",
    "plt.show()"
   ]
  },
  {
   "cell_type": "markdown",
   "metadata": {},
   "source": [
    "### Best universities by geographic location :\n",
    "TODO : what happened to our code ?!"
   ]
  },
  {
   "cell_type": "code",
   "execution_count": null,
   "metadata": {
    "collapsed": true
   },
   "outputs": [],
   "source": []
  },
  {
   "cell_type": "markdown",
   "metadata": {},
   "source": [
    "#### Best countries and regions"
   ]
  },
  {
   "cell_type": "markdown",
   "metadata": {},
   "source": [
    "We understood that the question asked us to create a rating of the regions and countries with the most universities that were in the top 200. So a better region or country is not the one that has the highest university but the one that has the most."
   ]
  },
  {
   "cell_type": "code",
   "execution_count": null,
   "metadata": {
    "collapsed": true
   },
   "outputs": [],
   "source": [
    "best_countries = pd.DataFrame(merged_top['country'].value_counts())\n",
    "# Unfortunatley, index can't be used in seaborn, so I have to change our dataframe a bit\n",
    "best_countries = best_countries.reset_index()\n",
    "best_countries.columns = ['country', 'universities']\n",
    "\n",
    "best_regions = pd.DataFrame(merged_top['region'].value_counts())\n",
    "best_regions = best_regions.reset_index()\n",
    "best_regions.columns = ['region', 'universities']"
   ]
  },
  {
   "cell_type": "markdown",
   "metadata": {},
   "source": [
    "There are only 5 regions so we will plot all of them, but for the countries, we will only take the 10 first countries and consider them the \"best\". Note that we have 34 countries total in the list."
   ]
  },
  {
   "cell_type": "code",
   "execution_count": null,
   "metadata": {
    "collapsed": true
   },
   "outputs": [],
   "source": [
    "best_countries = best_countries.head(10) #they are already ordered.\n",
    "\n",
    "sns.barplot(y='country', x='universities', data=best_countries)\n",
    "plt.title(\"Best countries according to number of top universities\")\n",
    "plt.show()\n",
    "\n",
    "sns.barplot(y=\"region\", x=\"universities\", data=best_regions)\n",
    "plt.title(\"Regions according to number of top universities\")\n",
    "plt.show()"
   ]
  },
  {
   "cell_type": "markdown",
   "metadata": {},
   "source": [
    "TODO: Keeping code below but not using it ^^\""
   ]
  },
  {
   "cell_type": "markdown",
   "metadata": {},
   "source": [
    "It is time to aggregate the universities by country and region in order to sort them by ranking."
   ]
  },
  {
   "cell_type": "code",
   "execution_count": null,
   "metadata": {
    "collapsed": true
   },
   "outputs": [],
   "source": [
    "top_country = merged_top.sort_values(['country', 'rank_display'], ascending=[True,False])\n",
    "top_country.set_index('country')"
   ]
  },
  {
   "cell_type": "code",
   "execution_count": null,
   "metadata": {
    "collapsed": true
   },
   "outputs": [],
   "source": [
    "# Need to work on it (cf Above)\n",
    "top_region = merged_top\n",
    "top_region = top_region.groupby(\"region\", as_index = False)[\"score\"].max()\n",
    "top_region = top_region.sort_values(\"score\", ascending = False)\n",
    "top_region.index = range(len(top_region.index))\n",
    "top_region.head()"
   ]
  },
  {
   "cell_type": "markdown",
   "metadata": {},
   "source": [
    "## Exercise 2 : Times Higher Education"
   ]
  },
  {
   "cell_type": "markdown",
   "metadata": {},
   "source": [
    "In the following exercise, we mostly do the same steps as for the first exercise. Thus, we will not precise each step (except for different handlings of the data)."
   ]
  },
  {
   "cell_type": "markdown",
   "metadata": {},
   "source": [
    "### Data retrieval"
   ]
  },
  {
   "cell_type": "code",
   "execution_count": null,
   "metadata": {
    "collapsed": true
   },
   "outputs": [],
   "source": [
    "r = requests.get(TIMES_EDUCATION_JSON)\n",
    "timesjson = r.json()"
   ]
  },
  {
   "cell_type": "code",
   "execution_count": null,
   "metadata": {
    "collapsed": true
   },
   "outputs": [],
   "source": [
    "times_frame = pd.DataFrame(timesjson['data']).head(200) #Keep the first 200 schools\n",
    "times_frame = times_frame[[d for d in times_frame.columns if not ('score' in d)]] #Drop useless frames\n",
    "del times_frame['member_level'],\\\n",
    "    times_frame['nid'],\\\n",
    "    times_frame['record_type'],\\\n",
    "    times_frame['subjects_offered'],\\\n",
    "    times_frame['stats_female_male_ratio']\n",
    "times_frame['rank_order'] = times_frame['rank_order'].map(lambda x: int(int(x)/10)) #Keeping absolute order\n",
    "\n",
    "#We display the format of the elements we retrieved to get a better visualization\n",
    "times_frame.head()"
   ]
  },
  {
   "cell_type": "code",
   "execution_count": null,
   "metadata": {
    "collapsed": true
   },
   "outputs": [],
   "source": [
    "#We create a file to store the Times Higher Education Ranking\n",
    "times_file = DATA_FOLDER + 'times_ranking.pkl'\n",
    "if osp.exists(times_file):\n",
    "    merged_top = load_pkl(times_file)\n",
    "else:\n",
    "    missing_rows = pd.DataFrame()\n",
    "    for url in top_frame.url:\n",
    "        new_info = get_additional_info(url)\n",
    "        missing_rows = missing_rows.append(new_info, ignore_index = True)\n",
    "    merged_times = pd.concat([times_frame, missing_rows], axis=1, join_axes=[top_frame.index])\n",
    "    save_pkl(merged_times, times_file)"
   ]
  },
  {
   "cell_type": "code",
   "execution_count": null,
   "metadata": {
    "collapsed": true
   },
   "outputs": [],
   "source": [
    "times_frame.shape\n",
    "transform_rank(times_frame,'rank')"
   ]
  },
  {
   "cell_type": "markdown",
   "metadata": {},
   "source": [
    "### Best universities by ratio :"
   ]
  },
  {
   "cell_type": "markdown",
   "metadata": {},
   "source": [
    "This is the faculty/students ratio."
   ]
  },
  {
   "cell_type": "code",
   "execution_count": null,
   "metadata": {
    "collapsed": true
   },
   "outputs": [],
   "source": [
    "times_fac_stud = merged_times\n",
    "ratios_calc(times_fac_stud,'faculty', 'students', 'faculty/students')\n",
    "times_fac_stud = times_fac_stud[['title', 'faculty/students', 'rank_display']]"
   ]
  },
  {
   "cell_type": "code",
   "execution_count": null,
   "metadata": {
    "collapsed": true
   },
   "outputs": [],
   "source": [
    "times_fac_stud = times_fac_stud.sort_values(['faculty/students', 'rank_display'], ascending=[False, True])\n",
    "times_fac_stud.index = range(len(times_fac_stud.index))\n",
    "times_fac_stud.head()"
   ]
  },
  {
   "cell_type": "markdown",
   "metadata": {},
   "source": [
    "This is the international/total ratio."
   ]
  },
  {
   "cell_type": "code",
   "execution_count": null,
   "metadata": {
    "collapsed": true
   },
   "outputs": [],
   "source": [
    "times_int_stud = merged_times\n",
    "ratios_calc(times_int_stud,'international students', 'students', 'international/students')\n",
    "times_int_stud = times_int_stud[['title', 'international/students', 'rank_display']]\n",
    "times_int_stud.head()"
   ]
  },
  {
   "cell_type": "code",
   "execution_count": null,
   "metadata": {
    "collapsed": true
   },
   "outputs": [],
   "source": [
    "times_int_stud = times_int_stud.sort_values(['international/students', 'rank_display'], ascending=[False, True])\n",
    "times_int_stud.index = range(len(times_int_stud.index))\n",
    "times_int_stud.head()"
   ]
  },
  {
   "cell_type": "markdown",
   "metadata": {},
   "source": [
    "This is the visualization of the best elements we have."
   ]
  },
  {
   "cell_type": "code",
   "execution_count": null,
   "metadata": {
    "collapsed": true
   },
   "outputs": [],
   "source": [
    "best_fac = top_fac_stud.head(10)\n",
    "best_int = top_int_stud.head(10)"
   ]
  },
  {
   "cell_type": "code",
   "execution_count": null,
   "metadata": {
    "collapsed": true
   },
   "outputs": [],
   "source": [
    "sns.barplot(y=\"title\", x=\"faculty/students\", hue=\"rank_display\", data=best_fac)\n",
    "plt.title(\"Best universities by faculty to students ratio\")\n",
    "plt.show()\n",
    "\n",
    "sns.barplot(y=\"title\", x=\"international/students\", hue=\"rank_display\", data=best_int)\n",
    "plt.title(\"Best universities by internatinal students to students ratio\")\n",
    "plt.show()"
   ]
  },
  {
   "cell_type": "markdown",
   "metadata": {},
   "source": [
    "### Best universities by geographic region :\n",
    "TODO : same than before (but not defined yet)"
   ]
  },
  {
   "cell_type": "markdown",
   "metadata": {},
   "source": [
    "Unlike the TopUniversities ranking, the Times Higher Education does not include the region. This way, we decide to match the countries using the regions defined by the first ranking. "
   ]
  },
  {
   "cell_type": "code",
   "execution_count": null,
   "metadata": {
    "collapsed": true
   },
   "outputs": [],
   "source": [
    "regions_by_country = dict(zip(top_frame.country, top_frame.region))"
   ]
  },
  {
   "cell_type": "code",
   "execution_count": null,
   "metadata": {
    "collapsed": true
   },
   "outputs": [],
   "source": [
    "times_frame['region'] = times_frame.location.map(regions_by_country)\n",
    "times_frame[times_frame.region.isnull()]"
   ]
  },
  {
   "cell_type": "code",
   "execution_count": null,
   "metadata": {
    "collapsed": false
   },
   "outputs": [],
   "source": [
    "#both are in Europe, amd Luxembourg isn't present anyway\n",
    "times_frame.loc[times_frame.region.isnull(), 'region'] = 'Europe' \n",
    "times_frame[times_frame.location == 'Luxembourg'] #assignment works :D\n",
    "# Need to work on the details (do everything by hand)"
   ]
  },
  {
   "cell_type": "markdown",
   "metadata": {},
   "source": [
    "## Exercise 3 :  Merging the two rankings"
   ]
  },
  {
   "cell_type": "markdown",
   "metadata": {},
   "source": [
    "First, we try to merge the two frames in a naive manner, but we see that there is almost no overlap"
   ]
  },
  {
   "cell_type": "code",
   "execution_count": null,
   "metadata": {
    "collapsed": true
   },
   "outputs": [],
   "source": [
    "#this is a bad idea\n",
    "merged_frame = pd.merge(times_frame, \n",
    "                        merged_top, how='outer', right_on=['title'], left_on=['name'])"
   ]
  },
  {
   "cell_type": "markdown",
   "metadata": {},
   "source": [
    "So instead, we check if there is a python library to help us out. And there is! But we should probably ask if we are allowed to use this..."
   ]
  },
  {
   "cell_type": "code",
   "execution_count": null,
   "metadata": {
    "collapsed": true
   },
   "outputs": [],
   "source": [
    "import difflib \n",
    "\n",
    "def get_match(element, other):\n",
    "    #difflib gets the best matching elements and returns a list of possible matches in order of accuracy\n",
    "    match = difflib.get_close_matches(element, merged_top.title)\n",
    "    return '' if len(match) == 0 else match[0]"
   ]
  },
  {
   "cell_type": "code",
   "execution_count": null,
   "metadata": {
    "collapsed": true
   },
   "outputs": [],
   "source": [
    "matches = times_frame.name.map(lambda x: get_match(x, merged_top.title))"
   ]
  },
  {
   "cell_type": "code",
   "execution_count": null,
   "metadata": {
    "collapsed": true
   },
   "outputs": [],
   "source": [
    "times_frame['mergeindex'] = matches"
   ]
  },
  {
   "cell_type": "code",
   "execution_count": null,
   "metadata": {
    "collapsed": true,
    "scrolled": false
   },
   "outputs": [],
   "source": [
    "merged_frame = pd.merge(times_frame, \n",
    "                        merged_top, how='outer', right_on=['title'], left_on=['mergeindex'])\n",
    "nulls = merged_frame[merged_frame.isnull().any(axis=1)]"
   ]
  },
  {
   "cell_type": "code",
   "execution_count": null,
   "metadata": {
    "collapsed": true
   },
   "outputs": [],
   "source": [
    "nulls_1 = nulls[nulls['name'].isnull()]\n",
    "nulls_2 = nulls[nulls['title'].isnull()]\n",
    "print(nulls_2.name)\n",
    "print(nulls_1[nulls_1['country'] == 'Germany'].title,\n",
    "nulls_2[nulls_2['location'] == 'Germany'].name)\n"
   ]
  },
  {
   "cell_type": "code",
   "execution_count": null,
   "metadata": {
    "collapsed": true
   },
   "outputs": [],
   "source": [
    "print(nulls_1[nulls_1['country'] == 'France'].title,\n",
    "nulls_2[nulls_2['location'] == 'France'].name)"
   ]
  },
  {
   "cell_type": "code",
   "execution_count": null,
   "metadata": {
    "collapsed": true
   },
   "outputs": [],
   "source": [
    "print(nulls_1[nulls_1['country'] == 'Sweden']['title'],\n",
    "nulls_2[nulls_2['location'] == 'Sweden']['name'])"
   ]
  },
  {
   "cell_type": "markdown",
   "metadata": {},
   "source": [
    "We see that the only improvement possible is combining LMU Munich and Ludwig-Maximilians-Universität München, as this is one row, we just do it manually"
   ]
  },
  {
   "cell_type": "code",
   "execution_count": null,
   "metadata": {
    "collapsed": true
   },
   "outputs": [],
   "source": [
    "#TODO: add rank? I don't think we need anything else, all other values are junk that won't be needed for question 4 and 5"
   ]
  },
  {
   "cell_type": "markdown",
   "metadata": {},
   "source": [
    "## Exercise 4 : Exploratory Analysis"
   ]
  },
  {
   "cell_type": "markdown",
   "metadata": {},
   "source": [
    "## Exercise 5 : Best Universities"
   ]
  }
 ],
 "metadata": {
  "anaconda-cloud": {},
  "kernelspec": {
   "display_name": "Python [default]",
   "language": "python",
   "name": "python3"
  },
  "language_info": {
   "codemirror_mode": {
    "name": "ipython",
    "version": 3
   },
   "file_extension": ".py",
   "mimetype": "text/x-python",
   "name": "python",
   "nbconvert_exporter": "python",
   "pygments_lexer": "ipython3",
   "version": "3.5.2"
  }
 },
 "nbformat": 4,
 "nbformat_minor": 1
}
