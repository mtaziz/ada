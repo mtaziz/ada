{
 "cells": [
  {
   "cell_type": "markdown",
   "metadata": {},
   "source": [
    "# Homework 2\n",
    "\n",
    "We first import the needed libraries and set the elements we need for the rest of the Homework"
   ]
  },
  {
   "cell_type": "code",
   "execution_count": null,
   "metadata": {
    "collapsed": true
   },
   "outputs": [],
   "source": [
    "# Used to look for the saved rankings\n",
    "DATA_FOLDER = 'Data/'"
   ]
  },
  {
   "cell_type": "code",
   "execution_count": null,
   "metadata": {
    "collapsed": true
   },
   "outputs": [],
   "source": [
    "# Importing libraries\n",
    "import re #for regexes\n",
    "import requests\n",
    "import numpy as np\n",
    "import unicodedata #useful for ex 3\n",
    "import pickle as pk\n",
    "import pandas as pd\n",
    "import seaborn as sns\n",
    "import os, os.path as osp\n",
    "from bs4 import BeautifulSoup\n",
    "import matplotlib.pyplot as plt"
   ]
  },
  {
   "cell_type": "code",
   "execution_count": null,
   "metadata": {
    "collapsed": true
   },
   "outputs": [],
   "source": [
    "# We set a few things for seaborn to have uniform plots in the notebook\n",
    "sns.set(style=\"darkgrid\")\n",
    "sns.set_context(\"notebook\")\n",
    "sns.set_palette(\"RdPu_d\", 10)"
   ]
  },
  {
   "cell_type": "markdown",
   "metadata": {},
   "source": [
    "## Useful functions\n",
    "\n",
    "The following functions are helper functions allowing us to have a cleaner code"
   ]
  },
  {
   "cell_type": "code",
   "execution_count": null,
   "metadata": {
    "collapsed": true
   },
   "outputs": [],
   "source": [
    "#Functions allowing us to manipulate Pickle files (faster running time)\n",
    "def save_pkl(obj, path):\n",
    "    \"\"\"Saves into a pickle file to given path.\"\"\"\n",
    "    with open(path, 'wb') as f:\n",
    "        pk.dump(obj, f)  \n",
    "        \n",
    "def load_pkl(path):\n",
    "    \"\"\"Loads a pickle file from a given path.\"\"\"\n",
    "    with open(path, 'rb') as f:\n",
    "        return pk.load(f)"
   ]
  },
  {
   "cell_type": "code",
   "execution_count": null,
   "metadata": {
    "collapsed": true
   },
   "outputs": [],
   "source": [
    "#Functions allowing us to clean our data\n",
    "def transform_rank(df, cname):\n",
    "    \"\"\"Function that transforms the rank from a string to an int. \n",
    "    We also use it to define a relative and an absolute ranking\"\"\"\n",
    "    \n",
    "    df.rename(columns = {cname: 'relative_rank'}, inplace = True)\n",
    "    df['absolute_rank'] = df.index + 1\n",
    "    \n",
    "    #The assert is needed to ensure that we have strings (else the code produces errors).\n",
    "    assert df['relative_rank'].dtype == np.object_, \"We do not have strings in \" + 'relative_rank'\n",
    "    df['relative_rank'] = df['relative_rank'].str.replace(r'\\D+', '').astype('int')\n",
    "    \n",
    "def remove_blank_convert_float(x):\n",
    "    \"\"\"Removes blankspace from x and parses it to float.\"\"\"\n",
    "    if(x):\n",
    "        x = x.text[1:-1].replace(\",\",\"\")\n",
    "        x_float = float(x)\n",
    "    else:\n",
    "        #Using NAN for unknown values to facilitate computation\n",
    "        x_float = float('NAN')\n",
    "    return x_float"
   ]
  },
  {
   "cell_type": "code",
   "execution_count": null,
   "metadata": {
    "collapsed": true
   },
   "outputs": [],
   "source": [
    "#As we need to compute several ratios, we decided to modularize this operation\n",
    "def ratios_calc(df, c1, c2, name):\n",
    "    \"\"\"Function that computes ratios for a given DataFrame.\n",
    "        df is the DataFrame\n",
    "        c1 is the name of the first column for the ratio,\n",
    "        c2 is the name of the second column for the ratio,\n",
    "        name is the name of the new column\n",
    "    \"\"\"\n",
    "    # Computes the ratio and puts it in a new column\n",
    "    df[name] = df[c1]/df[c2]"
   ]
  },
  {
   "cell_type": "markdown",
   "metadata": {},
   "source": [
    "## Preparatory steps"
   ]
  },
  {
   "cell_type": "markdown",
   "metadata": {},
   "source": [
    "The first step was a preliminary exploration of the website's responses and code using Postman and the Google Chrome dev tools.\n",
    "\n",
    "- For the Times, looking at the JSON response from the ranking website immediately led to the right data.\n",
    "- For TopUniversities, we searched for through occurence of \"qs-rankings data\" on Postman, and found the url linking to the source of the data.\n",
    "- To find the additional information needed in the TopUniversities set, we used the Google dev tools to quickly check which html classes pointed to the div tags containing the required information."
   ]
  },
  {
   "cell_type": "code",
   "execution_count": null,
   "metadata": {
    "collapsed": true
   },
   "outputs": [],
   "source": [
    "#Base URL for websites to crawl\n",
    "FILES = '/sites/default/files/'\n",
    "TOP_UNIVERSITIES = 'https://www.topuniversities.com'\n",
    "TIMES_EDUCATION = 'https://www.timeshighereducation.com'\n",
    "\n",
    "#These are the main URLs we will be working with\n",
    "TOP_UNIVERVERSITIES_TEXT = TOP_UNIVERSITIES + FILES + 'qs-rankings-data/357051.txt'\n",
    "TIMES_EDUCATION_JSON = TIMES_EDUCATION + FILES + 'the_data_rankings/world_university_rankings_2018_limit0_369a9045a203e176392b9fb8f8c1cb2a.json'"
   ]
  },
  {
   "cell_type": "markdown",
   "metadata": {},
   "source": [
    "## Exercise 1 : TopUniversities"
   ]
  },
  {
   "cell_type": "markdown",
   "metadata": {},
   "source": [
    "### Data retrieval\n",
    "The first step is pretty straight forward. We simply request the JSON and create a DataFrame containing all the needed information offered by the request."
   ]
  },
  {
   "cell_type": "code",
   "execution_count": null,
   "metadata": {
    "collapsed": true
   },
   "outputs": [],
   "source": [
    "s = requests.get(TOP_UNIVERVERSITIES_TEXT)\n",
    "topjson = s.json()"
   ]
  },
  {
   "cell_type": "code",
   "execution_count": null,
   "metadata": {},
   "outputs": [],
   "source": [
    "top_frame = pd.DataFrame(topjson['data']).head(200)\n",
    "#remove useless columns\n",
    "del top_frame['cc'],\\\n",
    "    top_frame['logo'],\\\n",
    "    top_frame['nid'],\\\n",
    "    top_frame['core_id'],\\\n",
    "    top_frame['stars'],\\\n",
    "    top_frame['guide']\n",
    "\n",
    "#This step allows us to clean the (relative) rank for comparison and add an (absolute) rank for display\n",
    "transform_rank(top_frame,'rank_display')\n",
    "    \n",
    "#Allows us to have a quick look at the data.\n",
    "top_frame.head()"
   ]
  },
  {
   "cell_type": "markdown",
   "metadata": {},
   "source": [
    "The second step is a little more complicated, which is why we decided to include an example of how additional data should be retrieved in order to better understand our methodology."
   ]
  },
  {
   "cell_type": "code",
   "execution_count": null,
   "metadata": {},
   "outputs": [],
   "source": [
    "r = requests.get(TOP_UNIVERSITIES + '/universities/university-cambridge')\n",
    "page_body = r.text\n",
    "soup = BeautifulSoup(page_body, 'html.parser')\n",
    "\n",
    "#In order to get the right numbers, we use [1:-1] in order to delete the leading and trailing spaces\n",
    "student_number = (soup.find('div', class_='total student')).find('div', class_='number').text[1:-1]\n",
    "int_student = (soup.find('div', class_='total inter')).find('div', class_='number').text[1:-1]\n",
    "facult_number = (soup.find('div', class_='total faculty')).find('div', class_='number').text[1:-1]\n",
    "int_faculty = (soup.find('div', class_='inter faculty')).find('div', class_='number').text[1:-1]\n",
    "\n",
    "#We create a new DataFrame to visualize the new information\n",
    "pd.DataFrame.from_dict({'students' : [student_number], \n",
    "              'international students': [int_student], \n",
    "              'faculty' : [facult_number], \n",
    "              'international faculty' : [int_faculty] })"
   ]
  },
  {
   "cell_type": "markdown",
   "metadata": {},
   "source": [
    "The following function allows us to get all the useful information. As asked, we make sure that we have the name, rank, country, region, number of faculty members (international and total) and number of students (international and total) in the final DataFrame."
   ]
  },
  {
   "cell_type": "code",
   "execution_count": null,
   "metadata": {
    "collapsed": true
   },
   "outputs": [],
   "source": [
    "def get_additional_info(url):\n",
    "    r = requests.get(TOP_UNIVERSITIES + url)\n",
    "    assert r.status_code != 404, 'Bad request: could not get data'\n",
    "    page_body = r.text\n",
    "    soup = BeautifulSoup(page_body, 'html.parser')\n",
    "    \n",
    "    #In the following steps, we make sure the values exist before fetching them\n",
    "    student_number = (soup.find('div', class_='total student')) \n",
    "    if student_number:\n",
    "        student_number = student_number.find('div', class_='number')\n",
    "        \n",
    "    int_student = (soup.find('div', class_='total inter'))\n",
    "    if int_student:\n",
    "        int_student = int_student.find('div', class_='number')\n",
    "    \n",
    "    faculty_number = (soup.find('div', class_='total faculty'))\n",
    "    if faculty_number:\n",
    "        faculty_number = faculty_number.find('div', class_='number')\n",
    "        \n",
    "    int_faculty = (soup.find('div', class_='inter faculty'))\n",
    "    if int_faculty:\n",
    "        int_faculty = int_faculty.find('div', class_='number')\n",
    "    \n",
    "    frame = pd.DataFrame.from_dict({'students' : [remove_blank_convert_float(student_number)], \n",
    "              'international students': [remove_blank_convert_float(int_student)], \n",
    "              'faculty' : [remove_blank_convert_float(faculty_number)], \n",
    "              'international faculty' : [remove_blank_convert_float(int_faculty)] })\n",
    "    return frame"
   ]
  },
  {
   "cell_type": "code",
   "execution_count": null,
   "metadata": {
    "collapsed": true
   },
   "outputs": [],
   "source": [
    "#Takes a relatively long time to run when pickle file is not present\n",
    "\n",
    "#We create a folder to store all the data.\n",
    "if not osp.exists(DATA_FOLDER):\n",
    "    os.makedirs(DATA_FOLDER)\n",
    "\n",
    "#We create a file to store the TopUniversities Ranking\n",
    "top_file = DATA_FOLDER + 'top_ranking.pkl'\n",
    "if osp.exists(top_file):\n",
    "    top_frame = load_pkl(top_file)\n",
    "else:\n",
    "    missing_rows = pd.DataFrame()\n",
    "    for url in top_frame.url:\n",
    "        new_info = get_additional_info(url)\n",
    "        missing_rows = missing_rows.append(new_info, ignore_index = True)\n",
    "    #We simply concatenate all the information and sort them in order to have a better layout similar to the one below\n",
    "    top_frame = pd.concat([top_frame, missing_rows], axis=1, join_axes=[top_frame.index])\n",
    "    top_frame.rename(columns = {'title': 'name'}, inplace = True)\n",
    "    top_frame = top_frame.reindex_axis(['country', 'region', 'name', 'score', 'relative_rank',\n",
    "                                         'absolute_rank', 'international faculty', 'faculty',\n",
    "                                         'international students', 'students', 'url'], axis=1)\n",
    "    save_pkl(top_frame, top_file)"
   ]
  },
  {
   "cell_type": "markdown",
   "metadata": {},
   "source": [
    "We have a few undefined values in the final \"top_frame\" set due to the lack of information on the website (data is not present), so we simply propagate NAN values."
   ]
  },
  {
   "cell_type": "markdown",
   "metadata": {},
   "source": [
    "### Best universities by ratio :\n",
    "We first determine which universities are the best according to the faculty/student ratio (and display the top of the list). To do that, we create a new DataFrame only containing the relevant information (university, ratio and relative rank for display)."
   ]
  },
  {
   "cell_type": "code",
   "execution_count": null,
   "metadata": {
    "collapsed": true
   },
   "outputs": [],
   "source": [
    "top_fac_stud = top_frame\n",
    "ratios_calc(top_fac_stud , 'faculty', 'students', 'faculty/students')\n",
    "top_fac_stud = top_fac_stud[['name', 'faculty/students', 'relative_rank']]"
   ]
  },
  {
   "cell_type": "code",
   "execution_count": null,
   "metadata": {},
   "outputs": [],
   "source": [
    "top_fac_stud = top_fac_stud.sort_values(['faculty/students', 'relative_rank'], ascending=[False, True])\n",
    "top_fac_stud = top_fac_stud.reset_index()\n",
    "top_fac_stud.head()"
   ]
  },
  {
   "cell_type": "markdown",
   "metadata": {},
   "source": [
    "Here we determine the ratio of international/total students. We use a similar method as before to obtain these numbers."
   ]
  },
  {
   "cell_type": "code",
   "execution_count": null,
   "metadata": {
    "collapsed": true
   },
   "outputs": [],
   "source": [
    "top_int_stud = top_frame\n",
    "ratios_calc(top_int_stud,'international students', 'students', 'international/students')\n",
    "top_int_stud = top_int_stud[['name', 'international/students', 'relative_rank']]"
   ]
  },
  {
   "cell_type": "code",
   "execution_count": null,
   "metadata": {},
   "outputs": [],
   "source": [
    "top_int_stud = top_int_stud.sort_values(['international/students', 'relative_rank'], ascending=[False, True])\n",
    "top_int_stud = top_int_stud.reset_index()\n",
    "top_int_stud.head()"
   ]
  },
  {
   "cell_type": "markdown",
   "metadata": {},
   "source": [
    "To better understand and visualize the top universities according to each ration, we plot the top [10, 20, 30, 40] universities. We note a pattern appears when plotting more than only the top 10. For better readability we show the top 20. The observations are described below. "
   ]
  },
  {
   "cell_type": "code",
   "execution_count": null,
   "metadata": {
    "collapsed": true
   },
   "outputs": [],
   "source": [
    "best_fac = top_fac_stud.head(20)\n",
    "best_int = top_int_stud.head(20)"
   ]
  },
  {
   "cell_type": "code",
   "execution_count": null,
   "metadata": {},
   "outputs": [],
   "source": [
    "cmap = plt.cm.get_cmap('Blues')\n",
    "pal = sns.color_palette(\"RdPu\", n_colors=14, desat=0.6)\n",
    "\n",
    "#the mapping is used to get a nice color interpolation, the darker the color the better the university\n",
    "sns.barplot(y=\"name\", x=\"faculty/students\", palette=best_fac['relative_rank'].map(lambda x: cmap(1-np.sqrt(1+(x - 200)/200))) , data=best_fac)\n",
    "plt.title(\"Best universities by faculty to students ratio\")\n",
    "plt.show()\n",
    "\n",
    "sns.barplot(y=\"name\", x=\"international/students\", palette=best_int['relative_rank'].map(lambda x: cmap(1-np.sqrt(1+(x - 200)/200))) , data=best_int)\n",
    "plt.title(\"Best universities by internatinal students to students ratio\")\n",
    "plt.show()"
   ]
  },
  {
   "cell_type": "markdown",
   "metadata": {},
   "source": [
    "First note that the darkness of the bar represents the position in the original ranking. The darker the better.\n",
    "By plotting the first 20 we can observe through looking at the color that the top 10 universities by faulty/student ratio are almost all ranked in the top of the general ranking as well.\n",
    "\n",
    "We note that no such pattern can be observed by plotting the student/international student ratio."
   ]
  },
  {
   "cell_type": "markdown",
   "metadata": {},
   "source": [
    "### Best universities by geographic location :\n",
    "We begin by sorting the countries by their number of universities in the 200 top schools."
   ]
  },
  {
   "cell_type": "code",
   "execution_count": null,
   "metadata": {},
   "outputs": [],
   "source": [
    "best_countries = pd.DataFrame(top_frame['country'].value_counts())\n",
    "best_countries = best_countries.reset_index()\n",
    "best_countries.columns = ['country', 'universities']\n",
    "best_countries.head()"
   ]
  },
  {
   "cell_type": "markdown",
   "metadata": {},
   "source": [
    "We perform the same actions for the regions we have"
   ]
  },
  {
   "cell_type": "code",
   "execution_count": null,
   "metadata": {},
   "outputs": [],
   "source": [
    "best_regions = pd.DataFrame(top_frame['region'].value_counts())\n",
    "best_regions = best_regions.reset_index()\n",
    "best_regions.columns = ['region', 'universities']\n",
    "best_regions.head()"
   ]
  },
  {
   "cell_type": "markdown",
   "metadata": {},
   "source": [
    "Finally we plot the best regions and countries."
   ]
  },
  {
   "cell_type": "code",
   "execution_count": null,
   "metadata": {
    "collapsed": true
   },
   "outputs": [],
   "source": [
    "best_countries = best_countries.head(10)"
   ]
  },
  {
   "cell_type": "code",
   "execution_count": null,
   "metadata": {
    "scrolled": false
   },
   "outputs": [],
   "source": [
    "sns.barplot(y='country', x='universities', data=best_countries)\n",
    "plt.title(\"Best countries according to number of top universities\")\n",
    "plt.show()\n",
    "\n",
    "sns.barplot(y=\"region\", x=\"universities\", data=best_regions)\n",
    "plt.title(\"Regions according to number of top universities\")\n",
    "plt.show()"
   ]
  },
  {
   "cell_type": "markdown",
   "metadata": {},
   "source": [
    "We can observe that the best schools lie in first world countries, with western countries being on the top. This is also reflected when sorting by region."
   ]
  },
  {
   "cell_type": "markdown",
   "metadata": {},
   "source": [
    "## Exercise 2 : Times Higher Education"
   ]
  },
  {
   "cell_type": "markdown",
   "metadata": {},
   "source": [
    "In the following exercise, we mostly do the same steps as for the first exercise. Thus, we will not precise each step (except for different handlings of the data)."
   ]
  },
  {
   "cell_type": "markdown",
   "metadata": {},
   "source": [
    "### Data retrieval"
   ]
  },
  {
   "cell_type": "code",
   "execution_count": null,
   "metadata": {
    "collapsed": true
   },
   "outputs": [],
   "source": [
    "r = requests.get(TIMES_EDUCATION_JSON)\n",
    "timesjson = r.json()"
   ]
  },
  {
   "cell_type": "code",
   "execution_count": null,
   "metadata": {},
   "outputs": [],
   "source": [
    "times_frame = pd.DataFrame(timesjson['data']).head(200) #Keep the first 200 schools\n",
    "times_frame = times_frame[[d for d in times_frame.columns if not ('score' in d)]] #Drop useless frames\n",
    "del times_frame['member_level'],\\\n",
    "    times_frame['nid'],\\\n",
    "    times_frame['record_type'],\\\n",
    "    times_frame['subjects_offered'],\\\n",
    "    times_frame['stats_female_male_ratio'],\\\n",
    "    times_frame['rank_order'],\\\n",
    "    times_frame['aliases']\n",
    "\n",
    "transform_rank(times_frame,'rank')\n",
    "times_frame.rename(columns = {'stats_number_students': 'students', \n",
    "                    'stats_pc_intl_students': 'international/students',\n",
    "                    'stats_student_staff_ratio': 'faculty/students',\n",
    "                    'location': 'country'}, inplace = True)    \n",
    "\n",
    "times_frame.head()"
   ]
  },
  {
   "cell_type": "markdown",
   "metadata": {},
   "source": [
    "### Data cleaning :"
   ]
  },
  {
   "cell_type": "markdown",
   "metadata": {},
   "source": [
    "There is a very big difference between the TopUniversities ranking and the Times Higher Education ranking when it comes to ratios, they are already provided to us. For this reason, we need to format these elements so they can be easily used. We then display the head to ensure the results are sound."
   ]
  },
  {
   "cell_type": "code",
   "execution_count": null,
   "metadata": {},
   "outputs": [],
   "source": [
    "times_frame['faculty/students'] = 1/times_frame['faculty/students'].astype('float')\n",
    "times_frame['international/students'] = (1/100) * times_frame['international/students'].str.replace('%', '').astype('int')\n",
    "times_frame.head()"
   ]
  },
  {
   "cell_type": "markdown",
   "metadata": {},
   "source": [
    "We also have the probblem that the Times Higher Education ranking does not include the region. Thus, we decide to match the countries using the regions defined by the first ranking. "
   ]
  },
  {
   "cell_type": "code",
   "execution_count": null,
   "metadata": {
    "collapsed": true
   },
   "outputs": [],
   "source": [
    "regions_by_country = dict(zip(top_frame.country, top_frame.region))"
   ]
  },
  {
   "cell_type": "markdown",
   "metadata": {},
   "source": [
    "Some countries couldn't be matched automatically"
   ]
  },
  {
   "cell_type": "code",
   "execution_count": null,
   "metadata": {},
   "outputs": [],
   "source": [
    "times_frame['region'] = times_frame.country.map(regions_by_country)\n",
    "times_frame[times_frame.region.isnull()]"
   ]
  },
  {
   "cell_type": "code",
   "execution_count": null,
   "metadata": {},
   "outputs": [],
   "source": [
    "#Both universities are in Europe, so we input the region manually\n",
    "times_frame.loc[times_frame.region.isnull(), 'region'] = 'Europe' \n",
    "times_frame.head()"
   ]
  },
  {
   "cell_type": "markdown",
   "metadata": {},
   "source": [
    "Once our data is ready, we save all the needed elements in a new file"
   ]
  },
  {
   "cell_type": "code",
   "execution_count": null,
   "metadata": {
    "collapsed": true
   },
   "outputs": [],
   "source": [
    "#We create a file to store the Times Higher Education Ranking\n",
    "times_file = DATA_FOLDER + 'times_ranking.pkl'\n",
    "if osp.exists(times_file):\n",
    "    times_frame = load_pkl(times_file)\n",
    "else:\n",
    "    times_frame = times_frame.reindex_axis(['country', 'region', 'name', 'relative_rank',\n",
    "                                         'absolute_rank', 'faculty/students', 'international/students', \n",
    "                                         'students', 'url'], axis=1)\n",
    "    save_pkl(times_frame, times_file)"
   ]
  },
  {
   "cell_type": "markdown",
   "metadata": {},
   "source": [
    "### Best universities by ratio :"
   ]
  },
  {
   "cell_type": "markdown",
   "metadata": {},
   "source": [
    "We visualize the best universities according to their ratios (after sorting them)."
   ]
  },
  {
   "cell_type": "code",
   "execution_count": null,
   "metadata": {
    "collapsed": true
   },
   "outputs": [],
   "source": [
    "best_fac = times_frame[['name', 'faculty/students', 'relative_rank']]\n",
    "best_fac = times_frame.sort_values(['faculty/students', 'relative_rank'], ascending=[False, True])\n",
    "best_fac.index = range(len(best_fac.index))\n"
   ]
  },
  {
   "cell_type": "code",
   "execution_count": null,
   "metadata": {
    "collapsed": true
   },
   "outputs": [],
   "source": [
    "best_int = best_int[['name', 'international/students', 'relative_rank']]\n",
    "best_int = best_int.sort_values(['international/students', 'relative_rank'], ascending=[False, True])\n",
    "best_int = best_int.reset_index()\n"
   ]
  },
  {
   "cell_type": "code",
   "execution_count": null,
   "metadata": {
    "collapsed": true
   },
   "outputs": [],
   "source": [
    "best_fac = best_fac.head(20)\n",
    "best_int = best_int.head(20)"
   ]
  },
  {
   "cell_type": "code",
   "execution_count": null,
   "metadata": {},
   "outputs": [],
   "source": [
    "cmap = plt.cm.get_cmap('Blues')\n",
    "pal = sns.color_palette(\"RdPu\", n_colors=14, desat=0.6)\n",
    "\n",
    "sns.barplot(y=\"name\", x=\"faculty/students\", palette=best_fac['relative_rank'].map(lambda x: cmap(1-np.sqrt(1+(x - 200)/200))) , data=best_fac)\n",
    "plt.title(\"Best universities by faculty to students ratio\")\n",
    "plt.show()\n",
    "\n",
    "sns.barplot(y=\"name\", x=\"international/students\", palette=best_int['relative_rank'].map(lambda x: cmap(1-np.sqrt(1+(x - 200)/200))) , data=best_int)\n",
    "plt.title(\"Best universities by internatinal students to students ratio\")\n",
    "plt.show()"
   ]
  },
  {
   "cell_type": "markdown",
   "metadata": {},
   "source": [
    "Interestingly, the faculty to student ratio in the Times ranking seems to contain very different values, hence we can not observe a similar distribution as for the Top Universities ranking.\n",
    "\n",
    "The international student to student ratio, however, is similarly distributed."
   ]
  },
  {
   "cell_type": "markdown",
   "metadata": {},
   "source": [
    "### Best universities by geographic region :"
   ]
  },
  {
   "cell_type": "markdown",
   "metadata": {},
   "source": [
    "Unlike the TopUniversities ranking, the Times Higher Education ranking does not include the region. We previously used to mapping defined in TopUniversities to map countries in Times to the regions."
   ]
  },
  {
   "cell_type": "markdown",
   "metadata": {},
   "source": [
    "This is the ranking by country."
   ]
  },
  {
   "cell_type": "code",
   "execution_count": null,
   "metadata": {},
   "outputs": [],
   "source": [
    "best_countries = pd.DataFrame(times_frame['country'].value_counts())\n",
    "best_countries = best_countries.reset_index()\n",
    "best_countries.columns = ['country', 'universities']\n",
    "best_countries.head()"
   ]
  },
  {
   "cell_type": "markdown",
   "metadata": {},
   "source": [
    "This is the ranking by region."
   ]
  },
  {
   "cell_type": "code",
   "execution_count": null,
   "metadata": {},
   "outputs": [],
   "source": [
    "best_regions = pd.DataFrame(times_frame['region'].value_counts())\n",
    "best_regions = best_regions.reset_index()\n",
    "best_regions.columns = ['region', 'universities']\n",
    "best_regions.head()"
   ]
  },
  {
   "cell_type": "markdown",
   "metadata": {},
   "source": [
    "Finally, we plot our results"
   ]
  },
  {
   "cell_type": "code",
   "execution_count": null,
   "metadata": {
    "collapsed": true
   },
   "outputs": [],
   "source": [
    "best_countries = best_countries.head(10)"
   ]
  },
  {
   "cell_type": "code",
   "execution_count": null,
   "metadata": {},
   "outputs": [],
   "source": [
    "sns.barplot(y='country', x='universities', data=best_countries)\n",
    "plt.title(\"Best countries according to number of top universities\")\n",
    "plt.show()\n",
    "\n",
    "sns.barplot(y=\"region\", x=\"universities\", data=best_regions)\n",
    "plt.title(\"Regions according to number of top universities\")\n",
    "plt.show()"
   ]
  },
  {
   "cell_type": "markdown",
   "metadata": {},
   "source": [
    "We note that similarly to the topuniversities ranking, first world, mostly western countries fare the best. We can see that while the Top Universities ranking didn't contain any african universities, the Times ranking does. But unlike the Top Universities ranking, it does not seem to contain any latin american universities."
   ]
  },
  {
   "cell_type": "markdown",
   "metadata": {},
   "source": [
    "## Exercise 3 :  Merging the two rankings"
   ]
  },
  {
   "cell_type": "markdown",
   "metadata": {},
   "source": [
    "### Naive Merge"
   ]
  },
  {
   "cell_type": "markdown",
   "metadata": {},
   "source": [
    "We tried to merge the two DataFrames in a naive manner with a simple join, and found that barely any columns matched.\n",
    "\n",
    "We also tried to use difflib, a Python library, but it gives us false positives for certain universities. If it gave us false negatives, it wouldn't be a huge problem, but the opposite is one as we don't want any errors in our mergers. \n",
    "\n",
    "Hence, we created our own method. The idea behind this is that non-alphanumeric characters in the strings make it so that the strings are not an exact match. It also happens that some university names in one DataFrame are a substring of those in the other.\n",
    "\n",
    "For some languages (french and german for example), non-unicode characters (like é and è or ö and ü) impede the matching. Thus, removing all these may increase our matching rate, without giving us any false positives."
   ]
  },
  {
   "cell_type": "code",
   "execution_count": null,
   "metadata": {
    "collapsed": true
   },
   "outputs": [],
   "source": [
    "def ascii(s):\n",
    "    s = re.sub(\"\\W+\", \"\", s)\n",
    "    s = s.replace(\"at\", '')\n",
    "    # transforms é with e for example\n",
    "    return ''.join((c for c in unicodedata.normalize('NFD', s) if unicodedata.category(c) != 'Mn'))\n",
    "\n",
    "#apply the transformation to both frames\n",
    "top_frame.name = top_frame.name.map(str.lower).map(ascii)\n",
    "times_frame.name = times_frame.name.map(str.lower).map(ascii)"
   ]
  },
  {
   "cell_type": "markdown",
   "metadata": {},
   "source": [
    "We create a dictionary with the different matches, making sure to fill it from both sides (check if a is in b and if b is in a). As we sometimes have multiple matches, it is best not to do anything right now at the risk of getting false positives."
   ]
  },
  {
   "cell_type": "code",
   "execution_count": null,
   "metadata": {},
   "outputs": [],
   "source": [
    "i = 0\n",
    "university_name = dict()\n",
    "\n",
    "for name in times_frame['name']:\n",
    "    if (top_frame['name'].str.contains(name).any()) \\\n",
    "    and len(top_frame.name[top_frame['name'].str.contains(name)]) == 1:\n",
    "        #way to check how many direct matches we have\n",
    "        university_name[name] = top_frame.name[top_frame['name'].str.contains(name)].item()\n",
    "        #matches_1.append(top_frame.name[top_frame['name'].str.contains(name)].item())\n",
    "        i = i+1\n",
    "        \n",
    "    #if we have multiple possibilities, take exact match if it exists\n",
    "    elif (top_frame['name'].str.contains(name).any()) \\\n",
    "    and len(top_frame.name[top_frame['name'].str.contains(name)]) != 1\\\n",
    "    and not top_frame.name[top_frame['name'] == name].empty:\n",
    "        university_name[name] = top_frame.name[top_frame['name'] == name]\n",
    "#Number of matches.\n",
    "len(university_name)"
   ]
  },
  {
   "cell_type": "code",
   "execution_count": null,
   "metadata": {},
   "outputs": [],
   "source": [
    "# Mostly the same but the other way around.\n",
    "i = 0\n",
    "\n",
    "for name in top_frame['name']:\n",
    "    if times_frame['name'].str.contains(name).any()\\\n",
    "    and len(times_frame.name[times_frame['name'].str.contains(name)]) == 1:\n",
    "        university_name[times_frame.name[times_frame['name'].str.contains(name)].item()] = name\n",
    "        i = i+1\n",
    "    elif (times_frame['name'].str.contains(name).any()) \\\n",
    "    and len(times_frame.name[times_frame['name'].str.contains(name)]) != 1\\\n",
    "    and not times_frame.name[times_frame['name'] == name].empty:\n",
    "        university_name[times_frame.name[times_frame['name'] == name].item()] = name\n",
    "#Number of matches.\n",
    "len(university_name)"
   ]
  },
  {
   "cell_type": "markdown",
   "metadata": {},
   "source": [
    "As we can see, we only have 148 matches, which leaves us with (at least) 52 unmatches universities."
   ]
  },
  {
   "cell_type": "markdown",
   "metadata": {},
   "source": [
    "### Specific Cases"
   ]
  },
  {
   "cell_type": "markdown",
   "metadata": {},
   "source": [
    "We decided to take a look at all the unmatched universities to see if we can do better."
   ]
  },
  {
   "cell_type": "code",
   "execution_count": null,
   "metadata": {
    "collapsed": true
   },
   "outputs": [],
   "source": [
    "times_frame['join_here'] = times_frame.name.map(university_name)\n",
    "still_na = times_frame[times_frame['join_here'].isnull()]\n",
    "inv_unimap = {v: k for k, v in university_name.items()} #inverse dictionary\n",
    "top_frame['join_here'] = top_frame.name.map(inv_unimap)\n",
    "top_na = top_frame[top_frame['join_here'].isnull()]"
   ]
  },
  {
   "cell_type": "markdown",
   "metadata": {},
   "source": [
    "We go through each country to check if there are any unmatched universities or if they exist in only one of the rankings. This will allow us to understand the difficulties in each one of them. We could use the aliases, but in reality, they do not help for matching."
   ]
  },
  {
   "cell_type": "code",
   "execution_count": null,
   "metadata": {},
   "outputs": [],
   "source": [
    "#This set gives us the set of countries for which both frames have unmatched universities\n",
    "na_countries = set(top_na.groupby('country').size().index).intersection(set(still_na.groupby('country').size().index))\n",
    "na_countries"
   ]
  },
  {
   "cell_type": "code",
   "execution_count": null,
   "metadata": {
    "collapsed": true
   },
   "outputs": [],
   "source": [
    "def print_universities(country):\n",
    "    \"\"\"prints universities from the same country\"\"\"\n",
    "    print(country, \"\\n\")\n",
    "    print(\"TopUniversities university names :\")\n",
    "    print(top_na[top_na.country == country].name)\n",
    "    print(\"\\nTimes Higher Education university names\")\n",
    "    print(still_na[still_na.country == country].name)"
   ]
  },
  {
   "cell_type": "markdown",
   "metadata": {},
   "source": [
    "Concerning Belgium, we have no possible matches between the 2 rankings."
   ]
  },
  {
   "cell_type": "code",
   "execution_count": null,
   "metadata": {},
   "outputs": [],
   "source": [
    "print_universities(\"Belgium\"\u001d",
    ")"
   ]
  },
  {
   "cell_type": "markdown",
   "metadata": {},
   "source": [
    "In Canada, the main issue of merging is the use of the university name in a different language."
   ]
  },
  {
   "cell_type": "code",
   "execution_count": null,
   "metadata": {},
   "outputs": [],
   "source": [
    "print_universities(\"Canada\"\u001d",
    ")"
   ]
  },
  {
   "cell_type": "markdown",
   "metadata": {},
   "source": [
    "Once again in France, the only possible merges are prevented because of the use of the university name in a different language."
   ]
  },
  {
   "cell_type": "code",
   "execution_count": null,
   "metadata": {},
   "outputs": [],
   "source": [
    "print_universities(\"France\"\u001d",
    ")"
   ]
  },
  {
   "cell_type": "markdown",
   "metadata": {},
   "source": [
    "We see that matchings in Germany can be improved a lot because of naming conventions in Germany impede on the matching."
   ]
  },
  {
   "cell_type": "code",
   "execution_count": null,
   "metadata": {},
   "outputs": [],
   "source": [
    "print_universities(\"Germany\"\u001d",
    ")"
   ]
  },
  {
   "cell_type": "markdown",
   "metadata": {},
   "source": [
    "This university always matches with 2 other universities (needs to be done manually)."
   ]
  },
  {
   "cell_type": "code",
   "execution_count": null,
   "metadata": {},
   "outputs": [],
   "source": [
    "print_universities(\"Hong Kong\"\u001d",
    ")"
   ]
  },
  {
   "cell_type": "markdown",
   "metadata": {},
   "source": [
    "The only string that can be matched is not written in the same order in both rankings."
   ]
  },
  {
   "cell_type": "code",
   "execution_count": null,
   "metadata": {},
   "outputs": [],
   "source": [
    "print_universities(\"South Korea\"\u001d",
    ")"
   ]
  },
  {
   "cell_type": "markdown",
   "metadata": {},
   "source": [
    "Once again, universities in Spain cannot be merged because of translation issues."
   ]
  },
  {
   "cell_type": "code",
   "execution_count": null,
   "metadata": {},
   "outputs": [],
   "source": [
    "print_universities(\"Spain\"\u001d",
    ")"
   ]
  },
  {
   "cell_type": "markdown",
   "metadata": {},
   "source": [
    "These universities are all distinct."
   ]
  },
  {
   "cell_type": "code",
   "execution_count": null,
   "metadata": {},
   "outputs": [],
   "source": [
    "print_universities(\"Sweden\"\u001d",
    ")"
   ]
  },
  {
   "cell_type": "markdown",
   "metadata": {},
   "source": [
    "Finally, in the United Kingdom, we have no possible matches between the universities."
   ]
  },
  {
   "cell_type": "code",
   "execution_count": null,
   "metadata": {},
   "outputs": [],
   "source": [
    "print_universities(\"United Kingdom\"\u001d",
    ")"
   ]
  },
  {
   "cell_type": "markdown",
   "metadata": {},
   "source": [
    "We tried to match the universities using their number of students. However, we were unable to use this method because the difference between the number of students between the two rankings was too big.\n",
    "\n",
    "After this, we decided to match them manually by adding them to the dictionary."
   ]
  },
  {
   "cell_type": "code",
   "execution_count": null,
   "metadata": {
    "collapsed": true
   },
   "outputs": [],
   "source": [
    "#times.name = top.name\n",
    "university_name['universityofmontreal'] = 'universitedemontreal'\n",
    "university_name['pierreandmariecurieuniversity'] = 'universitepierreetmariecurieupmc'\n",
    "university_name['lmumunich'] = 'ludwigmaximiliansuniversitatmunchen'\n",
    "university_name['humboldtuniversityofberlin'] = 'humboldtuniversitatzuberlin'\n",
    "university_name['freeuniversityofberlin'] = 'freieuniversitaetberlin'\n",
    "university_name['heidelberguniversity'] = 'ruprechtkarlsuniversitatheidelberg'\n",
    "university_name['universityoftubingen'] = 'eberhardkarlsuniversitattubingen'\n",
    "university_name['technicaluniversityofberlin'] = 'technischeuniversitatberlintuberlin'\n",
    "university_name['universityoffreiburg'] = 'albertludwigsuniversitaetfreiburg'\n",
    "university_name['universityofhongkong'] = 'theuniversityofhongkong'\n",
    "university_name['koreaadvancedinstituteofscienceandtechnologykaist'] = 'kaistkoreaadvancedinstituteofsciencetechnology'\n",
    "university_name['autonomousuniversityofbarcelona'] = 'universitautonomadebarcelona'"
   ]
  },
  {
   "cell_type": "code",
   "execution_count": null,
   "metadata": {},
   "outputs": [],
   "source": [
    "len(university_name)"
   ]
  },
  {
   "cell_type": "markdown",
   "metadata": {},
   "source": [
    "we can match 160 out of the 200 universities"
   ]
  },
  {
   "cell_type": "markdown",
   "metadata": {},
   "source": [
    "### Final merging"
   ]
  },
  {
   "cell_type": "markdown",
   "metadata": {},
   "source": [
    "We start by adding a column to enable the merging of the two rankings.\n",
    "\n",
    "Note that we decided on an inner join, as we will only take the universities in both rankings in this new DataFrame."
   ]
  },
  {
   "cell_type": "code",
   "execution_count": null,
   "metadata": {},
   "outputs": [],
   "source": [
    "times_frame['join_here'] = times_frame.name.map(university_name)\n",
    "merged_frame = pd.merge(times_frame, top_frame, how='inner', left_on=['join_here'], right_on=['name'])\n",
    "merged_frame.shape"
   ]
  },
  {
   "cell_type": "markdown",
   "metadata": {},
   "source": [
    "we can see that we could indeed find 160 matchings thanks to the dictionary method"
   ]
  },
  {
   "cell_type": "markdown",
   "metadata": {},
   "source": [
    "## Exercise 4 : Exploratory Analysis"
   ]
  },
  {
   "cell_type": "markdown",
   "metadata": {},
   "source": [
    "### Individual correlation\n",
    "\n",
    "The first step of our exploratory analysis was to look at each ranking individually to get a feel of the data. This step is important because when we will study the cross correlation between the 2 rankings, we won't be able to look at all the data, as universities not present in both will be ignored."
   ]
  },
  {
   "cell_type": "markdown",
   "metadata": {},
   "source": [
    "We started with the TopUniversities ranking. It is very easy to see that the number of faculty members per student and the percentage of international students were correlated with the relative ranking given by the website. However, we see that these two ratios are very poorly associated to each other."
   ]
  },
  {
   "cell_type": "code",
   "execution_count": null,
   "metadata": {
    "scrolled": true
   },
   "outputs": [],
   "source": [
    "top_inner_corr = top_frame[['relative_rank', 'faculty/students', 'international/students']]\n",
    "top_inner_corr = top_inner_corr.corr()\n",
    "top_inner_corr"
   ]
  },
  {
   "cell_type": "markdown",
   "metadata": {},
   "source": [
    "Concerning the Times Higher Education ranking, we notice different trends. Both ratios are very poorly correlated with the relative ranking. Moreover, we can assume that they are not correlated at all when looking at the numbers."
   ]
  },
  {
   "cell_type": "code",
   "execution_count": null,
   "metadata": {
    "scrolled": true
   },
   "outputs": [],
   "source": [
    "times_inner_corr = times_frame[['relative_rank', 'faculty/students', 'international/students']]\n",
    "times_inner_corr = times_inner_corr.corr()\n",
    "times_inner_corr"
   ]
  },
  {
   "cell_type": "markdown",
   "metadata": {},
   "source": [
    "When comparing both rankings independently, we can see that the Times Higher Education ranking does not rely as much on the number of faculty members per student and on the percentage of international students of a university to decide which university is better."
   ]
  },
  {
   "cell_type": "markdown",
   "metadata": {},
   "source": [
    "### Cross-correlation"
   ]
  },
  {
   "cell_type": "markdown",
   "metadata": {},
   "source": [
    "The correlation matrix offers very clear insights on the links between both rankings:\n",
    "- The relative ranks of both rankings are strongly correlated (but far from perfectly aligned).\n",
    "- The ratios are also strongly correlated but the fact that they are not equal to 1 signals discrepancies between both rankings (the provided numbers are clearly different)\n",
    "\n",
    "When looking more closely, we can find even more insights on each ranking alone :\n",
    "- The correlation between the TopUniversities ranking and both ratios is a lot smaller when looking at the universities present in both ranking.  \n",
    "- On the other hand, the Times Higher Education ranking is a lot more correlated to its ratios.\n",
    " - This could indicate that that times education takes these ratios into consideration in its ranking.\n",
    "\n",
    "From these numbers, we can thus see that it is very complicated (and often misleading) to compare 2 rankings."
   ]
  },
  {
   "cell_type": "code",
   "execution_count": null,
   "metadata": {
    "scrolled": false
   },
   "outputs": [],
   "source": [
    "cross_corr = merged_frame[['relative_rank_x', 'faculty/students_x', 'international/students_x', \n",
    "                                  'relative_rank_y', 'faculty/students_y', 'international/students_y']]\n",
    "cross_corr = cross_corr.corr()\n",
    "cross_corr"
   ]
  },
  {
   "cell_type": "markdown",
   "metadata": {},
   "source": [
    "To quickly get a feel of the results, we decided to visualize them using a simple diagonal correlation matrix."
   ]
  },
  {
   "cell_type": "code",
   "execution_count": null,
   "metadata": {},
   "outputs": [],
   "source": [
    "#Keep only bottom triangle\n",
    "mask = np.zeros_like(corr, dtype=np.bool)\n",
    "mask[np.triu_indices_from(mask)] = True\n",
    "\n",
    "# Set up the matplotlib figure\n",
    "f, ax = plt.subplots(figsize=(11, 9))\n",
    "\n",
    "# Generate a custom diverging colormap\n",
    "cmap = sns.diverging_palette(220, 10, as_cmap=True)\n",
    "\n",
    "# Draw the heatmap with the mask and correct aspect ratio\n",
    "sns.heatmap(corr, mask=mask, cmap=cmap, vmax=.3, center=0,\n",
    "    square=True, linewidths=.5, cbar_kws={\"shrink\": .5})\n",
    "\n",
    "plt.show()"
   ]
  },
  {
   "cell_type": "markdown",
   "metadata": {},
   "source": [
    "## Exercise 5 : Best Universities"
   ]
  },
  {
   "cell_type": "markdown",
   "metadata": {},
   "source": [
    "To get the best university considering both rankings, we will create a new dataframe using the merged one using the name (both of them as we have NaB cases for universities that are only in one or the other frame) and both rankings."
   ]
  },
  {
   "cell_type": "code",
   "execution_count": null,
   "metadata": {
    "collapsed": true
   },
   "outputs": [],
   "source": [
    "best_uni = merged_frame[['name_x', 'name_y', 'relative_rank_x', 'relative_rank_y']]"
   ]
  },
  {
   "cell_type": "markdown",
   "metadata": {},
   "source": [
    "Now, we need to add two columns. The first one will be a mean of both ranks, and the second the \"distance\" between both ranks. This is because if we have a mean of 3.5, it could be because the ranks are 5 and 2, but also because the rank could be 4 and 3. Thus, the university sould be considered \"better\" (as it is more constistenly good) if the distance between both ranks is smaller.\n",
    "\n",
    "Note also that if we consider all universities, even the ones not in both sets, we will have NaN values in the frame. This is okay, as we will consider the university to not be \"good enough\", and thus not in the best. Also, the distance between the two rankings would be infinite and thus NaN is the most correct value."
   ]
  },
  {
   "cell_type": "code",
   "execution_count": null,
   "metadata": {
    "collapsed": true
   },
   "outputs": [],
   "source": [
    "def calc_mean(c1, c2):\n",
    "    return (c1 + c2) / 2\n",
    "    \n",
    "def calc_distance(c1, c2):\n",
    "    return abs(c1 - c2)"
   ]
  },
  {
   "cell_type": "code",
   "execution_count": null,
   "metadata": {},
   "outputs": [],
   "source": [
    "best_uni['rank_mean'] = best_uni.apply(lambda row:  calc_mean(row['relative_rank_x'], row['relative_rank_y']), axis=1)\n",
    "best_uni['rank_dist'] =  best_uni.apply(lambda row:  calc_distance(row['relative_rank_x'], row['relative_rank_y']), axis=1)\n",
    "best_uni.sort_values(['rank_mean', 'rank_dist'], ascending=[True, True]).reset_index(drop=True)"
   ]
  },
  {
   "cell_type": "markdown",
   "metadata": {},
   "source": [
    "Thus, as we can see, the best university considering both rankings would be Stanford University.\n",
    "\n",
    "Note that the two universities that were first on one of the lists are still in the top 5. Oxford University is in fifth place while Massachusetts Institute of Technology (MIT) is in second. This is true for most of the universities that are in the top 5 as they were in the top 5 of both lists."
   ]
  },
  {
   "cell_type": "markdown",
   "metadata": {},
   "source": [
    "### Change in rankings"
   ]
  },
  {
   "cell_type": "markdown",
   "metadata": {},
   "source": [
    "Here we can observe the change in ranking for the first 10 universities. Left we have the first ranking, right we have the second, and in the middle, the mean."
   ]
  },
  {
   "cell_type": "code",
   "execution_count": null,
   "metadata": {},
   "outputs": [],
   "source": [
    "best_uni = best_uni[['name_x', 'relative_rank_x', 'rank_mean', 'relative_rank_y']]\n",
    "best_uni_10 = best_uni.head(10)\n",
    "pd.plotting.parallel_coordinates(best_uni_10, 'name_x', colormap=plt.get_cmap(\"cool\"))\n",
    "plt.gca().legend_.remove()\n",
    "plt.show()"
   ]
  },
  {
   "cell_type": "markdown",
   "metadata": {},
   "source": [
    "Here we have the same plot but for all rankings."
   ]
  },
  {
   "cell_type": "code",
   "execution_count": null,
   "metadata": {},
   "outputs": [],
   "source": [
    "best_uni = best_uni[['name_x', 'relative_rank_x', 'rank_mean', 'relative_rank_y']]\n",
    "pd.plotting.parallel_coordinates(best_uni, 'name_x', colormap=plt.get_cmap(\"cool\"))\n",
    "plt.gca().legend_.remove()\n",
    "plt.show()"
   ]
  }
 ],
 "metadata": {
  "anaconda-cloud": {},
  "kernelspec": {
   "display_name": "Python 3",
   "language": "python",
   "name": "python3"
  },
  "language_info": {
   "codemirror_mode": {
    "name": "ipython",
    "version": 3
   },
   "file_extension": ".py",
   "mimetype": "text/x-python",
   "name": "python",
   "nbconvert_exporter": "python",
   "pygments_lexer": "ipython3",
   "version": "3.6.2"
  }
 },
 "nbformat": 4,
 "nbformat_minor": 1
}
