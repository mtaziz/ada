{
 "cells": [
  {
   "cell_type": "markdown",
   "metadata": {},
   "source": [
    "# Homework 2\n",
    "\n",
    "We first import the needed libraries and set the elements we need for the rest of the Homework."
   ]
  },
  {
   "cell_type": "code",
   "execution_count": 1,
   "metadata": {
    "collapsed": true
   },
   "outputs": [],
   "source": [
    "# Used to look for the saved rankings\n",
    "DATA_FOLDER = 'Data/'"
   ]
  },
  {
   "cell_type": "code",
   "execution_count": 2,
   "metadata": {
    "collapsed": true
   },
   "outputs": [],
   "source": [
    "# Importing libraries\n",
    "import re #for regexes\n",
    "import requests\n",
    "import numpy as np\n",
    "import unicodedata #useful for ex 3\n",
    "import pickle as pk\n",
    "import pandas as pd\n",
    "import seaborn as sns\n",
    "import os, os.path as osp\n",
    "from bs4 import BeautifulSoup\n",
    "import matplotlib.pyplot as plt"
   ]
  },
  {
   "cell_type": "code",
   "execution_count": 3,
   "metadata": {
    "collapsed": true
   },
   "outputs": [],
   "source": [
    "# We set a few things for seaborn to have uniform plots in the notebook\n",
    "sns.set(style=\"darkgrid\")\n",
    "sns.set_context(\"notebook\")\n",
    "sns.set_palette(\"RdPu_d\", 10)"
   ]
  },
  {
   "cell_type": "markdown",
   "metadata": {},
   "source": [
    "## Useful functions\n",
    "\n",
    "The following functions are helper functions allowing us to have a cleaner code"
   ]
  },
  {
   "cell_type": "code",
   "execution_count": 4,
   "metadata": {
    "collapsed": true
   },
   "outputs": [],
   "source": [
    "#Functions allowing us to manipulate Pickle files (faster running time)\n",
    "def save_pkl(obj, path):\n",
    "    \"\"\"Saves into a pickle file to given path.\"\"\"\n",
    "    with open(path, 'wb') as f:\n",
    "        pk.dump(obj, f)  \n",
    "        \n",
    "def load_pkl(path):\n",
    "    \"\"\"Loads a pickle file from a given path.\"\"\"\n",
    "    with open(path, 'rb') as f:\n",
    "        return pk.load(f)"
   ]
  },
  {
   "cell_type": "code",
   "execution_count": 5,
   "metadata": {
    "collapsed": true
   },
   "outputs": [],
   "source": [
    "#Functions allowing us to clean our data\n",
    "def transform_rank(df, cname):\n",
    "    \"\"\"Function that transforms the rank from a string to an int. \n",
    "    We also use it to define a relative and an absolute ranking\"\"\"\n",
    "    \n",
    "    df.rename(columns = {cname: 'relative_rank'}, inplace = True)\n",
    "    df['absolute_rank'] = df.index + 1\n",
    "    \n",
    "    #The assert is needed to ensure that we have strings (else the code produces errors).\n",
    "    assert df['relative_rank'].dtype == np.object_, \"We do not have strings in \" + 'relative_rank'\n",
    "    df['relative_rank'] = df['relative_rank'].str.replace(r'\\D+', '').astype('int')\n",
    "    \n",
    "def remove_blank_convert_float(x):\n",
    "    \"\"\"Removes blankspace from x and parses it to float.\"\"\"\n",
    "    if(x):\n",
    "        x = x.text[1:-1].replace(\",\",\"\")\n",
    "        x_float = float(x)\n",
    "    else:\n",
    "        #Using NAN for unknown values to facilitate computation\n",
    "        x_float = float('NAN')\n",
    "    return x_float"
   ]
  },
  {
   "cell_type": "code",
   "execution_count": 6,
   "metadata": {
    "collapsed": true
   },
   "outputs": [],
   "source": [
    "#As we need to compute several ratios, we decided to modularize this operation\n",
    "def ratios_calc(df, c1, c2, name):\n",
    "    \"\"\"Function that computes ratios for a given DataFrame.\n",
    "        df is the DataFrame\n",
    "        c1 is the name of the first column for the ratio,\n",
    "        c2 is the name of the second column for the ratio,\n",
    "        name is the name of the new column\n",
    "    \"\"\"\n",
    "    # Computes the ratio and puts it in a new column\n",
    "    df[name] = df[c1]/df[c2]"
   ]
  },
  {
   "cell_type": "markdown",
   "metadata": {},
   "source": [
    "## Preparatory steps"
   ]
  },
  {
   "cell_type": "markdown",
   "metadata": {},
   "source": [
    "The first step was a preliminary exploration of the website's responses and code using Postman and the Google Chrome dev tools.\n",
    "\n",
    "- For the Times, looking at the JSON response from the ranking website immediately led to the right data.\n",
    "- For TopUniversities, we searched for through occurence of \"qs-rankings data\" on Postman, and found the url linking to the source of the data.\n",
    "- To find the additional information needed in the TopUniversities set, we used the Google dev tools to quickly check which html classes pointed to the div tags containing the required information."
   ]
  },
  {
   "cell_type": "code",
   "execution_count": 7,
   "metadata": {
    "collapsed": true
   },
   "outputs": [],
   "source": [
    "#Base URL for websites to crawl\n",
    "FILES = '/sites/default/files/'\n",
    "TOP_UNIVERSITIES = 'https://www.topuniversities.com'\n",
    "TIMES_EDUCATION = 'https://www.timeshighereducation.com'\n",
    "\n",
    "#These are the main URLs we will be working with\n",
    "TOP_UNIVERVERSITIES_TEXT = TOP_UNIVERSITIES + FILES + 'qs-rankings-data/357051.txt'\n",
    "TIMES_EDUCATION_JSON = TIMES_EDUCATION + FILES + 'the_data_rankings/world_university_rankings_2018_limit0_369a9045a203e176392b9fb8f8c1cb2a.json'"
   ]
  },
  {
   "cell_type": "markdown",
   "metadata": {},
   "source": [
    "## Exercise 1 : TopUniversities"
   ]
  },
  {
   "cell_type": "markdown",
   "metadata": {},
   "source": [
    "### Data retrieval\n",
    "The first step is pretty straight forward. We simply request the JSON and create a DataFrame containing all the needed information offered by the request."
   ]
  },
  {
   "cell_type": "code",
   "execution_count": 8,
   "metadata": {
    "collapsed": true
   },
   "outputs": [],
   "source": [
    "s = requests.get(TOP_UNIVERVERSITIES_TEXT)\n",
    "topjson = s.json()"
   ]
  },
  {
   "cell_type": "code",
   "execution_count": 9,
   "metadata": {},
   "outputs": [
    {
     "data": {
      "text/html": [
       "<div>\n",
       "<style>\n",
       "    .dataframe thead tr:only-child th {\n",
       "        text-align: right;\n",
       "    }\n",
       "\n",
       "    .dataframe thead th {\n",
       "        text-align: left;\n",
       "    }\n",
       "\n",
       "    .dataframe tbody tr th {\n",
       "        vertical-align: top;\n",
       "    }\n",
       "</style>\n",
       "<table border=\"1\" class=\"dataframe\">\n",
       "  <thead>\n",
       "    <tr style=\"text-align: right;\">\n",
       "      <th></th>\n",
       "      <th>country</th>\n",
       "      <th>relative_rank</th>\n",
       "      <th>region</th>\n",
       "      <th>score</th>\n",
       "      <th>title</th>\n",
       "      <th>url</th>\n",
       "      <th>absolute_rank</th>\n",
       "    </tr>\n",
       "  </thead>\n",
       "  <tbody>\n",
       "    <tr>\n",
       "      <th>0</th>\n",
       "      <td>United States</td>\n",
       "      <td>1</td>\n",
       "      <td>North America</td>\n",
       "      <td>100</td>\n",
       "      <td>Massachusetts Institute of Technology (MIT)</td>\n",
       "      <td>/universities/massachusetts-institute-technolo...</td>\n",
       "      <td>1</td>\n",
       "    </tr>\n",
       "    <tr>\n",
       "      <th>1</th>\n",
       "      <td>United States</td>\n",
       "      <td>2</td>\n",
       "      <td>North America</td>\n",
       "      <td>98.7</td>\n",
       "      <td>Stanford University</td>\n",
       "      <td>/universities/stanford-university</td>\n",
       "      <td>2</td>\n",
       "    </tr>\n",
       "    <tr>\n",
       "      <th>2</th>\n",
       "      <td>United States</td>\n",
       "      <td>3</td>\n",
       "      <td>North America</td>\n",
       "      <td>98.4</td>\n",
       "      <td>Harvard University</td>\n",
       "      <td>/universities/harvard-university</td>\n",
       "      <td>3</td>\n",
       "    </tr>\n",
       "    <tr>\n",
       "      <th>3</th>\n",
       "      <td>United States</td>\n",
       "      <td>4</td>\n",
       "      <td>North America</td>\n",
       "      <td>97.7</td>\n",
       "      <td>California Institute of Technology (Caltech)</td>\n",
       "      <td>/universities/california-institute-technology-...</td>\n",
       "      <td>4</td>\n",
       "    </tr>\n",
       "    <tr>\n",
       "      <th>4</th>\n",
       "      <td>United Kingdom</td>\n",
       "      <td>5</td>\n",
       "      <td>Europe</td>\n",
       "      <td>95.6</td>\n",
       "      <td>University of Cambridge</td>\n",
       "      <td>/universities/university-cambridge</td>\n",
       "      <td>5</td>\n",
       "    </tr>\n",
       "  </tbody>\n",
       "</table>\n",
       "</div>"
      ],
      "text/plain": [
       "          country  relative_rank         region score  \\\n",
       "0   United States              1  North America   100   \n",
       "1   United States              2  North America  98.7   \n",
       "2   United States              3  North America  98.4   \n",
       "3   United States              4  North America  97.7   \n",
       "4  United Kingdom              5         Europe  95.6   \n",
       "\n",
       "                                          title  \\\n",
       "0   Massachusetts Institute of Technology (MIT)   \n",
       "1                           Stanford University   \n",
       "2                            Harvard University   \n",
       "3  California Institute of Technology (Caltech)   \n",
       "4                       University of Cambridge   \n",
       "\n",
       "                                                 url  absolute_rank  \n",
       "0  /universities/massachusetts-institute-technolo...              1  \n",
       "1                  /universities/stanford-university              2  \n",
       "2                   /universities/harvard-university              3  \n",
       "3  /universities/california-institute-technology-...              4  \n",
       "4                 /universities/university-cambridge              5  "
      ]
     },
     "execution_count": 9,
     "metadata": {},
     "output_type": "execute_result"
    }
   ],
   "source": [
    "top_frame = pd.DataFrame(topjson['data']).head(200)\n",
    "#remove useless columns\n",
    "del top_frame['cc'],\\\n",
    "    top_frame['logo'],\\\n",
    "    top_frame['nid'],\\\n",
    "    top_frame['core_id'],\\\n",
    "    top_frame['stars'],\\\n",
    "    top_frame['guide']\n",
    "\n",
    "#This step allows us to clean the (relative) rank for comparison and add an (absolute) rank for display\n",
    "transform_rank(top_frame,'rank_display')\n",
    "    \n",
    "#Allows us to have a quick look at the data.\n",
    "top_frame.head()"
   ]
  },
  {
   "cell_type": "markdown",
   "metadata": {},
   "source": [
    "The second step is a little more complicated, which is why we decided to include an example of how additional data should be retrieved in order to better understand our methodology."
   ]
  },
  {
   "cell_type": "code",
   "execution_count": 10,
   "metadata": {},
   "outputs": [
    {
     "data": {
      "text/html": [
       "<div>\n",
       "<style>\n",
       "    .dataframe thead tr:only-child th {\n",
       "        text-align: right;\n",
       "    }\n",
       "\n",
       "    .dataframe thead th {\n",
       "        text-align: left;\n",
       "    }\n",
       "\n",
       "    .dataframe tbody tr th {\n",
       "        vertical-align: top;\n",
       "    }\n",
       "</style>\n",
       "<table border=\"1\" class=\"dataframe\">\n",
       "  <thead>\n",
       "    <tr style=\"text-align: right;\">\n",
       "      <th></th>\n",
       "      <th>faculty</th>\n",
       "      <th>international faculty</th>\n",
       "      <th>international students</th>\n",
       "      <th>students</th>\n",
       "    </tr>\n",
       "  </thead>\n",
       "  <tbody>\n",
       "    <tr>\n",
       "      <th>0</th>\n",
       "      <td>5,490</td>\n",
       "      <td>2,278</td>\n",
       "      <td>6,699</td>\n",
       "      <td>18,770</td>\n",
       "    </tr>\n",
       "  </tbody>\n",
       "</table>\n",
       "</div>"
      ],
      "text/plain": [
       "  faculty international faculty international students students\n",
       "0   5,490                 2,278                  6,699   18,770"
      ]
     },
     "execution_count": 10,
     "metadata": {},
     "output_type": "execute_result"
    }
   ],
   "source": [
    "r = requests.get(TOP_UNIVERSITIES + '/universities/university-cambridge')\n",
    "page_body = r.text\n",
    "soup = BeautifulSoup(page_body, 'html.parser')\n",
    "\n",
    "#In order to get the right numbers, we use [1:-1] in order to delete the leading and trailing spaces\n",
    "student_number = (soup.find('div', class_='total student')).find('div', class_='number').text[1:-1]\n",
    "int_student = (soup.find('div', class_='total inter')).find('div', class_='number').text[1:-1]\n",
    "facult_number = (soup.find('div', class_='total faculty')).find('div', class_='number').text[1:-1]\n",
    "int_faculty = (soup.find('div', class_='inter faculty')).find('div', class_='number').text[1:-1]\n",
    "\n",
    "#We create a new DataFrame to visualize the new information\n",
    "pd.DataFrame.from_dict({'students' : [student_number], \n",
    "              'international students': [int_student], \n",
    "              'faculty' : [facult_number], \n",
    "              'international faculty' : [int_faculty] })"
   ]
  },
  {
   "cell_type": "markdown",
   "metadata": {},
   "source": [
    "The following function allows us to get all the useful information. As asked, we make sure that we have the name, rank, country, region, number of faculty members (international and total) and number of students (international and total) in the final DataFrame."
   ]
  },
  {
   "cell_type": "code",
   "execution_count": 11,
   "metadata": {
    "collapsed": true
   },
   "outputs": [],
   "source": [
    "def get_additional_info(url):\n",
    "    r = requests.get(TOP_UNIVERSITIES + url)\n",
    "    assert r.status_code != 404, 'Bad request: could not get data'\n",
    "    page_body = r.text\n",
    "    soup = BeautifulSoup(page_body, 'html.parser')\n",
    "    \n",
    "    #In the following steps, we make sure the values exist before fetching them\n",
    "    student_number = (soup.find('div', class_='total student')) \n",
    "    if student_number:\n",
    "        student_number = student_number.find('div', class_='number')\n",
    "        \n",
    "    int_student = (soup.find('div', class_='total inter'))\n",
    "    if int_student:\n",
    "        int_student = int_student.find('div', class_='number')\n",
    "    \n",
    "    faculty_number = (soup.find('div', class_='total faculty'))\n",
    "    if faculty_number:\n",
    "        faculty_number = faculty_number.find('div', class_='number')\n",
    "        \n",
    "    int_faculty = (soup.find('div', class_='inter faculty'))\n",
    "    if int_faculty:\n",
    "        int_faculty = int_faculty.find('div', class_='number')\n",
    "    \n",
    "    frame = pd.DataFrame.from_dict({'students' : [remove_blank_convert_float(student_number)], \n",
    "              'international students': [remove_blank_convert_float(int_student)], \n",
    "              'faculty' : [remove_blank_convert_float(faculty_number)], \n",
    "              'international faculty' : [remove_blank_convert_float(int_faculty)] })\n",
    "    return frame"
   ]
  },
  {
   "cell_type": "code",
   "execution_count": 12,
   "metadata": {
    "collapsed": true
   },
   "outputs": [],
   "source": [
    "#Takes a relatively long time to run when pickle file is not present\n",
    "\n",
    "#We create a folder to store all the data.\n",
    "if not osp.exists(DATA_FOLDER):\n",
    "    os.makedirs(DATA_FOLDER)\n",
    "\n",
    "#We create a file to store the TopUniversities Ranking\n",
    "top_file = DATA_FOLDER + 'top_ranking.pkl'\n",
    "if osp.exists(top_file):\n",
    "    top_frame = load_pkl(top_file)\n",
    "else:\n",
    "    missing_rows = pd.DataFrame()\n",
    "    for url in top_frame.url:\n",
    "        new_info = get_additional_info(url)\n",
    "        missing_rows = missing_rows.append(new_info, ignore_index = True)\n",
    "    #We simply concatenate all the information and sort them in order to have a better layout similar to the one below\n",
    "    top_frame = pd.concat([top_frame, missing_rows], axis=1, join_axes=[top_frame.index])\n",
    "    top_frame.rename(columns = {'title': 'name'}, inplace = True)\n",
    "    top_frame = top_frame.reindex_axis(['country', 'region', 'name', 'score', 'relative_rank',\n",
    "                                         'absolute_rank', 'international faculty', 'faculty',\n",
    "                                         'international students', 'students', 'url'], axis=1)\n",
    "    save_pkl(top_frame, top_file)"
   ]
  },
  {
   "cell_type": "markdown",
   "metadata": {},
   "source": [
    "We have a few undefined values in the final \"top_frame\" set due to the lack of information on the website (data is not present), so we simply propagate NAN values."
   ]
  },
  {
   "cell_type": "markdown",
   "metadata": {},
   "source": [
    "### Best universities by ratio :\n",
    "We first determine which universities are the best according to the faculty/student ratio (and display the top of the list). To do that, we create a new DataFrame only containing the relevant information (university, ratio and relative rank for display)."
   ]
  },
  {
   "cell_type": "code",
   "execution_count": 13,
   "metadata": {
    "collapsed": true
   },
   "outputs": [],
   "source": [
    "top_fac_stud = top_frame\n",
    "ratios_calc(top_fac_stud , 'faculty', 'students', 'faculty/students')\n",
    "top_fac_stud = top_fac_stud[['name', 'faculty/students', 'relative_rank']]"
   ]
  },
  {
   "cell_type": "code",
   "execution_count": 14,
   "metadata": {},
   "outputs": [
    {
     "data": {
      "text/html": [
       "<div>\n",
       "<style>\n",
       "    .dataframe thead tr:only-child th {\n",
       "        text-align: right;\n",
       "    }\n",
       "\n",
       "    .dataframe thead th {\n",
       "        text-align: left;\n",
       "    }\n",
       "\n",
       "    .dataframe tbody tr th {\n",
       "        vertical-align: top;\n",
       "    }\n",
       "</style>\n",
       "<table border=\"1\" class=\"dataframe\">\n",
       "  <thead>\n",
       "    <tr style=\"text-align: right;\">\n",
       "      <th></th>\n",
       "      <th>index</th>\n",
       "      <th>name</th>\n",
       "      <th>faculty/students</th>\n",
       "      <th>relative_rank</th>\n",
       "    </tr>\n",
       "  </thead>\n",
       "  <tbody>\n",
       "    <tr>\n",
       "      <th>0</th>\n",
       "      <td>3</td>\n",
       "      <td>California Institute of Technology (Caltech)</td>\n",
       "      <td>0.422616</td>\n",
       "      <td>4</td>\n",
       "    </tr>\n",
       "    <tr>\n",
       "      <th>1</th>\n",
       "      <td>15</td>\n",
       "      <td>Yale University</td>\n",
       "      <td>0.398323</td>\n",
       "      <td>16</td>\n",
       "    </tr>\n",
       "    <tr>\n",
       "      <th>2</th>\n",
       "      <td>5</td>\n",
       "      <td>University of Oxford</td>\n",
       "      <td>0.342292</td>\n",
       "      <td>6</td>\n",
       "    </tr>\n",
       "    <tr>\n",
       "      <th>3</th>\n",
       "      <td>4</td>\n",
       "      <td>University of Cambridge</td>\n",
       "      <td>0.292488</td>\n",
       "      <td>5</td>\n",
       "    </tr>\n",
       "    <tr>\n",
       "      <th>4</th>\n",
       "      <td>16</td>\n",
       "      <td>Johns Hopkins University</td>\n",
       "      <td>0.276353</td>\n",
       "      <td>17</td>\n",
       "    </tr>\n",
       "  </tbody>\n",
       "</table>\n",
       "</div>"
      ],
      "text/plain": [
       "   index                                          name  faculty/students  \\\n",
       "0      3  California Institute of Technology (Caltech)          0.422616   \n",
       "1     15                               Yale University          0.398323   \n",
       "2      5                          University of Oxford          0.342292   \n",
       "3      4                       University of Cambridge          0.292488   \n",
       "4     16                      Johns Hopkins University          0.276353   \n",
       "\n",
       "   relative_rank  \n",
       "0              4  \n",
       "1             16  \n",
       "2              6  \n",
       "3              5  \n",
       "4             17  "
      ]
     },
     "execution_count": 14,
     "metadata": {},
     "output_type": "execute_result"
    }
   ],
   "source": [
    "top_fac_stud = top_fac_stud.sort_values(['faculty/students', 'relative_rank'], ascending=[False, True])\n",
    "top_fac_stud = top_fac_stud.reset_index()\n",
    "top_fac_stud.head()"
   ]
  },
  {
   "cell_type": "markdown",
   "metadata": {},
   "source": [
    "Here we determine the ratio of international/total students. We use a similar method as before to obtain these numbers."
   ]
  },
  {
   "cell_type": "code",
   "execution_count": 15,
   "metadata": {
    "collapsed": true
   },
   "outputs": [],
   "source": [
    "top_int_stud = top_frame\n",
    "ratios_calc(top_int_stud,'international students', 'students', 'international/students')\n",
    "top_int_stud = top_int_stud[['name', 'international/students', 'relative_rank']]"
   ]
  },
  {
   "cell_type": "code",
   "execution_count": 16,
   "metadata": {},
   "outputs": [
    {
     "data": {
      "text/html": [
       "<div>\n",
       "<style>\n",
       "    .dataframe thead tr:only-child th {\n",
       "        text-align: right;\n",
       "    }\n",
       "\n",
       "    .dataframe thead th {\n",
       "        text-align: left;\n",
       "    }\n",
       "\n",
       "    .dataframe tbody tr th {\n",
       "        vertical-align: top;\n",
       "    }\n",
       "</style>\n",
       "<table border=\"1\" class=\"dataframe\">\n",
       "  <thead>\n",
       "    <tr style=\"text-align: right;\">\n",
       "      <th></th>\n",
       "      <th>index</th>\n",
       "      <th>name</th>\n",
       "      <th>international/students</th>\n",
       "      <th>relative_rank</th>\n",
       "    </tr>\n",
       "  </thead>\n",
       "  <tbody>\n",
       "    <tr>\n",
       "      <th>0</th>\n",
       "      <td>34</td>\n",
       "      <td>London School of Economics and Political Scien...</td>\n",
       "      <td>0.691393</td>\n",
       "      <td>35</td>\n",
       "    </tr>\n",
       "    <tr>\n",
       "      <th>1</th>\n",
       "      <td>11</td>\n",
       "      <td>Ecole Polytechnique Fédérale de Lausanne (EPFL)</td>\n",
       "      <td>0.570047</td>\n",
       "      <td>12</td>\n",
       "    </tr>\n",
       "    <tr>\n",
       "      <th>2</th>\n",
       "      <td>7</td>\n",
       "      <td>Imperial College London</td>\n",
       "      <td>0.543567</td>\n",
       "      <td>8</td>\n",
       "    </tr>\n",
       "    <tr>\n",
       "      <th>3</th>\n",
       "      <td>198</td>\n",
       "      <td>Maastricht University</td>\n",
       "      <td>0.502533</td>\n",
       "      <td>200</td>\n",
       "    </tr>\n",
       "    <tr>\n",
       "      <th>4</th>\n",
       "      <td>47</td>\n",
       "      <td>Carnegie Mellon University</td>\n",
       "      <td>0.478062</td>\n",
       "      <td>47</td>\n",
       "    </tr>\n",
       "  </tbody>\n",
       "</table>\n",
       "</div>"
      ],
      "text/plain": [
       "   index                                               name  \\\n",
       "0     34  London School of Economics and Political Scien...   \n",
       "1     11    Ecole Polytechnique Fédérale de Lausanne (EPFL)   \n",
       "2      7                            Imperial College London   \n",
       "3    198                              Maastricht University   \n",
       "4     47                         Carnegie Mellon University   \n",
       "\n",
       "   international/students  relative_rank  \n",
       "0                0.691393             35  \n",
       "1                0.570047             12  \n",
       "2                0.543567              8  \n",
       "3                0.502533            200  \n",
       "4                0.478062             47  "
      ]
     },
     "execution_count": 16,
     "metadata": {},
     "output_type": "execute_result"
    }
   ],
   "source": [
    "top_int_stud = top_int_stud.sort_values(['international/students', 'relative_rank'], ascending=[False, True])\n",
    "top_int_stud = top_int_stud.reset_index()\n",
    "top_int_stud.head()"
   ]
  },
  {
   "cell_type": "markdown",
   "metadata": {},
   "source": [
    "To better understand and visualize the top universities according to each ration, we plot the top [10, 20, 30, 40] universities. We note a pattern appears when plotting more than only the top 10. For better readability we show the top 20. The observations are described below. "
   ]
  },
  {
   "cell_type": "code",
   "execution_count": 17,
   "metadata": {
    "collapsed": true
   },
   "outputs": [],
   "source": [
    "best_fac = top_fac_stud.head(20)\n",
    "best_int = top_int_stud.head(20)"
   ]
  },
  {
   "cell_type": "code",
   "execution_count": 18,
   "metadata": {},
   "outputs": [
    {
     "data": {
      "image/png": "[encoded data removed]",
      "text/plain": [
       "<matplotlib.figure.Figure at 0x10e8f1908>"
      ]
     },
     "metadata": {},
     "output_type": "display_data"
    },
    {
     "data": {
      "image/png": "[encoded data removed]",
      "text/plain": [
       "<matplotlib.figure.Figure at 0x112b68c50>"
      ]
     },
     "metadata": {},
     "output_type": "display_data"
    }
   ],
   "source": [
    "cmap = plt.cm.get_cmap('Blues')\n",
    "pal = sns.color_palette(\"RdPu\", n_colors=14, desat=0.6)\n",
    "\n",
    "#the mapping is used to get a nice color interpolation, the darker the color the better the university\n",
    "sns.barplot(y=\"name\", x=\"faculty/students\", palette=best_fac['relative_rank'].map(lambda x: cmap(1-np.sqrt(1+(x - 200)/200))) , data=best_fac)\n",
    "plt.title(\"Best universities by faculty to students ratio\")\n",
    "plt.show()\n",
    "\n",
    "sns.barplot(y=\"name\", x=\"international/students\", palette=best_int['relative_rank'].map(lambda x: cmap(1-np.sqrt(1+(x - 200)/200))) , data=best_int)\n",
    "plt.title(\"Best universities by internatinal students to students ratio\")\n",
    "plt.show()"
   ]
  },
  {
   "cell_type": "markdown",
   "metadata": {},
   "source": [
    "First note that the darkness of the bar represents the position in the original ranking. The darker the better.\n",
    "By plotting the first 20 we can observe through looking at the color that the top 10 universities by faulty/student ratio are almost all ranked in the top of the general ranking as well.\n",
    "\n",
    "We note that no such pattern can be observed by plotting the student/international student ratio."
   ]
  },
  {
   "cell_type": "markdown",
   "metadata": {},
   "source": [
    "### Best universities by geographic location :\n",
    "We begin by sorting the countries by their number of universities in the 200 top schools."
   ]
  },
  {
   "cell_type": "code",
   "execution_count": 19,
   "metadata": {},
   "outputs": [
    {
     "data": {
      "text/html": [
       "<div>\n",
       "<style>\n",
       "    .dataframe thead tr:only-child th {\n",
       "        text-align: right;\n",
       "    }\n",
       "\n",
       "    .dataframe thead th {\n",
       "        text-align: left;\n",
       "    }\n",
       "\n",
       "    .dataframe tbody tr th {\n",
       "        vertical-align: top;\n",
       "    }\n",
       "</style>\n",
       "<table border=\"1\" class=\"dataframe\">\n",
       "  <thead>\n",
       "    <tr style=\"text-align: right;\">\n",
       "      <th></th>\n",
       "      <th>country</th>\n",
       "      <th>universities</th>\n",
       "    </tr>\n",
       "  </thead>\n",
       "  <tbody>\n",
       "    <tr>\n",
       "      <th>0</th>\n",
       "      <td>United States</td>\n",
       "      <td>47</td>\n",
       "    </tr>\n",
       "    <tr>\n",
       "      <th>1</th>\n",
       "      <td>United Kingdom</td>\n",
       "      <td>28</td>\n",
       "    </tr>\n",
       "    <tr>\n",
       "      <th>2</th>\n",
       "      <td>Germany</td>\n",
       "      <td>11</td>\n",
       "    </tr>\n",
       "    <tr>\n",
       "      <th>3</th>\n",
       "      <td>Netherlands</td>\n",
       "      <td>10</td>\n",
       "    </tr>\n",
       "    <tr>\n",
       "      <th>4</th>\n",
       "      <td>Japan</td>\n",
       "      <td>9</td>\n",
       "    </tr>\n",
       "  </tbody>\n",
       "</table>\n",
       "</div>"
      ],
      "text/plain": [
       "          country  universities\n",
       "0   United States            47\n",
       "1  United Kingdom            28\n",
       "2         Germany            11\n",
       "3     Netherlands            10\n",
       "4           Japan             9"
      ]
     },
     "execution_count": 19,
     "metadata": {},
     "output_type": "execute_result"
    }
   ],
   "source": [
    "best_countries = pd.DataFrame(top_frame['country'].value_counts())\n",
    "best_countries = best_countries.reset_index()\n",
    "best_countries.columns = ['country', 'universities']\n",
    "best_countries.head()"
   ]
  },
  {
   "cell_type": "markdown",
   "metadata": {},
   "source": [
    "We perform the same actions for the regions we have"
   ]
  },
  {
   "cell_type": "code",
   "execution_count": 20,
   "metadata": {},
   "outputs": [
    {
     "data": {
      "text/html": [
       "<div>\n",
       "<style>\n",
       "    .dataframe thead tr:only-child th {\n",
       "        text-align: right;\n",
       "    }\n",
       "\n",
       "    .dataframe thead th {\n",
       "        text-align: left;\n",
       "    }\n",
       "\n",
       "    .dataframe tbody tr th {\n",
       "        vertical-align: top;\n",
       "    }\n",
       "</style>\n",
       "<table border=\"1\" class=\"dataframe\">\n",
       "  <thead>\n",
       "    <tr style=\"text-align: right;\">\n",
       "      <th></th>\n",
       "      <th>region</th>\n",
       "      <th>universities</th>\n",
       "    </tr>\n",
       "  </thead>\n",
       "  <tbody>\n",
       "    <tr>\n",
       "      <th>0</th>\n",
       "      <td>Europe</td>\n",
       "      <td>89</td>\n",
       "    </tr>\n",
       "    <tr>\n",
       "      <th>1</th>\n",
       "      <td>North America</td>\n",
       "      <td>54</td>\n",
       "    </tr>\n",
       "    <tr>\n",
       "      <th>2</th>\n",
       "      <td>Asia</td>\n",
       "      <td>38</td>\n",
       "    </tr>\n",
       "    <tr>\n",
       "      <th>3</th>\n",
       "      <td>Oceania</td>\n",
       "      <td>11</td>\n",
       "    </tr>\n",
       "    <tr>\n",
       "      <th>4</th>\n",
       "      <td>Latin America</td>\n",
       "      <td>7</td>\n",
       "    </tr>\n",
       "  </tbody>\n",
       "</table>\n",
       "</div>"
      ],
      "text/plain": [
       "          region  universities\n",
       "0         Europe            89\n",
       "1  North America            54\n",
       "2           Asia            38\n",
       "3        Oceania            11\n",
       "4  Latin America             7"
      ]
     },
     "execution_count": 20,
     "metadata": {},
     "output_type": "execute_result"
    }
   ],
   "source": [
    "best_regions = pd.DataFrame(top_frame['region'].value_counts())\n",
    "best_regions = best_regions.reset_index()\n",
    "best_regions.columns = ['region', 'universities']\n",
    "best_regions.head()"
   ]
  },
  {
   "cell_type": "markdown",
   "metadata": {},
   "source": [
    "Finally we plot the best regions and countries."
   ]
  },
  {
   "cell_type": "code",
   "execution_count": 21,
   "metadata": {
    "collapsed": true
   },
   "outputs": [],
   "source": [
    "best_countries = best_countries.head(10)"
   ]
  },
  {
   "cell_type": "code",
   "execution_count": 22,
   "metadata": {
    "scrolled": false
   },
   "outputs": [
    {
     "data": {
      "image/png": "[encoded data removed]",
      "text/plain": [
       "<matplotlib.figure.Figure at 0x10f3995f8>"
      ]
     },
     "metadata": {},
     "output_type": "display_data"
    },
    {
     "data": {
      "image/png": "[encoded data removed]",
      "text/plain": [
       "<matplotlib.figure.Figure at 0x112d7b7b8>"
      ]
     },
     "metadata": {},
     "output_type": "display_data"
    }
   ],
   "source": [
    "sns.barplot(y='country', x='universities', data=best_countries)\n",
    "plt.title(\"Best countries according to number of top universities\")\n",
    "plt.show()\n",
    "\n",
    "sns.barplot(y=\"region\", x=\"universities\", data=best_regions)\n",
    "plt.title(\"Regions according to number of top universities\")\n",
    "plt.show()"
   ]
  },
  {
   "cell_type": "markdown",
   "metadata": {},
   "source": [
    "We can observe that the best schools lie in first world countries, with western countries being on the top. This is also reflected when sorting by region."
   ]
  },
  {
   "cell_type": "markdown",
   "metadata": {},
   "source": [
    "## Exercise 2 : Times Higher Education"
   ]
  },
  {
   "cell_type": "markdown",
   "metadata": {},
   "source": [
    "In the following exercise, we mostly do the same steps as for the first exercise. Thus, we will not precise each step (except for different handlings of the data)."
   ]
  },
  {
   "cell_type": "markdown",
   "metadata": {},
   "source": [
    "### Data retrieval"
   ]
  },
  {
   "cell_type": "code",
   "execution_count": 23,
   "metadata": {
    "collapsed": true
   },
   "outputs": [],
   "source": [
    "r = requests.get(TIMES_EDUCATION_JSON)\n",
    "timesjson = r.json()"
   ]
  },
  {
   "cell_type": "code",
   "execution_count": 24,
   "metadata": {},
   "outputs": [
    {
     "data": {
      "text/html": [
       "<div>\n",
       "<style>\n",
       "    .dataframe thead tr:only-child th {\n",
       "        text-align: right;\n",
       "    }\n",
       "\n",
       "    .dataframe thead th {\n",
       "        text-align: left;\n",
       "    }\n",
       "\n",
       "    .dataframe tbody tr th {\n",
       "        vertical-align: top;\n",
       "    }\n",
       "</style>\n",
       "<table border=\"1\" class=\"dataframe\">\n",
       "  <thead>\n",
       "    <tr style=\"text-align: right;\">\n",
       "      <th></th>\n",
       "      <th>aliases</th>\n",
       "      <th>country</th>\n",
       "      <th>name</th>\n",
       "      <th>relative_rank</th>\n",
       "      <th>students</th>\n",
       "      <th>international/students</th>\n",
       "      <th>faculty/students</th>\n",
       "      <th>url</th>\n",
       "      <th>absolute_rank</th>\n",
       "    </tr>\n",
       "  </thead>\n",
       "  <tbody>\n",
       "    <tr>\n",
       "      <th>0</th>\n",
       "      <td>University of Oxford</td>\n",
       "      <td>United Kingdom</td>\n",
       "      <td>University of Oxford</td>\n",
       "      <td>1</td>\n",
       "      <td>20,409</td>\n",
       "      <td>38%</td>\n",
       "      <td>11.2</td>\n",
       "      <td>/world-university-rankings/university-oxford</td>\n",
       "      <td>1</td>\n",
       "    </tr>\n",
       "    <tr>\n",
       "      <th>1</th>\n",
       "      <td>University of Cambridge</td>\n",
       "      <td>United Kingdom</td>\n",
       "      <td>University of Cambridge</td>\n",
       "      <td>2</td>\n",
       "      <td>18,389</td>\n",
       "      <td>35%</td>\n",
       "      <td>10.9</td>\n",
       "      <td>/world-university-rankings/university-cambridge</td>\n",
       "      <td>2</td>\n",
       "    </tr>\n",
       "    <tr>\n",
       "      <th>2</th>\n",
       "      <td>California Institute of Technology caltech</td>\n",
       "      <td>United States</td>\n",
       "      <td>California Institute of Technology</td>\n",
       "      <td>3</td>\n",
       "      <td>2,209</td>\n",
       "      <td>27%</td>\n",
       "      <td>6.5</td>\n",
       "      <td>/world-university-rankings/california-institut...</td>\n",
       "      <td>3</td>\n",
       "    </tr>\n",
       "    <tr>\n",
       "      <th>3</th>\n",
       "      <td>Stanford University</td>\n",
       "      <td>United States</td>\n",
       "      <td>Stanford University</td>\n",
       "      <td>3</td>\n",
       "      <td>15,845</td>\n",
       "      <td>22%</td>\n",
       "      <td>7.5</td>\n",
       "      <td>/world-university-rankings/stanford-university</td>\n",
       "      <td>4</td>\n",
       "    </tr>\n",
       "    <tr>\n",
       "      <th>4</th>\n",
       "      <td>Massachusetts Institute of Technology</td>\n",
       "      <td>United States</td>\n",
       "      <td>Massachusetts Institute of Technology</td>\n",
       "      <td>5</td>\n",
       "      <td>11,177</td>\n",
       "      <td>34%</td>\n",
       "      <td>8.7</td>\n",
       "      <td>/world-university-rankings/massachusetts-insti...</td>\n",
       "      <td>5</td>\n",
       "    </tr>\n",
       "  </tbody>\n",
       "</table>\n",
       "</div>"
      ],
      "text/plain": [
       "                                      aliases         country  \\\n",
       "0                        University of Oxford  United Kingdom   \n",
       "1                     University of Cambridge  United Kingdom   \n",
       "2  California Institute of Technology caltech   United States   \n",
       "3                         Stanford University   United States   \n",
       "4       Massachusetts Institute of Technology   United States   \n",
       "\n",
       "                                    name  relative_rank students  \\\n",
       "0                   University of Oxford              1   20,409   \n",
       "1                University of Cambridge              2   18,389   \n",
       "2     California Institute of Technology              3    2,209   \n",
       "3                    Stanford University              3   15,845   \n",
       "4  Massachusetts Institute of Technology              5   11,177   \n",
       "\n",
       "  international/students faculty/students  \\\n",
       "0                    38%             11.2   \n",
       "1                    35%             10.9   \n",
       "2                    27%              6.5   \n",
       "3                    22%              7.5   \n",
       "4                    34%              8.7   \n",
       "\n",
       "                                                 url  absolute_rank  \n",
       "0       /world-university-rankings/university-oxford              1  \n",
       "1    /world-university-rankings/university-cambridge              2  \n",
       "2  /world-university-rankings/california-institut...              3  \n",
       "3     /world-university-rankings/stanford-university              4  \n",
       "4  /world-university-rankings/massachusetts-insti...              5  "
      ]
     },
     "execution_count": 24,
     "metadata": {},
     "output_type": "execute_result"
    }
   ],
   "source": [
    "times_frame = pd.DataFrame(timesjson['data']).head(200) #Keep the first 200 schools\n",
    "times_frame = times_frame[[d for d in times_frame.columns if not ('score' in d)]] #Drop useless frames\n",
    "del times_frame['member_level'],\\\n",
    "    times_frame['nid'],\\\n",
    "    times_frame['record_type'],\\\n",
    "    times_frame['subjects_offered'],\\\n",
    "    times_frame['stats_female_male_ratio'],\\\n",
    "    times_frame['rank_order']\n",
    "\n",
    "transform_rank(times_frame,'rank')\n",
    "times_frame.rename(columns = {'stats_number_students': 'students', \n",
    "                    'stats_pc_intl_students': 'international/students',\n",
    "                    'stats_student_staff_ratio': 'faculty/students',\n",
    "                    'location': 'country'}, inplace = True)    \n",
    "\n",
    "times_frame.head()"
   ]
  },
  {
   "cell_type": "markdown",
   "metadata": {},
   "source": [
    "### Data cleaning :"
   ]
  },
  {
   "cell_type": "markdown",
   "metadata": {},
   "source": [
    "There is a very big difference between the TopUniversities ranking and the Times Higher Education ranking when it comes to ratios, they are already provided to us. For this reason, we need to format these elements so they can be easily used. We then display the head to ensure the results are sound."
   ]
  },
  {
   "cell_type": "code",
   "execution_count": 25,
   "metadata": {},
   "outputs": [
    {
     "data": {
      "text/html": [
       "<div>\n",
       "<style>\n",
       "    .dataframe thead tr:only-child th {\n",
       "        text-align: right;\n",
       "    }\n",
       "\n",
       "    .dataframe thead th {\n",
       "        text-align: left;\n",
       "    }\n",
       "\n",
       "    .dataframe tbody tr th {\n",
       "        vertical-align: top;\n",
       "    }\n",
       "</style>\n",
       "<table border=\"1\" class=\"dataframe\">\n",
       "  <thead>\n",
       "    <tr style=\"text-align: right;\">\n",
       "      <th></th>\n",
       "      <th>aliases</th>\n",
       "      <th>country</th>\n",
       "      <th>name</th>\n",
       "      <th>relative_rank</th>\n",
       "      <th>students</th>\n",
       "      <th>international/students</th>\n",
       "      <th>faculty/students</th>\n",
       "      <th>url</th>\n",
       "      <th>absolute_rank</th>\n",
       "    </tr>\n",
       "  </thead>\n",
       "  <tbody>\n",
       "    <tr>\n",
       "      <th>0</th>\n",
       "      <td>University of Oxford</td>\n",
       "      <td>United Kingdom</td>\n",
       "      <td>University of Oxford</td>\n",
       "      <td>1</td>\n",
       "      <td>20,409</td>\n",
       "      <td>0.38</td>\n",
       "      <td>0.089286</td>\n",
       "      <td>/world-university-rankings/university-oxford</td>\n",
       "      <td>1</td>\n",
       "    </tr>\n",
       "    <tr>\n",
       "      <th>1</th>\n",
       "      <td>University of Cambridge</td>\n",
       "      <td>United Kingdom</td>\n",
       "      <td>University of Cambridge</td>\n",
       "      <td>2</td>\n",
       "      <td>18,389</td>\n",
       "      <td>0.35</td>\n",
       "      <td>0.091743</td>\n",
       "      <td>/world-university-rankings/university-cambridge</td>\n",
       "      <td>2</td>\n",
       "    </tr>\n",
       "    <tr>\n",
       "      <th>2</th>\n",
       "      <td>California Institute of Technology caltech</td>\n",
       "      <td>United States</td>\n",
       "      <td>California Institute of Technology</td>\n",
       "      <td>3</td>\n",
       "      <td>2,209</td>\n",
       "      <td>0.27</td>\n",
       "      <td>0.153846</td>\n",
       "      <td>/world-university-rankings/california-institut...</td>\n",
       "      <td>3</td>\n",
       "    </tr>\n",
       "    <tr>\n",
       "      <th>3</th>\n",
       "      <td>Stanford University</td>\n",
       "      <td>United States</td>\n",
       "      <td>Stanford University</td>\n",
       "      <td>3</td>\n",
       "      <td>15,845</td>\n",
       "      <td>0.22</td>\n",
       "      <td>0.133333</td>\n",
       "      <td>/world-university-rankings/stanford-university</td>\n",
       "      <td>4</td>\n",
       "    </tr>\n",
       "    <tr>\n",
       "      <th>4</th>\n",
       "      <td>Massachusetts Institute of Technology</td>\n",
       "      <td>United States</td>\n",
       "      <td>Massachusetts Institute of Technology</td>\n",
       "      <td>5</td>\n",
       "      <td>11,177</td>\n",
       "      <td>0.34</td>\n",
       "      <td>0.114943</td>\n",
       "      <td>/world-university-rankings/massachusetts-insti...</td>\n",
       "      <td>5</td>\n",
       "    </tr>\n",
       "  </tbody>\n",
       "</table>\n",
       "</div>"
      ],
      "text/plain": [
       "                                      aliases         country  \\\n",
       "0                        University of Oxford  United Kingdom   \n",
       "1                     University of Cambridge  United Kingdom   \n",
       "2  California Institute of Technology caltech   United States   \n",
       "3                         Stanford University   United States   \n",
       "4       Massachusetts Institute of Technology   United States   \n",
       "\n",
       "                                    name  relative_rank students  \\\n",
       "0                   University of Oxford              1   20,409   \n",
       "1                University of Cambridge              2   18,389   \n",
       "2     California Institute of Technology              3    2,209   \n",
       "3                    Stanford University              3   15,845   \n",
       "4  Massachusetts Institute of Technology              5   11,177   \n",
       "\n",
       "   international/students  faculty/students  \\\n",
       "0                    0.38          0.089286   \n",
       "1                    0.35          0.091743   \n",
       "2                    0.27          0.153846   \n",
       "3                    0.22          0.133333   \n",
       "4                    0.34          0.114943   \n",
       "\n",
       "                                                 url  absolute_rank  \n",
       "0       /world-university-rankings/university-oxford              1  \n",
       "1    /world-university-rankings/university-cambridge              2  \n",
       "2  /world-university-rankings/california-institut...              3  \n",
       "3     /world-university-rankings/stanford-university              4  \n",
       "4  /world-university-rankings/massachusetts-insti...              5  "
      ]
     },
     "execution_count": 25,
     "metadata": {},
     "output_type": "execute_result"
    }
   ],
   "source": [
    "times_frame['faculty/students'] = 1/times_frame['faculty/students'].astype('float')\n",
    "times_frame['international/students'] = (1/100) * times_frame['international/students'].str.replace('%', '').astype('int')\n",
    "times_frame.head()"
   ]
  },
  {
   "cell_type": "markdown",
   "metadata": {},
   "source": [
    "We also have the probblem that the Times Higher Education ranking does not include the region. Thus, we decide to match the countries using the regions defined by the first ranking. "
   ]
  },
  {
   "cell_type": "code",
   "execution_count": 26,
   "metadata": {
    "collapsed": true
   },
   "outputs": [],
   "source": [
    "regions_by_country = dict(zip(top_frame.country, top_frame.region))"
   ]
  },
  {
   "cell_type": "markdown",
   "metadata": {},
   "source": [
    "Some countries couldn't be matched automatically"
   ]
  },
  {
   "cell_type": "code",
   "execution_count": 27,
   "metadata": {},
   "outputs": [
    {
     "data": {
      "text/html": [
       "<div>\n",
       "<style>\n",
       "    .dataframe thead tr:only-child th {\n",
       "        text-align: right;\n",
       "    }\n",
       "\n",
       "    .dataframe thead th {\n",
       "        text-align: left;\n",
       "    }\n",
       "\n",
       "    .dataframe tbody tr th {\n",
       "        vertical-align: top;\n",
       "    }\n",
       "</style>\n",
       "<table border=\"1\" class=\"dataframe\">\n",
       "  <thead>\n",
       "    <tr style=\"text-align: right;\">\n",
       "      <th></th>\n",
       "      <th>aliases</th>\n",
       "      <th>country</th>\n",
       "      <th>name</th>\n",
       "      <th>relative_rank</th>\n",
       "      <th>students</th>\n",
       "      <th>international/students</th>\n",
       "      <th>faculty/students</th>\n",
       "      <th>url</th>\n",
       "      <th>absolute_rank</th>\n",
       "      <th>region</th>\n",
       "    </tr>\n",
       "  </thead>\n",
       "  <tbody>\n",
       "    <tr>\n",
       "      <th>178</th>\n",
       "      <td>University of Luxembourg</td>\n",
       "      <td>Luxembourg</td>\n",
       "      <td>University of Luxembourg</td>\n",
       "      <td>179</td>\n",
       "      <td>4,969</td>\n",
       "      <td>0.57</td>\n",
       "      <td>0.068493</td>\n",
       "      <td>/world-university-rankings/university-luxembourg</td>\n",
       "      <td>179</td>\n",
       "      <td>NaN</td>\n",
       "    </tr>\n",
       "    <tr>\n",
       "      <th>193</th>\n",
       "      <td>Lomonosov Moscow State University</td>\n",
       "      <td>Russian Federation</td>\n",
       "      <td>Lomonosov Moscow State University</td>\n",
       "      <td>194</td>\n",
       "      <td>29,236</td>\n",
       "      <td>0.22</td>\n",
       "      <td>0.136986</td>\n",
       "      <td>/world-university-rankings/lomonosov-moscow-st...</td>\n",
       "      <td>194</td>\n",
       "      <td>NaN</td>\n",
       "    </tr>\n",
       "  </tbody>\n",
       "</table>\n",
       "</div>"
      ],
      "text/plain": [
       "                               aliases             country  \\\n",
       "178           University of Luxembourg          Luxembourg   \n",
       "193  Lomonosov Moscow State University  Russian Federation   \n",
       "\n",
       "                                  name  relative_rank students  \\\n",
       "178           University of Luxembourg            179    4,969   \n",
       "193  Lomonosov Moscow State University            194   29,236   \n",
       "\n",
       "     international/students  faculty/students  \\\n",
       "178                    0.57          0.068493   \n",
       "193                    0.22          0.136986   \n",
       "\n",
       "                                                   url  absolute_rank region  \n",
       "178   /world-university-rankings/university-luxembourg            179    NaN  \n",
       "193  /world-university-rankings/lomonosov-moscow-st...            194    NaN  "
      ]
     },
     "execution_count": 27,
     "metadata": {},
     "output_type": "execute_result"
    }
   ],
   "source": [
    "times_frame['region'] = times_frame.country.map(regions_by_country)\n",
    "times_frame[times_frame.region.isnull()]"
   ]
  },
  {
   "cell_type": "code",
   "execution_count": 28,
   "metadata": {},
   "outputs": [
    {
     "data": {
      "text/html": [
       "<div>\n",
       "<style>\n",
       "    .dataframe thead tr:only-child th {\n",
       "        text-align: right;\n",
       "    }\n",
       "\n",
       "    .dataframe thead th {\n",
       "        text-align: left;\n",
       "    }\n",
       "\n",
       "    .dataframe tbody tr th {\n",
       "        vertical-align: top;\n",
       "    }\n",
       "</style>\n",
       "<table border=\"1\" class=\"dataframe\">\n",
       "  <thead>\n",
       "    <tr style=\"text-align: right;\">\n",
       "      <th></th>\n",
       "      <th>aliases</th>\n",
       "      <th>country</th>\n",
       "      <th>name</th>\n",
       "      <th>relative_rank</th>\n",
       "      <th>students</th>\n",
       "      <th>international/students</th>\n",
       "      <th>faculty/students</th>\n",
       "      <th>url</th>\n",
       "      <th>absolute_rank</th>\n",
       "      <th>region</th>\n",
       "    </tr>\n",
       "  </thead>\n",
       "  <tbody>\n",
       "    <tr>\n",
       "      <th>0</th>\n",
       "      <td>University of Oxford</td>\n",
       "      <td>United Kingdom</td>\n",
       "      <td>University of Oxford</td>\n",
       "      <td>1</td>\n",
       "      <td>20,409</td>\n",
       "      <td>0.38</td>\n",
       "      <td>0.089286</td>\n",
       "      <td>/world-university-rankings/university-oxford</td>\n",
       "      <td>1</td>\n",
       "      <td>Europe</td>\n",
       "    </tr>\n",
       "    <tr>\n",
       "      <th>1</th>\n",
       "      <td>University of Cambridge</td>\n",
       "      <td>United Kingdom</td>\n",
       "      <td>University of Cambridge</td>\n",
       "      <td>2</td>\n",
       "      <td>18,389</td>\n",
       "      <td>0.35</td>\n",
       "      <td>0.091743</td>\n",
       "      <td>/world-university-rankings/university-cambridge</td>\n",
       "      <td>2</td>\n",
       "      <td>Europe</td>\n",
       "    </tr>\n",
       "    <tr>\n",
       "      <th>2</th>\n",
       "      <td>California Institute of Technology caltech</td>\n",
       "      <td>United States</td>\n",
       "      <td>California Institute of Technology</td>\n",
       "      <td>3</td>\n",
       "      <td>2,209</td>\n",
       "      <td>0.27</td>\n",
       "      <td>0.153846</td>\n",
       "      <td>/world-university-rankings/california-institut...</td>\n",
       "      <td>3</td>\n",
       "      <td>North America</td>\n",
       "    </tr>\n",
       "    <tr>\n",
       "      <th>3</th>\n",
       "      <td>Stanford University</td>\n",
       "      <td>United States</td>\n",
       "      <td>Stanford University</td>\n",
       "      <td>3</td>\n",
       "      <td>15,845</td>\n",
       "      <td>0.22</td>\n",
       "      <td>0.133333</td>\n",
       "      <td>/world-university-rankings/stanford-university</td>\n",
       "      <td>4</td>\n",
       "      <td>North America</td>\n",
       "    </tr>\n",
       "    <tr>\n",
       "      <th>4</th>\n",
       "      <td>Massachusetts Institute of Technology</td>\n",
       "      <td>United States</td>\n",
       "      <td>Massachusetts Institute of Technology</td>\n",
       "      <td>5</td>\n",
       "      <td>11,177</td>\n",
       "      <td>0.34</td>\n",
       "      <td>0.114943</td>\n",
       "      <td>/world-university-rankings/massachusetts-insti...</td>\n",
       "      <td>5</td>\n",
       "      <td>North America</td>\n",
       "    </tr>\n",
       "  </tbody>\n",
       "</table>\n",
       "</div>"
      ],
      "text/plain": [
       "                                      aliases         country  \\\n",
       "0                        University of Oxford  United Kingdom   \n",
       "1                     University of Cambridge  United Kingdom   \n",
       "2  California Institute of Technology caltech   United States   \n",
       "3                         Stanford University   United States   \n",
       "4       Massachusetts Institute of Technology   United States   \n",
       "\n",
       "                                    name  relative_rank students  \\\n",
       "0                   University of Oxford              1   20,409   \n",
       "1                University of Cambridge              2   18,389   \n",
       "2     California Institute of Technology              3    2,209   \n",
       "3                    Stanford University              3   15,845   \n",
       "4  Massachusetts Institute of Technology              5   11,177   \n",
       "\n",
       "   international/students  faculty/students  \\\n",
       "0                    0.38          0.089286   \n",
       "1                    0.35          0.091743   \n",
       "2                    0.27          0.153846   \n",
       "3                    0.22          0.133333   \n",
       "4                    0.34          0.114943   \n",
       "\n",
       "                                                 url  absolute_rank  \\\n",
       "0       /world-university-rankings/university-oxford              1   \n",
       "1    /world-university-rankings/university-cambridge              2   \n",
       "2  /world-university-rankings/california-institut...              3   \n",
       "3     /world-university-rankings/stanford-university              4   \n",
       "4  /world-university-rankings/massachusetts-insti...              5   \n",
       "\n",
       "          region  \n",
       "0         Europe  \n",
       "1         Europe  \n",
       "2  North America  \n",
       "3  North America  \n",
       "4  North America  "
      ]
     },
     "execution_count": 28,
     "metadata": {},
     "output_type": "execute_result"
    }
   ],
   "source": [
    "#Both universities are in Europe, so we input the region manually\n",
    "times_frame.loc[times_frame.region.isnull(), 'region'] = 'Europe' \n",
    "times_frame.head()"
   ]
  },
  {
   "cell_type": "markdown",
   "metadata": {},
   "source": [
    "Once our data is ready, we save all the needed elements in a new file"
   ]
  },
  {
   "cell_type": "code",
   "execution_count": 29,
   "metadata": {
    "collapsed": true
   },
   "outputs": [],
   "source": [
    "#We create a file to store the Times Higher Education Ranking\n",
    "times_file = DATA_FOLDER + 'times_ranking.pkl'\n",
    "if osp.exists(times_file):\n",
    "    times_frame = load_pkl(times_file)\n",
    "else:\n",
    "    times_frame = times_frame.reindex_axis(['country', 'region', 'name', 'aliases', 'relative_rank',\n",
    "                                         'absolute_rank', 'faculty/students', 'international/students', \n",
    "                                         'students', 'url'], axis=1)\n",
    "    save_pkl(times_frame, times_file)"
   ]
  },
  {
   "cell_type": "markdown",
   "metadata": {},
   "source": [
    "### Best universities by ratio :"
   ]
  },
  {
   "cell_type": "markdown",
   "metadata": {},
   "source": [
    "We visualize the best universities according to their ratios (after sorting them)."
   ]
  },
  {
   "cell_type": "code",
   "execution_count": 30,
   "metadata": {
    "collapsed": true
   },
   "outputs": [],
   "source": [
    "best_fac = times_frame[['name', 'faculty/students', 'relative_rank']]\n",
    "best_fac = times_frame.sort_values(['faculty/students', 'relative_rank'], ascending=[False, True])\n",
    "best_fac.index = range(len(best_fac.index))\n"
   ]
  },
  {
   "cell_type": "code",
   "execution_count": 31,
   "metadata": {
    "collapsed": true
   },
   "outputs": [],
   "source": [
    "best_int = best_int[['name', 'international/students', 'relative_rank']]\n",
    "best_int = best_int.sort_values(['international/students', 'relative_rank'], ascending=[False, True])\n",
    "best_int = best_int.reset_index()\n"
   ]
  },
  {
   "cell_type": "code",
   "execution_count": 32,
   "metadata": {
    "collapsed": true
   },
   "outputs": [],
   "source": [
    "best_fac = best_fac.head(20)\n",
    "best_int = best_int.head(20)"
   ]
  },
  {
   "cell_type": "code",
   "execution_count": 33,
   "metadata": {},
   "outputs": [
    {
     "data": {
      "image/png": "[encoded data removed]",
      "text/plain": [
       "<matplotlib.figure.Figure at 0x112db49b0>"
      ]
     },
     "metadata": {},
     "output_type": "display_data"
    },
    {
     "data": {
      "image/png": "[encoded data removed]",
      "text/plain": [
       "<matplotlib.figure.Figure at 0x112cd6ba8>"
      ]
     },
     "metadata": {},
     "output_type": "display_data"
    }
   ],
   "source": [
    "cmap = plt.cm.get_cmap('Blues')\n",
    "pal = sns.color_palette(\"RdPu\", n_colors=14, desat=0.6)\n",
    "\n",
    "sns.barplot(y=\"name\", x=\"faculty/students\", palette=best_fac['relative_rank'].map(lambda x: cmap(1-np.sqrt(1+(x - 200)/200))) , data=best_fac)\n",
    "plt.title(\"Best universities by faculty to students ratio\")\n",
    "plt.show()\n",
    "\n",
    "sns.barplot(y=\"name\", x=\"international/students\", palette=best_int['relative_rank'].map(lambda x: cmap(1-np.sqrt(1+(x - 200)/200))) , data=best_int)\n",
    "plt.title(\"Best universities by internatinal students to students ratio\")\n",
    "plt.show()"
   ]
  },
  {
   "cell_type": "markdown",
   "metadata": {},
   "source": [
    "Interestingly, the faculty to student ratio in the Times ranking seems to contain very different values, as well different lower ranking universities (which a higher fac/stud ratio), hence we can not observe a similar distribution as for the Top Universities ranking.\n",
    "\n",
    "The international student to student ratio, however, is similarly distributed."
   ]
  },
  {
   "cell_type": "markdown",
   "metadata": {},
   "source": [
    "### Best universities by geographic region :"
   ]
  },
  {
   "cell_type": "markdown",
   "metadata": {},
   "source": [
    "Unlike the TopUniversities ranking, the Times Higher Education ranking does not include the region. We previously used to mapping defined in TopUniversities to map countries in Times to the regions."
   ]
  },
  {
   "cell_type": "markdown",
   "metadata": {},
   "source": [
    "This is the ranking by country."
   ]
  },
  {
   "cell_type": "code",
   "execution_count": 34,
   "metadata": {},
   "outputs": [
    {
     "data": {
      "text/html": [
       "<div>\n",
       "<style>\n",
       "    .dataframe thead tr:only-child th {\n",
       "        text-align: right;\n",
       "    }\n",
       "\n",
       "    .dataframe thead th {\n",
       "        text-align: left;\n",
       "    }\n",
       "\n",
       "    .dataframe tbody tr th {\n",
       "        vertical-align: top;\n",
       "    }\n",
       "</style>\n",
       "<table border=\"1\" class=\"dataframe\">\n",
       "  <thead>\n",
       "    <tr style=\"text-align: right;\">\n",
       "      <th></th>\n",
       "      <th>country</th>\n",
       "      <th>universities</th>\n",
       "    </tr>\n",
       "  </thead>\n",
       "  <tbody>\n",
       "    <tr>\n",
       "      <th>0</th>\n",
       "      <td>United States</td>\n",
       "      <td>62</td>\n",
       "    </tr>\n",
       "    <tr>\n",
       "      <th>1</th>\n",
       "      <td>United Kingdom</td>\n",
       "      <td>31</td>\n",
       "    </tr>\n",
       "    <tr>\n",
       "      <th>2</th>\n",
       "      <td>Germany</td>\n",
       "      <td>20</td>\n",
       "    </tr>\n",
       "    <tr>\n",
       "      <th>3</th>\n",
       "      <td>Netherlands</td>\n",
       "      <td>13</td>\n",
       "    </tr>\n",
       "    <tr>\n",
       "      <th>4</th>\n",
       "      <td>Australia</td>\n",
       "      <td>8</td>\n",
       "    </tr>\n",
       "  </tbody>\n",
       "</table>\n",
       "</div>"
      ],
      "text/plain": [
       "          country  universities\n",
       "0   United States            62\n",
       "1  United Kingdom            31\n",
       "2         Germany            20\n",
       "3     Netherlands            13\n",
       "4       Australia             8"
      ]
     },
     "execution_count": 34,
     "metadata": {},
     "output_type": "execute_result"
    }
   ],
   "source": [
    "best_countries = pd.DataFrame(times_frame['country'].value_counts())\n",
    "best_countries = best_countries.reset_index()\n",
    "best_countries.columns = ['country', 'universities']\n",
    "best_countries.head()"
   ]
  },
  {
   "cell_type": "markdown",
   "metadata": {},
   "source": [
    "This is the ranking by region."
   ]
  },
  {
   "cell_type": "code",
   "execution_count": 35,
   "metadata": {},
   "outputs": [
    {
     "data": {
      "text/html": [
       "<div>\n",
       "<style>\n",
       "    .dataframe thead tr:only-child th {\n",
       "        text-align: right;\n",
       "    }\n",
       "\n",
       "    .dataframe thead th {\n",
       "        text-align: left;\n",
       "    }\n",
       "\n",
       "    .dataframe tbody tr th {\n",
       "        vertical-align: top;\n",
       "    }\n",
       "</style>\n",
       "<table border=\"1\" class=\"dataframe\">\n",
       "  <thead>\n",
       "    <tr style=\"text-align: right;\">\n",
       "      <th></th>\n",
       "      <th>region</th>\n",
       "      <th>universities</th>\n",
       "    </tr>\n",
       "  </thead>\n",
       "  <tbody>\n",
       "    <tr>\n",
       "      <th>0</th>\n",
       "      <td>Europe</td>\n",
       "      <td>101</td>\n",
       "    </tr>\n",
       "    <tr>\n",
       "      <th>1</th>\n",
       "      <td>North America</td>\n",
       "      <td>68</td>\n",
       "    </tr>\n",
       "    <tr>\n",
       "      <th>2</th>\n",
       "      <td>Asia</td>\n",
       "      <td>21</td>\n",
       "    </tr>\n",
       "    <tr>\n",
       "      <th>3</th>\n",
       "      <td>Oceania</td>\n",
       "      <td>9</td>\n",
       "    </tr>\n",
       "    <tr>\n",
       "      <th>4</th>\n",
       "      <td>Africa</td>\n",
       "      <td>1</td>\n",
       "    </tr>\n",
       "  </tbody>\n",
       "</table>\n",
       "</div>"
      ],
      "text/plain": [
       "          region  universities\n",
       "0         Europe           101\n",
       "1  North America            68\n",
       "2           Asia            21\n",
       "3        Oceania             9\n",
       "4         Africa             1"
      ]
     },
     "execution_count": 35,
     "metadata": {},
     "output_type": "execute_result"
    }
   ],
   "source": [
    "best_regions = pd.DataFrame(times_frame['region'].value_counts())\n",
    "best_regions = best_regions.reset_index()\n",
    "best_regions.columns = ['region', 'universities']\n",
    "best_regions.head()"
   ]
  },
  {
   "cell_type": "markdown",
   "metadata": {},
   "source": [
    "Finally, we plot our results"
   ]
  },
  {
   "cell_type": "code",
   "execution_count": 36,
   "metadata": {
    "collapsed": true
   },
   "outputs": [],
   "source": [
    "best_countries = best_countries.head(10)"
   ]
  },
  {
   "cell_type": "code",
   "execution_count": 37,
   "metadata": {},
   "outputs": [
    {
     "data": {
      "image/png": "[encoded data removed]",
      "text/plain": [
       "<matplotlib.figure.Figure at 0x112d65240>"
      ]
     },
     "metadata": {},
     "output_type": "display_data"
    },
    {
     "data": {
      "image/png": "[encoded data removed]",
      "text/plain": [
       "<matplotlib.figure.Figure at 0x112f37278>"
      ]
     },
     "metadata": {},
     "output_type": "display_data"
    }
   ],
   "source": [
    "sns.barplot(y='country', x='universities', data=best_countries)\n",
    "plt.title(\"Best countries according to number of top universities\")\n",
    "plt.show()\n",
    "\n",
    "sns.barplot(y=\"region\", x=\"universities\", data=best_regions)\n",
    "plt.title(\"Regions according to number of top universities\")\n",
    "plt.show()"
   ]
  },
  {
   "cell_type": "markdown",
   "metadata": {},
   "source": [
    "We note that similarly to the topuniversities ranking, first world, mostly western countries fare the best. We can see that while the Top Universities ranking didn't contain any african universities, the Times ranking does. But unlike the Top Universities ranking, it does not seem to contain any latin american universities."
   ]
  },
  {
   "cell_type": "markdown",
   "metadata": {},
   "source": [
    "## Exercise 3 :  Merging the two rankings"
   ]
  },
  {
   "cell_type": "markdown",
   "metadata": {},
   "source": [
    "### Naive Merge"
   ]
  },
  {
   "cell_type": "markdown",
   "metadata": {},
   "source": [
    "We tried to merge the two DataFrames in a naive manner with a simple join, and found that barely any columns matched.\n",
    "\n",
    "We also tried to use difflib, a Python library, but it gives us false positives for certain universities. If it gave us false negatives, it wouldn't be a huge problem, but the opposite is one as we don't want any errors in our mergers. \n",
    "\n",
    "Hence, we created our own method. The idea behind this is that non-alphanumeric characters in the strings make it so that the strings are not an exact match. It also happens that some university names in one DataFrame are a substring of those in the other.\n",
    "\n",
    "For some languages (french and german for example), non-unicode characters (like é and è or ö and ü) impede the matching. Thus, removing all these may increase our matching rate, without giving us any false positives."
   ]
  },
  {
   "cell_type": "code",
   "execution_count": 38,
   "metadata": {
    "collapsed": true
   },
   "outputs": [],
   "source": [
    "def ascii(s):\n",
    "    s = re.sub(\"\\W+\", \"\", s)\n",
    "    s = s.replace(\"at\", '')\n",
    "    # transforms é with e for example\n",
    "    return ''.join((c for c in unicodedata.normalize('NFD', s) if unicodedata.category(c) != 'Mn'))\n",
    "\n",
    "#apply the transformation to both frames\n",
    "top_frame.name = top_frame.name.map(str.lower).map(ascii)\n",
    "times_frame.name = times_frame.name.map(str.lower).map(ascii)"
   ]
  },
  {
   "cell_type": "markdown",
   "metadata": {},
   "source": [
    "We create a dictionary with the different matches, making sure to fill it from both sides (check if a is in b and if b is in a). As we sometimes have multiple matches, it is best not to do anything right now at the risk of getting false positives."
   ]
  },
  {
   "cell_type": "code",
   "execution_count": 39,
   "metadata": {},
   "outputs": [
    {
     "data": {
      "text/plain": [
       "146"
      ]
     },
     "execution_count": 39,
     "metadata": {},
     "output_type": "execute_result"
    }
   ],
   "source": [
    "i = 0\n",
    "university_name = dict()\n",
    "\n",
    "for name in times_frame['name']:\n",
    "    if (top_frame['name'].str.contains(name).any()) \\\n",
    "    and len(top_frame.name[top_frame['name'].str.contains(name)]) == 1:\n",
    "        #way to check how many direct matches we have\n",
    "        university_name[name] = top_frame.name[top_frame['name'].str.contains(name)].item()\n",
    "        #matches_1.append(top_frame.name[top_frame['name'].str.contains(name)].item())\n",
    "        i = i+1\n",
    "        \n",
    "    #if we have multiple possibilities, take exact match if it exists\n",
    "    elif (top_frame['name'].str.contains(name).any()) \\\n",
    "    and len(top_frame.name[top_frame['name'].str.contains(name)]) != 1\\\n",
    "    and not top_frame.name[top_frame['name'] == name].empty:\n",
    "        university_name[name] = top_frame.name[top_frame['name'] == name]\n",
    "#Number of matches.\n",
    "len(university_name)"
   ]
  },
  {
   "cell_type": "code",
   "execution_count": 40,
   "metadata": {},
   "outputs": [
    {
     "data": {
      "text/plain": [
       "148"
      ]
     },
     "execution_count": 40,
     "metadata": {},
     "output_type": "execute_result"
    }
   ],
   "source": [
    "# Mostly the same but the other way around.\n",
    "i = 0\n",
    "\n",
    "for name in top_frame['name']:\n",
    "    if times_frame['name'].str.contains(name).any()\\\n",
    "    and len(times_frame.name[times_frame['name'].str.contains(name)]) == 1:\n",
    "        university_name[times_frame.name[times_frame['name'].str.contains(name)].item()] = name\n",
    "        i = i+1\n",
    "    elif (times_frame['name'].str.contains(name).any()) \\\n",
    "    and len(times_frame.name[times_frame['name'].str.contains(name)]) != 1\\\n",
    "    and not times_frame.name[times_frame['name'] == name].empty:\n",
    "        university_name[times_frame.name[times_frame['name'] == name].item()] = name\n",
    "#Number of matches.\n",
    "len(university_name)"
   ]
  },
  {
   "cell_type": "markdown",
   "metadata": {},
   "source": [
    "As we can see, we only have 148 matches, which leaves us with (at least) 52 unmatches universities."
   ]
  },
  {
   "cell_type": "markdown",
   "metadata": {},
   "source": [
    "### Specific Cases"
   ]
  },
  {
   "cell_type": "markdown",
   "metadata": {},
   "source": [
    "We decided to take a look at all the unmatched universities to see if we can do better."
   ]
  },
  {
   "cell_type": "code",
   "execution_count": 41,
   "metadata": {
    "collapsed": true
   },
   "outputs": [],
   "source": [
    "times_frame['join_here'] = times_frame.name.map(university_name)\n",
    "still_na = times_frame[times_frame['join_here'].isnull()]\n",
    "inv_unimap = {v: k for k, v in university_name.items()} #inverse dictionary\n",
    "top_frame['join_here'] = top_frame.name.map(inv_unimap)\n",
    "top_na = top_frame[top_frame['join_here'].isnull()]"
   ]
  },
  {
   "cell_type": "markdown",
   "metadata": {},
   "source": [
    "We go through each country to check if there are any unmatched universities or if they exist in only one of the rankings. This will allow us to understand the difficulties in each one of them. We could use the aliases, but in reality, they do not help for matching."
   ]
  },
  {
   "cell_type": "code",
   "execution_count": 42,
   "metadata": {},
   "outputs": [
    {
     "data": {
      "text/plain": [
       "{'Belgium',\n",
       " 'Canada',\n",
       " 'France',\n",
       " 'Germany',\n",
       " 'Hong Kong',\n",
       " 'South Korea',\n",
       " 'Spain',\n",
       " 'Sweden',\n",
       " 'United Kingdom'}"
      ]
     },
     "execution_count": 42,
     "metadata": {},
     "output_type": "execute_result"
    }
   ],
   "source": [
    "#This set gives us the set of countries for which both frames have unmatched universities\n",
    "na_countries = set(top_na.groupby('country').size().index).intersection(set(still_na.groupby('country').size().index))\n",
    "na_countries"
   ]
  },
  {
   "cell_type": "code",
   "execution_count": 43,
   "metadata": {
    "collapsed": true
   },
   "outputs": [],
   "source": [
    "def print_universities(country):\n",
    "    \"\"\"prints universities from the same country\"\"\"\n",
    "    print(country, \"\\n\")\n",
    "    print(\"TopUniversities university names :\")\n",
    "    print(top_na[top_na.country == country].name)\n",
    "    print(\"\\nTimes Higher Education university names\")\n",
    "    print(still_na[still_na.country == country].name)"
   ]
  },
  {
   "cell_type": "markdown",
   "metadata": {},
   "source": [
    "Concerning Belgium, we have no possible matches between the 2 rankings."
   ]
  },
  {
   "cell_type": "code",
   "execution_count": 44,
   "metadata": {},
   "outputs": [
    {
     "name": "stdout",
     "output_type": "stream",
     "text": [
      "Belgium \n",
      "\n",
      "TopUniversities university names :\n",
      "181    vrijeuniversiteitbrusselvub\n",
      "Name: name, dtype: object\n",
      "\n",
      "Times Higher Education university names\n",
      "174    universitelibredebruxelles\n",
      "Name: name, dtype: object\n"
     ]
    }
   ],
   "source": [
    "print_universities(\"Belgium\"\u001d",
    ")"
   ]
  },
  {
   "cell_type": "markdown",
   "metadata": {},
   "source": [
    "In Canada, the main issue of merging is the use of the university name in a different language."
   ]
  },
  {
   "cell_type": "code",
   "execution_count": 45,
   "metadata": {},
   "outputs": [
    {
     "name": "stdout",
     "output_type": "stream",
     "text": [
      "Canada \n",
      "\n",
      "TopUniversities university names :\n",
      "129    universitedemontreal\n",
      "151      universityofwerloo\n",
      "Name: name, dtype: object\n",
      "\n",
      "Times Higher Education university names\n",
      "107    universityofmontreal\n",
      "Name: name, dtype: object\n"
     ]
    }
   ],
   "source": [
    "print_universities(\"Canada\"\u001d",
    ")"
   ]
  },
  {
   "cell_type": "markdown",
   "metadata": {},
   "source": [
    "Once again in France, the only possible merges are prevented because of the use of the university name in a different language."
   ]
  },
  {
   "cell_type": "code",
   "execution_count": 46,
   "metadata": {},
   "outputs": [
    {
     "name": "stdout",
     "output_type": "stream",
     "text": [
      "France \n",
      "\n",
      "TopUniversities university names :\n",
      "42          ecolenormalesuperieureparis\n",
      "130    universitepierreetmariecurieupmc\n",
      "176                     centralesupelec\n",
      "Name: name, dtype: object\n",
      "\n",
      "Times Higher Education university names\n",
      "72     parissciencesetlettrespslresearchuniversityparis\n",
      "123                       pierreandmariecurieuniversity\n",
      "180                                  parissuduniversity\n",
      "195                       parissorbonneuniversityparis4\n",
      "Name: name, dtype: object\n"
     ]
    }
   ],
   "source": [
    "print_universities(\"France\"\u001d",
    ")"
   ]
  },
  {
   "cell_type": "markdown",
   "metadata": {},
   "source": [
    "We see that matchings in Germany can be improved a lot because of naming conventions in Germany impede on the matching."
   ]
  },
  {
   "cell_type": "code",
   "execution_count": 47,
   "metadata": {},
   "outputs": [
    {
     "name": "stdout",
     "output_type": "stream",
     "text": [
      "Germany \n",
      "\n",
      "TopUniversities university names :\n",
      "65     ludwigmaximiliansuniversitatmunchen\n",
      "67      ruprechtkarlsuniversitatheidelberg\n",
      "119            humboldtuniversitatzuberlin\n",
      "124                freieuniversitaetberlin\n",
      "143    technischeuniversitatberlintuberlin\n",
      "165       eberhardkarlsuniversitattubingen\n",
      "170      albertludwigsuniversitaetfreiburg\n",
      "Name: name, dtype: object\n",
      "\n",
      "Times Higher Education university names\n",
      "34                            lmumunich\n",
      "44                 heidelberguniversity\n",
      "61           humboldtuniversityofberlin\n",
      "81                 universityoffreiburg\n",
      "87               freeuniversityofberlin\n",
      "91          technicaluniversityofberlin\n",
      "93                 universityoftubingen\n",
      "99                     universityofbonn\n",
      "124                universityofmannheim\n",
      "126    chariteuniversitatsmedizinberlin\n",
      "144                 universityofcologne\n",
      "155                           tudresden\n",
      "156                       ulmuniversity\n",
      "163       universityoferlangennuremberg\n",
      "166                universityofwurzburg\n",
      "173                 universityofmunster\n",
      "Name: name, dtype: object\n"
     ]
    }
   ],
   "source": [
    "print_universities(\"Germany\"\u001d",
    ")"
   ]
  },
  {
   "cell_type": "markdown",
   "metadata": {},
   "source": [
    "This university always matches with 2 other universities (needs to be done manually)."
   ]
  },
  {
   "cell_type": "code",
   "execution_count": 48,
   "metadata": {},
   "outputs": [
    {
     "name": "stdout",
     "output_type": "stream",
     "text": [
      "Hong Kong \n",
      "\n",
      "TopUniversities university names :\n",
      "25    theuniversityofhongkong\n",
      "Name: name, dtype: object\n",
      "\n",
      "Times Higher Education university names\n",
      "39    universityofhongkong\n",
      "Name: name, dtype: object\n"
     ]
    }
   ],
   "source": [
    "print_universities(\"Hong Kong\"\u001d",
    ")"
   ]
  },
  {
   "cell_type": "markdown",
   "metadata": {},
   "source": [
    "The only string that can be matched is not written in the same order in both rankings."
   ]
  },
  {
   "cell_type": "code",
   "execution_count": 49,
   "metadata": {},
   "outputs": [
    {
     "name": "stdout",
     "output_type": "stream",
     "text": [
      "South Korea \n",
      "\n",
      "TopUniversities university names :\n",
      "40     kaistkoreaadvancedinstituteofsciencetechnology\n",
      "89                                    koreauniversity\n",
      "105                                  yonseiuniversity\n",
      "154                                 hanyanguniversity\n",
      "Name: name, dtype: object\n",
      "\n",
      "Times Higher Education university names\n",
      "95    koreaadvancedinstituteofscienceandtechnologykaist\n",
      "Name: name, dtype: object\n"
     ]
    }
   ],
   "source": [
    "print_universities(\"South Korea\"\u001d",
    ")"
   ]
  },
  {
   "cell_type": "markdown",
   "metadata": {},
   "source": [
    "Once again, universities in Spain cannot be merged because of translation issues."
   ]
  },
  {
   "cell_type": "code",
   "execution_count": 50,
   "metadata": {},
   "outputs": [
    {
     "name": "stdout",
     "output_type": "stream",
     "text": [
      "Spain \n",
      "\n",
      "TopUniversities university names :\n",
      "155            universitdebarcelona\n",
      "186     universidadautonomademadrid\n",
      "195    universitautonomadebarcelona\n",
      "Name: name, dtype: object\n",
      "\n",
      "Times Higher Education university names\n",
      "139              pompeufabrauniversity\n",
      "146    autonomousuniversityofbarcelona\n",
      "Name: name, dtype: object\n"
     ]
    }
   ],
   "source": [
    "print_universities(\"Spain\"\u001d",
    ")"
   ]
  },
  {
   "cell_type": "markdown",
   "metadata": {},
   "source": [
    "These universities are all distinct."
   ]
  },
  {
   "cell_type": "code",
   "execution_count": 51,
   "metadata": {},
   "outputs": [
    {
     "name": "stdout",
     "output_type": "stream",
     "text": [
      "Sweden \n",
      "\n",
      "TopUniversities university names :\n",
      "132    chalmersuniversityoftechnology\n",
      "Name: name, dtype: object\n",
      "\n",
      "Times Higher Education university names\n",
      "38        karolinskainstitute\n",
      "198    universityofgothenburg\n",
      "Name: name, dtype: object\n"
     ]
    }
   ],
   "source": [
    "print_universities(\"Sweden\"\u001d",
    ")"
   ]
  },
  {
   "cell_type": "markdown",
   "metadata": {},
   "source": [
    "Finally, in the United Kingdom, we have no possible matches between the universities."
   ]
  },
  {
   "cell_type": "code",
   "execution_count": 52,
   "metadata": {},
   "outputs": [
    {
     "name": "stdout",
     "output_type": "stream",
     "text": [
      "United Kingdom \n",
      "\n",
      "TopUniversities university names :\n",
      "159         universityofbh\n",
      "188    universityofreading\n",
      "Name: name, dtype: object\n",
      "\n",
      "Times Higher Education university names\n",
      "148                 universityofsussex\n",
      "158              universityofleicester\n",
      "186                 universityofdundee\n",
      "187             universityofeastanglia\n",
      "196    royalhollowayuniversityoflondon\n",
      "Name: name, dtype: object\n"
     ]
    }
   ],
   "source": [
    "print_universities(\"United Kingdom\"\u001d",
    ")"
   ]
  },
  {
   "cell_type": "markdown",
   "metadata": {},
   "source": [
    "We tried to match the universities using their number of students. However, we were unable to use this method because the difference between the number of students between the two rankings was too big.\n",
    "\n",
    "After this, we decided to match them manually by adding them to the dictionary."
   ]
  },
  {
   "cell_type": "code",
   "execution_count": 53,
   "metadata": {
    "collapsed": true
   },
   "outputs": [],
   "source": [
    "#times.name = top.name\n",
    "university_name['universityofmontreal'] = 'universitedemontreal'\n",
    "university_name['pierreandmariecurieuniversity'] = 'universitepierreetmariecurieupmc'\n",
    "university_name['lmumunich'] = 'ludwigmaximiliansuniversitatmunchen'\n",
    "university_name['humboldtuniversityofberlin'] = 'humboldtuniversitatzuberlin'\n",
    "university_name['freeuniversityofberlin'] = 'freieuniversitaetberlin'\n",
    "university_name['heidelberguniversity'] = 'ruprechtkarlsuniversitatheidelberg'\n",
    "university_name['universityoftubingen'] = 'eberhardkarlsuniversitattubingen'\n",
    "university_name['technicaluniversityofberlin'] = 'technischeuniversitatberlintuberlin'\n",
    "university_name['universityoffreiburg'] = 'albertludwigsuniversitaetfreiburg'\n",
    "university_name['universityofhongkong'] = 'theuniversityofhongkong'\n",
    "university_name['koreaadvancedinstituteofscienceandtechnologykaist'] = 'kaistkoreaadvancedinstituteofsciencetechnology'\n",
    "university_name['autonomousuniversityofbarcelona'] = 'universitautonomadebarcelona'"
   ]
  },
  {
   "cell_type": "code",
   "execution_count": 54,
   "metadata": {},
   "outputs": [
    {
     "data": {
      "text/plain": [
       "160"
      ]
     },
     "execution_count": 54,
     "metadata": {},
     "output_type": "execute_result"
    }
   ],
   "source": [
    "len(university_name)"
   ]
  },
  {
   "cell_type": "markdown",
   "metadata": {},
   "source": [
    "we can match 160 out of the 200 universities"
   ]
  },
  {
   "cell_type": "markdown",
   "metadata": {},
   "source": [
    "### Final merging"
   ]
  },
  {
   "cell_type": "markdown",
   "metadata": {},
   "source": [
    "We start by adding a column to enable the merging of the two rankings.\n",
    "\n",
    "Note that we decided on an inner join, as we will only take the universities in both rankings in this new DataFrame."
   ]
  },
  {
   "cell_type": "code",
   "execution_count": 55,
   "metadata": {
    "collapsed": true
   },
   "outputs": [],
   "source": [
    "times_frame['join_here'] = times_frame.name.map(university_name)\n",
    "merged_frame = pd.merge(times_frame, top_frame, how='inner', left_on=['join_here'], right_on=['name'])"
   ]
  },
  {
   "cell_type": "code",
   "execution_count": 56,
   "metadata": {
    "collapsed": true
   },
   "outputs": [],
   "source": [
    "#quick renaming for more convenient reading later\n",
    "merged_frame = merged_frame.rename(columns={'international/students_x': 'times: international/students',\n",
    "                                            'international/students_y': 'topunis: international/students',\n",
    "                                            'faculty/students_x': 'times: faculty/students',\n",
    "                                            'faculty/students_y': 'topunis: faculty/students',\n",
    "                                            'relative_rank_x': 'times rank',\n",
    "                                            'relative_rank_y': 'topunis rank',\n",
    "                                           })"
   ]
  },
  {
   "cell_type": "markdown",
   "metadata": {},
   "source": [
    "We can see that we could indeed find 160 matchings thanks to the dictionary method"
   ]
  },
  {
   "cell_type": "markdown",
   "metadata": {},
   "source": [
    "## Exercise 4 : Exploratory Analysis"
   ]
  },
  {
   "cell_type": "markdown",
   "metadata": {},
   "source": [
    "### Individual correlation\n",
    "\n",
    "The first step of our exploratory analysis was to look at each ranking individually to get a feel of the data. This step is important because when we will study the cross correlation between the 2 rankings, we won't be able to look at all the data, as universities not present in both will be ignored."
   ]
  },
  {
   "cell_type": "markdown",
   "metadata": {},
   "source": [
    "We started with the TopUniversities ranking. It is very easy to see that the number of faculty members per student and the percentage of international students were correlated with the relative ranking given by the website. However, we see that these two ratios are very poorly associated to each other."
   ]
  },
  {
   "cell_type": "code",
   "execution_count": 57,
   "metadata": {
    "scrolled": true
   },
   "outputs": [
    {
     "data": {
      "text/html": [
       "<div>\n",
       "<style>\n",
       "    .dataframe thead tr:only-child th {\n",
       "        text-align: right;\n",
       "    }\n",
       "\n",
       "    .dataframe thead th {\n",
       "        text-align: left;\n",
       "    }\n",
       "\n",
       "    .dataframe tbody tr th {\n",
       "        vertical-align: top;\n",
       "    }\n",
       "</style>\n",
       "<table border=\"1\" class=\"dataframe\">\n",
       "  <thead>\n",
       "    <tr style=\"text-align: right;\">\n",
       "      <th></th>\n",
       "      <th>relative_rank</th>\n",
       "      <th>faculty/students</th>\n",
       "      <th>international/students</th>\n",
       "    </tr>\n",
       "  </thead>\n",
       "  <tbody>\n",
       "    <tr>\n",
       "      <th>relative_rank</th>\n",
       "      <td>1.000000</td>\n",
       "      <td>-0.420908</td>\n",
       "      <td>-0.369209</td>\n",
       "    </tr>\n",
       "    <tr>\n",
       "      <th>faculty/students</th>\n",
       "      <td>-0.420908</td>\n",
       "      <td>1.000000</td>\n",
       "      <td>0.128050</td>\n",
       "    </tr>\n",
       "    <tr>\n",
       "      <th>international/students</th>\n",
       "      <td>-0.369209</td>\n",
       "      <td>0.128050</td>\n",
       "      <td>1.000000</td>\n",
       "    </tr>\n",
       "  </tbody>\n",
       "</table>\n",
       "</div>"
      ],
      "text/plain": [
       "                        relative_rank  faculty/students  \\\n",
       "relative_rank                1.000000         -0.420908   \n",
       "faculty/students            -0.420908          1.000000   \n",
       "international/students      -0.369209          0.128050   \n",
       "\n",
       "                        international/students  \n",
       "relative_rank                        -0.369209  \n",
       "faculty/students                      0.128050  \n",
       "international/students                1.000000  "
      ]
     },
     "execution_count": 57,
     "metadata": {},
     "output_type": "execute_result"
    }
   ],
   "source": [
    "top_inner_corr = top_frame[['relative_rank', 'faculty/students', 'international/students']]\n",
    "top_inner_corr = top_inner_corr.corr()\n",
    "top_inner_corr"
   ]
  },
  {
   "cell_type": "markdown",
   "metadata": {},
   "source": [
    "Concerning the Times Higher Education ranking, we notice different trends. Both ratios are very poorly correlated with the relative ranking. Moreover, we can assume that they are not correlated at all when looking at the numbers."
   ]
  },
  {
   "cell_type": "code",
   "execution_count": 58,
   "metadata": {
    "scrolled": true
   },
   "outputs": [
    {
     "data": {
      "text/html": [
       "<div>\n",
       "<style>\n",
       "    .dataframe thead tr:only-child th {\n",
       "        text-align: right;\n",
       "    }\n",
       "\n",
       "    .dataframe thead th {\n",
       "        text-align: left;\n",
       "    }\n",
       "\n",
       "    .dataframe tbody tr th {\n",
       "        vertical-align: top;\n",
       "    }\n",
       "</style>\n",
       "<table border=\"1\" class=\"dataframe\">\n",
       "  <thead>\n",
       "    <tr style=\"text-align: right;\">\n",
       "      <th></th>\n",
       "      <th>relative_rank</th>\n",
       "      <th>faculty/students</th>\n",
       "      <th>international/students</th>\n",
       "    </tr>\n",
       "  </thead>\n",
       "  <tbody>\n",
       "    <tr>\n",
       "      <th>relative_rank</th>\n",
       "      <td>1.000000</td>\n",
       "      <td>-0.152612</td>\n",
       "      <td>-0.214197</td>\n",
       "    </tr>\n",
       "    <tr>\n",
       "      <th>faculty/students</th>\n",
       "      <td>-0.152612</td>\n",
       "      <td>1.000000</td>\n",
       "      <td>0.002730</td>\n",
       "    </tr>\n",
       "    <tr>\n",
       "      <th>international/students</th>\n",
       "      <td>-0.214197</td>\n",
       "      <td>0.002730</td>\n",
       "      <td>1.000000</td>\n",
       "    </tr>\n",
       "  </tbody>\n",
       "</table>\n",
       "</div>"
      ],
      "text/plain": [
       "                        relative_rank  faculty/students  \\\n",
       "relative_rank                1.000000         -0.152612   \n",
       "faculty/students            -0.152612          1.000000   \n",
       "international/students      -0.214197          0.002730   \n",
       "\n",
       "                        international/students  \n",
       "relative_rank                        -0.214197  \n",
       "faculty/students                      0.002730  \n",
       "international/students                1.000000  "
      ]
     },
     "execution_count": 58,
     "metadata": {},
     "output_type": "execute_result"
    }
   ],
   "source": [
    "times_inner_corr = times_frame[['relative_rank', 'faculty/students', 'international/students']]\n",
    "times_inner_corr = times_inner_corr.corr()\n",
    "times_inner_corr"
   ]
  },
  {
   "cell_type": "markdown",
   "metadata": {},
   "source": [
    "When comparing both rankings independently, we can see that for the Times Higher Education ranking the number of faculty members per student and on the percentage of international students of a university is less correlated with the ranking. This could be because Topuniversities takes faculty/student ratio more into consideration for their ranking. We can not be sure of this however, correlation != causation."
   ]
  },
  {
   "cell_type": "markdown",
   "metadata": {},
   "source": [
    "### Cross-correlation"
   ]
  },
  {
   "cell_type": "markdown",
   "metadata": {},
   "source": [
    "The correlation matrix offers very clear insights on the links between both rankings:\n",
    "- The relative ranks of both rankings are strongly correlated (but far from perfectly aligned).\n",
    "- The ratios are also strongly correlated but the fact that they are not equal to 1 signals discrepancies between both rankings (the provided numbers are clearly different)\n",
    "\n",
    "\n",
    "When looking more closely, we can find even more insights on the individual correlation of rankings :\n",
    "- The correlation between the TopUniversities ranking and both ratios is smaller when looking at the universities present in both ranking.  \n",
    "- On the other hand, the Times Higher Education ranking is more highly correlated to the ratios in the Topuniversities ranking. This does not necessarily mean anything. Correlation != causation \n",
    "\n",
    "From these numbers, we can tell that the underlying data used to make the two rankings must be different, as even the same variables -such as the ratios- differ from one to the other. This could mean that the rankings not only differ because of different evaluation practices between the two schools, but also because the data used is different."
   ]
  },
  {
   "cell_type": "code",
   "execution_count": 59,
   "metadata": {
    "scrolled": false
   },
   "outputs": [
    {
     "data": {
      "text/html": [
       "<div>\n",
       "<style>\n",
       "    .dataframe thead tr:only-child th {\n",
       "        text-align: right;\n",
       "    }\n",
       "\n",
       "    .dataframe thead th {\n",
       "        text-align: left;\n",
       "    }\n",
       "\n",
       "    .dataframe tbody tr th {\n",
       "        vertical-align: top;\n",
       "    }\n",
       "</style>\n",
       "<table border=\"1\" class=\"dataframe\">\n",
       "  <thead>\n",
       "    <tr style=\"text-align: right;\">\n",
       "      <th></th>\n",
       "      <th>times rank</th>\n",
       "      <th>times: faculty/students</th>\n",
       "      <th>times: international/students</th>\n",
       "      <th>topunis rank</th>\n",
       "      <th>topunis: faculty/students</th>\n",
       "      <th>topunis: international/students</th>\n",
       "    </tr>\n",
       "  </thead>\n",
       "  <tbody>\n",
       "    <tr>\n",
       "      <th>times rank</th>\n",
       "      <td>1.000000</td>\n",
       "      <td>-0.114822</td>\n",
       "      <td>-0.198244</td>\n",
       "      <td>0.691146</td>\n",
       "      <td>-0.304260</td>\n",
       "      <td>-0.220114</td>\n",
       "    </tr>\n",
       "    <tr>\n",
       "      <th>times: faculty/students</th>\n",
       "      <td>-0.114822</td>\n",
       "      <td>1.000000</td>\n",
       "      <td>-0.028020</td>\n",
       "      <td>-0.219573</td>\n",
       "      <td>0.696184</td>\n",
       "      <td>-0.067699</td>\n",
       "    </tr>\n",
       "    <tr>\n",
       "      <th>times: international/students</th>\n",
       "      <td>-0.198244</td>\n",
       "      <td>-0.028020</td>\n",
       "      <td>1.000000</td>\n",
       "      <td>-0.307103</td>\n",
       "      <td>0.134330</td>\n",
       "      <td>0.954535</td>\n",
       "    </tr>\n",
       "    <tr>\n",
       "      <th>topunis rank</th>\n",
       "      <td>0.691146</td>\n",
       "      <td>-0.219573</td>\n",
       "      <td>-0.307103</td>\n",
       "      <td>1.000000</td>\n",
       "      <td>-0.403347</td>\n",
       "      <td>-0.318160</td>\n",
       "    </tr>\n",
       "    <tr>\n",
       "      <th>topunis: faculty/students</th>\n",
       "      <td>-0.304260</td>\n",
       "      <td>0.696184</td>\n",
       "      <td>0.134330</td>\n",
       "      <td>-0.403347</td>\n",
       "      <td>1.000000</td>\n",
       "      <td>0.112488</td>\n",
       "    </tr>\n",
       "    <tr>\n",
       "      <th>topunis: international/students</th>\n",
       "      <td>-0.220114</td>\n",
       "      <td>-0.067699</td>\n",
       "      <td>0.954535</td>\n",
       "      <td>-0.318160</td>\n",
       "      <td>0.112488</td>\n",
       "      <td>1.000000</td>\n",
       "    </tr>\n",
       "  </tbody>\n",
       "</table>\n",
       "</div>"
      ],
      "text/plain": [
       "                                 times rank  times: faculty/students  \\\n",
       "times rank                         1.000000                -0.114822   \n",
       "times: faculty/students           -0.114822                 1.000000   \n",
       "times: international/students     -0.198244                -0.028020   \n",
       "topunis rank                       0.691146                -0.219573   \n",
       "topunis: faculty/students         -0.304260                 0.696184   \n",
       "topunis: international/students   -0.220114                -0.067699   \n",
       "\n",
       "                                 times: international/students  topunis rank  \\\n",
       "times rank                                           -0.198244      0.691146   \n",
       "times: faculty/students                              -0.028020     -0.219573   \n",
       "times: international/students                         1.000000     -0.307103   \n",
       "topunis rank                                         -0.307103      1.000000   \n",
       "topunis: faculty/students                             0.134330     -0.403347   \n",
       "topunis: international/students                       0.954535     -0.318160   \n",
       "\n",
       "                                 topunis: faculty/students  \\\n",
       "times rank                                       -0.304260   \n",
       "times: faculty/students                           0.696184   \n",
       "times: international/students                     0.134330   \n",
       "topunis rank                                     -0.403347   \n",
       "topunis: faculty/students                         1.000000   \n",
       "topunis: international/students                   0.112488   \n",
       "\n",
       "                                 topunis: international/students  \n",
       "times rank                                             -0.220114  \n",
       "times: faculty/students                                -0.067699  \n",
       "times: international/students                           0.954535  \n",
       "topunis rank                                           -0.318160  \n",
       "topunis: faculty/students                               0.112488  \n",
       "topunis: international/students                         1.000000  "
      ]
     },
     "execution_count": 59,
     "metadata": {},
     "output_type": "execute_result"
    }
   ],
   "source": [
    "cross_corr = merged_frame[['times rank', 'times: faculty/students', 'times: international/students', \n",
    "                                  'topunis rank', 'topunis: faculty/students', 'topunis: international/students']]\n",
    "cross_corr = cross_corr.corr()\n",
    "cross_corr"
   ]
  },
  {
   "cell_type": "markdown",
   "metadata": {},
   "source": [
    "To quickly get a feel of the results, we decided to visualize them using a simple diagonal correlation matrix."
   ]
  },
  {
   "cell_type": "code",
   "execution_count": 60,
   "metadata": {},
   "outputs": [
    {
     "data": {
      "image/png": "[encoded data removed]",
      "text/plain": [
       "<matplotlib.figure.Figure at 0x10f3b7278>"
      ]
     },
     "metadata": {},
     "output_type": "display_data"
    }
   ],
   "source": [
    "#Keep only bottom triangle\n",
    "mask = np.zeros_like(cross_corr, dtype=np.bool)\n",
    "mask[np.triu_indices_from(mask)] = True\n",
    "\n",
    "# Set up the matplotlib figure\n",
    "f, ax = plt.subplots(figsize=(11, 9))\n",
    "\n",
    "# Generate a custom diverging colormap\n",
    "cmap = sns.diverging_palette(220, 10, as_cmap=True)\n",
    "\n",
    "# Draw the heatmap with the mask and correct aspect ratio\n",
    "sns.heatmap(cross_corr, mask=mask, cmap=cmap, vmax=.3, center=0,\n",
    "    square=True, linewidths=.5, cbar_kws={\"shrink\": .5})\n",
    "\n",
    "plt.show()"
   ]
  },
  {
   "cell_type": "markdown",
   "metadata": {},
   "source": [
    "We can see at one glance that the variables in the times and in the topuniversities ranking are correlated. "
   ]
  },
  {
   "cell_type": "markdown",
   "metadata": {},
   "source": [
    "## Exercise 5 : Best Universities"
   ]
  },
  {
   "cell_type": "markdown",
   "metadata": {},
   "source": [
    "To get the best university considering both rankings, we will create a new dataframe using the merged one using the name (both of them as we have NaB cases for universities that are only in one or the other frame) and both rankings."
   ]
  },
  {
   "cell_type": "code",
   "execution_count": 61,
   "metadata": {
    "collapsed": true
   },
   "outputs": [],
   "source": [
    "best_uni = merged_frame[['aliases', 'times rank', 'topunis rank']]"
   ]
  },
  {
   "cell_type": "markdown",
   "metadata": {},
   "source": [
    "Now, we need to add two columns. The first one will be a mean of both ranks, and the second the \"distance\" between both ranks. This is because if we have a mean of 3.5, it could be because the ranks are 5 and 2, but also because the rank could be 4 and 3. Thus, the university sould be considered \"better\" (as it is more constistenly good) if the distance between both ranks is smaller.\n",
    "\n",
    "Note also that if we consider all universities, even the ones not in both sets, we will have NaN values in the frame. This is okay, as we will consider the university to not be \"good enough\", and thus not in the best. Also, the distance between the two rankings would be infinite and thus NaN is the most correct value."
   ]
  },
  {
   "cell_type": "code",
   "execution_count": 62,
   "metadata": {
    "collapsed": true
   },
   "outputs": [],
   "source": [
    "def calc_mean(c1, c2):\n",
    "    return (c1 + c2) / 2\n",
    "    \n",
    "def calc_distance(c1, c2):\n",
    "    return abs(c1 - c2)"
   ]
  },
  {
   "cell_type": "code",
   "execution_count": 66,
   "metadata": {},
   "outputs": [
    {
     "data": {
      "text/html": [
       "<div>\n",
       "<style>\n",
       "    .dataframe thead tr:only-child th {\n",
       "        text-align: right;\n",
       "    }\n",
       "\n",
       "    .dataframe thead th {\n",
       "        text-align: left;\n",
       "    }\n",
       "\n",
       "    .dataframe tbody tr th {\n",
       "        vertical-align: top;\n",
       "    }\n",
       "</style>\n",
       "<table border=\"1\" class=\"dataframe\">\n",
       "  <thead>\n",
       "    <tr style=\"text-align: right;\">\n",
       "      <th></th>\n",
       "      <th>aliases</th>\n",
       "      <th>times rank</th>\n",
       "      <th>rank_mean</th>\n",
       "      <th>topunis rank</th>\n",
       "      <th>rank_dist</th>\n",
       "    </tr>\n",
       "  </thead>\n",
       "  <tbody>\n",
       "    <tr>\n",
       "      <th>0</th>\n",
       "      <td>Stanford University</td>\n",
       "      <td>3</td>\n",
       "      <td>2.5</td>\n",
       "      <td>2</td>\n",
       "      <td>1</td>\n",
       "    </tr>\n",
       "    <tr>\n",
       "      <th>1</th>\n",
       "      <td>Massachusetts Institute of Technology</td>\n",
       "      <td>5</td>\n",
       "      <td>3.0</td>\n",
       "      <td>1</td>\n",
       "      <td>4</td>\n",
       "    </tr>\n",
       "    <tr>\n",
       "      <th>2</th>\n",
       "      <td>California Institute of Technology caltech</td>\n",
       "      <td>3</td>\n",
       "      <td>3.5</td>\n",
       "      <td>4</td>\n",
       "      <td>1</td>\n",
       "    </tr>\n",
       "    <tr>\n",
       "      <th>3</th>\n",
       "      <td>University of Cambridge</td>\n",
       "      <td>2</td>\n",
       "      <td>3.5</td>\n",
       "      <td>5</td>\n",
       "      <td>3</td>\n",
       "    </tr>\n",
       "    <tr>\n",
       "      <th>4</th>\n",
       "      <td>University of Oxford</td>\n",
       "      <td>1</td>\n",
       "      <td>3.5</td>\n",
       "      <td>6</td>\n",
       "      <td>5</td>\n",
       "    </tr>\n",
       "    <tr>\n",
       "      <th>5</th>\n",
       "      <td>Harvard University</td>\n",
       "      <td>6</td>\n",
       "      <td>4.5</td>\n",
       "      <td>3</td>\n",
       "      <td>3</td>\n",
       "    </tr>\n",
       "    <tr>\n",
       "      <th>6</th>\n",
       "      <td>Imperial College London</td>\n",
       "      <td>8</td>\n",
       "      <td>8.0</td>\n",
       "      <td>8</td>\n",
       "      <td>0</td>\n",
       "    </tr>\n",
       "    <tr>\n",
       "      <th>7</th>\n",
       "      <td>University of Chicago</td>\n",
       "      <td>9</td>\n",
       "      <td>9.0</td>\n",
       "      <td>9</td>\n",
       "      <td>0</td>\n",
       "    </tr>\n",
       "    <tr>\n",
       "      <th>8</th>\n",
       "      <td>ETH Zurich – Swiss Federal Institute of Techno...</td>\n",
       "      <td>10</td>\n",
       "      <td>10.0</td>\n",
       "      <td>10</td>\n",
       "      <td>0</td>\n",
       "    </tr>\n",
       "    <tr>\n",
       "      <th>9</th>\n",
       "      <td>Princeton University</td>\n",
       "      <td>7</td>\n",
       "      <td>10.0</td>\n",
       "      <td>13</td>\n",
       "      <td>6</td>\n",
       "    </tr>\n",
       "    <tr>\n",
       "      <th>10</th>\n",
       "      <td>University College London ucl</td>\n",
       "      <td>16</td>\n",
       "      <td>11.5</td>\n",
       "      <td>7</td>\n",
       "      <td>9</td>\n",
       "    </tr>\n",
       "    <tr>\n",
       "      <th>11</th>\n",
       "      <td>Yale University</td>\n",
       "      <td>12</td>\n",
       "      <td>14.0</td>\n",
       "      <td>16</td>\n",
       "      <td>4</td>\n",
       "    </tr>\n",
       "    <tr>\n",
       "      <th>12</th>\n",
       "      <td>University of Pennsylvania</td>\n",
       "      <td>10</td>\n",
       "      <td>14.5</td>\n",
       "      <td>19</td>\n",
       "      <td>9</td>\n",
       "    </tr>\n",
       "    <tr>\n",
       "      <th>13</th>\n",
       "      <td>Johns Hopkins University</td>\n",
       "      <td>13</td>\n",
       "      <td>15.0</td>\n",
       "      <td>17</td>\n",
       "      <td>4</td>\n",
       "    </tr>\n",
       "    <tr>\n",
       "      <th>14</th>\n",
       "      <td>Columbia University</td>\n",
       "      <td>14</td>\n",
       "      <td>16.0</td>\n",
       "      <td>18</td>\n",
       "      <td>4</td>\n",
       "    </tr>\n",
       "    <tr>\n",
       "      <th>15</th>\n",
       "      <td>Cornell University</td>\n",
       "      <td>19</td>\n",
       "      <td>16.5</td>\n",
       "      <td>14</td>\n",
       "      <td>5</td>\n",
       "    </tr>\n",
       "    <tr>\n",
       "      <th>16</th>\n",
       "      <td>National University of Singapore nus</td>\n",
       "      <td>22</td>\n",
       "      <td>18.5</td>\n",
       "      <td>15</td>\n",
       "      <td>7</td>\n",
       "    </tr>\n",
       "    <tr>\n",
       "      <th>17</th>\n",
       "      <td>Duke University</td>\n",
       "      <td>17</td>\n",
       "      <td>19.0</td>\n",
       "      <td>21</td>\n",
       "      <td>4</td>\n",
       "    </tr>\n",
       "    <tr>\n",
       "      <th>18</th>\n",
       "      <td>University of Michigan</td>\n",
       "      <td>21</td>\n",
       "      <td>21.0</td>\n",
       "      <td>21</td>\n",
       "      <td>0</td>\n",
       "    </tr>\n",
       "    <tr>\n",
       "      <th>19</th>\n",
       "      <td>University of California, Berkeley</td>\n",
       "      <td>18</td>\n",
       "      <td>22.5</td>\n",
       "      <td>27</td>\n",
       "      <td>9</td>\n",
       "    </tr>\n",
       "    <tr>\n",
       "      <th>20</th>\n",
       "      <td>Northwestern University</td>\n",
       "      <td>20</td>\n",
       "      <td>24.0</td>\n",
       "      <td>28</td>\n",
       "      <td>8</td>\n",
       "    </tr>\n",
       "    <tr>\n",
       "      <th>21</th>\n",
       "      <td>University of California, Los Angeles</td>\n",
       "      <td>15</td>\n",
       "      <td>24.0</td>\n",
       "      <td>33</td>\n",
       "      <td>18</td>\n",
       "    </tr>\n",
       "    <tr>\n",
       "      <th>22</th>\n",
       "      <td>University of Edinburgh</td>\n",
       "      <td>27</td>\n",
       "      <td>25.0</td>\n",
       "      <td>23</td>\n",
       "      <td>4</td>\n",
       "    </tr>\n",
       "    <tr>\n",
       "      <th>23</th>\n",
       "      <td>École Polytechnique Fédérale de Lausanne</td>\n",
       "      <td>38</td>\n",
       "      <td>25.0</td>\n",
       "      <td>12</td>\n",
       "      <td>26</td>\n",
       "    </tr>\n",
       "    <tr>\n",
       "      <th>24</th>\n",
       "      <td>University of Toronto</td>\n",
       "      <td>22</td>\n",
       "      <td>26.5</td>\n",
       "      <td>31</td>\n",
       "      <td>9</td>\n",
       "    </tr>\n",
       "    <tr>\n",
       "      <th>25</th>\n",
       "      <td>Tsinghua University Qinghua University Tsing h...</td>\n",
       "      <td>30</td>\n",
       "      <td>27.5</td>\n",
       "      <td>25</td>\n",
       "      <td>5</td>\n",
       "    </tr>\n",
       "    <tr>\n",
       "      <th>26</th>\n",
       "      <td>King’s College London</td>\n",
       "      <td>36</td>\n",
       "      <td>29.5</td>\n",
       "      <td>23</td>\n",
       "      <td>13</td>\n",
       "    </tr>\n",
       "    <tr>\n",
       "      <th>27</th>\n",
       "      <td>London School of Economics and Political Science</td>\n",
       "      <td>25</td>\n",
       "      <td>30.0</td>\n",
       "      <td>35</td>\n",
       "      <td>10</td>\n",
       "    </tr>\n",
       "    <tr>\n",
       "      <th>28</th>\n",
       "      <td>Nanyang Technological University, Singapore  N...</td>\n",
       "      <td>52</td>\n",
       "      <td>31.5</td>\n",
       "      <td>11</td>\n",
       "      <td>41</td>\n",
       "    </tr>\n",
       "    <tr>\n",
       "      <th>29</th>\n",
       "      <td>Peking University</td>\n",
       "      <td>27</td>\n",
       "      <td>32.5</td>\n",
       "      <td>38</td>\n",
       "      <td>11</td>\n",
       "    </tr>\n",
       "  </tbody>\n",
       "</table>\n",
       "</div>"
      ],
      "text/plain": [
       "                                              aliases  times rank  rank_mean  \\\n",
       "0                                 Stanford University           3        2.5   \n",
       "1               Massachusetts Institute of Technology           5        3.0   \n",
       "2          California Institute of Technology caltech           3        3.5   \n",
       "3                             University of Cambridge           2        3.5   \n",
       "4                                University of Oxford           1        3.5   \n",
       "5                                  Harvard University           6        4.5   \n",
       "6                             Imperial College London           8        8.0   \n",
       "7                               University of Chicago           9        9.0   \n",
       "8   ETH Zurich – Swiss Federal Institute of Techno...          10       10.0   \n",
       "9                                Princeton University           7       10.0   \n",
       "10                      University College London ucl          16       11.5   \n",
       "11                                    Yale University          12       14.0   \n",
       "12                         University of Pennsylvania          10       14.5   \n",
       "13                           Johns Hopkins University          13       15.0   \n",
       "14                                Columbia University          14       16.0   \n",
       "15                                 Cornell University          19       16.5   \n",
       "16               National University of Singapore nus          22       18.5   \n",
       "17                                    Duke University          17       19.0   \n",
       "18                             University of Michigan          21       21.0   \n",
       "19                 University of California, Berkeley          18       22.5   \n",
       "20                            Northwestern University          20       24.0   \n",
       "21              University of California, Los Angeles          15       24.0   \n",
       "22                            University of Edinburgh          27       25.0   \n",
       "23           École Polytechnique Fédérale de Lausanne          38       25.0   \n",
       "24                              University of Toronto          22       26.5   \n",
       "25  Tsinghua University Qinghua University Tsing h...          30       27.5   \n",
       "26                              King’s College London          36       29.5   \n",
       "27   London School of Economics and Political Science          25       30.0   \n",
       "28  Nanyang Technological University, Singapore  N...          52       31.5   \n",
       "29                                  Peking University          27       32.5   \n",
       "\n",
       "    topunis rank  rank_dist  \n",
       "0              2          1  \n",
       "1              1          4  \n",
       "2              4          1  \n",
       "3              5          3  \n",
       "4              6          5  \n",
       "5              3          3  \n",
       "6              8          0  \n",
       "7              9          0  \n",
       "8             10          0  \n",
       "9             13          6  \n",
       "10             7          9  \n",
       "11            16          4  \n",
       "12            19          9  \n",
       "13            17          4  \n",
       "14            18          4  \n",
       "15            14          5  \n",
       "16            15          7  \n",
       "17            21          4  \n",
       "18            21          0  \n",
       "19            27          9  \n",
       "20            28          8  \n",
       "21            33         18  \n",
       "22            23          4  \n",
       "23            12         26  \n",
       "24            31          9  \n",
       "25            25          5  \n",
       "26            23         13  \n",
       "27            35         10  \n",
       "28            11         41  \n",
       "29            38         11  "
      ]
     },
     "execution_count": 66,
     "metadata": {},
     "output_type": "execute_result"
    }
   ],
   "source": [
    "best_uni['rank_mean'] = calc_mean(best_uni.loc[:,'times rank'], best_uni.loc[:,'topunis rank'])\n",
    "best_uni['rank_dist'] =  calc_distance(best_uni['times rank'], best_uni['topunis rank'])\n",
    "best_uni.sort_values(['rank_mean', 'rank_dist'], ascending=[True, True]).reset_index(drop=True).head(30)"
   ]
  },
  {
   "cell_type": "markdown",
   "metadata": {},
   "source": [
    "Thus, as we can see, the best university considering both rankings would be Stanford University.\n",
    "\n",
    "Note that the two universities that were first on one of the lists are still in the top 5. Oxford University is in fifth place while Massachusetts Institute of Technology (MIT) is in second. This is true for all of the universities that are in the top 10 (except princeton) as they were in the top 10 of both lists."
   ]
  },
  {
   "cell_type": "markdown",
   "metadata": {},
   "source": [
    "### Observing the change in rankings"
   ]
  },
  {
   "cell_type": "markdown",
   "metadata": {},
   "source": [
    "Here we can observe the change in ranking for the first 40 universities. Left we have the first ranking, right we have the second, and in the middle, the combined ranking.\n",
    "\n",
    "The graph quickly shows us how the rankings for each university change. We can observe that for top ranked universities, the ranking doesn't change much, where as for lower ranked universities the ranking varies much more between the two.\n",
    "\n",
    "We can also see that our 'mean' ranking seems to be working. The combined ranking cuts the straight line going from the times ranking for a given university to the top ranking."
   ]
  },
  {
   "cell_type": "code",
   "execution_count": 64,
   "metadata": {},
   "outputs": [
    {
     "data": {
      "image/png": "[encoded data removed]",
      "text/plain": [
       "<matplotlib.figure.Figure at 0x1137554a8>"
      ]
     },
     "metadata": {},
     "output_type": "display_data"
    }
   ],
   "source": [
    "best_uni = best_uni[['aliases', 'times rank', 'rank_mean', 'topunis rank']]\n",
    "best_uni_10 = best_uni.head(40)\n",
    "pd.plotting.parallel_coordinates(best_uni_10, 'aliases', colormap=plt.get_cmap(\"cool\"))\n",
    "plt.gca().legend_.remove()\n",
    "plt.show()"
   ]
  },
  {
   "cell_type": "markdown",
   "metadata": {},
   "source": [
    "Here we have the same plot but for all rankings."
   ]
  },
  {
   "cell_type": "code",
   "execution_count": 65,
   "metadata": {},
   "outputs": [
    {
     "data": {
      "image/png": "[encoded data removed]",
      "text/plain": [
       "<matplotlib.figure.Figure at 0x112f97860>"
      ]
     },
     "metadata": {},
     "output_type": "display_data"
    }
   ],
   "source": [
    "best_uni = best_uni[['aliases', 'times rank', 'rank_mean', 'topunis rank']]\n",
    "pd.plotting.parallel_coordinates(best_uni, 'aliases', colormap=plt.get_cmap('coolwarm'))\n",
    "plt.gca().legend_.remove()\n",
    "plt.show()"
   ]
  }
 ],
 "metadata": {
  "anaconda-cloud": {},
  "kernelspec": {
   "display_name": "Python [default]",
   "language": "python",
   "name": "python3"
  },
  "language_info": {
   "codemirror_mode": {
    "name": "ipython",
    "version": 3
   },
   "file_extension": ".py",
   "mimetype": "text/x-python",
   "name": "python",
   "nbconvert_exporter": "python",
   "pygments_lexer": "ipython3",
   "version": "3.6.1"
  }
 },
 "nbformat": 4,
 "nbformat_minor": 1
}
