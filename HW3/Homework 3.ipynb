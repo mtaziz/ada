{
 "cells": [
  {
   "cell_type": "markdown",
   "metadata": {},
   "source": [
    "# Homework 3\n",
    "\n",
    "We recomend you access this notebook via Nbviewer, using this <a src=''>#insert link</a>\n",
    "We saved all maps in html format, in case Nbviewer doesn't work for you.\n",
    "\n",
    "We first import the needed libraries and set the elements we need for the rest of the Homework."
   ]
  },
  {
   "cell_type": "code",
   "execution_count": null,
   "metadata": {
    "collapsed": true
   },
   "outputs": [],
   "source": [
    "# Used to look for the saved data\n",
    "IMAGE_FOLDER = 'Data/Images/'\n",
    "DATA_EUROPE = 'Data/une_rt_a.xls'\n",
    "DATA_SWITZERLAND = 'Data/chomage.xlsx'\n",
    "#DATA_SWITZERLAND_BY_AGE = 'Data/chomage_age.xlsx'\n",
    "#DATA_SWITZERLAND_BY_NATIONALITY = 'Data/chomage_nationalite.xlsx'\n",
    "DATA_SWITZERLAND_BY_NATIONALITY = 'Data/chomage_etrangers.xlsx'\n",
    "DATA_SWITZERLAND_BY_AGE = 'Data/chomage_age_nat_2.xlsx'"
   ]
  },
  {
   "cell_type": "code",
   "execution_count": null,
   "metadata": {
    "collapsed": true
   },
   "outputs": [],
   "source": [
    "swiss_geo_path = r'topojson/ch-cantons.topojson.json'\n",
    "europe_geo_path = r'topojson/europe.topojson.json'"
   ]
  },
  {
   "cell_type": "code",
   "execution_count": null,
   "metadata": {
    "collapsed": true
   },
   "outputs": [],
   "source": [
    "# Importing libraries\n",
    "import os #might not be useful\n",
    "import json #might not be useful\n",
    "import folium\n",
    "import pandas as pd\n",
    "import pickle as pkl\n",
    "import seaborn as sns #might not be useful\n",
    "from IPython.display import Image #allows showing images\n",
    "from IPython.display import IFrame #see maps in github\n",
    "import matplotlib.pyplot as plt\n",
    "%matplotlib inline"
   ]
  },
  {
   "cell_type": "markdown",
   "metadata": {},
   "source": [
    "## Unemployment in Europe"
   ]
  },
  {
   "cell_type": "markdown",
   "metadata": {},
   "source": [
    "The very first thing we have to think about is what data we want to use. Eurostat has a lot of types of information, even more so, has information per country, but also per province/state of some countries (known as NUTS 2 regions). Thus, we have to determine what kind of information - and how much - we want to show.\n",
    "\n",
    "Thus, we decide to take the **yearly** average for the unemployment rates and not the monthly ones, thus getting data from 2016 and not from 2017. For the monthly rates, we could have information for the beginning of this year, but we decide against it, as will not give an accurate picture due to seasonal changes in unemployment (think of tourism industy etc.). Choosing the yearly average allows us to not have to deal with any fluctuation due to seasonal workers that would not be seen as unemployed for a time.\n",
    "\n",
    "Secondly, seeing as the idea is to compare the unemployment rate of Europe to that of Switzerland, it would be more appropriate to take the data by country rather than that per NUTS 2 region, even more so seeing as Switzerland is cut in several in that dataset. So, to be able to compare it to Switzerland as a whole, we should have Switzerland as only one entity.\n",
    "\n",
    "Therefore, we also need data that includes Switzerland, as it is not always the case for all files about unemployment in Europe. Thus, we had to dig a bit deeper and find data on unemployment according to age, sex and nationality (which contains rates for Switzerland, compared to data in the main indicators), which restricts it to people of age 15 to 74. This is actually what we want as those are the \"adults\" that could be potentially working already, and people that are younger or older should not count in our rates, as they aren't part of the working force.\n",
    "\n",
    "Note that we also choose to delete all the columns we do not need (years other than 2016) and the data for the UE as a whole, which were the 4 first rows, on the website –before downloading the data."
   ]
  },
  {
   "cell_type": "code",
   "execution_count": null,
   "metadata": {},
   "outputs": [],
   "source": [
    "Image(IMAGE_FOLDER + 'euro01.png')"
   ]
  },
  {
   "cell_type": "markdown",
   "metadata": {},
   "source": [
    "We also had the option to download the data in several different types of files, like HTML, CSV, TSV or XLS. We choose to download the data in a XLS format."
   ]
  },
  {
   "cell_type": "code",
   "execution_count": null,
   "metadata": {},
   "outputs": [],
   "source": [
    "Image(IMAGE_FOLDER + 'euro02.png')"
   ]
  },
  {
   "cell_type": "code",
   "execution_count": null,
   "metadata": {
    "collapsed": true
   },
   "outputs": [],
   "source": [
    "europe_unemployed = pd.read_excel(DATA_EUROPE, header=10)"
   ]
  },
  {
   "cell_type": "code",
   "execution_count": null,
   "metadata": {},
   "outputs": [],
   "source": [
    "europe_unemployed.head()"
   ]
  },
  {
   "cell_type": "markdown",
   "metadata": {},
   "source": [
    "As we can see, we thus have the name in the country and the rate for 2016. The default column names are a bit confusing, so we will quickly change this."
   ]
  },
  {
   "cell_type": "code",
   "execution_count": null,
   "metadata": {
    "collapsed": true
   },
   "outputs": [],
   "source": [
    "europe_unemployed.columns = ['Country', 'Rate']"
   ]
  },
  {
   "cell_type": "markdown",
   "metadata": {},
   "source": [
    "We also need to change the names of two countries, as we need to have \"Germany\" and \"The former Yugoslav Republic of Macedonia\" instead of \"Germany (until 1990 former territory of the FRG)\" and \"Former Yugoslav Republic of Macedonia, the\"."
   ]
  },
  {
   "cell_type": "code",
   "execution_count": null,
   "metadata": {
    "collapsed": true
   },
   "outputs": [],
   "source": [
    "europe_unemployed = europe_unemployed.replace({\"Germany (until 1990 former territory of the FRG)\": \"Germany\",\n",
    "                     \"Former Yugoslav Republic of Macedonia, the\": \"The former Yugoslav Republic of Macedonia\"})"
   ]
  },
  {
   "cell_type": "code",
   "execution_count": null,
   "metadata": {},
   "outputs": [],
   "source": [
    "europe_unemployed.head()"
   ]
  },
  {
   "cell_type": "markdown",
   "metadata": {},
   "source": [
    "Now that this is done, we want to have a map of Europe with the given tiles already ready. As we all know, Switzerland is in the middle of Europe, so we're going to give the coordinates for the middle of Switzerland to have the map centered on.\n",
    "\n",
    "We also adapt the buckets, as to better be able to compare the other countries with Switzerland. We focus on countries that have a lower rate, similar rate (±.5), slightly higher rate and the much higher rates. The states shown in the darkest brown have a rate of +18%."
   ]
  },
  {
   "cell_type": "code",
   "execution_count": null,
   "metadata": {},
   "outputs": [],
   "source": [
    "central_swiss_coord = [46.484, 8.1336] \n",
    "m_europe = folium.Map(location=central_swiss_coord, zoom_start=4, tiles='cartodbpositron')\n",
    "m_europe.choropleth(open(europe_geo_path),\n",
    "             data=europe_unemployed,\n",
    "             threshold_scale=[3, 4.5, 5.5, 8, 13, 18],\n",
    "             columns=('Country', 'Rate'),\n",
    "             legend_name='Unemployment rate (%)',\n",
    "             fill_color='YlOrBr',\n",
    "             fill_opacity= 0.8,\n",
    "             key_on = 'feature.properties.NAME',\n",
    "             topojson='objects.europe')\n",
    "m_europe"
   ]
  },
  {
   "cell_type": "markdown",
   "metadata": {},
   "source": [
    "[link to map](Maps/Europe_map.html)"
   ]
  },
  {
   "cell_type": "markdown",
   "metadata": {},
   "source": [
    "As we can see, for the countries we have no data on, the color that was chosen as default is an eggshell white. It is thus easy to see that the countries we have no information about are those not in the UE or in Schengen (Russia, Belarus, Bosnia, ...)."
   ]
  },
  {
   "cell_type": "markdown",
   "metadata": {},
   "source": [
    "Here we can see that Switzerland farers a lot better than most of it's neighboring countries except for Germany (and the Czech Republic) which has a lower rate. Iceland seems to be pretty well off too. Switzerland also has the similar rates as the United Kingdom, Norway or Hungary.  \n",
    "\n",
    "Thus, in terms of unemployment, Switzerland is one of the copuntries with the lowest rate, but not the only one to fare so well.\n",
    "\n",
    "It is also important to note that, even with us changing the threshold, the colors are a little bit misleading because of the way that choropleth maps reduce the threshold to six numbers. Thus, we have any country with rating between 8 and 13 that have the same color, while also having the same color for countries between ratings 5 and 6, which is a much smaller step. This is justified as we want to compare Switzerland to other nations, and not compare all nations intependently."
   ]
  },
  {
   "cell_type": "markdown",
   "metadata": {},
   "source": [
    "## Unemployment in Switzerland"
   ]
  },
  {
   "cell_type": "markdown",
   "metadata": {},
   "source": [
    "In this exercise, we need several elements from the online data provided on the [amstat website](https://www.amstat.ch/v2/index.jsp). Each information we retrieve should be provided for every Swiss canton. To explain our methodology, we will include a print screen of each step we performed. As these steps are self-explanatory, we will not include any furter explanation on our methodology (however, the use of the retrieved data will be tackled in each question)."
   ]
  },
  {
   "cell_type": "code",
   "execution_count": null,
   "metadata": {},
   "outputs": [],
   "source": [
    "Image(IMAGE_FOLDER + 'amstat01.png')"
   ]
  },
  {
   "cell_type": "code",
   "execution_count": null,
   "metadata": {},
   "outputs": [],
   "source": [
    "Image(IMAGE_FOLDER + 'amstat02.png')"
   ]
  },
  {
   "cell_type": "code",
   "execution_count": null,
   "metadata": {},
   "outputs": [],
   "source": [
    "Image(IMAGE_FOLDER + 'amstat03.png', retina = True)"
   ]
  },
  {
   "cell_type": "code",
   "execution_count": null,
   "metadata": {},
   "outputs": [],
   "source": [
    "Image(IMAGE_FOLDER + 'amstat04.png', retina = True)"
   ]
  },
  {
   "cell_type": "markdown",
   "metadata": {},
   "source": [
    "Once we retrieve our data using an XLS file, we still need to perform sanitizing steps before being able to draw our map:\n",
    "- Deleting useless columns (and rows)\n",
    "- Getting rid of the Multiindex\n",
    "- Mapping each canton to its code (vital to draw our map)"
   ]
  },
  {
   "cell_type": "code",
   "execution_count": null,
   "metadata": {
    "collapsed": true
   },
   "outputs": [],
   "source": [
    "swiss_unemployment= pd.read_excel(DATA_SWITZERLAND, header=[0,1])\n",
    "del swiss_unemployment['Mois'] #Only NaN values\n",
    "del swiss_unemployment['Total'] #Same as 'Septembre 2017' as we only choose one month\n",
    "swiss_unemployment.dropna(inplace=True) #We only need the values of each canton, not nationally"
   ]
  },
  {
   "cell_type": "code",
   "execution_count": null,
   "metadata": {
    "scrolled": true
   },
   "outputs": [],
   "source": [
    "swiss_unemployment.columns = [c[-1] for c in swiss_unemployment.columns] #flatten structure\n",
    "swiss_unemployment.reset_index(inplace=True)\n",
    "swiss_unemployment.rename(columns={'Unnamed: 0_level_1':'Canton'}, inplace=True)\n",
    "swiss_unemployment.head()"
   ]
  },
  {
   "cell_type": "markdown",
   "metadata": {},
   "source": [
    "In this part, we use a special dictionary defined in order to map each canton to its code. You can look at the [mapping](mapping.ipynb) in order to get more information on how we did that. This information is saved to a pkl file we now use."
   ]
  },
  {
   "cell_type": "code",
   "execution_count": null,
   "metadata": {
    "scrolled": false
   },
   "outputs": [],
   "source": [
    "dico = pkl.load(open('Data/map_cantons.pkl', 'rb'))\n",
    "swiss_unemployment.insert(1, 'Code', swiss_unemployment['Canton'].map(dico))\n",
    "swiss_unemployment.head()"
   ]
  },
  {
   "cell_type": "markdown",
   "metadata": {},
   "source": [
    "In order to get meaningful results and to be able to compare both maps, we define a special scale that we can use on both maps. We choose to start with 0.2, the smallest value of unemployment in the 2nd map, and end with 4.2 and 5.2, the highest unemployment rates of each dataset we will study. The remaining scale becomes obvious to determine."
   ]
  },
  {
   "cell_type": "code",
   "execution_count": null,
   "metadata": {
    "collapsed": true
   },
   "outputs": [],
   "source": [
    "scale = [0.2, 1.2, 2.2, 3.2, 4.2, 5.2]"
   ]
  },
  {
   "cell_type": "markdown",
   "metadata": {
    "scrolled": true
   },
   "source": [
    "### Unemployement rate of each Swiss canton\n",
    "\n",
    "In the first question of Exercise 2, we simply plot the unemployment rate provided by the website (namely using the number of people looking for a job who either currently have a job or not)."
   ]
  },
  {
   "cell_type": "code",
   "execution_count": null,
   "metadata": {
    "scrolled": true
   },
   "outputs": [],
   "source": [
    "swiss_unemployment_map = folium.Map(location=[46.85, 8.23], zoom_start=8, tiles='cartodbpositron')\n",
    "swiss_unemployment_map.choropleth(open(swiss_geo_path), data=swiss_unemployment,\n",
    "             columns=['Code', 'Taux de chômage'],\n",
    "             key_on='feature.id',\n",
    "             topojson = 'objects.cantons',\n",
    "             threshold_scale = scale,\n",
    "             fill_color='BuPu', fill_opacity=0.7, line_opacity=0.2,\n",
    "             legend_name='Percentage of unemployment (%)')\n",
    "swiss_unemployment_map"
   ]
  },
  {
   "cell_type": "markdown",
   "metadata": {},
   "source": [
    "[link to map](Maps/swiss_unemployment_map.html)"
   ]
  },
  {
   "cell_type": "markdown",
   "metadata": {},
   "source": [
    "We can see very intereseting trends by looking at the map. We will not dwell on the (very apparent) Röstigraben, which we will tackle at the end of our homework. However, we can clearly see that the highest unemployment rates are found in urban french-speaking cantons (Geneva, Vaud, Neuchatel, Jura and Basel-City). We can also see a high rate in Zurich as it is a very urban city (leading to less employment)."
   ]
  },
  {
   "cell_type": "markdown",
   "metadata": {},
   "source": [
    "When looking at the cantons with the least unemployment (< 2.2%), we can see 2 clear trends explaining this : their economy is largely based on agriculture and industry and they have a very small population (only Lucerne and Thurgau have over 200K inhabitants)."
   ]
  },
  {
   "cell_type": "markdown",
   "metadata": {},
   "source": [
    "### Unemployement rate (of people without a job) of each Swiss canton\n",
    "\n",
    "In this question we will focus on the \"real\" unemployment rate of people who currently do not have a job (which seems more sound than looking at people who do have a job but are simply looking for a new one). However, to be able to do that, we first need to determine the actual unemployment rate."
   ]
  },
  {
   "cell_type": "markdown",
   "metadata": {},
   "source": [
    "When trying to compute the active population of each canton, we found results differing from those of the [Federal Statistical Office](https://www.bfs.admin.ch/bfs/en/home.html). Even though these numbers are not up to date, we decided to try another method to calculate the rate : we first calculate the rate of people without a job and multiply it by the total rate of unemployed people."
   ]
  },
  {
   "cell_type": "code",
   "execution_count": null,
   "metadata": {},
   "outputs": [],
   "source": [
    "real_swiss_unemployment = swiss_unemployment\n",
    "del real_swiss_unemployment['Demandeurs d\\'emploi non chômeurs']\n",
    "real_swiss_unemployment['Taux de chômage'] = (real_swiss_unemployment['Chômeurs inscrits']/ \n",
    "                real_swiss_unemployment['Demandeurs d\\'emploi'])*real_swiss_unemployment['Taux de chômage']\n",
    "real_swiss_unemployment.head()"
   ]
  },
  {
   "cell_type": "code",
   "execution_count": null,
   "metadata": {
    "scrolled": true
   },
   "outputs": [],
   "source": [
    "real_swiss_unemployment_map = folium.Map(location=[46.85, 8.23], zoom_start=8, tiles='cartodbpositron')\n",
    "real_swiss_unemployment_map.choropleth(open(swiss_geo_path), data=real_swiss_unemployment,\n",
    "             columns=['Code', 'Taux de chômage'],\n",
    "             key_on='feature.id',\n",
    "             topojson = 'objects.cantons',\n",
    "             threshold_scale = scale,\n",
    "             fill_color='BuPu', fill_opacity=0.7, line_opacity=0.2,\n",
    "             legend_name='Percentage of (real) unemployment (%)')\n",
    "real_swiss_unemployment_map"
   ]
  },
  {
   "cell_type": "markdown",
   "metadata": {},
   "source": [
    "[link to map](Maps/real_swiss_unemployment_map.html)"
   ]
  },
  {
   "cell_type": "markdown",
   "metadata": {},
   "source": [
    "On top of seeing the same trends as the map above, we have a clear decline in the unemployment rates (all cantons' unemployment rate decreased by at least 1% on the map) where most of the rural german-speaking cantons have the lowest unemployment rate. This is once again very easily explained as people in more urban cantons are more prone to be interested in other jobs."
   ]
  },
  {
   "cell_type": "markdown",
   "metadata": {},
   "source": [
    "### Differences in unemployment between foreigners and natives"
   ]
  },
  {
   "cell_type": "markdown",
   "metadata": {},
   "source": [
    "Here we have two different questions again: one about the difference in employment regarding nationality, and the second regarding age. We proceed to the amstat website and select the following categories:"
   ]
  },
  {
   "cell_type": "code",
   "execution_count": null,
   "metadata": {},
   "outputs": [],
   "source": [
    "Image(IMAGE_FOLDER + 'categories_q3.png', width='450px')"
   ]
  },
  {
   "cell_type": "markdown",
   "metadata": {},
   "source": [
    "After the selection we are asked to specifiy the age range: we choose to use 3 categories"
   ]
  },
  {
   "cell_type": "code",
   "execution_count": null,
   "metadata": {},
   "outputs": [],
   "source": [
    "Image(IMAGE_FOLDER + 'age_selection.png')"
   ]
  },
  {
   "cell_type": "markdown",
   "metadata": {},
   "source": [
    "After having selected out criteria we can further pivot and unpivot the rows using the websites tools:\n",
    "\n",
    "We start out with the following allignment. By clicking on the pivot button we can change this lignup to have 2 columns, one for foreigners and one for swiss nationals"
   ]
  },
  {
   "cell_type": "code",
   "execution_count": null,
   "metadata": {},
   "outputs": [],
   "source": [
    "Image(IMAGE_FOLDER + 'foreigners_1.png', width='450px')"
   ]
  },
  {
   "cell_type": "code",
   "execution_count": null,
   "metadata": {},
   "outputs": [],
   "source": [
    "Image(IMAGE_FOLDER + 'foreigners_2.png', width='450px')"
   ]
  },
  {
   "cell_type": "markdown",
   "metadata": {},
   "source": [
    "We can use this set up without having to preform transformations on the columns.\n",
    "\n",
    "We import the data set downloaded previously.\n",
    "We only need to flatten some of the structure."
   ]
  },
  {
   "cell_type": "code",
   "execution_count": null,
   "metadata": {
    "collapsed": true
   },
   "outputs": [],
   "source": [
    "swiss_foreign_unemployed = pd.read_excel(DATA_SWITZERLAND_BY_NATIONALITY, header=[0,2])"
   ]
  },
  {
   "cell_type": "code",
   "execution_count": null,
   "metadata": {
    "collapsed": true
   },
   "outputs": [],
   "source": [
    "del swiss_foreign_unemployed['Nationalité'] ##remove Measures column\n",
    "swiss_foreign_unemployed.columns = swiss_foreign_unemployed.columns.droplevel(1) ##remove redunant multiindex\n",
    "swiss_foreign_unemployed.reset_index(inplace=True) #we need to do this for later"
   ]
  },
  {
   "cell_type": "code",
   "execution_count": null,
   "metadata": {},
   "outputs": [],
   "source": [
    "swiss_foreign_unemployed.head()"
   ]
  },
  {
   "cell_type": "markdown",
   "metadata": {},
   "source": [
    "To later easely map the values in the dataframe to the shapes as provided in the topojson we preform a mapping, as before:"
   ]
  },
  {
   "cell_type": "code",
   "execution_count": null,
   "metadata": {
    "collapsed": true
   },
   "outputs": [],
   "source": [
    "swiss_foreign_unemployed['Code'] = swiss_foreign_unemployed['index'].map(dico)"
   ]
  },
  {
   "cell_type": "markdown",
   "metadata": {},
   "source": [
    "We calculate different measures to look at the difference between unemploment between two groups. The difference (scaled by the sum of both unemploment rates) and the rate both show different trends.\n",
    "\n",
    "The ratio gives us how many times higher the unemployment rate for foreigners is compared to swiss people.\n",
    "The difference divided by the total rate gives us the difference taking into consideration how high unemployment is in general in that canton. This is more useful than strictly looking at the difference, as cantons like Jura have high unemployment rates in general, which makes high unemployment rates in foreigners less surprising."
   ]
  },
  {
   "cell_type": "code",
   "execution_count": null,
   "metadata": {
    "collapsed": true
   },
   "outputs": [],
   "source": [
    "total = swiss_foreign_unemployed['Etrangers'] #+ swiss_foreign_unemployed['Suisses'] #this should be oths general data\n",
    "swiss_foreign_unemployed['Difference'] = (swiss_foreign_unemployed['Etrangers'] - swiss_foreign_unemployed['Suisses']) / total\n",
    "swiss_foreign_unemployed['Ratio'] = swiss_foreign_unemployed['Etrangers'] / swiss_foreign_unemployed['Suisses']"
   ]
  },
  {
   "cell_type": "code",
   "execution_count": null,
   "metadata": {},
   "outputs": [],
   "source": [
    "swiss_foreign_unemployed.head()"
   ]
  },
  {
   "cell_type": "markdown",
   "metadata": {},
   "source": [
    "We first look at the ratio. We can observe that the difference between the unemploment rate is smaller in urbanized areas such as Geneva or Zurich and bigger in rural areas, such as Uri and Glarus. \n",
    "Looking at the absolute rates, we see that areas with high disparities have very low rates of unemployment in general. \n",
    "\n",
    "As we take the monthly statistic from September it is possible that the lack of employment for the most often foreign seasonal affects the outcome. These seasonal workers will be more active in agricultural and tourist heavy places. It is exactly these places where the disparity in unemployment is especially striking."
   ]
  },
  {
   "cell_type": "code",
   "execution_count": null,
   "metadata": {
    "scrolled": true
   },
   "outputs": [],
   "source": [
    "swiss_foreign_map = folium.Map(location=[46.85, 8.23], zoom_start=8, tiles='cartodbpositron')\n",
    "swiss_foreign_map.choropleth(open(swiss_geo_path),\n",
    "             data=swiss_foreign_unemployed,\n",
    "             columns=('Code', 'Ratio'),\n",
    "             legend_name='Ratio in unemployment (%)',\n",
    "             fill_opacity=0.7, line_opacity=0.2,\n",
    "             fill_color='OrRd',\n",
    "             key_on = 'feature.id',\n",
    "             topojson='objects.cantons')\n",
    "swiss_foreign_map"
   ]
  },
  {
   "cell_type": "markdown",
   "metadata": {},
   "source": [
    "[link to map](Maps/swiss_foreign_map_ratio.html)"
   ]
  },
  {
   "cell_type": "markdown",
   "metadata": {},
   "source": [
    "Here we highlight the places where, the difference (x-y) relative to total unemployment is big. This is an attempt to take absolute value of unemployment into consideration. It is very hard to draw conclusions for this as we are already working with percentages. We leave this in as it was part of the process, but admit that it is not necessarily a good idea (as we can't really interpret the results)\n",
    "\n",
    "This map gives us a similar picture as the last one. However, the contrast between country side and urbanized areas is a bit reduced, and interesstingly we notice a 'Rösti graben' in this map."
   ]
  },
  {
   "cell_type": "code",
   "execution_count": null,
   "metadata": {
    "scrolled": true
   },
   "outputs": [],
   "source": [
    "swiss_foreign_map = folium.Map(location=[46.85, 8.23], zoom_start=8, tiles='cartodbpositron')\n",
    "swiss_foreign_map.choropleth(open(swiss_geo_path),\n",
    "             data=swiss_foreign_unemployed,\n",
    "             columns=('Code', 'Difference'),\n",
    "             legend_name='Difference in unemployment (%)',\n",
    "             fill_opacity=0.7, line_opacity=0.2,\n",
    "             fill_color='OrRd',\n",
    "             key_on = 'feature.id',\n",
    "             topojson='objects.cantons')\n",
    "swiss_foreign_map"
   ]
  },
  {
   "cell_type": "markdown",
   "metadata": {},
   "source": [
    "[link to map](Maps/swiss_foreign_map_diff.html)"
   ]
  },
  {
   "cell_type": "markdown",
   "metadata": {},
   "source": [
    "### Differences in unemployment between swiss and foreign workers by age groups"
   ]
  },
  {
   "cell_type": "markdown",
   "metadata": {},
   "source": [
    "Getting this dataset was harder, as one had to select the correct links to be able to get the data by age and nationality at the same time.\n",
    "\n",
    "Here we show the path we used:\n",
    "We had to click on monthly reports, and then get the unemploment rate by different categories.\n",
    "By using this path we get complete control over what data we want."
   ]
  },
  {
   "cell_type": "code",
   "execution_count": null,
   "metadata": {},
   "outputs": [],
   "source": [
    "Image(IMAGE_FOLDER + 'find_folder.png', width='300px')"
   ]
  },
  {
   "cell_type": "code",
   "execution_count": null,
   "metadata": {},
   "outputs": [],
   "source": [
    "Image(IMAGE_FOLDER + 'find_folder_2.png', width='300px')"
   ]
  },
  {
   "cell_type": "markdown",
   "metadata": {},
   "source": [
    "We now read the data into a dataframe. Note that for some cantons, some values are not present, and marked by '...'. We transform these values into NaN as to be able to more easly handle them."
   ]
  },
  {
   "cell_type": "code",
   "execution_count": null,
   "metadata": {
    "collapsed": true
   },
   "outputs": [],
   "source": [
    "swiss_unemployed_age = pd.read_excel(DATA_SWITZERLAND_BY_AGE, header=[0,1], na_values='...') \n",
    "swiss_unemployed_age.columns = swiss_unemployed_age.columns.droplevel(1)\n",
    "del swiss_unemployed_age[\"Mois\"] #remove empty line"
   ]
  },
  {
   "cell_type": "code",
   "execution_count": null,
   "metadata": {
    "collapsed": true
   },
   "outputs": [],
   "source": [
    "swiss_unemployed_age['Code'] = swiss_unemployed_age.index.to_series().map(dico)\n",
    "swiss_unemployed_age.reset_index(inplace=True)"
   ]
  },
  {
   "cell_type": "code",
   "execution_count": null,
   "metadata": {
    "collapsed": true
   },
   "outputs": [],
   "source": [
    "#renaming columns for convenience\n",
    "swiss_unemployed_age.columns = ['index', 'Nationalité', 'Category Name',\n",
    "       \"Age class: 15-24, 25-49, 50 ans and up\", 'Unemployment rate', 'Code']"
   ]
  },
  {
   "cell_type": "code",
   "execution_count": null,
   "metadata": {
    "collapsed": true
   },
   "outputs": [],
   "source": [
    "del swiss_unemployed_age['Category Name']"
   ]
  },
  {
   "cell_type": "markdown",
   "metadata": {},
   "source": [
    "In the exercise we are asked to draw a bar plot. We found that, even with a bar plot, it is quite hard to get a good overview of the data without processing it a bit. In our first attempt we plot two different barplots.\n",
    "We found that using the Canton as the x axis gives the most readable charts, as otherwise the Cantons are color coded.\n",
    "We use the 'Code' of each canton for easier readability of the plots."
   ]
  },
  {
   "cell_type": "code",
   "execution_count": null,
   "metadata": {},
   "outputs": [],
   "source": [
    "#adding plots one after the other for comparison\n",
    "sns.factorplot(#col=\"Nationalité\", \n",
    "                   y='Unemployment rate', \n",
    "                   hue='Age class: 15-24, 25-49, 50 ans and up',\n",
    "                   x='Code',\n",
    "                   data=swiss_unemployed_age[swiss_unemployed_age['Nationalité'] == 'Etrangers'],\n",
    "                   kind=\"bar\",     \n",
    "                   palette=\"Blues\", size=3, aspect=3)\n",
    "sns.factorplot(#col=\"Nationalité\", \n",
    "                   y='Unemployment rate', \n",
    "                   hue='Age class: 15-24, 25-49, 50 ans and up',\n",
    "                   x='Code',\n",
    "                   data=swiss_unemployed_age[swiss_unemployed_age['Nationalité'] == 'Suisses'],\n",
    "                   kind=\"bar\",     \n",
    "                   palette=\"Reds\", size=3, aspect=3)"
   ]
  },
  {
   "cell_type": "markdown",
   "metadata": {},
   "source": [
    "In the next plot I overlay the two. In blue, we see the rates for foreigners in different age groups, in red the same for swiss nationals."
   ]
  },
  {
   "cell_type": "code",
   "execution_count": null,
   "metadata": {},
   "outputs": [],
   "source": [
    "plt.figure(figsize=(10,4.5))\n",
    "g = sns.barplot(y='Unemployment rate', \n",
    "                   hue='Age class: 15-24, 25-49, 50 ans and up',\n",
    "                   x='Code',\n",
    "                   data=swiss_unemployed_age[swiss_unemployed_age['Nationalité'] == 'Etrangers'], \n",
    "                   palette=\"Blues\")\n",
    "sns.barplot(y='Unemployment rate', \n",
    "                   hue='Age class: 15-24, 25-49, 50 ans and up',\n",
    "                   x='Code',\n",
    "                   data=swiss_unemployed_age[swiss_unemployed_age['Nationalité'] == 'Suisses'], \n",
    "                   palette='Reds'\n",
    "           )"
   ]
  },
  {
   "cell_type": "markdown",
   "metadata": {},
   "source": [
    "We again observe that a lot of elderly foreigners are more unemployed. \n",
    "For both groups young people have the highest unemployment rate.\n",
    "In some cantons younger people suffer much higher rates of unemployment."
   ]
  },
  {
   "cell_type": "markdown",
   "metadata": {},
   "source": [
    "In an other attempt to better visualize this, we use the **ratio** instead. \n",
    "Next you will find the manipulations necessary to calculate the ration for all age."
   ]
  },
  {
   "cell_type": "code",
   "execution_count": null,
   "metadata": {
    "collapsed": true
   },
   "outputs": [],
   "source": [
    "#pivot df for easier manipulation\n",
    "pivoted_unemployment = pd.pivot_table(data=swiss_unemployed_age, values='Unemployment rate',\n",
    "               columns=['Nationalité', 'Age class: 15-24, 25-49, 50 ans and up'], \n",
    "               dropna=False,\n",
    "               index = 'index'\n",
    "              ).reset_index()"
   ]
  },
  {
   "cell_type": "code",
   "execution_count": null,
   "metadata": {
    "collapsed": true
   },
   "outputs": [],
   "source": [
    "#preform division\n",
    "suisses = pivoted_unemployment['Suisses']\n",
    "etrangers = pivoted_unemployment['Etrangers']\n",
    "barplot = etrangers.divide(suisses)\n",
    "barplot['Code'] = swiss_foreign_unemployed['Code']"
   ]
  },
  {
   "cell_type": "code",
   "execution_count": null,
   "metadata": {
    "collapsed": true
   },
   "outputs": [],
   "source": [
    "#un-pivot colummn (easier for visualisation)\n",
    "barplot = barplot.melt(id_vars='Code')"
   ]
  },
  {
   "cell_type": "markdown",
   "metadata": {},
   "source": [
    "This figure displays quite well the discrepancies. We see that sadly some of the interesting cases do not have data for all age classes, hence we can not draw any conclusions for these cantons.\n",
    "We see that in most cantons the ratio is most different for the group 50+, followed by the group 25-49. The group 15-24 in general has the smallest ration - that means foreign and swiss workers in this group show similar unemployment rates.\n",
    "But we note that for some rural areas, such as Uri, Nidwalden and Wallis young people have a higher ratio than their older groups. This could be due to the type of employment offered in these areas.  "
   ]
  },
  {
   "cell_type": "code",
   "execution_count": null,
   "metadata": {},
   "outputs": [],
   "source": [
    "plt.figure(figsize=(15,7.5))\n",
    "g = sns.barplot(y='value', \n",
    "                   hue='Age class: 15-24, 25-49, 50 ans and up',\n",
    "                   x='Code',\n",
    "                   data=barplot)"
   ]
  },
  {
   "cell_type": "markdown",
   "metadata": {},
   "source": [
    "Finaly we decide to also show the distribution over all cantons using boxplots, which gives a better overview without looking at Cantons individualy."
   ]
  },
  {
   "cell_type": "code",
   "execution_count": null,
   "metadata": {},
   "outputs": [],
   "source": [
    "sns.boxplot(x='Nationalité', \n",
    "            y='Unemployment rate', \n",
    "            hue='Age class: 15-24, 25-49, 50 ans and up', data=swiss_unemployed_age)"
   ]
  },
  {
   "cell_type": "code",
   "execution_count": null,
   "metadata": {},
   "outputs": [],
   "source": [
    "sns.boxplot(hue='Nationalité', \n",
    "            y='Unemployment rate', \n",
    "            x='Age class: 15-24, 25-49, 50 ans and up', data=swiss_unemployed_age)"
   ]
  },
  {
   "cell_type": "markdown",
   "metadata": {
    "collapsed": true
   },
   "source": [
    "We again see that the discrepancy between the foreigners and swiss nationals is largest for the age group 50 and above.\n",
    "We note that, while for swiss nationals, the youngest group is the most unemployed followed by the two older groups being similarly yet slightly more employed. For foreigners, the elderly have a higher unemployment rate than the middlea-ged group."
   ]
  },
  {
   "cell_type": "markdown",
   "metadata": {},
   "source": [
    "### The Röstigraben"
   ]
  },
  {
   "cell_type": "code",
   "execution_count": null,
   "metadata": {},
   "outputs": [],
   "source": [
    "swiss_unemployment_map"
   ]
  },
  {
   "cell_type": "markdown",
   "metadata": {
    "collapsed": true
   },
   "source": [
    "The Röstigraben, a cultural gap between german and french speaking Switzerland, is very visible in our analysis.\n",
    "We note that the french-speaking part of Switzerland has more unemployment but has a smaller gap between foreigners and swiss nationals while the german-speaking trends are inversed.\n",
    "We estimate the difference in unemployment rates between the areas divided by the Röstigraben to be around 2% when looking at the choropleth map."
   ]
  }
 ],
 "metadata": {
  "anaconda-cloud": {},
  "kernelspec": {
   "display_name": "Python [default]",
   "language": "python",
   "name": "python3"
  },
  "language_info": {
   "codemirror_mode": {
    "name": "ipython",
    "version": 3
   },
   "file_extension": ".py",
   "mimetype": "text/x-python",
   "name": "python",
   "nbconvert_exporter": "python",
   "pygments_lexer": "ipython3",
   "version": "3.6.1"
  }
 },
 "nbformat": 4,
 "nbformat_minor": 1
}
