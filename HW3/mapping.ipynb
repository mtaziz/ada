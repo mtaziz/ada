{
 "cells": [
  {
   "cell_type": "code",
   "execution_count": 1,
   "metadata": {},
   "outputs": [],
   "source": [
    "import json\n",
    "import urllib3\n",
    "import pickle as pkl\n",
    "from bs4 import BeautifulSoup"
   ]
  },
  {
   "cell_type": "code",
   "execution_count": 2,
   "metadata": {
    "collapsed": true
   },
   "outputs": [],
   "source": [
    "http = urllib3.PoolManager()\n",
    "urllib3.disable_warnings()\n",
    "WIKI = \"https://fr.wikipedia.org/wiki/Canton_(Suisse)\"\n",
    "header = {'User-Agent': 'Mozilla/5.0'} #Needed to prevent 403 error on Wikipedia"
   ]
  },
  {
   "cell_type": "code",
   "execution_count": 3,
   "metadata": {},
   "outputs": [],
   "source": [
    "r = http.request('GET', WIKI, headers = header)\n",
    "soup = BeautifulSoup(r.data, \"lxml\")\n",
    "table = soup.find(\"table\", { \"class\" : \"wikitable sortable\" })"
   ]
  },
  {
   "cell_type": "code",
   "execution_count": 12,
   "metadata": {},
   "outputs": [],
   "source": [
    "code = []\n",
    "canton = []\n",
    "\n",
    "for row in table.findAll(\"tr\"):\n",
    "    code_cells = row.findAll(\"th\")\n",
    "    if len(code_cells) == 2:\n",
    "        code.append(str(code_cells[0].find(text=True)))\n",
    "    canton_cells = row.findAll(\"td\")\n",
    "    if len(canton_cells) == 10:\n",
    "        canton.append(str(canton_cells[0].find(text=True)))"
   ]
  },
  {
   "cell_type": "code",
   "execution_count": 13,
   "metadata": {},
   "outputs": [
    {
     "data": {
      "text/plain": [
       "['ZH',\n",
       " 'BE',\n",
       " 'LU',\n",
       " 'UR',\n",
       " 'SZ',\n",
       " 'OW',\n",
       " 'NW',\n",
       " 'GL',\n",
       " 'ZG',\n",
       " 'FR',\n",
       " 'SO',\n",
       " 'BS',\n",
       " 'BL',\n",
       " 'SH',\n",
       " 'AR',\n",
       " 'AI',\n",
       " 'SG',\n",
       " 'GR',\n",
       " 'AG',\n",
       " 'TG',\n",
       " 'TI',\n",
       " 'VD',\n",
       " 'VS',\n",
       " 'NE',\n",
       " 'GE',\n",
       " 'JU',\n",
       " 'CH']"
      ]
     },
     "execution_count": 13,
     "metadata": {},
     "output_type": "execute_result"
    }
   ],
   "source": [
    "code"
   ]
  },
  {
   "cell_type": "code",
   "execution_count": 14,
   "metadata": {},
   "outputs": [
    {
     "data": {
      "text/plain": [
       "['Zurich',\n",
       " 'Berne',\n",
       " 'Lucerne',\n",
       " 'Uri',\n",
       " 'Schwytz',\n",
       " 'Obwald',\n",
       " 'Nidwald',\n",
       " 'Glaris',\n",
       " 'Zoug',\n",
       " 'Fribourg',\n",
       " 'Soleure',\n",
       " 'Bâle-Ville',\n",
       " 'Bâle-Campagne',\n",
       " 'Schaffhouse',\n",
       " 'Appenzell Rhodes-Extérieures',\n",
       " 'Appenzell Rhodes-Intérieures',\n",
       " 'Saint-Gall',\n",
       " 'Grisons',\n",
       " 'Argovie',\n",
       " 'Thurgovie',\n",
       " 'Tessin',\n",
       " 'Vaud',\n",
       " 'Valais',\n",
       " 'Neuchâtel',\n",
       " 'Genève',\n",
       " 'Jura',\n",
       " 'Suisse']"
      ]
     },
     "execution_count": 14,
     "metadata": {},
     "output_type": "execute_result"
    }
   ],
   "source": [
    "canton"
   ]
  },
  {
   "cell_type": "code",
   "execution_count": 15,
   "metadata": {},
   "outputs": [],
   "source": [
    "dico = dict(zip(canton, code))\n",
    "pkl.dump(dico, open('Data/map_cantons.pkl', 'wb')) "
   ]
  }
 ],
 "metadata": {
  "anaconda-cloud": {},
  "kernelspec": {
   "display_name": "Python 3",
   "language": "python",
   "name": "python3"
  },
  "language_info": {
   "codemirror_mode": {
    "name": "ipython",
    "version": 3
   },
   "file_extension": ".py",
   "mimetype": "text/x-python",
   "name": "python",
   "nbconvert_exporter": "python",
   "pygments_lexer": "ipython3",
   "version": "3.6.2"
  }
 },
 "nbformat": 4,
 "nbformat_minor": 1
}
