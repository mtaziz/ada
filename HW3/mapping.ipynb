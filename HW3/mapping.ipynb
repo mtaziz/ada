{
 "cells": [
  {
   "cell_type": "markdown",
   "metadata": {},
   "source": [
    "# Mapping Cantons to their Codes\n",
    "\n",
    "The idea behind this helper file is to scrape the Wikipedia page in order to define a dictionary linking cantons to their codes (needed to work with the ids in order to draw the choropleth maps of Switzerland).\n",
    "\n",
    "The method was inspired by [this code](https://adesquared.wordpress.com/2013/06/16/using-python-beautifulsoup-to-scrape-a-wikipedia-table/) but was still adapted to fit our needs."
   ]
  },
  {
   "cell_type": "code",
   "execution_count": 1,
   "metadata": {
    "collapsed": false
   },
   "outputs": [],
   "source": [
    "#We start with our most important imports\n",
    "import urllib3\n",
    "import pickle as pkl\n",
    "from bs4 import BeautifulSoup"
   ]
  },
  {
   "cell_type": "code",
   "execution_count": 2,
   "metadata": {
    "collapsed": true
   },
   "outputs": [],
   "source": [
    "#We set the important variables\n",
    "http = urllib3.PoolManager()\n",
    "urllib3.disable_warnings()\n",
    "WIKI = \"https://fr.wikipedia.org/wiki/Canton_(Suisse)\"\n",
    "header = {'User-Agent': 'Mozilla/5.0'} #Needed to prevent 403 error on Wikipedia"
   ]
  },
  {
   "cell_type": "code",
   "execution_count": 3,
   "metadata": {
    "collapsed": false
   },
   "outputs": [],
   "source": [
    "#We get find the table to work with\n",
    "r = http.request('GET', WIKI, headers = header)\n",
    "soup = BeautifulSoup(r.data, \"lxml\")\n",
    "table = soup.find(\"table\", { \"class\" : \"wikitable sortable\" })"
   ]
  },
  {
   "cell_type": "markdown",
   "metadata": {},
   "source": [
    "In order to find our data, we looked at the source code to understand what were the elements we needed to retrieve. We then simply applied the algorithm to retrieve these elements and append them to our lists."
   ]
  },
  {
   "cell_type": "code",
   "execution_count": 4,
   "metadata": {
    "collapsed": false
   },
   "outputs": [],
   "source": [
    "code = []\n",
    "canton = []\n",
    "\n",
    "for row in table.findAll(\"tr\"):\n",
    "    code_cells = row.findAll(\"th\")\n",
    "    if len(code_cells) == 2:\n",
    "        code.append(str(code_cells[0].find(text=True)))\n",
    "    canton_cells = row.findAll(\"td\")\n",
    "    if len(canton_cells) == 10:\n",
    "        canton.append(str(canton_cells[0].find(text=True)))"
   ]
  },
  {
   "cell_type": "markdown",
   "metadata": {},
   "source": [
    "To prove the sanity of our data, we display the head of each list."
   ]
  },
  {
   "cell_type": "code",
   "execution_count": 5,
   "metadata": {
    "collapsed": false
   },
   "outputs": [
    {
     "data": {
      "text/plain": [
       "['ZH', 'BE', 'LU', 'UR', 'SZ']"
      ]
     },
     "execution_count": 5,
     "metadata": {},
     "output_type": "execute_result"
    }
   ],
   "source": [
    "code[:5]"
   ]
  },
  {
   "cell_type": "code",
   "execution_count": 6,
   "metadata": {
    "collapsed": false
   },
   "outputs": [
    {
     "data": {
      "text/plain": [
       "['Zurich', 'Berne', 'Lucerne', 'Uri', 'Schwytz']"
      ]
     },
     "execution_count": 6,
     "metadata": {},
     "output_type": "execute_result"
    }
   ],
   "source": [
    "canton[:5]"
   ]
  },
  {
   "cell_type": "markdown",
   "metadata": {},
   "source": [
    "However, we still face an issue with 2 Swiss cantons, Schwytz and Saint-Gall, which do not have the same name in the data retrieved from \"amstat\". Thus, we decide to change them manually in order to have the ease the computations on the main notebook."
   ]
  },
  {
   "cell_type": "code",
   "execution_count": 7,
   "metadata": {
    "collapsed": false
   },
   "outputs": [
    {
     "data": {
      "text/plain": [
       "['Zurich', 'Berne', 'Lucerne', 'Uri', 'Schwyz']"
      ]
     },
     "execution_count": 7,
     "metadata": {},
     "output_type": "execute_result"
    }
   ],
   "source": [
    "canton = ['Schwyz' if c == 'Schwytz' else c for c in canton]\n",
    "canton = ['St-Gall' if c == 'Saint-Gall' else c for c in canton]\n",
    "canton[:5] #We can already see from here 'Schwytz' was changed to 'Schwyz'"
   ]
  },
  {
   "cell_type": "code",
   "execution_count": 8,
   "metadata": {
    "collapsed": false
   },
   "outputs": [],
   "source": [
    "dico = dict(zip(canton, code))\n",
    "pkl.dump(dico, open('Data/map_cantons.pkl', 'wb')) "
   ]
  }
 ],
 "metadata": {
  "anaconda-cloud": {},
  "kernelspec": {
   "display_name": "Python [conda root]",
   "language": "python",
   "name": "conda-root-py"
  },
  "language_info": {
   "codemirror_mode": {
    "name": "ipython",
    "version": 3
   },
   "file_extension": ".py",
   "mimetype": "text/x-python",
   "name": "python",
   "nbconvert_exporter": "python",
   "pygments_lexer": "ipython3",
   "version": "3.5.2"
  }
 },
 "nbformat": 4,
 "nbformat_minor": 1
}
