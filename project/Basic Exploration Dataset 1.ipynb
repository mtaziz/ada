{
 "cells": [
  {
   "cell_type": "code",
   "execution_count": 4,
   "metadata": {},
   "outputs": [],
   "source": [
    "import csv\n",
    "import numpy as np\n",
    "import pandas as pd\n",
    "import pyspark as ps"
   ]
  },
  {
   "cell_type": "code",
   "execution_count": 7,
   "metadata": {
    "collapsed": true
   },
   "outputs": [],
   "source": [
    "from pyspark import SparkContext\n",
    "from pyspark.sql import SQLContext"
   ]
  },
  {
   "cell_type": "markdown",
   "metadata": {},
   "source": [
    "# Dataset analysis for Dataset 1\n",
    "\n",
    "This notebook contains an initial analysis of the swiss-tweets dataset that was provided on the cluster.\n",
    "\n",
    "We first preform the analysis on the sample set using pandas and then show how to use spark to scale up."
   ]
  },
  {
   "cell_type": "markdown",
   "metadata": {},
   "source": [
    "## Fields contained"
   ]
  },
  {
   "cell_type": "markdown",
   "metadata": {},
   "source": [
    "We first read the schema to see what fields are contained:"
   ]
  },
  {
   "cell_type": "code",
   "execution_count": 6,
   "metadata": {},
   "outputs": [
    {
     "data": {
      "text/html": [
       "<div>\n",
       "<style>\n",
       "    .dataframe thead tr:only-child th {\n",
       "        text-align: right;\n",
       "    }\n",
       "\n",
       "    .dataframe thead th {\n",
       "        text-align: left;\n",
       "    }\n",
       "\n",
       "    .dataframe tbody tr th {\n",
       "        vertical-align: top;\n",
       "    }\n",
       "</style>\n",
       "<table border=\"1\" class=\"dataframe\">\n",
       "  <thead>\n",
       "    <tr style=\"text-align: right;\">\n",
       "      <th></th>\n",
       "      <th>name</th>\n",
       "      <th>type</th>\n",
       "      <th>specification</th>\n",
       "      <th>??</th>\n",
       "      <th>format</th>\n",
       "    </tr>\n",
       "  </thead>\n",
       "  <tbody>\n",
       "    <tr>\n",
       "      <th>1</th>\n",
       "      <td>id</td>\n",
       "      <td>bigint(20)</td>\n",
       "      <td>UNSIGNED</td>\n",
       "      <td>No</td>\n",
       "      <td>None</td>\n",
       "    </tr>\n",
       "    <tr>\n",
       "      <th>2</th>\n",
       "      <td>userId</td>\n",
       "      <td>bigint(20)</td>\n",
       "      <td>UNSIGNED</td>\n",
       "      <td>No</td>\n",
       "      <td>None</td>\n",
       "    </tr>\n",
       "    <tr>\n",
       "      <th>3</th>\n",
       "      <td>createdAt</td>\n",
       "      <td>timestamp</td>\n",
       "      <td>No</td>\n",
       "      <td>0000-00-00</td>\n",
       "      <td>00:00:00</td>\n",
       "    </tr>\n",
       "    <tr>\n",
       "      <th>4</th>\n",
       "      <td>text</td>\n",
       "      <td>text</td>\n",
       "      <td>utf8_unicode_ci</td>\n",
       "      <td>No</td>\n",
       "      <td>None</td>\n",
       "    </tr>\n",
       "    <tr>\n",
       "      <th>5</th>\n",
       "      <td>longitude</td>\n",
       "      <td>float</td>\n",
       "      <td>Yes</td>\n",
       "      <td>NaN</td>\n",
       "      <td>NaN</td>\n",
       "    </tr>\n",
       "    <tr>\n",
       "      <th>6</th>\n",
       "      <td>latitude</td>\n",
       "      <td>float</td>\n",
       "      <td>Yes</td>\n",
       "      <td>NaN</td>\n",
       "      <td>NaN</td>\n",
       "    </tr>\n",
       "    <tr>\n",
       "      <th>7</th>\n",
       "      <td>placeId</td>\n",
       "      <td>varchar(25)</td>\n",
       "      <td>utf8_general_ci</td>\n",
       "      <td>Yes</td>\n",
       "      <td>NaN</td>\n",
       "    </tr>\n",
       "    <tr>\n",
       "      <th>8</th>\n",
       "      <td>inReplyTo</td>\n",
       "      <td>bigint(20)</td>\n",
       "      <td>UNSIGNED</td>\n",
       "      <td>Yes</td>\n",
       "      <td>NaN</td>\n",
       "    </tr>\n",
       "    <tr>\n",
       "      <th>9</th>\n",
       "      <td>source</td>\n",
       "      <td>int(10)</td>\n",
       "      <td>UNSIGNED</td>\n",
       "      <td>No</td>\n",
       "      <td>None</td>\n",
       "    </tr>\n",
       "    <tr>\n",
       "      <th>10</th>\n",
       "      <td>truncated</td>\n",
       "      <td>bit(1)</td>\n",
       "      <td>No</td>\n",
       "      <td>None</td>\n",
       "      <td>NaN</td>\n",
       "    </tr>\n",
       "    <tr>\n",
       "      <th>11</th>\n",
       "      <td>placeLatitude</td>\n",
       "      <td>float</td>\n",
       "      <td>Yes</td>\n",
       "      <td>NaN</td>\n",
       "      <td>NaN</td>\n",
       "    </tr>\n",
       "    <tr>\n",
       "      <th>12</th>\n",
       "      <td>placeLongitude</td>\n",
       "      <td>float</td>\n",
       "      <td>Yes</td>\n",
       "      <td>NaN</td>\n",
       "      <td>NaN</td>\n",
       "    </tr>\n",
       "    <tr>\n",
       "      <th>13</th>\n",
       "      <td>sourceName</td>\n",
       "      <td>varchar(255)</td>\n",
       "      <td>utf8_general_ci</td>\n",
       "      <td>Yes</td>\n",
       "      <td>NaN</td>\n",
       "    </tr>\n",
       "    <tr>\n",
       "      <th>14</th>\n",
       "      <td>sourceUrl</td>\n",
       "      <td>varchar(255)</td>\n",
       "      <td>utf8_general_ci</td>\n",
       "      <td>Yes</td>\n",
       "      <td>NaN</td>\n",
       "    </tr>\n",
       "    <tr>\n",
       "      <th>15</th>\n",
       "      <td>userName</td>\n",
       "      <td>varchar(200)</td>\n",
       "      <td>utf8_general_ci</td>\n",
       "      <td>Yes</td>\n",
       "      <td>NaN</td>\n",
       "    </tr>\n",
       "    <tr>\n",
       "      <th>16</th>\n",
       "      <td>screenName</td>\n",
       "      <td>varchar(200)</td>\n",
       "      <td>utf8_general_ci</td>\n",
       "      <td>Yes</td>\n",
       "      <td>NaN</td>\n",
       "    </tr>\n",
       "    <tr>\n",
       "      <th>17</th>\n",
       "      <td>followersCount</td>\n",
       "      <td>int(10)</td>\n",
       "      <td>UNSIGNED</td>\n",
       "      <td>Yes</td>\n",
       "      <td>NaN</td>\n",
       "    </tr>\n",
       "    <tr>\n",
       "      <th>18</th>\n",
       "      <td>friendsCount</td>\n",
       "      <td>int(10)</td>\n",
       "      <td>UNSIGNED</td>\n",
       "      <td>Yes</td>\n",
       "      <td>NaN</td>\n",
       "    </tr>\n",
       "    <tr>\n",
       "      <th>19</th>\n",
       "      <td>statusesCount</td>\n",
       "      <td>int(10)</td>\n",
       "      <td>UNSIGNED</td>\n",
       "      <td>Yes</td>\n",
       "      <td>NaN</td>\n",
       "    </tr>\n",
       "    <tr>\n",
       "      <th>20</th>\n",
       "      <td>userLocation</td>\n",
       "      <td>varchar(200)</td>\n",
       "      <td>utf8_general_ci</td>\n",
       "      <td>Yes</td>\n",
       "      <td>NaN</td>\n",
       "    </tr>\n",
       "  </tbody>\n",
       "</table>\n",
       "</div>"
      ],
      "text/plain": [
       "              name          type    specification          ??    format\n",
       "1               id    bigint(20)         UNSIGNED          No      None\n",
       "2           userId    bigint(20)         UNSIGNED          No      None\n",
       "3        createdAt     timestamp               No  0000-00-00  00:00:00\n",
       "4             text          text  utf8_unicode_ci          No      None\n",
       "5        longitude         float              Yes         NaN       NaN\n",
       "6         latitude         float              Yes         NaN       NaN\n",
       "7          placeId   varchar(25)  utf8_general_ci         Yes       NaN\n",
       "8        inReplyTo    bigint(20)         UNSIGNED         Yes       NaN\n",
       "9           source       int(10)         UNSIGNED          No      None\n",
       "10       truncated        bit(1)               No        None       NaN\n",
       "11   placeLatitude         float              Yes         NaN       NaN\n",
       "12  placeLongitude         float              Yes         NaN       NaN\n",
       "13      sourceName  varchar(255)  utf8_general_ci         Yes       NaN\n",
       "14       sourceUrl  varchar(255)  utf8_general_ci         Yes       NaN\n",
       "15        userName  varchar(200)  utf8_general_ci         Yes       NaN\n",
       "16      screenName  varchar(200)  utf8_general_ci         Yes       NaN\n",
       "17  followersCount       int(10)         UNSIGNED         Yes       NaN\n",
       "18    friendsCount       int(10)         UNSIGNED         Yes       NaN\n",
       "19   statusesCount       int(10)         UNSIGNED         Yes       NaN\n",
       "20    userLocation  varchar(200)  utf8_general_ci         Yes       NaN"
      ]
     },
     "execution_count": 6,
     "metadata": {},
     "output_type": "execute_result"
    }
   ],
   "source": [
    "schema = pd.read_table('twitter-swisscom/schema.txt', header=None, delim_whitespace=True, index_col=0,\n",
    "                       names=['name', 'type', 'specification', '??', 'format'] )\n",
    "schema"
   ]
  },
  {
   "cell_type": "markdown",
   "metadata": {},
   "source": [
    "While we have no exact information of what exactly each column contains, we can infer it form the column names.\n",
    "\n",
    "For out analysis, the following columns are potentialy useful:\n",
    "- userId: to see if some users occur frequently\n",
    "- createdAt: to see when the tweet was created, so we can look into seasonal changes\n",
    "- text: the actual tweet\n",
    "- longitude & latitude / placeLongitude & placeLatitude: giving us the exact location of the tweet\n",
    "- followersCount & friendCounts: to see how sociable or integrated in twitter a user is\n",
    "- userLocation: to give us the location of the user\n",
    "\n",
    "\n",
    "We see that we have no way of dirrectly seeing the language of the tweet."
   ]
  },
  {
   "cell_type": "markdown",
   "metadata": {},
   "source": [
    "## Dataset analysis"
   ]
  },
  {
   "cell_type": "markdown",
   "metadata": {},
   "source": [
    "We now take a look at the sample tsv provided, containing a smaller subset of the data."
   ]
  },
  {
   "cell_type": "code",
   "execution_count": 7,
   "metadata": {},
   "outputs": [],
   "source": [
    "#after previous reads we saw that \\N was used as NA value\n",
    "#tsv -> use \\t as separator\n",
    "#use schema names for column name\n",
    "twitter_df = pd.read_table('twitter-swisscom/sample.tsv', \n",
    "              sep='\\t', engine='c', encoding='utf-8', quoting=csv.QUOTE_NONE,\n",
    "              header=None, names=schema.name, na_values='\\\\N')"
   ]
  },
  {
   "cell_type": "code",
   "execution_count": 16,
   "metadata": {},
   "outputs": [
    {
     "data": {
      "text/plain": [
       "id                 object\n",
       "userId            float64\n",
       "createdAt          object\n",
       "text               object\n",
       "longitude         float64\n",
       "latitude          float64\n",
       "placeId            object\n",
       "inReplyTo         float64\n",
       "source            float64\n",
       "truncated          object\n",
       "placeLatitude      object\n",
       "placeLongitude     object\n",
       "sourceName         object\n",
       "sourceUrl          object\n",
       "userName           object\n",
       "screenName         object\n",
       "followersCount     object\n",
       "friendsCount      float64\n",
       "statusesCount     float64\n",
       "userLocation       object\n",
       "dtype: object"
      ]
     },
     "execution_count": 16,
     "metadata": {},
     "output_type": "execute_result"
    }
   ],
   "source": [
    "twitter_df.dtypes"
   ]
  },
  {
   "cell_type": "code",
   "execution_count": 11,
   "metadata": {},
   "outputs": [
    {
     "data": {
      "text/html": [
       "<div>\n",
       "<style>\n",
       "    .dataframe thead tr:only-child th {\n",
       "        text-align: right;\n",
       "    }\n",
       "\n",
       "    .dataframe thead th {\n",
       "        text-align: left;\n",
       "    }\n",
       "\n",
       "    .dataframe tbody tr th {\n",
       "        vertical-align: top;\n",
       "    }\n",
       "</style>\n",
       "<table border=\"1\" class=\"dataframe\">\n",
       "  <thead>\n",
       "    <tr style=\"text-align: right;\">\n",
       "      <th></th>\n",
       "      <th>id</th>\n",
       "      <th>userId</th>\n",
       "      <th>createdAt</th>\n",
       "      <th>text</th>\n",
       "      <th>longitude</th>\n",
       "      <th>latitude</th>\n",
       "      <th>placeId</th>\n",
       "      <th>inReplyTo</th>\n",
       "      <th>source</th>\n",
       "      <th>truncated</th>\n",
       "      <th>placeLatitude</th>\n",
       "      <th>placeLongitude</th>\n",
       "      <th>sourceName</th>\n",
       "      <th>sourceUrl</th>\n",
       "      <th>userName</th>\n",
       "      <th>screenName</th>\n",
       "      <th>followersCount</th>\n",
       "      <th>friendsCount</th>\n",
       "      <th>statusesCount</th>\n",
       "      <th>userLocation</th>\n",
       "    </tr>\n",
       "  </thead>\n",
       "  <tbody>\n",
       "    <tr>\n",
       "      <th>0</th>\n",
       "      <td>776522983837954049</td>\n",
       "      <td>7.354492e+17</td>\n",
       "      <td>2016-09-15 20:48:01</td>\n",
       "      <td>se lo dici tu... https://t.co/x7Qm1VHBKL</td>\n",
       "      <td>NaN</td>\n",
       "      <td>NaN</td>\n",
       "      <td>51c0e6b24c64e54e</td>\n",
       "      <td>NaN</td>\n",
       "      <td>1.0</td>\n",
       "      <td>NaN</td>\n",
       "      <td>46.0027</td>\n",
       "      <td>8.96044</td>\n",
       "      <td>Twitter for iPhone</td>\n",
       "      <td>http://twitter.com/#!/download/iphone</td>\n",
       "      <td>plvtone filiae.</td>\n",
       "      <td>hazel_chb</td>\n",
       "      <td>146</td>\n",
       "      <td>110.0</td>\n",
       "      <td>28621.0</td>\n",
       "      <td>Earleen.</td>\n",
       "    </tr>\n",
       "    <tr>\n",
       "      <th>1</th>\n",
       "      <td>776523000636203010</td>\n",
       "      <td>2.741686e+09</td>\n",
       "      <td>2016-09-15 20:48:05</td>\n",
       "      <td>https://t.co/noYrTnqmg9</td>\n",
       "      <td>NaN</td>\n",
       "      <td>NaN</td>\n",
       "      <td>4e7c21fd2af027c6</td>\n",
       "      <td>NaN</td>\n",
       "      <td>1.0</td>\n",
       "      <td>NaN</td>\n",
       "      <td>46.8131</td>\n",
       "      <td>8.22414</td>\n",
       "      <td>Twitter for iPhone</td>\n",
       "      <td>http://twitter.com/#!/download/iphone</td>\n",
       "      <td>samara</td>\n",
       "      <td>letisieg</td>\n",
       "      <td>755</td>\n",
       "      <td>2037.0</td>\n",
       "      <td>3771.0</td>\n",
       "      <td>Suisse</td>\n",
       "    </tr>\n",
       "    <tr>\n",
       "      <th>2</th>\n",
       "      <td>776523045200691200</td>\n",
       "      <td>4.352392e+08</td>\n",
       "      <td>2016-09-15 20:48:15</td>\n",
       "      <td>@BesacTof @Leonid_CCCP Tu dois t'engager en si...</td>\n",
       "      <td>NaN</td>\n",
       "      <td>NaN</td>\n",
       "      <td>12eb9b254faf37a3</td>\n",
       "      <td>7.765221e+17</td>\n",
       "      <td>5.0</td>\n",
       "      <td>NaN</td>\n",
       "      <td>47.201</td>\n",
       "      <td>5.94082</td>\n",
       "      <td>Twitter for Android</td>\n",
       "      <td>http://twitter.com/download/android</td>\n",
       "      <td>lebrübrü❤</td>\n",
       "      <td>lebrubru</td>\n",
       "      <td>811</td>\n",
       "      <td>595.0</td>\n",
       "      <td>30191.0</td>\n",
       "      <td>Fontain</td>\n",
       "    </tr>\n",
       "    <tr>\n",
       "      <th>3</th>\n",
       "      <td>776523058404290560</td>\n",
       "      <td>5.032442e+08</td>\n",
       "      <td>2016-09-15 20:48:18</td>\n",
       "      <td>@Mno0or_Abyat اشوف مظاهرات على قانون العمل الج...</td>\n",
       "      <td>NaN</td>\n",
       "      <td>NaN</td>\n",
       "      <td>30bcd7f767b4041e</td>\n",
       "      <td>7.765216e+17</td>\n",
       "      <td>1.0</td>\n",
       "      <td>NaN</td>\n",
       "      <td>45.8011</td>\n",
       "      <td>6.16552</td>\n",
       "      <td>Twitter for iPhone</td>\n",
       "      <td>http://twitter.com/#!/download/iphone</td>\n",
       "      <td>عبدالله القنيص</td>\n",
       "      <td>bingnais</td>\n",
       "      <td>28433</td>\n",
       "      <td>417.0</td>\n",
       "      <td>12262.0</td>\n",
       "      <td>Shargeyah</td>\n",
       "    </tr>\n",
       "    <tr>\n",
       "      <th>4</th>\n",
       "      <td>776523058504925185</td>\n",
       "      <td>4.528053e+08</td>\n",
       "      <td>2016-09-15 20:48:18</td>\n",
       "      <td>Greek night #geneve (@ Emilios in Genève) http...</td>\n",
       "      <td>6.14414</td>\n",
       "      <td>46.1966</td>\n",
       "      <td>c3a6437e1b1a726d</td>\n",
       "      <td>NaN</td>\n",
       "      <td>3.0</td>\n",
       "      <td>NaN</td>\n",
       "      <td>46.2048</td>\n",
       "      <td>6.14319</td>\n",
       "      <td>foursquare</td>\n",
       "      <td>http://foursquare.com</td>\n",
       "      <td>Alkan Şenli</td>\n",
       "      <td>Alkanoli</td>\n",
       "      <td>204</td>\n",
       "      <td>172.0</td>\n",
       "      <td>3390.0</td>\n",
       "      <td>İstanbul/Burgazada</td>\n",
       "    </tr>\n",
       "  </tbody>\n",
       "</table>\n",
       "</div>"
      ],
      "text/plain": [
       "                   id        userId            createdAt  \\\n",
       "0  776522983837954049  7.354492e+17  2016-09-15 20:48:01   \n",
       "1  776523000636203010  2.741686e+09  2016-09-15 20:48:05   \n",
       "2  776523045200691200  4.352392e+08  2016-09-15 20:48:15   \n",
       "3  776523058404290560  5.032442e+08  2016-09-15 20:48:18   \n",
       "4  776523058504925185  4.528053e+08  2016-09-15 20:48:18   \n",
       "\n",
       "                                                text  longitude  latitude  \\\n",
       "0           se lo dici tu... https://t.co/x7Qm1VHBKL        NaN       NaN   \n",
       "1                            https://t.co/noYrTnqmg9        NaN       NaN   \n",
       "2  @BesacTof @Leonid_CCCP Tu dois t'engager en si...        NaN       NaN   \n",
       "3  @Mno0or_Abyat اشوف مظاهرات على قانون العمل الج...        NaN       NaN   \n",
       "4  Greek night #geneve (@ Emilios in Genève) http...    6.14414   46.1966   \n",
       "\n",
       "            placeId     inReplyTo  source truncated placeLatitude  \\\n",
       "0  51c0e6b24c64e54e           NaN     1.0       NaN       46.0027   \n",
       "1  4e7c21fd2af027c6           NaN     1.0       NaN       46.8131   \n",
       "2  12eb9b254faf37a3  7.765221e+17     5.0       NaN        47.201   \n",
       "3  30bcd7f767b4041e  7.765216e+17     1.0       NaN       45.8011   \n",
       "4  c3a6437e1b1a726d           NaN     3.0       NaN       46.2048   \n",
       "\n",
       "  placeLongitude           sourceName                              sourceUrl  \\\n",
       "0        8.96044   Twitter for iPhone  http://twitter.com/#!/download/iphone   \n",
       "1        8.22414   Twitter for iPhone  http://twitter.com/#!/download/iphone   \n",
       "2        5.94082  Twitter for Android    http://twitter.com/download/android   \n",
       "3        6.16552   Twitter for iPhone  http://twitter.com/#!/download/iphone   \n",
       "4        6.14319           foursquare                  http://foursquare.com   \n",
       "\n",
       "          userName screenName followersCount  friendsCount  statusesCount  \\\n",
       "0  plvtone filiae.  hazel_chb            146         110.0        28621.0   \n",
       "1           samara   letisieg            755        2037.0         3771.0   \n",
       "2        lebrübrü❤   lebrubru            811         595.0        30191.0   \n",
       "3   عبدالله القنيص   bingnais          28433         417.0        12262.0   \n",
       "4      Alkan Şenli   Alkanoli            204         172.0         3390.0   \n",
       "\n",
       "         userLocation  \n",
       "0           Earleen.   \n",
       "1              Suisse  \n",
       "2             Fontain  \n",
       "3           Shargeyah  \n",
       "4  İstanbul/Burgazada  "
      ]
     },
     "execution_count": 11,
     "metadata": {},
     "output_type": "execute_result"
    }
   ],
   "source": [
    "twitter_df.head()"
   ]
  },
  {
   "cell_type": "markdown",
   "metadata": {},
   "source": [
    "We immediatly see the following things:\n",
    "\n",
    "- longitude/latitude are often nan, this is note the case for the place_ equivalent\n",
    "- userLocation contains places outside of Switzerland\n",
    "- there are a lot of different languages present in the dataset\n",
    "\n",
    "We look at bit more closely at the nan values:"
   ]
  },
  {
   "cell_type": "code",
   "execution_count": 12,
   "metadata": {},
   "outputs": [
    {
     "data": {
      "text/plain": [
       "id                  11\n",
       "userId            1032\n",
       "createdAt         1032\n",
       "text               609\n",
       "longitude         8541\n",
       "latitude          7928\n",
       "placeId           1902\n",
       "inReplyTo         6973\n",
       "source            1209\n",
       "truncated         9306\n",
       "placeLatitude     1209\n",
       "placeLongitude    1273\n",
       "sourceName        1209\n",
       "sourceUrl         1209\n",
       "userName          1246\n",
       "screenName        1209\n",
       "followersCount    1290\n",
       "friendsCount      1902\n",
       "statusesCount     1902\n",
       "userLocation      3541\n",
       "dtype: int64"
      ]
     },
     "execution_count": 12,
     "metadata": {},
     "output_type": "execute_result"
    }
   ],
   "source": [
    "twitter_df.isnull().sum()"
   ]
  },
  {
   "cell_type": "markdown",
   "metadata": {},
   "source": [
    "- longtiude/latitude contains a lot of nan values\n",
    "- this is not the case for placeLatitude/placeLongitude, but still 10% nan\n",
    "- we have Nans in every column, we would have to remove these"
   ]
  },
  {
   "cell_type": "markdown",
   "metadata": {},
   "source": [
    "As natural language processing methods are at the heart of our project, knowing which language is used in a tweet is essential.\n",
    "\n",
    "We thus tried to find a way to detect language in a tweet. The langdetect library provides this functionality by making calls to the google translate api."
   ]
  },
  {
   "cell_type": "code",
   "execution_count": 8,
   "metadata": {},
   "outputs": [],
   "source": [
    "from langdetect import detect"
   ]
  },
  {
   "cell_type": "markdown",
   "metadata": {},
   "source": [
    "we try to apply this to the sample set and get an error:"
   ]
  },
  {
   "cell_type": "code",
   "execution_count": 9,
   "metadata": {},
   "outputs": [
    {
     "ename": "LangDetectException",
     "evalue": "No features in text.",
     "output_type": "error",
     "traceback": [
      "\u001b[0;31m---------------------------------------------------------------------------\u001b[0m",
      "\u001b[0;31mLangDetectException\u001b[0m                       Traceback (most recent call last)",
      "\u001b[0;32m<ipython-input-9-680979fbbbbe>\u001b[0m in \u001b[0;36m<module>\u001b[0;34m()\u001b[0m\n\u001b[1;32m      1\u001b[0m \u001b[0;31m#we try to get the distribution of the languages in the tweets\u001b[0m\u001b[0;34m\u001b[0m\u001b[0;34m\u001b[0m\u001b[0m\n\u001b[0;32m----> 2\u001b[0;31m \u001b[0mtwitter_df\u001b[0m\u001b[0;34m[\u001b[0m\u001b[0;34m'text'\u001b[0m\u001b[0;34m]\u001b[0m\u001b[0;34m.\u001b[0m\u001b[0mmap\u001b[0m\u001b[0;34m(\u001b[0m\u001b[0mdetect\u001b[0m\u001b[0;34m)\u001b[0m\u001b[0;34m.\u001b[0m\u001b[0mvalue_counts\u001b[0m\u001b[0;34m(\u001b[0m\u001b[0;34m)\u001b[0m\u001b[0;34m\u001b[0m\u001b[0m\n\u001b[0m",
      "\u001b[0;32m~/anaconda/lib/python3.6/site-packages/pandas/core/series.py\u001b[0m in \u001b[0;36mmap\u001b[0;34m(self, arg, na_action)\u001b[0m\n\u001b[1;32m   2156\u001b[0m         \u001b[0;32melse\u001b[0m\u001b[0;34m:\u001b[0m\u001b[0;34m\u001b[0m\u001b[0m\n\u001b[1;32m   2157\u001b[0m             \u001b[0;31m# arg is a function\u001b[0m\u001b[0;34m\u001b[0m\u001b[0;34m\u001b[0m\u001b[0m\n\u001b[0;32m-> 2158\u001b[0;31m             \u001b[0mnew_values\u001b[0m \u001b[0;34m=\u001b[0m \u001b[0mmap_f\u001b[0m\u001b[0;34m(\u001b[0m\u001b[0mvalues\u001b[0m\u001b[0;34m,\u001b[0m \u001b[0marg\u001b[0m\u001b[0;34m)\u001b[0m\u001b[0;34m\u001b[0m\u001b[0m\n\u001b[0m\u001b[1;32m   2159\u001b[0m \u001b[0;34m\u001b[0m\u001b[0m\n\u001b[1;32m   2160\u001b[0m         return self._constructor(new_values,\n",
      "\u001b[0;32mpandas/_libs/src/inference.pyx\u001b[0m in \u001b[0;36mpandas._libs.lib.map_infer (pandas/_libs/lib.c:66440)\u001b[0;34m()\u001b[0m\n",
      "\u001b[0;32m~/anaconda/lib/python3.6/site-packages/langdetect/detector_factory.py\u001b[0m in \u001b[0;36mdetect\u001b[0;34m(text)\u001b[0m\n\u001b[1;32m    128\u001b[0m     \u001b[0mdetector\u001b[0m \u001b[0;34m=\u001b[0m \u001b[0m_factory\u001b[0m\u001b[0;34m.\u001b[0m\u001b[0mcreate\u001b[0m\u001b[0;34m(\u001b[0m\u001b[0;34m)\u001b[0m\u001b[0;34m\u001b[0m\u001b[0m\n\u001b[1;32m    129\u001b[0m     \u001b[0mdetector\u001b[0m\u001b[0;34m.\u001b[0m\u001b[0mappend\u001b[0m\u001b[0;34m(\u001b[0m\u001b[0mtext\u001b[0m\u001b[0;34m)\u001b[0m\u001b[0;34m\u001b[0m\u001b[0m\n\u001b[0;32m--> 130\u001b[0;31m     \u001b[0;32mreturn\u001b[0m \u001b[0mdetector\u001b[0m\u001b[0;34m.\u001b[0m\u001b[0mdetect\u001b[0m\u001b[0;34m(\u001b[0m\u001b[0;34m)\u001b[0m\u001b[0;34m\u001b[0m\u001b[0m\n\u001b[0m\u001b[1;32m    131\u001b[0m \u001b[0;34m\u001b[0m\u001b[0m\n\u001b[1;32m    132\u001b[0m \u001b[0;34m\u001b[0m\u001b[0m\n",
      "\u001b[0;32m~/anaconda/lib/python3.6/site-packages/langdetect/detector.py\u001b[0m in \u001b[0;36mdetect\u001b[0;34m(self)\u001b[0m\n\u001b[1;32m    134\u001b[0m         \u001b[0mwhich\u001b[0m \u001b[0mhas\u001b[0m \u001b[0mthe\u001b[0m \u001b[0mhighest\u001b[0m \u001b[0mprobability\u001b[0m\u001b[0;34m.\u001b[0m\u001b[0;34m\u001b[0m\u001b[0m\n\u001b[1;32m    135\u001b[0m         '''\n\u001b[0;32m--> 136\u001b[0;31m         \u001b[0mprobabilities\u001b[0m \u001b[0;34m=\u001b[0m \u001b[0mself\u001b[0m\u001b[0;34m.\u001b[0m\u001b[0mget_probabilities\u001b[0m\u001b[0;34m(\u001b[0m\u001b[0;34m)\u001b[0m\u001b[0;34m\u001b[0m\u001b[0m\n\u001b[0m\u001b[1;32m    137\u001b[0m         \u001b[0;32mif\u001b[0m \u001b[0mprobabilities\u001b[0m\u001b[0;34m:\u001b[0m\u001b[0;34m\u001b[0m\u001b[0m\n\u001b[1;32m    138\u001b[0m             \u001b[0;32mreturn\u001b[0m \u001b[0mprobabilities\u001b[0m\u001b[0;34m[\u001b[0m\u001b[0;36m0\u001b[0m\u001b[0;34m]\u001b[0m\u001b[0;34m.\u001b[0m\u001b[0mlang\u001b[0m\u001b[0;34m\u001b[0m\u001b[0m\n",
      "\u001b[0;32m~/anaconda/lib/python3.6/site-packages/langdetect/detector.py\u001b[0m in \u001b[0;36mget_probabilities\u001b[0;34m(self)\u001b[0m\n\u001b[1;32m    141\u001b[0m     \u001b[0;32mdef\u001b[0m \u001b[0mget_probabilities\u001b[0m\u001b[0;34m(\u001b[0m\u001b[0mself\u001b[0m\u001b[0;34m)\u001b[0m\u001b[0;34m:\u001b[0m\u001b[0;34m\u001b[0m\u001b[0m\n\u001b[1;32m    142\u001b[0m         \u001b[0;32mif\u001b[0m \u001b[0mself\u001b[0m\u001b[0;34m.\u001b[0m\u001b[0mlangprob\u001b[0m \u001b[0;32mis\u001b[0m \u001b[0;32mNone\u001b[0m\u001b[0;34m:\u001b[0m\u001b[0;34m\u001b[0m\u001b[0m\n\u001b[0;32m--> 143\u001b[0;31m             \u001b[0mself\u001b[0m\u001b[0;34m.\u001b[0m\u001b[0m_detect_block\u001b[0m\u001b[0;34m(\u001b[0m\u001b[0;34m)\u001b[0m\u001b[0;34m\u001b[0m\u001b[0m\n\u001b[0m\u001b[1;32m    144\u001b[0m         \u001b[0;32mreturn\u001b[0m \u001b[0mself\u001b[0m\u001b[0;34m.\u001b[0m\u001b[0m_sort_probability\u001b[0m\u001b[0;34m(\u001b[0m\u001b[0mself\u001b[0m\u001b[0;34m.\u001b[0m\u001b[0mlangprob\u001b[0m\u001b[0;34m)\u001b[0m\u001b[0;34m\u001b[0m\u001b[0m\n\u001b[1;32m    145\u001b[0m \u001b[0;34m\u001b[0m\u001b[0m\n",
      "\u001b[0;32m~/anaconda/lib/python3.6/site-packages/langdetect/detector.py\u001b[0m in \u001b[0;36m_detect_block\u001b[0;34m(self)\u001b[0m\n\u001b[1;32m    148\u001b[0m         \u001b[0mngrams\u001b[0m \u001b[0;34m=\u001b[0m \u001b[0mself\u001b[0m\u001b[0;34m.\u001b[0m\u001b[0m_extract_ngrams\u001b[0m\u001b[0;34m(\u001b[0m\u001b[0;34m)\u001b[0m\u001b[0;34m\u001b[0m\u001b[0m\n\u001b[1;32m    149\u001b[0m         \u001b[0;32mif\u001b[0m \u001b[0;32mnot\u001b[0m \u001b[0mngrams\u001b[0m\u001b[0;34m:\u001b[0m\u001b[0;34m\u001b[0m\u001b[0m\n\u001b[0;32m--> 150\u001b[0;31m             \u001b[0;32mraise\u001b[0m \u001b[0mLangDetectException\u001b[0m\u001b[0;34m(\u001b[0m\u001b[0mErrorCode\u001b[0m\u001b[0;34m.\u001b[0m\u001b[0mCantDetectError\u001b[0m\u001b[0;34m,\u001b[0m \u001b[0;34m'No features in text.'\u001b[0m\u001b[0;34m)\u001b[0m\u001b[0;34m\u001b[0m\u001b[0m\n\u001b[0m\u001b[1;32m    151\u001b[0m \u001b[0;34m\u001b[0m\u001b[0m\n\u001b[1;32m    152\u001b[0m         \u001b[0mself\u001b[0m\u001b[0;34m.\u001b[0m\u001b[0mlangprob\u001b[0m \u001b[0;34m=\u001b[0m \u001b[0;34m[\u001b[0m\u001b[0;36m0.0\u001b[0m\u001b[0;34m]\u001b[0m \u001b[0;34m*\u001b[0m \u001b[0mlen\u001b[0m\u001b[0;34m(\u001b[0m\u001b[0mself\u001b[0m\u001b[0;34m.\u001b[0m\u001b[0mlanglist\u001b[0m\u001b[0;34m)\u001b[0m\u001b[0;34m\u001b[0m\u001b[0m\n",
      "\u001b[0;31mLangDetectException\u001b[0m: No features in text."
     ]
    }
   ],
   "source": [
    "#we try to get the distribution of the languages in the tweets\n",
    "twitter_df['text'].map(detect).value_counts()"
   ]
  },
  {
   "cell_type": "markdown",
   "metadata": {},
   "source": [
    "The issue is that some tweets contain no language or language usable for the classification. We thus have to first remove the tweets containing these values"
   ]
  },
  {
   "cell_type": "code",
   "execution_count": 33,
   "metadata": {},
   "outputs": [],
   "source": [
    "twitter_df['text'] = twitter_df['text'].astype(str)\n",
    "twitter_df.text.dropna() #remove NaNs\n",
    "twitter_df.text = twitter_df.text.str.replace('http\\S+|www.\\S+', '', case=False)#remove website\n",
    "twitter_df.text = twitter_df.text.str.replace('@\\S+|via', '', case=False)#remove @ and via\n",
    "twitter_df.text = twitter_df.text.str.replace('\\((.+?)\\)', '', case=False)#remove content in ()\n",
    "twitter_df.text = twitter_df.text.str.replace('([^\\s\\w]|_)+','', case=False)#remove non alphanumeric (needed for language dec)\n",
    "twitter_df = twitter_df[twitter_df.text.map(lambda x: len(x)) > 0 ] #remove empty strings"
   ]
  },
  {
   "cell_type": "code",
   "execution_count": 18,
   "metadata": {},
   "outputs": [],
   "source": [
    "twitter_df.text = twitter_df.text[twitter_df.text.map(lambda x:any(c.isalpha() for c in x))]"
   ]
  },
  {
   "cell_type": "code",
   "execution_count": 38,
   "metadata": {},
   "outputs": [
    {
     "data": {
      "text/plain": [
       "en    2284\n",
       "fr    1682\n",
       "de    1148\n",
       "tl     950\n",
       "it     751\n",
       "ar     389\n",
       "pt     385\n",
       "cy     324\n",
       "es     315\n",
       "ca     254\n",
       "tr     216\n",
       "so     122\n",
       "nl     106\n",
       "id     102\n",
       "ja      79\n",
       "af      75\n",
       "ru      70\n",
       "da      53\n",
       "et      48\n",
       "fi      46\n",
       "sv      45\n",
       "no      45\n",
       "ro      43\n",
       "vi      43\n",
       "pl      27\n",
       "sl      25\n",
       "hu      24\n",
       "hr      22\n",
       "fa      20\n",
       "lv      17\n",
       "sk      17\n",
       "sq      17\n",
       "sw      16\n",
       "th      16\n",
       "lt      13\n",
       "mk      10\n",
       "bg       4\n",
       "uk       3\n",
       "cs       3\n",
       "el       2\n",
       "ur       2\n",
       "ko       2\n",
       "he       1\n",
       "Name: text, dtype: int64"
      ]
     },
     "execution_count": 38,
     "metadata": {},
     "output_type": "execute_result"
    }
   ],
   "source": [
    "twitter_df['text'].map(detect).value_counts()"
   ]
  },
  {
   "cell_type": "markdown",
   "metadata": {},
   "source": [
    "We can get a sense of the overall distribution of languages in the dataset.\n",
    "We see that the majority of tweets is either english, french or german.\n",
    "\n",
    "We note that there is a small issue with the accuracy of detection, sometimes swiss german gets categorized as something other than german:"
   ]
  },
  {
   "cell_type": "code",
   "execution_count": 40,
   "metadata": {},
   "outputs": [
    {
     "data": {
      "text/plain": [
       "'af'"
      ]
     },
     "execution_count": 40,
     "metadata": {},
     "output_type": "execute_result"
    }
   ],
   "source": [
    "detect('wie gahts dir') #How are you"
   ]
  },
  {
   "cell_type": "markdown",
   "metadata": {},
   "source": [
    "We see that this sentence is categorized as afrikaans"
   ]
  },
  {
   "cell_type": "markdown",
   "metadata": {},
   "source": [
    "## moving to spark\n",
    "\n",
    "We also looked into how we could read this in spark:"
   ]
  },
  {
   "cell_type": "code",
   "execution_count": null,
   "metadata": {},
   "outputs": [],
   "source": [
    "sc = SparkContext('local', 'pyspark')\n",
    "sqlContext = SQLContext(sc)"
   ]
  },
  {
   "cell_type": "code",
   "execution_count": 8,
   "metadata": {
    "collapsed": true
   },
   "outputs": [],
   "source": [
    "df = sqlContext.read.format('com.databricks.spark.csv')\n",
    "    .option(\"delimiter\", \"\\t\")\n",
    "    .options(header='false')\n",
    "    .load('twitter-swisscom/sample.tsv')"
   ]
  },
  {
   "cell_type": "code",
   "execution_count": 9,
   "metadata": {},
   "outputs": [
    {
     "name": "stdout",
     "output_type": "stream",
     "text": [
      "+------------------+------------------+-------------------+--------------------------------------------------------------------------------------------------------------------------------------+---+---+----------------+------------------+---+---+-------+-------+-------------------+-------------------------------------+---------------+---------+-----+----+-----+---------+\n",
      "|_c0               |_c1               |_c2                |_c3                                                                                                                                   |_c4|_c5|_c6             |_c7               |_c8|_c9|_c10   |_c11   |_c12               |_c13                                 |_c14           |_c15     |_c16 |_c17|_c18 |_c19     |\n",
      "+------------------+------------------+-------------------+--------------------------------------------------------------------------------------------------------------------------------------+---+---+----------------+------------------+---+---+-------+-------+-------------------+-------------------------------------+---------------+---------+-----+----+-----+---------+\n",
      "|776522983837954049|735449229028675584|2016-09-15 20:48:01|se lo dici tu... https://t.co/x7Qm1VHBKL                                                                                              |\\N |\\N |51c0e6b24c64e54e|\\N                |1  |\u0000  |46.0027|8.96044|Twitter for iPhone |http://twitter.com/#!/download/iphone|plvtone filiae.|hazel_chb|146  |110 |28621|Earleen. |\n",
      "|776523000636203010|2741685639        |2016-09-15 20:48:05|https://t.co/noYrTnqmg9                                                                                                               |\\N |\\N |4e7c21fd2af027c6|\\N                |1  |\u0000  |46.8131|8.22414|Twitter for iPhone |http://twitter.com/#!/download/iphone|samara         |letisieg |755  |2037|3771 |Suisse   |\n",
      "|776523045200691200|435239151         |2016-09-15 20:48:15|@BesacTof @Leonid_CCCP Tu dois t'engager en signant précisément:\"Je partage les valeurs républicaines de la droite et du centre 1/2...|\\N |\\N |12eb9b254faf37a3|776522113859608576|5  |\u0000  |47.201 |5.94082|Twitter for Android|http://twitter.com/download/android  |lebrübrü❤      |lebrubru |811  |595 |30191|Fontain  |\n",
      "|776523058404290560|503244217         |2016-09-15 20:48:18|@Mno0or_Abyat اشوف مظاهرات على قانون العمل الجديد انا طلعت الصباح من هناك مافيه شي بس اشوف الأخبار قبل شوي المشكلة راجع بعد يومين !!  |\\N |\\N |30bcd7f767b4041e|776521597515624448|1  |\u0000  |45.8011|6.16552|Twitter for iPhone |http://twitter.com/#!/download/iphone|عبدالله القنيص |bingnais |28433|417 |12262|Shargeyah|\n",
      "+------------------+------------------+-------------------+--------------------------------------------------------------------------------------------------------------------------------------+---+---+----------------+------------------+---+---+-------+-------+-------------------+-------------------------------------+---------------+---------+-----+----+-----+---------+\n",
      "only showing top 4 rows\n",
      "\n"
     ]
    }
   ],
   "source": [
    "df.show(n=4, truncate=False)"
   ]
  }
 ],
 "metadata": {
  "anaconda-cloud": {},
  "kernelspec": {
   "display_name": "Python [conda root]",
   "language": "python",
   "name": "conda-root-py"
  },
  "language_info": {
   "codemirror_mode": {
    "name": "ipython",
    "version": 3
   },
   "file_extension": ".py",
   "mimetype": "text/x-python",
   "name": "python",
   "nbconvert_exporter": "python",
   "pygments_lexer": "ipython3",
   "version": "3.6.1"
  }
 },
 "nbformat": 4,
 "nbformat_minor": 2
}
