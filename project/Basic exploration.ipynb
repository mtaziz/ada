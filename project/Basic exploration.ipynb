{
 "cells": [
  {
   "cell_type": "code",
   "execution_count": null,
   "metadata": {},
   "outputs": [],
   "source": [
    "import numpy as np\n",
    "import pandas as pd\n",
    "import pyspark as ps"
   ]
  },
  {
   "cell_type": "code",
   "execution_count": null,
   "metadata": {},
   "outputs": [],
   "source": [
    "schema = pd.read_table('twitter-swisscom/schema.txt', header=None, delim_whitespace=True, index_col=0, names=['name', 'type', 'specification', '??', 'format'] )"
   ]
  },
  {
   "cell_type": "code",
   "execution_count": null,
   "metadata": {},
   "outputs": [],
   "source": [
    "schema"
   ]
  },
  {
   "cell_type": "code",
   "execution_count": null,
   "metadata": {},
   "outputs": [],
   "source": [
    "long_data = pd.read_table('twitter-swisscom/sample.tsv', \n",
    "              sep='\\t', engine='c', encoding='utf-8', nrows=9000, \n",
    "              header=None, names=schema.name, na_values='\\\\N')\n",
    "\n",
    "len(long_data['longitude'].dropna())"
   ]
  },
  {
   "cell_type": "code",
   "execution_count": null,
   "metadata": {},
   "outputs": [],
   "source": [
    "pd.read_table('twitter-swisscom/twex.tsv', \n",
    "              sep='\\t', engine='c', encoding='utf-8', \n",
    "              header=None, names=schema.name, na_values='\\\\N', nrows=9)"
   ]
  },
  {
   "cell_type": "code",
   "execution_count": null,
   "metadata": {},
   "outputs": [],
   "source": [
    "#spark.read.csv(\n",
    "#    \"twitter-swisscom/sample.tsv\", header=False, mode=\"DROPMALFORMED\", schema=schema)"
   ]
  },
  {
   "cell_type": "code",
   "execution_count": null,
   "metadata": {},
   "outputs": [],
   "source": [
    "from pyspark import SparkContext\n",
    "from pyspark.sql import SQLContext\n",
    "sc = SparkContext('local', 'pyspark')\n",
    "sqlContext = SQLContext(sc)"
   ]
  },
  {
   "cell_type": "code",
   "execution_count": null,
   "metadata": {},
   "outputs": [],
   "source": [
    "df = sqlContext.read.format('com.databricks.spark.csv').option(\"delimiter\", \"\\t\").options(header='false').load('twitter-swisscom/sample.tsv')"
   ]
  },
  {
   "cell_type": "code",
   "execution_count": null,
   "metadata": {},
   "outputs": [],
   "source": [
    "df.show(n=4, truncate=False)"
   ]
  },
  {
   "cell_type": "markdown",
   "metadata": {},
   "source": [
    "Question:\n",
    " - how do we deal with this in Spark uniquely.\n",
    " - we will have to prefilter, we can't load everything in frame anyway\n",
    " - so best do it in spark, but how? what code will enable us to do this, eg how do we deal with this in spark...as we have it distributed & need to read the tsv file...how will this work.\n",
    " - there should be a way to use the schema file to help..but how"
   ]
  }
 ],
 "metadata": {
  "anaconda-cloud": {},
  "kernelspec": {
   "display_name": "Python [conda root]",
   "language": "python",
   "name": "conda-root-py"
  },
  "language_info": {
   "codemirror_mode": {
    "name": "ipython",
    "version": 3
   },
   "file_extension": ".py",
   "mimetype": "text/x-python",
   "name": "python",
   "nbconvert_exporter": "python",
   "pygments_lexer": "ipython3",
   "version": "3.6.1"
  }
 },
 "nbformat": 4,
 "nbformat_minor": 2
}
