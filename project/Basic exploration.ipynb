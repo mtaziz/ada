{
 "cells": [
  {
   "cell_type": "code",
   "execution_count": 104,
   "metadata": {},
   "outputs": [],
   "source": [
    "import numpy as np\n",
    "import pandas as pd\n",
    "import pyspark as ps\n",
    "from langdetect import detect"
   ]
  },
  {
   "cell_type": "code",
   "execution_count": 2,
   "metadata": {},
   "outputs": [],
   "source": [
    "schema = pd.read_table('twitter-swisscom/schema.txt', header=None, delim_whitespace=True, index_col=0, names=['name', 'type', 'specification', '??', 'format'] )"
   ]
  },
  {
   "cell_type": "code",
   "execution_count": 106,
   "metadata": {},
   "outputs": [
    {
     "data": {
      "text/html": [
       "<div>\n",
       "<style>\n",
       "    .dataframe thead tr:only-child th {\n",
       "        text-align: right;\n",
       "    }\n",
       "\n",
       "    .dataframe thead th {\n",
       "        text-align: left;\n",
       "    }\n",
       "\n",
       "    .dataframe tbody tr th {\n",
       "        vertical-align: top;\n",
       "    }\n",
       "</style>\n",
       "<table border=\"1\" class=\"dataframe\">\n",
       "  <thead>\n",
       "    <tr style=\"text-align: right;\">\n",
       "      <th></th>\n",
       "      <th>name</th>\n",
       "      <th>type</th>\n",
       "      <th>specification</th>\n",
       "      <th>??</th>\n",
       "      <th>format</th>\n",
       "    </tr>\n",
       "  </thead>\n",
       "  <tbody>\n",
       "    <tr>\n",
       "      <th>1</th>\n",
       "      <td>id</td>\n",
       "      <td>bigint(20)</td>\n",
       "      <td>UNSIGNED</td>\n",
       "      <td>No</td>\n",
       "      <td>None</td>\n",
       "    </tr>\n",
       "    <tr>\n",
       "      <th>2</th>\n",
       "      <td>userId</td>\n",
       "      <td>bigint(20)</td>\n",
       "      <td>UNSIGNED</td>\n",
       "      <td>No</td>\n",
       "      <td>None</td>\n",
       "    </tr>\n",
       "    <tr>\n",
       "      <th>3</th>\n",
       "      <td>createdAt</td>\n",
       "      <td>timestamp</td>\n",
       "      <td>No</td>\n",
       "      <td>0000-00-00</td>\n",
       "      <td>00:00:00</td>\n",
       "    </tr>\n",
       "    <tr>\n",
       "      <th>4</th>\n",
       "      <td>text</td>\n",
       "      <td>text</td>\n",
       "      <td>utf8_unicode_ci</td>\n",
       "      <td>No</td>\n",
       "      <td>None</td>\n",
       "    </tr>\n",
       "    <tr>\n",
       "      <th>5</th>\n",
       "      <td>longitude</td>\n",
       "      <td>float</td>\n",
       "      <td>Yes</td>\n",
       "      <td>NaN</td>\n",
       "      <td>NaN</td>\n",
       "    </tr>\n",
       "  </tbody>\n",
       "</table>\n",
       "</div>"
      ],
      "text/plain": [
       "        name        type    specification          ??    format\n",
       "1         id  bigint(20)         UNSIGNED          No      None\n",
       "2     userId  bigint(20)         UNSIGNED          No      None\n",
       "3  createdAt   timestamp               No  0000-00-00  00:00:00\n",
       "4       text        text  utf8_unicode_ci          No      None\n",
       "5  longitude       float              Yes         NaN       NaN"
      ]
     },
     "execution_count": 106,
     "metadata": {},
     "output_type": "execute_result"
    }
   ],
   "source": [
    "schema.head()"
   ]
  },
  {
   "cell_type": "code",
   "execution_count": 143,
   "metadata": {},
   "outputs": [
    {
     "data": {
      "text/plain": [
       "1322"
      ]
     },
     "execution_count": 143,
     "metadata": {},
     "output_type": "execute_result"
    }
   ],
   "source": [
    "long_data = pd.read_table('twitter-swisscom/sample.tsv', \n",
    "              sep='\\t', engine='c', encoding='utf-8', nrows=9000, \n",
    "              header=None, names=schema.name, na_values=['\\\\N', 'nan'])\n",
    "\n",
    "len(long_data['longitude'].dropna())"
   ]
  },
  {
   "cell_type": "code",
   "execution_count": 502,
   "metadata": {},
   "outputs": [],
   "source": [
    "table = pd.read_table('twitter-swisscom/twex.tsv', \n",
    "              sep='\\t', engine='c', encoding='utf-8', \n",
    "              header=None, names=schema.name, na_values=['\\\\N', 'nan'], skiprows=21782062, nrows=1)\n",
    "table['text'] = table['text'].astype(str)\n",
    "table.text = table.text.str.replace('http\\S+|www.\\S+', '', case=False)#remove website\n",
    "table.text = table.text.str.replace('@\\S+|via', '', case=False)#remove @ and via\n",
    "table.text = table.text.str.replace('\\((.+?)\\)', '', case=False)#remove content in (\n",
    "table.text = table.text.str.replace('([^\\s\\w]|_)+','', case=False)#remove non alphanumeric (needed for language dec)\n",
    "#table.text.dropna(inplace=True)"
   ]
  },
  {
   "cell_type": "code",
   "execution_count": 421,
   "metadata": {},
   "outputs": [
    {
     "data": {
      "text/plain": [
       "0     traumfinal                                  \n",
       "1    Sponsorentreffen twittboat                   \n",
       "2     12 oder 13 aber ist keine zuverlässige info \n",
       "3    Und wie RT  Proud ger wc2010                 \n",
       "4    RT  RT  RT                                   \n",
       "Name: text, dtype: object"
      ]
     },
     "execution_count": 421,
     "metadata": {},
     "output_type": "execute_result"
    }
   ],
   "source": [
    "pd.set_option('display.max_colwidth', -1)"
   ]
  },
  {
   "cell_type": "markdown",
   "metadata": {},
   "source": [
    "remove all websites from string as this hinders detection.\n",
    "then only check for tweets that still contain aphabetic characters, others are spam anyway"
   ]
  },
  {
   "cell_type": "code",
   "execution_count": 469,
   "metadata": {},
   "outputs": [
    {
     "data": {
      "text/plain": [
       "Series([], Name: text, dtype: int64)"
      ]
     },
     "execution_count": 469,
     "metadata": {},
     "output_type": "execute_result"
    }
   ],
   "source": [
    "table.text[table.text.map(lambda x:any(c.isalpha() for c in x))].map(detect).value_counts()"
   ]
  },
  {
   "cell_type": "code",
   "execution_count": null,
   "metadata": {},
   "outputs": [],
   "source": [
    "table.text.where(lambda x: any(c.isalpha() for c in x))"
   ]
  },
  {
   "cell_type": "code",
   "execution_count": 503,
   "metadata": {},
   "outputs": [
    {
     "data": {
      "text/plain": [
       "0    Bye bye la France \n",
       "Name: text, dtype: object"
      ]
     },
     "execution_count": 503,
     "metadata": {},
     "output_type": "execute_result"
    }
   ],
   "source": [
    "table.text"
   ]
  },
  {
   "cell_type": "code",
   "execution_count": 6,
   "metadata": {},
   "outputs": [],
   "source": [
    "from pyspark import SparkContext\n",
    "from pyspark.sql import SQLContext\n",
    "sc = SparkContext('local', 'pyspark')\n",
    "sqlContext = SQLContext(sc)"
   ]
  },
  {
   "cell_type": "code",
   "execution_count": 29,
   "metadata": {},
   "outputs": [],
   "source": [
    "df = sqlContext.read.format('com.databricks.spark.csv')\\\n",
    ".option(\"delimiter\", \"\\t\").options(header='false')\\\n",
    ".load('twitter-swisscom/twex.tsv')"
   ]
  },
  {
   "cell_type": "code",
   "execution_count": 13,
   "metadata": {},
   "outputs": [
    {
     "data": {
      "text/plain": [
       "20"
      ]
     },
     "execution_count": 13,
     "metadata": {},
     "output_type": "execute_result"
    }
   ],
   "source": [
    "len(df.columns)"
   ]
  },
  {
   "cell_type": "markdown",
   "metadata": {},
   "source": [
    "Question:\n",
    " - how do we deal with this in Spark uniquely.\n",
    " - we will have to prefilter, we can't load everything in frame anyway\n",
    " - so best do it in spark, but how? what code will enable us to do this, eg how do we deal with this in spark...as we have it distributed & need to read the tsv file...how will this work.\n",
    " - there should be a way to use the schema file to help..but how"
   ]
  },
  {
   "cell_type": "markdown",
   "metadata": {},
   "source": [
    "verify longitude, latitude non nan\n",
    "remove userLocation -> is useless\n",
    "remove sourceUrl\n",
    "remove userName/screenName\n",
    "remove sourceName\n",
    "remove placeLatitude\n",
    "remove placeLongitude\n",
    "\n",
    "where is the sentiment analysis?\n"
   ]
  },
  {
   "cell_type": "code",
   "execution_count": null,
   "metadata": {},
   "outputs": [],
   "source": [
    "#spark.read.csv(\n",
    "#    \"twitter-swisscom/sample.tsv\", header=False, mode=\"DROPMALFORMED\", schema=schema)"
   ]
  }
 ],
 "metadata": {
  "anaconda-cloud": {},
  "kernelspec": {
   "display_name": "Python [conda root]",
   "language": "python",
   "name": "conda-root-py"
  },
  "language_info": {
   "codemirror_mode": {
    "name": "ipython",
    "version": 3
   },
   "file_extension": ".py",
   "mimetype": "text/x-python",
   "name": "python",
   "nbconvert_exporter": "python",
   "pygments_lexer": "ipython3",
   "version": "3.6.1"
  }
 },
 "nbformat": 4,
 "nbformat_minor": 2
}
