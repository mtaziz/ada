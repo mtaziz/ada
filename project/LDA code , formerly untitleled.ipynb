{
 "cells": [
  {
   "cell_type": "code",
   "execution_count": 41,
   "metadata": {},
   "outputs": [
    {
     "name": "stderr",
     "output_type": "stream",
     "text": [
      "/Users/lguillain/anaconda/lib/python3.6/site-packages/scipy/sparse/sparsetools.py:20: DeprecationWarning: `scipy.sparse.sparsetools` is deprecated!\n",
      "scipy.sparse.sparsetools is a private module for scipy.sparse, and should not be used.\n",
      "  _deprecated()\n"
     ]
    }
   ],
   "source": [
    "import numpy as np\n",
    "import pandas as pd\n",
    "import pyspark as ps\n",
    "import matplotlib.pyplot as plt\n",
    "import csv\n",
    "\n",
    "import unicodedata\n",
    "\n",
    "from nltk.tokenize import word_tokenize, TweetTokenizer\n",
    "from nltk.corpus import stopwords\n",
    "from nltk.stem.snowball import SnowballStemmer\n",
    "\n",
    "from gensim import corpora, models\n",
    "\n",
    "import pyLDAvis.gensim"
   ]
  },
  {
   "cell_type": "code",
   "execution_count": 2,
   "metadata": {
    "collapsed": true
   },
   "outputs": [],
   "source": [
    "df = pd.read_json('reduced_tweets.json', lines=True)"
   ]
  },
  {
   "cell_type": "markdown",
   "metadata": {},
   "source": [
    "## Necessary data processing:"
   ]
  },
  {
   "cell_type": "markdown",
   "metadata": {},
   "source": [
    "Different languages have different pattern but no difference betweet mental illness related tweets and unrelated tweets can be found"
   ]
  },
  {
   "cell_type": "code",
   "execution_count": null,
   "metadata": {
    "collapsed": true
   },
   "outputs": [],
   "source": [
    "#this might be a dumb idea in retrospect. we need to keep èä to use stop word removal effectivley\n",
    "# df['main'] = df['main'].astype(str).str.lower().\\\n",
    "#                     apply(lambda tweet: unicodedata.normalize('NFD', tweet).\\\n",
    "#                     encode('ascii', 'ignore').decode('utf-8'))\n",
    "# df['main'] = df['main'].str.replace(r'[^\\w\\s]', '')\n",
    "# df['main'].head()"
   ]
  },
  {
   "cell_type": "markdown",
   "metadata": {},
   "source": [
    "Why we should use the tweets tokenizer:"
   ]
  },
  {
   "cell_type": "code",
   "execution_count": 11,
   "metadata": {},
   "outputs": [
    {
     "data": {
      "text/plain": [
       "['mir', 'gahts', 'so', 'so', 'lala', 'lol', '!', '!', 'merd', ':', 'X', ':D']"
      ]
     },
     "execution_count": 11,
     "metadata": {},
     "output_type": "execute_result"
    }
   ],
   "source": [
    "tknzr = TweetTokenizer()\n",
    "tknzr.tokenize('mir gahts so so lala lol!! merd:X :D')"
   ]
  },
  {
   "cell_type": "code",
   "execution_count": 10,
   "metadata": {},
   "outputs": [
    {
     "data": {
      "text/plain": [
       "['mir', 'gahts', 'so', 'so', 'lala', 'lol!!', ':D']"
      ]
     },
     "execution_count": 10,
     "metadata": {},
     "output_type": "execute_result"
    }
   ],
   "source": [
    "'mir gahts so so lala lol!! :D'.split()"
   ]
  },
  {
   "cell_type": "code",
   "execution_count": 12,
   "metadata": {
    "collapsed": true
   },
   "outputs": [],
   "source": [
    "tokenized = df['main'].map(lambda x: tknzr.tokenize(x))"
   ]
  },
  {
   "cell_type": "code",
   "execution_count": 13,
   "metadata": {
    "collapsed": true
   },
   "outputs": [],
   "source": [
    "#tokenized.to_pickle('tokenized_strings.pkl')\n",
    "#save time and read from this pkl"
   ]
  },
  {
   "cell_type": "code",
   "execution_count": 14,
   "metadata": {
    "collapsed": true
   },
   "outputs": [],
   "source": [
    "# df['split'] = df['main'].str.split()\n",
    "df['tokenized'] = tokenized"
   ]
  },
  {
   "cell_type": "code",
   "execution_count": 16,
   "metadata": {
    "collapsed": true
   },
   "outputs": [],
   "source": [
    "def remove_stops(language, cleaned, frame):\n",
    "    lang = language[:2]\n",
    "    if language == 'german':\n",
    "        lang = 'de'\n",
    "    lang_set = stopwords.words(language)\n",
    "    cleaned.loc[cleaned['lang'] == lang, frame] = cleaned.loc[cleaned['lang'] == lang, frame].\\\n",
    "        apply(lambda tweet: [word for word in tweet if word not in lang_set])"
   ]
  },
  {
   "cell_type": "code",
   "execution_count": 17,
   "metadata": {
    "collapsed": true
   },
   "outputs": [],
   "source": [
    "remove_stops('english', df, 'tokenized')\n",
    "remove_stops('french', df, 'tokenized')\n",
    "remove_stops('german', df, 'tokenized')"
   ]
  },
  {
   "cell_type": "code",
   "execution_count": 18,
   "metadata": {
    "scrolled": false
   },
   "outputs": [
    {
     "data": {
      "text/html": [
       "<div>\n",
       "<style>\n",
       "    .dataframe thead tr:only-child th {\n",
       "        text-align: right;\n",
       "    }\n",
       "\n",
       "    .dataframe thead th {\n",
       "        text-align: left;\n",
       "    }\n",
       "\n",
       "    .dataframe tbody tr th {\n",
       "        vertical-align: top;\n",
       "    }\n",
       "</style>\n",
       "<table border=\"1\" class=\"dataframe\">\n",
       "  <thead>\n",
       "    <tr style=\"text-align: right;\">\n",
       "      <th></th>\n",
       "      <th>author_gender</th>\n",
       "      <th>lang</th>\n",
       "      <th>main</th>\n",
       "      <th>published</th>\n",
       "      <th>sentiment</th>\n",
       "      <th>source_followers</th>\n",
       "      <th>source_following</th>\n",
       "      <th>source_location</th>\n",
       "      <th>source_spam_probability</th>\n",
       "      <th>tags</th>\n",
       "      <th>tokenized</th>\n",
       "    </tr>\n",
       "  </thead>\n",
       "  <tbody>\n",
       "    <tr>\n",
       "      <th>0</th>\n",
       "      <td>FEMALE</td>\n",
       "      <td>fr</td>\n",
       "      <td>en espérant que 2016 soit meilleur que 2015 qu...</td>\n",
       "      <td>2016-01-01T00:30:04Z</td>\n",
       "      <td>NEUTRAL</td>\n",
       "      <td>80</td>\n",
       "      <td>140</td>\n",
       "      <td>Saint-Maurice</td>\n",
       "      <td>0</td>\n",
       "      <td>NaN</td>\n",
       "      <td>[espérant, 2016, meilleur, 2015, quand]</td>\n",
       "    </tr>\n",
       "    <tr>\n",
       "      <th>1</th>\n",
       "      <td>UNKNOWN</td>\n",
       "      <td>en</td>\n",
       "      <td>nice bmw ...he kills ant s!!!</td>\n",
       "      <td>2016-01-01T12:12:33Z</td>\n",
       "      <td>NEUTRAL</td>\n",
       "      <td>79</td>\n",
       "      <td>196</td>\n",
       "      <td>Hinwil</td>\n",
       "      <td>0</td>\n",
       "      <td>NaN</td>\n",
       "      <td>[nice, bmw, ..., kills, ant, !, !, !]</td>\n",
       "    </tr>\n",
       "    <tr>\n",
       "      <th>2</th>\n",
       "      <td>MALE</td>\n",
       "      <td>de</td>\n",
       "      <td>ich hab nichts dagegen, wenn mir andere beim...</td>\n",
       "      <td>2016-01-01T19:52:15Z</td>\n",
       "      <td>NEUTRAL</td>\n",
       "      <td>479</td>\n",
       "      <td>783</td>\n",
       "      <td>Schenkon</td>\n",
       "      <td>0</td>\n",
       "      <td>NaN</td>\n",
       "      <td>[dagegen, ,, beim, saufen, zuschauen, ,, solan...</td>\n",
       "    </tr>\n",
       "    <tr>\n",
       "      <th>3</th>\n",
       "      <td>UNKNOWN</td>\n",
       "      <td>en</td>\n",
       "      <td>happy new jear!!!! i am back from 2 weeks cuba...</td>\n",
       "      <td>2016-01-01T11:58:03Z</td>\n",
       "      <td>NEUTRAL</td>\n",
       "      <td>79</td>\n",
       "      <td>196</td>\n",
       "      <td>Hinwil</td>\n",
       "      <td>0</td>\n",
       "      <td>NaN</td>\n",
       "      <td>[happy, new, jear, !, !, !, back, 2, weeks, cu...</td>\n",
       "    </tr>\n",
       "    <tr>\n",
       "      <th>4</th>\n",
       "      <td>UNKNOWN</td>\n",
       "      <td>fr</td>\n",
       "      <td>bonne année à toi je prends beaucoup de plai...</td>\n",
       "      <td>2016-01-01T06:17:28Z</td>\n",
       "      <td>NEUTRAL</td>\n",
       "      <td>75</td>\n",
       "      <td>984</td>\n",
       "      <td>Bâle</td>\n",
       "      <td>0</td>\n",
       "      <td>NaN</td>\n",
       "      <td>[bonne, année, prends, beaucoup, plaisir, suiv...</td>\n",
       "    </tr>\n",
       "  </tbody>\n",
       "</table>\n",
       "</div>"
      ],
      "text/plain": [
       "  author_gender lang                                               main  \\\n",
       "0        FEMALE   fr  en espérant que 2016 soit meilleur que 2015 qu...   \n",
       "1       UNKNOWN   en                    nice bmw ...he kills ant s!!!     \n",
       "2          MALE   de    ich hab nichts dagegen, wenn mir andere beim...   \n",
       "3       UNKNOWN   en  happy new jear!!!! i am back from 2 weeks cuba...   \n",
       "4       UNKNOWN   fr    bonne année à toi je prends beaucoup de plai...   \n",
       "\n",
       "              published sentiment  source_followers  source_following  \\\n",
       "0  2016-01-01T00:30:04Z   NEUTRAL                80               140   \n",
       "1  2016-01-01T12:12:33Z   NEUTRAL                79               196   \n",
       "2  2016-01-01T19:52:15Z   NEUTRAL               479               783   \n",
       "3  2016-01-01T11:58:03Z   NEUTRAL                79               196   \n",
       "4  2016-01-01T06:17:28Z   NEUTRAL                75               984   \n",
       "\n",
       "  source_location  source_spam_probability tags  \\\n",
       "0   Saint-Maurice                        0  NaN   \n",
       "1          Hinwil                        0  NaN   \n",
       "2        Schenkon                        0  NaN   \n",
       "3          Hinwil                        0  NaN   \n",
       "4            Bâle                        0  NaN   \n",
       "\n",
       "                                           tokenized  \n",
       "0            [espérant, 2016, meilleur, 2015, quand]  \n",
       "1              [nice, bmw, ..., kills, ant, !, !, !]  \n",
       "2  [dagegen, ,, beim, saufen, zuschauen, ,, solan...  \n",
       "3  [happy, new, jear, !, !, !, back, 2, weeks, cu...  \n",
       "4  [bonne, année, prends, beaucoup, plaisir, suiv...  "
      ]
     },
     "execution_count": 18,
     "metadata": {},
     "output_type": "execute_result"
    }
   ],
   "source": [
    "df.head()"
   ]
  },
  {
   "cell_type": "code",
   "execution_count": 19,
   "metadata": {
    "collapsed": true
   },
   "outputs": [],
   "source": [
    "def stem_words(language, cleaned, frame):\n",
    "    lang = language[:2]\n",
    "    if language == 'german':\n",
    "        lang = 'de'\n",
    "    \n",
    "    stemmer = SnowballStemmer(language)\n",
    "        \n",
    "    cleaned.loc[cleaned['lang'] == lang, frame] = cleaned.loc[cleaned['lang'] == lang, frame].\\\n",
    "        apply(lambda tweet: [stemmer.stem(word) for word in tweet])"
   ]
  },
  {
   "cell_type": "code",
   "execution_count": 20,
   "metadata": {
    "collapsed": true
   },
   "outputs": [],
   "source": [
    "stem_words('english', df, 'tokenized')\n",
    "stem_words('french', df, 'tokenized')\n",
    "stem_words('german', df, 'tokenized')"
   ]
  },
  {
   "cell_type": "code",
   "execution_count": 21,
   "metadata": {
    "collapsed": true
   },
   "outputs": [],
   "source": [
    "df.tokenized.to_pickle('tokenized_stemmed.pkl')"
   ]
  },
  {
   "cell_type": "code",
   "execution_count": 22,
   "metadata": {},
   "outputs": [
    {
     "data": {
      "text/html": [
       "<div>\n",
       "<style>\n",
       "    .dataframe thead tr:only-child th {\n",
       "        text-align: right;\n",
       "    }\n",
       "\n",
       "    .dataframe thead th {\n",
       "        text-align: left;\n",
       "    }\n",
       "\n",
       "    .dataframe tbody tr th {\n",
       "        vertical-align: top;\n",
       "    }\n",
       "</style>\n",
       "<table border=\"1\" class=\"dataframe\">\n",
       "  <thead>\n",
       "    <tr style=\"text-align: right;\">\n",
       "      <th></th>\n",
       "      <th>english</th>\n",
       "      <th>french</th>\n",
       "      <th>german</th>\n",
       "      <th>swiss_german</th>\n",
       "    </tr>\n",
       "  </thead>\n",
       "  <tbody>\n",
       "    <tr>\n",
       "      <th>0</th>\n",
       "      <td>addict</td>\n",
       "      <td>accro</td>\n",
       "      <td>sucht</td>\n",
       "      <td>NaN</td>\n",
       "    </tr>\n",
       "    <tr>\n",
       "      <th>1</th>\n",
       "      <td>afraid</td>\n",
       "      <td>peur</td>\n",
       "      <td>angst</td>\n",
       "      <td>angscht</td>\n",
       "    </tr>\n",
       "    <tr>\n",
       "      <th>2</th>\n",
       "      <td>agoraphobia</td>\n",
       "      <td>agoraphobie</td>\n",
       "      <td>NaN</td>\n",
       "      <td>NaN</td>\n",
       "    </tr>\n",
       "    <tr>\n",
       "      <th>3</th>\n",
       "      <td>alcoholism</td>\n",
       "      <td>alcoolisme</td>\n",
       "      <td>alcoholismus</td>\n",
       "      <td>NaN</td>\n",
       "    </tr>\n",
       "    <tr>\n",
       "      <th>4</th>\n",
       "      <td>alone</td>\n",
       "      <td>seul</td>\n",
       "      <td>allein</td>\n",
       "      <td>allei</td>\n",
       "    </tr>\n",
       "  </tbody>\n",
       "</table>\n",
       "</div>"
      ],
      "text/plain": [
       "       english       french        german swiss_german\n",
       "0       addict        accro         sucht          NaN\n",
       "1       afraid         peur         angst      angscht\n",
       "2  agoraphobia  agoraphobie           NaN          NaN\n",
       "3   alcoholism   alcoolisme  alcoholismus          NaN\n",
       "4        alone         seul        allein        allei"
      ]
     },
     "execution_count": 22,
     "metadata": {},
     "output_type": "execute_result"
    }
   ],
   "source": [
    "DICT_PATH = \"dictionary.csv\"\n",
    "dictionaries = pd.read_csv(DICT_PATH)\n",
    "dictionaries.head()"
   ]
  },
  {
   "cell_type": "code",
   "execution_count": 23,
   "metadata": {
    "collapsed": true
   },
   "outputs": [],
   "source": [
    "en_dict = dictionaries['english'].dropna()\n",
    "fr_dict = dictionaries['french'].dropna()\n",
    "de_dict = pd.concat([dictionaries['german'].dropna(), dictionaries['swiss_german'].dropna()])"
   ]
  },
  {
   "cell_type": "code",
   "execution_count": 24,
   "metadata": {
    "collapsed": true
   },
   "outputs": [],
   "source": [
    "def dict_cleaning(lang):\n",
    "    lang_dict = eval(lang + '_dict')\n",
    "    lang_dict = lang_dict.astype(str).str.lower().\\\n",
    "                        apply(lambda expression: unicodedata.normalize('NFD', expression).\\\n",
    "                        encode('ascii', 'ignore').decode('utf-8'))"
   ]
  },
  {
   "cell_type": "code",
   "execution_count": 25,
   "metadata": {
    "collapsed": true
   },
   "outputs": [],
   "source": [
    "dict_cleaning('en')\n",
    "dict_cleaning('fr')\n",
    "dict_cleaning('de')"
   ]
  },
  {
   "cell_type": "code",
   "execution_count": 26,
   "metadata": {
    "collapsed": true
   },
   "outputs": [],
   "source": [
    "#Tokenizing\n",
    "en_dict = en_dict.str.split()\n",
    "fr_dict = fr_dict.str.split()\n",
    "de_dict = de_dict.str.split()"
   ]
  },
  {
   "cell_type": "code",
   "execution_count": 27,
   "metadata": {
    "collapsed": true
   },
   "outputs": [],
   "source": [
    "def dict_remove_stops(language):\n",
    "    lang = language[:2]\n",
    "    if language == 'german':\n",
    "        lang = 'de'\n",
    "    \n",
    "    lang_dict = eval(lang + '_dict')\n",
    "    lang_set = stopwords.words(language)\n",
    "        \n",
    "    lang_dict = lang_dict.apply(lambda expression: [word for word in expression if word not in lang_set])"
   ]
  },
  {
   "cell_type": "code",
   "execution_count": 28,
   "metadata": {
    "collapsed": true
   },
   "outputs": [],
   "source": [
    "#Removing stop words\n",
    "dict_remove_stops('english')\n",
    "dict_remove_stops('french')\n",
    "dict_remove_stops('german')"
   ]
  },
  {
   "cell_type": "code",
   "execution_count": 29,
   "metadata": {
    "collapsed": true
   },
   "outputs": [],
   "source": [
    "def dict_stem_words(language):\n",
    "    lang = language[:2]\n",
    "    if language == 'german':\n",
    "        lang = 'de'\n",
    "    \n",
    "    lang_dict = eval(lang + '_dict')\n",
    "    stemmer = SnowballStemmer(language)\n",
    "        \n",
    "    lang_dict = lang_dict.apply(lambda expression: [stemmer.stem(word) for word in expression])"
   ]
  },
  {
   "cell_type": "code",
   "execution_count": 30,
   "metadata": {
    "collapsed": true
   },
   "outputs": [],
   "source": [
    "#Stemming the words\n",
    "dict_stem_words('english')\n",
    "dict_stem_words('french')\n",
    "dict_stem_words('german')"
   ]
  },
  {
   "cell_type": "code",
   "execution_count": 31,
   "metadata": {
    "collapsed": true
   },
   "outputs": [],
   "source": [
    "df['merged'] = df.tokenized.map(lambda x:  ' '.join(x))\n",
    "de_dict = de_dict.map(lambda x:  ' '.join(x))\n",
    "en_dict = en_dict.map(lambda x:  ' '.join(x))\n",
    "fr_dict = fr_dict.map(lambda x:  ' '.join(x))"
   ]
  },
  {
   "cell_type": "code",
   "execution_count": 32,
   "metadata": {
    "collapsed": true
   },
   "outputs": [],
   "source": [
    "def check_dict(tweet, dict_):\n",
    "    \"\"\"checks if dict entry matches tweet\"\"\"\n",
    "    match = [ w for w in dict_ if w in tweet] #find matching for each entry\n",
    "    return len(match) > 0 #at least one match"
   ]
  },
  {
   "cell_type": "code",
   "execution_count": 33,
   "metadata": {},
   "outputs": [
    {
     "data": {
      "text/html": [
       "<div>\n",
       "<style>\n",
       "    .dataframe thead tr:only-child th {\n",
       "        text-align: right;\n",
       "    }\n",
       "\n",
       "    .dataframe thead th {\n",
       "        text-align: left;\n",
       "    }\n",
       "\n",
       "    .dataframe tbody tr th {\n",
       "        vertical-align: top;\n",
       "    }\n",
       "</style>\n",
       "<table border=\"1\" class=\"dataframe\">\n",
       "  <thead>\n",
       "    <tr style=\"text-align: right;\">\n",
       "      <th></th>\n",
       "      <th>author_gender</th>\n",
       "      <th>lang</th>\n",
       "      <th>main</th>\n",
       "      <th>published</th>\n",
       "      <th>sentiment</th>\n",
       "      <th>source_followers</th>\n",
       "      <th>source_following</th>\n",
       "      <th>source_location</th>\n",
       "      <th>source_spam_probability</th>\n",
       "      <th>tags</th>\n",
       "      <th>tokenized</th>\n",
       "      <th>merged</th>\n",
       "    </tr>\n",
       "  </thead>\n",
       "  <tbody>\n",
       "    <tr>\n",
       "      <th>210</th>\n",
       "      <td>UNKNOWN</td>\n",
       "      <td>en</td>\n",
       "      <td>i feel sad that they have to hide and probab...</td>\n",
       "      <td>2016-01-01T15:38:09Z</td>\n",
       "      <td>NEGATIVE</td>\n",
       "      <td>598</td>\n",
       "      <td>316</td>\n",
       "      <td>Svizzera</td>\n",
       "      <td>0</td>\n",
       "      <td>NaN</td>\n",
       "      <td>[feel, sad, hide, probabl, won't, ever, abl, g...</td>\n",
       "      <td>feel sad hide probabl won't ever abl go fun li...</td>\n",
       "    </tr>\n",
       "    <tr>\n",
       "      <th>316</th>\n",
       "      <td>UNKNOWN</td>\n",
       "      <td>en</td>\n",
       "      <td>i hope people will react positively, but i'm...</td>\n",
       "      <td>2016-01-01T12:41:23Z</td>\n",
       "      <td>NEUTRAL</td>\n",
       "      <td>598</td>\n",
       "      <td>316</td>\n",
       "      <td>Svizzera</td>\n",
       "      <td>0</td>\n",
       "      <td>NaN</td>\n",
       "      <td>[hope, peopl, react, posit, ,, i'm, afraid, fa...</td>\n",
       "      <td>hope peopl react posit , i'm afraid fangirl</td>\n",
       "    </tr>\n",
       "    <tr>\n",
       "      <th>349</th>\n",
       "      <td>UNKNOWN</td>\n",
       "      <td>en</td>\n",
       "      <td>but hani's dating news makes me feel sad... be...</td>\n",
       "      <td>2016-01-01T15:36:24Z</td>\n",
       "      <td>NEUTRAL</td>\n",
       "      <td>598</td>\n",
       "      <td>316</td>\n",
       "      <td>Svizzera</td>\n",
       "      <td>0</td>\n",
       "      <td>NaN</td>\n",
       "      <td>[hani, date, news, make, feel, sad, ..., it, n...</td>\n",
       "      <td>hani date news make feel sad ... it normal ido...</td>\n",
       "    </tr>\n",
       "    <tr>\n",
       "      <th>617</th>\n",
       "      <td>MALE</td>\n",
       "      <td>en</td>\n",
       "      <td>.    ah yes, there he is about 30 mins in. not...</td>\n",
       "      <td>2016-01-01T12:31:56Z</td>\n",
       "      <td>NEUTRAL</td>\n",
       "      <td>600</td>\n",
       "      <td>850</td>\n",
       "      <td>Bern</td>\n",
       "      <td>0</td>\n",
       "      <td>NaN</td>\n",
       "      <td>[., ah, yes, ,, 30, min, ., sure, spurious, fi...</td>\n",
       "      <td>. ah yes , 30 min . sure spurious first person...</td>\n",
       "    </tr>\n",
       "    <tr>\n",
       "      <th>2108</th>\n",
       "      <td>FEMALE</td>\n",
       "      <td>en</td>\n",
       "      <td>homesickness again...</td>\n",
       "      <td>2016-01-01T23:23:53Z</td>\n",
       "      <td>NEUTRAL</td>\n",
       "      <td>1393</td>\n",
       "      <td>1921</td>\n",
       "      <td>Zürich</td>\n",
       "      <td>0</td>\n",
       "      <td>NaN</td>\n",
       "      <td>[homesick, ...]</td>\n",
       "      <td>homesick ...</td>\n",
       "    </tr>\n",
       "  </tbody>\n",
       "</table>\n",
       "</div>"
      ],
      "text/plain": [
       "     author_gender lang                                               main  \\\n",
       "210        UNKNOWN   en    i feel sad that they have to hide and probab...   \n",
       "316        UNKNOWN   en    i hope people will react positively, but i'm...   \n",
       "349        UNKNOWN   en  but hani's dating news makes me feel sad... be...   \n",
       "617           MALE   en  .    ah yes, there he is about 30 mins in. not...   \n",
       "2108        FEMALE   en                              homesickness again...   \n",
       "\n",
       "                 published sentiment  source_followers  source_following  \\\n",
       "210   2016-01-01T15:38:09Z  NEGATIVE               598               316   \n",
       "316   2016-01-01T12:41:23Z   NEUTRAL               598               316   \n",
       "349   2016-01-01T15:36:24Z   NEUTRAL               598               316   \n",
       "617   2016-01-01T12:31:56Z   NEUTRAL               600               850   \n",
       "2108  2016-01-01T23:23:53Z   NEUTRAL              1393              1921   \n",
       "\n",
       "     source_location  source_spam_probability tags  \\\n",
       "210         Svizzera                        0  NaN   \n",
       "316         Svizzera                        0  NaN   \n",
       "349         Svizzera                        0  NaN   \n",
       "617             Bern                        0  NaN   \n",
       "2108          Zürich                        0  NaN   \n",
       "\n",
       "                                              tokenized  \\\n",
       "210   [feel, sad, hide, probabl, won't, ever, abl, g...   \n",
       "316   [hope, peopl, react, posit, ,, i'm, afraid, fa...   \n",
       "349   [hani, date, news, make, feel, sad, ..., it, n...   \n",
       "617   [., ah, yes, ,, 30, min, ., sure, spurious, fi...   \n",
       "2108                                    [homesick, ...]   \n",
       "\n",
       "                                                 merged  \n",
       "210   feel sad hide probabl won't ever abl go fun li...  \n",
       "316         hope peopl react posit , i'm afraid fangirl  \n",
       "349   hani date news make feel sad ... it normal ido...  \n",
       "617   . ah yes , 30 min . sure spurious first person...  \n",
       "2108                                       homesick ...  "
      ]
     },
     "execution_count": 33,
     "metadata": {},
     "output_type": "execute_result"
    }
   ],
   "source": [
    "english_filtered = df[df.lang == 'en'][df[df.lang == 'en']['merged'].map(lambda x: check_dict(x, en_dict))]"
   ]
  },
  {
   "cell_type": "code",
   "execution_count": 39,
   "metadata": {},
   "outputs": [
    {
     "data": {
      "text/plain": [
       "3365506      haha thank you... i'm a little sad that all ...\n",
       "2896805    wikipedian of the year   adressing #gendergap ...\n",
       "590069     nearshore team requests sysadmin rights to \"de...\n",
       "3401235    it makes me so sad and mad knowing that two gi...\n",
       "220045     layan runningman cara perempuan hilangkan stre...\n",
       "Name: main, dtype: object"
      ]
     },
     "execution_count": 39,
     "metadata": {},
     "output_type": "execute_result"
    }
   ],
   "source": [
    "english_filtered.main.sample(5)"
   ]
  },
  {
   "cell_type": "code",
   "execution_count": 34,
   "metadata": {},
   "outputs": [
    {
     "data": {
      "text/plain": [
       "author_gender              20818\n",
       "lang                       20818\n",
       "main                       20818\n",
       "published                  20818\n",
       "sentiment                  20818\n",
       "source_followers           20818\n",
       "source_following           20818\n",
       "source_location            20191\n",
       "source_spam_probability    20818\n",
       "tags                        4766\n",
       "tokenized                  20818\n",
       "merged                     20818\n",
       "dtype: int64"
      ]
     },
     "execution_count": 34,
     "metadata": {},
     "output_type": "execute_result"
    }
   ],
   "source": [
    "english_filtered.count()"
   ]
  },
  {
   "cell_type": "code",
   "execution_count": 100,
   "metadata": {},
   "outputs": [
    {
     "data": {
      "text/html": [
       "<div>\n",
       "<style>\n",
       "    .dataframe thead tr:only-child th {\n",
       "        text-align: right;\n",
       "    }\n",
       "\n",
       "    .dataframe thead th {\n",
       "        text-align: left;\n",
       "    }\n",
       "\n",
       "    .dataframe tbody tr th {\n",
       "        vertical-align: top;\n",
       "    }\n",
       "</style>\n",
       "<table border=\"1\" class=\"dataframe\">\n",
       "  <thead>\n",
       "    <tr style=\"text-align: right;\">\n",
       "      <th></th>\n",
       "      <th>author_gender</th>\n",
       "      <th>lang</th>\n",
       "      <th>main</th>\n",
       "      <th>published</th>\n",
       "      <th>sentiment</th>\n",
       "      <th>source_followers</th>\n",
       "      <th>source_following</th>\n",
       "      <th>source_location</th>\n",
       "      <th>source_spam_probability</th>\n",
       "      <th>tags</th>\n",
       "      <th>tokenized</th>\n",
       "      <th>merged</th>\n",
       "    </tr>\n",
       "  </thead>\n",
       "  <tbody>\n",
       "    <tr>\n",
       "      <th>330</th>\n",
       "      <td>UNKNOWN</td>\n",
       "      <td>fr</td>\n",
       "      <td>suis je le seul debout ?</td>\n",
       "      <td>2016-01-01T11:06:40Z</td>\n",
       "      <td>NEUTRAL</td>\n",
       "      <td>276</td>\n",
       "      <td>241</td>\n",
       "      <td>Fribourg</td>\n",
       "      <td>0</td>\n",
       "      <td>NaN</td>\n",
       "      <td>[seul, debout, ?]</td>\n",
       "      <td>seul debout ?</td>\n",
       "    </tr>\n",
       "    <tr>\n",
       "      <th>343</th>\n",
       "      <td>UNKNOWN</td>\n",
       "      <td>fr</td>\n",
       "      <td>je crois je vais allez regarder les feu d'arti...</td>\n",
       "      <td>2016-01-01T02:19:52Z</td>\n",
       "      <td>NEUTRAL</td>\n",
       "      <td>275</td>\n",
       "      <td>632</td>\n",
       "      <td>Geneve</td>\n",
       "      <td>0</td>\n",
       "      <td>NaN</td>\n",
       "      <td>[crois, vais, allez, regard, le, feu, d'artifi...</td>\n",
       "      <td>crois vais allez regard le feu d'artific tout ...</td>\n",
       "    </tr>\n",
       "    <tr>\n",
       "      <th>669</th>\n",
       "      <td>UNKNOWN</td>\n",
       "      <td>fr</td>\n",
       "      <td>je rigole encore tout seul dans ma chambre d'hier</td>\n",
       "      <td>2016-01-01T14:08:50Z</td>\n",
       "      <td>NEUTRAL</td>\n",
       "      <td>128</td>\n",
       "      <td>93</td>\n",
       "      <td>Lausanne</td>\n",
       "      <td>0</td>\n",
       "      <td>NaN</td>\n",
       "      <td>[rigol, encor, tout, seul, chambr, d'hi]</td>\n",
       "      <td>rigol encor tout seul chambr d'hi</td>\n",
       "    </tr>\n",
       "    <tr>\n",
       "      <th>686</th>\n",
       "      <td>UNKNOWN</td>\n",
       "      <td>fr</td>\n",
       "      <td>vécu. c'est sûrement la seule chose de ma vi...</td>\n",
       "      <td>2016-01-01T09:42:47Z</td>\n",
       "      <td>NEUTRAL</td>\n",
       "      <td>327</td>\n",
       "      <td>289</td>\n",
       "      <td>Lausanne</td>\n",
       "      <td>0</td>\n",
       "      <td>NaN</td>\n",
       "      <td>[vécu, ., c'est, sûr, seul, chos, vi, sujet, l...</td>\n",
       "      <td>vécu . c'est sûr seul chos vi sujet laquel cer...</td>\n",
       "    </tr>\n",
       "    <tr>\n",
       "      <th>691</th>\n",
       "      <td>UNKNOWN</td>\n",
       "      <td>fr</td>\n",
       "      <td>pas mais qui dureront aussi longtemps que no...</td>\n",
       "      <td>2016-01-01T09:34:43Z</td>\n",
       "      <td>NEUTRAL</td>\n",
       "      <td>327</td>\n",
       "      <td>289</td>\n",
       "      <td>Lausanne</td>\n",
       "      <td>0</td>\n",
       "      <td>NaN</td>\n",
       "      <td>[dur, auss, longtemp, ., j'en, auss, ., le, ta...</td>\n",
       "      <td>dur auss longtemp . j'en auss . le tais . peur...</td>\n",
       "    </tr>\n",
       "  </tbody>\n",
       "</table>\n",
       "</div>"
      ],
      "text/plain": [
       "    author_gender lang                                               main  \\\n",
       "330       UNKNOWN   fr                           suis je le seul debout ?   \n",
       "343       UNKNOWN   fr  je crois je vais allez regarder les feu d'arti...   \n",
       "669       UNKNOWN   fr  je rigole encore tout seul dans ma chambre d'hier   \n",
       "686       UNKNOWN   fr    vécu. c'est sûrement la seule chose de ma vi...   \n",
       "691       UNKNOWN   fr    pas mais qui dureront aussi longtemps que no...   \n",
       "\n",
       "                published sentiment  source_followers  source_following  \\\n",
       "330  2016-01-01T11:06:40Z   NEUTRAL               276               241   \n",
       "343  2016-01-01T02:19:52Z   NEUTRAL               275               632   \n",
       "669  2016-01-01T14:08:50Z   NEUTRAL               128                93   \n",
       "686  2016-01-01T09:42:47Z   NEUTRAL               327               289   \n",
       "691  2016-01-01T09:34:43Z   NEUTRAL               327               289   \n",
       "\n",
       "    source_location  source_spam_probability tags  \\\n",
       "330        Fribourg                        0  NaN   \n",
       "343          Geneve                        0  NaN   \n",
       "669        Lausanne                        0  NaN   \n",
       "686        Lausanne                        0  NaN   \n",
       "691        Lausanne                        0  NaN   \n",
       "\n",
       "                                             tokenized  \\\n",
       "330                                  [seul, debout, ?]   \n",
       "343  [crois, vais, allez, regard, le, feu, d'artifi...   \n",
       "669           [rigol, encor, tout, seul, chambr, d'hi]   \n",
       "686  [vécu, ., c'est, sûr, seul, chos, vi, sujet, l...   \n",
       "691  [dur, auss, longtemp, ., j'en, auss, ., le, ta...   \n",
       "\n",
       "                                                merged  \n",
       "330                                      seul debout ?  \n",
       "343  crois vais allez regard le feu d'artific tout ...  \n",
       "669                  rigol encor tout seul chambr d'hi  \n",
       "686  vécu . c'est sûr seul chos vi sujet laquel cer...  \n",
       "691  dur auss longtemp . j'en auss . le tais . peur...  "
      ]
     },
     "execution_count": 100,
     "metadata": {},
     "output_type": "execute_result"
    }
   ],
   "source": [
    "french_filtered = df[df.lang == 'fr'][df[df.lang == 'fr']['tokenized'].map(lambda x: check_dict(x, fr_dict))]\n",
    "french_filtered.head()"
   ]
  },
  {
   "cell_type": "code",
   "execution_count": 102,
   "metadata": {},
   "outputs": [
    {
     "data": {
      "text/plain": [
       "20533"
      ]
     },
     "execution_count": 102,
     "metadata": {},
     "output_type": "execute_result"
    }
   ],
   "source": [
    "len(french_filtered)"
   ]
  },
  {
   "cell_type": "code",
   "execution_count": 101,
   "metadata": {},
   "outputs": [
    {
     "data": {
      "text/html": [
       "<div>\n",
       "<style>\n",
       "    .dataframe thead tr:only-child th {\n",
       "        text-align: right;\n",
       "    }\n",
       "\n",
       "    .dataframe thead th {\n",
       "        text-align: left;\n",
       "    }\n",
       "\n",
       "    .dataframe tbody tr th {\n",
       "        vertical-align: top;\n",
       "    }\n",
       "</style>\n",
       "<table border=\"1\" class=\"dataframe\">\n",
       "  <thead>\n",
       "    <tr style=\"text-align: right;\">\n",
       "      <th></th>\n",
       "      <th>author_gender</th>\n",
       "      <th>lang</th>\n",
       "      <th>main</th>\n",
       "      <th>published</th>\n",
       "      <th>sentiment</th>\n",
       "      <th>source_followers</th>\n",
       "      <th>source_following</th>\n",
       "      <th>source_location</th>\n",
       "      <th>source_spam_probability</th>\n",
       "      <th>tags</th>\n",
       "      <th>tokenized</th>\n",
       "      <th>merged</th>\n",
       "    </tr>\n",
       "  </thead>\n",
       "  <tbody>\n",
       "    <tr>\n",
       "      <th>65</th>\n",
       "      <td>MALE</td>\n",
       "      <td>de</td>\n",
       "      <td>rtl bringt das kunststück fertig, eine klassis...</td>\n",
       "      <td>2016-01-01T19:35:15Z</td>\n",
       "      <td>NEUTRAL</td>\n",
       "      <td>479</td>\n",
       "      <td>783</td>\n",
       "      <td>Schenkon</td>\n",
       "      <td>0</td>\n",
       "      <td>NaN</td>\n",
       "      <td>[rtl, bringt, kunststuck, fertig, ,, klassisch...</td>\n",
       "      <td>rtl bringt kunststuck fertig , klassisch pleit...</td>\n",
       "    </tr>\n",
       "    <tr>\n",
       "      <th>119</th>\n",
       "      <td>MALE</td>\n",
       "      <td>de</td>\n",
       "      <td>danket dem herrn aller herren, der allein groß...</td>\n",
       "      <td>2016-01-01T08:43:21Z</td>\n",
       "      <td>NEUTRAL</td>\n",
       "      <td>1101</td>\n",
       "      <td>1963</td>\n",
       "      <td>Chur</td>\n",
       "      <td>0</td>\n",
       "      <td>NaN</td>\n",
       "      <td>[danket, herrn, herr, ,, allein, gross, wund, ...</td>\n",
       "      <td>danket herrn herr , allein gross wund tut , gu...</td>\n",
       "    </tr>\n",
       "    <tr>\n",
       "      <th>558</th>\n",
       "      <td>UNKNOWN</td>\n",
       "      <td>de</td>\n",
       "      <td>nei nei, keine angst. ich reise nicht mehr g...</td>\n",
       "      <td>2016-01-01T21:53:17Z</td>\n",
       "      <td>NEUTRAL</td>\n",
       "      <td>38400</td>\n",
       "      <td>36900</td>\n",
       "      <td>CH</td>\n",
       "      <td>0</td>\n",
       "      <td>NaN</td>\n",
       "      <td>[nei, nei, ,, angst, ., reis, mehr, gern, ...]</td>\n",
       "      <td>nei nei , angst . reis mehr gern ...</td>\n",
       "    </tr>\n",
       "    <tr>\n",
       "      <th>624</th>\n",
       "      <td>FEMALE</td>\n",
       "      <td>de</td>\n",
       "      <td>ja das gibts bestimmt. aber auch die, welche...</td>\n",
       "      <td>2016-01-01T13:36:32Z</td>\n",
       "      <td>NEUTRAL</td>\n",
       "      <td>459</td>\n",
       "      <td>450</td>\n",
       "      <td>Bern</td>\n",
       "      <td>0</td>\n",
       "      <td>NaN</td>\n",
       "      <td>[ja, gibt, bestimmt, ., ,, wirklich, \", allein...</td>\n",
       "      <td>ja gibt bestimmt . , wirklich \" allein stehend...</td>\n",
       "    </tr>\n",
       "    <tr>\n",
       "      <th>786</th>\n",
       "      <td>UNKNOWN</td>\n",
       "      <td>de</td>\n",
       "      <td>aber es geht ihr wieder besser.. trotzdem. sie...</td>\n",
       "      <td>2016-01-01T21:04:23Z</td>\n",
       "      <td>NEUTRAL</td>\n",
       "      <td>20</td>\n",
       "      <td>53</td>\n",
       "      <td>Bern</td>\n",
       "      <td>0</td>\n",
       "      <td>NaN</td>\n",
       "      <td>[geht, bess, .., trotzd, ., nie, alt, &amp;, macht...</td>\n",
       "      <td>geht bess .. trotzd . nie alt &amp; macht traurig .</td>\n",
       "    </tr>\n",
       "  </tbody>\n",
       "</table>\n",
       "</div>"
      ],
      "text/plain": [
       "    author_gender lang                                               main  \\\n",
       "65           MALE   de  rtl bringt das kunststück fertig, eine klassis...   \n",
       "119          MALE   de  danket dem herrn aller herren, der allein groß...   \n",
       "558       UNKNOWN   de    nei nei, keine angst. ich reise nicht mehr g...   \n",
       "624        FEMALE   de    ja das gibts bestimmt. aber auch die, welche...   \n",
       "786       UNKNOWN   de  aber es geht ihr wieder besser.. trotzdem. sie...   \n",
       "\n",
       "                published sentiment  source_followers  source_following  \\\n",
       "65   2016-01-01T19:35:15Z   NEUTRAL               479               783   \n",
       "119  2016-01-01T08:43:21Z   NEUTRAL              1101              1963   \n",
       "558  2016-01-01T21:53:17Z   NEUTRAL             38400             36900   \n",
       "624  2016-01-01T13:36:32Z   NEUTRAL               459               450   \n",
       "786  2016-01-01T21:04:23Z   NEUTRAL                20                53   \n",
       "\n",
       "    source_location  source_spam_probability tags  \\\n",
       "65         Schenkon                        0  NaN   \n",
       "119            Chur                        0  NaN   \n",
       "558              CH                        0  NaN   \n",
       "624            Bern                        0  NaN   \n",
       "786            Bern                        0  NaN   \n",
       "\n",
       "                                             tokenized  \\\n",
       "65   [rtl, bringt, kunststuck, fertig, ,, klassisch...   \n",
       "119  [danket, herrn, herr, ,, allein, gross, wund, ...   \n",
       "558     [nei, nei, ,, angst, ., reis, mehr, gern, ...]   \n",
       "624  [ja, gibt, bestimmt, ., ,, wirklich, \", allein...   \n",
       "786  [geht, bess, .., trotzd, ., nie, alt, &, macht...   \n",
       "\n",
       "                                                merged  \n",
       "65   rtl bringt kunststuck fertig , klassisch pleit...  \n",
       "119  danket herrn herr , allein gross wund tut , gu...  \n",
       "558               nei nei , angst . reis mehr gern ...  \n",
       "624  ja gibt bestimmt . , wirklich \" allein stehend...  \n",
       "786    geht bess .. trotzd . nie alt & macht traurig .  "
      ]
     },
     "execution_count": 101,
     "metadata": {},
     "output_type": "execute_result"
    }
   ],
   "source": [
    "german_filtered = df[df.lang == 'de'][df[df.lang == 'de']['tokenized'].map(lambda x: check_dict(x, de_dict))]\n",
    "german_filtered.head()"
   ]
  },
  {
   "cell_type": "code",
   "execution_count": 103,
   "metadata": {},
   "outputs": [
    {
     "data": {
      "text/plain": [
       "9775"
      ]
     },
     "execution_count": 103,
     "metadata": {},
     "output_type": "execute_result"
    }
   ],
   "source": [
    "len(german_filtered)"
   ]
  },
  {
   "cell_type": "code",
   "execution_count": null,
   "metadata": {
    "collapsed": true
   },
   "outputs": [],
   "source": [
    "#english_filtered.to_csv('english.csv')"
   ]
  },
  {
   "cell_type": "code",
   "execution_count": null,
   "metadata": {
    "collapsed": true
   },
   "outputs": [],
   "source": [
    "#english_filtered.sample(n=1000).to_csv('english_1000.csv')"
   ]
  },
  {
   "cell_type": "code",
   "execution_count": null,
   "metadata": {
    "collapsed": true
   },
   "outputs": [],
   "source": [
    "#french_filtered.sample(n=1000).to_csv('french_1000.csv')"
   ]
  },
  {
   "cell_type": "code",
   "execution_count": null,
   "metadata": {
    "collapsed": true
   },
   "outputs": [],
   "source": [
    "#move this above\n",
    "import re\n",
    "s = \"string. With. Punctuation? ! àéè. : ; \"\n",
    "s = re.sub(r'[^\\w\\s]','',s)"
   ]
  },
  {
   "cell_type": "code",
   "execution_count": 69,
   "metadata": {
    "collapsed": true
   },
   "outputs": [],
   "source": [
    "english_filtered_2 = english_filtered.tokenized.map(lambda x: [re.sub(r'[^\\w\\s]','',s) for s in x])"
   ]
  },
  {
   "cell_type": "markdown",
   "metadata": {},
   "source": [
    "## LDA starts here"
   ]
  },
  {
   "cell_type": "code",
   "execution_count": 71,
   "metadata": {
    "collapsed": true
   },
   "outputs": [],
   "source": [
    "dictionary = corpora.Dictionary(english_filtered_2)"
   ]
  },
  {
   "cell_type": "code",
   "execution_count": 72,
   "metadata": {
    "collapsed": true
   },
   "outputs": [],
   "source": [
    "dictionary.filter_extremes(no_below=3, no_above=.5)"
   ]
  },
  {
   "cell_type": "code",
   "execution_count": 73,
   "metadata": {},
   "outputs": [
    {
     "name": "stdout",
     "output_type": "stream",
     "text": [
      "Dictionary(5895 unique tokens: ['feel', 'sad', 'hide', 'probabl', 'wont']...)\n"
     ]
    }
   ],
   "source": [
    "print(dictionary)"
   ]
  },
  {
   "cell_type": "code",
   "execution_count": 74,
   "metadata": {
    "collapsed": true
   },
   "outputs": [],
   "source": [
    "texts = english_filtered_2.tolist()"
   ]
  },
  {
   "cell_type": "code",
   "execution_count": 75,
   "metadata": {
    "collapsed": true
   },
   "outputs": [],
   "source": [
    "corpus = [dictionary.doc2bow(text) for text in texts]"
   ]
  },
  {
   "cell_type": "code",
   "execution_count": 93,
   "metadata": {
    "collapsed": true
   },
   "outputs": [],
   "source": [
    "ldamodel = models.LdaMulticore(corpus, id2word=dictionary, num_topics=3, workers=3, iterations=100, passes=5) #takes like 5minutes on leo's pc"
   ]
  },
  {
   "cell_type": "code",
   "execution_count": 94,
   "metadata": {},
   "outputs": [
    {
     "data": {
      "text/plain": [
       "[(0,\n",
       "  '0.027*\"assad\" + 0.022*\"syria\" + 0.019*\"stress\" + 0.010*\"ambassador\" + 0.007*\"afraid\" + 0.007*\"stop\" + 0.007*\"kill\" + 0.006*\"russia\" + 0.006*\"asylum\" + 0.005*\"addict\"'),\n",
       " (1,\n",
       "  '0.094*\"sad\" + 0.017*\"im\" + 0.014*\"it\" + 0.012*\"make\" + 0.011*\"dont\" + 0.009*\"know\" + 0.009*\"day\" + 0.009*\"peopl\" + 0.009*\"afraid\" + 0.007*\"time\"'),\n",
       " (2,\n",
       "  '0.042*\"sad\" + 0.031*\"im\" + 0.019*\"stress\" + 0.015*\"addict\" + 0.014*\"afraid\" + 0.008*\"one\" + 0.007*\"get\" + 0.007*\"see\" + 0.007*\"go\" + 0.006*\"u\"')]"
      ]
     },
     "execution_count": 94,
     "metadata": {},
     "output_type": "execute_result"
    }
   ],
   "source": [
    "ldamodel.show_topics()"
   ]
  },
  {
   "cell_type": "code",
   "execution_count": 88,
   "metadata": {
    "collapsed": true
   },
   "outputs": [],
   "source": [
    "#ldamodel.save('lda.model') #save lda model"
   ]
  },
  {
   "cell_type": "code",
   "execution_count": null,
   "metadata": {
    "collapsed": true
   },
   "outputs": [],
   "source": [
    "#ldamodel =  models.LdaModel.load('lda.model') #retrive lda model"
   ]
  },
  {
   "cell_type": "code",
   "execution_count": 96,
   "metadata": {},
   "outputs": [
    {
     "name": "stderr",
     "output_type": "stream",
     "text": [
      "/Users/lguillain/anaconda/lib/python3.6/site-packages/pyLDAvis/_prepare.py:387: DeprecationWarning: \n",
      ".ix is deprecated. Please use\n",
      ".loc for label based indexing or\n",
      ".iloc for positional indexing\n",
      "\n",
      "See the documentation here:\n",
      "http://pandas.pydata.org/pandas-docs/stable/indexing.html#deprecate_ix\n",
      "  topic_term_dists = topic_term_dists.ix[topic_order]\n"
     ]
    }
   ],
   "source": [
    "vis_data = pyLDAvis.gensim.prepare(ldamodel, corpus, dictionary)"
   ]
  },
  {
   "cell_type": "code",
   "execution_count": 97,
   "metadata": {},
   "outputs": [
    {
     "data": {
      "text/html": [
       "\n",
       "<link rel=\"stylesheet\" type=\"text/css\" href=\"https://cdn.rawgit.com/bmabey/pyLDAvis/files/ldavis.v1.0.0.css\">\n",
       "\n",
       "\n",
       "<div id=\"ldavis_el2922456558798725315842962\"></div>\n",
       "<script type=\"text/javascript\">\n",
       "\n",
       "var ldavis_el2922456558798725315842962_data = {\"mdsDat\": {\"Freq\": [42.0804210506989, 30.83872785040394, 27.080851098897156], \"cluster\": [1, 1, 1], \"topics\": [1, 2, 3], \"x\": [-0.08576798329673846, -0.10209168567299165, 0.18785966896973016], \"y\": [0.107805027812518, -0.10173581254417184, -0.006069215268346053]}, \"tinfo\": {\"Category\": [\"Default\", \"Default\", \"Default\", \"Default\", \"Default\", \"Default\", \"Default\", \"Default\", \"Default\", \"Default\", \"Default\", \"Default\", \"Default\", \"Default\", \"Default\", \"Default\", \"Default\", \"Default\", \"Default\", \"Default\", \"Default\", \"Default\", \"Default\", \"Default\", \"Default\", \"Default\", \"Default\", \"Default\", \"Default\", \"Default\", \"Topic1\", \"Topic1\", \"Topic1\", \"Topic1\", \"Topic1\", \"Topic1\", \"Topic1\", \"Topic1\", \"Topic1\", \"Topic1\", \"Topic1\", \"Topic1\", \"Topic1\", \"Topic1\", \"Topic1\", \"Topic1\", \"Topic1\", \"Topic1\", \"Topic1\", \"Topic1\", \"Topic1\", \"Topic1\", \"Topic1\", \"Topic1\", \"Topic1\", \"Topic1\", \"Topic1\", \"Topic1\", \"Topic1\", \"Topic1\", \"Topic1\", \"Topic1\", \"Topic1\", \"Topic1\", \"Topic1\", \"Topic1\", \"Topic1\", \"Topic1\", \"Topic1\", \"Topic1\", \"Topic1\", \"Topic1\", \"Topic1\", \"Topic1\", \"Topic1\", \"Topic1\", \"Topic1\", \"Topic1\", \"Topic1\", \"Topic1\", \"Topic1\", \"Topic1\", \"Topic1\", \"Topic1\", \"Topic1\", \"Topic1\", \"Topic1\", \"Topic1\", \"Topic1\", \"Topic1\", \"Topic1\", \"Topic1\", \"Topic1\", \"Topic1\", \"Topic1\", \"Topic1\", \"Topic1\", \"Topic1\", \"Topic1\", \"Topic1\", \"Topic1\", \"Topic1\", \"Topic1\", \"Topic1\", \"Topic2\", \"Topic2\", \"Topic2\", \"Topic2\", \"Topic2\", \"Topic2\", \"Topic2\", \"Topic2\", \"Topic2\", \"Topic2\", \"Topic2\", \"Topic2\", \"Topic2\", \"Topic2\", \"Topic2\", \"Topic2\", \"Topic2\", \"Topic2\", \"Topic2\", \"Topic2\", \"Topic2\", \"Topic2\", \"Topic2\", \"Topic2\", \"Topic2\", \"Topic2\", \"Topic2\", \"Topic2\", \"Topic2\", \"Topic2\", \"Topic2\", \"Topic2\", \"Topic2\", \"Topic2\", \"Topic2\", \"Topic2\", \"Topic2\", \"Topic2\", \"Topic2\", \"Topic2\", \"Topic2\", \"Topic2\", \"Topic2\", \"Topic2\", \"Topic2\", \"Topic2\", \"Topic2\", \"Topic2\", \"Topic2\", \"Topic2\", \"Topic2\", \"Topic2\", \"Topic2\", \"Topic2\", \"Topic2\", \"Topic2\", \"Topic2\", \"Topic2\", \"Topic2\", \"Topic2\", \"Topic2\", \"Topic2\", \"Topic2\", \"Topic2\", \"Topic2\", \"Topic2\", \"Topic2\", \"Topic2\", \"Topic2\", \"Topic2\", \"Topic2\", \"Topic2\", \"Topic2\", \"Topic3\", \"Topic3\", \"Topic3\", \"Topic3\", \"Topic3\", \"Topic3\", \"Topic3\", \"Topic3\", \"Topic3\", \"Topic3\", \"Topic3\", \"Topic3\", \"Topic3\", \"Topic3\", \"Topic3\", \"Topic3\", \"Topic3\", \"Topic3\", \"Topic3\", \"Topic3\", \"Topic3\", \"Topic3\", \"Topic3\", \"Topic3\", \"Topic3\", \"Topic3\", \"Topic3\", \"Topic3\", \"Topic3\", \"Topic3\", \"Topic3\", \"Topic3\", \"Topic3\", \"Topic3\", \"Topic3\", \"Topic3\", \"Topic3\", \"Topic3\", \"Topic3\", \"Topic3\", \"Topic3\", \"Topic3\", \"Topic3\", \"Topic3\", \"Topic3\", \"Topic3\", \"Topic3\", \"Topic3\", \"Topic3\", \"Topic3\", \"Topic3\", \"Topic3\", \"Topic3\", \"Topic3\", \"Topic3\", \"Topic3\", \"Topic3\", \"Topic3\", \"Topic3\", \"Topic3\", \"Topic3\", \"Topic3\", \"Topic3\"], \"Freq\": [8672.0, 1372.0, 1071.0, 2736.0, 1929.0, 992.0, 463.0, 920.0, 296.0, 333.0, 356.0, 232.0, 270.0, 710.0, 321.0, 275.0, 376.0, 192.0, 738.0, 323.0, 242.0, 180.0, 222.0, 283.0, 252.0, 278.0, 198.0, 266.0, 156.0, 855.0, 137.56049055902812, 57.504793907093756, 53.1309599143745, 50.69938410731925, 46.00508411903098, 48.24911588967412, 36.99524137081229, 35.4920549785999, 34.208907059291924, 51.96457135306874, 33.39357709238768, 31.8885754516123, 33.445418200035206, 57.61478889675983, 31.648875072855805, 36.59382267181146, 260.7042327554674, 276.93234349353276, 61.6362935899069, 51.12259293909941, 28.678874864232796, 64.10551603221269, 25.87662293614953, 35.28729253586565, 25.919588229419155, 28.649699522927158, 35.36871824617925, 28.15840807935701, 27.76902226754778, 29.55261755401864, 150.94205272285944, 50.748469181074434, 848.8226260469174, 57.63986695390346, 73.83515617446209, 51.478673296367056, 620.2025348268145, 215.00206500473274, 152.63108664149772, 632.9727972397186, 71.19099862406716, 6422.354380949305, 213.65690249594763, 112.04209214821945, 253.73532673892427, 74.26050457690023, 331.5571845125718, 219.8707220869406, 926.7310622225602, 191.31057415834934, 509.8174330044311, 616.1910959599492, 114.75427974790534, 333.6606570226991, 763.8322163659615, 237.23496358856715, 103.0141141990723, 264.99189855619846, 415.7977701341637, 245.6763239570178, 487.13568593335134, 289.49825948053086, 382.9207867198841, 1148.401413794592, 454.2652027930714, 282.02222841496854, 581.3539790993611, 289.4806570558058, 301.73550234119944, 247.27991138283687, 322.3317682896975, 293.2379528240838, 252.25244887617902, 239.8263212329649, 53.1128818527211, 49.0318809685683, 49.4017276064393, 39.12104819191983, 36.740498306326934, 38.52279405539607, 31.925887221962622, 70.06969035375599, 44.37466732915487, 55.74890584498213, 44.41011207149615, 41.048038422648595, 25.729140611905816, 40.58639271817496, 263.82814862283425, 35.99522638904247, 31.731863704327147, 23.908903512861336, 27.602542600335497, 32.22787396163047, 22.27689186681986, 23.833888781789476, 21.555777055129226, 23.36999900860005, 25.434560411248356, 18.811335314873332, 28.759854476965366, 18.593957854303262, 39.40929861006209, 19.05994092472866, 261.3143844381544, 210.3758009538177, 228.75608120711914, 57.17613465082078, 46.47052066988035, 33.92267894432669, 88.22231426950124, 225.03054825875336, 37.500016278948095, 279.1343902197335, 152.42666870320463, 320.3140210411305, 239.76305733106904, 107.33720447420893, 740.7893588095802, 163.4523287595751, 107.98295094708881, 1547.4255275190808, 176.49819855015508, 66.27305450082643, 121.49586322139355, 931.0656150234112, 193.34382904379726, 293.0860621664055, 257.7052378116779, 695.8485262334233, 390.3039679785321, 361.9489156365286, 91.82168239059709, 2086.113484820111, 347.482266940432, 245.73963719897677, 364.9045508494813, 234.09750467390472, 139.18785777206665, 180.80802853763214, 220.15775956131344, 252.6802240683193, 222.3166097267844, 199.39824471374976, 211.53271342325934, 251.7156305363148, 247.8018045388645, 116.90248098212061, 115.09289003336123, 115.09281781291071, 113.05512813843028, 113.83992980381602, 132.7261215444048, 113.02157943449714, 114.97125377773315, 125.53825522565332, 82.880310336041, 230.34120534784378, 131.526899288438, 74.88707795892087, 74.88707795892087, 74.88707795892087, 178.1463467789656, 64.72046573515561, 89.07496839588515, 188.92738892494728, 42.65118729031474, 66.97248210652508, 46.71517943633993, 37.16731121334211, 63.75118662084358, 58.71414270716354, 49.007835843183734, 53.040086334096856, 34.46979236773694, 27.719245983756153, 151.9611470083816, 448.9965077051363, 62.37068174401593, 107.54373358027223, 278.3175452300271, 954.740334612125, 1191.5922627517846, 127.18483309984347, 92.49824135636624, 292.2430641098609, 176.53508566303967, 272.5449316484025, 140.80456616686948, 121.95039572446424, 286.68603306430435, 108.6254616401438, 117.88480027996074, 121.91413636964991, 114.67570860468877, 843.6529069352304, 186.6072579588353, 223.2419074947338, 313.4969051585017, 198.43627756191114, 234.60910803259742, 200.2192843550416, 200.6343773627702, 201.55944046227313, 141.1485671188138, 147.52397409580894, 131.07780103033238, 132.90154560188313, 163.56237705333334, 132.15620477987582], \"Term\": [\"sad\", \"assad\", \"syria\", \"im\", \"stress\", \"addict\", \"ambassador\", \"make\", \"russia\", \"stop\", \"kill\", \"war\", \"oh\", \"day\", \"asylum\", \"mental\", \"u\", \"less\", \"know\", \"fuck\", \"health\", \"x\", \"breakdown\", \"happi\", \"iv\", \"bad\", \"pain\", \"night\", \"imagin\", \"peopl\", \"fighter\", \"vine\", \"ai\", \"creativ\", \"crystalfight\", \"googl\", \"juic\", \"iam\", \"summertim\", \"remind\", \"comm\", \"joel\", \"youd\", \"shock\", \"sooo\", \"flow\", \"night\", \"happi\", \"anyway\", \"activ\", \"confus\", \"pictur\", \"flower\", \"ad\", \"del\", \"memori\", \"_\", \"profession\", \"frustrat\", \"palestinian\", \"stori\", \"tour\", \"make\", \"often\", \"sometim\", \"mine\", \"day\", \"wont\", \"kinda\", \"know\", \"hurt\", \"sad\", \"friend\", \"anyth\", \"hope\", \"couldnt\", \"life\", \"end\", \"it\", \"true\", \"time\", \"peopl\", \"song\", \"love\", \"dont\", \"alway\", \"angri\", \"come\", \"feel\", \"use\", \"like\", \"never\", \"realli\", \"im\", \"get\", \"even\", \"afraid\", \"think\", \"cant\", \"your\", \"one\", \"see\", \"year\", \"say\", \"failur\", \"heroin\", \"yall\", \"wash\", \"main\", \"gotta\", \"twenti\", \"rn\", \"xx\", \"ticket\", \"pilot\", \"success\", \"budget\", \"ah\", \"oh\", \"ball\", \"btw\", \"valley\", \"halloween\", \"lift\", \"innov\", \"q\", \"recov\", \"insomniac\", \"fat\", \"deficit\", \"card\", \"shakira\", \"rise\", \"third\", \"mental\", \"breakdown\", \"health\", \"homesick\", \"cool\", \"compani\", \"move\", \"iv\", \"mess\", \"fuck\", \"yeah\", \"u\", \"bad\", \"poor\", \"addict\", \"caus\", \"probabl\", \"im\", \"man\", \"arent\", \"swiss\", \"stress\", \"didnt\", \"that\", \"still\", \"afraid\", \"one\", \"see\", \"ok\", \"sad\", \"go\", \"need\", \"get\", \"thing\", \"first\", \"would\", \"cant\", \"like\", \"realli\", \"think\", \"feel\", \"dont\", \"it\", \"dragon\", \"wiz\", \"khalifa\", \"dolla\", \"sucker\", \"wayn\", \"ign\", \"ty\", \"lil\", \"own\", \"war\", \"logic\", \"beautyritu\", \"celebratebeauti\", \"uniquebeauti\", \"x\", \"david\", \"seeker\", \"less\", \"jam\", \"crime\", \"road\", \"sadstuck\", \"smile\", \"rebel\", \"corrupt\", \"complain\", \"alassad\", \"sieg\", \"imagin\", \"ambassador\", \"bless\", \"usa\", \"russia\", \"syria\", \"assad\", \"refuge\", \"bomb\", \"stop\", \"pain\", \"asylum\", \"syrian\", \"un\", \"kill\", \"vote\", \"feat\", \"iran\", \"women\", \"stress\", \"us\", \"play\", \"afraid\", \"want\", \"addict\", \"go\", \"peopl\", \"dont\", \"world\", \"need\", \"help\", \"your\", \"sad\", \"year\"], \"Total\": [8672.0, 1372.0, 1071.0, 2736.0, 1929.0, 992.0, 463.0, 920.0, 296.0, 333.0, 356.0, 232.0, 270.0, 710.0, 321.0, 275.0, 376.0, 192.0, 738.0, 323.0, 242.0, 180.0, 222.0, 283.0, 252.0, 278.0, 198.0, 266.0, 156.0, 855.0, 138.26402224920582, 58.19201703845456, 53.809164222497955, 51.38361268993523, 46.69816354417989, 48.977597130776374, 37.663515916445995, 36.15557297452284, 34.85006571767708, 52.95286354283501, 34.03931419780858, 32.52292266693916, 34.112765202360166, 58.80748009846154, 32.33250313828235, 37.3996859844498, 266.57811887159977, 283.3010653429806, 63.11526642691741, 52.35628610379985, 29.396910506921152, 65.7149828566025, 26.529426107288224, 36.18951811269134, 26.58758104464075, 29.407581445139886, 36.37164707532253, 28.967639525860115, 28.57265985432993, 30.413360319398567, 156.98360187889335, 52.34017890028639, 920.6338738348613, 59.78561037607228, 77.7295967824462, 53.64655842967107, 710.9577153242354, 236.01900704211454, 166.0699987097134, 738.1060082625856, 75.19883461351941, 8672.03024282275, 243.00011243900497, 122.39051233726678, 295.12042162359364, 79.68008362435287, 404.03207387480154, 262.42470011884194, 1300.9794901820205, 227.54009326230994, 676.777756415133, 855.3920053229522, 130.30543560290778, 449.6299166351813, 1217.1072873645494, 313.9456072008567, 117.52832105225441, 362.6034568624138, 656.429681031474, 347.2236646461786, 816.9013706423566, 435.94097007341423, 626.2474724774561, 2736.338654881481, 847.9598130079928, 484.5463166059082, 1590.699410491286, 539.6458276540882, 602.874675214627, 408.4081957163261, 775.2967952770779, 739.5586236964533, 454.809034269588, 388.56570056611065, 53.808176575758125, 49.70776257769241, 50.20209993090125, 39.75809831449067, 37.42610406146048, 39.32925565369054, 32.597462831562694, 71.59099756733609, 45.34916207069586, 56.99102143055817, 45.40459842958254, 42.017067173267236, 26.36915981311745, 41.61372271213901, 270.6853950359585, 36.97982179213667, 32.61220577286688, 24.585526820705613, 28.417034524189486, 33.18664160582602, 22.958253171820047, 24.573694264510067, 22.23372778167022, 24.137755578565777, 26.283113353117855, 19.44410324641259, 29.753407758080524, 19.242870551026968, 40.81016409319826, 19.770792940323123, 275.46444840654317, 222.17650108423285, 242.18760930624285, 60.04249076635919, 48.68400280965603, 35.32132708072502, 94.91695839238844, 252.97657870967998, 39.257169209768115, 323.87177002752503, 171.75854670363663, 376.16592893315885, 278.1326433024874, 120.32423151771532, 992.0510338429947, 196.24875399042662, 124.55588826377054, 2736.338654881481, 230.39295451985478, 74.91670497087468, 158.56691341488207, 1929.56365559294, 279.7992811791586, 486.05955011084984, 432.2306172518519, 1590.699410491286, 775.2967952770779, 739.5586236964533, 116.77227210601896, 8672.03024282275, 775.3402308399166, 479.8459186664412, 847.9598130079928, 488.4625797183632, 224.3460970899205, 383.6273918714909, 602.874675214627, 816.9013706423566, 626.2474724774561, 539.6458276540882, 656.429681031474, 1217.1072873645494, 1300.9794901820205, 117.63859730293146, 115.81898835964572, 115.81899688487546, 113.77450264373459, 114.58051952473633, 133.59063013726586, 113.77580655423301, 115.73975661896824, 126.44864159032309, 83.54185564127941, 232.50167701559408, 132.90234611074908, 75.81558283102416, 75.81558283102416, 75.81558283102416, 180.52017987785217, 65.6788270879164, 90.49501258057478, 192.04434566054158, 43.363005409593534, 68.10452110298154, 47.51612545171539, 37.81625570117526, 65.11193712493728, 60.008154120080924, 50.11215296741293, 54.27735250368761, 35.28972584836779, 28.432873624150186, 156.102695701045, 463.4550284697284, 64.08226003180297, 111.36175976425503, 296.54066625665547, 1071.0246653182332, 1372.1793238918888, 134.25839334104273, 96.73737040956098, 333.24561778192174, 198.20681085905682, 321.72510593222864, 155.16250680560947, 132.50439705681762, 356.45001385197367, 116.59611378207524, 128.3061983926422, 136.9802625748615, 126.932634236043, 1929.56365559294, 361.86692141425175, 594.7492407836934, 1590.699410491286, 491.8024917533302, 992.0510338429947, 775.3402308399166, 855.3920053229522, 1217.1072873645494, 324.0003673567923, 479.8459186664412, 244.46559722186052, 408.4081957163261, 8672.03024282275, 454.809034269588], \"loglift\": [30.0, 29.0, 28.0, 27.0, 26.0, 25.0, 24.0, 23.0, 22.0, 21.0, 20.0, 19.0, 18.0, 17.0, 16.0, 15.0, 14.0, 13.0, 12.0, 11.0, 10.0, 9.0, 8.0, 7.0, 6.0, 5.0, 4.0, 3.0, 2.0, 1.0, 0.8605, 0.8537, 0.8529, 0.8522, 0.8506, 0.8506, 0.8477, 0.8471, 0.847, 0.8467, 0.8464, 0.8459, 0.8458, 0.8451, 0.8442, 0.8438, 0.8433, 0.8429, 0.8419, 0.8417, 0.8409, 0.8408, 0.8407, 0.8403, 0.8401, 0.8395, 0.8376, 0.8373, 0.8371, 0.8369, 0.8263, 0.8347, 0.7844, 0.829, 0.8142, 0.8243, 0.729, 0.7723, 0.7812, 0.7119, 0.8108, 0.5653, 0.7369, 0.7772, 0.7145, 0.7951, 0.6679, 0.6887, 0.5264, 0.6922, 0.5823, 0.5376, 0.7385, 0.5673, 0.3997, 0.5854, 0.7338, 0.552, 0.409, 0.5196, 0.3486, 0.4562, 0.3737, -0.0027, 0.2414, 0.3244, -0.141, 0.2428, 0.1734, 0.3638, -0.0121, -0.0595, 0.2761, 0.383, 1.1634, 1.1627, 1.1603, 1.1602, 1.1579, 1.1557, 1.1556, 1.1549, 1.1547, 1.1544, 1.1543, 1.1531, 1.1518, 1.1514, 1.1507, 1.1494, 1.149, 1.1485, 1.1473, 1.1471, 1.1463, 1.1458, 1.1454, 1.1441, 1.1436, 1.1433, 1.1424, 1.1421, 1.1415, 1.1398, 1.1237, 1.1218, 1.1193, 1.1275, 1.1299, 1.136, 1.1033, 1.0593, 1.1306, 1.0277, 1.057, 1.0157, 1.028, 1.0622, 0.8843, 0.9935, 1.0336, 0.6064, 0.9099, 1.0538, 0.9101, 0.4477, 0.8068, 0.6705, 0.6593, 0.3496, 0.4901, 0.4618, 0.936, -0.2484, 0.3738, 0.5072, 0.3332, 0.4409, 0.699, 0.4242, 0.169, 0.003, 0.1408, 0.1808, 0.044, -0.3995, -0.4818, 1.3001, 1.3001, 1.3001, 1.3, 1.2999, 1.2999, 1.2997, 1.2997, 1.2991, 1.2984, 1.297, 1.2959, 1.294, 1.294, 1.294, 1.2931, 1.2916, 1.2905, 1.29, 1.2898, 1.2896, 1.2893, 1.289, 1.2852, 1.2845, 1.2841, 1.2833, 1.2828, 1.2809, 1.2795, 1.2746, 1.2793, 1.2715, 1.2429, 1.1914, 1.1652, 1.2522, 1.2615, 1.175, 1.1906, 1.1404, 1.2092, 1.2233, 1.0885, 1.2355, 1.2216, 1.1898, 1.2048, 0.479, 0.6441, 0.3265, -0.3178, 0.3987, -0.1355, -0.0475, -0.1437, -0.4918, 0.4754, 0.1269, 0.6831, 0.1837, -2.6643, 0.0705], \"logprob\": [30.0, 29.0, 28.0, 27.0, 26.0, 25.0, 24.0, 23.0, 22.0, 21.0, 20.0, 19.0, 18.0, 17.0, 16.0, 15.0, 14.0, 13.0, 12.0, 11.0, 10.0, 9.0, 8.0, 7.0, 6.0, 5.0, 4.0, 3.0, 2.0, 1.0, -6.2086, -7.0808, -7.1599, -7.2068, -7.3039, -7.2563, -7.5219, -7.5634, -7.6002, -7.1821, -7.6243, -7.6704, -7.6228, -7.0789, -7.678, -7.5328, -5.5693, -5.5089, -7.0114, -7.1985, -7.7765, -6.9721, -7.8793, -7.5692, -7.8777, -7.7775, -7.5669, -7.7948, -7.8088, -7.7465, -6.1158, -7.2058, -4.3888, -7.0785, -6.8308, -7.1915, -4.7026, -5.762, -6.1047, -4.6823, -6.8673, -2.3651, -5.7683, -6.4138, -5.5964, -6.8251, -5.3289, -5.7396, -4.301, -5.8788, -4.8986, -4.7091, -6.3899, -5.3226, -4.4943, -5.6636, -6.4978, -5.553, -5.1025, -5.6287, -4.9441, -5.4645, -5.1849, -4.0866, -5.014, -5.4907, -4.7673, -5.4646, -5.4231, -5.6222, -5.3571, -5.4517, -5.6022, -5.6528, -6.8494, -6.9294, -6.9219, -7.1552, -7.218, -7.1706, -7.3585, -6.5724, -7.0292, -6.801, -7.0284, -7.1071, -7.5742, -7.1184, -5.2466, -7.2385, -7.3645, -7.6476, -7.504, -7.349, -7.7183, -7.6508, -7.7512, -7.6704, -7.5858, -7.8874, -7.4629, -7.899, -7.1479, -7.8743, -5.2561, -5.473, -5.3892, -6.7757, -6.9831, -7.2978, -6.342, -5.4056, -7.1975, -5.1902, -5.7952, -5.0526, -5.3422, -6.1459, -4.2142, -5.7253, -6.1399, -3.4775, -5.6486, -6.6281, -6.022, -3.9855, -5.5574, -5.1414, -5.2701, -4.2767, -4.8549, -4.9304, -6.302, -3.1788, -4.9712, -5.3176, -4.9222, -5.3661, -5.886, -5.6244, -5.4275, -5.2897, -5.4178, -5.5266, -5.4675, -5.2936, -5.3092, -5.9306, -5.9462, -5.9462, -5.964, -5.9571, -5.8036, -5.9643, -5.9472, -5.8593, -6.2745, -5.2524, -5.8127, -6.3759, -6.3759, -6.3759, -5.5093, -6.5218, -6.2024, -5.4506, -6.9389, -6.4876, -6.8479, -7.0765, -6.5369, -6.6192, -6.7999, -6.7209, -7.1518, -7.3698, -5.6683, -4.5849, -6.5588, -6.014, -5.0632, -3.8305, -3.6089, -5.8463, -6.1647, -5.0143, -5.5184, -5.0841, -5.7446, -5.8883, -5.0335, -6.004, -5.9222, -5.8886, -5.9498, -3.9542, -5.4629, -5.2837, -4.9441, -5.4015, -5.234, -5.3925, -5.3904, -5.3858, -5.7421, -5.6979, -5.8161, -5.8023, -5.5947, -5.8079]}, \"token.table\": {\"Topic\": [1, 2, 1, 3, 1, 1, 2, 3, 1, 2, 3, 1, 2, 1, 3, 1, 2, 3, 1, 2, 3, 1, 2, 3, 1, 2, 3, 1, 2, 3, 1, 2, 3, 1, 2, 3, 1, 2, 3, 1, 2, 3, 2, 3, 2, 3, 2, 3, 1, 2, 3, 1, 2, 3, 1, 2, 2, 1, 2, 3, 1, 2, 1, 2, 3, 2, 3, 1, 2, 3, 1, 1, 2, 1, 2, 3, 1, 1, 2, 3, 1, 3, 1, 2, 3, 1, 1, 3, 1, 2, 3, 1, 2, 3, 2, 1, 1, 2, 3, 3, 1, 2, 3, 3, 1, 2, 3, 1, 2, 3, 2, 2, 2, 3, 1, 2, 3, 1, 1, 2, 3, 1, 1, 1, 2, 3, 1, 1, 2, 3, 1, 2, 3, 1, 2, 3, 1, 2, 2, 1, 2, 3, 1, 2, 3, 1, 2, 3, 2, 1, 2, 1, 2, 3, 1, 2, 1, 3, 1, 2, 3, 1, 2, 3, 2, 2, 1, 2, 3, 1, 2, 3, 1, 2, 3, 3, 1, 1, 3, 1, 2, 3, 1, 2, 3, 1, 2, 3, 1, 2, 3, 1, 2, 3, 1, 2, 1, 2, 3, 1, 3, 1, 3, 1, 2, 3, 2, 1, 2, 3, 1, 2, 3, 1, 1, 2, 3, 1, 2, 3, 1, 3, 1, 2, 3, 1, 2, 3, 1, 2, 3, 1, 2, 3, 1, 3, 1, 2, 3, 1, 2, 3, 1, 2, 3, 3, 1, 2, 3, 1, 3, 1, 2, 3, 1, 2, 3, 2, 3, 1, 2, 3, 1, 2, 3, 1, 2, 3, 1, 2, 1, 2, 3, 1, 3, 2, 1, 2, 3, 1, 2, 1, 2, 3, 1, 2, 3, 1, 2, 3, 1, 2, 3, 3, 1, 2, 3, 1, 2, 3, 1, 2, 3, 2, 1, 2, 3, 3, 1, 3, 1, 2, 3, 1, 2, 3, 1, 1, 2, 3, 1, 2, 3, 1, 2, 3, 1, 2, 3, 2, 3, 3, 1, 1, 2, 3, 1, 2, 3, 1, 2, 3, 1, 2, 3, 1, 2, 3, 1, 2, 3, 2, 1, 2, 1, 2, 3, 1, 3, 1, 2, 3, 2, 3, 1, 2, 3, 1, 2, 3, 2, 3, 1, 2, 3, 1, 2, 3, 1, 2, 3, 2, 1, 1, 2, 3, 1, 2, 3, 1, 3, 2, 1, 3, 3, 1, 2, 3, 1, 2, 3, 1, 2, 3, 1, 2, 3, 1, 2, 3, 1, 2, 2, 1, 2, 3, 1, 2, 3, 1, 1, 2, 3], \"Freq\": [0.9622880131746037, 0.027493943233560105, 0.974095066615097, 0.01909990326696269, 0.9671308662086279, 0.017136215194641365, 0.7469373799546618, 0.23688297474945416, 0.36524813938326584, 0.43754338211833566, 0.19676879109632048, 0.024030534516641385, 0.9852519151822968, 0.9849623343125697, 0.9634532199567246, 0.7549078393327278, 0.19748643898155746, 0.047778977172957454, 0.010788533283389731, 0.019419359910101516, 0.9688102888483978, 0.8763845095192421, 0.05956011229742422, 0.05956011229742422, 0.9151036126996996, 0.04085283985266516, 0.04085283985266516, 0.9823296883613919, 0.015844027231635353, 0.015844027231635353, 0.08008894681543477, 0.8809784149697826, 0.026696315605144925, 0.12607681589992412, 0.0051013740537541544, 0.868691124582136, 0.021757705167947165, 0.13054623100768298, 0.8485505015499394, 0.0683127294027701, 0.8628976345613065, 0.0683127294027701, 0.9735038800986051, 0.027041774447183475, 0.013189900580580836, 0.9892425435435627, 0.015604942764248895, 0.9675064513834315, 0.041349066891781694, 0.010337266722945423, 0.9510285385109789, 0.009001852087146463, 0.9451944691503786, 0.045009260435732314, 0.03066336594846316, 0.9812277103508211, 0.9860003194741984, 0.500933299101486, 0.3649182973586984, 0.13435628220933896, 0.03360959551695106, 0.9746782699915807, 0.035669016274831856, 0.8305785218282274, 0.1324849175922326, 0.013189900580580836, 0.9892425435435627, 0.7308259063303734, 0.1875326853979826, 0.08273500826381586, 0.9694672403865443, 0.028311507031277536, 0.9625912390634361, 0.01842389051551584, 0.01842389051551584, 0.9764661973223394, 0.9864982237902957, 0.041081256358881775, 0.9448688962542808, 0.020540628179440888, 0.019955239214134, 0.977806721492566, 0.9287138847502809, 0.06275093815880277, 0.012550187631760553, 0.9925343378977639, 0.014683312998969479, 0.9837819709309551, 0.9850494432501745, 0.015225606855941862, 0.9896644456362209, 0.8720631151984141, 0.11111771951721727, 0.016878640939324143, 0.9771600036893178, 0.9779001691182738, 0.22158741701806128, 0.6897801852336424, 0.08934976492663761, 0.9931926519058508, 0.627717874941263, 0.20704830429999774, 0.16596729154206166, 0.9945715324938208, 0.8383357203051792, 0.022863701462868525, 0.13718220877721113, 0.5819877075432535, 0.15684775096910378, 0.26210084701416025, 0.9849804132533599, 0.9511810744838702, 0.0779385573360847, 0.9196749765657993, 0.6337312465004975, 0.32295919292813813, 0.04417838016469814, 0.9980904486582204, 0.12034976471722657, 0.6195784183590552, 0.25852912420737556, 0.9893131192434079, 0.9800438160574164, 0.8806580287229939, 0.1111110596986955, 0.012345673299855055, 0.979957768816432, 0.037051701045077656, 0.8614520492980555, 0.09880453612020709, 0.5354027313977445, 0.4304449272250589, 0.03419973394390879, 0.29406445187683655, 0.44754545965465914, 0.2579512735761724, 0.980039912367157, 0.9916282256498886, 0.9853244882454398, 0.9777584128201136, 0.017649068823467753, 0.003529813764693551, 0.024774182367080077, 0.9455479603435563, 0.03303224315610677, 0.237252196869906, 0.22498053151456604, 0.5358627205165118, 0.9857615281599894, 0.04996461608619425, 0.9493277056376908, 0.8606656177929971, 0.13214944525168065, 0.006776894628291316, 0.9441635680247027, 0.053192313691532545, 0.9680388698213379, 0.9931812695710207, 0.4195387138766723, 0.5653539985777108, 0.014983525495595439, 0.019218117832797407, 0.006406039277599135, 0.9737179701950686, 0.9582610591211596, 0.9528640691193303, 0.10220450550201578, 0.007300321821572556, 0.8906392622318519, 0.7125400569307231, 0.1906256031486724, 0.09685010482553517, 0.0830116373108988, 0.8894103997596301, 0.027670545770299603, 0.9916286842628942, 0.9839214122207187, 0.9823830595657091, 0.9929286480896605, 0.19077008656882533, 0.005610884899083098, 0.8051619830184245, 0.9212982548849208, 0.06021557221470071, 0.018064671664410212, 0.8576003892584579, 0.06638612807845883, 0.0758698606610958, 0.010414261316160845, 0.0052071306580804225, 0.9841476943771998, 0.821716941469547, 0.16335336788250032, 0.017325357199659126, 0.030132606121387313, 0.964243395884394, 0.5961552000054251, 0.30970691088577523, 0.09425862505219247, 0.007908349092747615, 0.9964519856861995, 0.007524321648668928, 0.9932104576242985, 0.7428331337458566, 0.14011523181433821, 0.11787471882793533, 0.9886147898065816, 0.922190703741463, 0.036931076474923136, 0.04127590900138468, 0.12587190463543815, 0.7639122488219695, 0.10851026261675703, 0.9861402595823722, 0.018151162623427794, 0.9474906889429308, 0.032672092722170025, 0.02547305422498921, 0.96797606054959, 0.02547305422498921, 0.9506667620973185, 0.03728104949401249, 0.04214210050288303, 0.9271262110634265, 0.03160657537716227, 0.18130820043605902, 0.5126645667502359, 0.30843234097168665, 0.6629337911307837, 0.15598442144253732, 0.18121719549941837, 0.979075106031915, 0.011253736850941552, 0.011253736850941552, 0.9701331078692654, 0.03345286578859536, 0.02216595394518033, 0.9753019735879345, 0.0036943256575300547, 0.04281838410629228, 0.787858267555778, 0.17127353642516913, 0.4153248174912456, 0.5030331640421919, 0.08125920342220024, 0.9935139621077357, 0.09081423550475089, 0.020180941223277973, 0.8930066491300503, 0.9864085942803593, 0.032880286476011975, 0.72013766339496, 0.04559313128636922, 0.23497998432205677, 0.9739027116488064, 0.0152172298695126, 0.0152172298695126, 0.9690648419287109, 0.022024200952925246, 0.3883989825621539, 0.2370747036418342, 0.3749479355470144, 0.09973053514356534, 0.8892639383634576, 0.008310877928630445, 0.12042786743437353, 0.8670806455274894, 0.008028524495624901, 0.966595844822072, 0.9766541302933597, 0.611579314619569, 0.3544924486828833, 0.03353306947000248, 0.016664401941091592, 0.9831997145244039, 0.9894876925738514, 0.022344971702286127, 0.029793295603048168, 0.9459371353967794, 0.98200543881703, 0.018884719977250573, 0.02450369956161651, 0.9556442829030438, 0.02450369956161651, 0.013968236705452157, 0.9777765693816509, 0.9891378885208167, 0.0606999378102868, 0.0033722187672381556, 0.9374768172922072, 0.740541697870006, 0.24054344156911128, 0.018911373162672218, 0.978415216259766, 0.6176561638104914, 0.2290474940797239, 0.15441404095262284, 0.39618225061798457, 0.489481142401742, 0.11358125956283516, 0.011050332736399389, 0.011050332736399389, 0.9834796135395456, 0.987378673551696, 0.9862690920082008, 0.01700463951738277, 0.01700463951738277, 0.9847755935656636, 0.015358166937672156, 0.982922684011018, 0.9520183181589789, 0.038595337222661306, 0.012865112407553768, 0.8825418484494423, 0.11511415414557943, 0.007674276943038629, 0.9897161337351373, 0.39562213590334766, 0.5969035734682088, 0.00925431896849936, 0.021005527534291087, 0.10202684802369956, 0.8762305771447139, 0.9618839050239817, 0.006370092086251534, 0.03822055251750921, 0.0803290420353454, 0.4824925040961714, 0.43740459017955813, 0.9757939513228489, 0.023799852471288997, 0.9949335233672858, 0.9756079163648205, 0.03153242938467094, 0.7630847911090367, 0.2081140339388282, 0.10363906975664151, 0.004668426565614482, 0.8916694740323661, 0.0837831269140724, 0.012889711832934215, 0.9087246842218621, 0.30243207846955267, 0.6028067958610811, 0.09463860958911172, 0.48314857636806574, 0.4790540969073194, 0.036850315146716876, 0.5355364299883894, 0.3687603791269532, 0.09450642882148047, 0.9610135545574873, 0.017546623571547487, 0.9826109200066593, 0.7535708660128715, 0.12855032420219573, 0.11820719466868573, 0.9743948353168687, 0.019105781084644485, 0.8394125064360142, 0.1406345560521071, 0.017579319506513386, 0.9816714928198584, 0.9936084484659525, 0.08241044075394827, 0.8506884206859175, 0.0664600328660873, 0.06792227427849672, 0.007546919364277413, 0.9207241624418444, 0.013189900580580836, 0.9892425435435627, 0.39240945109056735, 0.09395719251464289, 0.5167645588305358, 0.008979743155253017, 0.017959486310506034, 0.969812260767326, 0.7084770568580755, 0.12959946162037966, 0.1641593180524809, 0.9761840848489571, 0.9967002855679041, 0.051459691111269294, 0.017153230370423097, 0.9348510551880588, 0.4534340588738792, 0.14436689766836514, 0.40260064420191966, 0.008602088491025629, 0.9892401764679474, 0.9809322289890721, 0.007485554929806745, 0.9955788056642971, 0.9929287211773724, 0.06302555720322686, 0.039390973252016785, 0.9059923847963861, 0.9109435832921542, 0.012710840697099827, 0.07626504418259895, 0.5308635956285567, 0.03395057879019839, 0.4351846917652703, 0.445745021401606, 0.4718119817174894, 0.08341427301082685, 0.005539546884324199, 0.011079093768648398, 0.9860393454097075, 0.022051124085624266, 0.9702494597674678, 0.9760547878962069, 0.03493275947631759, 0.8849632400667123, 0.07568764553202145, 0.5540787033940646, 0.15391075094279572, 0.29023170177784335, 0.9673798006183569, 0.6047870796686028, 0.06855885923368776, 0.32565458136001685], \"Term\": [\"_\", \"_\", \"activ\", \"activ\", \"ad\", \"addict\", \"addict\", \"addict\", \"afraid\", \"afraid\", \"afraid\", \"ah\", \"ah\", \"ai\", \"alassad\", \"alway\", \"alway\", \"alway\", \"ambassador\", \"ambassador\", \"ambassador\", \"angri\", \"angri\", \"angri\", \"anyth\", \"anyth\", \"anyth\", \"anyway\", \"anyway\", \"anyway\", \"arent\", \"arent\", \"arent\", \"assad\", \"assad\", \"assad\", \"asylum\", \"asylum\", \"asylum\", \"bad\", \"bad\", \"bad\", \"ball\", \"ball\", \"beautyritu\", \"beautyritu\", \"bless\", \"bless\", \"bomb\", \"bomb\", \"bomb\", \"breakdown\", \"breakdown\", \"breakdown\", \"btw\", \"btw\", \"budget\", \"cant\", \"cant\", \"cant\", \"card\", \"card\", \"caus\", \"caus\", \"caus\", \"celebratebeauti\", \"celebratebeauti\", \"come\", \"come\", \"come\", \"comm\", \"compani\", \"compani\", \"complain\", \"complain\", \"complain\", \"confus\", \"cool\", \"cool\", \"cool\", \"corrupt\", \"corrupt\", \"couldnt\", \"couldnt\", \"couldnt\", \"creativ\", \"crime\", \"crime\", \"crystalfight\", \"david\", \"david\", \"day\", \"day\", \"day\", \"deficit\", \"del\", \"didnt\", \"didnt\", \"didnt\", \"dolla\", \"dont\", \"dont\", \"dont\", \"dragon\", \"end\", \"end\", \"end\", \"even\", \"even\", \"even\", \"failur\", \"fat\", \"feat\", \"feat\", \"feel\", \"feel\", \"feel\", \"fighter\", \"first\", \"first\", \"first\", \"flow\", \"flower\", \"friend\", \"friend\", \"friend\", \"frustrat\", \"fuck\", \"fuck\", \"fuck\", \"get\", \"get\", \"get\", \"go\", \"go\", \"go\", \"googl\", \"gotta\", \"halloween\", \"happi\", \"happi\", \"happi\", \"health\", \"health\", \"health\", \"help\", \"help\", \"help\", \"heroin\", \"homesick\", \"homesick\", \"hope\", \"hope\", \"hope\", \"hurt\", \"hurt\", \"iam\", \"ign\", \"im\", \"im\", \"im\", \"imagin\", \"imagin\", \"imagin\", \"innov\", \"insomniac\", \"iran\", \"iran\", \"iran\", \"it\", \"it\", \"it\", \"iv\", \"iv\", \"iv\", \"jam\", \"joel\", \"juic\", \"khalifa\", \"kill\", \"kill\", \"kill\", \"kinda\", \"kinda\", \"kinda\", \"know\", \"know\", \"know\", \"less\", \"less\", \"less\", \"life\", \"life\", \"life\", \"lift\", \"lift\", \"like\", \"like\", \"like\", \"lil\", \"lil\", \"logic\", \"logic\", \"love\", \"love\", \"love\", \"main\", \"make\", \"make\", \"make\", \"man\", \"man\", \"man\", \"memori\", \"mental\", \"mental\", \"mental\", \"mess\", \"mess\", \"mess\", \"mine\", \"mine\", \"move\", \"move\", \"move\", \"need\", \"need\", \"need\", \"never\", \"never\", \"never\", \"night\", \"night\", \"night\", \"often\", \"often\", \"oh\", \"oh\", \"oh\", \"ok\", \"ok\", \"ok\", \"one\", \"one\", \"one\", \"own\", \"pain\", \"pain\", \"pain\", \"palestinian\", \"palestinian\", \"peopl\", \"peopl\", \"peopl\", \"pictur\", \"pictur\", \"pictur\", \"pilot\", \"pilot\", \"play\", \"play\", \"play\", \"poor\", \"poor\", \"poor\", \"probabl\", \"probabl\", \"probabl\", \"profession\", \"q\", \"realli\", \"realli\", \"realli\", \"rebel\", \"rebel\", \"recov\", \"refuge\", \"refuge\", \"refuge\", \"remind\", \"remind\", \"rise\", \"rise\", \"rise\", \"rn\", \"rn\", \"road\", \"russia\", \"russia\", \"russia\", \"sad\", \"sad\", \"sad\", \"sadstuck\", \"say\", \"say\", \"say\", \"see\", \"see\", \"see\", \"seeker\", \"seeker\", \"seeker\", \"shakira\", \"shock\", \"shock\", \"shock\", \"sieg\", \"smile\", \"smile\", \"sometim\", \"sometim\", \"sometim\", \"song\", \"song\", \"song\", \"sooo\", \"still\", \"still\", \"still\", \"stop\", \"stop\", \"stop\", \"stori\", \"stori\", \"stori\", \"stress\", \"stress\", \"stress\", \"success\", \"success\", \"sucker\", \"summertim\", \"swiss\", \"swiss\", \"swiss\", \"syria\", \"syria\", \"syria\", \"syrian\", \"syrian\", \"syrian\", \"that\", \"that\", \"that\", \"thing\", \"thing\", \"thing\", \"think\", \"think\", \"think\", \"third\", \"ticket\", \"ticket\", \"time\", \"time\", \"time\", \"tour\", \"tour\", \"true\", \"true\", \"true\", \"twenti\", \"ty\", \"u\", \"u\", \"u\", \"un\", \"un\", \"un\", \"uniquebeauti\", \"uniquebeauti\", \"us\", \"us\", \"us\", \"usa\", \"usa\", \"usa\", \"use\", \"use\", \"use\", \"valley\", \"vine\", \"vote\", \"vote\", \"vote\", \"want\", \"want\", \"want\", \"war\", \"war\", \"wash\", \"wayn\", \"wayn\", \"wiz\", \"women\", \"women\", \"women\", \"wont\", \"wont\", \"wont\", \"world\", \"world\", \"world\", \"would\", \"would\", \"would\", \"x\", \"x\", \"x\", \"xx\", \"xx\", \"yall\", \"yeah\", \"yeah\", \"yeah\", \"year\", \"year\", \"year\", \"youd\", \"your\", \"your\", \"your\"]}, \"R\": 30, \"lambda.step\": 0.01, \"plot.opts\": {\"xlab\": \"PC1\", \"ylab\": \"PC2\"}, \"topic.order\": [2, 3, 1]};\n",
       "\n",
       "function LDAvis_load_lib(url, callback){\n",
       "  var s = document.createElement('script');\n",
       "  s.src = url;\n",
       "  s.async = true;\n",
       "  s.onreadystatechange = s.onload = callback;\n",
       "  s.onerror = function(){console.warn(\"failed to load library \" + url);};\n",
       "  document.getElementsByTagName(\"head\")[0].appendChild(s);\n",
       "}\n",
       "\n",
       "if(typeof(LDAvis) !== \"undefined\"){\n",
       "   // already loaded: just create the visualization\n",
       "   !function(LDAvis){\n",
       "       new LDAvis(\"#\" + \"ldavis_el2922456558798725315842962\", ldavis_el2922456558798725315842962_data);\n",
       "   }(LDAvis);\n",
       "}else if(typeof define === \"function\" && define.amd){\n",
       "   // require.js is available: use it to load d3/LDAvis\n",
       "   require.config({paths: {d3: \"https://cdnjs.cloudflare.com/ajax/libs/d3/3.5.5/d3.min\"}});\n",
       "   require([\"d3\"], function(d3){\n",
       "      window.d3 = d3;\n",
       "      LDAvis_load_lib(\"https://cdn.rawgit.com/bmabey/pyLDAvis/files/ldavis.v1.0.0.js\", function(){\n",
       "        new LDAvis(\"#\" + \"ldavis_el2922456558798725315842962\", ldavis_el2922456558798725315842962_data);\n",
       "      });\n",
       "    });\n",
       "}else{\n",
       "    // require.js not available: dynamically load d3 & LDAvis\n",
       "    LDAvis_load_lib(\"https://cdnjs.cloudflare.com/ajax/libs/d3/3.5.5/d3.min.js\", function(){\n",
       "         LDAvis_load_lib(\"https://cdn.rawgit.com/bmabey/pyLDAvis/files/ldavis.v1.0.0.js\", function(){\n",
       "                 new LDAvis(\"#\" + \"ldavis_el2922456558798725315842962\", ldavis_el2922456558798725315842962_data);\n",
       "            })\n",
       "         });\n",
       "}\n",
       "</script>"
      ],
      "text/plain": [
       "<IPython.core.display.HTML object>"
      ]
     },
     "execution_count": 97,
     "metadata": {},
     "output_type": "execute_result"
    }
   ],
   "source": [
    "pyLDAvis.display(vis_data)"
   ]
  },
  {
   "cell_type": "markdown",
   "metadata": {},
   "source": [
    "## Same for french etc:"
   ]
  },
  {
   "cell_type": "code",
   "execution_count": 104,
   "metadata": {
    "collapsed": true
   },
   "outputs": [],
   "source": [
    "french_filtered_2 = french_filtered.tokenized.map(lambda x: [re.sub(r'[^\\w\\s]','',s) for s in x])"
   ]
  },
  {
   "cell_type": "code",
   "execution_count": 108,
   "metadata": {},
   "outputs": [
    {
     "data": {
      "text/plain": [
       "330                                     [seul, debout, ]\n",
       "343    [crois, vais, allez, regard, le, feu, dartific...\n",
       "669              [rigol, encor, tout, seul, chambr, dhi]\n",
       "686    [vécu, , cest, sûr, seul, chos, vi, sujet, laq...\n",
       "691    [dur, auss, longtemp, , jen, auss, , le, tais,...\n",
       "Name: tokenized, dtype: object"
      ]
     },
     "execution_count": 108,
     "metadata": {},
     "output_type": "execute_result"
    }
   ],
   "source": [
    "french_filtered_2.head()"
   ]
  },
  {
   "cell_type": "code",
   "execution_count": 111,
   "metadata": {},
   "outputs": [
    {
     "name": "stderr",
     "output_type": "stream",
     "text": [
      "/Users/lguillain/anaconda/lib/python3.6/site-packages/pyLDAvis/_prepare.py:387: DeprecationWarning: \n",
      ".ix is deprecated. Please use\n",
      ".loc for label based indexing or\n",
      ".iloc for positional indexing\n",
      "\n",
      "See the documentation here:\n",
      "http://pandas.pydata.org/pandas-docs/stable/indexing.html#deprecate_ix\n",
      "  topic_term_dists = topic_term_dists.ix[topic_order]\n"
     ]
    },
    {
     "data": {
      "text/html": [
       "\n",
       "<link rel=\"stylesheet\" type=\"text/css\" href=\"https://cdn.rawgit.com/bmabey/pyLDAvis/files/ldavis.v1.0.0.css\">\n",
       "\n",
       "\n",
       "<div id=\"ldavis_el2922456168640166264898819\"></div>\n",
       "<script type=\"text/javascript\">\n",
       "\n",
       "var ldavis_el2922456168640166264898819_data = {\"mdsDat\": {\"Freq\": [12.487820553609199, 12.150478779481933, 11.255494683407145, 10.981657052796617, 10.361237048314932, 9.239668287669362, 8.810332623982807, 8.413658338806949, 8.286829257365264, 8.012823374565805], \"cluster\": [1, 1, 1, 1, 1, 1, 1, 1, 1, 1], \"topics\": [1, 2, 3, 4, 5, 6, 7, 8, 9, 10], \"x\": [-0.01860480593180001, -0.09315017262185504, 0.03566449267941462, 0.09882664289927015, -0.08889351750368052, -0.025605335015198065, 0.03861012538851564, 0.08194412973539648, -0.17198948075115528, 0.14319792112109242], \"y\": [-0.013914837977902572, 0.006522743739491658, 0.004587841955558079, -0.020190249099006703, 0.02544403032559803, -0.14952864185481418, -0.134682546419646, 0.08769358878938875, 0.09252434324140296, 0.10154372729992996]}, \"tinfo\": {\"Category\": [\"Default\", \"Default\", \"Default\", \"Default\", \"Default\", \"Default\", \"Default\", \"Default\", \"Default\", \"Default\", \"Default\", \"Default\", \"Default\", \"Default\", \"Default\", \"Default\", \"Default\", \"Default\", \"Default\", \"Default\", \"Default\", \"Default\", \"Default\", \"Default\", \"Default\", \"Default\", \"Default\", \"Default\", \"Default\", \"Default\", \"Topic1\", \"Topic1\", \"Topic1\", \"Topic1\", \"Topic1\", \"Topic1\", \"Topic1\", \"Topic1\", \"Topic1\", \"Topic1\", \"Topic1\", \"Topic1\", \"Topic1\", \"Topic1\", \"Topic1\", \"Topic1\", \"Topic1\", \"Topic1\", \"Topic1\", \"Topic1\", \"Topic1\", \"Topic1\", \"Topic1\", \"Topic1\", \"Topic1\", \"Topic1\", \"Topic1\", \"Topic1\", \"Topic1\", \"Topic1\", \"Topic1\", \"Topic1\", \"Topic1\", \"Topic1\", \"Topic1\", \"Topic1\", \"Topic1\", \"Topic1\", \"Topic1\", \"Topic1\", \"Topic1\", \"Topic1\", \"Topic1\", \"Topic1\", \"Topic1\", \"Topic1\", \"Topic1\", \"Topic1\", \"Topic1\", \"Topic1\", \"Topic1\", \"Topic1\", \"Topic1\", \"Topic1\", \"Topic1\", \"Topic1\", \"Topic1\", \"Topic1\", \"Topic1\", \"Topic1\", \"Topic1\", \"Topic1\", \"Topic1\", \"Topic1\", \"Topic1\", \"Topic1\", \"Topic1\", \"Topic1\", \"Topic1\", \"Topic1\", \"Topic1\", \"Topic1\", \"Topic1\", \"Topic1\", \"Topic1\", \"Topic1\", \"Topic2\", \"Topic2\", \"Topic2\", \"Topic2\", \"Topic2\", \"Topic2\", \"Topic2\", \"Topic2\", \"Topic2\", \"Topic2\", \"Topic2\", \"Topic2\", \"Topic2\", \"Topic2\", \"Topic2\", \"Topic2\", \"Topic2\", \"Topic2\", \"Topic2\", \"Topic2\", \"Topic2\", \"Topic2\", \"Topic2\", \"Topic2\", \"Topic2\", \"Topic2\", \"Topic2\", \"Topic2\", \"Topic2\", \"Topic2\", \"Topic2\", \"Topic2\", \"Topic2\", \"Topic2\", \"Topic2\", \"Topic2\", \"Topic2\", \"Topic2\", \"Topic2\", \"Topic2\", \"Topic2\", \"Topic2\", \"Topic2\", \"Topic2\", \"Topic2\", \"Topic2\", \"Topic2\", \"Topic2\", \"Topic2\", \"Topic2\", \"Topic2\", \"Topic2\", \"Topic2\", \"Topic2\", \"Topic2\", \"Topic2\", \"Topic2\", \"Topic2\", \"Topic2\", \"Topic2\", \"Topic2\", \"Topic2\", \"Topic2\", \"Topic2\", \"Topic2\", \"Topic2\", \"Topic2\", \"Topic2\", \"Topic2\", \"Topic2\", \"Topic2\", \"Topic2\", \"Topic2\", \"Topic2\", \"Topic2\", \"Topic2\", \"Topic2\", \"Topic2\", \"Topic2\", \"Topic2\", \"Topic2\", \"Topic2\", \"Topic3\", \"Topic3\", \"Topic3\", \"Topic3\", \"Topic3\", \"Topic3\", \"Topic3\", \"Topic3\", \"Topic3\", \"Topic3\", \"Topic3\", \"Topic3\", \"Topic3\", \"Topic3\", \"Topic3\", \"Topic3\", \"Topic3\", \"Topic3\", \"Topic3\", \"Topic3\", \"Topic3\", \"Topic3\", \"Topic3\", \"Topic3\", \"Topic3\", \"Topic3\", \"Topic3\", \"Topic3\", \"Topic3\", \"Topic3\", \"Topic3\", \"Topic3\", \"Topic3\", \"Topic3\", \"Topic3\", \"Topic3\", \"Topic3\", \"Topic3\", \"Topic3\", \"Topic3\", \"Topic3\", \"Topic3\", \"Topic3\", \"Topic3\", \"Topic3\", \"Topic3\", \"Topic3\", \"Topic3\", \"Topic3\", \"Topic3\", \"Topic3\", \"Topic3\", \"Topic3\", \"Topic3\", \"Topic3\", \"Topic3\", \"Topic3\", \"Topic3\", \"Topic3\", \"Topic3\", \"Topic3\", \"Topic3\", \"Topic3\", \"Topic3\", \"Topic3\", \"Topic3\", \"Topic3\", \"Topic3\", \"Topic3\", \"Topic3\", \"Topic3\", \"Topic3\", \"Topic3\", \"Topic3\", \"Topic3\", \"Topic3\", \"Topic3\", \"Topic3\", \"Topic3\", \"Topic4\", \"Topic4\", \"Topic4\", \"Topic4\", \"Topic4\", \"Topic4\", \"Topic4\", \"Topic4\", \"Topic4\", \"Topic4\", \"Topic4\", \"Topic4\", \"Topic4\", \"Topic4\", \"Topic4\", \"Topic4\", \"Topic4\", \"Topic4\", \"Topic4\", \"Topic4\", \"Topic4\", \"Topic4\", \"Topic4\", \"Topic4\", \"Topic4\", \"Topic4\", \"Topic4\", \"Topic4\", \"Topic4\", \"Topic4\", \"Topic4\", \"Topic4\", \"Topic4\", \"Topic4\", \"Topic4\", \"Topic4\", \"Topic4\", \"Topic4\", \"Topic4\", \"Topic4\", \"Topic4\", \"Topic4\", \"Topic4\", \"Topic4\", \"Topic4\", \"Topic4\", \"Topic4\", \"Topic4\", \"Topic4\", \"Topic4\", \"Topic4\", \"Topic4\", \"Topic4\", \"Topic4\", \"Topic4\", \"Topic4\", \"Topic4\", \"Topic4\", \"Topic4\", \"Topic4\", \"Topic4\", \"Topic4\", \"Topic4\", \"Topic4\", \"Topic4\", \"Topic4\", \"Topic4\", \"Topic4\", \"Topic4\", \"Topic4\", \"Topic4\", \"Topic4\", \"Topic4\", \"Topic4\", \"Topic4\", \"Topic4\", \"Topic4\", \"Topic4\", \"Topic4\", \"Topic4\", \"Topic4\", \"Topic4\", \"Topic4\", \"Topic4\", \"Topic5\", \"Topic5\", \"Topic5\", \"Topic5\", \"Topic5\", \"Topic5\", \"Topic5\", \"Topic5\", \"Topic5\", \"Topic5\", \"Topic5\", \"Topic5\", \"Topic5\", \"Topic5\", \"Topic5\", \"Topic5\", \"Topic5\", \"Topic5\", \"Topic5\", \"Topic5\", \"Topic5\", \"Topic5\", \"Topic5\", \"Topic5\", \"Topic5\", \"Topic5\", \"Topic5\", \"Topic5\", \"Topic5\", \"Topic5\", \"Topic5\", \"Topic5\", \"Topic5\", \"Topic5\", \"Topic5\", \"Topic5\", \"Topic5\", \"Topic5\", \"Topic5\", \"Topic5\", \"Topic5\", \"Topic5\", \"Topic5\", \"Topic5\", \"Topic5\", \"Topic5\", \"Topic5\", \"Topic5\", \"Topic5\", \"Topic5\", \"Topic5\", \"Topic5\", \"Topic5\", \"Topic5\", \"Topic5\", \"Topic5\", \"Topic5\", \"Topic5\", \"Topic5\", \"Topic5\", \"Topic5\", \"Topic5\", \"Topic5\", \"Topic5\", \"Topic5\", \"Topic5\", \"Topic5\", \"Topic5\", \"Topic5\", \"Topic5\", \"Topic5\", \"Topic5\", \"Topic5\", \"Topic5\", \"Topic5\", \"Topic6\", \"Topic6\", \"Topic6\", \"Topic6\", \"Topic6\", \"Topic6\", \"Topic6\", \"Topic6\", \"Topic6\", \"Topic6\", \"Topic6\", \"Topic6\", \"Topic6\", \"Topic6\", \"Topic6\", \"Topic6\", \"Topic6\", \"Topic6\", \"Topic6\", \"Topic6\", \"Topic6\", \"Topic6\", \"Topic6\", \"Topic6\", \"Topic6\", \"Topic6\", \"Topic6\", \"Topic6\", \"Topic6\", \"Topic6\", \"Topic6\", \"Topic6\", \"Topic6\", \"Topic6\", \"Topic6\", \"Topic6\", \"Topic6\", \"Topic6\", \"Topic6\", \"Topic6\", \"Topic6\", \"Topic6\", \"Topic6\", \"Topic6\", \"Topic6\", \"Topic6\", \"Topic6\", \"Topic6\", \"Topic6\", \"Topic6\", \"Topic6\", \"Topic6\", \"Topic6\", \"Topic6\", \"Topic6\", \"Topic6\", \"Topic6\", \"Topic6\", \"Topic6\", \"Topic6\", \"Topic6\", \"Topic6\", \"Topic6\", \"Topic6\", \"Topic6\", \"Topic6\", \"Topic6\", \"Topic6\", \"Topic6\", \"Topic6\", \"Topic6\", \"Topic6\", \"Topic6\", \"Topic6\", \"Topic6\", \"Topic6\", \"Topic6\", \"Topic6\", \"Topic6\", \"Topic6\", \"Topic6\", \"Topic7\", \"Topic7\", \"Topic7\", \"Topic7\", \"Topic7\", \"Topic7\", \"Topic7\", \"Topic7\", \"Topic7\", \"Topic7\", \"Topic7\", \"Topic7\", \"Topic7\", \"Topic7\", \"Topic7\", \"Topic7\", \"Topic7\", \"Topic7\", \"Topic7\", \"Topic7\", \"Topic7\", \"Topic7\", \"Topic7\", \"Topic7\", \"Topic7\", \"Topic7\", \"Topic7\", \"Topic7\", \"Topic7\", \"Topic7\", \"Topic7\", \"Topic7\", \"Topic7\", \"Topic7\", \"Topic7\", \"Topic7\", \"Topic7\", \"Topic7\", \"Topic7\", \"Topic7\", \"Topic7\", \"Topic7\", \"Topic7\", \"Topic7\", \"Topic7\", \"Topic7\", \"Topic7\", \"Topic7\", \"Topic7\", \"Topic7\", \"Topic7\", \"Topic7\", \"Topic7\", \"Topic7\", \"Topic7\", \"Topic7\", \"Topic7\", \"Topic7\", \"Topic7\", \"Topic7\", \"Topic7\", \"Topic7\", \"Topic7\", \"Topic7\", \"Topic7\", \"Topic7\", \"Topic7\", \"Topic7\", \"Topic7\", \"Topic7\", \"Topic7\", \"Topic7\", \"Topic7\", \"Topic7\", \"Topic7\", \"Topic7\", \"Topic7\", \"Topic8\", \"Topic8\", \"Topic8\", \"Topic8\", \"Topic8\", \"Topic8\", \"Topic8\", \"Topic8\", \"Topic8\", \"Topic8\", \"Topic8\", \"Topic8\", \"Topic8\", \"Topic8\", \"Topic8\", \"Topic8\", \"Topic8\", \"Topic8\", \"Topic8\", \"Topic8\", \"Topic8\", \"Topic8\", \"Topic8\", \"Topic8\", \"Topic8\", \"Topic8\", \"Topic8\", \"Topic8\", \"Topic8\", \"Topic8\", \"Topic8\", \"Topic8\", \"Topic8\", \"Topic8\", \"Topic8\", \"Topic8\", \"Topic8\", \"Topic8\", \"Topic8\", \"Topic8\", \"Topic8\", \"Topic8\", \"Topic8\", \"Topic8\", \"Topic8\", \"Topic8\", \"Topic8\", \"Topic8\", \"Topic8\", \"Topic8\", \"Topic8\", \"Topic8\", \"Topic8\", \"Topic8\", \"Topic8\", \"Topic8\", \"Topic8\", \"Topic8\", \"Topic8\", \"Topic8\", \"Topic8\", \"Topic8\", \"Topic8\", \"Topic8\", \"Topic8\", \"Topic8\", \"Topic8\", \"Topic8\", \"Topic8\", \"Topic8\", \"Topic8\", \"Topic8\", \"Topic8\", \"Topic8\", \"Topic8\", \"Topic8\", \"Topic9\", \"Topic9\", \"Topic9\", \"Topic9\", \"Topic9\", \"Topic9\", \"Topic9\", \"Topic9\", \"Topic9\", \"Topic9\", \"Topic9\", \"Topic9\", \"Topic9\", \"Topic9\", \"Topic9\", \"Topic9\", \"Topic9\", \"Topic9\", \"Topic9\", \"Topic9\", \"Topic9\", \"Topic9\", \"Topic9\", \"Topic9\", \"Topic9\", \"Topic9\", \"Topic9\", \"Topic9\", \"Topic9\", \"Topic9\", \"Topic9\", \"Topic9\", \"Topic9\", \"Topic9\", \"Topic9\", \"Topic9\", \"Topic9\", \"Topic9\", \"Topic9\", \"Topic9\", \"Topic9\", \"Topic9\", \"Topic9\", \"Topic9\", \"Topic9\", \"Topic9\", \"Topic9\", \"Topic9\", \"Topic9\", \"Topic9\", \"Topic9\", \"Topic9\", \"Topic9\", \"Topic9\", \"Topic9\", \"Topic9\", \"Topic9\", \"Topic9\", \"Topic9\", \"Topic9\", \"Topic9\", \"Topic9\", \"Topic9\", \"Topic9\", \"Topic9\", \"Topic9\", \"Topic9\", \"Topic9\", \"Topic9\", \"Topic9\", \"Topic9\", \"Topic9\", \"Topic9\", \"Topic9\", \"Topic9\", \"Topic9\", \"Topic9\", \"Topic10\", \"Topic10\", \"Topic10\", \"Topic10\", \"Topic10\", \"Topic10\", \"Topic10\", \"Topic10\", \"Topic10\", \"Topic10\", \"Topic10\", \"Topic10\", \"Topic10\", \"Topic10\", \"Topic10\", \"Topic10\", \"Topic10\", \"Topic10\", \"Topic10\", \"Topic10\", \"Topic10\", \"Topic10\", \"Topic10\", \"Topic10\", \"Topic10\", \"Topic10\", \"Topic10\", \"Topic10\", \"Topic10\", \"Topic10\", \"Topic10\", \"Topic10\", \"Topic10\", \"Topic10\", \"Topic10\", \"Topic10\", \"Topic10\", \"Topic10\", \"Topic10\", \"Topic10\", \"Topic10\", \"Topic10\", \"Topic10\", \"Topic10\", \"Topic10\", \"Topic10\", \"Topic10\", \"Topic10\", \"Topic10\", \"Topic10\", \"Topic10\", \"Topic10\", \"Topic10\", \"Topic10\", \"Topic10\", \"Topic10\", \"Topic10\", \"Topic10\", \"Topic10\", \"Topic10\", \"Topic10\", \"Topic10\", \"Topic10\", \"Topic10\", \"Topic10\", \"Topic10\", \"Topic10\", \"Topic10\", \"Topic10\", \"Topic10\", \"Topic10\", \"Topic10\", \"Topic10\", \"Topic10\", \"Topic10\", \"Topic10\", \"Topic10\", \"Topic10\", \"Topic10\", \"Topic10\", \"Topic10\", \"Topic10\"], \"Freq\": [4504.0, 3588.0, 3686.0, 1572.0, 708.0, 1705.0, 2138.0, 1971.0, 1309.0, 509.0, 1082.0, 2543.0, 610.0, 2769.0, 236.0, 352.0, 370.0, 222.0, 604.0, 124.0, 558.0, 247.0, 217.0, 451.0, 757.0, 399.0, 434.0, 220.0, 1015.0, 413.0, 34.55103403109742, 25.629203139398722, 21.685816433979053, 18.921670652062396, 20.375557079130463, 17.57259688393518, 16.850555513091027, 36.062741530072486, 16.429468644474515, 16.419489776690543, 16.795030852037073, 15.779210213840098, 21.89451296634838, 14.261283395433905, 14.252968382185786, 30.66143833821572, 13.83425427265851, 13.607394722598697, 13.448723362245214, 12.733420360101293, 12.412664484034597, 12.184300603920978, 12.320448130972052, 12.95290153996156, 11.431866694669138, 11.66472888932783, 17.10789641252699, 13.344564435279569, 54.04014760230624, 12.73209803752665, 16.618750870582616, 17.831866496874085, 14.945875548423126, 21.537976907063314, 49.66400379682651, 74.71811951389252, 19.25040746707553, 20.032278905846994, 161.98588546781548, 55.43239796631635, 54.325515263205276, 93.30103819853342, 41.51946382477, 223.79563080180358, 163.14103515595295, 185.3764556965688, 640.018625884979, 36.978552016234374, 87.83791766862008, 500.1761236572809, 23.4948971677195, 742.037841893802, 383.263907147617, 25.507247899272976, 185.06683301236706, 49.66448890941836, 114.06746248201532, 107.45713963340458, 251.97261622151402, 138.4224881386864, 400.07413217827667, 96.6890307248142, 402.9334010082545, 119.7550986661528, 192.21565918263823, 143.16402859795485, 201.2596725690678, 107.46718295075235, 203.50140449394326, 96.91940951925658, 282.1873606445582, 135.59114708996188, 124.66339018670193, 204.87167714035013, 115.180674890136, 88.21594689396052, 24.92228349756941, 20.525065520590907, 18.67002980614122, 18.17821556157175, 16.561273476404235, 16.461983668714204, 16.204711055775533, 14.353737516666893, 13.671535080818165, 15.934198548259578, 14.403294304041745, 13.48689895210225, 13.49200983429265, 12.501084546107766, 10.777685160058184, 10.385915333058128, 20.813552179142928, 9.775603538599292, 10.241665712515797, 15.307831716177242, 9.426766709044134, 11.662593808704202, 14.156510895899535, 9.037678545877558, 11.2134326783164, 9.014552088479483, 9.087868081776131, 10.305378937047943, 8.832056473318067, 8.41102204287031, 23.44264151407349, 23.82948784817323, 81.33565463590175, 23.74064424519002, 35.206016004720574, 28.6733199800736, 15.236470066399846, 24.477652203241583, 52.859643751606484, 58.268968340463395, 42.45900294583915, 34.953302449193444, 1272.2047703048127, 84.82490643858333, 142.08222021238495, 38.81789993456347, 47.461732895130545, 57.468871679533876, 1059.1783016920822, 80.4217135532616, 285.0333827144272, 310.90274485450436, 135.80559278111477, 57.16489633931178, 695.4094151981021, 56.80110971919986, 389.56857201093544, 90.79508961346248, 98.7120438055143, 141.30625367388384, 154.2684269361124, 51.51992747517981, 97.99107102045764, 332.012793302473, 84.94055564862998, 58.70029005344179, 123.88770803127733, 88.03554005950295, 103.13721637142409, 95.38844634447594, 150.82162454514943, 102.6818802594643, 191.5892694073792, 198.24216371806693, 99.30621188471311, 113.24201225554057, 147.6553528466453, 90.34845120499686, 152.29605160018596, 98.2899509538563, 108.05515381676337, 89.93741270687354, 26.165598672251146, 24.1321381252013, 20.361559493556513, 24.37855932773357, 19.475037183409263, 21.845104048824837, 19.62920202770914, 30.41312213357918, 17.997338523103007, 17.17144379327868, 15.072187253184408, 16.438489902278473, 17.290967001976146, 13.480542834487034, 13.252635543017739, 12.202017520816716, 12.276245966315598, 13.282713756437165, 11.331663344577473, 11.328066269469414, 11.918667523769368, 12.849604153895449, 11.075848466208484, 10.533612000132871, 10.470061620419502, 12.34769763815428, 10.237701044673592, 10.509343224021597, 16.22310224088097, 11.13927356061444, 21.266154170587853, 129.93665927399107, 60.47005124956564, 49.53420149643754, 13.957290169288626, 98.28325695286361, 38.85515062324154, 25.407959311716738, 47.10501202040977, 47.18278176443407, 72.8127366156834, 42.62153048825447, 117.56892635564151, 29.90765553513792, 18.900950942923522, 19.625414068174837, 32.25509291100859, 50.30883859633469, 257.0540793445335, 281.81510770067547, 80.33472611941984, 43.96394716149045, 50.1117627945584, 51.23020643953208, 697.4762340668908, 252.5351633811103, 256.14604963468867, 403.96611134940474, 55.07000669081954, 141.31714759967025, 121.62213193569144, 311.63568054477906, 361.7121570991158, 259.3093523341875, 103.110780429828, 83.45567244774566, 124.56459301497986, 130.55876782760782, 252.23009874230436, 128.52138139789955, 210.10193195250062, 84.12113710789896, 152.82859524191974, 143.1091013232138, 94.51911060398427, 80.03213767157041, 92.3960939804013, 124.22260973150009, 96.22951178306823, 29.339512580532343, 24.67171823351042, 49.940060150967504, 18.889288478588547, 20.75467811912604, 17.93947013574981, 16.712301090210904, 17.496734215544603, 16.295523803440563, 17.874729655851453, 19.228333084146495, 28.52495136916598, 15.848516399950919, 12.846039461312865, 12.672338426788073, 14.383679799802334, 11.821976609050338, 11.926165273523042, 11.593469705337167, 13.212070259850726, 11.79975276034355, 12.711466952045015, 10.1896451761752, 9.770622305492425, 13.676017475040112, 9.769633588968372, 10.495786866615532, 9.71948914706817, 10.583542614109215, 9.88559289666461, 19.884684689447372, 56.9155024494225, 23.503745626639823, 40.17468468747226, 14.363286359278112, 69.80846656976578, 17.05259197219141, 65.33551811169085, 74.89240666202274, 29.027065684208146, 56.893739448892944, 83.96042456694789, 38.430321868173465, 26.963723493281037, 1434.7699453529037, 19.965654874960286, 21.496807652006446, 48.492677214599254, 140.25112338422016, 37.48779456065552, 28.618939592132293, 56.784317611864076, 386.84111344168855, 136.01278723240864, 147.3577818856895, 419.6227729507256, 158.22973167662178, 109.93210039822335, 59.19724721709272, 28.250773334689843, 113.35630624352595, 150.00019218420584, 61.9712679964804, 47.75848663190085, 140.9935825040613, 158.58722237963323, 68.62408100798594, 278.40309483530314, 205.89677015213914, 175.5173851439816, 52.42395540039073, 86.15976080986394, 80.8087021339678, 165.64080824581106, 74.5660123885902, 83.05842605466638, 87.14183943902111, 86.48935978765542, 75.93910454762445, 74.84621848971335, 96.21413404589939, 80.67661864036943, 84.37255949679252, 85.30928401083317, 28.798773586033462, 18.04783095156675, 16.763835205003648, 17.004029693122877, 15.845967059588045, 15.582333977684728, 22.17897071085773, 13.992456258205312, 13.746997913866688, 16.54837974940763, 13.251022123302764, 11.802975332228725, 11.552344208466508, 11.54495357794872, 30.811039204106198, 12.418326230152148, 13.268356543819474, 11.354327696332279, 11.143161535952762, 14.79979177250482, 12.3194489739177, 14.266057197375133, 12.339499288678953, 10.368535062227028, 20.62116890606104, 9.949832806844427, 30.719725655678552, 20.787876203215507, 9.33953438510959, 9.002490119094894, 28.409515280552966, 27.304036022273014, 167.19333500541939, 167.51934456588202, 305.2087431231817, 68.13574661044899, 34.67802338936944, 20.433693527517015, 107.50021508522909, 18.130407546843248, 77.64157675325914, 47.81396496336169, 999.3315710306559, 62.46466635178779, 28.068880941330857, 927.5674438862062, 178.95823418119116, 24.04264737812581, 51.192970236514896, 127.16825974696484, 421.55611142872857, 85.77763764663347, 31.85910350038501, 54.500607674579626, 107.94213227258963, 412.3731890570955, 190.63964301478845, 63.43994257187946, 100.73722130049723, 81.7835655204379, 340.2811053773242, 131.7828891933075, 69.11802724355343, 91.1428153942523, 86.8413721761724, 210.85970907556825, 74.36140454289149, 166.22576352858107, 90.78473197033465, 85.05189060989328, 76.46837833062915, 119.14542000947273, 106.65667873530553, 83.33660074467511, 70.74042742692495, 43.459673736020434, 27.92012832481661, 20.31283330623909, 21.77950842246649, 17.824309754053147, 15.933924515633933, 18.379563306405746, 13.68717011386371, 14.5283516707207, 12.567141208863303, 14.944481900855548, 13.362473921428633, 11.739623616159207, 11.504692583936219, 11.100220722865823, 11.281445829808062, 11.377320400732478, 10.853820070553107, 18.75346178170229, 37.967623882531775, 11.697382974973864, 10.451581358724333, 13.18957800446105, 13.109174050588212, 9.738154102117246, 9.800822247167062, 9.554800166661746, 12.665446929197442, 10.353098385312569, 11.784817693151728, 27.14185598851884, 15.285218832499705, 30.341184114800843, 15.04794133584979, 15.098054194577996, 22.871451572654394, 21.262180324933905, 33.099897148270095, 24.0724556889905, 117.33377032466011, 17.932479551978297, 51.08396432653074, 22.02667504597473, 35.33201790872994, 638.0622230902411, 118.64047598739788, 34.67856408526697, 227.27758278563599, 125.07428551618565, 48.42999996815847, 30.92150511911727, 24.163460546212963, 46.580266479825, 217.0339936083158, 48.750668036753005, 722.6190478521922, 424.0666756149194, 363.5812223596063, 126.79080441389681, 100.26492670533763, 124.69572804068059, 89.92344860011097, 248.3123129392449, 75.88107287078869, 87.27264172914818, 228.94710582807454, 105.68057189792657, 82.43509765905074, 208.34198192087797, 151.5539022795529, 104.2807269478212, 99.77288465116635, 48.79314271818823, 84.88723133823821, 83.96724799085054, 66.14384548489404, 96.11577314217647, 67.0488758922011, 60.230370573477195, 55.6985173990393, 57.25954031041662, 28.81371254951635, 41.34499202498515, 38.92406983443092, 25.718900204739523, 20.162433864394156, 18.363394264856495, 18.02999622034751, 17.47628950258575, 16.153918945768556, 16.20985355286036, 15.663878430982509, 30.898695220523553, 14.823041018765304, 19.262593408398367, 27.04488973178381, 20.76483315712517, 14.653312226283868, 15.133114938821844, 14.17328262226582, 37.76572122145667, 15.1176367020542, 14.000524541793814, 14.611068615358434, 16.44883052474048, 13.496468624113163, 13.955053565542372, 12.876114790118693, 13.834064956919677, 12.189270180243655, 11.716153226881564, 15.123978156281435, 87.11032679523808, 16.175975767096116, 25.67766341911213, 35.271448295115945, 70.97313837827576, 32.30740686097231, 20.655825478341473, 64.54799079552096, 25.291836333919573, 126.45198267777818, 208.87772184982214, 71.06941339518069, 129.71247063976358, 37.3834917099691, 23.634648573647592, 605.5921467032465, 57.05043871627811, 29.76557302250177, 369.7209829230568, 65.07305264408205, 70.26076686416648, 33.081191557523724, 108.04778106528212, 334.837222641343, 39.2361499901185, 50.44288051208649, 120.55682743591802, 106.19049670956508, 205.81324000054008, 259.04072745926794, 165.09456338122007, 75.79836201488854, 101.7463047590879, 70.56543338866125, 73.51081635677019, 62.829824179713945, 118.2646075399076, 79.01847214631326, 115.77072465385984, 78.92891042516649, 61.54736490476303, 71.2924171504211, 103.50931337639484, 70.09900997251461, 75.99001344113042, 72.53429010062483, 26.205219423487883, 39.58995908289579, 18.98513050484942, 29.063976340201197, 18.805681830574276, 16.241824299291547, 16.24182427570493, 16.59116816303069, 16.911768309804476, 14.35946416429753, 23.536840561361448, 14.002948367298625, 23.097591507721074, 13.27779937097413, 12.526811896952958, 15.093134124993938, 12.426539077580998, 12.640653472200302, 11.67111496178212, 11.866204174586027, 11.176559789066056, 11.478255046874008, 10.353167173417148, 10.267373009156792, 10.086840218329955, 11.932170735487803, 9.850158662394138, 10.358553479809462, 9.842158709361636, 9.841191664969456, 10.910938334868396, 18.569725534965926, 24.276427553105265, 16.57427921602784, 34.58933085088543, 100.92887005338466, 25.15458522364573, 133.55586256755606, 20.081647758253347, 180.6261772811775, 47.397665406792825, 28.599553724834706, 34.941185704456615, 79.54866584451771, 40.082784970033885, 34.33092249770829, 122.04645899150943, 465.1969006452068, 95.99403895591328, 454.1822957860035, 276.34119795738974, 76.57611025977178, 119.78119002802063, 82.27123938462974, 34.38277386566467, 59.49453356708978, 108.71090847713246, 102.31039989606946, 80.75655961055811, 99.55041167744221, 239.79732017000936, 72.8465404743886, 76.14564051399778, 65.9787187817646, 58.033770838187486, 61.50032745023734, 145.34438191331236, 92.42602267853613, 75.0888222811202, 60.66997307780053, 62.75541958560429, 56.90485504989482, 71.29140036455313, 80.7726024929459, 63.18391176980631, 60.02549399551971, 52.33090239087953, 47.50587552172895, 33.621250498978746, 20.881399672820788, 19.777578795377078, 19.527439850380322, 17.69135061805667, 27.57780887113623, 17.404398011364037, 65.21394269951203, 18.25809986071359, 14.750913915247441, 17.511927970930202, 12.952825989049767, 12.988216859272498, 22.615727214212654, 12.83383332497958, 12.743854098420766, 12.66269359058714, 12.18593404747822, 13.769070783601764, 14.358561173935398, 13.17670991759357, 14.115801280565655, 11.652472233108071, 27.176259785312556, 17.290870135975485, 11.275427339993042, 11.6177118566647, 10.432017205256233, 11.74271283364674, 27.372967545529107, 55.259306134371336, 49.55505909007798, 170.19980693306405, 34.14206485300658, 44.7525574791768, 29.33224560029616, 142.0966294237743, 25.758404760527462, 25.999358466297526, 177.42771938367642, 74.87473043293252, 26.727714765661776, 23.544032787857383, 65.01009874568518, 176.3554306055467, 330.523142660038, 34.79241190177016, 53.75476673173032, 132.8249635847919, 35.60062495014274, 366.9475717417243, 475.8155384224403, 75.91015895987282, 43.54677442388341, 360.5108743923721, 55.36594405393723, 79.39356466781882, 120.49436570950147, 150.8568160393788, 206.5521869352104, 71.12392448569203, 150.72834590529575, 50.971999304790515, 74.81713817604864, 67.2861197105741, 80.1551875856524, 76.43208596157947, 146.20650460462747, 89.05797275219211, 78.81737973149008, 110.44752663497844, 116.80019050317465, 70.7357279647665, 81.50206781476804, 72.68478320173189, 37.95098139450699, 121.03772852977136, 30.672257467822966, 45.123987813854534, 18.26466641051127, 19.73235971068211, 14.317368879156936, 13.379209974918787, 12.965071209283455, 30.468530252145598, 13.060354327099342, 23.305744004400413, 14.054191900389105, 11.359605946591351, 11.04426305459359, 11.20871555601264, 14.031457767267723, 11.41500881994417, 10.59410576149449, 10.755220967366228, 9.737080915263938, 12.320524040390277, 9.63115161112769, 19.305096222525616, 8.981964302041774, 9.221769942303823, 9.110425417231012, 8.798642754589244, 9.347191352305359, 16.325016786748932, 14.715693368412017, 10.804494311859735, 47.74590820432864, 10.929276643355015, 50.62784322019337, 51.26285978899381, 21.19560094841215, 31.36340699716628, 15.77998097881456, 79.59073907146107, 25.40076026512806, 61.414158417083925, 46.41845152724347, 16.335088673670114, 27.73870200583556, 31.29929742117773, 111.50525072376104, 32.61174716471211, 41.560809672882044, 17.459864319748334, 24.486866996550205, 80.84747587779326, 18.266338691969548, 56.810620399469926, 71.63156818452154, 236.18542250011254, 110.6981997422885, 103.89861233733649, 159.60988112019683, 45.99007817746744, 55.28770035822356, 124.09387191170816, 42.24564649964297, 98.16585512181449, 141.73659899470422, 254.46052470506788, 100.20671785681768, 177.1122389965951, 106.92240264407997, 246.3285354710675, 254.67051962143694, 204.21960088319187, 54.13828438048645, 127.29699875243774, 80.39952853485487, 70.37371768490706, 67.54347176623126, 63.799440721089454, 100.75082449083965, 65.49822232856654, 65.1236680971319, 57.167762586052184], \"Term\": [\"peur\", \"jai\", \"le\", \"si\", \"\\u00eatre\", \"stress\", \"\\u00e7a\", \"fait\", \"plus\", \"tel\", \"quand\", \"a\", \"non\", \"tout\", \"g\", \"te\", \"quel\", \"envi\", \"il\", \"parano\", \"person\", \"jme\", \"point\", \"vi\", \"comm\", \"mdr\", \"vais\", \"veux\", \"trop\", \"sen\", \"all\\u00e9\", \"tlm\", \"dead\", \"ment\", \"colleg\", \"apprend\", \"tm\", \"laquel\", \"impos\", \"so\", \"contraint\", \"lachet\", \"transpir\", \"carl\", \"adversair\", \"ferment\", \"ticket\", \"euros\", \"jvj\", \"adel\", \"trac\", \"thread\", \"clinton\", \"2012\", \"tacos\", \"inform\", \"anniversair\", \"fautil\", \"rassur\", \"retrait\", \"f\\u00e9min\", \"rac\", \"cm\", \"lid\", \"confianc\", \"voul\", \"championnat\", \"cha\\u00een\", \"tt\", \"yeux\", \"ben\", \"bah\", \"daccord\", \"jsuis\", \"parc\", \"encor\", \"\\u00e7a\", \"histoir\", \"vois\", \"fait\", \"jessay\", \"cest\", \"stress\", \"story\", \"fais\", \"sil\", \"sais\", \"peux\", \"quand\", \"vais\", \"a\", \"dis\", \"tout\", \"rien\", \"fair\", \"bon\", \"plus\", \"alor\", \"si\", \"rest\", \"peur\", \"bien\", \"quil\", \"jai\", \"le\", \"truc\", \"serieux\", \"dheur\", \"whatsapp\", \"bais\", \"ballon\", \"dhistoir\", \"z\\u00e9ro\", \"fermetur\", \"ahhhh\", \"end\", \"srx\", \"dessous\", \"week\", \"hcfg\", \"tra\\u00een\", \"jassum\", \"map\", \"mdrrrrrr\", \"lexp\\u00e9rient\", \"ahahahah\", \"episod\", \"music\", \"tom\", \"mail\", \"aaah\", \"hahahh\", \"mix\", \"maquill\", \"heu\", \"xddd\", \"nav\", \"paus\", \"motiv\", \"goal\", \"lausann\", \"permettr\", \"piqu\", \"pc\", \"r\\u00e9uss\", \"cru\", \"mas\", \"lev\", \"jai\", \"grav\", \"moment\", \"omg\", \"lann\", \"\\u00e9pisod\", \"peur\", \"derni\", \"cet\", \"trop\", \"fin\", \"cool\", \"cest\", \"nai\", \"fait\", \"merc\", \"ma\", \"chos\", \"truc\", \"pris\", \"sais\", \"tout\", \"crois\", \"sest\", \"fois\", \"xd\", \"o\\u00f9\", \"jaim\", \"fair\", \"vi\", \"\\u00e7a\", \"a\", \"peu\", \"fais\", \"si\", \"jam\", \"le\", \"bon\", \"stress\", \"bien\", \"chvot\", \"termin\", \"bo\", \"bonheur\", \"danc\", \"cram\", \"minor\", \"oblig\", \"sas\", \"portugal\", \"trajet\", \"\\u00e9cran\", \"r\\u00e9sist\", \"anniv\", \"syr\", \"cyril\", \"serr\", \"objet\", \"habill\", \"guer\", \"islam\", \"promen\", \"remed\", \"clop\", \"mensong\", \"conduis\", \"actif\", \"jhabit\", \"c\\u00e9libatair\", \"champagn\", \"paix\", \"aim\", \"tant\", \"vaut\", \"chut\", \"cel\", \"accompagn\", \"d\\u00e9prim\", \"vendred\", \"amis\", \"s\\u00fbr\", \"ensembl\", \"mieux\", \"particuli\", \"kohlant\", \"gratuit\", \"direct\", \"x\", \"\\u00eatre\", \"bien\", \"jvais\", \"possibl\", \"comprend\", \"rend\", \"cest\", \"fair\", \"plus\", \"tout\", \"ny\", \"va\", \"auss\", \"a\", \"le\", \"\\u00e7a\", \"peut\", \"d\\u00eatr\", \"quil\", \"comm\", \"peur\", \"cet\", \"jai\", \"quun\", \"fait\", \"stress\", \"avoir\", \"mond\", \"person\", \"si\", \"quand\", \"entier\", \"dencourag\", \"savent\", \"proteg\", \"lou\", \"balad\", \"minimum\", \"ps4\", \"camp\", \"musulman\", \"bref\", \"suicid\", \"pri\", \"hd\", \"attendu\", \"them\", \"comic\", \"ssp\", \"baby\", \"bd\", \"sentent\", \"cl\\u00e9\", \"qqpart\", \"jesus\", \"jouent\", \"offens\", \"patient\", \"exa\", \"dhabit\", \"offrir\", \"rempl\", \"humain\", \"billet\", \"capabl\", \"concour\", \"vrais\", \"lutt\", \"joueur\", \"enfin\", \"d\\u00e9sol\", \"mont\", \"minut\", \"peuvent\", \"cart\", \"le\", \"air\", \"revien\", \"jy\", \"an\", \"jsp\", \"9\", \"dur\", \"plus\", \"3\", \"tous\", \"stress\", \"gen\", \"autr\", \"matin\", \"animal\", \"jour\", \"non\", \"mois\", \"nouvel\", \"comm\", \"fair\", \"cour\", \"cest\", \"\\u00e7a\", \"si\", \"march\", \"alor\", \"apres\", \"a\", \"d\\u00e9j\\u00e0\", \"voir\", \"il\", \"va\", \"2\", \"pens\", \"jai\", \"quand\", \"tout\", \"peur\", \"del\", \"hypocrit\", \"tar\", \"c\\u00e2bl\", \"travers\", \"world\", \"tabl\", \"happy\", \"dal\", \"stream\", \"solitud\", \"18h\", \"d\\u00e9cev\", \"d\\u00e9sesper\", \"gam\", \"jrigol\", \"habitu\", \"chaussur\", \"moqu\", \"one\", \"aprem\", \"det\", \"machin\", \"oim\", \"spoil\", \"yaur\", \"enfait\", \"dm\", \"piss\", \"r\\u00e9chauff\", \"sor\", \"charg\", \"envi\", \"jme\", \"tel\", \"pir\", \"moiti\", \"follow\", \"putain\", \"u\", \"maison\", \"tjr\", \"jai\", \"prochain\", \"sall\", \"peur\", \"truc\", \"masqu\", \"jcrois\", \"sen\", \"tout\", \"mang\", \"pourt\", \"vont\", \"part\", \"le\", \"trop\", \"train\", \"chez\", \"moin\", \"cest\", \"vrai\", \"premi\", \"soir\", \"mond\", \"a\", \"d\\u00eatr\", \"fait\", \"fais\", \"fois\", \"mdr\", \"\\u00e7a\", \"stress\", \"plus\", \"quand\", \"d\\u00e9guis\", \"rejet\", \"el\", \"chef\", \"scream\", \"fribourg\", \"gestion\", \"macron\", \"ki\", \"slt\", \"brex\", \"tendress\", \"cor\", \"golden\", \"\\u00e9\", \"curieux\", \"lren\", \"sursaut\", \"bureau\", \"fout\", \"majeur\", \"doux\", \"allum\", \"distrait\", \"vari\", \"joyeux\", \"oke\", \"meg\", \"suc\", \"etat\", \"product\", \"jh\\u00e9sit\", \"vieux\", \"latin\", \"jumel\", \"11\", \"sourir\", \"cul\", \"lumi\", \"pouv\", \"nas\", \"sav\", \"styl\", \"plais\", \"si\", \"accro\", \"ch\", \"non\", \"ah\", \"parfois\", \"hahah\", \"avanc\", \"nan\", \"comm\", \"ven\", \"peur\", \"\\u00e7a\", \"fait\", \"peu\", \"jav\", \"fais\", \"regard\", \"a\", \"d\\u00e9j\\u00e0\", \"dun\", \"le\", \"vrai\", \"pens\", \"cest\", \"tout\", \"trop\", \"quand\", \"ouais\", \"cet\", \"fair\", \"sen\", \"jai\", \"\\u00eatre\", \"avoir\", \"quon\", \"bien\", \"liniti\", \"risqu\", \"25\", \"esper\", \"costum\", \"chinois\", \"kill\", \"marin\", \"bg\", \"nexist\", \"vaissel\", \"sp\\u00e9cial\", \"bin\", \"cert\", \"clown\", \"r\\u00e9vel\", \"jaill\", \"accident\", \"psy\", \"devenu\", \"pierr\", \"d\\u00e9crir\", \"foi\", \"remettr\", \"romand\", \"d\\u00e9fenseur\", \"provoqu\", \"jouvr\", \"remport\", \"autoris\", \"milliard\", \"halloween\", \"r\\u00e9serv\", \"servic\", \"typ\", \"ni\", \"effet\", \"mari\", \"fort\", \"bonbon\", \"franc\", \"il\", \"met\", \"1\", \"tour\", \"aid\", \"peur\", \"na\", \"nont\", \"a\", \"vid\\u00e9o\", \"font\", \"maman\", \"chos\", \"cest\", \"chanc\", \"pourr\", \"quil\", \"avoir\", \"fait\", \"le\", \"si\", \"temp\", \"bon\", \"suiss\", \"jaim\", \"comment\", \"\\u00e7a\", \"non\", \"tout\", \"bien\", \"an\", \"va\", \"jai\", \"person\", \"plus\", \"cet\", \"drak\", \"r\\u00e9pondr\", \"mac\", \"r\\u00e9seau\", \"kan\", \"ai\", \"machinelearning\", \"dialogu\", \"fourn\", \"bigdat\", \"d\\u00e9brouill\", \"gest\", \"entra\\u00een\", \"cinem\", \"titulair\", \"do\\u00f9\", \"datascient\", \"cartouch\", \"onpc\", \"taf\", \"mast\", \"dent\", \"han\", \"employeur\", \"rip\", \"divers\", \"kpop\", \"jul\", \"sy\", \"accent\", \"gar\\u00e7on\", \"artist\", \"chocolat\", \"coul\", \"tqt\", \"question\", \"julien\", \"veux\", \"doubl\", \"te\", \"r\\u00e9pons\", \"import\", \"social\", \"prendr\", \"pos\", \"blagu\", \"san\", \"tout\", \"demain\", \"le\", \"stress\", \"pourquoi\", \"gen\", \"tas\", \"courag\", \"train\", \"parl\", \"vais\", \"ya\", \"person\", \"cest\", \"suiss\", \"vu\", \"contr\", \"nest\", \"comment\", \"jai\", \"fair\", \"il\", \"quon\", \"pass\", \"trouv\", \"si\", \"peur\", \"comm\", \"bon\", \"thom\", \"jur\", \"nn\", \"fleur\", \"destin\", \"\\u00e7\", \"ptdrrr\", \"jte\", \"n\\u00e9cessair\", \"posit\", \"pren\", \"hashtag\", \"\\u00e2me\", \"9h\", \"bris\", \"enlev\", \"dangl\", \"menvoi\", \"omgg\", \"pd\", \"mn\", \"migr\", \"26\", \"revient\", \"no\\u00ebl\", \"ajout\", \"recevoir\", \"jtm\", \"ros\", \"l\\u00e9poqu\", \"acteur\", \"const\", \"dimanch\", \"appel\", \"g\", \"c\\u0153ur\", \"put\", \"mood\", \"point\", \"ac\", \"dam\", \"quel\", \"ss10\", \"taim\", \"etait\", \"heureux\", \"vi\", \"quand\", \"dehor\", \"sait\", \"mdr\", \"d\", \"a\", \"peur\", \"arriv\", \"suit\", \"jai\", \"gros\", \"jet\", \"fois\", \"cet\", \"stress\", \"pet\", \"trop\", \"dieu\", \"ptn\", \"grand\", \"coup\", \"part\", \"tout\", \"quil\", \"peu\", \"fait\", \"cest\", \"jam\", \"plus\", \"bon\", \"14\", \"parano\", \"devient\", \"bras\", \"d\\u00e9fendr\", \"connard\", \"mario\", \"pilot\", \"sorry\", \"public\", \"lestauli\", \"regardent\", \"fif\", \"appr\\u00e9ci\", \"arnaqu\", \"macdo\", \"ira\", \"tsais\", \"manuel\", \"gotteron\", \"fanny\", \"plr\", \"fr\\u00e9quent\", \"ecrir\", \"div\", \"souffranc\", \"vision\", \"marathon\", \"anti\", \"perturb\", \"conscienc\", \"yo\", \"jug\", \"religion\", \"f\\u00eat\", \"blanc\", \"malgr\", \"loup\", \"bof\", \"pr\\u00e9fer\", \"laim\", \"uniqu\", \"svp\", \"jamb\", \"anim\", \"tourn\", \"vien\", \"jdois\", \"compr\", \"notif\", \"candidat\", \"limpress\", \"arrivent\", \"pu\", \"doit\", \"\\u00eatre\", \"con\", \"jou\", \"person\", \"suisj\", \"vivr\", \"l\\u00e0\", \"fa\\u00e7on\", \"mond\", \"vrai\", \"a\", \"sen\", \"plus\", \"parl\", \"tout\", \"cest\", \"le\", \"raison\", \"\\u00e7a\", \"fois\", \"donc\", \"peut\", \"deux\", \"jai\", \"il\", \"va\", \"avoir\"], \"Total\": [4504.0, 3588.0, 3686.0, 1572.0, 708.0, 1705.0, 2138.0, 1971.0, 1309.0, 509.0, 1082.0, 2543.0, 610.0, 2769.0, 236.0, 352.0, 370.0, 222.0, 604.0, 124.0, 558.0, 247.0, 217.0, 451.0, 757.0, 399.0, 434.0, 220.0, 1015.0, 413.0, 35.61707711378063, 26.599871979166235, 22.6744843460792, 19.802385811917503, 21.402974901096368, 18.46450569389742, 17.730600825097095, 38.02642967411714, 17.32630465125174, 17.327128977937612, 17.73070531557383, 16.674485779294624, 23.213065405798275, 15.139100147080995, 15.138878171407553, 32.623163846705545, 14.743083431573277, 14.50794739247882, 14.346040907658285, 13.60444555863562, 13.283640975154778, 13.055254328303887, 13.201624411618926, 13.88399764859593, 12.321156263100526, 12.577999982769793, 18.468224296933137, 14.432669319048829, 58.47554875965818, 13.803692756495485, 18.12944624992582, 19.527631326478257, 16.318563956151177, 24.059271686053783, 59.19618393393585, 93.8401255715446, 21.479586974193257, 22.477045799758443, 257.5150365255724, 75.7208289577945, 74.86467279172852, 151.51731566122825, 57.8839519119316, 498.74070642261245, 338.61976413671425, 399.1782128420329, 2138.5167041085747, 50.95650542113689, 166.7774707217385, 1971.850150821397, 28.642275228882337, 3908.054926228265, 1705.6776733219224, 32.4499281285024, 621.2776980623635, 87.81001038132445, 312.34499277698563, 288.5456068779551, 1082.6969457004489, 434.91422237583777, 2543.4223574491225, 257.9812111261754, 2769.897544239968, 425.92893223260455, 1054.1596629075882, 669.383576464348, 1309.4699908382386, 392.6470394786631, 1572.0986929539306, 356.83010886502956, 4504.659468413494, 806.0227065671189, 653.4237632526623, 3588.9552517893135, 3686.0754345388486, 543.6831583166368, 25.835893795357656, 21.431263336093753, 19.568141480867922, 19.059881960720542, 17.43424218899984, 17.341274810639927, 17.106088105227116, 15.219685433296727, 14.553938350596072, 16.96981832537503, 15.357789997029185, 14.398906552168098, 14.427749728599984, 13.383972477064267, 11.67369072672548, 11.277953263773227, 22.65398273567024, 10.653066220443138, 11.163726417143808, 16.70587421619412, 10.298362711851295, 12.745169875537327, 15.502199097496883, 9.903525683451392, 12.291055165894075, 9.9014526562829, 9.986806242577154, 11.334307600184584, 9.72308531875728, 9.276850185486907, 25.891239968855785, 26.944647673295208, 96.34628286692605, 27.468284408811623, 42.09958782380139, 34.38297223777415, 17.35217946605251, 29.864077208795994, 74.36011031889231, 84.39631615710184, 58.2720492110209, 47.00183608839285, 3588.9552517893135, 138.86447197293927, 260.82316079854314, 55.935462288278174, 73.67067498863993, 95.35990708837342, 4504.659468413494, 151.21033885476103, 882.8202096311081, 1015.6188003198115, 344.1370733750041, 104.40353498534378, 3908.054926228265, 106.29022667964024, 1971.850150821397, 221.1282396733257, 259.83010104152044, 469.48349128997745, 543.6831583166368, 98.03030562488331, 312.34499277698563, 2769.897544239968, 256.5285377325572, 131.05008638709347, 561.3038746214515, 293.61001687790406, 407.13705124028456, 347.6903864360385, 1054.1596629075882, 451.3429646681534, 2138.5167041085747, 2543.4223574491225, 437.02798574995376, 621.2776980623635, 1572.0986929539306, 375.8072577518976, 3686.0754345388486, 669.383576464348, 1705.6776733219224, 806.0227065671189, 27.066260419099503, 25.166760898324135, 21.249289295148092, 25.449420611375338, 20.354740583441494, 22.83913130052628, 20.523033944351553, 31.858975793627685, 18.91653091950449, 18.08117093910996, 15.953186953516795, 17.42213742040006, 18.387645940695133, 14.352453006697544, 14.172354221744786, 13.081355172152145, 13.162925917512945, 14.270240726073371, 12.208619850172237, 12.208621664617118, 12.857231984787722, 13.898808457154352, 11.984313215199053, 11.416919848899528, 11.358042379475025, 13.396284469052606, 11.10953739401348, 11.412481503648985, 17.64025329947712, 12.137416519954629, 23.375501907758707, 159.75313478509673, 73.18206145088642, 60.12542143652928, 15.422676502756508, 127.30692381924871, 47.938432518547984, 29.96736906487479, 60.90866861084743, 61.29789682638837, 102.01886443546269, 55.138901882337876, 184.54236122751584, 37.5383645624133, 21.875735347543454, 23.100983863814765, 43.35506834297512, 80.35555460253512, 708.1177343573886, 806.0227065671189, 152.77611471914665, 68.27502723385363, 84.10002249084462, 87.85644732614266, 3908.054926228265, 1054.1596629075882, 1309.4699908382386, 2769.897544239968, 109.56922221971024, 586.1107593635172, 470.0228448712696, 2543.4223574491225, 3686.0754345388486, 2138.5167041085747, 377.9221007795068, 265.7658828077286, 653.4237632526623, 757.4533306260378, 4504.659468413494, 882.8202096311081, 3588.9552517893135, 326.47986528096106, 1971.850150821397, 1705.6776733219224, 516.4078366890518, 344.11217814753564, 558.4597859116934, 1572.0986929539306, 1082.6969457004489, 30.292995719059213, 25.540577641317046, 51.92136901947708, 19.791493868419487, 21.79057942960945, 18.83626154199913, 17.605589359908876, 18.4517759510724, 17.24447049983587, 18.921282414587704, 20.368477380424622, 30.233273043954007, 16.806249021572942, 13.719707927083057, 13.540665964041194, 15.382314694213509, 12.69043219379285, 12.809393745013706, 12.461871109590211, 14.21286375153064, 12.71756629602987, 13.717026001707929, 11.05802949363837, 10.64396704305814, 14.931927751785379, 10.671787818530523, 11.487095984649757, 10.643543743700109, 11.609860613552373, 10.846995455721327, 21.93060199341949, 64.51367892267066, 26.25987093651164, 46.454765547567646, 15.945274357032492, 85.6359790747552, 19.438470691482298, 85.91425531666604, 105.33540403241281, 35.58902412212039, 77.2333937333539, 120.89263070531766, 49.62227010983167, 33.206386742387416, 3686.0754345388486, 23.65786035906618, 26.09488643888929, 73.94742425325464, 293.7304934630456, 53.728822014841754, 37.842532419955134, 93.23946475131459, 1309.4699908382386, 323.6554349323046, 364.981604095321, 1705.6776733219224, 466.3558397076775, 278.4389411867892, 119.71191830934397, 37.48020177453913, 379.27305308680457, 610.4359457120909, 146.20400133154195, 97.23559295547369, 757.4533306260378, 1054.1596629075882, 204.36641685744507, 3908.054926228265, 2138.5167041085747, 1572.0986929539306, 118.89553904080032, 392.6470394786631, 338.1304070699116, 2543.4223574491225, 276.59148296265846, 390.58723570911684, 604.8579276762017, 586.1107593635172, 340.4392184163348, 403.6712752151093, 3588.9552517893135, 1082.6969457004489, 2769.897544239968, 4504.659468413494, 29.895725850492003, 18.93874441178298, 17.652442271418327, 17.92672484195004, 16.73148200788741, 16.469490321156453, 23.527990827199734, 14.865335705469109, 14.626387923169247, 17.67573801853253, 14.225887358218765, 12.686132774190746, 12.424714382454042, 12.418217619977758, 33.149350548297306, 13.366153097570884, 14.291044573122731, 12.235550867853203, 12.009958021754207, 15.953282438653682, 13.28168706882353, 15.44747914956988, 13.368203290999674, 11.235191971196196, 22.38756749392861, 10.836347771775472, 33.503866463494404, 22.730027590699745, 10.216397436063813, 9.893127990032854, 31.241712477628838, 30.91769654184026, 222.31751099016716, 247.4412541996603, 509.0505463988231, 97.50638604427368, 45.08484796337213, 24.471058375119963, 179.73933731243508, 21.374130991299577, 134.17649728659944, 73.52566941491261, 3588.9552517893135, 103.85386825989191, 37.75971503938911, 4504.659468413494, 543.6831583166368, 31.902276716948485, 97.27292169440622, 413.2228566024281, 2769.897544239968, 230.6099714736589, 49.7821594987464, 117.80101613917023, 369.2070993565825, 3686.0754345388486, 1015.6188003198115, 163.88232759112103, 388.0448841356628, 269.39273630710056, 3908.054926228265, 707.4129686120975, 207.5203848123736, 374.89502356240627, 344.11217814753564, 2543.4223574491225, 265.7658828077286, 1971.850150821397, 621.2776980623635, 561.3038746214515, 399.7536245931505, 2138.5167041085747, 1705.6776733219224, 1309.4699908382386, 1082.6969457004489, 44.464628190952524, 29.060820339075708, 21.21565598746724, 22.783763944042608, 18.704185466635007, 16.81096901361255, 19.45191321454742, 14.557692765298503, 15.465295454689787, 13.442167774540806, 15.999622256649465, 14.332726127895127, 12.610322972714457, 12.380634005176594, 11.97606727845166, 12.173418935887806, 12.281604547940415, 11.724262881324394, 20.337151942808426, 41.182935659271244, 12.695649610310735, 11.347274513355892, 14.341533505798623, 14.273151436300619, 10.608608994071338, 10.69167322787388, 10.433304275940166, 13.847894336149965, 11.34810318539836, 12.919573500810584, 29.820385437095258, 16.794348729358482, 33.569669162338904, 16.54050755423079, 16.691178388413757, 25.91431099527444, 24.11979404344712, 41.702493449113845, 28.97633982952786, 182.23765943952046, 20.809897520438863, 70.835340748629, 26.45954639079511, 47.50411967851025, 1572.0986929539306, 211.5393444095234, 49.11385838903583, 610.4359457120909, 280.76078106079774, 81.23938325612062, 44.03050248007039, 31.642034641945518, 80.56851392789031, 757.4533306260378, 87.89817576924133, 4504.659468413494, 2138.5167041085747, 1971.850150821397, 437.02798574995376, 301.088016171526, 621.2776980623635, 348.7046003404091, 2543.4223574491225, 276.59148296265846, 372.47515046681235, 3686.0754345388486, 707.4129686120975, 403.6712752151093, 3908.054926228265, 2769.897544239968, 1015.6188003198115, 1082.6969457004489, 133.2955337992522, 882.8202096311081, 1054.1596629075882, 413.2228566024281, 3588.9552517893135, 708.1177343573886, 516.4078366890518, 330.6275036261369, 806.0227065671189, 29.689731652283488, 42.82084140705628, 40.38878932854251, 26.716698745232282, 21.049540722113324, 19.271714106336656, 18.925176882192854, 18.38568817722998, 17.027407576876328, 17.088339645684613, 16.53766318331377, 32.655365080058154, 15.691857210526052, 20.410581397029716, 28.65823921228319, 22.022479942566704, 15.54198978384619, 16.06440730868529, 15.05407840083322, 40.15949036487786, 16.08989552341609, 14.902968368855106, 15.56410053549002, 17.54766977902812, 14.40134237418497, 14.897511263457961, 13.76789484509903, 14.820616983593887, 13.093546570028625, 12.605044924377685, 16.348454008534706, 101.50458626688969, 17.60973840965587, 29.388391191391886, 41.971782030233776, 96.85585259971624, 40.13345139847417, 24.09153829240996, 101.02060051447064, 31.922587834001455, 296.48022249819127, 604.8579276762017, 141.92633258880528, 331.67530339243234, 58.213169920401214, 30.65091333088515, 4504.659468413494, 124.8126641036973, 44.48470857288141, 2543.4223574491225, 157.99524029858665, 181.60945939622653, 54.49397541133208, 469.48349128997745, 3908.054926228265, 75.1519230668451, 120.8014824055456, 653.4237632526623, 516.4078366890518, 1971.850150821397, 3686.0754345388486, 1572.0986929539306, 298.57787945946626, 669.383576464348, 298.01372806287156, 347.6903864360385, 249.45952027184876, 2138.5167041085747, 610.4359457120909, 2769.897544239968, 806.0227065671189, 293.7304934630456, 586.1107593635172, 3588.9552517893135, 558.4597859116934, 1309.4699908382386, 882.8202096311081, 27.136294881395365, 41.201395670147605, 19.912933343338615, 30.488031774758106, 19.732300057609418, 17.147894190407293, 17.147894193123633, 17.55876481134767, 17.93511025807989, 15.23139043079325, 24.98880904299378, 14.870535022903587, 24.543688393927653, 14.154719557578535, 13.39997638217478, 16.166288014463696, 13.315210355225757, 13.55191600573952, 12.543173677555036, 12.80621763894815, 12.0751291785753, 12.424437057652323, 11.225755641556248, 11.134961770631726, 10.954432667546786, 12.975290003435028, 10.717931101499872, 11.275700308369057, 10.717833829274031, 10.717668735865889, 11.894187756167206, 20.58432880206452, 27.147706733748034, 18.45842004676559, 40.312384154863075, 133.48312605979822, 30.527983490480054, 220.63836504608787, 24.18609016701951, 352.1654183877933, 69.69946744078663, 39.13192100549704, 53.146467497745846, 163.23435536074012, 65.22638289791699, 53.14134317079506, 308.9519858631161, 2769.897544239968, 289.6055958385497, 3686.0754345388486, 1705.6776733219224, 219.77391621830824, 466.3558397076775, 250.39705908056493, 60.74072576182209, 163.88232759112103, 482.69292652219343, 434.91422237583777, 346.00030701529005, 558.4597859116934, 3908.054926228265, 298.01372806287156, 330.9499724868919, 252.12912350436625, 202.5719207983489, 249.45952027184876, 3588.9552517893135, 1054.1596629075882, 604.8579276762017, 330.6275036261369, 417.4611831223205, 306.48892086374815, 1572.0986929539306, 4504.659468413494, 757.4533306260378, 669.383576464348, 53.45769263979628, 48.709754311193734, 34.91593843585581, 21.753648634604367, 20.65954982673507, 20.400003525318873, 18.596775264224558, 29.04891833276645, 18.35687373304216, 68.95629766446051, 19.385749707217567, 15.675605425463406, 18.616107369565853, 13.82616509766867, 13.87161053391143, 24.188090909065416, 13.729667910253932, 13.641216569159765, 13.561201111727662, 13.075716354383678, 14.784256669507027, 15.428268608201845, 14.166299200496706, 15.17705134291576, 12.551146253194318, 29.33827208324333, 18.68124729356292, 12.195743076342572, 12.587903126147994, 11.34559781123776, 12.811941465649282, 30.736164991378725, 64.04270824981944, 60.28515650377366, 236.83026667025132, 40.75107494467447, 55.9550766163343, 35.00282563950597, 217.00107639441222, 31.941733907700822, 32.52974369868173, 370.42419931921114, 128.9515279251635, 34.50208157732446, 29.265025869356524, 113.33516217624687, 451.3429646681534, 1082.6969457004489, 51.41955028729126, 98.46279937504683, 399.7536245931505, 56.404795483119294, 2543.4223574491225, 4504.659468413494, 214.1505559119001, 81.47020377317546, 3588.9552517893135, 126.47791801190749, 249.5492615043653, 561.3038746214515, 882.8202096311081, 1705.6776733219224, 211.13346192345625, 1015.6188003198115, 112.21707120413859, 261.8010730737575, 212.66476481794516, 328.1607915921552, 369.2070993565825, 2769.897544239968, 653.4237632526623, 437.02798574995376, 1971.850150821397, 3908.054926228265, 375.8072577518976, 1309.4699908382386, 669.383576464348, 39.103450738230364, 124.76547386020779, 31.92081738634892, 46.99213025467337, 19.231578911135212, 20.81618835554886, 15.214564948319058, 14.248690295410961, 13.840621080755634, 32.57893159262406, 13.972194849116827, 24.959673009608608, 15.055290596032371, 12.263045240963766, 11.929941199008718, 12.111888810216207, 15.176278365174564, 12.353998144506203, 11.477016430204785, 11.654502425226351, 10.620557915341434, 13.462187344743594, 10.525815042612798, 21.115479549253042, 9.857274319841379, 10.12387742900007, 10.007611641600242, 9.677026721403337, 10.281587828623183, 17.96696448360853, 16.29306981180873, 11.910840942978998, 54.907092980634815, 12.07079324395006, 59.6072888231152, 60.76769289331051, 24.078941421379646, 36.51456038570279, 17.739298836140367, 100.03301211672533, 29.725053426332504, 80.62780260051032, 59.526291980921954, 18.521498834678955, 34.16530325398002, 39.30657412239655, 181.3231857238046, 42.68100140894379, 59.197058320900155, 20.11802076919639, 31.03732876177979, 149.1820697311869, 21.40056845258911, 96.91669214657229, 134.52913427543274, 708.1177343573886, 260.91419968676473, 276.503703416048, 558.4597859116934, 87.04876919254124, 119.20548237403445, 466.62357752882434, 76.41598987966239, 344.11217814753564, 707.4129686120975, 2543.4223574491225, 413.2228566024281, 1309.4699908382386, 482.69292652219343, 2769.897544239968, 3908.054926228265, 3686.0754345388486, 139.81442538033446, 2138.5167041085747, 561.3038746214515, 363.1065890794142, 377.9221007795068, 290.78961022428496, 3588.9552517893135, 604.8579276762017, 586.1107593635172, 516.4078366890518], \"loglift\": [30.0, 29.0, 28.0, 27.0, 26.0, 25.0, 24.0, 23.0, 22.0, 21.0, 20.0, 19.0, 18.0, 17.0, 16.0, 15.0, 14.0, 13.0, 12.0, 11.0, 10.0, 9.0, 8.0, 7.0, 6.0, 5.0, 4.0, 3.0, 2.0, 1.0, 2.05, 2.0432, 2.0358, 2.0349, 2.0312, 2.0309, 2.0295, 2.0274, 2.0273, 2.0266, 2.0262, 2.0252, 2.0219, 2.0207, 2.0201, 2.0184, 2.0168, 2.0163, 2.0158, 2.0142, 2.0126, 2.0114, 2.0113, 2.011, 2.0055, 2.005, 2.0039, 2.002, 2.0015, 1.9996, 1.9934, 1.9896, 1.9925, 1.9697, 1.9048, 1.8525, 1.9708, 1.9653, 1.6168, 1.7685, 1.7597, 1.5955, 1.7481, 1.2791, 1.3502, 1.3134, 0.874, 1.7598, 1.4392, 0.7086, 1.8823, 0.419, 0.5874, 1.8397, 0.8694, 1.5105, 1.0731, 1.0927, 0.6225, 0.9356, 0.2308, 1.099, 0.1526, 0.8116, 0.3785, 0.5381, 0.2076, 0.7847, 0.0359, 0.777, -0.6899, 0.2979, 0.4238, -0.7828, -1.3854, 0.2618, 2.0718, 2.0646, 2.0608, 2.0604, 2.0564, 2.0558, 2.0537, 2.0492, 2.0453, 2.0448, 2.0436, 2.0424, 2.0407, 2.0396, 2.0279, 2.0254, 2.0231, 2.0218, 2.0216, 2.0204, 2.0194, 2.019, 2.017, 2.0163, 2.016, 2.014, 2.0135, 2.0126, 2.0117, 2.0098, 2.0085, 1.9849, 1.9384, 1.962, 1.929, 1.9262, 1.9778, 1.9089, 1.7665, 1.7373, 1.7912, 1.8116, 1.0707, 1.6149, 1.5004, 1.7425, 1.6681, 1.6014, 0.6602, 1.4764, 0.9773, 0.924, 1.178, 1.5055, 0.3815, 1.4812, 0.4861, 1.2177, 1.14, 0.9071, 0.8481, 1.4645, 0.9486, -0.0136, 1.0025, 1.3047, 0.5969, 0.9033, 0.7347, 0.8144, 0.1634, 0.6272, -0.3047, -0.444, 0.626, 0.4056, -0.2575, 0.6824, -1.0787, 0.1894, -0.6513, -0.0852, 2.1505, 2.1423, 2.1416, 2.1413, 2.1401, 2.1398, 2.1398, 2.1379, 2.1345, 2.1327, 2.1275, 2.1262, 2.1228, 2.1216, 2.1172, 2.1147, 2.1146, 2.1126, 2.1098, 2.1095, 2.1085, 2.1058, 2.1055, 2.1038, 2.1029, 2.1028, 2.1026, 2.1019, 2.1006, 2.0985, 2.0897, 1.9777, 1.9935, 1.9905, 2.0845, 1.9256, 1.9742, 2.0193, 1.9273, 1.9226, 1.847, 1.9268, 1.7335, 1.9571, 2.0381, 2.0213, 1.8886, 1.716, 1.171, 1.1335, 1.5415, 1.7441, 1.6666, 1.6449, 0.461, 0.7554, 0.5527, 0.2591, 1.4964, 0.7618, 0.8325, 0.0849, -0.1372, 0.0745, 0.8854, 1.026, 0.5269, 0.4262, -0.6982, 0.2573, -0.6537, 0.8282, -0.3731, -0.2938, 0.4862, 0.7258, 0.3852, -0.3538, -0.2362, 2.177, 2.1743, 2.17, 2.1623, 2.1602, 2.1602, 2.1569, 2.1558, 2.1523, 2.152, 2.1513, 2.1508, 2.1503, 2.1431, 2.1427, 2.1418, 2.1381, 2.1375, 2.1367, 2.1359, 2.134, 2.1328, 2.1272, 2.1233, 2.1211, 2.1206, 2.1187, 2.1181, 2.1164, 2.1161, 2.111, 2.0836, 2.0981, 2.0637, 2.1045, 2.0046, 2.078, 1.9351, 1.8678, 2.0051, 1.9033, 1.8444, 1.9534, 2.0007, 1.2654, 2.0393, 2.0151, 1.787, 1.4697, 1.849, 1.9296, 1.713, 0.9896, 1.342, 1.302, 0.8066, 1.128, 1.2796, 1.5047, 1.9263, 1.0012, 0.8054, 1.3506, 1.498, 0.5277, 0.3147, 1.1177, -0.4328, -0.1315, 0.0165, 1.3901, 0.6922, 0.7776, -0.5225, 0.8981, 0.6608, 0.2715, 0.2955, 0.7086, 0.5238, -1.4101, -0.3878, -1.2824, -1.7576, 2.2297, 2.2189, 2.2154, 2.2143, 2.2127, 2.2117, 2.2081, 2.2066, 2.2051, 2.2012, 2.1961, 2.1949, 2.1943, 2.1942, 2.1939, 2.1935, 2.1928, 2.1924, 2.1922, 2.192, 2.1919, 2.1875, 2.187, 2.1868, 2.1849, 2.1817, 2.1803, 2.1778, 2.1774, 2.1728, 2.1721, 2.1428, 1.9821, 1.877, 1.7555, 1.9087, 2.0047, 2.0868, 1.7531, 2.1025, 1.72, 1.8368, 0.9886, 1.7587, 1.9705, 0.6868, 1.1559, 1.9843, 1.6252, 1.0886, 0.3845, 1.2781, 1.8208, 1.4963, 1.0373, 0.0767, 0.5942, 1.318, 0.9185, 1.075, -0.1739, 0.5866, 1.1677, 0.8529, 0.8902, -0.223, 0.9934, -0.2063, 0.3438, 0.3801, 0.6131, -0.6204, -0.505, -0.4874, -0.4611, 2.3588, 2.3416, 2.3382, 2.3366, 2.3335, 2.3281, 2.325, 2.32, 2.3192, 2.3144, 2.3134, 2.3116, 2.3101, 2.3083, 2.3057, 2.3056, 2.3052, 2.3045, 2.3006, 2.3004, 2.2998, 2.2994, 2.2979, 2.2966, 2.296, 2.2947, 2.2937, 2.2924, 2.2899, 2.2897, 2.2875, 2.2875, 2.2805, 2.2871, 2.2813, 2.2568, 2.2556, 2.1506, 2.1963, 1.9414, 2.2328, 2.0548, 2.1983, 2.0856, 1.4799, 1.8034, 2.0336, 1.3937, 1.5731, 1.8644, 2.0282, 2.112, 1.8337, 1.1318, 1.7922, 0.5517, 0.7637, 0.6909, 1.1442, 1.2821, 0.7758, 1.0264, 0.0551, 1.0883, 0.9305, -0.3972, 0.4805, 0.7931, -0.5499, -0.524, 0.1055, -0.0026, 1.3767, 0.0399, -0.1484, 0.5495, -1.2384, 0.0245, 0.2329, 0.6006, -0.2629, 2.3993, 2.3942, 2.3923, 2.3912, 2.3862, 2.381, 2.3808, 2.3785, 2.3766, 2.3765, 2.375, 2.3739, 2.3723, 2.3714, 2.3713, 2.3704, 2.3704, 2.3695, 2.369, 2.3678, 2.3669, 2.3668, 2.3661, 2.3646, 2.3644, 2.3639, 2.3623, 2.3604, 2.3577, 2.3561, 2.3514, 2.2763, 2.3443, 2.2943, 2.2553, 2.1183, 2.2123, 2.2754, 1.9813, 2.1964, 1.5771, 1.366, 1.7376, 1.4904, 1.9864, 2.1693, 0.4226, 1.6464, 2.0275, 0.5007, 1.5422, 1.4796, 1.9301, 0.9602, -0.0279, 1.7793, 1.5559, 0.7391, 0.8476, 0.1695, -0.2261, 0.1756, 1.0583, 0.5454, 0.9886, 0.8754, 1.0504, -0.4657, 0.3848, -0.7457, 0.1057, 0.8664, 0.3225, -1.1167, 0.354, -0.4175, -0.0698, 2.4404, 2.4354, 2.4276, 2.4275, 2.4272, 2.421, 2.421, 2.4186, 2.4166, 2.4164, 2.4155, 2.4152, 2.4146, 2.4114, 2.4079, 2.4066, 2.4062, 2.4057, 2.4033, 2.3991, 2.398, 2.3961, 2.3944, 2.3942, 2.3928, 2.3915, 2.3909, 2.3905, 2.3901, 2.39, 2.389, 2.3723, 2.3635, 2.3676, 2.3222, 2.1958, 2.2817, 1.9733, 2.2893, 1.8076, 2.0897, 2.1618, 2.0559, 1.7565, 1.9884, 2.0384, 1.5465, 0.6912, 1.3711, 0.3815, 0.6552, 1.421, 1.116, 1.3623, 1.9063, 1.462, 0.9846, 1.0282, 1.0203, 0.7508, -0.3157, 1.0665, 1.006, 1.1347, 1.2252, 1.0751, -0.7312, 0.0412, 0.389, 0.7798, 0.5804, 0.7915, -0.6181, -1.5459, -0.0086, 0.0637, 2.4692, 2.4655, 2.4527, 2.4496, 2.4469, 2.4468, 2.4406, 2.4385, 2.4372, 2.4347, 2.4306, 2.4297, 2.4294, 2.4253, 2.4247, 2.4233, 2.423, 2.4225, 2.422, 2.42, 2.4194, 2.4186, 2.4181, 2.418, 2.4162, 2.414, 2.4132, 2.412, 2.4103, 2.4066, 2.4034, 2.3746, 2.343, 2.2945, 2.1601, 2.3136, 2.2671, 2.3138, 2.0671, 2.2754, 2.2664, 1.7544, 1.9469, 2.2352, 2.273, 1.9347, 1.5508, 1.304, 2.0999, 1.8853, 1.3887, 2.0303, 0.5545, 0.2427, 1.4534, 1.8641, 0.1924, 1.6644, 1.3453, 0.9518, 0.7237, 0.3793, 1.4024, 0.5827, 1.7013, 1.238, 1.3397, 1.081, 0.9155, -0.451, 0.4976, 0.7776, -0.3917, -1.0198, 0.8204, -0.2862, 0.2703, 2.4942, 2.4938, 2.4842, 2.4836, 2.4725, 2.4707, 2.4633, 2.4612, 2.4588, 2.4572, 2.4566, 2.4556, 2.4553, 2.4476, 2.447, 2.4466, 2.4457, 2.4451, 2.4441, 2.4438, 2.4373, 2.4355, 2.4353, 2.4345, 2.4311, 2.4308, 2.4302, 2.429, 2.4288, 2.4283, 2.4223, 2.4266, 2.3844, 2.4248, 2.3609, 2.354, 2.3966, 2.3721, 2.4071, 2.2955, 2.3669, 2.2519, 2.2754, 2.3985, 2.3157, 2.2963, 2.0379, 2.255, 2.1704, 2.3824, 2.2871, 1.9115, 2.3658, 1.99, 1.8939, 1.4261, 1.6667, 1.5453, 1.2717, 1.8861, 1.7558, 1.1996, 1.9314, 1.2698, 0.9165, 0.222, 1.1074, 0.5235, 1.0168, 0.1042, -0.2067, -0.369, 1.5754, -0.2972, 0.5809, 0.8833, 0.8022, 1.0073, -1.0488, 0.3012, 0.3269, 0.3232], \"logprob\": [30.0, 29.0, 28.0, 27.0, 26.0, 25.0, 24.0, 23.0, 22.0, 21.0, 20.0, 19.0, 18.0, 17.0, 16.0, 15.0, 14.0, 13.0, 12.0, 11.0, 10.0, 9.0, 8.0, 7.0, 6.0, 5.0, 4.0, 3.0, 2.0, 1.0, -6.3691, -6.6678, -6.8349, -6.9712, -6.8972, -7.0452, -7.0871, -6.3263, -7.1124, -7.113, -7.0904, -7.1528, -6.8253, -7.254, -7.2546, -6.4885, -7.2844, -7.3009, -7.3126, -7.3673, -7.3928, -7.4114, -7.4003, -7.3502, -7.4751, -7.4549, -7.072, -7.3204, -5.9218, -7.3674, -7.101, -7.0305, -7.2071, -6.8417, -6.0062, -5.5978, -6.954, -6.9142, -4.824, -5.8964, -5.9165, -5.3757, -6.1854, -4.5008, -4.8169, -4.6891, -3.45, -6.3012, -5.436, -3.6966, -6.7547, -3.3021, -3.9628, -6.6726, -4.6908, -6.0062, -5.1747, -5.2344, -4.3822, -4.9812, -3.9199, -5.34, -3.9127, -5.1261, -4.6529, -4.9475, -4.6069, -5.2343, -4.5958, -5.3376, -4.2689, -5.0019, -5.0859, -4.5891, -5.165, -5.4317, -6.6684, -6.8625, -6.9572, -6.9839, -7.0771, -7.0831, -7.0988, -7.2201, -7.2688, -7.1157, -7.2167, -7.2824, -7.282, -7.3583, -7.5067, -7.5437, -6.8485, -7.6042, -7.5577, -7.1558, -7.6406, -7.4277, -7.234, -7.6827, -7.467, -7.6853, -7.6772, -7.5515, -7.7057, -7.7546, -6.7296, -6.7132, -5.4855, -6.7169, -6.3229, -6.5282, -7.1604, -6.6864, -5.9165, -5.8191, -6.1356, -6.3301, -2.7356, -5.4435, -4.9277, -6.2252, -6.0242, -5.8329, -2.9189, -5.4968, -4.2315, -4.1447, -4.9729, -5.8382, -3.3396, -5.8446, -3.9191, -5.3755, -5.2919, -4.9332, -4.8454, -5.9422, -5.2993, -4.079, -5.4422, -5.8117, -5.0648, -5.4064, -5.2481, -5.3262, -4.868, -5.2525, -4.6288, -4.5946, -5.2859, -5.1546, -4.8892, -5.3805, -4.8583, -5.2962, -5.2015, -5.385, -6.5432, -6.6241, -6.794, -6.6139, -6.8385, -6.7236, -6.8306, -6.3927, -6.9174, -6.9644, -7.0948, -7.008, -6.9574, -7.2064, -7.2234, -7.306, -7.3, -7.2212, -7.38, -7.3803, -7.3295, -7.2543, -7.4029, -7.453, -7.4591, -7.2941, -7.4815, -7.4554, -7.0212, -7.3971, -6.7505, -4.9406, -5.7055, -5.905, -7.1716, -5.2198, -6.1478, -6.5726, -5.9552, -5.9536, -5.5197, -6.0553, -5.0406, -6.4095, -6.8684, -6.8308, -6.3339, -5.8894, -4.2583, -4.1664, -5.4214, -6.0242, -5.8934, -5.8713, -3.2601, -4.2761, -4.2619, -3.8063, -5.799, -4.8566, -5.0067, -4.0658, -3.9168, -4.2496, -5.1718, -5.3833, -4.9828, -4.9358, -4.2773, -4.9515, -4.46, -5.3754, -4.7783, -4.844, -5.2588, -5.4252, -5.2815, -4.9855, -5.2409, -6.4041, -6.5773, -5.8722, -6.8444, -6.7502, -6.896, -6.9668, -6.921, -6.9921, -6.8996, -6.8266, -6.4322, -7.0199, -7.23, -7.2436, -7.1169, -7.313, -7.3043, -7.3325, -7.2019, -7.3149, -7.2405, -7.4616, -7.5036, -7.1673, -7.5037, -7.432, -7.5089, -7.4237, -7.4919, -6.793, -5.7414, -6.6258, -6.0898, -7.1183, -5.5372, -6.9467, -5.6035, -5.4669, -6.4148, -5.7418, -5.3526, -6.1341, -6.4885, -2.5142, -6.789, -6.7151, -5.9016, -4.8396, -6.159, -6.4289, -5.7437, -3.825, -4.8702, -4.7901, -3.7436, -4.7189, -5.0831, -5.7021, -6.4419, -5.0525, -4.7724, -5.6563, -5.9168, -4.8343, -4.7167, -5.5543, -4.1539, -4.4556, -4.6153, -5.8236, -5.3268, -5.3909, -4.6732, -5.4713, -5.3634, -5.3155, -5.323, -5.4531, -5.4676, -5.2164, -5.3925, -5.3477, -5.3367, -6.3645, -6.8318, -6.9056, -6.8914, -6.9619, -6.9787, -6.6257, -7.0863, -7.104, -6.9185, -7.1408, -7.2565, -7.2779, -7.2786, -6.297, -7.2057, -7.1395, -7.2952, -7.314, -7.0302, -7.2137, -7.067, -7.212, -7.3861, -6.6985, -7.4273, -6.2999, -6.6905, -7.4906, -7.5273, -6.3781, -6.4178, -4.6057, -4.6037, -4.0038, -5.5033, -6.1787, -6.7076, -5.0473, -6.8272, -5.3727, -5.8575, -2.8177, -5.5902, -6.3902, -2.8923, -4.5377, -6.545, -5.7892, -4.8793, -3.6809, -5.2731, -6.2635, -5.7266, -5.0432, -3.7029, -4.4744, -5.5747, -5.1123, -5.3208, -3.8951, -4.8437, -5.489, -5.2124, -5.2608, -4.3736, -5.4159, -4.6115, -5.2163, -5.2816, -5.388, -4.9445, -5.0552, -5.3019, -5.4658, -5.8384, -6.2809, -6.599, -6.5293, -6.7297, -6.8418, -6.699, -6.9938, -6.9342, -7.0792, -6.9059, -7.0178, -7.1473, -7.1675, -7.2033, -7.1871, -7.1786, -7.2258, -6.6789, -5.9735, -7.1509, -7.2635, -7.0308, -7.037, -7.3342, -7.3278, -7.3532, -7.0714, -7.273, -7.1435, -6.3092, -6.8834, -6.1978, -6.899, -6.8957, -6.4804, -6.5533, -6.1107, -6.4292, -4.8452, -6.7237, -5.6768, -6.518, -6.0455, -3.1518, -4.8342, -6.0641, -4.1841, -4.7814, -5.7301, -6.1788, -6.4254, -5.7691, -4.2302, -5.7235, -3.0274, -3.5604, -3.7143, -4.7677, -5.0025, -4.7844, -5.1113, -4.0956, -5.2811, -5.1412, -4.1768, -4.9498, -5.1983, -4.2711, -4.5893, -4.9632, -5.0074, -5.7227, -5.1689, -5.1798, -5.4184, -5.0447, -5.4048, -5.5121, -5.5903, -5.5627, -6.2018, -5.8407, -5.9011, -6.3155, -6.5589, -6.6523, -6.6707, -6.7018, -6.7805, -6.7771, -6.8113, -6.132, -6.8665, -6.6045, -6.2652, -6.5294, -6.878, -6.8458, -6.9113, -5.9313, -6.8468, -6.9236, -6.8809, -6.7624, -6.9603, -6.9268, -7.0073, -6.9356, -7.0621, -7.1017, -6.8464, -5.0955, -6.7792, -6.3171, -5.9996, -5.3004, -6.0874, -6.5347, -5.3953, -6.3322, -4.7228, -4.2209, -5.299, -4.6974, -5.9415, -6.4, -3.1565, -5.5188, -6.1693, -3.6499, -5.3872, -5.3105, -6.0637, -4.8801, -3.749, -5.8931, -5.6418, -4.7706, -4.8975, -4.2357, -4.0057, -4.4562, -5.2346, -4.9402, -5.3061, -5.2653, -5.4223, -4.7898, -5.193, -4.8111, -5.1941, -5.4429, -5.2959, -4.923, -5.3128, -5.2321, -5.2786, -6.2507, -5.838, -6.573, -6.1471, -6.5825, -6.729, -6.729, -6.7077, -6.6886, -6.8522, -6.3581, -6.8774, -6.3769, -6.9305, -6.9887, -6.8024, -6.9968, -6.9797, -7.0595, -7.0429, -7.1028, -7.0762, -7.1793, -7.1876, -7.2054, -7.0374, -7.2291, -7.1788, -7.2299, -7.23, -7.1269, -6.5951, -6.3271, -6.7088, -5.9731, -4.9022, -6.2916, -4.6221, -6.5168, -4.3202, -5.658, -6.1632, -5.963, -5.1402, -5.8257, -5.9806, -4.7122, -3.3742, -4.9523, -3.3981, -3.895, -5.1783, -4.731, -5.1066, -5.9791, -5.4307, -4.8279, -4.8886, -5.1252, -4.916, -4.0368, -5.2283, -5.184, -5.3273, -5.4556, -5.3976, -4.5375, -4.9902, -5.1979, -5.4112, -5.3774, -5.4752, -5.2498, -5.125, -5.3706, -5.4218, -5.5438, -5.6406, -5.9863, -6.4626, -6.5169, -6.5296, -6.6284, -6.1844, -6.6447, -5.3238, -6.5968, -6.8101, -6.6385, -6.9401, -6.9374, -6.3828, -6.9493, -6.9564, -6.9628, -7.0011, -6.879, -6.8371, -6.923, -6.8541, -7.0459, -6.1991, -6.6513, -7.0788, -7.0489, -7.1565, -7.0382, -6.1919, -5.4894, -5.5983, -4.3645, -5.9709, -5.7003, -6.1227, -4.5449, -6.2527, -6.2434, -4.3229, -5.1856, -6.2157, -6.3426, -5.3269, -4.3289, -3.7008, -5.952, -5.517, -4.6124, -5.9291, -3.5962, -3.3364, -5.1719, -5.7276, -3.6139, -5.4875, -5.127, -4.7098, -4.4851, -4.1709, -5.237, -4.486, -5.5702, -5.1864, -5.2925, -5.1175, -5.165, -4.5164, -5.0121, -5.1343, -4.7969, -4.741, -5.2425, -5.1008, -5.2153, -5.8315, -4.6717, -6.0444, -5.6584, -6.5628, -6.4855, -6.8063, -6.8741, -6.9055, -6.0511, -6.8982, -6.3191, -6.8249, -7.0377, -7.0659, -7.0511, -6.8265, -7.0329, -7.1075, -7.0924, -7.1919, -6.9565, -7.2028, -6.5074, -7.2726, -7.2462, -7.2584, -7.2932, -7.2327, -6.6751, -6.7789, -7.0878, -5.6019, -7.0764, -5.5433, -5.5308, -6.414, -6.0222, -6.7091, -5.0909, -6.233, -5.3502, -5.6301, -6.6745, -6.145, -6.0242, -4.7537, -5.9831, -5.7406, -6.6079, -6.2697, -5.0752, -6.5627, -5.4281, -5.1963, -4.0032, -4.761, -4.8244, -4.3951, -5.6394, -5.4553, -4.6468, -5.7243, -4.8811, -4.5138, -3.9287, -4.8606, -4.291, -4.7957, -3.9611, -3.9278, -4.1486, -5.4763, -4.6213, -5.0808, -5.214, -5.255, -5.3121, -4.8552, -5.2858, -5.2915, -5.4218]}, \"token.table\": {\"Topic\": [1, 2, 3, 4, 5, 6, 7, 8, 9, 10, 1, 6, 7, 10, 5, 1, 2, 3, 4, 5, 6, 7, 8, 9, 10, 1, 7, 9, 1, 2, 3, 4, 5, 7, 8, 9, 10, 1, 3, 4, 5, 6, 9, 1, 2, 3, 4, 5, 6, 7, 8, 9, 10, 2, 2, 5, 9, 8, 7, 2, 3, 1, 2, 3, 4, 5, 6, 7, 8, 9, 10, 9, 3, 1, 1, 1, 2, 3, 4, 5, 6, 7, 8, 9, 10, 2, 2, 8, 3, 7, 8, 1, 3, 5, 6, 8, 10, 3, 4, 6, 1, 3, 9, 6, 1, 1, 2, 3, 4, 5, 6, 7, 8, 9, 10, 1, 2, 3, 4, 8, 1, 2, 3, 4, 5, 6, 7, 9, 10, 1, 2, 5, 8, 10, 3, 4, 5, 7, 3, 1, 10, 1, 3, 4, 9, 1, 10, 5, 1, 2, 3, 4, 5, 6, 7, 8, 9, 10, 10, 1, 2, 3, 4, 5, 8, 9, 10, 4, 10, 8, 9, 4, 1, 2, 3, 4, 5, 6, 7, 8, 9, 10, 7, 1, 2, 3, 4, 5, 6, 7, 8, 9, 10, 3, 6, 1, 2, 3, 4, 5, 6, 7, 8, 9, 10, 4, 1, 2, 3, 6, 7, 8, 10, 2, 4, 2, 4, 1, 4, 5, 6, 8, 9, 10, 7, 1, 2, 3, 4, 5, 6, 7, 8, 9, 10, 8, 4, 10, 7, 1, 2, 4, 6, 8, 9, 10, 2, 9, 10, 3, 1, 10, 1, 2, 3, 4, 5, 6, 7, 8, 9, 10, 6, 7, 3, 10, 4, 6, 9, 6, 4, 3, 4, 10, 1, 4, 6, 7, 9, 1, 2, 4, 9, 8, 1, 2, 3, 4, 6, 8, 7, 1, 2, 3, 4, 5, 6, 7, 8, 9, 10, 1, 2, 3, 4, 5, 6, 7, 8, 9, 10, 3, 6, 7, 3, 1, 10, 1, 2, 4, 5, 6, 7, 8, 9, 10, 2, 4, 5, 5, 1, 5, 7, 6, 1, 2, 3, 4, 5, 6, 7, 8, 9, 7, 8, 9, 1, 2, 3, 4, 5, 6, 7, 8, 9, 10, 3, 8, 3, 8, 1, 3, 2, 7, 4, 1, 1, 4, 1, 2, 3, 4, 5, 6, 7, 8, 9, 10, 1, 2, 3, 4, 5, 6, 7, 8, 10, 1, 2, 3, 5, 7, 9, 10, 1, 3, 4, 5, 8, 1, 2, 3, 4, 5, 6, 7, 8, 9, 10, 1, 4, 3, 1, 3, 6, 8, 10, 8, 10, 5, 9, 1, 2, 3, 4, 5, 6, 7, 8, 9, 10, 1, 1, 2, 3, 5, 6, 7, 8, 6, 7, 8, 9, 1, 2, 3, 4, 5, 6, 7, 8, 9, 10, 1, 2, 3, 4, 5, 7, 9, 10, 2, 3, 4, 8, 9, 3, 1, 2, 3, 4, 5, 6, 7, 8, 10, 2, 5, 8, 9, 2, 3, 6, 6, 3, 5, 3, 7, 1, 2, 9, 2, 4, 6, 7, 9, 1, 4, 7, 5, 1, 6, 9, 3, 9, 8, 1, 2, 8, 9, 5, 1, 2, 3, 4, 5, 8, 9, 4, 8, 1, 2, 3, 4, 5, 6, 7, 8, 9, 10, 2, 9, 5, 1, 2, 3, 4, 5, 6, 7, 8, 9, 10, 7, 10, 10, 4, 2, 2, 8, 1, 2, 3, 4, 5, 6, 7, 9, 10, 2, 3, 6, 9, 2, 3, 5, 10, 1, 2, 3, 4, 5, 6, 7, 8, 9, 10, 6, 10, 8, 5, 8, 1, 3, 4, 6, 7, 8, 10, 1, 2, 3, 4, 5, 6, 7, 8, 9, 10, 5, 8, 6, 8, 8, 1, 2, 3, 4, 5, 6, 7, 8, 9, 10, 1, 2, 3, 4, 5, 6, 9, 10, 2, 8, 5, 7, 10, 7, 6, 1, 2, 3, 4, 5, 6, 7, 8, 9, 3, 7, 5, 1, 4, 1, 2, 3, 4, 5, 6, 7, 8, 9, 10, 7, 10, 3, 4, 7, 6, 8, 1, 2, 3, 4, 5, 6, 8, 9, 10, 2, 5, 7, 10, 1, 4, 6, 9, 8, 9, 3, 4, 6, 4, 8, 10, 1, 2, 3, 4, 5, 7, 8, 2, 7, 5, 9, 10, 6, 1, 4, 1, 2, 3, 4, 5, 6, 7, 8, 9, 10, 1, 2, 3, 4, 5, 6, 7, 8, 9, 10, 1, 2, 3, 4, 5, 6, 7, 8, 9, 10, 10, 1, 2, 3, 5, 10, 1, 7, 2, 10, 1, 2, 3, 4, 5, 6, 7, 8, 10, 9, 7, 1, 2, 3, 4, 5, 6, 7, 8, 9, 10, 5, 9, 10, 1, 2, 3, 4, 5, 6, 7, 8, 3, 4, 5, 7, 8, 9, 10, 8, 5, 6, 1, 2, 3, 4, 5, 6, 7, 8, 9, 10, 6, 10, 1, 6, 4, 5, 10, 2, 5, 6, 7, 8, 9, 3, 5, 7, 8, 1, 2, 3, 4, 5, 6, 7, 8, 9, 8, 6, 2, 5, 6, 10, 1, 3, 4, 6, 7, 8, 9, 10, 3, 7, 2, 3, 4, 5, 6, 8, 9, 10, 1, 2, 3, 6, 7, 9, 10, 3, 3, 5, 1, 3, 6, 10, 2, 3, 5, 7, 8, 5, 9, 2, 4, 2, 1, 3, 4, 6, 9, 10, 1, 2, 3, 2, 3, 4, 6, 10, 5, 1, 2, 3, 4, 5, 6, 7, 8, 9, 10, 3, 5, 7, 8, 9, 10, 1, 1, 10, 3, 1, 2, 3, 4, 5, 6, 7, 8, 9, 10, 7, 1, 2, 3, 4, 5, 6, 7, 8, 9, 10, 1, 2, 3, 4, 5, 6, 7, 8, 9, 10, 8, 10, 2, 1, 2, 3, 4, 5, 6, 7, 8, 9, 10, 1, 3, 4, 5, 6, 7, 9, 10, 3, 9, 10, 1, 7, 4, 1, 2, 3, 4, 5, 6, 7, 8, 9, 10, 3, 6, 1, 3, 5, 6, 9, 10, 1, 2, 3, 4, 5, 6, 7, 8, 10, 4, 1, 2, 3, 4, 5, 10, 1, 2, 3, 4, 5, 6, 7, 8, 9, 10, 7, 6, 5, 1, 2, 4, 8, 1, 2, 3, 4, 5, 6, 7, 8, 9, 10, 9, 9, 2, 5, 7, 10, 8, 7, 8, 3, 6, 9, 1, 2, 3, 4, 5, 6, 7, 10, 1, 2, 3, 4, 5, 9, 10, 8, 6, 7, 3, 5, 10, 8, 1, 5, 10, 2, 4, 5, 8, 9, 1, 4, 4, 6, 2, 3, 1, 2, 3, 4, 5, 6, 7, 8, 9, 10, 10, 1, 2, 5, 2, 1, 4, 1, 2, 3, 7, 8, 10, 7, 4, 3, 10, 6, 6, 10, 3, 4, 1, 2, 3, 4, 5, 6, 7, 8, 9, 10, 9, 1, 2, 3, 5, 6, 8, 9, 8, 10, 5, 8, 6, 2, 1, 3, 4, 5, 6, 7, 8, 6, 1, 3, 10, 2, 5, 7, 9, 10, 1, 2, 3, 4, 5, 7, 8, 9, 10, 10, 2, 3, 2, 10, 1, 2, 3, 4, 5, 6, 7, 8, 10, 1, 5, 7, 7, 10, 2, 6, 9, 10, 5, 10, 8, 1, 2, 3, 4, 5, 8, 9, 10, 1, 2, 3, 5, 6, 8, 9, 2, 6, 3, 1, 9, 1, 2, 3, 4, 6, 7, 8, 9, 10, 1, 2, 3, 4, 6, 7, 1, 2, 3, 4, 5, 6, 9, 9, 7, 4, 3, 1, 2, 4, 5, 6, 7, 2, 9, 1, 2, 3, 4, 5, 6, 7, 8, 9, 10, 1, 2, 4, 5, 6, 7, 8, 10, 3, 5, 10, 1, 2, 3, 4, 5, 6, 7, 8, 9, 10, 1, 2, 3, 4, 5, 8, 9, 10, 1, 2, 3, 4, 8, 9, 10, 5, 1, 2, 3, 4, 5, 7, 2, 4, 1, 3, 4, 5, 6, 7, 10, 1, 2, 3, 5, 7, 9, 10, 2, 3, 4, 6, 8, 9, 10, 3, 6, 2, 4, 1, 3, 4, 5, 6, 7, 8, 9, 10, 7, 3, 4, 7, 9, 1, 2, 3, 4, 5, 6, 7, 8, 10, 1, 3, 4, 5, 7, 6, 10, 2, 3, 4, 5, 8, 9, 9, 1, 2, 3, 4, 6, 7, 9, 10, 9, 3, 3, 4, 4, 5, 6, 2, 4, 9, 9, 5, 8, 1, 2, 3, 4, 5, 6, 8, 9, 10, 1, 2, 3, 4, 5, 6, 7, 8, 9, 10, 3, 7, 8, 2, 4, 6, 10, 1, 2, 3, 4, 5, 6, 7, 8, 9, 10, 1, 3, 5, 6, 7, 8, 10, 1, 2, 3, 4, 5, 6, 7, 8, 9, 10, 1, 2, 3, 4, 5, 6, 7, 8, 9, 10, 3, 7, 1, 2, 3, 4, 5, 6, 7, 8, 9, 10, 4, 1, 2, 3, 2, 4, 9, 9, 1, 2, 3, 4, 5, 6, 7, 8, 9, 10, 2, 3, 1, 2, 3, 4, 5, 6, 7, 8, 9, 10, 5, 10, 1, 3, 4, 5, 6, 8, 9, 1, 2, 3, 4, 5, 6, 7, 8, 9, 10, 1, 2, 3, 4, 5, 6, 7, 8, 9, 10, 1, 2, 3, 4, 5, 6, 7, 8, 10, 3, 4, 8, 1, 2, 3, 4, 5, 6, 7, 8, 9, 10, 7, 10, 2, 5, 1, 2, 3, 5, 7, 8, 5, 1, 3, 6, 9, 10, 1, 2, 3, 4, 5, 6, 7, 8, 9, 10, 1, 2, 3, 4, 7, 8, 9, 10, 3, 1, 2, 7, 8, 10, 1, 7, 9, 1, 3, 5, 6, 7, 9, 1, 2, 3, 4, 5, 6, 7, 8, 9, 1, 3, 4, 5, 6, 7, 8, 9, 10, 1, 3, 5, 6, 8, 9, 2, 3, 4, 6, 7, 8, 10, 2, 3, 4, 5, 6, 7, 8, 9, 10, 9, 1, 2, 4, 5, 6, 7, 8, 9, 4, 1, 2, 3, 4, 5, 7, 8, 9, 2, 3, 4, 5, 6, 4, 6, 3, 4, 7, 1, 3, 5, 6, 9, 10, 4, 7, 9, 1, 2, 3, 4, 5, 6, 7, 8, 9, 10, 2, 3, 4, 8, 9, 10, 7, 10, 5, 6, 8, 9, 1, 2, 3, 4, 5, 6, 7, 8, 9, 4, 1, 2, 3, 4, 5, 6, 7, 8, 9, 10, 1, 2, 3, 4, 5, 6, 7, 8, 9, 10, 1, 2, 7, 8, 10, 1, 2, 3, 4, 5, 6, 7, 8, 9, 10, 1, 2, 3, 4, 5, 6, 7, 8, 9, 10, 1, 2, 3, 4, 5, 6, 7, 8, 9, 10, 1, 7, 1, 2, 3, 4, 7, 8, 10, 1, 6, 7, 2, 9, 1, 2, 3, 4, 5, 6, 8, 9, 10, 3, 10, 6, 10, 3, 7, 4, 8, 7, 1, 2, 3, 6, 8, 9, 1, 2, 3, 4, 5, 6, 7, 8, 9, 10, 1, 1, 4, 9, 1, 2, 3, 4, 5, 6, 7, 8, 9, 10, 8, 7, 7, 9, 5, 8, 3, 4, 5, 8, 9, 10, 3, 8, 4, 7, 3, 1, 2, 3, 7, 8, 9, 7, 1, 2, 3, 4, 5, 6, 7, 8, 9, 10, 3, 4, 7, 8, 9, 3, 5, 10, 1, 2, 3, 4, 5, 6, 7, 8, 9, 10, 3, 1, 2, 3, 6, 7, 8, 4, 5, 10, 6, 1, 2, 3, 4, 5, 6, 7, 8, 9, 10, 4, 2, 3, 3, 7, 9, 1, 2, 3, 5, 6, 7, 8, 9, 10, 1, 2, 3, 4, 5, 6, 7, 8, 9, 10, 1, 3, 4, 6, 7, 8, 6, 1, 1, 3, 6, 8, 1, 2, 3, 4, 5, 6, 7, 8, 9, 10, 5, 1, 4, 5, 10, 10, 10, 2, 3, 6, 7, 5, 7, 4, 7, 2, 1, 2, 3, 7, 8, 9, 4, 1, 8, 5, 1, 2, 3, 4, 5, 6, 7, 8, 9, 10, 1, 3, 6, 6, 4, 5, 1, 3, 6, 7, 8, 9, 10, 1, 2, 3, 4, 5, 7, 8, 9, 10, 3, 5, 6, 9, 10, 6, 3, 4, 8, 10, 8, 3, 1, 3, 7, 5, 1, 8, 3, 7, 9, 3, 8, 5, 1, 2, 3, 4, 5, 6, 7, 8, 10, 1, 3, 5, 6, 7, 8, 9, 10, 1, 2, 3, 4, 5, 6, 7, 8, 9, 10, 1, 2, 3, 4, 5, 6, 7, 8, 9, 10, 6, 3, 4, 9, 1, 1, 8, 1, 3, 4, 5, 7, 8, 10, 1, 1, 2, 1, 2, 3, 4, 7, 8, 1, 2, 3, 10, 1, 2, 3, 4, 5, 6, 7, 8, 9, 10, 1, 2, 3, 4, 5, 6, 7, 8, 9, 10, 1, 7, 8, 1, 1, 2, 3, 4, 5, 8, 9, 10, 3, 1, 9, 5, 2, 1, 2, 3, 4, 5, 6, 7, 8, 9, 10, 1, 2, 3, 4, 5, 6, 7, 8, 9, 10, 1, 2, 3, 4, 5, 6, 7, 8, 9, 10, 10, 1, 3, 4, 8, 9, 10, 3, 4, 5, 7, 5, 8, 3, 4, 6, 7, 10, 1, 2, 3, 4, 5, 6, 7, 8, 9, 10, 1, 2, 3, 4, 5, 6, 8, 9, 10, 7, 6, 3, 6, 1, 2, 3, 4, 5, 6, 7, 8, 10, 1, 3, 4, 7, 1, 2, 3, 4, 5, 6, 7, 8, 9, 1, 2, 3, 4, 5, 6, 7, 8, 9, 10, 1, 2, 4, 5, 6, 7, 8, 9, 10, 2, 3, 5, 6, 9, 10, 6, 10, 10, 1, 2, 3, 4, 5, 10, 1, 2, 3, 4, 5, 6, 8, 9, 10, 1, 2, 4, 6, 7, 8, 9, 10, 1, 2, 3, 4, 5, 6, 7, 8, 9, 10, 1, 6, 8, 1, 2, 3, 4, 5, 6, 7, 8, 9, 10, 1, 4, 5, 1, 2, 3, 4, 5, 6, 7, 8, 9, 10, 2, 2, 5, 1, 3, 4, 8, 1, 2, 3, 4, 5, 6, 7, 8, 9, 10, 2, 1, 2, 3, 4, 5, 6, 7, 8, 9, 10, 5, 1, 3, 4, 6, 7, 8, 10, 2, 9, 9, 1, 2, 3, 4, 5, 6, 7, 8, 9, 10, 6, 3, 2, 4, 6, 7, 10, 1, 2, 3, 4, 5, 6, 7, 8, 9, 10], \"Freq\": [0.04522495297834179, 0.054269943574010146, 0.03919495924789622, 0.17486981818292158, 0.03919495924789622, 0.07838991849579244, 0.39194959247896216, 0.06331493416967851, 0.0663299310349013, 0.04823994984356458, 0.0385887164888294, 0.8875404792430763, 0.0385887164888294, 0.9717812439209732, 0.9459147412057167, 0.19680458764907455, 0.05581025619899129, 0.0910588390615121, 0.22324102479596517, 0.07637192953546176, 0.06755978381983156, 0.07049716572504162, 0.06462240191462149, 0.14980647716571346, 0.008812145715630203, 0.93632974659245, 0.965614484820394, 0.9176708620939044, 0.043255877976923894, 0.18538233418681668, 0.04634558354670417, 0.42019995749011785, 0.049435289116484454, 0.09578087266318863, 0.027807350128022504, 0.12976763393077168, 0.006179411139560557, 0.026425292813455573, 0.1057011712538223, 0.7663334915902117, 0.05285058562691115, 0.05285058562691115, 0.9402462583201777, 0.15726841388670204, 0.07784786487391751, 0.12266936283162759, 0.06526639176298134, 0.08295908832523533, 0.09750641660975526, 0.1454732828451994, 0.007077078624901591, 0.14429376974104913, 0.09986544281805579, 0.894959777784045, 0.15653502137510925, 0.03130700427502185, 0.8139821111505681, 0.9330387275859475, 0.9337412648825324, 0.16688071719709857, 0.8135434963358555, 0.12290857794125551, 0.009454505995481192, 0.004727252997740596, 0.004727252997740596, 0.004727252997740596, 0.562543106731131, 0.009454505995481192, 0.10872681894803371, 0.028363517986443577, 0.15127209592769908, 0.9366261961291177, 0.900127489141774, 0.9555699968785616, 0.9247712968878681, 0.24576082079305192, 0.07835852257169772, 0.07479677154571146, 0.021370506155917558, 0.0534262653897939, 0.4452188782482825, 0.0035617510259862597, 0.0035617510259862597, 0.0035617510259862597, 0.07123502051972519, 0.8978877612678, 0.9619389379526, 0.9330591746332657, 0.06525091041853934, 0.783010925022472, 0.13050182083707867, 0.0062596580739728265, 0.8137555496164675, 0.04381760651780979, 0.08137555496164675, 0.012519316147945653, 0.03129829036986413, 0.04226924940897199, 0.8453849881794397, 0.08453849881794398, 0.03408517029096454, 0.03408517029096454, 0.9202995978560428, 0.9064581548928357, 0.9826746840621047, 0.27250937672182424, 0.007640449814630587, 0.18591761215601094, 0.21902622801941016, 0.07385768154142901, 0.005093633209753724, 0.11205993061458194, 0.015280899629261173, 0.06876404833167528, 0.04074906567802979, 0.016313773420844453, 0.13051018736675563, 0.7667473507796893, 0.04894132026253335, 0.016313773420844453, 0.05787618370694897, 0.09532547904673948, 0.02042688836715846, 0.47662739523369735, 0.02042688836715846, 0.034044813945264096, 0.2110778464606374, 0.02042688836715846, 0.061280665101475375, 0.029269460673776018, 0.08780838202132805, 0.029269460673776018, 0.029269460673776018, 0.8195448988657285, 0.0800422585248179, 0.7470610795649671, 0.10672301136642387, 0.026680752841605967, 0.90576851176127, 0.9204999748039148, 0.8753511762983401, 0.033175662401652824, 0.09952698720495846, 0.033175662401652824, 0.8293915600413205, 0.9748433182237346, 0.89700394835496, 0.9034996787545109, 0.07985084877154364, 0.0561913380244196, 0.13604218679596322, 0.2395525463146309, 0.03844670496407657, 0.07689340992815313, 0.08280828761493414, 0.1212549925790107, 0.07393597108476263, 0.09759548183188667, 0.9220498086708098, 0.004669611973416461, 0.018678447893665844, 0.21947176275057365, 0.18211486696324197, 0.12607952328224445, 0.004669611973416461, 0.354890509979651, 0.08872262749491275, 0.0934554614486436, 0.8410991530377925, 0.9230322826020143, 0.048580646452737596, 0.9600709473613045, 0.1510564875191238, 0.023403117784652983, 0.259561851793424, 0.09148491497637075, 0.07233690951620013, 0.106377808112059, 0.12339825740998846, 0.029785786271376524, 0.1276533697344708, 0.01702044929792944, 0.9519997804047845, 0.06464613003942148, 0.01795725834428374, 0.03591451668856748, 0.3950596835742423, 0.0826033883837052, 0.025140161681997238, 0.06464613003942148, 0.1185179050722727, 0.028731613350853988, 0.1652067767674104, 0.18962118169374106, 0.7584847267749643, 0.14136113903313205, 0.11037787568340447, 0.18396312613900745, 0.02323744751229568, 0.0038729079187159463, 0.11618723756147839, 0.20526411969194516, 0.08520397421175083, 0.021300993552937707, 0.11037787568340447, 0.9629372583355663, 0.6137912329963338, 0.15839773754744096, 0.01979971719343012, 0.013199811462286748, 0.03959943438686024, 0.006599905731143374, 0.14519792608515422, 0.9443919976574464, 0.9556036350347695, 0.975092568733855, 0.9146643651319022, 0.7213014895587205, 0.08014460995096895, 0.013357434991828157, 0.13357434991828157, 0.013357434991828157, 0.013357434991828157, 0.013357434991828157, 0.9396615384792002, 0.16872973787454343, 0.11165938535815373, 0.34986607412221504, 0.004962639349251277, 0.06947695088951787, 0.07071761072683069, 0.09801212714771272, 0.006203299186564096, 0.05334837300445123, 0.06823629105220506, 0.9191544306878411, 0.9139420394724971, 0.07616183662270809, 0.9559097944084046, 0.0752709615777699, 0.11290644236665486, 0.03763548078888495, 0.018817740394442475, 0.6398031734110442, 0.0752709615777699, 0.03763548078888495, 0.1316489012351605, 0.01645611265439506, 0.8392617453741482, 0.9412079492261727, 0.05637201386802813, 0.90195222188845, 0.21362938235700246, 0.14640335294395973, 0.09859817647246268, 0.10905555882560265, 0.04631126470676277, 0.002987823529468566, 0.15237900000289686, 0.08963470588405698, 0.10905555882560265, 0.03435997058888851, 0.18795468685684896, 0.783144528570204, 0.9430470094581455, 0.9576071515831046, 0.932813957819949, 0.9375221339220043, 0.9371658732934698, 0.9342507767769682, 0.927833649641622, 0.12887707027563883, 0.03221926756890971, 0.773262421653833, 0.02152631679899544, 0.8610526719598176, 0.08610526719598176, 0.02152631679899544, 0.02152631679899544, 0.9247577375131752, 0.12045875484832756, 0.813096595226211, 0.03011468871208189, 0.9592739502291948, 0.023565096932665043, 0.12568051697421356, 0.7697931664670581, 0.007855032310888348, 0.007855032310888348, 0.06284025848710678, 0.9308897003181402, 0.18986427110330248, 0.17783782805498008, 0.17834959158895125, 0.07113513122199203, 0.08699980077509817, 0.053223407533001234, 0.08572039194017025, 0.061411624076539884, 0.029938166737313192, 0.06524985058132363, 0.06796400823795297, 0.3228290391302766, 0.14612261771159887, 0.032849270648343934, 0.04077840494277178, 0.0962823450037667, 0.0826895433561761, 0.030583803707078836, 0.17104275406551497, 0.010194601235692945, 0.16288681570548158, 0.7126298187114819, 0.12216511177911119, 0.9062884166424833, 0.8845607703177735, 0.04655583001672492, 0.013306379387132033, 0.2395148289683766, 0.06653189693566017, 0.013306379387132033, 0.026612758774264066, 0.5189487960981493, 0.0399191381613961, 0.05322551754852813, 0.0399191381613961, 0.0646878721153577, 0.03234393605767885, 0.873286273557329, 0.8990195961589764, 0.8897966475743416, 0.044489832378717085, 0.044489832378717085, 0.9655998918366804, 0.18554554625909814, 0.10050383755701149, 0.14431320264596523, 0.10050383755701149, 0.26027916905790155, 0.06700255837134099, 0.11081192346029473, 0.018039150330745653, 0.01030808590328323, 0.9340113650856563, 0.8840525734044771, 0.07367104778370642, 0.0766800125411961, 0.3003300491196847, 0.1682700275209581, 0.01278000209019935, 0.04473000731569773, 0.06390001045099675, 0.2300400376235883, 0.019170003135299023, 0.01278000209019935, 0.07029001149609643, 0.9077542408088355, 0.06483958862920254, 0.9606055508744352, 0.9184215870274668, 0.9089790487781669, 0.9634822829259229, 0.03489397909594497, 0.9421374355905142, 0.9477272987877511, 0.9191985299874287, 0.9344495376189736, 0.9455942726575889, 0.10165642804205408, 0.09505536128607653, 0.17294794900661148, 0.18615008251856655, 0.007921280107173044, 0.2864862972094251, 0.018482986916737103, 0.08317344112531697, 0.036965973833474206, 0.010561706809564059, 0.0841819946463267, 0.1403033244105445, 0.0841819946463267, 0.06012999617594764, 0.028060664882108902, 0.044095330529028275, 0.2525459839389801, 0.24853731752725028, 0.06012999617594764, 0.08446365650292283, 0.03378546260116913, 0.08446365650292283, 0.016892731300584565, 0.050678193901753696, 0.016892731300584565, 0.7094947146245517, 0.02378120648205208, 0.594530162051302, 0.01189060324102604, 0.3448274939897552, 0.01189060324102604, 0.06515551863566263, 0.05749016350205526, 0.04599213080164421, 0.08815158403648474, 0.003832677566803684, 0.04599213080164421, 0.0958169391700921, 0.12264568213771788, 0.04599213080164421, 0.42542720991520894, 0.06271450572808493, 0.8780030801931891, 0.8957707659703532, 0.8446490411578054, 0.05067894246946832, 0.06757192329262443, 0.016892980823156108, 0.9607906912827634, 0.061375788083546406, 0.9206368212531961, 0.09760488990222035, 0.8784440091199831, 0.2022773065290762, 0.07932443393297106, 0.08329065562961961, 0.16261508956259066, 0.023797330179891316, 0.003966221696648553, 0.04759466035978263, 0.26177063197880446, 0.04759466035978263, 0.08725687732626816, 0.9587887056623736, 0.009578219742658909, 0.5459585253315579, 0.105360417169248, 0.105360417169248, 0.009578219742658909, 0.15325151588254254, 0.07662575794127127, 0.9516013210736124, 0.9501394953947502, 0.9209889013756005, 0.0541758177279765, 0.10056045952318722, 0.09446588621875163, 0.08532402626209824, 0.03961472647883133, 0.08532402626209824, 0.15236433261088972, 0.0030472866522177947, 0.03961472647883133, 0.24378293217742356, 0.16150619256754312, 0.19572687438123373, 0.2789107959932581, 0.048931718595308434, 0.3376288583076282, 0.019572687438123373, 0.06361123417390097, 0.048931718595308434, 0.009786343719061686, 0.29634153649368644, 0.06585367477637476, 0.01646341869409369, 0.5597562355991854, 0.03292683738818738, 0.9632590535303353, 0.1949100885302956, 0.33134715050150254, 0.11694605311817736, 0.06626943010030051, 0.10525144780635963, 0.04677842124727095, 0.003898201770605912, 0.10525144780635963, 0.03508381593545321, 0.6872337874562476, 0.011848858404418062, 0.03554657521325419, 0.26067488489719737, 0.1678556705138394, 0.023979381501977058, 0.791319589565243, 0.9036081036833036, 0.9173361507335145, 0.9483048437391405, 0.9070164542634012, 0.05668852839146257, 0.024539229980010242, 0.09815691992004097, 0.8343338193203482, 0.12410292316537067, 0.12410292316537067, 0.07091595609449752, 0.05318696707087314, 0.6382436048504777, 0.7255897120483675, 0.05182783657488339, 0.20731134629953357, 0.95717412074262, 0.15370548401224032, 0.030741096802448065, 0.7992685168636497, 0.9334434856642894, 0.9468546570082017, 0.901224966024695, 0.9702535971365616, 0.03889571162769029, 0.25282212557998684, 0.68067495348458, 0.9700383307309041, 0.2451610086967426, 0.11740104641815843, 0.03798269148822773, 0.11740104641815843, 0.07596538297645546, 0.3314853075336238, 0.0725124110229802, 0.9788345569583926, 0.8853519840744012, 0.013226608809606723, 0.5290643523842689, 0.019839913214410084, 0.1322660880960672, 0.0661330440480336, 0.026453217619213445, 0.019839913214410084, 0.07935965285764034, 0.10581287047685378, 0.006613304404803361, 0.9028463344004786, 0.9680753050155255, 0.9062967403577831, 0.010316737237228356, 0.20977365715697657, 0.15131214614601587, 0.1994569199197482, 0.11692302202192137, 0.05502259859855123, 0.013755649649637807, 0.020633474474456712, 0.0034389124124094518, 0.2200903943942049, 0.9462271471759891, 0.024900714399368133, 0.9711530762134334, 0.9474704620621824, 0.979876905559392, 0.9226541978438071, 0.9681774420153655, 0.017822600238440723, 0.09802430131142398, 0.008911300119220361, 0.026733900357661083, 0.008911300119220361, 0.26733900357661083, 0.008911300119220361, 0.4544763060802384, 0.1158469015498647, 0.015614580134543567, 0.0468437404036307, 0.06245832053817427, 0.8588019073998961, 0.02306535402249069, 0.7380913287197021, 0.16145747815743483, 0.04613070804498138, 0.3759963742187353, 0.10465878457634899, 0.12404004097937657, 0.007752502561211036, 0.003876251280605518, 0.10465878457634899, 0.06977252305089933, 0.027133758964238627, 0.1279162922599821, 0.054267517928477255, 0.9108009578695677, 0.9130313013491164, 0.9248348204027168, 0.9238880118470422, 0.04399466723081153, 0.05946667272548511, 0.2155666886298835, 0.014866668181371277, 0.0074333340906856385, 0.0371666704534282, 0.1338000136323415, 0.535200054529366, 0.23684505483096902, 0.07711234343333875, 0.03855617171666938, 0.14596265007024836, 0.0523262330440513, 0.002754012265476384, 0.14320863780477197, 0.04131018398214576, 0.07160431890238599, 0.19278085858334687, 0.1240382376516086, 0.8269215843440573, 0.8812688886859896, 0.9278567836091849, 0.9581263806882343, 0.05637960001809868, 0.14229137147424903, 0.16108457148028194, 0.08054228574014097, 0.09128125717215976, 0.2335726286464088, 0.010738971432018796, 0.05101011430208928, 0.02684742858004699, 0.14766085719025843, 0.010725072292801863, 0.06435043375681118, 0.010725072292801863, 0.6113291206897062, 0.06435043375681118, 0.010725072292801863, 0.06435043375681118, 0.16087608439202794, 0.04001791355000067, 0.960429925200016, 0.9658169701628059, 0.9394101667193919, 0.9359605928963992, 0.9397542819343616, 0.9670608245128531, 0.15907937413221168, 0.1120786499567855, 0.05423160481779944, 0.2711580240889972, 0.028923522569493033, 0.2747734644101838, 0.05061616449661281, 0.03615440321186629, 0.018077201605933145, 0.8342407351769455, 0.13347851762831128, 0.9663222506823401, 0.14049275368841163, 0.8148579713927874, 0.03762710207327333, 0.05644065310990999, 0.3123049472081686, 0.007525420414654665, 0.2784405553422226, 0.07149149393921932, 0.09406775518318332, 0.007525420414654665, 0.0037627102073273327, 0.1279321470491293, 0.04735862132173905, 0.899813805113042, 0.09966748088234632, 0.07475061066175974, 0.7973398470587706, 0.9427000518774735, 0.8980722346415981, 0.4634521475579886, 0.06513381533247407, 0.08517498928092763, 0.002505146743556695, 0.13527792415206152, 0.00501029348711339, 0.0075154402306700846, 0.0977007229987111, 0.13527792415206152, 0.9428504002352897, 0.9252663430287188, 0.029847301388023186, 0.029847301388023186, 0.23733710645195075, 0.7120113193558522, 0.00949348425807803, 0.02848045277423409, 0.04134265923505404, 0.950881162406243, 0.7798486827278253, 0.12695211114173902, 0.07254406350956515, 0.9573170071705484, 0.9371044657530131, 0.040743672424044045, 0.004498071229504854, 0.017992284918019415, 0.04048264106554368, 0.053976854754058244, 0.7511778953273105, 0.004498071229504854, 0.13044406565564076, 0.8739253269495794, 0.9731741278341816, 0.06834096128697445, 0.8200915354436934, 0.10251144193046167, 0.928823230832435, 0.964988335100929, 0.9395367032637959, 0.18213559743921967, 0.14324205840271964, 0.2400015945423051, 0.1508310416293538, 0.06260911161973176, 0.07968432387965861, 0.014229343549939037, 0.08727330710629276, 0.03415042451985369, 0.005691737419975615, 0.29777344426973107, 0.18188323893232222, 0.03702048226056116, 0.011267103296692527, 0.14647234285700286, 0.2011982731552237, 0.017705448037659686, 0.03702048226056116, 0.05633551648346263, 0.016095861852417896, 0.25356896404715096, 0.19778379195677775, 0.0775921029984282, 0.020285517123772075, 0.08418489606365412, 0.1845982058263259, 0.1044704131874262, 0.009635620633791737, 0.05578517209037321, 0.012171310274263247, 0.9415701208648336, 0.900734279475389, 0.1962939958459159, 0.10469013111782181, 0.13086266389727727, 0.5496231883685645, 0.9502450512055575, 0.030653066167921208, 0.9198613244247236, 0.929905664105183, 0.069739652762861, 0.39519136565621227, 0.06683383389774178, 0.16563167531179485, 0.17434913190715248, 0.01452909432559604, 0.0377756452465497, 0.002905818865119208, 0.0726454716279802, 0.9653552998274731, 0.9637563035394349, 0.06057325013644331, 0.22091420637996972, 0.09442300756563222, 0.02850505888773803, 0.15143312534110828, 0.0035631323609672536, 0.021378794165803523, 0.06235481631692694, 0.21378794165803522, 0.14252529443869014, 0.8172919901304414, 0.08172919901304414, 0.04086459950652207, 0.011012642219458949, 0.016518963329188424, 0.09911377997513054, 0.14316434885296633, 0.09360745886540106, 0.14316434885296633, 0.3854424776810632, 0.11012642219458949, 0.02969691315159294, 0.06929279735371686, 0.16828250785902668, 0.6434331182845138, 0.05939382630318588, 0.00989897105053098, 0.01979794210106196, 0.9478614714588321, 0.04856380362359508, 0.9227122688483066, 0.006745812530588618, 0.003372906265294309, 0.06745812530588617, 0.20574728218295282, 0.10456009422412357, 0.06408521904059186, 0.4249861894270829, 0.10456009422412357, 0.006745812530588618, 0.013491625061177235, 0.9517595319487012, 0.9500451945541429, 0.9377010067292904, 0.055158882748781786, 0.050329415399222546, 0.10065883079844509, 0.8556000617867833, 0.03377946625014249, 0.02955703296887468, 0.016889733125071246, 0.06755893250028498, 0.13089543171930215, 0.7178136578155279, 0.030166503519972108, 0.9351616091191354, 0.030166503519972108, 0.9248214527550598, 0.14366711917234087, 0.02358713896859328, 0.08577141443124828, 0.3387970870034307, 0.060039990101873796, 0.04717427793718656, 0.04074142185484293, 0.25731424329374486, 0.002144285360781207, 0.9414590650865763, 0.9253588478144358, 0.8737349461949279, 0.10921686827436598, 0.969255693608466, 0.9438412382317009, 0.14576932867340772, 0.02821341845291762, 0.10344920099403128, 0.02351118204409802, 0.23511182044098017, 0.10344920099403128, 0.31504983939091347, 0.03761789127055683, 0.8657639916076421, 0.0865763991607642, 0.6121076096164041, 0.11522025592779371, 0.028805063981948428, 0.057610127963896855, 0.1080189899323066, 0.014402531990974214, 0.028805063981948428, 0.03600632997743554, 0.015813037022096667, 0.031626074044193334, 0.33998029597507834, 0.007906518511048333, 0.023719555533145, 0.43485851810765835, 0.13441081468782168, 0.901002611284128, 0.9010027451911211, 0.9096605873337763, 0.20440375405830735, 0.045423056457401634, 0.7040573750897253, 0.022711528228700817, 0.9089575350632122, 0.009851771597498695, 0.12807303076748305, 0.8571041289823865, 0.8908086296642104, 0.9417883509249816, 0.9569008400552138, 0.9713110231119894, 0.9475420372716291, 0.9256321121277893, 0.07058709624078753, 0.052940322180590645, 0.11470403139127973, 0.08823387030098441, 0.5735201569563987, 0.07941048327088597, 0.7261094475417521, 0.05887373898987179, 0.19624579663290595, 0.01550058866118378, 0.01550058866118378, 0.8835335536874755, 0.06200235464473512, 0.01550058866118378, 0.9504325951408411, 0.06447795129318012, 0.0033065616047784677, 0.05125170487406625, 0.14383542980786335, 0.10911653295768944, 0.03471889685017391, 0.3455356876993499, 0.12399606017919254, 0.014879527221503106, 0.10746325215530021, 0.02555458496043487, 0.05110916992086974, 0.02555458496043487, 0.7410829638526112, 0.05110916992086974, 0.12777292480217434, 0.9234513834341519, 0.954046749597585, 0.9224923043139612, 0.9333268633713716, 0.05711968682189475, 0.3544206909143908, 0.058512849915111693, 0.026748731389765346, 0.27835398602474565, 0.026748731389765346, 0.02897779233891246, 0.04040172970329141, 0.10058637533026343, 0.02814189448298229, 0.9651273877164998, 0.04601795339815464, 0.2732315983015432, 0.2243375228160039, 0.08915978470892462, 0.01150448834953866, 0.07765529635938596, 0.21283303446646523, 0.03451346504861598, 0.01725673252430799, 0.01725673252430799, 0.018626569486375637, 0.2394844648248296, 0.08248909343966353, 0.09579378592993185, 0.015965630988321974, 0.015965630988321974, 0.08781097043577085, 0.11175941691825382, 0.18892663336181004, 0.14369067889489776, 0.053991310796491145, 0.8638609727438583, 0.8866857102628508, 0.0730683349000077, 0.20259856495002138, 0.059783183100006305, 0.06974704695000736, 0.16938568545001786, 0.33212879500003506, 0.013285151800001402, 0.029891591550003153, 0.033212879500003505, 0.016606439750001752, 0.010280353284150464, 0.13364459269395604, 0.010280353284150464, 0.5242980174916737, 0.09252317955735419, 0.030841059852451395, 0.1747660058305579, 0.010280353284150464, 0.046859256671070056, 0.1640073983487452, 0.773177735072656, 0.8030088327901838, 0.13965371005046676, 0.9394993388787194, 0.09617339620770697, 0.19234679241541394, 0.048086698103853485, 0.05610114778782906, 0.03606502357789011, 0.10018062104969476, 0.052093922945841274, 0.012021674525963371, 0.3165707625170354, 0.09216617136571918, 0.9638569838192421, 0.8931575878127532, 0.1697372579841121, 0.024248179712016014, 0.6789490319364484, 0.008082726570672005, 0.06062044928004003, 0.052537722709368025, 0.003616588087774455, 0.0650985855799402, 0.09403129028213583, 0.10126446645768473, 0.1301971711598804, 0.003616588087774455, 0.21337869717869284, 0.018082940438872274, 0.37612516112854333, 0.9375882493354584, 0.0116395119333126, 0.0465580477332504, 0.11639511933312602, 0.756568275665319, 0.0116395119333126, 0.0465580477332504, 0.1687438627108377, 0.1502875027268398, 0.14765087987198297, 0.29793838259882277, 0.03163947425828206, 0.002636622854856839, 0.002636622854856839, 0.07118881708113464, 0.07382543993599149, 0.052732457097136774, 0.9446300390528753, 0.9353072982000008, 0.8977901055301272, 0.26056778233724753, 0.01861198445266054, 0.68864342474844, 0.01861198445266054, 0.4491311760107096, 0.004010099785809907, 0.12431309336010712, 0.07017674625167337, 0.10426259443105759, 0.11027774410977245, 0.05012624732262384, 0.03408584817938421, 0.030075748393574304, 0.024060598714859445, 0.9638913118639844, 0.9019540614411526, 0.018212583214935272, 0.05463774964480582, 0.018212583214935272, 0.8742039943168931, 0.8868628756102886, 0.1637841556603048, 0.818920778301524, 0.05991188738921835, 0.8986783108382752, 0.9854289080035324, 0.1505470933220265, 0.006545525796609848, 0.5236420637287879, 0.03927315477965909, 0.12436499013558712, 0.026182103186439393, 0.11127393854236743, 0.013091051593219697, 0.906173353587767, 0.2028468219342989, 0.013523121462286593, 0.6491098301897565, 0.054092485849146374, 0.013523121462286593, 0.054092485849146374, 0.9628882565402193, 0.9699135748131673, 0.9511139637979619, 0.8685422317533026, 0.045712749039647504, 0.045712749039647504, 0.9330158876091856, 0.9595498303082809, 0.10092496578466678, 0.8410413815388899, 0.6379743365626477, 0.13573922054524418, 0.13573922054524418, 0.013573922054524418, 0.054295688218097674, 0.9467099674756887, 0.026297499096546908, 0.06045763690874265, 0.9068645536311398, 0.8313620586140852, 0.1425192100481289, 0.0311984933684319, 0.04123626949566651, 0.09820743129888998, 0.38930293898869367, 0.1117719936329908, 0.06212569549018178, 0.07026443289064228, 0.1231662259936355, 0.01709134854096704, 0.05534341432313137, 0.9304193178226198, 0.1914818813263884, 0.7446517607137327, 0.04255152918364187, 0.8957582465155446, 0.9144083946960264, 0.08312803588145694, 0.006703218435043252, 0.053625747480346014, 0.2882383927068598, 0.006703218435043252, 0.09384505809060552, 0.5429606932385034, 0.9767686801497096, 0.9637192103053855, 0.10954534185125211, 0.8489763993472039, 0.895648443740575, 0.8282619592811097, 0.13804365988018494, 0.10288875250234453, 0.8745543962699285, 0.1050096959512792, 0.15644301641721187, 0.1328694112036594, 0.06214859556300197, 0.11786802606776237, 0.004286110038827722, 0.030002770271794058, 0.08572220077655444, 0.040718045368863365, 0.2657388224073188, 0.8813991264607537, 0.20397944575147853, 0.3810182099886108, 0.030789350302109966, 0.22322278969029724, 0.10006538848185739, 0.015394675151054983, 0.04618402545316495, 0.9541537488426327, 0.9081985619552299, 0.8976524173655531, 0.9330591744854628, 0.961690854842885, 0.9087672701287415, 0.05962296051678926, 0.08198157071058523, 0.0074528700645986575, 0.5813238650386953, 0.13415166116277583, 0.014905740129197315, 0.1266987910981772, 0.9452056703151476, 0.08306012980388763, 0.04153006490194382, 0.8721313629408202, 0.036701304775501806, 0.05505195716325271, 0.6055715287957798, 0.20185717626525992, 0.09175326193875451, 0.1430987558305534, 0.013008977802777582, 0.04336325934259194, 0.03469060747407355, 0.3729240303462907, 0.1387624298962942, 0.1430987558305534, 0.09106284461944307, 0.026017955605555164, 0.9584372442868174, 0.9269893177297283, 0.044142348463320394, 0.8822770964709963, 0.9300377336040717, 0.13457191185709183, 0.00841074449106824, 0.03364297796427296, 0.43735871353554845, 0.11775042287495535, 0.1261611673660236, 0.058875211437477676, 0.03364297796427296, 0.050464466946409436, 0.041508349855561115, 0.041508349855561115, 0.8716753469667834, 0.924632237647427, 0.9201709051527467, 0.7207572166872863, 0.10296531666961233, 0.10296531666961233, 0.05148265833480616, 0.7522974053839141, 0.2194200765703083, 0.9109633393833265, 0.008353387149105154, 0.008353387149105154, 0.10024064578926185, 0.49284984179720415, 0.05847371004373608, 0.1837745172803134, 0.13365419438568246, 0.008353387149105154, 0.13508320294771195, 0.12757858056172794, 0.15509552931033593, 0.1901171004449279, 0.052532356701887974, 0.002501540795327999, 0.3327049257786239, 0.9386968777881142, 0.9387708834594055, 0.8804334114891906, 0.9594803464825632, 0.9529941801078479, 0.07235620390971732, 0.4115259097365173, 0.022611313721786666, 0.08592299214278933, 0.01808905097742933, 0.15375693330814932, 0.013566788233071999, 0.13114561958636264, 0.09496751763150399, 0.2677445355408086, 0.10568863245031919, 0.007045908830021279, 0.02113772649006384, 0.09864272362029791, 0.5002595269315109, 0.0379316702866392, 0.08128215061422685, 0.6394195848319179, 0.0379316702866392, 0.01625643012284537, 0.17340192131035062, 0.005418810040948457, 0.9074252176655414, 0.9175179495363448, 0.9656024375254422, 0.9745147844236984, 0.057902619532392174, 0.1488924502261513, 0.6948314343887061, 0.008271802790341738, 0.03308721116136695, 0.049630816742050436, 0.9011890069149371, 0.9469532566270593, 0.04454463087794735, 0.1781785235117894, 0.1262097874875175, 0.05939284117059647, 0.3043883109993069, 0.07052899889008331, 0.007424105146324559, 0.11136157719486837, 0.0037120525731622793, 0.10022541947538154, 0.1367951616771874, 0.10943612934174991, 0.42406500119928087, 0.12995540359332802, 0.00683975808385937, 0.00683975808385937, 0.03419879041929685, 0.15047467784490612, 0.04436080169605633, 0.7763140296809857, 0.17744320678422532, 0.04217416875986821, 0.5444301785364805, 0.057510230127093005, 0.15336061367224801, 0.007668030683612401, 0.057510230127093005, 0.0038340153418062006, 0.023004092050837203, 0.10351841422876741, 0.0038340153418062006, 0.08427484361674191, 0.040684407263254715, 0.23248232721859838, 0.01743617454139488, 0.2528245308502257, 0.072650727255812, 0.014530145451162399, 0.284790850842783, 0.025895534344961495, 0.05179106868992299, 0.12947767172480748, 0.7380227288314026, 0.038843301517442246, 0.8285045412810651, 0.1428456105657009, 0.915906615166779, 0.07265459332425345, 0.84071743703779, 0.020758455235500985, 0.010379227617750493, 0.03113768285325148, 0.020758455235500985, 0.9415331546919918, 0.9513097265607418, 0.016024014985677678, 0.008012007492838839, 0.16825215734961563, 0.05608405244987187, 0.016024014985677678, 0.45668442709181384, 0.25638423977084285, 0.018816405444576002, 0.536267555170416, 0.16934764900118401, 0.018816405444576002, 0.103490229945168, 0.14112304083432, 0.009408202722288001, 0.02482359302034566, 0.01241179651017283, 0.08688257557120982, 0.583354435978123, 0.02482359302034566, 0.11170616859155548, 0.1613533546322468, 0.09610811384513833, 0.8649730246062449, 0.8883313440247119, 0.07724620382823581, 0.014809554987565936, 0.22214332481348906, 0.01974607331675458, 0.004936518329188645, 0.06417473827945239, 0.19252421483835716, 0.28631806309294144, 0.07898429326701832, 0.11353992157133885, 0.9363109776461251, 0.010324621312588907, 0.24779091150213375, 0.7330481131938124, 0.9737673258435118, 0.08846136991000336, 0.01638173516851914, 0.03603981737074211, 0.2457260275277871, 0.001638173516851914, 0.3718653883253845, 0.1294157078313012, 0.06388876715722465, 0.045868858471853596, 0.04495926946949209, 0.11239817367373021, 0.022479634734746044, 0.13487780840847627, 0.6743890420423813, 0.09941335795130951, 0.8450135425861308, 0.3393818970704629, 0.010284299911226149, 0.4936463957388551, 0.041137199644904594, 0.09255869920103534, 0.020568599822452297, 0.956087974590046, 0.03650660211842269, 0.009126650529605672, 0.501965779128312, 0.09126650529605672, 0.018253301059211344, 0.1277731074144794, 0.04563325264802836, 0.17340636006250776, 0.926083615719391, 0.910986734529818, 0.9416498569925933, 0.937050114755465, 0.921914279472241, 0.8900604480668534, 0.9584691230620588, 0.697232102936831, 0.08938873114574757, 0.21453295474979417, 0.9586171529273806, 0.9402453731813871, 0.956695674354968, 0.015004253653480024, 0.28508081941612046, 0.07502126826740012, 0.03751063413370006, 0.12003402922784019, 0.3676042145102606, 0.007502126826740012, 0.060017014613920096, 0.03751063413370006, 0.20140638084939402, 0.2529860637498486, 0.07614143666257579, 0.15719522407757583, 0.034386455266969713, 0.004912350752424245, 0.0073685261286363666, 0.08596613816742428, 0.08350996279121216, 0.09579083967227277, 0.8983764319956595, 0.042779830095031404, 0.042779830095031404, 0.008015037887167726, 0.008015037887167726, 0.008015037887167726, 0.9698195843472949, 0.4813658777878967, 0.10040760640974533, 0.12993925535378806, 0.011812659577617096, 0.014765824472021372, 0.06201646278248976, 0.0797354521489154, 0.002953164894404274, 0.08564178193772395, 0.032484813838447014, 0.012309300734685962, 0.0984744058774877, 0.012309300734685962, 0.5908464352649262, 0.12309300734685963, 0.061546503673429814, 0.07385580440811577, 0.08286841965595049, 0.09115526162154554, 0.16573683931190097, 0.06836644621615916, 0.041434209827975244, 0.058007893759165347, 0.04350592031937401, 0.22581644356246508, 0.0020717104913987624, 0.22167302257966756, 0.08938072983295589, 0.01895954875244519, 0.05687864625733556, 0.05958715322197059, 0.2925187521805829, 0.01625104178781016, 0.16792743180737166, 0.07312968804514572, 0.20584652931226205, 0.01895954875244519, 0.7991823924593302, 0.18647589157384373, 0.12456247934496811, 0.12216704704987258, 0.10300358868910825, 0.1293533439351592, 0.06228123967248406, 0.09821272409891717, 0.11018988557439487, 0.15091223459101907, 0.08623556262343947, 0.014372593770573244, 0.8705420424242151, 0.03711312213561056, 0.8907149312546535, 0.03711312213561056, 0.8036411047360665, 0.06697009206133889, 0.06697009206133889, 0.917731745991642, 0.17340842486921626, 0.05449979067318225, 0.11147684455878189, 0.18579474093130313, 0.07184063316010388, 0.20313558341822477, 0.03468168497384325, 0.04211347461109538, 0.039636211398678005, 0.08174968600977338, 0.8434407531568706, 0.1454208195098053, 0.07341620835431674, 0.0644630122135464, 0.16473880899017412, 0.055509816072776066, 0.008953196140770333, 0.03939406301938947, 0.12534474597078465, 0.17906392281540667, 0.0017906392281540667, 0.28650227650465065, 0.05565770450051881, 0.890523272008301, 0.004736340658130909, 0.004736340658130909, 0.19892630764149818, 0.21787167027402182, 0.22734435159028363, 0.004736340658130909, 0.33628018672729454, 0.0686454894839722, 0.22653011529710823, 0.009152731931196293, 0.10068005124315922, 0.002288182982799073, 0.2905992388154823, 0.06635730650117312, 0.027458195793588876, 0.18076645564112678, 0.02974637877638795, 0.06260184637204512, 0.23508991243970134, 0.05594207548140202, 0.01886935085682211, 0.20600891288389314, 0.16050047846449866, 0.13452737199099057, 0.017981381404736364, 0.10566836479820382, 0.0028859007192786755, 0.04233676719884389, 0.047628863098699376, 0.27254293884255754, 0.037044671298988405, 0.03175257539913292, 0.11378006184689296, 0.13759449339624266, 0.13759449339624266, 0.17993126059508655, 0.02015224208377903, 0.7657851991836031, 0.2015224208377903, 0.37082526106612096, 0.003465656645477766, 0.09703838607337745, 0.14902323575554394, 0.055450506327644256, 0.12822929588267734, 0.010396969936433298, 0.01732828322738883, 0.003465656645477766, 0.15942020569197723, 0.932262113086444, 0.9123645563541286, 0.8644447246148951, 0.05762964830765967, 0.16409181643482357, 0.06153443116305884, 0.06153443116305884, 0.6973902198480002, 0.010255738527176473, 0.010255738527176473, 0.8809367544991996, 0.04210161168200225, 0.1894572525690101, 0.7367782044350394, 0.021050805841001125, 0.8913856041890165, 0.15349721750502485, 0.014509687226843145, 0.19549894368799184, 0.2955394187783314, 0.0633844231488411, 0.018328025970749236, 0.05803874890737258, 0.0030546709951248725, 0.06262075540005989, 0.13516919153427562, 0.013824816216797577, 0.08755716937305132, 0.004608272072265859, 0.09677371351758304, 0.004608272072265859, 0.08294889730078546, 0.654374634261752, 0.055299264867190306, 0.9402045950037802, 0.18397463521441446, 0.03066243920240241, 0.06132487840480482, 0.6132487840480482, 0.09198731760720723, 0.014501938675216776, 0.02900387735043355, 0.9426260138890904, 0.07323321868293287, 0.6444523244098092, 0.04393993120975972, 0.029293287473173144, 0.07323321868293287, 0.13181979362927915, 0.05460156603880156, 0.186555350632572, 0.02275065251616732, 0.2275065251616732, 0.07280208805173542, 0.02275065251616732, 0.0637018270452685, 0.3503600487489767, 0.004550130503233464, 0.057946308775418245, 0.057946308775418245, 0.057946308775418245, 0.2566193674339951, 0.008278044110774036, 0.4139022055387018, 0.04139022055387018, 0.0910584852185144, 0.024834132332322106, 0.14061262248328685, 0.020087517497612405, 0.642800559923597, 0.08035006999044962, 0.020087517497612405, 0.08035006999044962, 0.02743670005078922, 0.0054873400101578445, 0.2359556204367873, 0.6420187811884678, 0.07133542013205198, 0.0054873400101578445, 0.0054873400101578445, 0.16865812981045075, 0.004818803708870022, 0.0915572704685304, 0.3324974559120315, 0.009637607417740043, 0.019275214835480087, 0.1542017186838407, 0.07228205563305032, 0.14456411126610064, 0.9285170948688338, 0.0673877749306543, 0.02450464542932884, 0.11027090443197977, 0.00612616135733221, 0.00612616135733221, 0.03063080678666105, 0.4900929085865768, 0.2695510997226172, 0.9520268311782112, 0.09180834378338922, 0.5304482085262487, 0.010200927087043246, 0.010200927087043246, 0.1122101979574757, 0.1122101979574757, 0.08160741669634597, 0.05100463543521623, 0.0481445716349016, 0.0962891432698032, 0.23109394384752768, 0.5969926882727798, 0.00962891432698032, 0.06706821426634169, 0.9054208925956128, 0.9353319775630339, 0.9600083816976321, 0.9442256892764997, 0.01999339975553534, 0.02999009963330301, 0.01999339975553534, 0.0999669987776767, 0.02999009963330301, 0.7997359902214136, 0.9213205300713603, 0.9299805426299044, 0.967909744794701, 0.12986959755669583, 0.28265735938810266, 0.003819694045785171, 0.030557552366281368, 0.14132867969405133, 0.011459082137355513, 0.003819694045785171, 0.04583632854942205, 0.28647705343388785, 0.06875449282413308, 0.2992260606268088, 0.010318140021614096, 0.010318140021614096, 0.041272560086456384, 0.041272560086456384, 0.5881339812320034, 0.030694683684053106, 0.9208405105215932, 0.017871479416544697, 0.10722887649926818, 0.05361443824963409, 0.8042165737445114, 0.127963084452792, 0.02781806183756348, 0.10014502261522852, 0.01669083710253809, 0.6008701356913712, 0.08901779788020313, 0.022254449470050782, 0.0055636123675126955, 0.01669083710253809, 0.9043202503441459, 0.23275211129091072, 0.034173921102236895, 0.088667470967966, 0.07481317862922131, 0.06557698373672485, 0.09236194892496458, 0.044333735483983, 0.04987545241948087, 0.30571805094163274, 0.012930672849495041, 0.01889725350791077, 0.008098822931961758, 0.1592768509952479, 0.0026996076439872525, 0.035094899371834284, 0.09988548282752834, 0.05939136816771955, 0.029695684083859777, 0.4778305529857437, 0.1133835210474646, 0.08240741975934983, 0.02996633445794539, 0.09739058698832252, 0.7566499450631211, 0.022474750843459044, 0.19130005217099166, 0.09029362462470807, 0.19130005217099166, 0.05203361419050973, 0.053564014607877665, 0.04285121168630213, 0.18517845050151993, 0.05203361419050973, 0.13620563714574607, 0.007652002086839666, 0.039319172958762645, 0.03629462119270398, 0.15727669183505058, 0.16635034713322658, 0.09981020827993595, 0.16937489889928523, 0.042343724724821306, 0.18449765772957857, 0.021171862362410653, 0.09073655298175995, 0.03369273627497259, 0.14702284919988037, 0.25728998609979065, 0.021440832174982556, 0.024503808199980062, 0.009188928074992523, 0.16540070534986542, 0.14089689714988538, 0.13477094509989035, 0.06432249652494766, 0.9217707820811384, 0.05120948789339658, 0.1645037694603654, 0.15019909385511623, 0.10728506703936874, 0.1645037694603654, 0.014304675605249164, 0.007152337802624582, 0.38622624134172745, 0.9234629027928708, 0.03420232973306929, 0.017101164866534645, 0.05352961631981471, 0.9100034774368501, 0.05735513664137436, 0.1577266257637795, 0.0802971912979241, 0.06882616396964923, 0.19787522141274153, 0.2580981148861846, 0.02580981148861846, 0.02867756832068718, 0.1261813006110236, 0.04006462743382234, 0.9214864309779138, 0.9634965452902474, 0.9112905653912391, 0.9178665312292821, 0.9118019772130772, 0.9119676699253952, 0.04559838349626976, 0.9164820192772084, 0.09105763143713543, 0.022764407859283856, 0.5804924004117383, 0.05691101964820964, 0.18211526287427085, 0.06829322357785157, 0.2718380472671663, 0.10369080153489849, 0.07846871467505831, 0.02802454095537797, 0.10649325563043628, 0.0028024540955377967, 0.14572761296796544, 0.03362944914645356, 0.13171534249027644, 0.0952834392482851, 0.9417769744174219, 0.11496505290511978, 0.8047553703358384, 0.9224453211417002, 0.28173714185367116, 0.05165180933983971, 0.180781332689439, 0.09391238061789038, 0.11739047577236299, 0.08686895207154861, 0.10799923771057394, 0.05165180933983971, 0.011739047577236298, 0.014086857092683558, 0.9128724693909201, 0.957477682660476, 0.902693628290031, 0.9532961828307382, 0.909722385990289, 0.9708408986975634, 0.014347311919557387, 0.08608387151734431, 0.11477849535645909, 0.6743236602191971, 0.014347311919557387, 0.08608387151734431, 0.032799755897260904, 0.9511929210205662, 0.05678676063987836, 0.9085881702380537, 0.9245337905041979, 0.026896140839800096, 0.7127477322547026, 0.1344807041990005, 0.026896140839800096, 0.026896140839800096, 0.06724035209950024, 0.9535710807668678, 0.3649810390314021, 0.31375563004453866, 0.0032015880616789658, 0.12806352246715863, 0.0032015880616789658, 0.08003970154197415, 0.009604764185036897, 0.057628585110221384, 0.02241111643175276, 0.012806352246715863, 0.19296627884434414, 0.07109283957423206, 0.05078059969588004, 0.1320295592092881, 0.5484304767155044, 0.026483250706655186, 0.7415310197863452, 0.21186600565324148, 0.02265724229104458, 0.084155471366737, 0.01618374449360327, 0.09062896916417831, 0.0420777356833685, 0.12299645815138485, 0.19096818502451857, 0.3948833656439198, 0.02265724229104458, 0.012946995594882616, 0.951548678592042, 0.04235174092895239, 0.014117246976317466, 0.028234493952634932, 0.7199795957921907, 0.09882072883422226, 0.07058623488158733, 0.9629946387053792, 0.019259892774107584, 0.019259892774107584, 0.9623514497388218, 0.009680006650378728, 0.03146002161373087, 0.15730010806865435, 0.05324003657708301, 0.30734021114952464, 0.15972010973124903, 0.002420001662594682, 0.004840003325189364, 0.029040019951136187, 0.2420001662594682, 0.9435767599455033, 0.967646027577809, 0.9116514120948063, 0.03402704127243646, 0.8847030730833482, 0.06805408254487293, 0.1297213948397233, 0.45020954679668673, 0.007630670284689606, 0.03815335142344803, 0.007630670284689606, 0.03815335142344803, 0.022892010854068816, 0.2823348005335154, 0.030522681138758424, 0.12976284562433518, 0.09414167231569415, 0.07887545518341942, 0.11195225897001466, 0.009541385707671704, 0.40582693876630316, 0.10495524278438874, 0.045162559016312734, 0.0038165542830686816, 0.01653840189329762, 0.5694111614708802, 0.17082334844126407, 0.09110578583534083, 0.06832933937650562, 0.09110578583534083, 0.011388223229417604, 0.9671059175902965, 0.92340745084616, 0.1317114820528175, 0.1317114820528175, 0.056447778022636064, 0.6585574102640874, 0.23206496360845316, 0.1253684286160609, 0.13337066874049033, 0.016004480248858838, 0.2427346171076924, 0.09069205474353342, 0.11203136174201186, 0.0026674133748098064, 0.040011200622147094, 0.005334826749619613, 0.9138270023268159, 0.03200848867411052, 0.03200848867411052, 0.8962376828750946, 0.03200848867411052, 0.9392642081702204, 0.8889874520032515, 0.04145972383506652, 0.04145972383506652, 0.870654200536397, 0.04145972383506652, 0.9380206226377693, 0.044667648697036634, 0.030622839387904315, 0.9493080210250338, 0.9115894931958416, 0.054283963227348665, 0.04652911133772743, 0.10081307456507609, 0.03877425944810619, 0.17836159346128846, 0.5816138917215928, 0.9368124861234142, 0.8012344402440416, 0.18490025544093266, 0.9617703081011928, 0.22454418322430267, 0.06331794200580858, 0.08383764543361692, 0.24623644113370005, 0.06273166476501406, 0.020519703427808338, 0.0005862772407945239, 0.1618125184592886, 0.12135938884446645, 0.015243208260657622, 0.11338062851461642, 0.03779354283820547, 0.8314579424405204, 0.8812045358264835, 0.9592080869920687, 0.033076140930760986, 0.12636594522858036, 0.034463439607794646, 0.1493415716337768, 0.011487813202598214, 0.11487813202598214, 0.022975626405196427, 0.5284394073195179, 0.05033325175152827, 0.03355550116768551, 0.14764420513781626, 0.15435530537135336, 0.053688801868296825, 0.23824405829056716, 0.24495515852410424, 0.013422200467074206, 0.06375545221860247, 0.012274426154427465, 0.08592098308099226, 0.012274426154427465, 0.5400747507948085, 0.3559583584783965, 0.9382252949583658, 0.0839964969026206, 0.06719719752209648, 0.06719719752209648, 0.7727677715041095, 0.9330243554146749, 0.9172787947999471, 0.1666358481254634, 0.7155539360681664, 0.10782319584588808, 0.9350564679142391, 0.8927733538241753, 0.9370448276237191, 0.17390255096791998, 0.02898375849465333, 0.7825614793556399, 0.8198730509971613, 0.15031005934947958, 0.9630395465178936, 0.03194925702951651, 0.05191754267296433, 0.023961942772137382, 0.17971457079103037, 0.003993657128689564, 0.1877018850484095, 0.14776531376151386, 0.32747988455254423, 0.039936571286895636, 0.1788932039051785, 0.05963106796839283, 0.0028395746651615635, 0.03691447064710032, 0.06814979196387752, 0.513963014394243, 0.10506426261097784, 0.03691447064710032, 0.08250654143703538, 0.11393760484162029, 0.06089768534638326, 0.07661321704867571, 0.5991546461498998, 0.00589332438835967, 0.007857765851146227, 0.04321771218130425, 0.00589332438835967, 0.001964441462786557, 0.07033340861693298, 0.18085733644354193, 0.24784153512633525, 0.12057155762902796, 0.03684130927553632, 0.0033492099341396655, 0.25453995499461457, 0.01674604967069833, 0.03684130927553632, 0.03014288940725699, 0.907015168223908, 0.953638813392079, 0.9101361061912544, 0.9727318451692561, 0.9191701439307783, 0.9495978276849526, 0.9701509636459624, 0.04080207666074693, 0.13600692220248975, 0.06800346110124487, 0.6528332265719509, 0.013600692220248975, 0.06800346110124487, 0.013600692220248975, 0.9774483132987981, 0.9587943560230089, 0.9030976774295564, 0.017178243366017816, 0.03435648673203563, 0.017178243366017816, 0.2233171637582316, 0.6355950045426592, 0.06871297346407126, 0.05088207366462948, 0.1272051841615737, 0.02544103683231474, 0.7886721418017569, 0.00821959234749952, 0.021918912926665386, 0.0821959234749952, 0.4027600250274765, 0.002739864115833173, 0.0712364670116625, 0.16713171106582356, 0.1534323904866577, 0.010959456463332693, 0.07397633112749567, 0.14549274605410692, 0.11986002900735358, 0.145853770237864, 0.030326031435595487, 0.15235220554549161, 0.05487567593107755, 0.04187880531582234, 0.16787624544704643, 0.05270953082853501, 0.08881194920424391, 0.07441881850687057, 0.024806272835623523, 0.8682195492468233, 0.9033667819270595, 0.006101939206617535, 0.01220387841323507, 0.11593684492573317, 0.006101939206617535, 0.3844221700169047, 0.3600144131904346, 0.04271357444632275, 0.06101939206617535, 0.9402510008630802, 0.9477421277805356, 0.04307918762638798, 0.9562810988564802, 0.9422898256861347, 0.044307962776811344, 0.3062172538575184, 0.05809266230737487, 0.05316955533217361, 0.18806268645268814, 0.10240062508418621, 0.029538641851207564, 0.037415613011529576, 0.14867783065107806, 0.03249250603632832, 0.1500869913025327, 0.2512325723977178, 0.016313803402449208, 0.13051042721959366, 0.06851797429028667, 0.04241588884636793, 0.006525521360979682, 0.18597735878792096, 0.02936484612440857, 0.12072214517812413, 0.16185897733611512, 0.28325321033820144, 0.08460810178933291, 0.005517919681913015, 0.32923587435414325, 0.045982664015941796, 0.01839306560637672, 0.00919653280318836, 0.04782197057657947, 0.012875145924463703, 0.8904000042198222, 0.6290894783688201, 0.05048248900490532, 0.042715952234919884, 0.02718287869494902, 0.19028015086464314, 0.05436575738989804, 0.023825531145655533, 0.09530212458262213, 0.023825531145655533, 0.8338935900979436, 0.8421395006574522, 0.0935710556286058, 0.012402669646781005, 0.012402669646781005, 0.012402669646781005, 0.1860400447017151, 0.7565628484536413, 0.09895740535967074, 0.0153554594523627, 0.2405688647536823, 0.14672994587813246, 0.09383891887554983, 0.06654032429357169, 0.12113751345752796, 0.022180108097857233, 0.08018962158456076, 0.11090054048928616, 0.31730394845709414, 0.1724477980745077, 0.009197215897307076, 0.1632505821772006, 0.009197215897307076, 0.08967285499874399, 0.23452900538133045, 0.002299303974326769, 0.002299303974326769, 0.9674885636891998, 0.9426306507845221, 0.8315950026692442, 0.16631900053384885, 0.01137680038577018, 0.15927520540078255, 0.02275360077154036, 0.01137680038577018, 0.01137680038577018, 0.5574632189027389, 0.02275360077154036, 0.05688400192885091, 0.14789840501501236, 0.09850814566863542, 0.7716471410709774, 0.11492616994674132, 0.016418024278105903, 0.02719382007180254, 0.1359691003590127, 0.08158146021540762, 0.004532303345300423, 0.018129213381201693, 0.018129213381201693, 0.009064606690600847, 0.6073286482702567, 0.10424297694190973, 0.06425269090285264, 0.2282078332066835, 0.10191806143211109, 0.042096590591524145, 0.06203708087171979, 0.017724880249062797, 0.004431220062265699, 0.024371710342461345, 0.3899473654793815, 0.06425269090285264, 0.006329304592405152, 0.3291238388050679, 0.15190331021772363, 0.025317218369620607, 0.006329304592405152, 0.4114047985063349, 0.03797582755443091, 0.025317218369620607, 0.006329304592405152, 0.03309008705119118, 0.005515014508531863, 0.22611559484980637, 0.07721020311944608, 0.03309008705119118, 0.6176816249555687, 0.8936638563497182, 0.05957759042331455, 0.8993154732931741, 0.02516662774440872, 0.1258331387220436, 0.10066651097763488, 0.20972189787007267, 0.05872213140362035, 0.4613881753141599, 0.16641608853907258, 0.15617509847512964, 0.11777138573534367, 0.21250054382681577, 0.1356931183472438, 0.03840371273978598, 0.10497014815541501, 0.05376519783570037, 0.015361485095914392, 0.5276492059699386, 0.1499003426050962, 0.04197209592942693, 0.005996013704203848, 0.02998006852101924, 0.2038644659429308, 0.02398405481681539, 0.011992027408407695, 0.0254666733643095, 0.0764000200929285, 0.033955564485746, 0.0933778023358015, 0.4668890116790075, 0.016977782242873, 0.152800040185857, 0.033955564485746, 0.016977782242873, 0.0764000200929285, 0.7992316670848792, 0.17050275564477424, 0.01065642222779839, 0.11167451475337431, 0.09895210168020509, 0.039580840672082035, 0.021204021788615374, 0.1865953917398153, 0.149841753972882, 0.08905689151218457, 0.0508896522926769, 0.05230325374525126, 0.20073140626555888, 0.02335466963312368, 0.8174134371593288, 0.14012801779874207, 0.09669135114150051, 0.18431788811348535, 0.06647530390978161, 0.08460493224881295, 0.1027345605878443, 0.02719444250854702, 0.06043209446343782, 0.22964195896106374, 0.12086418892687564, 0.02417283778537513, 0.9010414128705206, 0.970965996876944, 0.9714933302730472, 0.12444690413081302, 0.6222345206540651, 0.09955752330465042, 0.13689159454389432, 0.047682296908221, 0.29971729485167486, 0.044276418557633784, 0.09195871546585478, 0.10217635051761642, 0.16348216082818628, 0.020435270103523286, 0.047682296908221, 0.047682296908221, 0.13964101237407578, 0.8623616680277466, 0.16762990906085218, 0.10982649214331694, 0.008670512537630284, 0.06647392945516552, 0.11849700468094722, 0.10982649214331694, 0.011560683383507046, 0.23410383851601768, 0.07225427114691904, 0.10115597960568665, 0.9228201429679254, 0.7263523228285848, 0.013206405869610633, 0.0792384352176638, 0.026412811739221265, 0.0792384352176638, 0.06603202934805316, 0.9235284101819943, 0.9353395061206818, 0.9669046080721965, 0.9803919874414522, 0.2992728552320471, 0.08978185656961413, 0.12111198360171907, 0.09632845027781517, 0.05564604651970876, 0.1982682665912312, 0.05517843268340868, 0.021510236469803386, 0.0032732968541005153, 0.05938695721010935, 0.9184985140983734, 0.9183718170690791, 0.5977354817174483, 0.14681222357972415, 0.02097317479710345, 0.14681222357972415, 0.0838926991884138, 0.12427311975156126, 0.008473167255788268, 0.36293399745626415, 0.032480474480521694, 0.005648778170525512, 0.09461703435630232, 0.02118291813947067, 0.011297556341051024, 0.004236583627894134, 0.3332779120610052], \"Term\": [\"1\", \"1\", \"1\", \"1\", \"1\", \"1\", \"1\", \"1\", \"1\", \"1\", \"11\", \"11\", \"11\", \"14\", \"18h\", \"2\", \"2\", \"2\", \"2\", \"2\", \"2\", \"2\", \"2\", \"2\", \"2\", \"2012\", \"25\", \"26\", \"3\", \"3\", \"3\", \"3\", \"3\", \"3\", \"3\", \"3\", \"3\", \"9\", \"9\", \"9\", \"9\", \"9\", \"9h\", \"a\", \"a\", \"a\", \"a\", \"a\", \"a\", \"a\", \"a\", \"a\", \"a\", \"aaah\", \"ac\", \"ac\", \"ac\", \"accent\", \"accident\", \"accompagn\", \"accompagn\", \"accro\", \"accro\", \"accro\", \"accro\", \"accro\", \"accro\", \"accro\", \"accro\", \"accro\", \"accro\", \"acteur\", \"actif\", \"adel\", \"adversair\", \"ah\", \"ah\", \"ah\", \"ah\", \"ah\", \"ah\", \"ah\", \"ah\", \"ah\", \"ah\", \"ahahahah\", \"ahhhh\", \"ai\", \"aid\", \"aid\", \"aid\", \"aim\", \"aim\", \"aim\", \"aim\", \"aim\", \"aim\", \"air\", \"air\", \"air\", \"ajout\", \"ajout\", \"ajout\", \"allum\", \"all\\u00e9\", \"alor\", \"alor\", \"alor\", \"alor\", \"alor\", \"alor\", \"alor\", \"alor\", \"alor\", \"alor\", \"amis\", \"amis\", \"amis\", \"amis\", \"amis\", \"an\", \"an\", \"an\", \"an\", \"an\", \"an\", \"an\", \"an\", \"an\", \"anim\", \"anim\", \"anim\", \"anim\", \"anim\", \"animal\", \"animal\", \"animal\", \"animal\", \"anniv\", \"anniversair\", \"anti\", \"appel\", \"appel\", \"appel\", \"appel\", \"apprend\", \"appr\\u00e9ci\", \"aprem\", \"apres\", \"apres\", \"apres\", \"apres\", \"apres\", \"apres\", \"apres\", \"apres\", \"apres\", \"apres\", \"arnaqu\", \"arriv\", \"arriv\", \"arriv\", \"arriv\", \"arriv\", \"arriv\", \"arriv\", \"arriv\", \"arrivent\", \"arrivent\", \"artist\", \"artist\", \"attendu\", \"auss\", \"auss\", \"auss\", \"auss\", \"auss\", \"auss\", \"auss\", \"auss\", \"auss\", \"auss\", \"autoris\", \"autr\", \"autr\", \"autr\", \"autr\", \"autr\", \"autr\", \"autr\", \"autr\", \"autr\", \"autr\", \"avanc\", \"avanc\", \"avoir\", \"avoir\", \"avoir\", \"avoir\", \"avoir\", \"avoir\", \"avoir\", \"avoir\", \"avoir\", \"avoir\", \"baby\", \"bah\", \"bah\", \"bah\", \"bah\", \"bah\", \"bah\", \"bah\", \"bais\", \"balad\", \"ballon\", \"bd\", \"ben\", \"ben\", \"ben\", \"ben\", \"ben\", \"ben\", \"ben\", \"bg\", \"bien\", \"bien\", \"bien\", \"bien\", \"bien\", \"bien\", \"bien\", \"bien\", \"bien\", \"bien\", \"bigdat\", \"billet\", \"billet\", \"bin\", \"blagu\", \"blagu\", \"blagu\", \"blagu\", \"blagu\", \"blagu\", \"blagu\", \"blanc\", \"blanc\", \"blanc\", \"bo\", \"bof\", \"bof\", \"bon\", \"bon\", \"bon\", \"bon\", \"bon\", \"bon\", \"bon\", \"bon\", \"bon\", \"bon\", \"bonbon\", \"bonbon\", \"bonheur\", \"bras\", \"bref\", \"brex\", \"bris\", \"bureau\", \"camp\", \"candidat\", \"candidat\", \"candidat\", \"capabl\", \"capabl\", \"capabl\", \"capabl\", \"capabl\", \"carl\", \"cart\", \"cart\", \"cart\", \"cartouch\", \"cel\", \"cel\", \"cel\", \"cel\", \"cel\", \"cel\", \"cert\", \"cest\", \"cest\", \"cest\", \"cest\", \"cest\", \"cest\", \"cest\", \"cest\", \"cest\", \"cest\", \"cet\", \"cet\", \"cet\", \"cet\", \"cet\", \"cet\", \"cet\", \"cet\", \"cet\", \"cet\", \"ch\", \"ch\", \"ch\", \"champagn\", \"championnat\", \"championnat\", \"chanc\", \"chanc\", \"chanc\", \"chanc\", \"chanc\", \"chanc\", \"chanc\", \"chanc\", \"chanc\", \"charg\", \"charg\", \"charg\", \"chaussur\", \"cha\\u00een\", \"cha\\u00een\", \"cha\\u00een\", \"chef\", \"chez\", \"chez\", \"chez\", \"chez\", \"chez\", \"chez\", \"chez\", \"chez\", \"chez\", \"chinois\", \"chocolat\", \"chocolat\", \"chos\", \"chos\", \"chos\", \"chos\", \"chos\", \"chos\", \"chos\", \"chos\", \"chos\", \"chos\", \"chut\", \"chut\", \"chvot\", \"cinem\", \"clinton\", \"clop\", \"clown\", \"clown\", \"cl\\u00e9\", \"cm\", \"colleg\", \"comic\", \"comm\", \"comm\", \"comm\", \"comm\", \"comm\", \"comm\", \"comm\", \"comm\", \"comm\", \"comm\", \"comment\", \"comment\", \"comment\", \"comment\", \"comment\", \"comment\", \"comment\", \"comment\", \"comment\", \"compr\", \"compr\", \"compr\", \"compr\", \"compr\", \"compr\", \"compr\", \"comprend\", \"comprend\", \"comprend\", \"comprend\", \"comprend\", \"con\", \"con\", \"con\", \"con\", \"con\", \"con\", \"con\", \"con\", \"con\", \"con\", \"concour\", \"concour\", \"conduis\", \"confianc\", \"confianc\", \"confianc\", \"confianc\", \"connard\", \"conscienc\", \"conscienc\", \"const\", \"const\", \"contr\", \"contr\", \"contr\", \"contr\", \"contr\", \"contr\", \"contr\", \"contr\", \"contr\", \"contr\", \"contraint\", \"cool\", \"cool\", \"cool\", \"cool\", \"cool\", \"cool\", \"cool\", \"cor\", \"costum\", \"coul\", \"coul\", \"coup\", \"coup\", \"coup\", \"coup\", \"coup\", \"coup\", \"coup\", \"coup\", \"coup\", \"coup\", \"cour\", \"cour\", \"cour\", \"cour\", \"cour\", \"cour\", \"cour\", \"cour\", \"courag\", \"courag\", \"courag\", \"courag\", \"courag\", \"cram\", \"crois\", \"crois\", \"crois\", \"crois\", \"crois\", \"crois\", \"crois\", \"crois\", \"crois\", \"cru\", \"cru\", \"cru\", \"cru\", \"cul\", \"cul\", \"cul\", \"curieux\", \"cyril\", \"c\\u00e2bl\", \"c\\u00e9libatair\", \"c\\u00e9libatair\", \"c\\u0153ur\", \"c\\u0153ur\", \"c\\u0153ur\", \"d\", \"d\", \"d\", \"d\", \"d\", \"daccord\", \"daccord\", \"daccord\", \"dal\", \"dam\", \"dam\", \"dam\", \"danc\", \"dangl\", \"datascient\", \"dead\", \"dehor\", \"dehor\", \"dehor\", \"del\", \"demain\", \"demain\", \"demain\", \"demain\", \"demain\", \"demain\", \"demain\", \"dencourag\", \"dent\", \"derni\", \"derni\", \"derni\", \"derni\", \"derni\", \"derni\", \"derni\", \"derni\", \"derni\", \"derni\", \"dessous\", \"destin\", \"det\", \"deux\", \"deux\", \"deux\", \"deux\", \"deux\", \"deux\", \"deux\", \"deux\", \"deux\", \"deux\", \"devenu\", \"devenu\", \"devient\", \"dhabit\", \"dheur\", \"dhistoir\", \"dialogu\", \"dieu\", \"dieu\", \"dieu\", \"dieu\", \"dieu\", \"dieu\", \"dieu\", \"dieu\", \"dieu\", \"dimanch\", \"dimanch\", \"dimanch\", \"dimanch\", \"direct\", \"direct\", \"direct\", \"direct\", \"dis\", \"dis\", \"dis\", \"dis\", \"dis\", \"dis\", \"dis\", \"dis\", \"dis\", \"dis\", \"distrait\", \"div\", \"divers\", \"dm\", \"dm\", \"doit\", \"doit\", \"doit\", \"doit\", \"doit\", \"doit\", \"doit\", \"donc\", \"donc\", \"donc\", \"donc\", \"donc\", \"donc\", \"donc\", \"donc\", \"donc\", \"donc\", \"doubl\", \"doubl\", \"doux\", \"do\\u00f9\", \"drak\", \"dun\", \"dun\", \"dun\", \"dun\", \"dun\", \"dun\", \"dun\", \"dun\", \"dun\", \"dun\", \"dur\", \"dur\", \"dur\", \"dur\", \"dur\", \"dur\", \"dur\", \"dur\", \"d\\u00e9brouill\", \"d\\u00e9brouill\", \"d\\u00e9cev\", \"d\\u00e9crir\", \"d\\u00e9fendr\", \"d\\u00e9fenseur\", \"d\\u00e9guis\", \"d\\u00e9j\\u00e0\", \"d\\u00e9j\\u00e0\", \"d\\u00e9j\\u00e0\", \"d\\u00e9j\\u00e0\", \"d\\u00e9j\\u00e0\", \"d\\u00e9j\\u00e0\", \"d\\u00e9j\\u00e0\", \"d\\u00e9j\\u00e0\", \"d\\u00e9j\\u00e0\", \"d\\u00e9prim\", \"d\\u00e9prim\", \"d\\u00e9sesper\", \"d\\u00e9sol\", \"d\\u00e9sol\", \"d\\u00eatr\", \"d\\u00eatr\", \"d\\u00eatr\", \"d\\u00eatr\", \"d\\u00eatr\", \"d\\u00eatr\", \"d\\u00eatr\", \"d\\u00eatr\", \"d\\u00eatr\", \"d\\u00eatr\", \"ecrir\", \"ecrir\", \"effet\", \"effet\", \"effet\", \"el\", \"employeur\", \"encor\", \"encor\", \"encor\", \"encor\", \"encor\", \"encor\", \"encor\", \"encor\", \"encor\", \"end\", \"enfait\", \"enfait\", \"enfait\", \"enfin\", \"enfin\", \"enfin\", \"enfin\", \"enlev\", \"enlev\", \"ensembl\", \"ensembl\", \"ensembl\", \"entier\", \"entra\\u00een\", \"entra\\u00een\", \"envi\", \"envi\", \"envi\", \"envi\", \"envi\", \"envi\", \"envi\", \"episod\", \"esper\", \"etait\", \"etait\", \"etait\", \"etat\", \"euros\", \"exa\", \"fair\", \"fair\", \"fair\", \"fair\", \"fair\", \"fair\", \"fair\", \"fair\", \"fair\", \"fair\", \"fais\", \"fais\", \"fais\", \"fais\", \"fais\", \"fais\", \"fais\", \"fais\", \"fais\", \"fais\", \"fait\", \"fait\", \"fait\", \"fait\", \"fait\", \"fait\", \"fait\", \"fait\", \"fait\", \"fait\", \"fanny\", \"fautil\", \"fa\\u00e7on\", \"fa\\u00e7on\", \"fa\\u00e7on\", \"fa\\u00e7on\", \"ferment\", \"ferment\", \"fermetur\", \"fif\", \"fin\", \"fin\", \"fin\", \"fin\", \"fin\", \"fin\", \"fin\", \"fin\", \"fin\", \"fleur\", \"foi\", \"fois\", \"fois\", \"fois\", \"fois\", \"fois\", \"fois\", \"fois\", \"fois\", \"fois\", \"fois\", \"follow\", \"follow\", \"follow\", \"font\", \"font\", \"font\", \"font\", \"font\", \"font\", \"font\", \"font\", \"fort\", \"fort\", \"fort\", \"fort\", \"fort\", \"fort\", \"fort\", \"fourn\", \"fout\", \"fout\", \"franc\", \"franc\", \"franc\", \"franc\", \"franc\", \"franc\", \"franc\", \"franc\", \"franc\", \"franc\", \"fribourg\", \"fr\\u00e9quent\", \"f\\u00e9min\", \"f\\u00e9min\", \"f\\u00eat\", \"f\\u00eat\", \"f\\u00eat\", \"g\", \"g\", \"g\", \"g\", \"g\", \"g\", \"gam\", \"gam\", \"gam\", \"gar\\u00e7on\", \"gen\", \"gen\", \"gen\", \"gen\", \"gen\", \"gen\", \"gen\", \"gen\", \"gen\", \"gest\", \"gestion\", \"goal\", \"goal\", \"golden\", \"gotteron\", \"grand\", \"grand\", \"grand\", \"grand\", \"grand\", \"grand\", \"grand\", \"grand\", \"gratuit\", \"gratuit\", \"grav\", \"grav\", \"grav\", \"grav\", \"grav\", \"grav\", \"grav\", \"grav\", \"gros\", \"gros\", \"gros\", \"gros\", \"gros\", \"gros\", \"gros\", \"guer\", \"habill\", \"habitu\", \"hahah\", \"hahah\", \"hahah\", \"hahah\", \"hahahh\", \"halloween\", \"halloween\", \"halloween\", \"han\", \"happy\", \"hashtag\", \"hcfg\", \"hd\", \"heu\", \"heureux\", \"heureux\", \"heureux\", \"heureux\", \"heureux\", \"heureux\", \"histoir\", \"histoir\", \"histoir\", \"humain\", \"humain\", \"humain\", \"humain\", \"humain\", \"hypocrit\", \"il\", \"il\", \"il\", \"il\", \"il\", \"il\", \"il\", \"il\", \"il\", \"il\", \"import\", \"import\", \"import\", \"import\", \"import\", \"import\", \"impos\", \"inform\", \"ira\", \"islam\", \"jai\", \"jai\", \"jai\", \"jai\", \"jai\", \"jai\", \"jai\", \"jai\", \"jai\", \"jai\", \"jaill\", \"jaim\", \"jaim\", \"jaim\", \"jaim\", \"jaim\", \"jaim\", \"jaim\", \"jaim\", \"jaim\", \"jaim\", \"jam\", \"jam\", \"jam\", \"jam\", \"jam\", \"jam\", \"jam\", \"jam\", \"jam\", \"jam\", \"jamb\", \"jamb\", \"jassum\", \"jav\", \"jav\", \"jav\", \"jav\", \"jav\", \"jav\", \"jav\", \"jav\", \"jav\", \"jav\", \"jcrois\", \"jcrois\", \"jcrois\", \"jcrois\", \"jcrois\", \"jcrois\", \"jcrois\", \"jcrois\", \"jdois\", \"jdois\", \"jdois\", \"jessay\", \"jessay\", \"jesus\", \"jet\", \"jet\", \"jet\", \"jet\", \"jet\", \"jet\", \"jet\", \"jet\", \"jet\", \"jet\", \"jhabit\", \"jh\\u00e9sit\", \"jme\", \"jme\", \"jme\", \"jme\", \"jme\", \"jme\", \"jou\", \"jou\", \"jou\", \"jou\", \"jou\", \"jou\", \"jou\", \"jou\", \"jou\", \"jouent\", \"joueur\", \"joueur\", \"joueur\", \"joueur\", \"joueur\", \"joueur\", \"jour\", \"jour\", \"jour\", \"jour\", \"jour\", \"jour\", \"jour\", \"jour\", \"jour\", \"jour\", \"jouvr\", \"joyeux\", \"jrigol\", \"jsp\", \"jsp\", \"jsp\", \"jsp\", \"jsuis\", \"jsuis\", \"jsuis\", \"jsuis\", \"jsuis\", \"jsuis\", \"jsuis\", \"jsuis\", \"jsuis\", \"jsuis\", \"jte\", \"jtm\", \"jug\", \"jug\", \"jug\", \"jug\", \"jul\", \"julien\", \"julien\", \"jumel\", \"jumel\", \"jur\", \"jvais\", \"jvais\", \"jvais\", \"jvais\", \"jvais\", \"jvais\", \"jvais\", \"jvais\", \"jvj\", \"jy\", \"jy\", \"jy\", \"jy\", \"jy\", \"jy\", \"kan\", \"ki\", \"kill\", \"kohlant\", \"kohlant\", \"kohlant\", \"kpop\", \"lachet\", \"laim\", \"laim\", \"lann\", \"lann\", \"lann\", \"lann\", \"lann\", \"laquel\", \"laquel\", \"latin\", \"latin\", \"lausann\", \"lausann\", \"le\", \"le\", \"le\", \"le\", \"le\", \"le\", \"le\", \"le\", \"le\", \"le\", \"lestauli\", \"lev\", \"lev\", \"lev\", \"lexp\\u00e9rient\", \"lid\", \"lid\", \"limpress\", \"limpress\", \"limpress\", \"limpress\", \"limpress\", \"limpress\", \"liniti\", \"lou\", \"loup\", \"loup\", \"lren\", \"lumi\", \"lumi\", \"lutt\", \"lutt\", \"l\\u00e0\", \"l\\u00e0\", \"l\\u00e0\", \"l\\u00e0\", \"l\\u00e0\", \"l\\u00e0\", \"l\\u00e0\", \"l\\u00e0\", \"l\\u00e0\", \"l\\u00e0\", \"l\\u00e9poqu\", \"ma\", \"ma\", \"ma\", \"ma\", \"ma\", \"ma\", \"ma\", \"mac\", \"macdo\", \"machin\", \"machinelearning\", \"macron\", \"mail\", \"maison\", \"maison\", \"maison\", \"maison\", \"maison\", \"maison\", \"maison\", \"majeur\", \"malgr\", \"malgr\", \"malgr\", \"maman\", \"maman\", \"maman\", \"maman\", \"maman\", \"mang\", \"mang\", \"mang\", \"mang\", \"mang\", \"mang\", \"mang\", \"mang\", \"mang\", \"manuel\", \"map\", \"map\", \"maquill\", \"marathon\", \"march\", \"march\", \"march\", \"march\", \"march\", \"march\", \"march\", \"march\", \"march\", \"mari\", \"mari\", \"mari\", \"marin\", \"mario\", \"mas\", \"mas\", \"mas\", \"mas\", \"masqu\", \"masqu\", \"mast\", \"matin\", \"matin\", \"matin\", \"matin\", \"matin\", \"matin\", \"matin\", \"matin\", \"mdr\", \"mdr\", \"mdr\", \"mdr\", \"mdr\", \"mdr\", \"mdr\", \"mdrrrrrr\", \"meg\", \"mensong\", \"ment\", \"menvoi\", \"merc\", \"merc\", \"merc\", \"merc\", \"merc\", \"merc\", \"merc\", \"merc\", \"merc\", \"met\", \"met\", \"met\", \"met\", \"met\", \"met\", \"mieux\", \"mieux\", \"mieux\", \"mieux\", \"mieux\", \"mieux\", \"mieux\", \"migr\", \"milliard\", \"minimum\", \"minor\", \"minut\", \"minut\", \"minut\", \"minut\", \"minut\", \"minut\", \"mix\", \"mn\", \"moin\", \"moin\", \"moin\", \"moin\", \"moin\", \"moin\", \"moin\", \"moin\", \"moin\", \"moin\", \"mois\", \"mois\", \"mois\", \"mois\", \"mois\", \"mois\", \"mois\", \"mois\", \"moiti\", \"moiti\", \"moiti\", \"moment\", \"moment\", \"moment\", \"moment\", \"moment\", \"moment\", \"moment\", \"moment\", \"moment\", \"moment\", \"mond\", \"mond\", \"mond\", \"mond\", \"mond\", \"mond\", \"mond\", \"mond\", \"mont\", \"mont\", \"mont\", \"mont\", \"mont\", \"mood\", \"mood\", \"moqu\", \"motiv\", \"motiv\", \"motiv\", \"motiv\", \"motiv\", \"motiv\", \"music\", \"musulman\", \"na\", \"na\", \"na\", \"na\", \"na\", \"na\", \"na\", \"nai\", \"nai\", \"nai\", \"nai\", \"nai\", \"nai\", \"nai\", \"nan\", \"nan\", \"nan\", \"nan\", \"nan\", \"nan\", \"nan\", \"nas\", \"nas\", \"nav\", \"nav\", \"nest\", \"nest\", \"nest\", \"nest\", \"nest\", \"nest\", \"nest\", \"nest\", \"nest\", \"nexist\", \"ni\", \"ni\", \"ni\", \"nn\", \"non\", \"non\", \"non\", \"non\", \"non\", \"non\", \"non\", \"non\", \"non\", \"nont\", \"nont\", \"nont\", \"nont\", \"nont\", \"notif\", \"notif\", \"nouvel\", \"nouvel\", \"nouvel\", \"nouvel\", \"nouvel\", \"nouvel\", \"no\\u00ebl\", \"ny\", \"ny\", \"ny\", \"ny\", \"ny\", \"ny\", \"ny\", \"ny\", \"n\\u00e9cessair\", \"objet\", \"oblig\", \"offens\", \"offrir\", \"oim\", \"oke\", \"omg\", \"omg\", \"omg\", \"omgg\", \"one\", \"onpc\", \"ouais\", \"ouais\", \"ouais\", \"ouais\", \"ouais\", \"ouais\", \"ouais\", \"ouais\", \"ouais\", \"o\\u00f9\", \"o\\u00f9\", \"o\\u00f9\", \"o\\u00f9\", \"o\\u00f9\", \"o\\u00f9\", \"o\\u00f9\", \"o\\u00f9\", \"o\\u00f9\", \"o\\u00f9\", \"paix\", \"paix\", \"paix\", \"parano\", \"parano\", \"parano\", \"parano\", \"parc\", \"parc\", \"parc\", \"parc\", \"parc\", \"parc\", \"parc\", \"parc\", \"parc\", \"parc\", \"parfois\", \"parfois\", \"parfois\", \"parfois\", \"parfois\", \"parfois\", \"parfois\", \"parl\", \"parl\", \"parl\", \"parl\", \"parl\", \"parl\", \"parl\", \"parl\", \"parl\", \"parl\", \"part\", \"part\", \"part\", \"part\", \"part\", \"part\", \"part\", \"part\", \"part\", \"part\", \"particuli\", \"particuli\", \"pass\", \"pass\", \"pass\", \"pass\", \"pass\", \"pass\", \"pass\", \"pass\", \"pass\", \"pass\", \"patient\", \"paus\", \"paus\", \"paus\", \"pc\", \"pc\", \"pc\", \"pd\", \"pens\", \"pens\", \"pens\", \"pens\", \"pens\", \"pens\", \"pens\", \"pens\", \"pens\", \"pens\", \"permettr\", \"permettr\", \"person\", \"person\", \"person\", \"person\", \"person\", \"person\", \"person\", \"person\", \"person\", \"person\", \"perturb\", \"perturb\", \"pet\", \"pet\", \"pet\", \"pet\", \"pet\", \"pet\", \"pet\", \"peu\", \"peu\", \"peu\", \"peu\", \"peu\", \"peu\", \"peu\", \"peu\", \"peu\", \"peu\", \"peur\", \"peur\", \"peur\", \"peur\", \"peur\", \"peur\", \"peur\", \"peur\", \"peur\", \"peur\", \"peut\", \"peut\", \"peut\", \"peut\", \"peut\", \"peut\", \"peut\", \"peut\", \"peut\", \"peuvent\", \"peuvent\", \"peuvent\", \"peux\", \"peux\", \"peux\", \"peux\", \"peux\", \"peux\", \"peux\", \"peux\", \"peux\", \"peux\", \"pierr\", \"pilot\", \"piqu\", \"piqu\", \"pir\", \"pir\", \"pir\", \"pir\", \"pir\", \"pir\", \"piss\", \"plais\", \"plais\", \"plais\", \"plais\", \"plr\", \"plus\", \"plus\", \"plus\", \"plus\", \"plus\", \"plus\", \"plus\", \"plus\", \"plus\", \"plus\", \"point\", \"point\", \"point\", \"point\", \"point\", \"point\", \"point\", \"point\", \"portugal\", \"pos\", \"pos\", \"pos\", \"pos\", \"pos\", \"posit\", \"posit\", \"posit\", \"possibl\", \"possibl\", \"possibl\", \"possibl\", \"possibl\", \"possibl\", \"pourquoi\", \"pourquoi\", \"pourquoi\", \"pourquoi\", \"pourquoi\", \"pourquoi\", \"pourquoi\", \"pourquoi\", \"pourquoi\", \"pourr\", \"pourr\", \"pourr\", \"pourr\", \"pourr\", \"pourr\", \"pourr\", \"pourr\", \"pourr\", \"pourt\", \"pourt\", \"pourt\", \"pourt\", \"pourt\", \"pourt\", \"pouv\", \"pouv\", \"pouv\", \"pouv\", \"pouv\", \"pouv\", \"pouv\", \"premi\", \"premi\", \"premi\", \"premi\", \"premi\", \"premi\", \"premi\", \"premi\", \"premi\", \"pren\", \"prendr\", \"prendr\", \"prendr\", \"prendr\", \"prendr\", \"prendr\", \"prendr\", \"prendr\", \"pri\", \"pris\", \"pris\", \"pris\", \"pris\", \"pris\", \"pris\", \"pris\", \"pris\", \"prochain\", \"prochain\", \"prochain\", \"prochain\", \"prochain\", \"product\", \"product\", \"promen\", \"proteg\", \"provoqu\", \"pr\\u00e9fer\", \"pr\\u00e9fer\", \"pr\\u00e9fer\", \"pr\\u00e9fer\", \"pr\\u00e9fer\", \"pr\\u00e9fer\", \"ps4\", \"psy\", \"ptdrrr\", \"ptn\", \"ptn\", \"ptn\", \"ptn\", \"ptn\", \"ptn\", \"ptn\", \"ptn\", \"ptn\", \"ptn\", \"pu\", \"pu\", \"pu\", \"pu\", \"pu\", \"pu\", \"public\", \"public\", \"put\", \"put\", \"put\", \"put\", \"putain\", \"putain\", \"putain\", \"putain\", \"putain\", \"putain\", \"putain\", \"putain\", \"putain\", \"qqpart\", \"quand\", \"quand\", \"quand\", \"quand\", \"quand\", \"quand\", \"quand\", \"quand\", \"quand\", \"quand\", \"quel\", \"quel\", \"quel\", \"quel\", \"quel\", \"quel\", \"quel\", \"quel\", \"quel\", \"quel\", \"question\", \"question\", \"question\", \"question\", \"question\", \"quil\", \"quil\", \"quil\", \"quil\", \"quil\", \"quil\", \"quil\", \"quil\", \"quil\", \"quil\", \"quon\", \"quon\", \"quon\", \"quon\", \"quon\", \"quon\", \"quon\", \"quon\", \"quon\", \"quon\", \"quun\", \"quun\", \"quun\", \"quun\", \"quun\", \"quun\", \"quun\", \"quun\", \"quun\", \"quun\", \"rac\", \"rac\", \"raison\", \"raison\", \"raison\", \"raison\", \"raison\", \"raison\", \"raison\", \"rassur\", \"rassur\", \"rassur\", \"recevoir\", \"recevoir\", \"regard\", \"regard\", \"regard\", \"regard\", \"regard\", \"regard\", \"regard\", \"regard\", \"regard\", \"regardent\", \"regardent\", \"rejet\", \"religion\", \"remed\", \"remettr\", \"rempl\", \"rempl\", \"remport\", \"rend\", \"rend\", \"rend\", \"rend\", \"rend\", \"rend\", \"rest\", \"rest\", \"rest\", \"rest\", \"rest\", \"rest\", \"rest\", \"rest\", \"rest\", \"rest\", \"retrait\", \"revien\", \"revien\", \"revient\", \"rien\", \"rien\", \"rien\", \"rien\", \"rien\", \"rien\", \"rien\", \"rien\", \"rien\", \"rien\", \"rip\", \"risqu\", \"romand\", \"ros\", \"r\\u00e9chauff\", \"r\\u00e9pondr\", \"r\\u00e9pons\", \"r\\u00e9pons\", \"r\\u00e9pons\", \"r\\u00e9pons\", \"r\\u00e9pons\", \"r\\u00e9pons\", \"r\\u00e9seau\", \"r\\u00e9seau\", \"r\\u00e9serv\", \"r\\u00e9serv\", \"r\\u00e9sist\", \"r\\u00e9uss\", \"r\\u00e9uss\", \"r\\u00e9uss\", \"r\\u00e9uss\", \"r\\u00e9uss\", \"r\\u00e9uss\", \"r\\u00e9vel\", \"sais\", \"sais\", \"sais\", \"sais\", \"sais\", \"sais\", \"sais\", \"sais\", \"sais\", \"sais\", \"sait\", \"sait\", \"sait\", \"sait\", \"sait\", \"sall\", \"sall\", \"sall\", \"san\", \"san\", \"san\", \"san\", \"san\", \"san\", \"san\", \"san\", \"san\", \"san\", \"sas\", \"sav\", \"sav\", \"sav\", \"sav\", \"sav\", \"sav\", \"savent\", \"savent\", \"savent\", \"scream\", \"sen\", \"sen\", \"sen\", \"sen\", \"sen\", \"sen\", \"sen\", \"sen\", \"sen\", \"sen\", \"sentent\", \"serieux\", \"serr\", \"servic\", \"servic\", \"servic\", \"sest\", \"sest\", \"sest\", \"sest\", \"sest\", \"sest\", \"sest\", \"sest\", \"sest\", \"si\", \"si\", \"si\", \"si\", \"si\", \"si\", \"si\", \"si\", \"si\", \"si\", \"sil\", \"sil\", \"sil\", \"sil\", \"sil\", \"sil\", \"slt\", \"so\", \"social\", \"social\", \"social\", \"social\", \"soir\", \"soir\", \"soir\", \"soir\", \"soir\", \"soir\", \"soir\", \"soir\", \"soir\", \"soir\", \"solitud\", \"sor\", \"sor\", \"sor\", \"sor\", \"sorry\", \"souffranc\", \"sourir\", \"sourir\", \"sourir\", \"sourir\", \"spoil\", \"spoil\", \"sp\\u00e9cial\", \"sp\\u00e9cial\", \"srx\", \"ss10\", \"ss10\", \"ss10\", \"ss10\", \"ss10\", \"ss10\", \"ssp\", \"story\", \"story\", \"stream\", \"stress\", \"stress\", \"stress\", \"stress\", \"stress\", \"stress\", \"stress\", \"stress\", \"stress\", \"stress\", \"styl\", \"styl\", \"styl\", \"suc\", \"suicid\", \"suicid\", \"suisj\", \"suisj\", \"suisj\", \"suisj\", \"suisj\", \"suisj\", \"suisj\", \"suiss\", \"suiss\", \"suiss\", \"suiss\", \"suiss\", \"suiss\", \"suiss\", \"suiss\", \"suiss\", \"suit\", \"suit\", \"suit\", \"suit\", \"suit\", \"sursaut\", \"svp\", \"svp\", \"svp\", \"svp\", \"sy\", \"syr\", \"s\\u00fbr\", \"s\\u00fbr\", \"s\\u00fbr\", \"tabl\", \"tacos\", \"taf\", \"taim\", \"taim\", \"taim\", \"tant\", \"tant\", \"tar\", \"tas\", \"tas\", \"tas\", \"tas\", \"tas\", \"tas\", \"tas\", \"tas\", \"tas\", \"te\", \"te\", \"te\", \"te\", \"te\", \"te\", \"te\", \"te\", \"tel\", \"tel\", \"tel\", \"tel\", \"tel\", \"tel\", \"tel\", \"tel\", \"tel\", \"tel\", \"temp\", \"temp\", \"temp\", \"temp\", \"temp\", \"temp\", \"temp\", \"temp\", \"temp\", \"temp\", \"tendress\", \"termin\", \"them\", \"thom\", \"thread\", \"ticket\", \"titulair\", \"tjr\", \"tjr\", \"tjr\", \"tjr\", \"tjr\", \"tjr\", \"tjr\", \"tlm\", \"tm\", \"tom\", \"tour\", \"tour\", \"tour\", \"tour\", \"tour\", \"tour\", \"tourn\", \"tourn\", \"tourn\", \"tourn\", \"tous\", \"tous\", \"tous\", \"tous\", \"tous\", \"tous\", \"tous\", \"tous\", \"tous\", \"tous\", \"tout\", \"tout\", \"tout\", \"tout\", \"tout\", \"tout\", \"tout\", \"tout\", \"tout\", \"tout\", \"tqt\", \"tqt\", \"tqt\", \"trac\", \"train\", \"train\", \"train\", \"train\", \"train\", \"train\", \"train\", \"train\", \"trajet\", \"transpir\", \"transpir\", \"travers\", \"tra\\u00een\", \"trop\", \"trop\", \"trop\", \"trop\", \"trop\", \"trop\", \"trop\", \"trop\", \"trop\", \"trop\", \"trouv\", \"trouv\", \"trouv\", \"trouv\", \"trouv\", \"trouv\", \"trouv\", \"trouv\", \"trouv\", \"trouv\", \"truc\", \"truc\", \"truc\", \"truc\", \"truc\", \"truc\", \"truc\", \"truc\", \"truc\", \"truc\", \"tsais\", \"tt\", \"tt\", \"tt\", \"tt\", \"tt\", \"tt\", \"typ\", \"typ\", \"typ\", \"typ\", \"u\", \"u\", \"uniqu\", \"uniqu\", \"uniqu\", \"uniqu\", \"uniqu\", \"va\", \"va\", \"va\", \"va\", \"va\", \"va\", \"va\", \"va\", \"va\", \"va\", \"vais\", \"vais\", \"vais\", \"vais\", \"vais\", \"vais\", \"vais\", \"vais\", \"vais\", \"vaissel\", \"vari\", \"vaut\", \"vaut\", \"ven\", \"ven\", \"ven\", \"ven\", \"ven\", \"ven\", \"ven\", \"ven\", \"ven\", \"vendred\", \"vendred\", \"vendred\", \"vendred\", \"veux\", \"veux\", \"veux\", \"veux\", \"veux\", \"veux\", \"veux\", \"veux\", \"veux\", \"vi\", \"vi\", \"vi\", \"vi\", \"vi\", \"vi\", \"vi\", \"vi\", \"vi\", \"vi\", \"vid\\u00e9o\", \"vid\\u00e9o\", \"vid\\u00e9o\", \"vid\\u00e9o\", \"vid\\u00e9o\", \"vid\\u00e9o\", \"vid\\u00e9o\", \"vid\\u00e9o\", \"vid\\u00e9o\", \"vien\", \"vien\", \"vien\", \"vien\", \"vien\", \"vien\", \"vieux\", \"vieux\", \"vision\", \"vivr\", \"vivr\", \"vivr\", \"vivr\", \"vivr\", \"vivr\", \"voir\", \"voir\", \"voir\", \"voir\", \"voir\", \"voir\", \"voir\", \"voir\", \"voir\", \"vois\", \"vois\", \"vois\", \"vois\", \"vois\", \"vois\", \"vois\", \"vois\", \"vont\", \"vont\", \"vont\", \"vont\", \"vont\", \"vont\", \"vont\", \"vont\", \"vont\", \"vont\", \"voul\", \"voul\", \"voul\", \"vrai\", \"vrai\", \"vrai\", \"vrai\", \"vrai\", \"vrai\", \"vrai\", \"vrai\", \"vrai\", \"vrai\", \"vrais\", \"vrais\", \"vrais\", \"vu\", \"vu\", \"vu\", \"vu\", \"vu\", \"vu\", \"vu\", \"vu\", \"vu\", \"vu\", \"week\", \"whatsapp\", \"world\", \"x\", \"x\", \"x\", \"x\", \"xd\", \"xd\", \"xd\", \"xd\", \"xd\", \"xd\", \"xd\", \"xd\", \"xd\", \"xd\", \"xddd\", \"ya\", \"ya\", \"ya\", \"ya\", \"ya\", \"ya\", \"ya\", \"ya\", \"ya\", \"ya\", \"yaur\", \"yeux\", \"yeux\", \"yeux\", \"yeux\", \"yeux\", \"yeux\", \"yo\", \"z\\u00e9ro\", \"\\u00e2me\", \"\\u00e7\", \"\\u00e7a\", \"\\u00e7a\", \"\\u00e7a\", \"\\u00e7a\", \"\\u00e7a\", \"\\u00e7a\", \"\\u00e7a\", \"\\u00e7a\", \"\\u00e7a\", \"\\u00e7a\", \"\\u00e9\", \"\\u00e9cran\", \"\\u00e9pisod\", \"\\u00e9pisod\", \"\\u00e9pisod\", \"\\u00e9pisod\", \"\\u00e9pisod\", \"\\u00eatre\", \"\\u00eatre\", \"\\u00eatre\", \"\\u00eatre\", \"\\u00eatre\", \"\\u00eatre\", \"\\u00eatre\", \"\\u00eatre\", \"\\u00eatre\", \"\\u00eatre\"]}, \"R\": 30, \"lambda.step\": 0.01, \"plot.opts\": {\"xlab\": \"PC1\", \"ylab\": \"PC2\"}, \"topic.order\": [4, 7, 2, 8, 5, 9, 1, 6, 3, 10]};\n",
       "\n",
       "function LDAvis_load_lib(url, callback){\n",
       "  var s = document.createElement('script');\n",
       "  s.src = url;\n",
       "  s.async = true;\n",
       "  s.onreadystatechange = s.onload = callback;\n",
       "  s.onerror = function(){console.warn(\"failed to load library \" + url);};\n",
       "  document.getElementsByTagName(\"head\")[0].appendChild(s);\n",
       "}\n",
       "\n",
       "if(typeof(LDAvis) !== \"undefined\"){\n",
       "   // already loaded: just create the visualization\n",
       "   !function(LDAvis){\n",
       "       new LDAvis(\"#\" + \"ldavis_el2922456168640166264898819\", ldavis_el2922456168640166264898819_data);\n",
       "   }(LDAvis);\n",
       "}else if(typeof define === \"function\" && define.amd){\n",
       "   // require.js is available: use it to load d3/LDAvis\n",
       "   require.config({paths: {d3: \"https://cdnjs.cloudflare.com/ajax/libs/d3/3.5.5/d3.min\"}});\n",
       "   require([\"d3\"], function(d3){\n",
       "      window.d3 = d3;\n",
       "      LDAvis_load_lib(\"https://cdn.rawgit.com/bmabey/pyLDAvis/files/ldavis.v1.0.0.js\", function(){\n",
       "        new LDAvis(\"#\" + \"ldavis_el2922456168640166264898819\", ldavis_el2922456168640166264898819_data);\n",
       "      });\n",
       "    });\n",
       "}else{\n",
       "    // require.js not available: dynamically load d3 & LDAvis\n",
       "    LDAvis_load_lib(\"https://cdnjs.cloudflare.com/ajax/libs/d3/3.5.5/d3.min.js\", function(){\n",
       "         LDAvis_load_lib(\"https://cdn.rawgit.com/bmabey/pyLDAvis/files/ldavis.v1.0.0.js\", function(){\n",
       "                 new LDAvis(\"#\" + \"ldavis_el2922456168640166264898819\", ldavis_el2922456168640166264898819_data);\n",
       "            })\n",
       "         });\n",
       "}\n",
       "</script>"
      ],
      "text/plain": [
       "<IPython.core.display.HTML object>"
      ]
     },
     "execution_count": 111,
     "metadata": {},
     "output_type": "execute_result"
    }
   ],
   "source": [
    "fr_dictionary = corpora.Dictionary(french_filtered_2)\n",
    "fr_dictionary.filter_extremes(no_below=5, no_above=.3)\n",
    "fr_texts = french_filtered_2.tolist()\n",
    "fr_corpus = [fr_dictionary.doc2bow(text) for text in fr_texts]\n",
    "\n",
    "ldamodel_2 = models.LdaMulticore(fr_corpus, id2word=fr_dictionary, num_topics=10, workers=3, iterations=100, passes=5)\n",
    "\n",
    "vis_data = pyLDAvis.gensim.prepare(ldamodel_2, fr_corpus, fr_dictionary)\n",
    "\n",
    "pyLDAvis.display(vis_data)"
   ]
  },
  {
   "cell_type": "markdown",
   "metadata": {},
   "source": [
    "## Same for german:"
   ]
  },
  {
   "cell_type": "code",
   "execution_count": 105,
   "metadata": {
    "collapsed": true
   },
   "outputs": [],
   "source": [
    "german_filtered_2 = german_filtered.tokenized.map(lambda x: [re.sub(r'[^\\w\\s]','',s) for s in x])"
   ]
  },
  {
   "cell_type": "code",
   "execution_count": 116,
   "metadata": {},
   "outputs": [
    {
     "name": "stderr",
     "output_type": "stream",
     "text": [
      "WARNING:gensim.models.ldamulticore:too few updates, training might not converge; consider increasing the number of passes or iterations to improve accuracy\n",
      "/Users/lguillain/anaconda/lib/python3.6/site-packages/pyLDAvis/_prepare.py:387: DeprecationWarning: \n",
      ".ix is deprecated. Please use\n",
      ".loc for label based indexing or\n",
      ".iloc for positional indexing\n",
      "\n",
      "See the documentation here:\n",
      "http://pandas.pydata.org/pandas-docs/stable/indexing.html#deprecate_ix\n",
      "  topic_term_dists = topic_term_dists.ix[topic_order]\n"
     ]
    },
    {
     "data": {
      "text/html": [
       "\n",
       "<link rel=\"stylesheet\" type=\"text/css\" href=\"https://cdn.rawgit.com/bmabey/pyLDAvis/files/ldavis.v1.0.0.css\">\n",
       "\n",
       "\n",
       "<div id=\"ldavis_el2922456265992489193043262\"></div>\n",
       "<script type=\"text/javascript\">\n",
       "\n",
       "var ldavis_el2922456265992489193043262_data = {\"mdsDat\": {\"Freq\": [24.787602252302783, 21.891214413698446, 20.301647809868033, 18.761386904420252, 14.258148619710486], \"cluster\": [1, 1, 1, 1, 1], \"topics\": [1, 2, 3, 4, 5], \"x\": [-0.04287761534232133, -0.04441582410398246, -0.03993230186413382, -0.04761185442123373, 0.1748375957316712], \"y\": [-0.04418630008537893, 0.14393771880561063, -0.04401784505698948, -0.056125557325254184, 0.00039198366201187126]}, \"tinfo\": {\"Category\": [\"Default\", \"Default\", \"Default\", \"Default\", \"Default\", \"Default\", \"Default\", \"Default\", \"Default\", \"Default\", \"Default\", \"Default\", \"Default\", \"Default\", \"Default\", \"Default\", \"Default\", \"Default\", \"Default\", \"Default\", \"Default\", \"Default\", \"Default\", \"Default\", \"Default\", \"Default\", \"Default\", \"Default\", \"Default\", \"Default\", \"Topic1\", \"Topic1\", \"Topic1\", \"Topic1\", \"Topic1\", \"Topic1\", \"Topic1\", \"Topic1\", \"Topic1\", \"Topic1\", \"Topic1\", \"Topic1\", \"Topic1\", \"Topic1\", \"Topic1\", \"Topic1\", \"Topic1\", \"Topic1\", \"Topic1\", \"Topic1\", \"Topic1\", \"Topic1\", \"Topic1\", \"Topic1\", \"Topic1\", \"Topic1\", \"Topic1\", \"Topic1\", \"Topic1\", \"Topic1\", \"Topic1\", \"Topic1\", \"Topic1\", \"Topic1\", \"Topic1\", \"Topic1\", \"Topic1\", \"Topic1\", \"Topic1\", \"Topic1\", \"Topic1\", \"Topic1\", \"Topic1\", \"Topic1\", \"Topic1\", \"Topic1\", \"Topic1\", \"Topic1\", \"Topic1\", \"Topic1\", \"Topic1\", \"Topic1\", \"Topic1\", \"Topic1\", \"Topic1\", \"Topic1\", \"Topic1\", \"Topic1\", \"Topic1\", \"Topic1\", \"Topic1\", \"Topic1\", \"Topic1\", \"Topic1\", \"Topic1\", \"Topic1\", \"Topic1\", \"Topic1\", \"Topic1\", \"Topic1\", \"Topic1\", \"Topic1\", \"Topic1\", \"Topic1\", \"Topic1\", \"Topic1\", \"Topic1\", \"Topic1\", \"Topic1\", \"Topic1\", \"Topic1\", \"Topic2\", \"Topic2\", \"Topic2\", \"Topic2\", \"Topic2\", \"Topic2\", \"Topic2\", \"Topic2\", \"Topic2\", \"Topic2\", \"Topic2\", \"Topic2\", \"Topic2\", \"Topic2\", \"Topic2\", \"Topic2\", \"Topic2\", \"Topic2\", \"Topic2\", \"Topic2\", \"Topic2\", \"Topic2\", \"Topic2\", \"Topic2\", \"Topic2\", \"Topic2\", \"Topic2\", \"Topic2\", \"Topic2\", \"Topic2\", \"Topic2\", \"Topic2\", \"Topic2\", \"Topic2\", \"Topic2\", \"Topic2\", \"Topic2\", \"Topic2\", \"Topic2\", \"Topic2\", \"Topic2\", \"Topic2\", \"Topic2\", \"Topic2\", \"Topic2\", \"Topic2\", \"Topic2\", \"Topic2\", \"Topic2\", \"Topic2\", \"Topic2\", \"Topic2\", \"Topic2\", \"Topic2\", \"Topic2\", \"Topic2\", \"Topic2\", \"Topic2\", \"Topic2\", \"Topic2\", \"Topic2\", \"Topic2\", \"Topic2\", \"Topic2\", \"Topic2\", \"Topic2\", \"Topic2\", \"Topic2\", \"Topic2\", \"Topic2\", \"Topic2\", \"Topic2\", \"Topic2\", \"Topic2\", \"Topic2\", \"Topic2\", \"Topic2\", \"Topic2\", \"Topic2\", \"Topic3\", \"Topic3\", \"Topic3\", \"Topic3\", \"Topic3\", \"Topic3\", \"Topic3\", \"Topic3\", \"Topic3\", \"Topic3\", \"Topic3\", \"Topic3\", \"Topic3\", \"Topic3\", \"Topic3\", \"Topic3\", \"Topic3\", \"Topic3\", \"Topic3\", \"Topic3\", \"Topic3\", \"Topic3\", \"Topic3\", \"Topic3\", \"Topic3\", \"Topic3\", \"Topic3\", \"Topic3\", \"Topic3\", \"Topic3\", \"Topic3\", \"Topic3\", \"Topic3\", \"Topic3\", \"Topic3\", \"Topic3\", \"Topic3\", \"Topic3\", \"Topic3\", \"Topic3\", \"Topic3\", \"Topic3\", \"Topic3\", \"Topic3\", \"Topic3\", \"Topic3\", \"Topic3\", \"Topic3\", \"Topic3\", \"Topic3\", \"Topic3\", \"Topic3\", \"Topic3\", \"Topic3\", \"Topic3\", \"Topic3\", \"Topic3\", \"Topic3\", \"Topic3\", \"Topic3\", \"Topic3\", \"Topic3\", \"Topic3\", \"Topic3\", \"Topic3\", \"Topic3\", \"Topic3\", \"Topic3\", \"Topic3\", \"Topic3\", \"Topic3\", \"Topic3\", \"Topic3\", \"Topic3\", \"Topic3\", \"Topic4\", \"Topic4\", \"Topic4\", \"Topic4\", \"Topic4\", \"Topic4\", \"Topic4\", \"Topic4\", \"Topic4\", \"Topic4\", \"Topic4\", \"Topic4\", \"Topic4\", \"Topic4\", \"Topic4\", \"Topic4\", \"Topic4\", \"Topic4\", \"Topic4\", \"Topic4\", \"Topic4\", \"Topic4\", \"Topic4\", \"Topic4\", \"Topic4\", \"Topic4\", \"Topic4\", \"Topic4\", \"Topic4\", \"Topic4\", \"Topic4\", \"Topic4\", \"Topic4\", \"Topic4\", \"Topic4\", \"Topic4\", \"Topic4\", \"Topic4\", \"Topic4\", \"Topic4\", \"Topic4\", \"Topic4\", \"Topic4\", \"Topic4\", \"Topic4\", \"Topic4\", \"Topic4\", \"Topic4\", \"Topic4\", \"Topic4\", \"Topic4\", \"Topic4\", \"Topic4\", \"Topic4\", \"Topic4\", \"Topic4\", \"Topic4\", \"Topic4\", \"Topic4\", \"Topic4\", \"Topic4\", \"Topic4\", \"Topic4\", \"Topic4\", \"Topic4\", \"Topic4\", \"Topic4\", \"Topic4\", \"Topic4\", \"Topic4\", \"Topic4\", \"Topic4\", \"Topic4\", \"Topic4\", \"Topic4\", \"Topic4\", \"Topic4\", \"Topic4\", \"Topic5\", \"Topic5\", \"Topic5\", \"Topic5\", \"Topic5\", \"Topic5\", \"Topic5\", \"Topic5\", \"Topic5\", \"Topic5\", \"Topic5\", \"Topic5\", \"Topic5\", \"Topic5\", \"Topic5\", \"Topic5\", \"Topic5\", \"Topic5\", \"Topic5\", \"Topic5\", \"Topic5\", \"Topic5\", \"Topic5\", \"Topic5\", \"Topic5\", \"Topic5\", \"Topic5\", \"Topic5\", \"Topic5\", \"Topic5\", \"Topic5\", \"Topic5\", \"Topic5\", \"Topic5\", \"Topic5\", \"Topic5\", \"Topic5\", \"Topic5\", \"Topic5\", \"Topic5\", \"Topic5\", \"Topic5\", \"Topic5\", \"Topic5\", \"Topic5\", \"Topic5\", \"Topic5\", \"Topic5\", \"Topic5\", \"Topic5\", \"Topic5\", \"Topic5\", \"Topic5\", \"Topic5\", \"Topic5\", \"Topic5\", \"Topic5\", \"Topic5\", \"Topic5\", \"Topic5\", \"Topic5\", \"Topic5\", \"Topic5\", \"Topic5\", \"Topic5\", \"Topic5\", \"Topic5\", \"Topic5\", \"Topic5\"], \"Freq\": [2275.0, 1458.0, 224.0, 202.0, 188.0, 182.0, 1211.0, 176.0, 532.0, 284.0, 681.0, 436.0, 632.0, 2255.0, 228.0, 347.0, 385.0, 275.0, 138.0, 363.0, 282.0, 420.0, 178.0, 144.0, 193.0, 66.0, 207.0, 95.0, 115.0, 152.0, 12.925094737886338, 11.037662953486823, 11.037466072245765, 10.455480332060297, 10.25584858040842, 9.682793682297843, 11.989375901950686, 8.596285922480366, 8.34572589111189, 10.579115487378498, 7.557458163610609, 7.54918594607867, 7.911436913262556, 6.964179706520413, 7.702433699167227, 6.760078905186142, 7.884354286547201, 7.117266400125632, 6.926340199248234, 8.931023840237092, 6.3577155243143455, 10.210496123469625, 8.740623786539578, 7.432171058099292, 6.343542858596324, 5.977846075992172, 5.976759352430018, 6.516508626636688, 6.499954585031246, 6.135903172733611, 15.529655576742785, 10.824872603983163, 12.331751473951508, 10.721244048575155, 11.058564813184955, 47.42204492574936, 32.82646562331724, 28.474055906368278, 70.80620553025324, 21.980258391861284, 45.166750304518274, 20.590031555861433, 38.70328347713519, 78.6724560200854, 85.63792622132866, 13.335591443063926, 704.6336225743771, 65.22098368002945, 111.24922715808391, 116.70823126813079, 41.041567136273756, 836.2316236851341, 53.06685170214914, 265.581121739276, 104.98271171539857, 56.43003909489942, 32.87871814360817, 33.83957487751846, 68.46281993139046, 187.17063525503985, 32.759448798551304, 27.49075746169049, 98.72134579866353, 36.987150018260245, 448.26114578869937, 59.74626624605534, 60.89739004095186, 83.74672398342166, 52.58872873692997, 94.1048670321213, 46.70479413979204, 69.22995031557805, 106.15103854807033, 190.3825844401769, 135.82999702142254, 61.75064716252118, 79.11465853172464, 69.18866006853868, 63.108930065039445, 60.59845397112873, 54.19290435777062, 13.573083887128066, 11.807805204134763, 10.974261582044846, 9.869321919971213, 10.059340436543547, 8.902891214738222, 9.396140138929518, 14.480975927199161, 7.180839482568048, 7.370813107101807, 8.836844559286538, 8.07029904948693, 9.002819482803702, 7.145118838651865, 5.99800761874252, 5.997676313952444, 6.9082943986914245, 9.079169480435478, 7.0780286748186585, 8.148415748807656, 6.506069804761586, 5.957804889016083, 10.874400247890717, 7.582181496879816, 5.7556246331617995, 6.819178434142399, 10.597159465394007, 15.650252122574743, 5.708536491723005, 5.869938039022047, 21.044265001372967, 57.196927473253815, 16.558988967565455, 8.659607542375849, 10.588156857566087, 1171.7775331787082, 9.895057601365343, 10.051286937879187, 40.48205515259816, 45.544316874838906, 57.827006661658494, 53.79021738708295, 58.36767455091347, 55.488336628105834, 33.2868050347601, 29.281543338273206, 159.24139631260698, 38.62143329879884, 128.8612788301594, 16.048069154665, 195.16942297468503, 25.49643195676668, 26.19798738549797, 26.378615419200397, 63.29326221398429, 59.31878233044424, 36.0608254101968, 45.190766456384196, 60.05173893369479, 28.217515633028725, 357.7127348798846, 69.59691980699313, 56.67071815526925, 53.20906933812046, 48.012616020025966, 57.87828226126313, 197.00648166012508, 82.10697464130037, 104.5694875948701, 46.60073511892006, 43.98772200863787, 59.81773586290914, 70.86758304034917, 45.58908868874399, 70.10144078092442, 50.63808299415653, 52.33784216854596, 54.1468600462807, 45.99061762527684, 11.590589883462815, 20.74636100421654, 10.718360911438785, 8.811433376697808, 17.673751509278365, 9.306205819826113, 9.30610319630061, 11.500386248452203, 8.693022705310042, 7.162797593486342, 6.920321138257514, 6.549712868602622, 10.00946691607501, 7.786874765196948, 7.041758541597859, 7.397881815259415, 5.936553564913265, 5.936466411139438, 8.63838380622999, 6.814284176861195, 6.4551016546030695, 5.89706911182506, 5.896771790735245, 30.87980445760657, 10.395589851973861, 7.144499519682364, 9.261419936620074, 6.916906664366009, 5.111884318072801, 38.455571405631055, 49.09837083669873, 9.67480602113832, 210.14882260495293, 9.629061096398706, 12.854919935018987, 43.81289307106061, 37.72814197388357, 362.05345857704293, 134.66707084242276, 16.638101456830956, 55.66151225569753, 25.54406401042567, 102.89550806006311, 106.09619335792732, 14.82458324378166, 40.58315116052631, 37.049422723105806, 16.583402427776168, 15.129851883401681, 19.93129422095002, 335.1378609797886, 36.692642206181084, 279.4959977706136, 44.249816973068704, 113.7197139659135, 26.591824486384954, 169.8159932744048, 127.4186309843117, 25.891939968841758, 53.58463983725278, 294.29944986548816, 35.07731714242281, 34.405474688912115, 248.4064046344924, 98.68769054798047, 79.6612768723601, 43.527793783383075, 37.95243584319277, 41.3218433148467, 58.8313103464678, 57.74088769069815, 59.854187348691475, 42.36358871736473, 41.33704589460065, 38.36667702847318, 17.969534269472447, 14.964966524553008, 8.268954322412819, 8.232965901986699, 11.03679780210004, 9.290362253072251, 6.561078067298643, 6.908614621612359, 6.5206592593347406, 6.145705084413759, 6.703243240106507, 7.623471806720531, 6.1056231234221165, 6.1054284116263435, 6.10529061170987, 5.888395000077352, 8.856818834492811, 6.985974937204383, 5.8425217601782045, 5.280132462486799, 5.259411523888871, 5.794550470303969, 5.04120556079538, 5.5859175075272915, 5.74768913281093, 5.743713809611961, 7.876732415807883, 4.4392840618826925, 4.6173042589869535, 4.778757105208779, 12.528843417074622, 5.84749354666745, 14.552316121226285, 10.758731757957568, 9.756724284514066, 52.284234320870915, 21.23006693006744, 12.791896606351457, 25.543442619317474, 10.87413014339458, 18.364503765398435, 31.47709270377238, 29.20367704429847, 166.17368568871743, 21.783817342391732, 222.47767755259025, 177.39355344478244, 87.68426091656977, 28.884616416205002, 155.71253770094734, 18.131189428995615, 75.82870030988727, 36.28235025929407, 70.5387769406751, 64.62504727077436, 333.7457408585215, 29.614894014904007, 424.10223194269616, 93.86163622679727, 49.751564808201934, 21.377745973020666, 55.193226183054904, 85.21307544592665, 53.128210836914235, 45.443883739729344, 61.43210958336026, 135.88460037549598, 102.76314474694024, 268.9689412731028, 59.42850218382735, 112.97225244738921, 36.59319873638204, 44.8712059283475, 42.27283253683377, 134.23047872869617, 83.1928722340527, 60.55092265409866, 39.18675848405755, 173.62345409669086, 179.44272896072695, 196.6410158592913, 182.32868616086932, 212.64814890415192, 19.021602011252288, 13.287941246558747, 10.837265430918116, 6.448991977676411, 7.1533129185655655, 7.518776754623684, 6.181172949351867, 6.694598238919568, 6.871970704610115, 5.8012460098225285, 5.607295773313451, 6.285110889991244, 5.9147752106378135, 5.912528644545521, 5.009006160856575, 4.968347349436706, 7.0437041616752065, 4.4296782408431, 4.931959831068477, 4.9154895512329615, 4.390528329828946, 6.1128517374205416, 5.230747158170439, 4.537859367290084, 5.551010001196539, 8.522992927538763, 10.460608288314043, 15.29654181296746, 38.98531220304167, 9.134971019551687, 12.481352159554806, 14.552522089633332, 21.55644939390621, 410.62732751060344, 34.838647526725005, 143.04991335954116, 61.02466846834318, 18.340408671339596, 22.44613916768883, 33.45892992682294, 26.798520278913013, 343.4924083171961, 22.83578650250811, 15.739753282130904, 13.885677653227729, 86.64920251956069, 44.963160823518415, 17.938648478891032, 36.81764548271599, 39.83826479215629, 34.056596866791324, 44.530163504181466, 138.0221971236261, 63.84211791439957, 28.981698431134973, 80.35155524455469, 24.50443826726669, 43.22455661358538, 44.069136776507946, 34.41287989322679, 38.86382790262796, 28.47549057893084, 36.57938540356528, 26.560636522353857], \"Term\": [\"allein\", \"traurig\", \"dabei\", \"team\", \"radio\", \"verstark\", \"sucht\", \"uahid\", \"stress\", \"einsam\", \"dass\", \"verwirrt\", \"schon\", \"angst\", \"mensch\", \"ganz\", \"imm\", \"heut\", \"morg\", \"macht\", \"gut\", \"mehr\", \"tag\", \"leb\", \"wer\", \"woch\", \"neu\", \"irgendwi\", \"echt\", \"lass\", \"digitalisier\", \"naidoo\", \"xavi\", \"ich\", \"now\", \"playing\", \"peinlich\", \"grusel\", \"leidenschaft\", \"fress\", \"ausseh\", \"x3\", \"24\", \"blockiert\", \"ratgeb\", \"erneut\", \"propaganda\", \"pfleg\", \"diffus\", \"demokrati\", \"graubund\", \"schurt\", \"mull\", \"satz\", \"meer\", \"kampfbetont\", \"spamm\", \"bevorzugt\", \"panisch\", \"wint\", \"ahnung\", \"sprach\", \"clown\", \"vs\", \"iwi\", \"wiss\", \"gedank\", \"ernst\", \"irgendwi\", \"meinung\", \"genug\", \"fcz\", \"kenn\", \"echt\", \"warum\", \"manisch\", \"traurig\", \"frag\", \"war\", \"einfach\", \"nehm\", \"angst\", \"wirklich\", \"schon\", \"geht\", \"welt\", \"bild\", \"vielleicht\", \"halt\", \"ja\", \"geld\", \"manchmal\", \"verzweifelt\", \"musst\", \"allein\", \"leid\", \"spiel\", \"gibt\", \"weiss\", \"gut\", \"selbstmord\", \"schweiz\", \"imm\", \"sucht\", \"dass\", \"leut\", \"mal\", \"mehr\", \"macht\", \"verwirrt\", \"tag\", \"kur\", \"hill\", \"jonas\", \"scheib\", \"weiterbild\", \"arcobello\", \"gewahlt\", \"hoffent\", \"mittag\", \"puck\", \"wartet\", \"bar\", \"mark\", \"michel\", \"scbehcb\", \"lustvoll\", \"leadership\", \"tierheim\", \"holz\", \"schlaft\", \"beeinfluss\", \"houellebecq\", \"gekomm\", \"basl\", \"uberfall\", \"flur\", \"bevolker\", \"tobl\", \"cent\", \"stream\", \"katz\", \"woch\", \"vorm\", \"vergibt\", \"turkei\", \"allein\", \"kauft\", \"verbreit\", \"abend\", \"tor\", \"komm\", \"lasst\", \"1\", \"bess\", \"haus\", \"ess\", \"ganz\", \"steht\", \"heut\", \"anfang\", \"stress\", \"reicht\", \"polizei\", \"schuld\", \"morg\", \"nie\", \"zwei\", \"alt\", \"mann\", \"vorbei\", \"angst\", \"frau\", \"kommt\", \"wohl\", \"gerad\", \"viel\", \"sucht\", \"gut\", \"ja\", \"spiel\", \"fall\", \"verzweifelt\", \"mal\", \" \", \"mehr\", \"lieb\", \"gibt\", \"schon\", \"xd\", \"aufmerksam\", \"weisst\", \"32\", \"lecjak\", \"insel\", \"method\", \"annehm\", \"hi\", \"reinkniet\", \"blog\", \"hint\", \"twdbeirtl2\", \"ausserd\", \"huer\", \"monsch\", \"bisch\", \"toooor\", \"muntwil\", \"hangt\", \"ist\", \"andersdenk\", \"nunmal\", \"ava\", \"mutt\", \"merkt\", \"prozent\", \"beweis\", \"unt\", \"mutz\", \"musik\", \"twitt\", \"f\", \"einsam\", \"unsich\", \"fussball\", \"hor\", \"findet\", \"dass\", \"mensch\", \"entscheid\", \"abgelenkt\", \"schad\", \"wer\", \"neu\", \"glarn\", \"toll\", \"hoffnungslos\", \"kolleg\", \"halb\", \"scheint\", \"traurig\", \"fuhl\", \"sucht\", \"sag\", \"ganz\", \"moglich\", \"schon\", \"verwirrt\", \"passiert\", \"mann\", \"angst\", \"eig\", \"isch\", \"allein\", \"stress\", \"imm\", \"find\", \"seit\", \"wohl\", \"macht\", \"mal\", \"mehr\", \"leut\", \"einfach\", \"gibt\", \"q\", \"uberleg\", \"roth\", \"franziska\", \"lacheln\", \"design\", \"angenehm\", \"last\", \"ahm\", \"meisterwerk\", \"leg\", \"hmm\", \"grangett\", \"genferse\", \"naturschutzgebiet\", \"swisscom\", \"60\", \"wild\", \"wifi\", \"endlag\", \"interaction\", \"aai\", \"know\", \"let\", \"kuhlschrank\", \"at\", \"zustand\", \"dasi\", \"lesebefehl\", \"abk\", \"aargau\", \"information\", \"problem\", \"unterstutzt\", \"jesus\", \"letzt\", \"bringt\", \"berlin\", \"glucklich\", \"heul\", \"vollig\", \"tweet\", \"a\", \"macht\", \"sach\", \"stress\", \"mehr\", \"tag\", \"no\", \"imm\", \"sorg\", \"3\", \"c\", \"lass\", \"morg\", \"traurig\", \"end\", \"angst\", \"gut\", \"muss\", \"bi\", \"jahr\", \"heut\", \"depression\", \"ne\", \"schweiz\", \"schon\", \"verwirrt\", \"allein\", \"lieb\", \"dass\", \"i\", \"dank\", \"jemand\", \"sucht\", \"ja\", \"mal\", \"neu\", \"uahid\", \"verstark\", \"team\", \"radio\", \"dabei\", \"angscht\", \"unterschied\", \"dusch\", \"old\", \"frohlich\", \"brems\", \"schwein\", \"70\", \"acht\", \"exklusiv\", \"mutmass\", \"putsch\", \"bill\", \"fett\", \"abhol\", \"auftret\", \"kampft\", \"samtlich\", \"gebot\", \"kritisch\", \"stuttgart\", \"kombination\", \"akw\", \"ebenso\", \"selbstvertrau\", \"gekauft\", \"wach\", \"ledig\", \"bau\", \"furchtbar\", \"clinton\", \"islam\", \"kei\", \"sucht\", \"srfarena\", \"verwirrt\", \"leb\", \"freiheit\", \"terror\", \"allei\", \"scheiss\", \"angst\", \"davor\", \"desweg\", \"mei\", \"mal\", \"kind\", \"liegt\", \"wenig\", \"geh\", \"wurd\", \"frau\", \"allein\", \"ja\", \"nein\", \"traurig\", \"o\", \"macht\", \"mehr\", \"mensch\", \"ganz\", \" \", \"dass\", \"erst\"], \"Total\": [2275.0, 1458.0, 224.0, 202.0, 188.0, 182.0, 1211.0, 176.0, 532.0, 284.0, 681.0, 436.0, 632.0, 2255.0, 228.0, 347.0, 385.0, 275.0, 138.0, 363.0, 282.0, 420.0, 178.0, 144.0, 193.0, 66.0, 207.0, 95.0, 115.0, 152.0, 13.755192536191107, 11.881551535295491, 11.881548879313648, 11.264193898174078, 11.05179018666978, 10.434536833200287, 13.119406640853168, 9.412182566752199, 9.198978572087954, 11.66485219085048, 8.3709860176115, 8.370443697497274, 8.774301194653003, 7.751045909105264, 8.580541543978828, 7.53992647959963, 8.794289671598795, 7.964617139377413, 7.7520164516827945, 10.00709909623971, 7.134299792329874, 11.459535037165788, 9.813622255065617, 8.352701670917064, 7.134348235097846, 6.729201583670633, 6.729204526830066, 7.345007755981093, 7.326601449888931, 6.920986298867344, 17.651405775606765, 12.281573980661214, 14.164891270321556, 12.268842417967102, 12.687032650140404, 58.58075782981654, 40.81041484513452, 35.112523067181165, 95.57873652977209, 26.91825594528536, 59.35373158411465, 25.28632649797299, 51.43777557677596, 115.03612393017119, 126.94795668430504, 15.805137848872299, 1458.1321674972835, 100.54870034935082, 187.7933844526764, 209.73175935776717, 60.495894278437596, 2255.838448690399, 82.43631433434868, 632.4900585797785, 202.25847074865374, 96.93628542865883, 49.28766710960325, 51.4032818693578, 127.79762951740209, 474.3513841804665, 49.59380815629023, 39.989978972831835, 230.06183556694177, 61.417166386867365, 2275.4362219986288, 124.04735783395164, 127.65770452236548, 204.97584670271624, 105.90258427743755, 282.6864932943801, 89.67693250303766, 176.3987780310626, 385.5607130399709, 1211.7428701102153, 681.4649404209534, 158.40196971865655, 354.9232544364313, 420.60697841944494, 363.89342510147173, 436.43962623535026, 178.30381491047842, 14.416008822298469, 12.558855269097613, 11.725956317151157, 10.679601613236024, 10.8916110803323, 9.653787813393395, 10.270272918831747, 16.05750858835715, 7.9879147584682775, 8.200986039384961, 9.845335698862685, 9.011169826481845, 10.05588090420746, 7.987685448254566, 6.748719424943388, 6.74871767299468, 7.773549649289186, 10.243864024742367, 7.9863562684597005, 9.220254704135733, 7.367447096857008, 6.74858412045848, 12.320916764363306, 8.604225470782744, 6.536178120255324, 7.7759104124304725, 12.105683175750405, 17.91422448996958, 6.535205338908663, 6.727767129272742, 24.350353963018378, 66.90078804223067, 19.77403885543891, 10.057441024958552, 12.549554085886204, 2275.4362219986288, 11.700464605232042, 11.915217404483384, 56.87525519078375, 65.4566966455811, 91.68885599892414, 84.79176833131305, 95.11147770561362, 90.02571247898689, 50.07562181193742, 43.86406600066315, 347.603774620679, 62.02758940899661, 275.36833381076394, 21.244580932434623, 532.4672996230795, 39.24370927316327, 40.95662890034218, 41.701144336829955, 138.46409986798992, 137.1526246560864, 67.99830609896115, 94.757807523392, 143.74425094024136, 48.1807246432409, 2255.838448690399, 196.88993051199282, 142.93432073723892, 132.11518373886702, 113.93034428836758, 154.923830505866, 1211.7428701102153, 282.6864932943801, 474.3513841804665, 127.65770452236548, 115.57399058172973, 230.06183556694177, 354.9232544364313, 127.28436524631266, 420.60697841944494, 175.73943366443925, 204.97584670271624, 632.4900585797785, 154.07892169570886, 12.419330412009243, 22.25902531368512, 11.619595684562725, 9.56433022482626, 19.207721629171274, 10.175791860852675, 10.175786043603866, 12.63690114703356, 9.562508612405974, 7.915637526310356, 7.7047880547777945, 7.3023585308803565, 11.19634144823031, 8.742500952111179, 7.917192779520126, 8.319749900042112, 6.689080145694511, 6.689081206424293, 9.75902286756476, 7.703945902672959, 7.303703774883143, 6.689488783241698, 6.689358121923378, 35.06887331009383, 11.816536782870283, 8.128734410887482, 10.583950517074573, 7.91773680358746, 5.864736362988634, 44.22616579320962, 57.48163204634461, 11.182739240724942, 284.64806527692764, 11.21568701491694, 15.512890044565594, 60.454184831740925, 52.983342406228644, 681.4649404209534, 228.4802829129332, 21.477152141200737, 92.10962171656864, 36.448200215461824, 193.60660685396726, 207.65626829836384, 19.175881978006316, 69.82817753669043, 63.275189399761686, 22.601853726463194, 20.148714921448466, 29.16550482986846, 1458.1321674972835, 68.58203335252027, 1211.7428701102153, 91.0063870655118, 347.603774620679, 44.721657452930025, 632.4900585797785, 436.43962623535026, 45.754454022587886, 143.74425094024136, 2255.838448690399, 74.21841232050268, 74.28669091290469, 2275.4362219986288, 532.4672996230795, 385.5607130399709, 131.93460345893644, 98.90605194082289, 132.11518373886702, 363.89342510147173, 354.9232544364313, 420.60697841944494, 158.40196971865655, 209.73175935776717, 204.97584670271624, 18.987514200265515, 16.01156907723096, 9.015768333483066, 9.014913459689454, 12.176155048006455, 10.277694053607831, 7.308771551255698, 7.722406103049047, 7.306787219530583, 6.892372119704757, 7.524324593753093, 8.571444132802002, 6.8912721668756145, 6.891265663289019, 6.891260876673667, 6.672901701998832, 10.052768513958332, 7.937531475670276, 6.6715312333373555, 6.0384628697587095, 6.037753181278059, 6.669622760113028, 5.819231678954062, 6.451935997188038, 6.66864787156421, 6.6690026853856565, 9.193578618138725, 5.185396015710409, 5.402548584348624, 5.59933271916878, 14.715458966174284, 6.862497267093437, 18.031808062291205, 13.219422421112768, 11.934734894834712, 76.33704767103009, 28.0594491346887, 16.152073052550183, 35.03094350680623, 13.595508821672315, 24.95895934093738, 46.961110335871446, 43.31658711893757, 363.89342510147173, 31.635064198094216, 532.4672996230795, 420.60697841944494, 178.30381491047842, 46.543081805390315, 385.5607130399709, 26.370669590924432, 162.8392492411986, 64.19608454742244, 152.69778006205775, 138.46409986798992, 1458.1321674972835, 53.65096887360836, 2255.838448690399, 282.6864932943801, 115.06111390123345, 34.834079857414906, 141.74714151783476, 275.36833381076394, 135.33839741865282, 108.41804275033645, 176.3987780310626, 632.4900585797785, 436.43962623535026, 2275.4362219986288, 175.73943366443925, 681.4649404209534, 80.89385459356016, 121.15214761218033, 109.12360406842666, 1211.7428701102153, 474.3513841804665, 354.9232544364313, 207.65626829836384, 176.40811535151303, 182.4712581464633, 202.52606793934953, 188.60079655270414, 224.45749089127384, 20.72455843146755, 14.481849520003834, 11.855607248211763, 7.204459906711866, 8.000353319754467, 8.415179153330666, 6.998204637263312, 7.60419544882414, 7.812160453314145, 6.601765939434218, 6.393581570512531, 7.208714905597702, 6.791516191098617, 6.791575484541786, 5.7893393728891445, 5.789975324724548, 8.213243518827849, 5.185111832203994, 5.791004277565105, 5.792039286998276, 5.18573042686332, 7.2217346436247505, 6.1909281008880175, 5.374770117529198, 6.6052517293987965, 10.248082619051267, 12.6760272892229, 19.182826589757003, 56.307108780001755, 11.68491513742379, 16.77697435522351, 20.068079837492288, 33.25650441371099, 1211.7428701102153, 61.81907275875049, 436.43962623535026, 144.47705737422643, 30.087824146496324, 40.92721443849102, 74.0534589622439, 54.75298117135475, 2255.838448690399, 45.0502692770162, 26.63701100618974, 22.198673972449726, 354.9232544364313, 139.40966208473392, 34.68052164853705, 113.45751236895563, 144.92192626502643, 112.26849270659174, 196.88993051199282, 2275.4362219986288, 474.3513841804665, 109.63525875900787, 1458.1321674972835, 74.9350549548889, 363.89342510147173, 420.60697841944494, 228.4802829129332, 347.603774620679, 127.28436524631266, 681.4649404209534, 136.22635932956825], \"loglift\": [30.0, 29.0, 28.0, 27.0, 26.0, 25.0, 24.0, 23.0, 22.0, 21.0, 20.0, 19.0, 18.0, 17.0, 16.0, 15.0, 14.0, 13.0, 12.0, 11.0, 10.0, 9.0, 8.0, 7.0, 6.0, 5.0, 4.0, 3.0, 2.0, 1.0, 1.3326, 1.3212, 1.3211, 1.3203, 1.3201, 1.3201, 1.3048, 1.3042, 1.2975, 1.2971, 1.2926, 1.2916, 1.2913, 1.2878, 1.2869, 1.2856, 1.2856, 1.2823, 1.2822, 1.2811, 1.2796, 1.2794, 1.279, 1.2781, 1.2773, 1.2764, 1.2762, 1.2751, 1.2751, 1.2744, 1.2668, 1.2686, 1.2562, 1.26, 1.2575, 1.1835, 1.1771, 1.1853, 1.0948, 1.1922, 1.1217, 1.1894, 1.1104, 1.0149, 1.0012, 1.2249, 0.6676, 0.962, 0.8713, 0.8087, 1.0068, 0.4025, 0.9544, 0.5271, 0.7391, 0.8538, 0.99, 0.9768, 0.7707, 0.4649, 0.9802, 1.02, 0.5488, 0.8877, -0.2297, 0.6643, 0.6547, 0.4997, 0.6948, 0.2949, 0.7425, 0.4595, 0.105, -0.456, -0.218, 0.4528, -0.1062, -0.41, -0.3572, -0.5796, 0.2039, 1.4588, 1.4574, 1.4528, 1.4402, 1.4396, 1.4381, 1.4301, 1.4157, 1.4126, 1.4124, 1.411, 1.4088, 1.4085, 1.4076, 1.4012, 1.4011, 1.4011, 1.3984, 1.3983, 1.3955, 1.3947, 1.3945, 1.3942, 1.3926, 1.3919, 1.3878, 1.386, 1.384, 1.3838, 1.3827, 1.3732, 1.3624, 1.3416, 1.3694, 1.3491, 0.8554, 1.3515, 1.349, 1.1791, 1.1564, 1.0581, 1.064, 1.0308, 1.0352, 1.1107, 1.1149, 0.7384, 1.0453, 0.7597, 1.2386, 0.5154, 1.0878, 1.0723, 1.0611, 0.7363, 0.6809, 0.8848, 0.7787, 0.6463, 0.9841, -0.3225, 0.4792, 0.594, 0.6096, 0.655, 0.5345, -0.2975, 0.2828, 0.007, 0.5113, 0.5531, 0.172, -0.092, 0.4923, -0.2727, 0.2748, 0.1539, -0.9389, 0.3101, 1.5254, 1.5241, 1.5137, 1.5125, 1.5112, 1.5051, 1.5051, 1.5002, 1.4991, 1.4945, 1.4871, 1.4857, 1.4824, 1.4787, 1.4773, 1.477, 1.4751, 1.4751, 1.4725, 1.4718, 1.471, 1.4684, 1.4684, 1.4673, 1.4663, 1.4654, 1.461, 1.4593, 1.4571, 1.4547, 1.4368, 1.4496, 1.291, 1.4419, 1.4065, 1.2725, 1.2549, 0.962, 1.0658, 1.3392, 1.0908, 1.239, 0.9624, 0.9229, 1.3371, 1.0518, 1.0592, 1.2848, 1.308, 1.2138, 0.1241, 0.969, 0.1276, 0.8734, 0.4771, 1.0746, 0.2795, 0.3633, 1.0251, 0.6077, -0.4422, 0.845, 0.8248, -0.6204, -0.0911, 0.0176, 0.4856, 0.6366, 0.4322, -0.2277, -0.2215, -0.3553, 0.2756, -0.0296, -0.0812, 1.6183, 1.6058, 1.5869, 1.5826, 1.5751, 1.5724, 1.5654, 1.562, 1.5595, 1.5587, 1.5578, 1.5562, 1.5523, 1.5523, 1.5523, 1.5483, 1.5467, 1.5457, 1.5407, 1.5392, 1.5354, 1.5327, 1.5298, 1.5292, 1.5248, 1.524, 1.5188, 1.518, 1.5163, 1.5149, 1.5125, 1.5133, 1.459, 1.4674, 1.4719, 1.2949, 1.3945, 1.4401, 1.3575, 1.45, 1.3666, 1.2733, 1.2791, 0.8895, 1.3003, 0.8007, 0.81, 0.9636, 1.1963, 0.7667, 1.2988, 0.9091, 1.1028, 0.9011, 0.9114, 0.1988, 1.0791, 0.0021, 0.5709, 0.8349, 1.1851, 0.7302, 0.5004, 0.7383, 0.8039, 0.6186, 0.1355, 0.2271, -0.462, 0.5891, -0.1237, 0.8801, 0.6801, 0.725, -0.5269, -0.0674, -0.095, 0.0058, 1.9319, 1.9311, 1.9184, 1.914, 1.8938, 1.8621, 1.8618, 1.858, 1.8371, 1.8359, 1.8352, 1.8237, 1.8204, 1.8196, 1.8186, 1.8166, 1.8107, 1.8096, 1.8092, 1.8031, 1.7948, 1.7942, 1.7904, 1.7873, 1.7837, 1.7814, 1.7811, 1.7793, 1.7786, 1.774, 1.7635, 1.7557, 1.7215, 1.5802, 1.7017, 1.6521, 1.6265, 1.5143, 0.8657, 1.3744, 0.8324, 1.086, 1.4528, 1.3472, 1.1534, 1.2334, 0.0657, 1.2684, 1.4217, 1.4787, 0.5378, 0.8163, 1.2886, 0.8224, 0.6565, 0.755, 0.4614, -0.8547, -0.0577, 0.6173, -0.9507, 0.8301, -0.1826, -0.3081, 0.0548, -0.2432, 0.4505, -0.9769, 0.313], \"logprob\": [30.0, 29.0, 28.0, 27.0, 26.0, 25.0, 24.0, 23.0, 22.0, 21.0, 20.0, 19.0, 18.0, 17.0, 16.0, 15.0, 14.0, 13.0, 12.0, 11.0, 10.0, 9.0, 8.0, 7.0, 6.0, 5.0, 4.0, 3.0, 2.0, 1.0, -7.1017, -7.2595, -7.2595, -7.3137, -7.333, -7.3905, -7.1768, -7.5095, -7.5391, -7.3019, -7.6383, -7.6394, -7.5925, -7.7201, -7.6193, -7.7498, -7.5959, -7.6983, -7.7255, -7.4713, -7.8112, -7.3374, -7.4928, -7.655, -7.8134, -7.8728, -7.873, -7.7865, -7.789, -7.8467, -6.9181, -7.279, -7.1487, -7.2886, -7.2576, -5.8017, -6.1696, -6.3118, -5.4009, -6.5707, -5.8505, -6.636, -6.0049, -5.2955, -5.2107, -7.0704, -3.1032, -5.483, -4.9491, -4.9012, -5.9462, -2.9319, -5.6893, -4.0789, -5.007, -5.6278, -6.168, -6.1392, -5.4345, -4.4288, -6.1716, -6.347, -5.0685, -6.0503, -3.5555, -5.5707, -5.5516, -5.233, -5.6983, -5.1164, -5.817, -5.4234, -4.996, -4.4118, -4.7494, -5.5377, -5.2899, -5.424, -5.516, -5.5566, -5.6683, -6.9285, -7.0678, -7.141, -7.2471, -7.2281, -7.3502, -7.2963, -6.8637, -7.5652, -7.539, -7.3576, -7.4484, -7.339, -7.5701, -7.7451, -7.7452, -7.6038, -7.3306, -7.5796, -7.4387, -7.6638, -7.7519, -7.1502, -7.5108, -7.7864, -7.6168, -7.176, -6.7861, -7.7946, -7.7667, -6.4899, -5.4901, -6.7296, -7.3779, -7.1768, -2.4703, -7.2445, -7.2289, -5.8357, -5.7179, -5.4791, -5.5515, -5.4698, -5.5204, -6.0314, -6.1596, -4.4662, -5.8828, -4.6778, -6.761, -4.2627, -6.298, -6.2709, -6.264, -5.3888, -5.4536, -5.9514, -5.7257, -5.4414, -6.1966, -3.6568, -5.2939, -5.4993, -5.5623, -5.6651, -5.4782, -4.2533, -5.1285, -4.8867, -5.695, -5.7527, -5.4453, -5.2758, -5.7169, -5.2866, -5.6119, -5.5789, -5.5449, -5.7081, -7.011, -6.4288, -7.0892, -7.2851, -6.5891, -7.2305, -7.2305, -7.0188, -7.2987, -7.4923, -7.5267, -7.5818, -7.1577, -7.4087, -7.5093, -7.46, -7.6801, -7.6801, -7.305, -7.5422, -7.5963, -7.6867, -7.6868, -6.0311, -7.1198, -7.4948, -7.2353, -7.5272, -7.8296, -5.8117, -5.5674, -7.1917, -4.1134, -7.1964, -6.9075, -5.6813, -5.8308, -3.5694, -4.5584, -6.6495, -5.4419, -6.2208, -4.8275, -4.7968, -6.7649, -5.7578, -5.8489, -6.6528, -6.7445, -6.4689, -3.6466, -5.8586, -3.8282, -5.6713, -4.7275, -6.1806, -4.3265, -4.6137, -6.2073, -5.4799, -3.7766, -5.9036, -5.923, -3.9461, -4.8692, -5.0834, -5.6878, -5.8249, -5.7398, -5.3865, -5.4052, -5.3693, -5.7149, -5.7394, -5.814, -6.4936, -6.6766, -7.2698, -7.2741, -6.9811, -7.1533, -7.5011, -7.4495, -7.5073, -7.5665, -7.4797, -7.3511, -7.5731, -7.5731, -7.5731, -7.6093, -7.2011, -7.4384, -7.6171, -7.7183, -7.7223, -7.6254, -7.7646, -7.662, -7.6335, -7.6342, -7.3184, -7.8918, -7.8525, -7.8181, -6.8543, -7.6163, -6.7045, -7.0066, -7.1043, -5.4256, -6.3269, -6.8335, -6.1419, -6.9959, -6.4719, -5.933, -6.008, -4.2693, -6.3011, -3.9775, -4.2039, -4.9085, -6.019, -4.3343, -6.4847, -5.0538, -5.791, -5.1261, -5.2137, -3.5719, -5.994, -3.3323, -4.8405, -5.4752, -6.3199, -5.3714, -4.9371, -5.4096, -5.5658, -5.2644, -4.4705, -4.7499, -3.7877, -5.2975, -4.6551, -5.7824, -5.5785, -5.6381, -4.4827, -4.9611, -5.2788, -5.7139, -3.9509, -3.918, -3.8264, -3.902, -3.7482, -6.1622, -6.521, -6.7248, -7.2439, -7.1402, -7.0904, -7.2863, -7.2065, -7.1804, -7.3497, -7.3837, -7.2696, -7.3304, -7.3307, -7.4966, -7.5047, -7.1557, -7.6195, -7.5121, -7.5154, -7.6284, -7.2974, -7.4533, -7.5954, -7.3938, -6.965, -6.7602, -6.3802, -5.4446, -6.8957, -6.5836, -6.4301, -6.0371, -3.0901, -5.5571, -4.1446, -4.9965, -6.1987, -5.9967, -5.5975, -5.8195, -3.2686, -5.9795, -6.3516, -6.477, -4.6459, -5.302, -6.2209, -5.5018, -5.423, -5.5798, -5.3116, -4.1804, -4.9514, -5.7412, -4.7214, -5.909, -5.3414, -5.3221, -5.5694, -5.4478, -5.7588, -5.5083, -5.8284]}, \"token.table\": {\"Topic\": [1, 2, 3, 4, 5, 1, 2, 3, 4, 5, 1, 1, 2, 3, 4, 5, 3, 4, 5, 1, 3, 4, 5, 4, 2, 4, 1, 2, 3, 5, 1, 2, 3, 5, 5, 4, 5, 4, 1, 2, 5, 1, 2, 3, 4, 5, 1, 2, 3, 4, 5, 1, 2, 3, 4, 5, 3, 1, 2, 3, 4, 5, 4, 2, 5, 1, 2, 3, 4, 5, 3, 2, 4, 3, 5, 1, 1, 3, 3, 2, 2, 1, 2, 3, 4, 5, 2, 2, 4, 1, 2, 3, 4, 5, 2, 3, 1, 1, 3, 3, 4, 5, 1, 2, 3, 4, 5, 5, 3, 1, 3, 5, 3, 4, 5, 1, 2, 3, 4, 5, 2, 1, 5, 1, 3, 4, 1, 2, 3, 4, 5, 1, 2, 3, 4, 5, 4, 1, 2, 3, 4, 5, 1, 2, 4, 5, 1, 1, 2, 3, 4, 5, 4, 2, 3, 4, 5, 1, 1, 5, 5, 1, 2, 3, 5, 1, 2, 3, 4, 5, 1, 2, 3, 4, 5, 1, 2, 3, 4, 5, 1, 2, 3, 4, 5, 4, 1, 2, 3, 1, 1, 2, 4, 1, 2, 3, 4, 5, 1, 2, 3, 5, 5, 2, 3, 1, 2, 3, 4, 5, 1, 2, 3, 5, 5, 1, 2, 3, 4, 5, 1, 2, 3, 4, 5, 2, 1, 2, 3, 4, 5, 4, 1, 2, 3, 4, 5, 1, 4, 5, 1, 5, 1, 2, 3, 4, 5, 2, 5, 2, 3, 4, 1, 2, 3, 4, 5, 5, 1, 2, 3, 1, 2, 3, 4, 5, 1, 2, 3, 4, 5, 2, 5, 1, 2, 1, 2, 4, 5, 4, 1, 2, 3, 4, 1, 2, 3, 4, 5, 2, 1, 2, 3, 4, 5, 2, 3, 5, 1, 3, 4, 4, 1, 1, 1, 2, 3, 4, 5, 3, 4, 1, 2, 3, 4, 5, 3, 1, 2, 3, 3, 4, 5, 1, 2, 3, 4, 5, 3, 2, 3, 4, 1, 2, 3, 2, 3, 4, 5, 2, 1, 2, 3, 4, 5, 2, 3, 1, 2, 3, 4, 5, 1, 1, 2, 3, 4, 5, 4, 3, 4, 4, 1, 2, 3, 4, 2, 3, 4, 5, 2, 3, 4, 5, 3, 1, 3, 1, 2, 3, 4, 5, 1, 2, 3, 4, 5, 1, 2, 3, 4, 5, 2, 4, 2, 1, 5, 2, 4, 5, 1, 2, 1, 2, 3, 5, 1, 2, 3, 5, 1, 2, 3, 4, 5, 4, 2, 3, 4, 4, 5, 1, 2, 3, 4, 5, 1, 2, 3, 4, 5, 5, 4, 2, 4, 1, 2, 3, 4, 5, 1, 2, 4, 5, 4, 2, 1, 2, 3, 4, 5, 3, 1, 2, 3, 5, 4, 1, 2, 3, 4, 5, 1, 4, 4, 1, 2, 3, 4, 5, 1, 2, 3, 4, 5, 1, 2, 3, 4, 5, 1, 2, 3, 4, 5, 2, 1, 2, 3, 4, 5, 1, 2, 3, 4, 5, 1, 2, 3, 4, 5, 1, 2, 1, 2, 3, 4, 5, 2, 1, 1, 2, 3, 4, 5, 1, 2, 4, 5, 1, 2, 3, 4, 1, 2, 3, 4, 5, 3, 4, 3, 2, 2, 1, 2, 3, 5, 3, 1, 2, 3, 4, 1, 3, 1, 3, 5, 1, 2, 3, 4, 5, 1, 2, 3, 4, 5, 5, 1, 3, 4, 3, 1, 4, 1, 2, 3, 4, 5, 1, 2, 3, 4, 1, 2, 3, 4, 5, 1, 2, 3, 4, 5, 1, 2, 3, 4, 5, 3, 4, 5, 1, 3, 1, 2, 4, 5, 5, 1, 1, 2, 3, 5, 1, 1, 1, 1, 2, 3, 4, 5, 1, 2, 4, 1, 3, 2, 5, 4, 1, 4, 5, 1, 1, 2, 3, 4, 5, 3, 4, 2, 3, 4, 1, 2, 3, 4, 5, 5, 1, 2, 1, 2, 3, 5, 2, 3, 4, 5, 1, 2, 3, 4, 5, 2, 1, 2, 3, 4, 5, 1, 2, 3, 4, 5, 1, 2, 5, 1, 2, 3, 4, 5, 1, 2, 3, 4, 5, 1, 2, 3, 4, 5, 5, 1, 4, 5, 1, 1, 2, 3, 5, 1, 2, 1, 2, 3, 4, 5, 1, 2, 3, 5, 2, 1, 2, 3, 4, 5, 5, 1, 2, 3, 4, 5, 4, 1, 2, 3, 4, 5, 1, 2, 4, 5, 1, 2, 5, 2, 5, 1, 2, 1, 2, 3, 4, 5, 3, 1, 2, 3, 4, 5, 1, 2, 3, 4, 5, 1, 2, 4, 3, 1, 4, 5, 1, 2, 3, 4, 1, 4, 5, 2, 4, 3, 4, 3, 5, 2, 4, 1, 2, 1, 2, 1, 4, 5, 1, 2, 3, 4, 5, 1, 2, 3, 4, 5, 1, 2, 3, 4, 5, 1, 2, 3, 4, 5, 1, 2, 4, 1, 2, 3, 4, 5, 1, 2, 1, 2, 1, 3, 5, 1, 2, 3, 4, 5, 2, 1, 2, 3, 4, 1, 2, 3, 4, 5, 2, 3, 2, 1, 2, 3, 4, 5, 1, 2, 3, 4, 5, 1, 2, 3, 4, 5, 4, 4, 1, 1, 2, 3, 4, 5, 1, 2, 3, 4, 5, 1, 2, 3, 5, 1, 2, 3, 4, 5, 1, 2, 3, 4, 5, 1, 1, 1, 2, 3, 4, 5, 3, 4, 1, 2, 3, 5], \"Freq\": [0.18855418694634424, 0.36139552498049315, 0.20426703585853961, 0.02356927336829303, 0.21997988477073496, 0.06308386900023814, 0.6098107336689687, 0.1682236506673017, 0.06308386900023814, 0.09462580350035721, 0.9117535200267736, 0.2087948707601751, 0.17808974270720818, 0.10439743538008756, 0.4667179464050973, 0.0429871792741537, 0.9466766571417031, 0.8952757628411958, 0.9205444608978891, 0.04617168925401374, 0.2539442908970756, 0.6694894941831994, 0.02308584462700687, 0.8996011042607033, 0.1359114931173607, 0.8834247052628446, 0.08791169346366672, 0.7032935477093337, 0.1230763708491334, 0.07032935477093337, 0.1845626947889424, 0.13027954926278287, 0.6079712298929868, 0.07599640373662335, 0.8636563997983023, 0.8929635459745012, 0.8960389436228742, 0.9580133907949913, 0.9064433849292098, 0.056652711558075615, 0.8076333497206675, 0.1080300652003142, 0.040511274450117825, 0.1620450978004713, 0.24306764670070696, 0.4456240189512961, 0.19688532496265676, 0.5150660733398074, 0.10899009060432785, 0.11821909021195239, 0.06064771170724695, 0.17940474188159497, 0.47489490498069253, 0.2743837228777335, 0.010553220110682058, 0.06331932066409234, 0.8215010061927105, 0.04707082729381004, 0.7531332367009607, 0.04707082729381004, 0.09414165458762008, 0.04707082729381004, 0.9577532901267588, 0.04825193276405976, 0.9167867225171354, 0.37059391397700936, 0.15869930766001117, 0.1303284817096181, 0.18795672192135401, 0.1520498953278878, 0.8844525584003485, 0.9322765503001477, 0.899684747938144, 0.9662356666504534, 0.8635615386215605, 0.9556819212418952, 0.08931488956672179, 0.8931488956672179, 0.896947044939318, 0.8877870636162866, 0.9297757278868964, 0.053279240667840705, 0.15983772200352211, 0.053279240667840705, 0.03551949377856047, 0.6926301286819292, 0.9501255873267468, 0.1857346725859652, 0.8048502478725159, 0.05553968818816137, 0.6109365700697751, 0.12218731401395502, 0.18883493983974867, 0.011107937637632275, 0.9086641241392089, 0.08260582946720081, 0.9530282652594682, 0.09448267907023455, 0.850344111632111, 0.22966014985170022, 0.6028578933607132, 0.11483007492585011, 0.6695386885854505, 0.10144525584628038, 0.08115620467702431, 0.020289051169256077, 0.12173430701553645, 0.8834551565766674, 0.8413714455484496, 0.9031039271457546, 0.88432548568995, 0.9506630642359716, 0.10691585517590323, 0.7484109862313226, 0.10691585517590323, 0.23365911029853095, 0.12461819215921652, 0.015577274019902065, 0.5607818647164743, 0.06230909607960826, 0.9181042811735065, 0.23842201312983474, 0.7152660393895042, 0.8471649920209793, 0.07059708266841494, 0.07059708266841494, 0.040096679171913036, 0.004455186574657004, 0.004455186574657004, 0.004455186574657004, 0.9489547404019419, 0.09904900768588233, 0.13206534358117644, 0.2641306871623529, 0.37143377882205875, 0.14031942755499996, 0.7713972062849268, 0.1995700613974217, 0.049892515349355425, 0.5312085457784312, 0.16581924219050478, 0.054294796115475025, 0.22197425588090353, 0.0443948511761807, 0.19977683029281318, 0.5105407885260781, 0.8993615345911644, 0.31772210119338673, 0.12561106326250174, 0.022166658222794424, 0.3916109619360348, 0.14777772148529617, 0.8756828091064536, 0.18770874850928776, 0.1501669988074302, 0.0750834994037151, 0.6006679952297208, 0.902990859685347, 0.945097639731023, 0.9278310060127187, 0.9302723448009567, 0.6867408019410868, 0.0869292154355806, 0.05215752926134836, 0.18255135241471926, 0.12126370961877568, 0.20210618269795946, 0.4715810929619054, 0.08084247307918378, 0.10778996410557838, 0.5578554261799599, 0.1096638871977699, 0.19548779891776372, 0.0762879215288834, 0.057215941146662556, 0.007026220248692874, 0.15457684547124323, 0.7377531261127518, 0.08431464298431449, 0.01053933037303931, 0.0931949618986204, 0.11183395427834447, 0.20502891617696486, 0.5591697713917223, 0.055916977139172236, 0.8280252951526047, 0.13968332394707697, 0.04656110798235898, 0.7915388357001027, 0.9283910153420621, 0.797436286376439, 0.05695973474117422, 0.11391946948234843, 0.0954294019452542, 0.2716067593826466, 0.23490314324985653, 0.21288097357018249, 0.19819952711706643, 0.18238163329133814, 0.6611334206811008, 0.0683931124842518, 0.09119081664566907, 0.9088477318107115, 0.08942352839259919, 0.8942352839259919, 0.155744384263266, 0.3807084948657613, 0.207659179017688, 0.207659179017688, 0.04326232896201833, 0.8304883669711142, 0.03954706509386258, 0.11864119528158773, 0.03954706509386258, 0.8834474436243136, 0.21222635507230497, 0.11369269021730624, 0.33349855797076494, 0.20464684239115122, 0.13643122826076748, 0.018873856472339908, 0.11324313883403944, 0.7172065459489165, 0.018873856472339908, 0.13211699530637935, 0.9002161327386036, 0.6464529106210338, 0.1392360115183765, 0.049727146970848755, 0.009945429394169751, 0.14918144091254626, 0.8874183912882048, 0.11173755784661599, 0.3555285931483236, 0.15236939706356725, 0.15744837696568617, 0.2285540955953509, 0.09970810735243363, 0.2658882862731563, 0.5982486441146018, 0.9430038049370254, 0.8749613573585062, 0.02916215664997491, 0.24787833152478672, 0.5394998980245358, 0.17497293989984947, 0.014581078324987454, 0.17116084939243695, 0.7702238222659663, 0.06446252098269177, 0.8380127727749931, 0.06446252098269177, 0.03164522598180557, 0.45741735737337147, 0.3279596147205305, 0.06904412941484853, 0.11219671029912885, 0.8634080999336281, 0.808617117106672, 0.1470212940193949, 0.024503549003232483, 0.30361175243789446, 0.19320747882411465, 0.07590293810947361, 0.144905609118086, 0.2760106840344495, 0.5191377132999454, 0.20765508531997817, 0.1087717113580838, 0.14832506094284154, 0.019776674792378872, 0.09757922893215089, 0.878213060389358, 0.08116279162703002, 0.8927907078973303, 0.6654056469308346, 0.20163807482752563, 0.020163807482752562, 0.12098284489651538, 0.8706673480842645, 0.7581663157307491, 0.016848140349572202, 0.08424070174786101, 0.1516332631461498, 0.04388646441148784, 0.42131005835028323, 0.3159825437627124, 0.06144105017608297, 0.14921397899905864, 0.8763155634839506, 0.409804381107537, 0.25368842639990385, 0.18538769621531434, 0.14148008395379252, 0.004878623584613535, 0.10429767988215041, 0.7822325991161281, 0.10429767988215041, 0.14273095439260836, 0.11418476351408668, 0.7422009628415634, 0.8706665263984629, 0.8410075514979948, 0.9562075465675516, 0.33252384613265407, 0.29007399343486845, 0.03183738952333922, 0.33252384613265407, 0.014149950899261875, 0.7444643521176818, 0.19852382723138182, 0.5320912465809118, 0.2582207520172072, 0.08607358400573573, 0.07042384145923831, 0.04694922763949221, 0.9222234768926036, 0.1597583756432336, 0.6590032995283386, 0.1597583756432336, 0.07355370167580054, 0.809090718433806, 0.07355370167580054, 0.14162848523752633, 0.4684634511702794, 0.010894498864425102, 0.30867746782537786, 0.06899849280802564, 0.9495998948141595, 0.9555010980600489, 0.9085259646641739, 0.9333316388757472, 0.06227616161607238, 0.8718662626250133, 0.06227616161607238, 0.015803982721919223, 0.5847473607110112, 0.1264318617753538, 0.26866770627262676, 0.876494832523927, 0.13233161645080477, 0.03308290411270119, 0.7278238904794263, 0.09924871233810359, 0.016541452056350596, 0.8890753812804777, 0.915069960394814, 0.08653314933712232, 0.03708563543019528, 0.35849447582522104, 0.4573895036390751, 0.0618093923836588, 0.887768808882187, 0.27492427629422667, 0.10633863517040842, 0.20749001984469936, 0.40460553869716376, 0.007780875744176226, 0.8743172880768604, 0.9371231188952116, 0.052062395494178425, 0.8281226227504733, 0.7428430483372629, 0.031387734436785754, 0.20925156291190503, 0.020925156291190503, 0.09422953040413323, 0.4576862905343614, 0.16153633783565696, 0.2692272297260949, 0.0498303777988637, 0.0996607555977274, 0.0996607555977274, 0.7474556669829555, 0.9086252796208346, 0.867027011227741, 0.07882063738434009, 0.3942225241380471, 0.2213548932325933, 0.07589310625117485, 0.17497577274576423, 0.1349210777798664, 0.1410963197270795, 0.10582223979530964, 0.20458966360426528, 0.38801487924946865, 0.16226076768614145, 0.21993408488369431, 0.18327840406974527, 0.06414744142441084, 0.3848846485464651, 0.13745880305230895, 0.0837890417182869, 0.8378904171828689, 0.9380897986043727, 0.8916362402576637, 0.8522820471538878, 0.8624104615437351, 0.08213432967083192, 0.04106716483541596, 0.08546669160067666, 0.8546669160067666, 0.12027722307311649, 0.18041583460967472, 0.030069305768279122, 0.6615247269021407, 0.7581976390442593, 0.11664579062219374, 0.05832289531109687, 0.05832289531109687, 0.3156165745044025, 0.27975105467435674, 0.014346207932018296, 0.06455793569408233, 0.3227896784704116, 0.8592199582091035, 0.08848831711791483, 0.752150695502276, 0.17697663423582966, 0.13847088675333516, 0.8308253205200109, 0.10906450834240246, 0.6325741483859343, 0.1635967625136037, 0.010906450834240246, 0.07634515583968172, 0.23787149107808314, 0.39878455857208056, 0.21688283010060522, 0.06996220325825975, 0.0839546439099117, 0.8632538130781999, 0.8997326167999674, 0.9711425799313473, 0.9034050532890494, 0.06548883681174612, 0.2685042309281591, 0.03274441840587306, 0.46497074136339744, 0.1637220920293653, 0.21228475775699462, 0.6368542732709839, 0.08255518357216458, 0.07076158591899821, 0.906453235764975, 0.9004895209796571, 0.10382271256499083, 0.06921514170999389, 0.23533148181397923, 0.17303785427498472, 0.4222123644309627, 0.940996367590757, 0.10425992179212704, 0.05212996089606352, 0.05212996089606352, 0.7819494134409527, 0.9303160586415421, 0.48368623925319965, 0.32245749283546643, 0.11286012249241326, 0.03224574928354664, 0.048368623925319966, 0.8696617713921021, 0.9254891320154304, 0.929953428337633, 0.11789819327025794, 0.18339718953151235, 0.013099799252250882, 0.6811895611170459, 0.013099799252250882, 0.3914092742036001, 0.1262610561947097, 0.2651482180088904, 0.11994800338497423, 0.09469579214603228, 0.14794630583392554, 0.290202369135777, 0.11380485064148119, 0.3357243093923695, 0.11380485064148119, 0.11533851885324033, 0.08650388913993025, 0.02883462971331008, 0.2595116674197907, 0.5190233348395814, 0.8890577870829136, 0.17312761279606093, 0.0906858924169843, 0.16213538341218406, 0.45617751943089074, 0.11816646587667651, 0.22258333037501585, 0.20004324628640666, 0.1634156096424167, 0.17186814117564514, 0.24512341446362504, 0.6751691472091822, 0.025006264711451193, 0.025006264711451193, 0.15003758826870717, 0.10002505884580477, 0.822517343683121, 0.12654112979740323, 0.05565439972500766, 0.4174079979375574, 0.3756671981438017, 0.0973951995187634, 0.06261119969063361, 0.8949986665250113, 0.8410018409926567, 0.1640486333804729, 0.16642614980627685, 0.1426509855482373, 0.42082040736730003, 0.10461072273537403, 0.045047735790033114, 0.22523867895016556, 0.09009547158006623, 0.6306683010604636, 0.817289204943949, 0.037149509315634044, 0.11144852794690213, 0.8705275768333032, 0.13130235842465265, 0.12254886786300916, 0.590860612910937, 0.004376745280821755, 0.14880933954793968, 0.84627164318537, 0.084627164318537, 0.8844520527806717, 0.8763489806085953, 0.8763238231328203, 0.1565237157716609, 0.022360530824522988, 0.6037343322621207, 0.22360530824522987, 0.8841517688071606, 0.014444177240936655, 0.4549915830895046, 0.06499879758421495, 0.46943576033044127, 0.9170925644049892, 0.8969841768758183, 0.1130552447928391, 0.8592198604255771, 0.022611048958567817, 0.03476413415772711, 0.26942203972238515, 0.11298343601261313, 0.4345516769715889, 0.156438603709772, 0.6024374320191951, 0.29307766963095977, 0.016282092757275542, 0.016282092757275542, 0.06512837102910217, 0.9384411434855628, 0.028515315880198847, 0.8839747922861643, 0.08554594764059653, 0.8525532420441198, 0.9258050152224023, 0.8706679528429246, 0.21214181160753914, 0.18447114052829489, 0.17524758350188016, 0.41506006618866353, 0.009223557026414746, 0.6777319434488223, 0.19836056881428946, 0.06612018960476315, 0.049590142203572364, 0.2827557516705635, 0.20066537215330313, 0.009121153279695596, 0.2371499852720855, 0.2645134451111723, 0.06741910617349907, 0.18299471675664034, 0.5104589467422073, 0.18781036719760455, 0.04815650440964219, 0.34997507426752633, 0.43017769545383444, 0.10207606332802852, 0.036455736902867325, 0.08749376856688158, 0.2578256431358664, 0.6230786375783438, 0.107427351306611, 0.904830785881331, 0.8969295254715153, 0.12010400213115242, 0.3469671172677737, 0.20017333688525404, 0.3336222281420901, 0.8328174599750691, 0.8189335861978624, 0.34969273138088763, 0.06556738713391644, 0.5682506884939424, 0.021855795711305477, 0.9146755130397901, 0.878887192881086, 0.9583559059547625, 0.12208035998681098, 0.6348178719314171, 0.09766428798944879, 0.024416071997362197, 0.12208035998681098, 0.05545755570076401, 0.11091511140152802, 0.8318633355114601, 0.9096812020914028, 0.8611426633184527, 0.8535558975936227, 0.8323258831252832, 0.9479913910873228, 0.02651102270717483, 0.005302204541434966, 0.9650012265411638, 0.9323420857525935, 0.07644537317096944, 0.6370447764247453, 0.050963582113979625, 0.025481791056989812, 0.2038543284559185, 0.9411756229242816, 0.8873342464101843, 0.12644197511193833, 0.15805246888992291, 0.6954308631156608, 0.18680007577668575, 0.131858877018837, 0.48348254906906907, 0.021976479503139502, 0.17581183602511602, 0.7714394847101596, 0.8380521986524454, 0.8890575562859958, 0.054872393922802604, 0.1646171817684078, 0.7133411209964339, 0.0823085908842039, 0.9363645164072654, 0.685741601822642, 0.0685741601822642, 0.2400095606379247, 0.01826384570495629, 0.09131922852478144, 0.054791537114868866, 0.36527691409912577, 0.4931238340338198, 0.8676549896622281, 0.42055996990259154, 0.08537683599526294, 0.2687789281332352, 0.21502314250658813, 0.011067367629015567, 0.19184125824898515, 0.6234840893092017, 0.11990078640561572, 0.023980157281123144, 0.023980157281123144, 0.8726357542053674, 0.08726357542053674, 0.8573627538771622, 0.3911591722469278, 0.10204152319485074, 0.13605536425980097, 0.3458073841603275, 0.022675894043300164, 0.1415484667043067, 0.31342874770239343, 0.3842029810545468, 0.09099544288134004, 0.07077423335215335, 0.5241035647423372, 0.11151139675368876, 0.06690683805221326, 0.21187165383200865, 0.08920911740295101, 0.9083681055326129, 0.265446426222301, 0.6825765245716312, 0.03792091803175729, 0.8916358502817608, 0.47784033269463083, 0.3681720596171746, 0.1018348250004951, 0.04700068846176697, 0.8956506728959005, 0.08142278844508187, 0.032352474903740776, 0.1294098996149631, 0.08088118725935194, 0.19411484942244464, 0.5661683108154635, 0.06448743273940341, 0.6287524692091832, 0.2740715891424645, 0.032243716369701705, 0.8918263496210797, 0.0018780496017462018, 0.36621967234050934, 0.185926910572874, 0.4169270115876568, 0.028170744026193028, 0.7713474613487517, 0.15679894199230432, 0.16257574511833658, 0.2302468674518574, 0.1105845169840462, 0.3391808692570372, 0.8991590567268108, 0.3028538678609426, 0.08973447936620521, 0.11216809920775651, 0.4935396365141287, 0.005608404960387826, 0.01975054392108121, 0.0049376359802703025, 0.0049376359802703025, 0.9727142881132496, 0.17103533910230342, 0.2687698185893339, 0.5375396371786678, 0.8785747231964405, 0.09761941368849339, 0.055821562388029336, 0.8931449982084694, 0.014320866379114094, 0.2004921293075973, 0.5871555215436778, 0.014320866379114094, 0.1861712629284832, 0.8969843191162773, 0.25971368662319516, 0.7027546814509986, 0.015277275683717362, 0.015277275683717362, 0.030554551367434724, 0.48349526587157843, 0.0027432355510444164, 0.22974597739996988, 0.22906016851220878, 0.05486471102088833, 0.07968410615677933, 0.8765251677245726, 0.07968410615677933, 0.9585944007539843, 0.2981190159233957, 0.6601206781160904, 0.02129421542309969, 0.01739686164779993, 0.03479372329559986, 0.8524462207421967, 0.08698430823899966, 0.011337346901613766, 0.005668673450806883, 0.9863491804403975, 0.9179676394384461, 0.9368226141765551, 0.8916083327485809, 0.08916083327485809, 0.8840910191443038, 0.8976753958148129, 0.15129254034622538, 0.8321089719042397, 0.0839262907300144, 0.839262907300144, 0.09942887037750452, 0.8948598333975407, 0.010960630294962234, 0.005480315147481117, 0.98097641139912, 0.13976732710128784, 0.006873802972194483, 0.29099099248956645, 0.23600056871201058, 0.32765127500793706, 0.4303190911957828, 0.2607994492095653, 0.1173597521443044, 0.1173597521443044, 0.0782398347628696, 0.2646461804237895, 0.3743775235263364, 0.21946268620509377, 0.06454784888385111, 0.07745741866062132, 0.6614363667754036, 0.038908021575023745, 0.09727005393755936, 0.15563208630009498, 0.058362032362535614, 0.04006577302923893, 0.20032886514619466, 0.7211839145263008, 0.04151037608523334, 0.5811452651932668, 0.35283819672448347, 0.02075518804261667, 0.02075518804261667, 0.1011427161957808, 0.8597130876641369, 0.8965801030984841, 0.0815072820998622, 0.07888906967328758, 0.07888906967328758, 0.7888906967328758, 0.5910751346407083, 0.058575013342772896, 0.11182502547256642, 0.14377503275044257, 0.09052502062064902, 0.914138458583963, 0.6774429636064591, 0.11028141268012125, 0.11028141268012125, 0.10240416891725544, 0.5004599308091824, 0.18885280407893673, 0.1038690422434152, 0.11331168244736203, 0.09442640203946837, 0.04492559696156991, 0.9434375361929681, 0.9181378150802372, 0.5776990499725072, 0.16505687142071634, 0.16505687142071634, 0.010316054463794772, 0.08252843571035817, 0.16746356943040822, 0.15864969735512358, 0.11458033697870035, 0.2291606739574007, 0.32611326678553176, 0.2685858754769786, 0.07231158185918654, 0.5320066379640153, 0.04132090391953517, 0.08264180783907034, 0.8993437623462298, 0.8818862667135304, 0.8669284609018705, 0.6429205433061983, 0.07278345773277717, 0.07278345773277717, 0.09704461031036957, 0.12130576288796195, 0.8023112322401171, 0.017070451749789727, 0.06828180699915891, 0.06828180699915891, 0.034140903499579454, 0.014947507036370883, 0.8520079010731403, 0.10463254925459618, 0.029895014072741765, 0.12867559593756794, 0.4011650932171236, 0.310335260790605, 0.10596813783093831, 0.04541491621325928, 0.24049490065358933, 0.16032993376905955, 0.24940211919631486, 0.05344331125635318, 0.30284543045266804, 0.9557438397670562, 0.9258052221753287, 0.13629378872129566, 0.2985482991037905, 0.19470541245899378, 0.22066613412019295, 0.14278396913659544, 0.10877157215222182, 0.8701725772177745, 0.16176873559160693, 0.529424952845259, 0.0882374921408765, 0.2205937303521913], \"Term\": [\" \", \" \", \" \", \" \", \" \", \"1\", \"1\", \"1\", \"1\", \"1\", \"24\", \"3\", \"3\", \"3\", \"3\", \"3\", \"32\", \"60\", \"70\", \"a\", \"a\", \"a\", \"a\", \"aai\", \"aargau\", \"aargau\", \"abend\", \"abend\", \"abend\", \"abend\", \"abgelenkt\", \"abgelenkt\", \"abgelenkt\", \"abgelenkt\", \"abhol\", \"abk\", \"acht\", \"ahm\", \"ahnung\", \"ahnung\", \"akw\", \"allei\", \"allei\", \"allei\", \"allei\", \"allei\", \"allein\", \"allein\", \"allein\", \"allein\", \"allein\", \"alt\", \"alt\", \"alt\", \"alt\", \"alt\", \"andersdenk\", \"anfang\", \"anfang\", \"anfang\", \"anfang\", \"anfang\", \"angenehm\", \"angscht\", \"angscht\", \"angst\", \"angst\", \"angst\", \"angst\", \"angst\", \"annehm\", \"arcobello\", \"at\", \"aufmerksam\", \"auftret\", \"ausseh\", \"ausserd\", \"ausserd\", \"ava\", \"bar\", \"basl\", \"bau\", \"bau\", \"bau\", \"bau\", \"bau\", \"beeinfluss\", \"berlin\", \"berlin\", \"bess\", \"bess\", \"bess\", \"bess\", \"bess\", \"bevolker\", \"bevolker\", \"bevorzugt\", \"beweis\", \"beweis\", \"bi\", \"bi\", \"bi\", \"bild\", \"bild\", \"bild\", \"bild\", \"bild\", \"bill\", \"bisch\", \"blockiert\", \"blog\", \"brems\", \"bringt\", \"bringt\", \"bringt\", \"c\", \"c\", \"c\", \"c\", \"c\", \"cent\", \"clinton\", \"clinton\", \"clown\", \"clown\", \"clown\", \"dabei\", \"dabei\", \"dabei\", \"dabei\", \"dabei\", \"dank\", \"dank\", \"dank\", \"dank\", \"dank\", \"dasi\", \"dass\", \"dass\", \"dass\", \"dass\", \"dass\", \"davor\", \"davor\", \"davor\", \"davor\", \"demokrati\", \"depression\", \"depression\", \"depression\", \"depression\", \"depression\", \"design\", \"desweg\", \"desweg\", \"desweg\", \"desweg\", \"diffus\", \"digitalisier\", \"dusch\", \"ebenso\", \"echt\", \"echt\", \"echt\", \"echt\", \"eig\", \"eig\", \"eig\", \"eig\", \"eig\", \"einfach\", \"einfach\", \"einfach\", \"einfach\", \"einfach\", \"einsam\", \"einsam\", \"einsam\", \"einsam\", \"einsam\", \"end\", \"end\", \"end\", \"end\", \"end\", \"endlag\", \"entscheid\", \"entscheid\", \"entscheid\", \"erneut\", \"ernst\", \"ernst\", \"ernst\", \"erst\", \"erst\", \"erst\", \"erst\", \"erst\", \"ess\", \"ess\", \"ess\", \"ess\", \"exklusiv\", \"f\", \"f\", \"fall\", \"fall\", \"fall\", \"fall\", \"fall\", \"fcz\", \"fcz\", \"fcz\", \"fcz\", \"fett\", \"find\", \"find\", \"find\", \"find\", \"find\", \"findet\", \"findet\", \"findet\", \"findet\", \"findet\", \"flur\", \"frag\", \"frag\", \"frag\", \"frag\", \"frag\", \"franziska\", \"frau\", \"frau\", \"frau\", \"frau\", \"frau\", \"freiheit\", \"freiheit\", \"freiheit\", \"fress\", \"frohlich\", \"fuhl\", \"fuhl\", \"fuhl\", \"fuhl\", \"fuhl\", \"furchtbar\", \"furchtbar\", \"fussball\", \"fussball\", \"fussball\", \"ganz\", \"ganz\", \"ganz\", \"ganz\", \"ganz\", \"gebot\", \"gedank\", \"gedank\", \"gedank\", \"geh\", \"geh\", \"geh\", \"geh\", \"geh\", \"geht\", \"geht\", \"geht\", \"geht\", \"geht\", \"gekauft\", \"gekauft\", \"gekomm\", \"gekomm\", \"geld\", \"geld\", \"geld\", \"geld\", \"genferse\", \"genug\", \"genug\", \"genug\", \"genug\", \"gerad\", \"gerad\", \"gerad\", \"gerad\", \"gerad\", \"gewahlt\", \"gibt\", \"gibt\", \"gibt\", \"gibt\", \"gibt\", \"glarn\", \"glarn\", \"glarn\", \"glucklich\", \"glucklich\", \"glucklich\", \"grangett\", \"graubund\", \"grusel\", \"gut\", \"gut\", \"gut\", \"gut\", \"gut\", \"halb\", \"halb\", \"halt\", \"halt\", \"halt\", \"halt\", \"halt\", \"hangt\", \"haus\", \"haus\", \"haus\", \"heul\", \"heul\", \"heul\", \"heut\", \"heut\", \"heut\", \"heut\", \"heut\", \"hi\", \"hill\", \"hint\", \"hmm\", \"hoffent\", \"hoffent\", \"hoffent\", \"hoffnungslos\", \"hoffnungslos\", \"hoffnungslos\", \"hoffnungslos\", \"holz\", \"hor\", \"hor\", \"hor\", \"hor\", \"hor\", \"houellebecq\", \"huer\", \"i\", \"i\", \"i\", \"i\", \"i\", \"ich\", \"imm\", \"imm\", \"imm\", \"imm\", \"imm\", \"information\", \"insel\", \"insel\", \"interaction\", \"irgendwi\", \"irgendwi\", \"irgendwi\", \"irgendwi\", \"isch\", \"isch\", \"isch\", \"isch\", \"islam\", \"islam\", \"islam\", \"islam\", \"ist\", \"iwi\", \"iwi\", \"ja\", \"ja\", \"ja\", \"ja\", \"ja\", \"jahr\", \"jahr\", \"jahr\", \"jahr\", \"jahr\", \"jemand\", \"jemand\", \"jemand\", \"jemand\", \"jemand\", \"jesus\", \"jesus\", \"jonas\", \"kampfbetont\", \"kampft\", \"katz\", \"katz\", \"katz\", \"kauft\", \"kauft\", \"kei\", \"kei\", \"kei\", \"kei\", \"kenn\", \"kenn\", \"kenn\", \"kenn\", \"kind\", \"kind\", \"kind\", \"kind\", \"kind\", \"know\", \"kolleg\", \"kolleg\", \"kolleg\", \"kombination\", \"kombination\", \"komm\", \"komm\", \"komm\", \"komm\", \"komm\", \"kommt\", \"kommt\", \"kommt\", \"kommt\", \"kommt\", \"kritisch\", \"kuhlschrank\", \"kur\", \"lacheln\", \"lass\", \"lass\", \"lass\", \"lass\", \"lass\", \"lasst\", \"lasst\", \"lasst\", \"lasst\", \"last\", \"leadership\", \"leb\", \"leb\", \"leb\", \"leb\", \"leb\", \"lecjak\", \"ledig\", \"ledig\", \"ledig\", \"ledig\", \"leg\", \"leid\", \"leid\", \"leid\", \"leid\", \"leid\", \"leidenschaft\", \"lesebefehl\", \"let\", \"letzt\", \"letzt\", \"letzt\", \"letzt\", \"letzt\", \"leut\", \"leut\", \"leut\", \"leut\", \"leut\", \"lieb\", \"lieb\", \"lieb\", \"lieb\", \"lieb\", \"liegt\", \"liegt\", \"liegt\", \"liegt\", \"liegt\", \"lustvoll\", \"macht\", \"macht\", \"macht\", \"macht\", \"macht\", \"mal\", \"mal\", \"mal\", \"mal\", \"mal\", \"manchmal\", \"manchmal\", \"manchmal\", \"manchmal\", \"manchmal\", \"manisch\", \"manisch\", \"mann\", \"mann\", \"mann\", \"mann\", \"mann\", \"mark\", \"meer\", \"mehr\", \"mehr\", \"mehr\", \"mehr\", \"mehr\", \"mei\", \"mei\", \"mei\", \"mei\", \"meinung\", \"meinung\", \"meinung\", \"meisterwerk\", \"mensch\", \"mensch\", \"mensch\", \"mensch\", \"mensch\", \"merkt\", \"merkt\", \"method\", \"michel\", \"mittag\", \"moglich\", \"moglich\", \"moglich\", \"moglich\", \"monsch\", \"morg\", \"morg\", \"morg\", \"morg\", \"mull\", \"muntwil\", \"musik\", \"musik\", \"musik\", \"muss\", \"muss\", \"muss\", \"muss\", \"muss\", \"musst\", \"musst\", \"musst\", \"musst\", \"musst\", \"mutmass\", \"mutt\", \"mutt\", \"mutt\", \"mutz\", \"naidoo\", \"naturschutzgebiet\", \"ne\", \"ne\", \"ne\", \"ne\", \"ne\", \"nehm\", \"nehm\", \"nehm\", \"nehm\", \"nein\", \"nein\", \"nein\", \"nein\", \"nein\", \"neu\", \"neu\", \"neu\", \"neu\", \"neu\", \"nie\", \"nie\", \"nie\", \"nie\", \"nie\", \"no\", \"no\", \"no\", \"now\", \"nunmal\", \"o\", \"o\", \"o\", \"o\", \"old\", \"panisch\", \"passiert\", \"passiert\", \"passiert\", \"passiert\", \"peinlich\", \"pfleg\", \"playing\", \"polizei\", \"polizei\", \"polizei\", \"polizei\", \"polizei\", \"problem\", \"problem\", \"problem\", \"propaganda\", \"prozent\", \"puck\", \"putsch\", \"q\", \"radio\", \"radio\", \"radio\", \"ratgeb\", \"reicht\", \"reicht\", \"reicht\", \"reicht\", \"reicht\", \"reinkniet\", \"roth\", \"sach\", \"sach\", \"sach\", \"sag\", \"sag\", \"sag\", \"sag\", \"sag\", \"samtlich\", \"satz\", \"scbehcb\", \"schad\", \"schad\", \"schad\", \"schad\", \"scheib\", \"scheint\", \"scheint\", \"scheint\", \"scheiss\", \"scheiss\", \"scheiss\", \"scheiss\", \"scheiss\", \"schlaft\", \"schon\", \"schon\", \"schon\", \"schon\", \"schon\", \"schuld\", \"schuld\", \"schuld\", \"schuld\", \"schuld\", \"schurt\", \"schurt\", \"schwein\", \"schweiz\", \"schweiz\", \"schweiz\", \"schweiz\", \"schweiz\", \"seit\", \"seit\", \"seit\", \"seit\", \"seit\", \"selbstmord\", \"selbstmord\", \"selbstmord\", \"selbstmord\", \"selbstmord\", \"selbstvertrau\", \"sorg\", \"sorg\", \"sorg\", \"spamm\", \"spiel\", \"spiel\", \"spiel\", \"spiel\", \"sprach\", \"sprach\", \"srfarena\", \"srfarena\", \"srfarena\", \"srfarena\", \"srfarena\", \"steht\", \"steht\", \"steht\", \"steht\", \"stream\", \"stress\", \"stress\", \"stress\", \"stress\", \"stress\", \"stuttgart\", \"sucht\", \"sucht\", \"sucht\", \"sucht\", \"sucht\", \"swisscom\", \"tag\", \"tag\", \"tag\", \"tag\", \"tag\", \"team\", \"team\", \"team\", \"team\", \"terror\", \"terror\", \"terror\", \"tierheim\", \"tierheim\", \"tobl\", \"tobl\", \"toll\", \"toll\", \"toll\", \"toll\", \"toll\", \"toooor\", \"tor\", \"tor\", \"tor\", \"tor\", \"tor\", \"traurig\", \"traurig\", \"traurig\", \"traurig\", \"traurig\", \"turkei\", \"turkei\", \"turkei\", \"twdbeirtl2\", \"tweet\", \"tweet\", \"tweet\", \"twitt\", \"twitt\", \"twitt\", \"twitt\", \"uahid\", \"uahid\", \"uahid\", \"uberfall\", \"uberleg\", \"unsich\", \"unsich\", \"unt\", \"unterschied\", \"unterstutzt\", \"unterstutzt\", \"verbreit\", \"verbreit\", \"vergibt\", \"vergibt\", \"verstark\", \"verstark\", \"verstark\", \"verwirrt\", \"verwirrt\", \"verwirrt\", \"verwirrt\", \"verwirrt\", \"verzweifelt\", \"verzweifelt\", \"verzweifelt\", \"verzweifelt\", \"verzweifelt\", \"viel\", \"viel\", \"viel\", \"viel\", \"viel\", \"vielleicht\", \"vielleicht\", \"vielleicht\", \"vielleicht\", \"vielleicht\", \"vollig\", \"vollig\", \"vollig\", \"vorbei\", \"vorbei\", \"vorbei\", \"vorbei\", \"vorbei\", \"vorm\", \"vorm\", \"vs\", \"vs\", \"wach\", \"wach\", \"wach\", \"war\", \"war\", \"war\", \"war\", \"war\", \"wartet\", \"warum\", \"warum\", \"warum\", \"warum\", \"weiss\", \"weiss\", \"weiss\", \"weiss\", \"weiss\", \"weisst\", \"weisst\", \"weiterbild\", \"welt\", \"welt\", \"welt\", \"welt\", \"welt\", \"wenig\", \"wenig\", \"wenig\", \"wenig\", \"wenig\", \"wer\", \"wer\", \"wer\", \"wer\", \"wer\", \"wifi\", \"wild\", \"wint\", \"wirklich\", \"wirklich\", \"wirklich\", \"wirklich\", \"wirklich\", \"wiss\", \"wiss\", \"wiss\", \"wiss\", \"wiss\", \"woch\", \"woch\", \"woch\", \"woch\", \"wohl\", \"wohl\", \"wohl\", \"wohl\", \"wohl\", \"wurd\", \"wurd\", \"wurd\", \"wurd\", \"wurd\", \"x3\", \"xavi\", \"xd\", \"xd\", \"xd\", \"xd\", \"xd\", \"zustand\", \"zustand\", \"zwei\", \"zwei\", \"zwei\", \"zwei\"]}, \"R\": 30, \"lambda.step\": 0.01, \"plot.opts\": {\"xlab\": \"PC1\", \"ylab\": \"PC2\"}, \"topic.order\": [4, 2, 5, 3, 1]};\n",
       "\n",
       "function LDAvis_load_lib(url, callback){\n",
       "  var s = document.createElement('script');\n",
       "  s.src = url;\n",
       "  s.async = true;\n",
       "  s.onreadystatechange = s.onload = callback;\n",
       "  s.onerror = function(){console.warn(\"failed to load library \" + url);};\n",
       "  document.getElementsByTagName(\"head\")[0].appendChild(s);\n",
       "}\n",
       "\n",
       "if(typeof(LDAvis) !== \"undefined\"){\n",
       "   // already loaded: just create the visualization\n",
       "   !function(LDAvis){\n",
       "       new LDAvis(\"#\" + \"ldavis_el2922456265992489193043262\", ldavis_el2922456265992489193043262_data);\n",
       "   }(LDAvis);\n",
       "}else if(typeof define === \"function\" && define.amd){\n",
       "   // require.js is available: use it to load d3/LDAvis\n",
       "   require.config({paths: {d3: \"https://cdnjs.cloudflare.com/ajax/libs/d3/3.5.5/d3.min\"}});\n",
       "   require([\"d3\"], function(d3){\n",
       "      window.d3 = d3;\n",
       "      LDAvis_load_lib(\"https://cdn.rawgit.com/bmabey/pyLDAvis/files/ldavis.v1.0.0.js\", function(){\n",
       "        new LDAvis(\"#\" + \"ldavis_el2922456265992489193043262\", ldavis_el2922456265992489193043262_data);\n",
       "      });\n",
       "    });\n",
       "}else{\n",
       "    // require.js not available: dynamically load d3 & LDAvis\n",
       "    LDAvis_load_lib(\"https://cdnjs.cloudflare.com/ajax/libs/d3/3.5.5/d3.min.js\", function(){\n",
       "         LDAvis_load_lib(\"https://cdn.rawgit.com/bmabey/pyLDAvis/files/ldavis.v1.0.0.js\", function(){\n",
       "                 new LDAvis(\"#\" + \"ldavis_el2922456265992489193043262\", ldavis_el2922456265992489193043262_data);\n",
       "            })\n",
       "         });\n",
       "}\n",
       "</script>"
      ],
      "text/plain": [
       "<IPython.core.display.HTML object>"
      ]
     },
     "execution_count": 116,
     "metadata": {},
     "output_type": "execute_result"
    }
   ],
   "source": [
    "ger_dictionary = corpora.Dictionary(german_filtered_2)\n",
    "ger_dictionary.filter_extremes(no_below=3, no_above=.5)\n",
    "ger_texts = german_filtered_2.tolist()\n",
    "ger_corpus = [ger_dictionary.doc2bow(text) for text in ger_texts]\n",
    "\n",
    "ldamodel_2 = models.LdaMulticore(ger_corpus, id2word=ger_dictionary, num_topics=5, workers=3, iterations=100, passes=5)\n",
    "\n",
    "vis_data = pyLDAvis.gensim.prepare(ldamodel_2, ger_corpus, ger_dictionary)\n",
    "\n",
    "pyLDAvis.display(vis_data)"
   ]
  }
 ],
 "metadata": {
  "kernelspec": {
   "display_name": "Python 3",
   "language": "python",
   "name": "python3"
  },
  "language_info": {
   "codemirror_mode": {
    "name": "ipython",
    "version": 3
   },
   "file_extension": ".py",
   "mimetype": "text/x-python",
   "name": "python",
   "nbconvert_exporter": "python",
   "pygments_lexer": "ipython3",
   "version": "3.6.2"
  }
 },
 "nbformat": 4,
 "nbformat_minor": 2
}
