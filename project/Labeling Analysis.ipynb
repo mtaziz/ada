{
 "cells": [
  {
   "cell_type": "markdown",
   "metadata": {},
   "source": [
    "# Labeling analysis"
   ]
  },
  {
   "cell_type": "markdown",
   "metadata": {},
   "source": [
    "The main idea is that we labeled tweets for a supervised ML algo (which we didn't do, changed methodology in between). However, we still use our discoveries as a qualitative analysis of the dataset, allowing us to have a better approach of the data we are working with."
   ]
  },
  {
   "cell_type": "markdown",
   "metadata": {},
   "source": [
    "## First labeling :"
   ]
  },
  {
   "cell_type": "markdown",
   "metadata": {},
   "source": [
    "The 1st labeling we did was on a dataset that was already processed (cleaning + NLP + cross-validation with the dictionaries). This task is complicated as it is very subjective to choose tweets displaying mental health issues. During this labeling, we understood the necessity to \"expand\" our search to tweets showing signs of mental distress in general. "
   ]
  },
  {
   "cell_type": "markdown",
   "metadata": {},
   "source": [
    "### Key (qualitative) takeaways :"
   ]
  },
  {
   "cell_type": "markdown",
   "metadata": {},
   "source": [
    "- Tweets were labeled \"losely\" using multiple signs of mental distress, mostly sadness. Thus, tweets with the following specificities were labeled as showing mental distress: nostalgia (either for the past or simply for the end of a nice day), mention of sad activities (people who watched sad movies, listened to sad songs as this was most probably triggered by a previous feeling of sadness) or mention of being mad (either over other people like haters or, more often, mad with their families)\n",
    "- Some tweets mentioned the mental distress of other people (either how they helped them or raising awareness over these issues)\n",
    "- Some tweets showed desperation (a form of mental distress) over the \"way the world is\", these were not included.\n",
    "- Some tweets only included _\"motivational\"_ quotes. We can suppose that these reflect bad times. Nonetheless, these were not included as our previous assumption is a little far-fetched. Moreover, this could have messed with our model (they did not include specific words of our dictionary nor specific mentions to mental distress).\n",
    "- A lot of mental distress tweets are related to unilateral feelings. They are often messages specifically targeted at someone who most certainly doesn't know their existence (for example work collegues or college classmates).\n",
    "- Most tweets talking about depression or terrible low self-esteem show _« covert-humour »_, a coping technique used to hide ones self-deprecation. These tweets are very difficult to detect as they use sarcasm (which can not be perceived using current NLP techniques) and seldom use words from or dictionary.\n",
    "\n",
    "- Maybe include « unfortunately » in the dict ? Maybe « therapy » ?\n",
    "- Include « overthinking » in dict\n",
    "- Summer often means hurt (people are away like friends, maybe from uni or smthg)"
   ]
  },
  {
   "cell_type": "markdown",
   "metadata": {},
   "source": [
    "### Key (quantitative) takeaways :"
   ]
  },
  {
   "cell_type": "markdown",
   "metadata": {},
   "source": [
    "#### Possible dictionary modification  :\n",
    "\n",
    "Many words were not previously included in our dictionary but signaled tweets that clearly showed mental distress. 3 possible additions are the word _unfortunately_, _therapy_ and _overthinking_. As we can see, these words do not appear often but unlike other expressions, they are unique to tweets showing mental distress."
   ]
  },
  {
   "cell_type": "code",
   "execution_count": 69,
   "metadata": {
    "collapsed": false
   },
   "outputs": [
    {
     "data": {
      "text/html": [
       "<div>\n",
       "<style>\n",
       "    .dataframe thead tr:only-child th {\n",
       "        text-align: right;\n",
       "    }\n",
       "\n",
       "    .dataframe thead th {\n",
       "        text-align: left;\n",
       "    }\n",
       "\n",
       "    .dataframe tbody tr th {\n",
       "        vertical-align: top;\n",
       "    }\n",
       "</style>\n",
       "<table border=\"1\" class=\"dataframe\">\n",
       "  <thead>\n",
       "    <tr style=\"text-align: right;\">\n",
       "      <th></th>\n",
       "      <th>Unnamed: 0</th>\n",
       "      <th>author_gender</th>\n",
       "      <th>lang</th>\n",
       "      <th>main</th>\n",
       "      <th>mental</th>\n",
       "      <th>published</th>\n",
       "      <th>sentiment</th>\n",
       "      <th>source_followers</th>\n",
       "      <th>source_following</th>\n",
       "      <th>source_location</th>\n",
       "      <th>source_spam_probability</th>\n",
       "      <th>tags</th>\n",
       "      <th>split</th>\n",
       "    </tr>\n",
       "  </thead>\n",
       "  <tbody>\n",
       "    <tr>\n",
       "      <th>0</th>\n",
       "      <td>2350632</td>\n",
       "      <td>MALE</td>\n",
       "      <td>en</td>\n",
       "      <td>i am overwhelmed debatenight</td>\n",
       "      <td>0</td>\n",
       "      <td>2016-10-20 02:12:22</td>\n",
       "      <td>NEGATIVE</td>\n",
       "      <td>67</td>\n",
       "      <td>305</td>\n",
       "      <td>Geneva, Switzerland</td>\n",
       "      <td>0</td>\n",
       "      <td>['debatenight']</td>\n",
       "      <td>overwhelm debatenight</td>\n",
       "    </tr>\n",
       "    <tr>\n",
       "      <th>1</th>\n",
       "      <td>636041</td>\n",
       "      <td>FEMALE</td>\n",
       "      <td>en</td>\n",
       "      <td>andrus channeling his inner game 5 self ourmom...</td>\n",
       "      <td>0</td>\n",
       "      <td>2016-10-06 21:56:42</td>\n",
       "      <td>NEUTRAL</td>\n",
       "      <td>500</td>\n",
       "      <td>335</td>\n",
       "      <td>Switzerland</td>\n",
       "      <td>0</td>\n",
       "      <td>['BlueJays', 'OurMoment']</td>\n",
       "      <td>andrus channel inner game 5 self ourmoment blu...</td>\n",
       "    </tr>\n",
       "    <tr>\n",
       "      <th>2</th>\n",
       "      <td>1416543</td>\n",
       "      <td>FEMALE</td>\n",
       "      <td>en</td>\n",
       "      <td>im so stresseeeeed for my math exam</td>\n",
       "      <td>1</td>\n",
       "      <td>2016-05-13 11:19:56</td>\n",
       "      <td>NEUTRAL</td>\n",
       "      <td>-1</td>\n",
       "      <td>0</td>\n",
       "      <td>NaN</td>\n",
       "      <td>0</td>\n",
       "      <td>NaN</td>\n",
       "      <td>im stresseeee math exam</td>\n",
       "    </tr>\n",
       "    <tr>\n",
       "      <th>3</th>\n",
       "      <td>3567707</td>\n",
       "      <td>UNKNOWN</td>\n",
       "      <td>en</td>\n",
       "      <td>in other news water is wet and the sky is blue</td>\n",
       "      <td>0</td>\n",
       "      <td>2016-10-29 12:22:35</td>\n",
       "      <td>NEUTRAL</td>\n",
       "      <td>348</td>\n",
       "      <td>755</td>\n",
       "      <td>Zurich, Suisse</td>\n",
       "      <td>0</td>\n",
       "      <td>NaN</td>\n",
       "      <td>news water wet sky blue</td>\n",
       "    </tr>\n",
       "    <tr>\n",
       "      <th>4</th>\n",
       "      <td>3493707</td>\n",
       "      <td>FEMALE</td>\n",
       "      <td>en</td>\n",
       "      <td>its been a while he was overdue</td>\n",
       "      <td>1</td>\n",
       "      <td>2016-08-29 11:58:14</td>\n",
       "      <td>NEGATIVE</td>\n",
       "      <td>703</td>\n",
       "      <td>102</td>\n",
       "      <td>Switzerland</td>\n",
       "      <td>0</td>\n",
       "      <td>NaN</td>\n",
       "      <td>overdu</td>\n",
       "    </tr>\n",
       "  </tbody>\n",
       "</table>\n",
       "</div>"
      ],
      "text/plain": [
       "   Unnamed: 0 author_gender lang  \\\n",
       "0     2350632          MALE   en   \n",
       "1      636041        FEMALE   en   \n",
       "2     1416543        FEMALE   en   \n",
       "3     3567707       UNKNOWN   en   \n",
       "4     3493707        FEMALE   en   \n",
       "\n",
       "                                                main  mental  \\\n",
       "0                       i am overwhelmed debatenight       0   \n",
       "1  andrus channeling his inner game 5 self ourmom...       0   \n",
       "2                im so stresseeeeed for my math exam       1   \n",
       "3     in other news water is wet and the sky is blue       0   \n",
       "4                    its been a while he was overdue       1   \n",
       "\n",
       "             published sentiment  source_followers  source_following  \\\n",
       "0  2016-10-20 02:12:22  NEGATIVE                67               305   \n",
       "1  2016-10-06 21:56:42   NEUTRAL               500               335   \n",
       "2  2016-05-13 11:19:56   NEUTRAL                -1                 0   \n",
       "3  2016-10-29 12:22:35   NEUTRAL               348               755   \n",
       "4  2016-08-29 11:58:14  NEGATIVE               703               102   \n",
       "\n",
       "       source_location  source_spam_probability                       tags  \\\n",
       "0  Geneva, Switzerland                        0            ['debatenight']   \n",
       "1          Switzerland                        0  ['BlueJays', 'OurMoment']   \n",
       "2                  NaN                        0                        NaN   \n",
       "3       Zurich, Suisse                        0                        NaN   \n",
       "4          Switzerland                        0                        NaN   \n",
       "\n",
       "                                               split  \n",
       "0                              overwhelm debatenight  \n",
       "1  andrus channel inner game 5 self ourmoment blu...  \n",
       "2                            im stresseeee math exam  \n",
       "3                            news water wet sky blue  \n",
       "4                                             overdu  "
      ]
     },
     "execution_count": 69,
     "metadata": {},
     "output_type": "execute_result"
    }
   ],
   "source": [
    "import pandas as pd\n",
    "\n",
    "first_iter = pd.read_csv(\"label/labeled_english_1000.csv\")\n",
    "first_iter.head()"
   ]
  },
  {
   "cell_type": "code",
   "execution_count": 26,
   "metadata": {
    "collapsed": false,
    "scrolled": true
   },
   "outputs": [
    {
     "data": {
      "text/html": [
       "<div>\n",
       "<style>\n",
       "    .dataframe thead tr:only-child th {\n",
       "        text-align: right;\n",
       "    }\n",
       "\n",
       "    .dataframe thead th {\n",
       "        text-align: left;\n",
       "    }\n",
       "\n",
       "    .dataframe tbody tr th {\n",
       "        vertical-align: top;\n",
       "    }\n",
       "</style>\n",
       "<table border=\"1\" class=\"dataframe\">\n",
       "  <thead>\n",
       "    <tr style=\"text-align: right;\">\n",
       "      <th></th>\n",
       "      <th>Unnamed: 0</th>\n",
       "      <th>author_gender</th>\n",
       "      <th>lang</th>\n",
       "      <th>main</th>\n",
       "      <th>mental</th>\n",
       "      <th>published</th>\n",
       "      <th>sentiment</th>\n",
       "      <th>source_followers</th>\n",
       "      <th>source_following</th>\n",
       "      <th>source_location</th>\n",
       "      <th>source_spam_probability</th>\n",
       "      <th>tags</th>\n",
       "      <th>split</th>\n",
       "    </tr>\n",
       "  </thead>\n",
       "  <tbody>\n",
       "    <tr>\n",
       "      <th>417</th>\n",
       "      <td>570058</td>\n",
       "      <td>MALE</td>\n",
       "      <td>en</td>\n",
       "      <td>this is a sad story unfortunately a true one</td>\n",
       "      <td>1</td>\n",
       "      <td>2016-04-06 21:49:15</td>\n",
       "      <td>NEGATIVE</td>\n",
       "      <td>7</td>\n",
       "      <td>60</td>\n",
       "      <td>Switzerland</td>\n",
       "      <td>0</td>\n",
       "      <td>NaN</td>\n",
       "      <td>sad stori unfortun true one</td>\n",
       "    </tr>\n",
       "  </tbody>\n",
       "</table>\n",
       "</div>"
      ],
      "text/plain": [
       "     Unnamed: 0 author_gender lang  \\\n",
       "417      570058          MALE   en   \n",
       "\n",
       "                                                 main  mental  \\\n",
       "417      this is a sad story unfortunately a true one       1   \n",
       "\n",
       "               published sentiment  source_followers  source_following  \\\n",
       "417  2016-04-06 21:49:15  NEGATIVE                 7                60   \n",
       "\n",
       "    source_location  source_spam_probability tags                        split  \n",
       "417     Switzerland                        0  NaN  sad stori unfortun true one  "
      ]
     },
     "execution_count": 26,
     "metadata": {},
     "output_type": "execute_result"
    }
   ],
   "source": [
    "first_iter[first_iter['main'].map(lambda x: 'unfortunately' in x)]"
   ]
  },
  {
   "cell_type": "code",
   "execution_count": 27,
   "metadata": {
    "collapsed": false
   },
   "outputs": [
    {
     "data": {
      "text/html": [
       "<div>\n",
       "<style>\n",
       "    .dataframe thead tr:only-child th {\n",
       "        text-align: right;\n",
       "    }\n",
       "\n",
       "    .dataframe thead th {\n",
       "        text-align: left;\n",
       "    }\n",
       "\n",
       "    .dataframe tbody tr th {\n",
       "        vertical-align: top;\n",
       "    }\n",
       "</style>\n",
       "<table border=\"1\" class=\"dataframe\">\n",
       "  <thead>\n",
       "    <tr style=\"text-align: right;\">\n",
       "      <th></th>\n",
       "      <th>Unnamed: 0</th>\n",
       "      <th>author_gender</th>\n",
       "      <th>lang</th>\n",
       "      <th>main</th>\n",
       "      <th>mental</th>\n",
       "      <th>published</th>\n",
       "      <th>sentiment</th>\n",
       "      <th>source_followers</th>\n",
       "      <th>source_following</th>\n",
       "      <th>source_location</th>\n",
       "      <th>source_spam_probability</th>\n",
       "      <th>tags</th>\n",
       "      <th>split</th>\n",
       "    </tr>\n",
       "  </thead>\n",
       "  <tbody>\n",
       "    <tr>\n",
       "      <th>471</th>\n",
       "      <td>1281253</td>\n",
       "      <td>UNKNOWN</td>\n",
       "      <td>en</td>\n",
       "      <td>i forgot how much i hated therapy talks</td>\n",
       "      <td>1</td>\n",
       "      <td>2016-04-12 17:52:44</td>\n",
       "      <td>NEGATIVE</td>\n",
       "      <td>72</td>\n",
       "      <td>102</td>\n",
       "      <td>Lausanne</td>\n",
       "      <td>0</td>\n",
       "      <td>NaN</td>\n",
       "      <td>forgot much hate therapi talk</td>\n",
       "    </tr>\n",
       "  </tbody>\n",
       "</table>\n",
       "</div>"
      ],
      "text/plain": [
       "     Unnamed: 0 author_gender lang                                     main  \\\n",
       "471     1281253       UNKNOWN   en  i forgot how much i hated therapy talks   \n",
       "\n",
       "     mental            published sentiment  source_followers  \\\n",
       "471       1  2016-04-12 17:52:44  NEGATIVE                72   \n",
       "\n",
       "     source_following source_location  source_spam_probability tags  \\\n",
       "471               102        Lausanne                        0  NaN   \n",
       "\n",
       "                             split  \n",
       "471  forgot much hate therapi talk  "
      ]
     },
     "execution_count": 27,
     "metadata": {},
     "output_type": "execute_result"
    }
   ],
   "source": [
    "first_iter[first_iter['main'].map(lambda x: 'therapy' in x)]"
   ]
  },
  {
   "cell_type": "code",
   "execution_count": 28,
   "metadata": {
    "collapsed": false
   },
   "outputs": [
    {
     "data": {
      "text/html": [
       "<div>\n",
       "<style>\n",
       "    .dataframe thead tr:only-child th {\n",
       "        text-align: right;\n",
       "    }\n",
       "\n",
       "    .dataframe thead th {\n",
       "        text-align: left;\n",
       "    }\n",
       "\n",
       "    .dataframe tbody tr th {\n",
       "        vertical-align: top;\n",
       "    }\n",
       "</style>\n",
       "<table border=\"1\" class=\"dataframe\">\n",
       "  <thead>\n",
       "    <tr style=\"text-align: right;\">\n",
       "      <th></th>\n",
       "      <th>Unnamed: 0</th>\n",
       "      <th>author_gender</th>\n",
       "      <th>lang</th>\n",
       "      <th>main</th>\n",
       "      <th>mental</th>\n",
       "      <th>published</th>\n",
       "      <th>sentiment</th>\n",
       "      <th>source_followers</th>\n",
       "      <th>source_following</th>\n",
       "      <th>source_location</th>\n",
       "      <th>source_spam_probability</th>\n",
       "      <th>tags</th>\n",
       "      <th>split</th>\n",
       "    </tr>\n",
       "  </thead>\n",
       "  <tbody>\n",
       "    <tr>\n",
       "      <th>424</th>\n",
       "      <td>3275326</td>\n",
       "      <td>MALE</td>\n",
       "      <td>en</td>\n",
       "      <td>dont catch the wrong vibe overthinking</td>\n",
       "      <td>1</td>\n",
       "      <td>2016-10-27 02:05:25</td>\n",
       "      <td>NEGATIVE</td>\n",
       "      <td>1247</td>\n",
       "      <td>1007</td>\n",
       "      <td>SWITZERLAND</td>\n",
       "      <td>0</td>\n",
       "      <td>NaN</td>\n",
       "      <td>dont catch wrong vibe overthink</td>\n",
       "    </tr>\n",
       "    <tr>\n",
       "      <th>561</th>\n",
       "      <td>3347066</td>\n",
       "      <td>UNKNOWN</td>\n",
       "      <td>en</td>\n",
       "      <td>0202 overthinking</td>\n",
       "      <td>1</td>\n",
       "      <td>2016-08-28 00:02:39</td>\n",
       "      <td>NEUTRAL</td>\n",
       "      <td>287</td>\n",
       "      <td>88</td>\n",
       "      <td>lausanne</td>\n",
       "      <td>0</td>\n",
       "      <td>NaN</td>\n",
       "      <td>0202 overthink</td>\n",
       "    </tr>\n",
       "  </tbody>\n",
       "</table>\n",
       "</div>"
      ],
      "text/plain": [
       "     Unnamed: 0 author_gender lang                                    main  \\\n",
       "424     3275326          MALE   en  dont catch the wrong vibe overthinking   \n",
       "561     3347066       UNKNOWN   en                       0202 overthinking   \n",
       "\n",
       "     mental            published sentiment  source_followers  \\\n",
       "424       1  2016-10-27 02:05:25  NEGATIVE              1247   \n",
       "561       1  2016-08-28 00:02:39   NEUTRAL               287   \n",
       "\n",
       "     source_following source_location  source_spam_probability tags  \\\n",
       "424              1007     SWITZERLAND                        0  NaN   \n",
       "561                88        lausanne                        0  NaN   \n",
       "\n",
       "                               split  \n",
       "424  dont catch wrong vibe overthink  \n",
       "561                   0202 overthink  "
      ]
     },
     "execution_count": 28,
     "metadata": {},
     "output_type": "execute_result"
    }
   ],
   "source": [
    "first_iter[first_iter['main'].map(lambda x: 'overthinking' in x)]"
   ]
  },
  {
   "cell_type": "markdown",
   "metadata": {},
   "source": [
    "On the other hand, we have many words in our dictionary who maybe shouldn't be used. When looking at their appearance, we can see that they often show false positives. These words are : _hate_, _hurt_, _pain_, _addict_ and _overdose_"
   ]
  },
  {
   "cell_type": "code",
   "execution_count": 56,
   "metadata": {
    "collapsed": false
   },
   "outputs": [
    {
     "name": "stdout",
     "output_type": "stream",
     "text": [
      "Total appearance of 'hate':  190\n",
      "Tweets showing mental distress :  79\n",
      "Ratio :  0.415789473684\n"
     ]
    }
   ],
   "source": [
    "hate_count = first_iter[first_iter['split'].map(lambda x: 'hate' in x)]['split'].count()\n",
    "print(\"Total appearance of 'hate': \", hate_count)\n",
    "pos_hate_count = first_iter[first_iter['split'].map(lambda x: 'hate' in x) & first_iter['mental'] == 1]['split'].count()\n",
    "print(\"Tweets showing mental distress : \", pos_hate_count)\n",
    "print(\"Ratio : \", pos_hate_count/hate_count)"
   ]
  },
  {
   "cell_type": "code",
   "execution_count": 55,
   "metadata": {
    "collapsed": false
   },
   "outputs": [
    {
     "name": "stdout",
     "output_type": "stream",
     "text": [
      "Total appearance of 'hurt':  64\n",
      "Tweets showing mental distress :  29\n",
      "Ratio :  0.453125\n"
     ]
    }
   ],
   "source": [
    "hurt_count = first_iter[first_iter['split'].map(lambda x: 'hurt' in x)]['split'].count()\n",
    "print(\"Total appearance of 'hurt': \", hurt_count)\n",
    "pos_hurt_count = first_iter[first_iter['split'].map(lambda x: 'hurt' in x) & first_iter['mental'] == 1]['split'].count()\n",
    "print(\"Tweets showing mental distress : \", pos_hurt_count)\n",
    "print(\"Ratio : \", pos_hurt_count/hurt_count)"
   ]
  },
  {
   "cell_type": "code",
   "execution_count": 57,
   "metadata": {
    "collapsed": false
   },
   "outputs": [
    {
     "name": "stdout",
     "output_type": "stream",
     "text": [
      "Total appearance of 'pain':  77\n",
      "Tweets showing mental distress :  17\n",
      "Ratio :  0.220779220779\n"
     ]
    }
   ],
   "source": [
    "pain_count = first_iter[first_iter['split'].map(lambda x: 'pain' in x)]['split'].count()\n",
    "print(\"Total appearance of 'pain': \", pain_count)\n",
    "pos_pain_count = first_iter[first_iter['split'].map(lambda x: 'pain' in x) & first_iter['mental'] == 1]['split'].count()\n",
    "print(\"Tweets showing mental distress : \", pos_pain_count)\n",
    "print(\"Ratio : \", pos_pain_count/pain_count)"
   ]
  },
  {
   "cell_type": "code",
   "execution_count": 59,
   "metadata": {
    "collapsed": false
   },
   "outputs": [
    {
     "name": "stdout",
     "output_type": "stream",
     "text": [
      "Total appearance of 'addicted':  14\n",
      "Tweets showing mental distress :  3\n",
      "Ratio :  0.214285714286\n"
     ]
    }
   ],
   "source": [
    "addict_count = first_iter[first_iter['split'].map(lambda x: 'addict' in x)]['split'].count()\n",
    "print(\"Total appearance of 'addict': \", addict_count)\n",
    "pos_addict_count = first_iter[first_iter['split'].map(lambda x: 'addict' in x) & first_iter['mental'] == 1]['split'].count()\n",
    "print(\"Tweets showing mental distress : \", pos_addict_count)\n",
    "print(\"Ratio : \", pos_addict_count/addict_count)"
   ]
  },
  {
   "cell_type": "code",
   "execution_count": 61,
   "metadata": {
    "collapsed": false
   },
   "outputs": [
    {
     "name": "stdout",
     "output_type": "stream",
     "text": [
      "Total appearance of 'overdose':  4\n",
      "Tweets showing mental distress :  1\n",
      "Ratio :  0.25\n"
     ]
    }
   ],
   "source": [
    "overd_count = first_iter[first_iter['split'].map(lambda x: 'overd' in x)]['split'].count()\n",
    "print(\"Total appearance of 'overdose': \", overd_count)\n",
    "pos_overd_count = first_iter[first_iter['split'].map(lambda x: 'overd' in x) & first_iter['mental'] == 1]['split'].count()\n",
    "print(\"Tweets showing mental distress : \", pos_overd_count)\n",
    "print(\"Ratio : \", pos_overd_count/overd_count)"
   ]
  },
  {
   "cell_type": "markdown",
   "metadata": {},
   "source": [
    "When looking at the number, we see that more than half tweets containing these words are false positives, which pushes us to delete these words (while the words we want to add are very specific). For reasons we will see, below, the word _asylum_ should also be striked from our dictionary."
   ]
  },
  {
   "cell_type": "markdown",
   "metadata": {},
   "source": [
    "#### Negative dictionary creation :\n",
    "\n",
    "On top of having a dictionary of words which need to be included, some words need to be explicitly taken out as they represent topics that have nothing to do with mental distress. Most of these topics are specific to the year 2016 as they mention memorable events that happened.\n",
    "\n",
    "8 words in particular strike us : _overrated_, _india_, _overrated_, _gov_, _government_, _overwatch_, _vine_, _trump_, _hillary_. Moreover, another topic that should be striked out is Syria, topic containing itself many words: _syria_, _assad_, _refugee_ and so on. The word _asylum_ is solely used in this context and never in the context of mental health.\n",
    "\n",
    "_Note:_ as there are many words, we will only highlight 2 or 3 words to show how often they appear."
   ]
  },
  {
   "cell_type": "code",
   "execution_count": 81,
   "metadata": {
    "collapsed": false
   },
   "outputs": [
    {
     "name": "stdout",
     "output_type": "stream",
     "text": [
      "Total appearance of 'overwatch':  27\n"
     ]
    }
   ],
   "source": [
    "print(\"Total appearance of 'overwatch': \", first_iter[first_iter['split'].map(lambda x: 'overw' in x)]['split'].count())"
   ]
  },
  {
   "cell_type": "code",
   "execution_count": 82,
   "metadata": {
    "collapsed": false
   },
   "outputs": [
    {
     "name": "stdout",
     "output_type": "stream",
     "text": [
      "Total appearance of 'gov':  31\n"
     ]
    }
   ],
   "source": [
    "print(\"Total appearance of 'gov': \", first_iter[first_iter['split'].map(lambda x: 'gov' in x)]['split'].count())"
   ]
  },
  {
   "cell_type": "code",
   "execution_count": 83,
   "metadata": {
    "collapsed": false
   },
   "outputs": [
    {
     "name": "stdout",
     "output_type": "stream",
     "text": [
      "Total appearance of 'overwatch':  34\n"
     ]
    }
   ],
   "source": [
    "print(\"Total appearance of 'overwatch': \", first_iter[first_iter['split'].map(lambda x: 'syria' in x or 'assad' in x)]['split'].count())"
   ]
  },
  {
   "cell_type": "markdown",
   "metadata": {},
   "source": [
    "Another issue we encountered (which was due to our algorithm) was words containing parts of our dictionary words. The 2 main words which appeared in this context were _suicidesquad_ (containing _suicide_) and _spain_ (containing _pain_). Thus, we also decide to include them in the _\"negative\"_ (blacklist) dictionary."
   ]
  },
  {
   "cell_type": "markdown",
   "metadata": {
    "collapsed": true
   },
   "source": [
    "## Second labeling :"
   ]
  },
  {
   "cell_type": "markdown",
   "metadata": {},
   "source": [
    "This second analysis has been done on a different dataset. Instead of labeling only tweets previously labeled as \"NEUTRAL\" and \"NEGATIVE\", we apply our dictionary to the whole dataset to have more relevant results (and show that Spinn3r's labeling algorithm does not work as expected, even though only 1.4% of the tweets in our sample dataset are mislabeled)."
   ]
  },
  {
   "cell_type": "code",
   "execution_count": 4,
   "metadata": {
    "collapsed": false
   },
   "outputs": [
    {
     "data": {
      "text/html": [
       "<div>\n",
       "<style>\n",
       "    .dataframe thead tr:only-child th {\n",
       "        text-align: right;\n",
       "    }\n",
       "\n",
       "    .dataframe thead th {\n",
       "        text-align: left;\n",
       "    }\n",
       "\n",
       "    .dataframe tbody tr th {\n",
       "        vertical-align: top;\n",
       "    }\n",
       "</style>\n",
       "<table border=\"1\" class=\"dataframe\">\n",
       "  <thead>\n",
       "    <tr style=\"text-align: right;\">\n",
       "      <th></th>\n",
       "      <th>Unnamed: 0</th>\n",
       "      <th>main</th>\n",
       "      <th>mental</th>\n",
       "      <th>sentiment</th>\n",
       "      <th>author_gender</th>\n",
       "      <th>keywords</th>\n",
       "    </tr>\n",
       "  </thead>\n",
       "  <tbody>\n",
       "    <tr>\n",
       "      <th>0</th>\n",
       "      <td>1893905</td>\n",
       "      <td>@dyiicious @marrieletsgo the vo of s;g is one ...</td>\n",
       "      <td>NaN</td>\n",
       "      <td>POSITIVE</td>\n",
       "      <td>UNKNOWN</td>\n",
       "      <td>[['sad']]</td>\n",
       "    </tr>\n",
       "    <tr>\n",
       "      <th>1</th>\n",
       "      <td>1710839</td>\n",
       "      <td>i am so sad</td>\n",
       "      <td>1.0</td>\n",
       "      <td>NEGATIVE</td>\n",
       "      <td>FEMALE</td>\n",
       "      <td>[['sad']]</td>\n",
       "    </tr>\n",
       "    <tr>\n",
       "      <th>2</th>\n",
       "      <td>323788</td>\n",
       "      <td>@heatherpeace i'm so sad that i can't see you ...</td>\n",
       "      <td>NaN</td>\n",
       "      <td>NEUTRAL</td>\n",
       "      <td>FEMALE</td>\n",
       "      <td>[['sad']]</td>\n",
       "    </tr>\n",
       "    <tr>\n",
       "      <th>3</th>\n",
       "      <td>1692890</td>\n",
       "      <td>@gengiee don't i love this one she looks so sa...</td>\n",
       "      <td>NaN</td>\n",
       "      <td>NEGATIVE</td>\n",
       "      <td>UNKNOWN</td>\n",
       "      <td>[['sad']]</td>\n",
       "    </tr>\n",
       "    <tr>\n",
       "      <th>4</th>\n",
       "      <td>3904507</td>\n",
       "      <td>facebook updates could help understand — and p...</td>\n",
       "      <td>NaN</td>\n",
       "      <td>NEUTRAL</td>\n",
       "      <td>UNKNOWN</td>\n",
       "      <td>[['mental', 'health']]</td>\n",
       "    </tr>\n",
       "  </tbody>\n",
       "</table>\n",
       "</div>"
      ],
      "text/plain": [
       "   Unnamed: 0                                               main  mental  \\\n",
       "0     1893905  @dyiicious @marrieletsgo the vo of s;g is one ...     NaN   \n",
       "1     1710839                                        i am so sad     1.0   \n",
       "2      323788  @heatherpeace i'm so sad that i can't see you ...     NaN   \n",
       "3     1692890  @gengiee don't i love this one she looks so sa...     NaN   \n",
       "4     3904507  facebook updates could help understand — and p...     NaN   \n",
       "\n",
       "  sentiment author_gender                keywords  \n",
       "0  POSITIVE       UNKNOWN               [['sad']]  \n",
       "1  NEGATIVE        FEMALE               [['sad']]  \n",
       "2   NEUTRAL        FEMALE               [['sad']]  \n",
       "3  NEGATIVE       UNKNOWN               [['sad']]  \n",
       "4   NEUTRAL       UNKNOWN  [['mental', 'health']]  "
      ]
     },
     "execution_count": 4,
     "metadata": {},
     "output_type": "execute_result"
    }
   ],
   "source": [
    "import pandas as pd\n",
    "\n",
    "second_iter = pd.read_csv(\"labeledtweets/new_english_labeled.csv\")\n",
    "second_iter.head()"
   ]
  },
  {
   "cell_type": "code",
   "execution_count": 7,
   "metadata": {
    "collapsed": false
   },
   "outputs": [
    {
     "name": "stdout",
     "output_type": "stream",
     "text": [
      "Difference:  14\n"
     ]
    }
   ],
   "source": [
    "difference = second_iter[second_iter['sentiment'].map(lambda x: 'POSITIVE' in x) & second_iter['mental'] == 1]['main'].count()\n",
    "print(\"Difference: \", difference)"
   ]
  },
  {
   "cell_type": "markdown",
   "metadata": {},
   "source": [
    "### Key (qualitative) takeaways :"
   ]
  },
  {
   "cell_type": "markdown",
   "metadata": {},
   "source": [
    "Unlike the first pass on the data, this labeling does not include a thorough qualitative analysis. It only allowed us to improve our methodology and define open questions (one of which is the difference in emotional expression between the genders)."
   ]
  },
  {
   "cell_type": "markdown",
   "metadata": {},
   "source": [
    "### Key (quantitative) takeaways :\n",
    "\n",
    "Once again, we define 2 categories of keywords : those that need to be added to our dictionary and those who should be added to a \"blacklist\" ."
   ]
  },
  {
   "cell_type": "markdown",
   "metadata": {},
   "source": [
    "#### Dictionary additions :\n",
    "\n",
    "A very long list of words has been defined : _panic attack_, _sleepless_, _problems falling asleep_, _lonely and sad_, _confused and sad_, _gambling_, _breakdown_, and _mental issue_. As this is a very long list, we will only quantify some of them to show how important they are."
   ]
  },
  {
   "cell_type": "code",
   "execution_count": 16,
   "metadata": {
    "collapsed": false
   },
   "outputs": [
    {
     "name": "stdout",
     "output_type": "stream",
     "text": [
      "Total appearance of 'breakdown':  10\n"
     ]
    }
   ],
   "source": [
    "total_bd = second_iter[second_iter['main'].map(lambda x: 'breakdown' in x or 'break down' in x)]['main'].count()\n",
    "print(\"Total appearance of 'breakdown': \", total_bd)"
   ]
  },
  {
   "cell_type": "code",
   "execution_count": 24,
   "metadata": {
    "collapsed": false
   },
   "outputs": [
    {
     "name": "stdout",
     "output_type": "stream",
     "text": [
      "Total appearance of 'breakdown':  7\n"
     ]
    }
   ],
   "source": [
    "total_bd = second_iter[second_iter['main'].map(lambda x: ('confused' in x or 'lonely' in x) and 'sad' in x)]['main'].count()\n",
    "print(\"Total appearance of the expressions involving 'sad' : \", total_bd)"
   ]
  },
  {
   "cell_type": "markdown",
   "metadata": {},
   "source": [
    "#### Blacklist : \n",
    "\n",
    "Once again, we found that the word _asylum_ and the words with the radical _\"addict\"_ should not be included in our dictionary. Moreover, we found that tweets with the following words should not be included in our final set : _sadly_, _not afraid_, _stress relief_ and _Sonic Mania_. Once again, we will show our findings using 2 words."
   ]
  },
  {
   "cell_type": "code",
   "execution_count": 25,
   "metadata": {
    "collapsed": false
   },
   "outputs": [
    {
     "name": "stdout",
     "output_type": "stream",
     "text": [
      "Total appearance of 'sadly':  81\n",
      "Tweets showing mental distress :  2\n",
      "Ratio :  0.0246913580247\n"
     ]
    }
   ],
   "source": [
    "sadly_count = second_iter[second_iter['main'].map(lambda x: 'sadly' in x)]['main'].count()\n",
    "print(\"Total appearance of 'sadly': \", sadly_count)\n",
    "pos_sadly_count = second_iter[second_iter['main'].map(lambda x: 'sadly' in x) & second_iter['mental'] == 1]['main'].count()\n",
    "print(\"Tweets showing mental distress : \", pos_sadly_count)\n",
    "print(\"Ratio : \", pos_sadly_count/sadly_count)"
   ]
  },
  {
   "cell_type": "code",
   "execution_count": 36,
   "metadata": {
    "collapsed": false
   },
   "outputs": [
    {
     "name": "stdout",
     "output_type": "stream",
     "text": [
      "Total appearance of 'sadly':  3\n",
      "Tweets showing mental distress :  0\n",
      "Ratio :  0.0\n"
     ]
    }
   ],
   "source": [
    "sm_count = second_iter[second_iter['main'].map(lambda x: 'sonic' in x and 'mania' in x)]['main'].count()\n",
    "print(\"Total appearance of 'sadly': \", sm_count)\n",
    "pos_sm_count = second_iter[second_iter['main'].map(lambda x: 'sonic' in x and 'mania' in x) & second_iter['mental'] == 1]['main'].count()\n",
    "print(\"Tweets showing mental distress : \", pos_sm_count)\n",
    "print(\"Ratio : \", pos_sm_count/sm_count)"
   ]
  },
  {
   "cell_type": "markdown",
   "metadata": {},
   "source": [
    "Even though this second expression is not very used, it can be affiliated with words previously seen as being \"contextual\" (to the year 2016). Another explanation is the presence of the word _'Sonic'_ along with _'mania'_, which is a word necessary to include in our dictionary."
   ]
  }
 ],
 "metadata": {
  "anaconda-cloud": {},
  "kernelspec": {
   "display_name": "Python [conda root]",
   "language": "python",
   "name": "conda-root-py"
  },
  "language_info": {
   "codemirror_mode": {
    "name": "ipython",
    "version": 3
   },
   "file_extension": ".py",
   "mimetype": "text/x-python",
   "name": "python",
   "nbconvert_exporter": "python",
   "pygments_lexer": "ipython3",
   "version": "3.5.2"
  }
 },
 "nbformat": 4,
 "nbformat_minor": 1
}
