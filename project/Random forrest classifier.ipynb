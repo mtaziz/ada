{
 "cells": [
  {
   "cell_type": "code",
   "execution_count": 1,
   "metadata": {},
   "outputs": [],
   "source": [
    "#We import the same libraries as in the \n",
    "import pandas as pd\n",
    "import numpy as np\n",
    "import seaborn as sns\n",
    "import matplotlib.pyplot as plt\n",
    "\n",
    "from sklearn.linear_model import LinearRegression, LogisticRegression\n",
    "from pandas.plotting import scatter_matrix\n",
    "from sklearn.model_selection import cross_val_predict, cross_val_score, train_test_split, GridSearchCV, PredefinedSplit\n",
    "\n",
    "from sklearn.datasets import fetch_20newsgroups\n",
    "from sklearn.feature_extraction.text import TfidfVectorizer\n",
    "from sklearn.ensemble import RandomForestClassifier\n",
    "from sklearn import metrics\n",
    "\n",
    "%matplotlib inline"
   ]
  },
  {
   "cell_type": "code",
   "execution_count": 2,
   "metadata": {},
   "outputs": [],
   "source": [
    "# create the TF-IDF vectorizer\n",
    "tfidf = TfidfVectorizer()"
   ]
  },
  {
   "cell_type": "code",
   "execution_count": 4,
   "metadata": {},
   "outputs": [],
   "source": [
    "data = pd.read_csv('labeled_english_1000.csv')"
   ]
  },
  {
   "cell_type": "code",
   "execution_count": 5,
   "metadata": {},
   "outputs": [
    {
     "data": {
      "text/html": [
       "<div>\n",
       "<style>\n",
       "    .dataframe thead tr:only-child th {\n",
       "        text-align: right;\n",
       "    }\n",
       "\n",
       "    .dataframe thead th {\n",
       "        text-align: left;\n",
       "    }\n",
       "\n",
       "    .dataframe tbody tr th {\n",
       "        vertical-align: top;\n",
       "    }\n",
       "</style>\n",
       "<table border=\"1\" class=\"dataframe\">\n",
       "  <thead>\n",
       "    <tr style=\"text-align: right;\">\n",
       "      <th></th>\n",
       "      <th>Unnamed: 0</th>\n",
       "      <th>author_gender</th>\n",
       "      <th>lang</th>\n",
       "      <th>main</th>\n",
       "      <th>mental</th>\n",
       "      <th>published</th>\n",
       "      <th>sentiment</th>\n",
       "      <th>source_followers</th>\n",
       "      <th>source_following</th>\n",
       "      <th>source_location</th>\n",
       "      <th>source_spam_probability</th>\n",
       "      <th>tags</th>\n",
       "      <th>split</th>\n",
       "    </tr>\n",
       "  </thead>\n",
       "  <tbody>\n",
       "    <tr>\n",
       "      <th>0</th>\n",
       "      <td>2350632</td>\n",
       "      <td>MALE</td>\n",
       "      <td>en</td>\n",
       "      <td>i am overwhelmed debatenight</td>\n",
       "      <td>0</td>\n",
       "      <td>2016-10-20 02:12:22</td>\n",
       "      <td>NEGATIVE</td>\n",
       "      <td>67</td>\n",
       "      <td>305</td>\n",
       "      <td>Geneva, Switzerland</td>\n",
       "      <td>0</td>\n",
       "      <td>['debatenight']</td>\n",
       "      <td>overwhelm debatenight</td>\n",
       "    </tr>\n",
       "    <tr>\n",
       "      <th>1</th>\n",
       "      <td>636041</td>\n",
       "      <td>FEMALE</td>\n",
       "      <td>en</td>\n",
       "      <td>andrus channeling his inner game 5 self ourmom...</td>\n",
       "      <td>0</td>\n",
       "      <td>2016-10-06 21:56:42</td>\n",
       "      <td>NEUTRAL</td>\n",
       "      <td>500</td>\n",
       "      <td>335</td>\n",
       "      <td>Switzerland</td>\n",
       "      <td>0</td>\n",
       "      <td>['BlueJays', 'OurMoment']</td>\n",
       "      <td>andrus channel inner game 5 self ourmoment blu...</td>\n",
       "    </tr>\n",
       "    <tr>\n",
       "      <th>2</th>\n",
       "      <td>1416543</td>\n",
       "      <td>FEMALE</td>\n",
       "      <td>en</td>\n",
       "      <td>im so stresseeeeed for my math exam</td>\n",
       "      <td>1</td>\n",
       "      <td>2016-05-13 11:19:56</td>\n",
       "      <td>NEUTRAL</td>\n",
       "      <td>-1</td>\n",
       "      <td>0</td>\n",
       "      <td>NaN</td>\n",
       "      <td>0</td>\n",
       "      <td>NaN</td>\n",
       "      <td>im stresseeee math exam</td>\n",
       "    </tr>\n",
       "    <tr>\n",
       "      <th>3</th>\n",
       "      <td>3567707</td>\n",
       "      <td>UNKNOWN</td>\n",
       "      <td>en</td>\n",
       "      <td>in other news water is wet and the sky is blue</td>\n",
       "      <td>0</td>\n",
       "      <td>2016-10-29 12:22:35</td>\n",
       "      <td>NEUTRAL</td>\n",
       "      <td>348</td>\n",
       "      <td>755</td>\n",
       "      <td>Zurich, Suisse</td>\n",
       "      <td>0</td>\n",
       "      <td>NaN</td>\n",
       "      <td>news water wet sky blue</td>\n",
       "    </tr>\n",
       "    <tr>\n",
       "      <th>4</th>\n",
       "      <td>3493707</td>\n",
       "      <td>FEMALE</td>\n",
       "      <td>en</td>\n",
       "      <td>its been a while he was overdue</td>\n",
       "      <td>1</td>\n",
       "      <td>2016-08-29 11:58:14</td>\n",
       "      <td>NEGATIVE</td>\n",
       "      <td>703</td>\n",
       "      <td>102</td>\n",
       "      <td>Switzerland</td>\n",
       "      <td>0</td>\n",
       "      <td>NaN</td>\n",
       "      <td>overdu</td>\n",
       "    </tr>\n",
       "  </tbody>\n",
       "</table>\n",
       "</div>"
      ],
      "text/plain": [
       "   Unnamed: 0 author_gender lang  \\\n",
       "0     2350632          MALE   en   \n",
       "1      636041        FEMALE   en   \n",
       "2     1416543        FEMALE   en   \n",
       "3     3567707       UNKNOWN   en   \n",
       "4     3493707        FEMALE   en   \n",
       "\n",
       "                                                main  mental  \\\n",
       "0                       i am overwhelmed debatenight       0   \n",
       "1  andrus channeling his inner game 5 self ourmom...       0   \n",
       "2                im so stresseeeeed for my math exam       1   \n",
       "3     in other news water is wet and the sky is blue       0   \n",
       "4                    its been a while he was overdue       1   \n",
       "\n",
       "             published sentiment  source_followers  source_following  \\\n",
       "0  2016-10-20 02:12:22  NEGATIVE                67               305   \n",
       "1  2016-10-06 21:56:42   NEUTRAL               500               335   \n",
       "2  2016-05-13 11:19:56   NEUTRAL                -1                 0   \n",
       "3  2016-10-29 12:22:35   NEUTRAL               348               755   \n",
       "4  2016-08-29 11:58:14  NEGATIVE               703               102   \n",
       "\n",
       "       source_location  source_spam_probability                       tags  \\\n",
       "0  Geneva, Switzerland                        0            ['debatenight']   \n",
       "1          Switzerland                        0  ['BlueJays', 'OurMoment']   \n",
       "2                  NaN                        0                        NaN   \n",
       "3       Zurich, Suisse                        0                        NaN   \n",
       "4          Switzerland                        0                        NaN   \n",
       "\n",
       "                                               split  \n",
       "0                              overwhelm debatenight  \n",
       "1  andrus channel inner game 5 self ourmoment blu...  \n",
       "2                            im stresseeee math exam  \n",
       "3                            news water wet sky blue  \n",
       "4                                             overdu  "
      ]
     },
     "execution_count": 5,
     "metadata": {},
     "output_type": "execute_result"
    }
   ],
   "source": [
    "data.head()"
   ]
  },
  {
   "cell_type": "code",
   "execution_count": 6,
   "metadata": {},
   "outputs": [],
   "source": [
    "X = tfidf.fit_transform(data.main)"
   ]
  },
  {
   "cell_type": "code",
   "execution_count": 39,
   "metadata": {},
   "outputs": [],
   "source": [
    "# Separate the training set\n",
    "y_train, y_inter, X_train, X_inter = \\\n",
    "    train_test_split(data.mental, X, test_size=0.2, random_state=1)\n",
    "\n",
    "# Get the testing and validation sets\n",
    "y_test, y_valid, X_test, X_valid = \\\n",
    "    train_test_split(y_inter, X_inter, test_size=0.5, random_state=1)"
   ]
  },
  {
   "cell_type": "code",
   "execution_count": 40,
   "metadata": {},
   "outputs": [
    {
     "data": {
      "text/plain": [
       "0.64262508122157247"
      ]
     },
     "execution_count": 40,
     "metadata": {},
     "output_type": "execute_result"
    }
   ],
   "source": [
    "clf = RandomForestClassifier(n_estimators=400, max_depth=50)\n",
    "clf.fit(X_train, y_train)\n",
    "pred = clf.predict(X_valid)\n",
    "metrics.f1_score(y_valid, pred, average='macro')"
   ]
  },
  {
   "cell_type": "code",
   "execution_count": 41,
   "metadata": {},
   "outputs": [],
   "source": [
    "pred_test = clf.predict(X_test)\n",
    "cm = metrics.confusion_matrix(y_test, pred_test)"
   ]
  },
  {
   "cell_type": "code",
   "execution_count": 42,
   "metadata": {},
   "outputs": [
    {
     "data": {
      "text/plain": [
       "array([[78,  3],\n",
       "       [16,  3]])"
      ]
     },
     "execution_count": 42,
     "metadata": {},
     "output_type": "execute_result"
    }
   ],
   "source": [
    "cm #confusion matrix"
   ]
  },
  {
   "cell_type": "markdown",
   "metadata": {},
   "source": [
    "doesn't really work"
   ]
  },
  {
   "cell_type": "markdown",
   "metadata": {},
   "source": [
    "# We try using SVM:"
   ]
  },
  {
   "cell_type": "code",
   "execution_count": 57,
   "metadata": {},
   "outputs": [
    {
     "data": {
      "text/plain": [
       "SVC(C=1.0, cache_size=200, class_weight=None, coef0=0.0,\n",
       "  decision_function_shape=None, degree=3, gamma='auto', kernel='rbf',\n",
       "  max_iter=-1, probability=False, random_state=None, shrinking=True,\n",
       "  tol=0.001, verbose=False)"
      ]
     },
     "execution_count": 57,
     "metadata": {},
     "output_type": "execute_result"
    }
   ],
   "source": [
    "from sklearn import svm\n",
    "clf = svm.SVC()\n",
    "y = data.mental\n",
    "clf.fit(X_train, y_train)  "
   ]
  },
  {
   "cell_type": "code",
   "execution_count": 58,
   "metadata": {},
   "outputs": [
    {
     "data": {
      "text/plain": [
       "0.71999999999999997"
      ]
     },
     "execution_count": 58,
     "metadata": {},
     "output_type": "execute_result"
    }
   ],
   "source": [
    "clf.score(X_valid, y_valid) #similar to if classifier just puts 0 everywhere"
   ]
  }
 ],
 "metadata": {
  "kernelspec": {
   "display_name": "Python [default]",
   "language": "python",
   "name": "python3"
  },
  "language_info": {
   "codemirror_mode": {
    "name": "ipython",
    "version": 3
   },
   "file_extension": ".py",
   "mimetype": "text/x-python",
   "name": "python",
   "nbconvert_exporter": "python",
   "pygments_lexer": "ipython3",
   "version": "3.6.1"
  }
 },
 "nbformat": 4,
 "nbformat_minor": 2
}
