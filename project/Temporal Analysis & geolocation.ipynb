{
 "cells": [
  {
   "cell_type": "code",
   "execution_count": 1,
   "metadata": {},
   "outputs": [],
   "source": [
    "import numpy as np\n",
    "import pandas as pd\n",
    "import pyspark as ps\n",
    "import matplotlib.pyplot as plt\n",
    "import csv\n",
    "import seaborn as sns\n",
    "import unicodedata\n",
    "\n",
    "from nltk.corpus import stopwords\n",
    "from nltk.stem.snowball import SnowballStemmer"
   ]
  },
  {
   "cell_type": "markdown",
   "metadata": {},
   "source": [
    "In this notebook I look at the different temporal distribution.\n",
    "First look at emotion over time:"
   ]
  },
  {
   "cell_type": "code",
   "execution_count": 2,
   "metadata": {},
   "outputs": [],
   "source": [
    "df = pd.read_json('tweets.json', lines=True)"
   ]
  },
  {
   "cell_type": "code",
   "execution_count": 3,
   "metadata": {},
   "outputs": [
    {
     "data": {
      "text/html": [
       "<div>\n",
       "<style>\n",
       "    .dataframe thead tr:only-child th {\n",
       "        text-align: right;\n",
       "    }\n",
       "\n",
       "    .dataframe thead th {\n",
       "        text-align: left;\n",
       "    }\n",
       "\n",
       "    .dataframe tbody tr th {\n",
       "        vertical-align: top;\n",
       "    }\n",
       "</style>\n",
       "<table border=\"1\" class=\"dataframe\">\n",
       "  <thead>\n",
       "    <tr style=\"text-align: right;\">\n",
       "      <th></th>\n",
       "      <th>author_gender</th>\n",
       "      <th>author_user_id</th>\n",
       "      <th>geo_point</th>\n",
       "      <th>lang</th>\n",
       "      <th>main</th>\n",
       "      <th>published</th>\n",
       "      <th>sentiment</th>\n",
       "      <th>source_followers</th>\n",
       "      <th>source_following</th>\n",
       "      <th>source_location</th>\n",
       "      <th>source_spam_probability</th>\n",
       "      <th>tags</th>\n",
       "    </tr>\n",
       "  </thead>\n",
       "  <tbody>\n",
       "    <tr>\n",
       "      <th>0</th>\n",
       "      <td>FEMALE</td>\n",
       "      <td>NaN</td>\n",
       "      <td>NaN</td>\n",
       "      <td>fr</td>\n",
       "      <td>en espérant que 2016 soit meilleur que 2015 qu...</td>\n",
       "      <td>2016-01-01T00:30:04Z</td>\n",
       "      <td>NEUTRAL</td>\n",
       "      <td>80</td>\n",
       "      <td>140</td>\n",
       "      <td>Saint-Maurice</td>\n",
       "      <td>0</td>\n",
       "      <td>NaN</td>\n",
       "    </tr>\n",
       "    <tr>\n",
       "      <th>1</th>\n",
       "      <td>UNKNOWN</td>\n",
       "      <td>NaN</td>\n",
       "      <td>NaN</td>\n",
       "      <td>en</td>\n",
       "      <td>nice bmw ...he kills ant s!!!</td>\n",
       "      <td>2016-01-01T12:12:33Z</td>\n",
       "      <td>NEUTRAL</td>\n",
       "      <td>79</td>\n",
       "      <td>196</td>\n",
       "      <td>Hinwil</td>\n",
       "      <td>0</td>\n",
       "      <td>NaN</td>\n",
       "    </tr>\n",
       "    <tr>\n",
       "      <th>2</th>\n",
       "      <td>MALE</td>\n",
       "      <td>NaN</td>\n",
       "      <td>NaN</td>\n",
       "      <td>de</td>\n",
       "      <td>@madmenna ich hab nichts dagegen, wenn mir and...</td>\n",
       "      <td>2016-01-01T19:52:15Z</td>\n",
       "      <td>NEUTRAL</td>\n",
       "      <td>479</td>\n",
       "      <td>783</td>\n",
       "      <td>Schenkon</td>\n",
       "      <td>0</td>\n",
       "      <td>NaN</td>\n",
       "    </tr>\n",
       "    <tr>\n",
       "      <th>3</th>\n",
       "      <td>UNKNOWN</td>\n",
       "      <td>NaN</td>\n",
       "      <td>NaN</td>\n",
       "      <td>en</td>\n",
       "      <td>happy new jear!!!! i am back from 2 weeks cuba...</td>\n",
       "      <td>2016-01-01T11:58:03Z</td>\n",
       "      <td>NEUTRAL</td>\n",
       "      <td>79</td>\n",
       "      <td>196</td>\n",
       "      <td>Hinwil</td>\n",
       "      <td>0</td>\n",
       "      <td>NaN</td>\n",
       "    </tr>\n",
       "    <tr>\n",
       "      <th>4</th>\n",
       "      <td>UNKNOWN</td>\n",
       "      <td>NaN</td>\n",
       "      <td>NaN</td>\n",
       "      <td>fr</td>\n",
       "      <td>@megadriver16 bonne année à toi je prends beau...</td>\n",
       "      <td>2016-01-01T06:17:28Z</td>\n",
       "      <td>NEUTRAL</td>\n",
       "      <td>75</td>\n",
       "      <td>984</td>\n",
       "      <td>Bâle</td>\n",
       "      <td>0</td>\n",
       "      <td>NaN</td>\n",
       "    </tr>\n",
       "  </tbody>\n",
       "</table>\n",
       "</div>"
      ],
      "text/plain": [
       "  author_gender  author_user_id geo_point lang  \\\n",
       "0        FEMALE             NaN       NaN   fr   \n",
       "1       UNKNOWN             NaN       NaN   en   \n",
       "2          MALE             NaN       NaN   de   \n",
       "3       UNKNOWN             NaN       NaN   en   \n",
       "4       UNKNOWN             NaN       NaN   fr   \n",
       "\n",
       "                                                main             published  \\\n",
       "0  en espérant que 2016 soit meilleur que 2015 qu...  2016-01-01T00:30:04Z   \n",
       "1                    nice bmw ...he kills ant s!!!    2016-01-01T12:12:33Z   \n",
       "2  @madmenna ich hab nichts dagegen, wenn mir and...  2016-01-01T19:52:15Z   \n",
       "3  happy new jear!!!! i am back from 2 weeks cuba...  2016-01-01T11:58:03Z   \n",
       "4  @megadriver16 bonne année à toi je prends beau...  2016-01-01T06:17:28Z   \n",
       "\n",
       "  sentiment  source_followers  source_following source_location  \\\n",
       "0   NEUTRAL                80               140   Saint-Maurice   \n",
       "1   NEUTRAL                79               196          Hinwil   \n",
       "2   NEUTRAL               479               783        Schenkon   \n",
       "3   NEUTRAL                79               196          Hinwil   \n",
       "4   NEUTRAL                75               984            Bâle   \n",
       "\n",
       "   source_spam_probability tags  \n",
       "0                        0  NaN  \n",
       "1                        0  NaN  \n",
       "2                        0  NaN  \n",
       "3                        0  NaN  \n",
       "4                        0  NaN  "
      ]
     },
     "execution_count": 3,
     "metadata": {},
     "output_type": "execute_result"
    }
   ],
   "source": [
    "df.head()"
   ]
  },
  {
   "cell_type": "code",
   "execution_count": 4,
   "metadata": {},
   "outputs": [],
   "source": [
    "df['published'] = pd.to_datetime(df['published'])"
   ]
  },
  {
   "cell_type": "code",
   "execution_count": 5,
   "metadata": {},
   "outputs": [],
   "source": [
    "def get_time_distribution(times):\n",
    "    publishing_time = times.map(lambda x: x.hour).value_counts() / times.count()\n",
    "    publishing_time.sort_index(inplace=True)\n",
    "    return publishing_time"
   ]
  },
  {
   "cell_type": "code",
   "execution_count": 6,
   "metadata": {},
   "outputs": [],
   "source": [
    "neg = get_time_distribution(df[df.sentiment == 'NEGATIVE']['published'])\n",
    "neut = get_time_distribution(df[df.sentiment == 'NEUTRAL']['published'])\n",
    "pos = get_time_distribution(df[df.sentiment == 'POSITIVE']['published'])"
   ]
  },
  {
   "cell_type": "code",
   "execution_count": 7,
   "metadata": {},
   "outputs": [
    {
     "data": {
      "image/png": "[encoded data removed]",
      "text/plain": [
       "<matplotlib.figure.Figure at 0x2e8be1860>"
      ]
     },
     "metadata": {},
     "output_type": "display_data"
    }
   ],
   "source": [
    "plt.plot(neg)\n",
    "plt.plot(neut)\n",
    "plt.plot(pos)\n",
    "plt.legend(['negative', 'neutral', 'positive'])\n",
    "plt.show()"
   ]
  },
  {
   "cell_type": "code",
   "execution_count": null,
   "metadata": {},
   "outputs": [],
   "source": [
    "def get_yearly(times):\n",
    "    publishing_time = times.map(lambda x: x.month).value_counts() / times.count()\n",
    "#     publishing_time.sort_index(inplace=True)\n",
    "    return publishing_time"
   ]
  },
  {
   "cell_type": "code",
   "execution_count": null,
   "metadata": {},
   "outputs": [],
   "source": [
    "total_y = get_yearly(df.published)\n",
    "neg_y = get_yearly(df[df.sentiment == 'NEGATIVE']['published'])\n",
    "neut_y = get_yearly(df[df.sentiment == 'NEUTRAL']['published'])\n",
    "pos_y = get_yearly(df[df.sentiment == 'POSITIVE']['published'])"
   ]
  },
  {
   "cell_type": "code",
   "execution_count": null,
   "metadata": {},
   "outputs": [],
   "source": [
    "#the way spinner collected the tweets indicated that there is a difference in the frequency od tweets\n",
    "sns.tsplot(data=neg_y, color='Purples')\n",
    "sns.tsplot(data=pos_y, color='Reds')\n",
    "sns.tsplot(data=neut_y)\n",
    "plt.legend(['negative', 'positive', 'neutral'])\n",
    "plt.show()"
   ]
  },
  {
   "cell_type": "markdown",
   "metadata": {},
   "source": [
    "How the f are we supposed to deal with such an unequally distribued dataset????"
   ]
  },
  {
   "cell_type": "code",
   "execution_count": null,
   "metadata": {},
   "outputs": [],
   "source": [
    "df.author_user_id.isnull().value_counts()"
   ]
  },
  {
   "cell_type": "code",
   "execution_count": null,
   "metadata": {},
   "outputs": [],
   "source": [
    "df.geo_point.isnull().value_counts()"
   ]
  },
  {
   "cell_type": "code",
   "execution_count": null,
   "metadata": {},
   "outputs": [],
   "source": [
    "df.source_location.isnull().value_counts()"
   ]
  },
  {
   "cell_type": "code",
   "execution_count": null,
   "metadata": {},
   "outputs": [],
   "source": [
    "import folium\n",
    "from folium.plugins import MarkerCluster"
   ]
  },
  {
   "cell_type": "code",
   "execution_count": null,
   "metadata": {},
   "outputs": [],
   "source": [
    "def process_location_data(df):\n",
    "    \"\"\"preprocessed data in format as found on cluster:\n",
    "    df: dataframe, locations should be in 'geo_point'\n",
    "    \"\"\"\n",
    "    non_null = df[~df.geo_point.isnull()]\n",
    "    virgule = non_null[non_null.geo_point.str.contains(',')].geo_point.str.split(pat=',', expand=True).applymap(float)\n",
    "    no_virgule = non_null[~non_null.geo_point.str.contains(',')].geo_point.str.split(expand=True).applymap(float)\n",
    "    return pd.concat([virgule, no_virgule])\n",
    "    \n",
    "\n",
    "\n",
    "def build_map(location):\n",
    "    \"\"\"build swiss location map\n",
    "    location: dataframe, locations must of type [lat, long]'\n",
    "    note: location should not contain more than 5000 locations, otherwise buggy\n",
    "    \"\"\"\n",
    "    SWISS_COORD = [46.85, 8.23] #location of switzerland\n",
    "    swiss_map = folium.Map(location = SWISS_COORD, zoom_start = 8, tiles = 'cartodbpositron')\n",
    "    marker_cluster = MarkerCluster().add_to(swiss_map)\n",
    "    for each in location.iterrows():\n",
    "        folium.Marker([each[1][0],each[1][1]], ).add_to(marker_cluster)\n",
    "    return swiss_map"
   ]
  },
  {
   "cell_type": "code",
   "execution_count": null,
   "metadata": {},
   "outputs": [],
   "source": [
    "locations = process_location_data(df)"
   ]
  },
  {
   "cell_type": "code",
   "execution_count": null,
   "metadata": {},
   "outputs": [],
   "source": [
    "swiss_map = build_map(location=locations.head())"
   ]
  },
  {
   "cell_type": "code",
   "execution_count": null,
   "metadata": {
    "scrolled": false
   },
   "outputs": [],
   "source": [
    "swiss_map"
   ]
  }
 ],
 "metadata": {
  "kernelspec": {
   "display_name": "Python [default]",
   "language": "python",
   "name": "python3"
  },
  "language_info": {
   "codemirror_mode": {
    "name": "ipython",
    "version": 3
   },
   "file_extension": ".py",
   "mimetype": "text/x-python",
   "name": "python",
   "nbconvert_exporter": "python",
   "pygments_lexer": "ipython3",
   "version": "3.6.1"
  }
 },
 "nbformat": 4,
 "nbformat_minor": 2
}
